{
  "cells": [
    {
      "cell_type": "markdown",
      "metadata": {
        "colab_type": "text",
        "id": "view-in-github"
      },
      "source": []
    },
    {
      "cell_type": "markdown",
      "metadata": {
        "id": "CYDlMmDJA9Ef"
      },
      "source": [
        "## **Setting working space**"
      ]
    },
    {
      "cell_type": "markdown",
      "metadata": {},
      "source": [
        "You can either launch a Codespace based on this repository or run the project locally on your machine.\n",
        "\n",
        "* **codespace**: Quick and easy to get started. Ideal for initial exploration, but may limit your ability to run custom experiments later on.\n",
        "\n",
        "* **local**: Requires some setup and may involve troubleshooting environment issues, but gives you full control. Recommended if you plan to use your own data or customize the workflow later.\n",
        "\n"
      ]
    },
    {
      "cell_type": "markdown",
      "metadata": {},
      "source": [
        "Here is how to go for each of those two cases."
      ]
    },
    {
      "cell_type": "markdown",
      "metadata": {},
      "source": [
        "### Build a codespace"
      ]
    },
    {
      "cell_type": "markdown",
      "metadata": {},
      "source": [
        "To fire a codespace, you will need a GitHub account and then jump to our [GitHub repo](https://github.com/hariszaf/metabolic_toy_model/tree/sampling)\n",
        "\n",
        "\n",
        "[https://github.com/codespaces/](https://github.com/codespaces/)."
      ]
    },
    {
      "cell_type": "markdown",
      "metadata": {},
      "source": [
        "From the top-right of your screen, create a *\"New codespace\"*, and then on the *Repository* box, start typing `hariszaf/metabolic_toy_model`.\n",
        "\n",
        "Select the repository and then switch the *Branch* box to the one called `sampling`."
      ]
    },
    {
      "cell_type": "markdown",
      "metadata": {},
      "source": [
        "![](files/figs/)"
      ]
    },
    {
      "cell_type": "markdown",
      "metadata": {},
      "source": [
        "The [`devcontainer.json`](.devcontainer/devcontainer.json) describes the configuration of the codespace to be built. \n",
        "\n",
        "If you pay close attention, you will realise what you would need to make sure for your local build (see next paragraph)."
      ]
    },
    {
      "cell_type": "markdown",
      "metadata": {
        "id": "zHIeoK6DBQSm"
      },
      "source": [
        "### **Creating a Conda environment**"
      ]
    },
    {
      "cell_type": "markdown",
      "metadata": {},
      "source": [
        "> All commands on the notebooks starting with a `!` are bash commands and you can also run them from your terminal, as long as you are in the correct directory."
      ]
    },
    {
      "cell_type": "markdown",
      "metadata": {
        "id": "azafmdjEBbGl"
      },
      "source": [
        "Here, we assume you have Miniconda or Anaconda installed in your machine. \n",
        "\n",
        "If you don't, you can follow [this tutorial](https://eduand-alvarez.medium.com/setting-up-anaconda-on-your-windows-pc-6e39800c1afb)."
      ]
    },
    {
      "cell_type": "markdown",
      "metadata": {},
      "source": [
        "1. Create a Conda environment using Python 3.10 and a name of your choice; in this example, we'll call our environment `sampling`:"
      ]
    },
    {
      "cell_type": "code",
      "execution_count": null,
      "metadata": {},
      "outputs": [],
      "source": [
        "!conda create -n sampling -y python=3.10"
      ]
    },
    {
      "cell_type": "markdown",
      "metadata": {},
      "source": [
        "2) Activate your environment\n"
      ]
    },
    {
      "cell_type": "code",
      "execution_count": null,
      "metadata": {},
      "outputs": [],
      "source": [
        "!conda activate sampling"
      ]
    },
    {
      "cell_type": "markdown",
      "metadata": {},
      "source": [
        "3. We will be using `dingo` for flux sampling on the solution space of a metabolic model. `dingo` requires `PySPQR`; a module that wraps the [SuiteSparseQR](https://people.engr.tamu.edu/davis/suitesparse.html) decomposition function, but comes with a bunch of hard dependencies, based on your operating system. See [here](https://github.com/yig/PySPQR?tab=readme-ov-file#installation) for more. In the following, we assume you are working on Linux and that you have `sudo` rights:"
      ]
    },
    {
      "cell_type": "code",
      "execution_count": null,
      "metadata": {},
      "outputs": [],
      "source": [
        "!sudo apt-get update -y\n",
        "!sudo apt-get install -y libsuitesparse-dev"
      ]
    },
    {
      "cell_type": "markdown",
      "metadata": {},
      "source": [
        "4. You can now install the Python libraries required:"
      ]
    },
    {
      "cell_type": "code",
      "execution_count": null,
      "metadata": {},
      "outputs": [],
      "source": [
        "!pip install -r requirements.txt"
      ]
    },
    {
      "cell_type": "markdown",
      "metadata": {},
      "source": [
        "5. You are now ready to go for it! In case you are working on VS Code or any other IDLE, make sure to set the kernel of the notebook to the conda environment you just built."
      ]
    },
    {
      "cell_type": "markdown",
      "metadata": {},
      "source": [
        "![kernel](files/figs/kernel.png)"
      ]
    }
  ],
  "metadata": {
    "colab": {
      "authorship_tag": "ABX9TyMow5z/mekV2cUjEnUkTSgZ",
      "include_colab_link": true,
      "provenance": []
    },
    "kernelspec": {
      "display_name": "met_model_ws",
      "language": "python",
      "name": "python3"
    },
    "language_info": {
      "codemirror_mode": {
        "name": "ipython",
        "version": 3
      },
      "file_extension": ".py",
      "mimetype": "text/x-python",
      "name": "python",
      "nbconvert_exporter": "python",
      "pygments_lexer": "ipython3",
      "version": "3.10.16"
    }
  },
  "nbformat": 4,
  "nbformat_minor": 0
}
