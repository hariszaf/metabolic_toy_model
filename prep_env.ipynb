{
  "cells": [
    {
      "cell_type": "markdown",
      "metadata": {
        "colab_type": "text",
        "id": "view-in-github"
      },
      "source": [
        "<a href=\"https://colab.research.google.com/github/hariszaf/metabolic_toy_model/blob/main/Antony2025/preparingYourEnvironment.ipynb\" target=\"_parent\"><img src=\"https://colab.research.google.com/assets/colab-badge.svg\" alt=\"Open In Colab\"/></a>"
      ]
    },
    {
      "cell_type": "markdown",
      "metadata": {
        "id": "wwnSfmyjAwM_"
      },
      "source": [
        "# Introduction to metabolic modeling"
      ]
    },
    {
      "cell_type": "markdown",
      "metadata": {},
      "source": [
        "$$\\texttt{Hello friend.}$$\n",
        "\n"
      ]
    },
    {
      "cell_type": "markdown",
      "metadata": {},
      "source": [
        "During this workshop, we will go through the fundamentals of metabolic modeling and constraint-based analysis. \n",
        "\n",
        "Before we lunch, please take some time to make sure you set the environment we will work in. \n",
        "This can either be:\n",
        "* **localhost**, i.e., on your computer, by cloning this repo and building a `conda` environment, or \n",
        "* **codespace**, i.e., on GitHub cloud, by following the instructions on this paragraph [here](#build-codespace-optional)\n",
        "\n",
        "In both cases, you will create the same `conda` environment. \n",
        "\n",
        "If you have any issues on setting your environment, feel free to either [open an issue](https://github.com/hariszaf/metabolic_toy_model/issues/new) or [contact me](mailto:haris.zafeiropoulos@kuleuven.be) directy via email."
      ]
    },
    {
      "cell_type": "markdown",
      "metadata": {
        "id": "CYDlMmDJA9Ef"
      },
      "source": [
        "## **Preparing for the workshop**"
      ]
    },
    {
      "cell_type": "markdown",
      "metadata": {},
      "source": [
        "Choose whether you prefer to work on codespace or on your local environment. \n",
        "\n",
        "* `codespace`: easier to work during the workshop, everyone will have the exact same environment; Gurobi Web License (WLS), you can use it up to 1 month, then you have to renew it.\n",
        "* `local`: control is now on your hands, academic `gurobi` license, i.e. you do it once and  you can use it up to 1 year"
      ]
    },
    {
      "cell_type": "markdown",
      "metadata": {},
      "source": [
        "> All commands on the notebooks starting with a `!` are bash commands and you can also run them from your terminal, as long as you are in the correct directory."
      ]
    },
    {
      "cell_type": "markdown",
      "metadata": {},
      "source": [
        "### Build codespace (optional)"
      ]
    },
    {
      "cell_type": "markdown",
      "metadata": {},
      "source": [
        "To fire a codespace, you will need a GitHub account and then jump to [https://github.com/codespaces/](https://github.com/codespaces/)."
      ]
    },
    {
      "cell_type": "markdown",
      "metadata": {},
      "source": [
        "From the top-right of your screen, create a *\"New codespace\"*, and then on the *Repository* box, start typing `hariszaf/metabolic_toy_model`.\n",
        "\n",
        "Select the repository and then switch the *Branch* box to the one called `duth`."
      ]
    },
    {
      "cell_type": "markdown",
      "metadata": {},
      "source": [
        "![](files/figs/codespace-ws.png)"
      ]
    },
    {
      "cell_type": "markdown",
      "metadata": {
        "id": "zHIeoK6DBQSm"
      },
      "source": [
        "### **Creating a Conda environment**"
      ]
    },
    {
      "cell_type": "markdown",
      "metadata": {
        "id": "azafmdjEBbGl"
      },
      "source": [
        "Here, I assume you have Miniconda or Anaconda installed in your machine. If you don't, follow [this tutorial](https://eduand-alvarez.medium.com/setting-up-anaconda-on-your-windows-pc-6e39800c1afb\n",
        ").\n",
        "\n",
        "In a codespace, conda is already available."
      ]
    },
    {
      "cell_type": "markdown",
      "metadata": {},
      "source": [
        "1. First create a Conda environment called **`met_model_ws`**:"
      ]
    },
    {
      "cell_type": "code",
      "execution_count": null,
      "metadata": {},
      "outputs": [],
      "source": [
        "!conda create -n met_model_ws -y python=3.11.11"
      ]
    },
    {
      "cell_type": "markdown",
      "metadata": {},
      "source": [
        "In case you are in the codespace, you may get a message you need first to `init` conda. In that case, just run:"
      ]
    },
    {
      "cell_type": "code",
      "execution_count": null,
      "metadata": {},
      "outputs": [],
      "source": [
        "!conda init"
      ]
    },
    {
      "cell_type": "markdown",
      "metadata": {},
      "source": [
        "then close this terminal (`ctrl+D`) and fire a new one (``` Ctrl+Shift+` ```)."
      ]
    },
    {
      "cell_type": "markdown",
      "metadata": {},
      "source": [
        "2) Activate your environment\n"
      ]
    },
    {
      "cell_type": "code",
      "execution_count": null,
      "metadata": {},
      "outputs": [],
      "source": [
        "!conda activate met_model_ws"
      ]
    },
    {
      "cell_type": "markdown",
      "metadata": {},
      "source": [
        "3. Install required dependencies"
      ]
    },
    {
      "cell_type": "code",
      "execution_count": null,
      "metadata": {},
      "outputs": [],
      "source": [
        "!pip install -r requirements.txt"
      ]
    },
    {
      "cell_type": "markdown",
      "metadata": {},
      "source": [
        "4. Set the kernel of the notebook to the conda environment you just built"
      ]
    },
    {
      "cell_type": "markdown",
      "metadata": {},
      "source": [
        "![](files/figs/kernel.png)"
      ]
    },
    {
      "cell_type": "markdown",
      "metadata": {},
      "source": [
        "> &#x26a0;&#xfe0f; Remember to check your kernel once you move from a notebook to another!"
      ]
    },
    {
      "cell_type": "markdown",
      "metadata": {},
      "source": [
        "> &#x1F534; In case anything goes funny with your codespace, you can always go back to the main [codespaces](https://github.com/codespaces) page, delete the running one and fire a new one. "
      ]
    },
    {
      "cell_type": "markdown",
      "metadata": {},
      "source": [
        "### Get a Gurobi license"
      ]
    },
    {
      "cell_type": "markdown",
      "metadata": {},
      "source": [
        "A **Genome-scale metabolic model** is essentially a set of linear inequalities, which require [linear programming](https://gatiaher.github.io/projects/intuition-for-linear-programming/) to **solve**.\n",
        "\n",
        "\n",
        "[Guroby](https://www.gurobi.com/) is a commersial linear solver that is free for academic usage.\n",
        "\n",
        "You can generate a free academic license by following the steps in the [**Academic**](https://www.gurobi.com/academia/academic-program-and-licenses/) tab while connected to the internet of an academic institution.\n",
        "\n",
        "Here we are sharing a license that will be deactivated a few days after the workshop. Make sure to obtain your own license to be a able to work with the course content in the long term."
      ]
    },
    {
      "cell_type": "markdown",
      "metadata": {},
      "source": [
        "> &#x1F534; To get an academic license, you need to use not only an academic **email** but also, an academic network when you are about to get the license. You can use a VPN if available."
      ]
    },
    {
      "cell_type": "markdown",
      "metadata": {},
      "source": [
        "Before starting our workshop, let us first make sure everyone gets a Gurobi license! \n",
        "\n",
        "> **NOTE**\n",
        ">\n",
        "> You will do this once, and then you will activate the same license, using the same credentials across all the different notebooks. \n"
      ]
    },
    {
      "cell_type": "markdown",
      "metadata": {},
      "source": [
        "* If you already have a Gurobi account, click [here](https://portal.gurobi.com/iam/login/) and log-in\n",
        "\n",
        "* If you do not have an account, you need first to [register](https://portal.gurobi.com/iam/register/). \n",
        "\n",
        "Please do so, and let us know when you are logged-in."
      ]
    },
    {
      "cell_type": "markdown",
      "metadata": {},
      "source": [
        "Once you are logged-in, you need to make sure you get a Web License Service (WLS) academic license.\n",
        "\n",
        "To do so, first click on the **Licenses** button on the left and then on the **Request**.\n",
        "\n",
        "![request](./Antony2025/files/figs/gurobi/request.png)"
      ]
    },
    {
      "cell_type": "markdown",
      "metadata": {},
      "source": [
        "From the licenses that pop-up, select the WLS option\n",
        "\n",
        "![request wls](./Antony2025/files/figs/gurobi/request_wls.png)"
      ]
    },
    {
      "cell_type": "markdown",
      "metadata": {},
      "source": [
        "Once you are authorized with that, you click on the **Licenses** button again and you should now have at least one license there. \n",
        "If you already have a WLS, Gurobi would not let you get a second one. However, you can get several Named-User Academic licenses. \n",
        "\n",
        "![licenses overview](./Antony2025/files/figs/gurobi/licenses.png)\n",
        "\n"
      ]
    },
    {
      "cell_type": "markdown",
      "metadata": {},
      "source": [
        "Finally, by clicking on the open on the Web License Manager button, you will see an overview of your license like this:\n",
        "\n",
        "![download](./Antony2025/files/figs/gurobi/download.png)\n",
        "\n",
        "You now have to Download the license, give any name and description of your choice and click download. \n",
        "This will bring locally on your computer a `gurobi.lic` file. \n",
        "\n",
        "Open it with any text editor of your choice and this should look like this:\n",
        "\n",
        "```\n",
        "(base) u0156635@gbw-l-l0074:gurobi$ cat gurobi_wlm.lic \n",
        "# Gurobi WLS license file\n",
        "# Your credentials are private and should not be shared or copied to public repo\n",
        "sitories.\n",
        "# Visit https://license.gurobi.com/manager/doc/overview for more information.\n",
        "WLSACCESSID=...\n",
        "WLSSECRET=...\n",
        "LICENSEID=...\n",
        "```"
      ]
    },
    {
      "cell_type": "markdown",
      "metadata": {},
      "source": [
        "#### Gurobi on GitHub Codespace"
      ]
    },
    {
      "cell_type": "markdown",
      "metadata": {},
      "source": [
        "Type of license: Gurobi Web License (WLS)"
      ]
    },
    {
      "cell_type": "code",
      "execution_count": null,
      "metadata": {},
      "outputs": [],
      "source": [
        "import os\n",
        "# Create directory for the license\n",
        "os.makedirs(\"licenses\", exist_ok=True)\n",
        "\n",
        "# Function to make sure you can use Gurobi on Colab\n",
        "def create_gurobi_license(WLSACCESSID, WLSSECRET, LICENSEID):\n",
        "    license_content = (\n",
        "        \"# Gurobi WLS license file\\n\"\n",
        "        \"# Your credentials are private and should not be shared or copied to public repositories.\\n\"\n",
        "        \"# Visit https://license.gurobi.com/manager/doc/overview for more information.\\n\"\n",
        "        f\"WLSACCESSID={WLSACCESSID}\\n\"\n",
        "        f\"WLSSECRET={WLSSECRET}\\n\"\n",
        "        f\"LICENSEID={LICENSEID}\"\n",
        "    )\n",
        "    with open(\"licenses/gurobi.lic\", \"w\") as f:\n",
        "        f.write(license_content)\n",
        "    print(\"License file created at licenses/gurobi.lic\")\n"
      ]
    },
    {
      "cell_type": "markdown",
      "metadata": {},
      "source": [
        "> &#x1F534; Fill in  `WLSACCESSID`, `WLSSECRET`, `LICENSEID`, with your credentials.\n",
        "\n"
      ]
    },
    {
      "cell_type": "code",
      "execution_count": null,
      "metadata": {},
      "outputs": [],
      "source": [
        "# WLSACCESSID=\"d5419c87-0d36-4a93-9385-773f5483b3c1\"\n",
        "# WLSSECRET=\"afa5d95f-ad0b-4a38-9550-a8913aacb7c0\"\n",
        "# LICENSEID=\"964844\"\n",
        "\n",
        "WLSACCESSID=\"cc3447b4-ad86-4542-98e3-3213c37b799e\"\n",
        "WLSSECRET=\"51a40c73-6f0d-49eb-866b-9966111a2e86\"\n",
        "LICENSEID=\"964844\""
      ]
    },
    {
      "cell_type": "code",
      "execution_count": null,
      "metadata": {},
      "outputs": [],
      "source": [
        "create_gurobi_license(WLSACCESSID, WLSSECRET, LICENSEID)"
      ]
    },
    {
      "cell_type": "markdown",
      "metadata": {},
      "source": [
        "To make sure Gurobi is now available and up-and-running with your Python, let us build an empty `gurobi.Model` instance."
      ]
    },
    {
      "cell_type": "code",
      "execution_count": null,
      "metadata": {},
      "outputs": [],
      "source": [
        "import gurobipy as gbp\n",
        "\n",
        "model = gbp.Model(\"test\")\n",
        "print(\"Gurobi is working!\", \"\\U0001F600\")"
      ]
    },
    {
      "cell_type": "markdown",
      "metadata": {},
      "source": [
        "**Remember!**\n",
        "\n",
        "On codespace, you need to run this in the beginning of each notebook/script you are about to use:\n",
        "\n",
        "```\n",
        "os.environ['GRB_LICENSE_FILE'] = 'licenses/gurobi.lic'\n",
        "```"
      ]
    },
    {
      "cell_type": "markdown",
      "metadata": {},
      "source": [
        "#### Gurobi localhost"
      ]
    },
    {
      "cell_type": "markdown",
      "metadata": {},
      "source": [
        "Instead of geting the WLS, go for an academic license. \n",
        "Make sure your `PATH` can *see* your `gurobi.lic` file.\n",
        "\n",
        "Like in the codespace case, make sure you have Gurobi up-and-running on your Python by building an empty model."
      ]
    },
    {
      "cell_type": "code",
      "execution_count": null,
      "metadata": {},
      "outputs": [],
      "source": [
        "import gurobipy as gbp\n",
        "\n",
        "model = gbp.Model(\"test\")\n",
        "print(\"Gurobi is working!\", \"\\U0001F600\")"
      ]
    },
    {
      "cell_type": "markdown",
      "metadata": {
        "id": "4TwbSOMIfeXa"
      },
      "source": [
        "Make sure the solver being used is **Gurobi**"
      ]
    },
    {
      "cell_type": "code",
      "execution_count": null,
      "metadata": {
        "colab": {
          "base_uri": "https://localhost:8080/"
        },
        "id": "WdgjvFcRft8Y",
        "outputId": "df77ab78-9af0-4344-d7d0-73df13152bb5"
      },
      "outputs": [],
      "source": [
        "import cobra\n",
        "cmodel = cobra.io.read_sbml_model(\"files/models/e_coli_core.xml\")"
      ]
    },
    {
      "cell_type": "code",
      "execution_count": null,
      "metadata": {},
      "outputs": [],
      "source": [
        "cmodel.solver"
      ]
    },
    {
      "cell_type": "code",
      "execution_count": null,
      "metadata": {},
      "outputs": [],
      "source": [
        "cmodel.solver = \"gurobi\""
      ]
    },
    {
      "cell_type": "code",
      "execution_count": null,
      "metadata": {},
      "outputs": [],
      "source": [
        "cmodel.solver"
      ]
    }
  ],
  "metadata": {
    "colab": {
      "authorship_tag": "ABX9TyMow5z/mekV2cUjEnUkTSgZ",
      "include_colab_link": true,
      "provenance": []
    },
    "kernelspec": {
      "display_name": "met_model_ws",
      "language": "python",
      "name": "python3"
    },
    "language_info": {
      "codemirror_mode": {
        "name": "ipython",
        "version": 3
      },
      "file_extension": ".py",
      "mimetype": "text/x-python",
      "name": "python",
      "nbconvert_exporter": "python",
      "pygments_lexer": "ipython3",
      "version": "3.11.11"
    }
  },
  "nbformat": 4,
  "nbformat_minor": 0
}
