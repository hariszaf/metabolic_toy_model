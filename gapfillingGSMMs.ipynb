{
  "cells": [
    {
      "cell_type": "markdown",
      "metadata": {
        "id": "view-in-github",
        "colab_type": "text"
      },
      "source": [
        "<a href=\"https://colab.research.google.com/github/hariszaf/metabolic_toy_model/blob/main/gapfillingGSMMs.ipynb\" target=\"_parent\"><img src=\"https://colab.research.google.com/assets/colab-badge.svg\" alt=\"Open In Colab\"/></a>"
      ]
    },
    {
      "cell_type": "markdown",
      "metadata": {
        "id": "u2wfZmrxxAaJ"
      },
      "source": [
        "# **Gapfilling Genome-Scale Metabolic Models with DNNGIOR**"
      ]
    },
    {
      "cell_type": "code",
      "source": [
        "# @title Install packages and setup license [note: I am not sure if this needs to be done every time]\n",
        "!pip install cobra\n",
        "!pip install dnngior --no-deps"
      ],
      "metadata": {
        "colab": {
          "base_uri": "https://localhost:8080/"
        },
        "id": "dpzmKk5RcwjT",
        "outputId": "5b72799a-49c2-4589-deeb-77b51580ea32"
      },
      "execution_count": 1,
      "outputs": [
        {
          "output_type": "stream",
          "name": "stdout",
          "text": [
            "Collecting cobra\n",
            "  Downloading cobra-0.29.1-py2.py3-none-any.whl.metadata (9.3 kB)\n",
            "Collecting appdirs~=1.4 (from cobra)\n",
            "  Downloading appdirs-1.4.4-py2.py3-none-any.whl.metadata (9.0 kB)\n",
            "Collecting depinfo~=2.2 (from cobra)\n",
            "  Downloading depinfo-2.2.0-py3-none-any.whl.metadata (3.8 kB)\n",
            "Collecting diskcache~=5.0 (from cobra)\n",
            "  Downloading diskcache-5.6.3-py3-none-any.whl.metadata (20 kB)\n",
            "Requirement already satisfied: future in /usr/local/lib/python3.11/dist-packages (from cobra) (1.0.0)\n",
            "Requirement already satisfied: httpx~=0.24 in /usr/local/lib/python3.11/dist-packages (from cobra) (0.28.1)\n",
            "Requirement already satisfied: importlib-resources in /usr/local/lib/python3.11/dist-packages (from cobra) (6.5.2)\n",
            "Requirement already satisfied: numpy>=1.13 in /usr/local/lib/python3.11/dist-packages (from cobra) (1.26.4)\n",
            "Collecting optlang~=1.8 (from cobra)\n",
            "  Downloading optlang-1.8.3-py2.py3-none-any.whl.metadata (8.2 kB)\n",
            "Requirement already satisfied: pandas<3.0,>=1.0 in /usr/local/lib/python3.11/dist-packages (from cobra) (2.2.2)\n",
            "Requirement already satisfied: pydantic>=1.6 in /usr/local/lib/python3.11/dist-packages (from cobra) (2.10.6)\n",
            "Collecting python-libsbml~=5.19 (from cobra)\n",
            "  Downloading python_libsbml-5.20.4-cp311-cp311-manylinux_2_17_x86_64.manylinux2014_x86_64.whl.metadata (532 bytes)\n",
            "Requirement already satisfied: rich>=8.0 in /usr/local/lib/python3.11/dist-packages (from cobra) (13.9.4)\n",
            "Collecting ruamel.yaml~=0.16 (from cobra)\n",
            "  Downloading ruamel.yaml-0.18.10-py3-none-any.whl.metadata (23 kB)\n",
            "Collecting swiglpk (from cobra)\n",
            "  Downloading swiglpk-5.0.12-cp311-cp311-manylinux_2_17_x86_64.manylinux2014_x86_64.whl.metadata (5.5 kB)\n",
            "Requirement already satisfied: anyio in /usr/local/lib/python3.11/dist-packages (from httpx~=0.24->cobra) (3.7.1)\n",
            "Requirement already satisfied: certifi in /usr/local/lib/python3.11/dist-packages (from httpx~=0.24->cobra) (2025.1.31)\n",
            "Requirement already satisfied: httpcore==1.* in /usr/local/lib/python3.11/dist-packages (from httpx~=0.24->cobra) (1.0.7)\n",
            "Requirement already satisfied: idna in /usr/local/lib/python3.11/dist-packages (from httpx~=0.24->cobra) (3.10)\n",
            "Requirement already satisfied: h11<0.15,>=0.13 in /usr/local/lib/python3.11/dist-packages (from httpcore==1.*->httpx~=0.24->cobra) (0.14.0)\n",
            "Requirement already satisfied: sympy>=1.12.0 in /usr/local/lib/python3.11/dist-packages (from optlang~=1.8->cobra) (1.13.1)\n",
            "Requirement already satisfied: python-dateutil>=2.8.2 in /usr/local/lib/python3.11/dist-packages (from pandas<3.0,>=1.0->cobra) (2.8.2)\n",
            "Requirement already satisfied: pytz>=2020.1 in /usr/local/lib/python3.11/dist-packages (from pandas<3.0,>=1.0->cobra) (2025.1)\n",
            "Requirement already satisfied: tzdata>=2022.7 in /usr/local/lib/python3.11/dist-packages (from pandas<3.0,>=1.0->cobra) (2025.1)\n",
            "Requirement already satisfied: annotated-types>=0.6.0 in /usr/local/lib/python3.11/dist-packages (from pydantic>=1.6->cobra) (0.7.0)\n",
            "Requirement already satisfied: pydantic-core==2.27.2 in /usr/local/lib/python3.11/dist-packages (from pydantic>=1.6->cobra) (2.27.2)\n",
            "Requirement already satisfied: typing-extensions>=4.12.2 in /usr/local/lib/python3.11/dist-packages (from pydantic>=1.6->cobra) (4.12.2)\n",
            "Requirement already satisfied: markdown-it-py>=2.2.0 in /usr/local/lib/python3.11/dist-packages (from rich>=8.0->cobra) (3.0.0)\n",
            "Requirement already satisfied: pygments<3.0.0,>=2.13.0 in /usr/local/lib/python3.11/dist-packages (from rich>=8.0->cobra) (2.18.0)\n",
            "Collecting ruamel.yaml.clib>=0.2.7 (from ruamel.yaml~=0.16->cobra)\n",
            "  Downloading ruamel.yaml.clib-0.2.12-cp311-cp311-manylinux_2_17_x86_64.manylinux2014_x86_64.whl.metadata (2.7 kB)\n",
            "Requirement already satisfied: mdurl~=0.1 in /usr/local/lib/python3.11/dist-packages (from markdown-it-py>=2.2.0->rich>=8.0->cobra) (0.1.2)\n",
            "Requirement already satisfied: six>=1.5 in /usr/local/lib/python3.11/dist-packages (from python-dateutil>=2.8.2->pandas<3.0,>=1.0->cobra) (1.17.0)\n",
            "Requirement already satisfied: mpmath<1.4,>=1.1.0 in /usr/local/lib/python3.11/dist-packages (from sympy>=1.12.0->optlang~=1.8->cobra) (1.3.0)\n",
            "Requirement already satisfied: sniffio>=1.1 in /usr/local/lib/python3.11/dist-packages (from anyio->httpx~=0.24->cobra) (1.3.1)\n",
            "Downloading cobra-0.29.1-py2.py3-none-any.whl (1.2 MB)\n",
            "\u001b[2K   \u001b[90m━━━━━━━━━━━━━━━━━━━━━━━━━━━━━━━━━━━━━━━━\u001b[0m \u001b[32m1.2/1.2 MB\u001b[0m \u001b[31m16.1 MB/s\u001b[0m eta \u001b[36m0:00:00\u001b[0m\n",
            "\u001b[?25hDownloading appdirs-1.4.4-py2.py3-none-any.whl (9.6 kB)\n",
            "Downloading depinfo-2.2.0-py3-none-any.whl (24 kB)\n",
            "Downloading diskcache-5.6.3-py3-none-any.whl (45 kB)\n",
            "\u001b[2K   \u001b[90m━━━━━━━━━━━━━━━━━━━━━━━━━━━━━━━━━━━━━━━━\u001b[0m \u001b[32m45.5/45.5 kB\u001b[0m \u001b[31m1.7 MB/s\u001b[0m eta \u001b[36m0:00:00\u001b[0m\n",
            "\u001b[?25hDownloading optlang-1.8.3-py2.py3-none-any.whl (141 kB)\n",
            "\u001b[2K   \u001b[90m━━━━━━━━━━━━━━━━━━━━━━━━━━━━━━━━━━━━━━━━\u001b[0m \u001b[32m141.8/141.8 kB\u001b[0m \u001b[31m6.7 MB/s\u001b[0m eta \u001b[36m0:00:00\u001b[0m\n",
            "\u001b[?25hDownloading python_libsbml-5.20.4-cp311-cp311-manylinux_2_17_x86_64.manylinux2014_x86_64.whl (8.0 MB)\n",
            "\u001b[2K   \u001b[90m━━━━━━━━━━━━━━━━━━━━━━━━━━━━━━━━━━━━━━━━\u001b[0m \u001b[32m8.0/8.0 MB\u001b[0m \u001b[31m26.7 MB/s\u001b[0m eta \u001b[36m0:00:00\u001b[0m\n",
            "\u001b[?25hDownloading ruamel.yaml-0.18.10-py3-none-any.whl (117 kB)\n",
            "\u001b[2K   \u001b[90m━━━━━━━━━━━━━━━━━━━━━━━━━━━━━━━━━━━━━━━━\u001b[0m \u001b[32m117.7/117.7 kB\u001b[0m \u001b[31m3.9 MB/s\u001b[0m eta \u001b[36m0:00:00\u001b[0m\n",
            "\u001b[?25hDownloading swiglpk-5.0.12-cp311-cp311-manylinux_2_17_x86_64.manylinux2014_x86_64.whl (2.3 MB)\n",
            "\u001b[2K   \u001b[90m━━━━━━━━━━━━━━━━━━━━━━━━━━━━━━━━━━━━━━━━\u001b[0m \u001b[32m2.3/2.3 MB\u001b[0m \u001b[31m27.0 MB/s\u001b[0m eta \u001b[36m0:00:00\u001b[0m\n",
            "\u001b[?25hDownloading ruamel.yaml.clib-0.2.12-cp311-cp311-manylinux_2_17_x86_64.manylinux2014_x86_64.whl (739 kB)\n",
            "\u001b[2K   \u001b[90m━━━━━━━━━━━━━━━━━━━━━━━━━━━━━━━━━━━━━━━━\u001b[0m \u001b[32m739.1/739.1 kB\u001b[0m \u001b[31m26.7 MB/s\u001b[0m eta \u001b[36m0:00:00\u001b[0m\n",
            "\u001b[?25hInstalling collected packages: swiglpk, python-libsbml, appdirs, ruamel.yaml.clib, diskcache, depinfo, ruamel.yaml, optlang, cobra\n",
            "Successfully installed appdirs-1.4.4 cobra-0.29.1 depinfo-2.2.0 diskcache-5.6.3 optlang-1.8.3 python-libsbml-5.20.4 ruamel.yaml-0.18.10 ruamel.yaml.clib-0.2.12 swiglpk-5.0.12\n",
            "Collecting dnngior\n",
            "  Downloading dnngior-0.0.5-py3-none-any.whl.metadata (2.8 kB)\n",
            "Downloading dnngior-0.0.5-py3-none-any.whl (29.2 MB)\n",
            "\u001b[2K   \u001b[90m━━━━━━━━━━━━━━━━━━━━━━━━━━━━━━━━━━━━━━━━\u001b[0m \u001b[32m29.2/29.2 MB\u001b[0m \u001b[31m38.2 MB/s\u001b[0m eta \u001b[36m0:00:00\u001b[0m\n",
            "\u001b[?25hInstalling collected packages: dnngior\n",
            "Successfully installed dnngior-0.0.5\n"
          ]
        }
      ]
    },
    {
      "cell_type": "code",
      "source": [
        "# @title\n",
        "import os\n",
        "def create_gurobi_license():\n",
        "    license_content = (\n",
        "        \"# Gurobi WLS license file\\n\"\n",
        "        \"# Your credentials are private and should not be shared or copied to public repositories.\\n\"\n",
        "        \"# Visit https://license.gurobi.com/manager/doc/overview for more information.\\n\"\n",
        "        \"WLSACCESSID=1fedf73b-9471-4da8-bdc7-2aaacf2e30f3\\n\"\n",
        "        \"WLSSECRET=3bc7d209-a4ec-4195-98be-4b254f181512\\n\"\n",
        "        \"LICENSEID=940603\"\n",
        "    )\n",
        "    with open(\"/content/licenses/gurobi.lic\", \"w\") as f:\n",
        "        f.write(license_content)\n",
        "    print(\"License file created at /content/licenses/gurobi.lic\")\n",
        "\n",
        "\n",
        "\n",
        "# Create directory for the license\n",
        "os.makedirs(\"/content/licenses\", exist_ok=True)\n",
        "\n",
        "# Generate the license file\n",
        "create_gurobi_license()\n",
        "\n",
        "#add to path\n",
        "os.environ['GRB_LICENSE_FILE'] = '/content/licenses/gurobi.lic'\n",
        "\n",
        "!pip install gurobipy"
      ],
      "metadata": {
        "colab": {
          "base_uri": "https://localhost:8080/"
        },
        "id": "_sqCJuwTdLKG",
        "outputId": "a89b7b7d-cba3-46a9-e736-ae2899977aad",
        "cellView": "form"
      },
      "execution_count": 2,
      "outputs": [
        {
          "output_type": "stream",
          "name": "stdout",
          "text": [
            "License file created at /content/licenses/gurobi.lic\n",
            "Collecting gurobipy\n",
            "  Downloading gurobipy-12.0.1-cp311-cp311-manylinux2014_x86_64.manylinux_2_17_x86_64.whl.metadata (16 kB)\n",
            "Downloading gurobipy-12.0.1-cp311-cp311-manylinux2014_x86_64.manylinux_2_17_x86_64.whl (14.4 MB)\n",
            "\u001b[2K   \u001b[90m━━━━━━━━━━━━━━━━━━━━━━━━━━━━━━━━━━━━━━━━\u001b[0m \u001b[32m14.4/14.4 MB\u001b[0m \u001b[31m93.6 MB/s\u001b[0m eta \u001b[36m0:00:00\u001b[0m\n",
            "\u001b[?25hInstalling collected packages: gurobipy\n",
            "\u001b[31mERROR: pip's dependency resolver does not currently take into account all the packages that are installed. This behaviour is the source of the following dependency conflicts.\n",
            "dnngior 0.0.5 requires cobra<=0.23.0, but you have cobra 0.29.1 which is incompatible.\n",
            "dnngior 0.0.5 requires gurobipy<11.0.0,>=10.0.1, but you have gurobipy 12.0.1 which is incompatible.\u001b[0m\u001b[31m\n",
            "\u001b[0mSuccessfully installed gurobipy-12.0.1\n"
          ]
        }
      ]
    },
    {
      "cell_type": "code",
      "source": [
        "# @title setup google drive [This was easier for me]\n",
        "from google.colab import drive\n",
        "drive.mount('/content/drive/')\n"
      ],
      "metadata": {
        "colab": {
          "base_uri": "https://localhost:8080/"
        },
        "id": "1S-0-ShJcWnU",
        "outputId": "8a2a91a2-a934-427c-f250-024e911f3d6d"
      },
      "execution_count": 3,
      "outputs": [
        {
          "output_type": "stream",
          "name": "stdout",
          "text": [
            "Mounted at /content/drive/\n"
          ]
        }
      ]
    },
    {
      "cell_type": "code",
      "source": [
        "cd /content/drive/MyDrive/Antony/"
      ],
      "metadata": {
        "colab": {
          "base_uri": "https://localhost:8080/"
        },
        "id": "9j5c3jhozpW9",
        "outputId": "17e08df5-0b63-422b-b31d-3c59fa5167b5"
      },
      "execution_count": 4,
      "outputs": [
        {
          "output_type": "stream",
          "name": "stdout",
          "text": [
            "/content/drive/MyDrive/Antony\n"
          ]
        }
      ]
    },
    {
      "cell_type": "markdown",
      "metadata": {
        "id": "HZVTBTTVcSAQ"
      },
      "source": [
        "General dependencies needed"
      ]
    },
    {
      "cell_type": "code",
      "execution_count": 5,
      "metadata": {
        "id": "-Ajq7ymow_oo"
      },
      "outputs": [],
      "source": [
        "from cobra.io import read_sbml_model\n",
        "import pandas as pd"
      ]
    },
    {
      "cell_type": "markdown",
      "source": [
        "For this tutorial we require both the Gapfilling class and the NN_Predictor class from the dnngior package:"
      ],
      "metadata": {
        "id": "k-ozdpj5zCLu"
      }
    },
    {
      "cell_type": "code",
      "source": [
        "from dnngior.gapfill_class import Gapfill\n",
        "from dnngior.NN_Predictor import NN"
      ],
      "metadata": {
        "id": "Gr0SlKD9zDqz"
      },
      "execution_count": 7,
      "outputs": []
    },
    {
      "cell_type": "markdown",
      "source": [
        "# Gap-filling the draft Genome Scale Metabolic Model"
      ],
      "metadata": {
        "id": "uz6hI0eN0AJG"
      }
    },
    {
      "cell_type": "markdown",
      "metadata": {
        "id": "uX_HQACicSAS"
      },
      "source": [
        "In this tutorial we will learn how you can gap-fill models using the dnngior package.\n",
        "\n",
        "Let's start with getting the Bifidobacterium model we have been working with last time."
      ]
    },
    {
      "cell_type": "code",
      "execution_count": 8,
      "metadata": {
        "colab": {
          "base_uri": "https://localhost:8080/",
          "height": 222
        },
        "id": "UpgM7rDtcSAS",
        "outputId": "5e5bd831-d4b7-4522-e831-cf825b4dbaf2"
      },
      "outputs": [
        {
          "output_type": "execute_result",
          "data": {
            "text/plain": [
              "<cobra.summary.model_summary.ModelSummary at 0x7d5c0a42b310>"
            ],
            "text/html": [
              "<h3>Objective</h3><p>1.0 bio1 = 0.0</p><h4>Uptake</h4><table border=\"1\" class=\"dataframe\">\n",
              "  <thead>\n",
              "    <tr style=\"text-align: right;\">\n",
              "      <th>Metabolite</th>\n",
              "      <th>Reaction</th>\n",
              "      <th>Flux</th>\n",
              "      <th>C-Number</th>\n",
              "      <th>C-Flux</th>\n",
              "    </tr>\n",
              "  </thead>\n",
              "  <tbody>\n",
              "  </tbody>\n",
              "</table><h4>Secretion</h4><table border=\"1\" class=\"dataframe\">\n",
              "  <thead>\n",
              "    <tr style=\"text-align: right;\">\n",
              "      <th>Metabolite</th>\n",
              "      <th>Reaction</th>\n",
              "      <th>Flux</th>\n",
              "      <th>C-Number</th>\n",
              "      <th>C-Flux</th>\n",
              "    </tr>\n",
              "  </thead>\n",
              "  <tbody>\n",
              "  </tbody>\n",
              "</table>"
            ]
          },
          "metadata": {},
          "execution_count": 8
        }
      ],
      "source": [
        "path_to_draft_model = \"Bifidobacterium adolescentis_atcc_15703.sbml\"\n",
        "draft_model = read_sbml_model(path_to_draft_model)\n",
        "draft_model.summary()"
      ]
    },
    {
      "cell_type": "markdown",
      "source": [
        "As we establlished before, this model is incomplete and no biomass is produced. If we want to use our model we will need to add new reactions to the draft model from the ModelSEED database.\n",
        "\n",
        "We can do this Using the `Gapfill` class from DNNGIOR, if we just want to use the default settings all we need to do is give the path to the draft model and it will start gap-filling the model.\n",
        "\n",
        "This will take a couple minutes."
      ],
      "metadata": {
        "id": "1m_UyeMOlac7"
      }
    },
    {
      "cell_type": "code",
      "execution_count": 9,
      "metadata": {
        "colab": {
          "base_uri": "https://localhost:8080/"
        },
        "id": "F5--WfHqcSAU",
        "outputId": "4a7fe1a1-1e41-48bb-abb1-310d700d8a78"
      },
      "outputs": [
        {
          "output_type": "stream",
          "name": "stdout",
          "text": [
            "Gap-filling database =  ModelSEED\n"
          ]
        },
        {
          "output_type": "stream",
          "name": "stderr",
          "text": [
            "ERROR:cobra.io.sbml:No objective coefficients in model. Unclear what should be optimized\n"
          ]
        },
        {
          "output_type": "stream",
          "name": "stdout",
          "text": [
            "#reactions not found in NN-keys:  65 / 726\n",
            "Warning for adding constraints: zero or small (< 1e-13) coefficients, ignored\n",
            "Flux through biomass reaction is 1.00000000\n",
            "Flux through biomass reaction is 1.00000000\n",
            "Warning for adding constraints: zero or small (< 1e-13) coefficients, ignored\n",
            "\n",
            "\n",
            " condition is currently:  79156 \n",
            "\n",
            "\n",
            "Warning for adding constraints: zero or small (< 1e-13) coefficients, ignored\n",
            "\n",
            "\n",
            " condition is currently:  39578 \n",
            "\n",
            "\n",
            "Warning for adding constraints: zero or small (< 1e-13) coefficients, ignored\n",
            "\n",
            "\n",
            " condition is currently:  19789 \n",
            "\n",
            "\n",
            "Warning for adding constraints: zero or small (< 1e-13) coefficients, ignored\n",
            "\n",
            "\n",
            " condition is currently:  9894 \n",
            "\n",
            "\n",
            "Warning for adding constraints: zero or small (< 1e-13) coefficients, ignored\n",
            "\n",
            "\n",
            " condition is currently:  4947 \n",
            "\n",
            "\n",
            "Warning for adding constraints: zero or small (< 1e-13) coefficients, ignored\n",
            "\n",
            "\n",
            " condition is currently:  2473 \n",
            "\n",
            "\n",
            "Warning for adding constraints: zero or small (< 1e-13) coefficients, ignored\n",
            "\n",
            "\n",
            " condition is currently:  1236 \n",
            "\n",
            "\n",
            "Warning for adding constraints: zero or small (< 1e-13) coefficients, ignored\n",
            "\n",
            "\n",
            " condition is currently:  618 \n",
            "\n",
            "\n",
            "Warning for adding constraints: zero or small (< 1e-13) coefficients, ignored\n",
            "\n",
            "\n",
            " condition is currently:  309 \n",
            "\n",
            "\n",
            "Warning for adding constraints: zero or small (< 1e-13) coefficients, ignored\n",
            "\n",
            "\n",
            " condition is currently:  154 \n",
            "\n",
            "\n",
            "Warning for adding constraints: zero or small (< 1e-13) coefficients, ignored\n",
            "\n",
            "\n",
            " condition is currently:  77 \n",
            "\n",
            "\n",
            "Warning for adding constraints: zero or small (< 1e-13) coefficients, ignored\n",
            "\n",
            "\n",
            " condition is currently:  38 \n",
            "\n",
            "\n",
            "Warning for adding constraints: zero or small (< 1e-13) coefficients, ignored\n",
            "\n",
            "\n",
            " condition is currently:  19 \n",
            "\n",
            "\n",
            "Warning for adding constraints: zero or small (< 1e-13) coefficients, ignored\n",
            "\n",
            "\n",
            " condition is currently:  9 \n",
            "\n",
            "\n",
            "Warning for adding constraints: zero or small (< 1e-13) coefficients, ignored\n",
            "\n",
            "\n",
            " condition is currently:  4 \n",
            "\n",
            "\n",
            "Warning for adding constraints: zero or small (< 1e-13) coefficients, ignored\n",
            "\n",
            "\n",
            " condition is currently:  2 \n",
            "\n",
            "\n",
            "Warning for adding constraints: zero or small (< 1e-13) coefficients, ignored\n",
            "\n",
            "\n",
            " condition is currently:  1 \n",
            "\n",
            "\n",
            "Objective value is 0.061653.\n",
            "Read LP format model from file /tmp/tmpm6pdgrdn.lp\n",
            "Reading time = 0.01 seconds\n",
            ": 785 rows, 1614 columns, 7118 nonzeros\n",
            "NN gapfilling added 81 new reactions\n",
            "The NN gapfilled model, comes with 807 reactions and 785 metabolites\n"
          ]
        }
      ],
      "source": [
        "gapfill_complete_medium = Gapfill(draftModel = path_to_draft_model)"
      ]
    },
    {
      "cell_type": "markdown",
      "source": [
        "The Gapfill object keeps track of added reactions"
      ],
      "metadata": {
        "id": "n-YG4N-dwJlW"
      }
    },
    {
      "cell_type": "code",
      "execution_count": null,
      "metadata": {
        "colab": {
          "base_uri": "https://localhost:8080/",
          "height": 1000
        },
        "id": "6_aqx0UjcSAU",
        "outputId": "98a5b326-ff71-4f81-da59-093070d2fa9b"
      },
      "outputs": [
        {
          "output_type": "execute_result",
          "data": {
            "text/plain": [
              "<cobra.summary.model_summary.ModelSummary at 0x799886ec6950>"
            ],
            "text/html": [
              "<h3>Objective</h3><p>1.0 bio1 = 61.65259806105102</p><h4>Uptake</h4><table border=\"1\" class=\"dataframe\">\n",
              "  <thead>\n",
              "    <tr style=\"text-align: right;\">\n",
              "      <th>Metabolite</th>\n",
              "      <th>Reaction</th>\n",
              "      <th>Flux</th>\n",
              "      <th>C-Number</th>\n",
              "      <th>C-Flux</th>\n",
              "    </tr>\n",
              "  </thead>\n",
              "  <tbody>\n",
              "    <tr>\n",
              "      <td>cpd00028_e0</td>\n",
              "      <td>EX_cpd00028_e0</td>\n",
              "      <td>0.4434</td>\n",
              "      <td>34</td>\n",
              "      <td>0.07%</td>\n",
              "    </tr>\n",
              "    <tr>\n",
              "      <td>cpd00030_e0</td>\n",
              "      <td>EX_cpd00030_e0</td>\n",
              "      <td>0.4434</td>\n",
              "      <td>0</td>\n",
              "      <td>0.00%</td>\n",
              "    </tr>\n",
              "    <tr>\n",
              "      <td>cpd00034_e0</td>\n",
              "      <td>EX_cpd00034_e0</td>\n",
              "      <td>0.4434</td>\n",
              "      <td>0</td>\n",
              "      <td>0.00%</td>\n",
              "    </tr>\n",
              "    <tr>\n",
              "      <td>cpd00051_e0</td>\n",
              "      <td>EX_cpd00051_e0</td>\n",
              "      <td>11.91</td>\n",
              "      <td>6</td>\n",
              "      <td>0.34%</td>\n",
              "    </tr>\n",
              "    <tr>\n",
              "      <td>cpd00053_e0</td>\n",
              "      <td>EX_cpd00053_e0</td>\n",
              "      <td>358.2</td>\n",
              "      <td>5</td>\n",
              "      <td>8.58%</td>\n",
              "    </tr>\n",
              "    <tr>\n",
              "      <td>cpd00058_e0</td>\n",
              "      <td>EX_cpd00058_e0</td>\n",
              "      <td>0.4434</td>\n",
              "      <td>0</td>\n",
              "      <td>0.00%</td>\n",
              "    </tr>\n",
              "    <tr>\n",
              "      <td>cpd00060_e0</td>\n",
              "      <td>EX_cpd00060_e0</td>\n",
              "      <td>7.219</td>\n",
              "      <td>5</td>\n",
              "      <td>0.17%</td>\n",
              "    </tr>\n",
              "    <tr>\n",
              "      <td>cpd00063_e0</td>\n",
              "      <td>EX_cpd00063_e0</td>\n",
              "      <td>0.4434</td>\n",
              "      <td>0</td>\n",
              "      <td>0.00%</td>\n",
              "    </tr>\n",
              "    <tr>\n",
              "      <td>cpd00065_e0</td>\n",
              "      <td>EX_cpd00065_e0</td>\n",
              "      <td>3.355</td>\n",
              "      <td>11</td>\n",
              "      <td>0.18%</td>\n",
              "    </tr>\n",
              "    <tr>\n",
              "      <td>cpd00066_e0</td>\n",
              "      <td>EX_cpd00066_e0</td>\n",
              "      <td>10.85</td>\n",
              "      <td>9</td>\n",
              "      <td>0.47%</td>\n",
              "    </tr>\n",
              "    <tr>\n",
              "      <td>cpd00067_e0</td>\n",
              "      <td>EX_cpd00067_e0</td>\n",
              "      <td>73.83</td>\n",
              "      <td>0</td>\n",
              "      <td>0.00%</td>\n",
              "    </tr>\n",
              "    <tr>\n",
              "      <td>cpd00069_e0</td>\n",
              "      <td>EX_cpd00069_e0</td>\n",
              "      <td>6.836</td>\n",
              "      <td>9</td>\n",
              "      <td>0.29%</td>\n",
              "    </tr>\n",
              "    <tr>\n",
              "      <td>cpd00082_e0</td>\n",
              "      <td>EX_cpd00082_e0</td>\n",
              "      <td>998.5</td>\n",
              "      <td>6</td>\n",
              "      <td>28.70%</td>\n",
              "    </tr>\n",
              "    <tr>\n",
              "      <td>cpd00099_e0</td>\n",
              "      <td>EX_cpd00099_e0</td>\n",
              "      <td>0.4434</td>\n",
              "      <td>0</td>\n",
              "      <td>0.00%</td>\n",
              "    </tr>\n",
              "    <tr>\n",
              "      <td>cpd00104_e0</td>\n",
              "      <td>EX_cpd00104_e0</td>\n",
              "      <td>0.4434</td>\n",
              "      <td>10</td>\n",
              "      <td>0.02%</td>\n",
              "    </tr>\n",
              "    <tr>\n",
              "      <td>cpd00107_e0</td>\n",
              "      <td>EX_cpd00107_e0</td>\n",
              "      <td>21.39</td>\n",
              "      <td>6</td>\n",
              "      <td>0.61%</td>\n",
              "    </tr>\n",
              "    <tr>\n",
              "      <td>cpd00156_e0</td>\n",
              "      <td>EX_cpd00156_e0</td>\n",
              "      <td>18.94</td>\n",
              "      <td>5</td>\n",
              "      <td>0.45%</td>\n",
              "    </tr>\n",
              "    <tr>\n",
              "      <td>cpd00166_e0</td>\n",
              "      <td>EX_cpd00166_e0</td>\n",
              "      <td>0.4434</td>\n",
              "      <td>72</td>\n",
              "      <td>0.15%</td>\n",
              "    </tr>\n",
              "    <tr>\n",
              "      <td>cpd00205_e0</td>\n",
              "      <td>EX_cpd00205_e0</td>\n",
              "      <td>0.4434</td>\n",
              "      <td>0</td>\n",
              "      <td>0.00%</td>\n",
              "    </tr>\n",
              "    <tr>\n",
              "      <td>cpd00220_e0</td>\n",
              "      <td>EX_cpd00220_e0</td>\n",
              "      <td>0.8867</td>\n",
              "      <td>17</td>\n",
              "      <td>0.07%</td>\n",
              "    </tr>\n",
              "    <tr>\n",
              "      <td>cpd00254_e0</td>\n",
              "      <td>EX_cpd00254_e0</td>\n",
              "      <td>0.4434</td>\n",
              "      <td>0</td>\n",
              "      <td>0.00%</td>\n",
              "    </tr>\n",
              "    <tr>\n",
              "      <td>cpd00264_e0</td>\n",
              "      <td>EX_cpd00264_e0</td>\n",
              "      <td>0.4434</td>\n",
              "      <td>7</td>\n",
              "      <td>0.01%</td>\n",
              "    </tr>\n",
              "    <tr>\n",
              "      <td>cpd00276_e0</td>\n",
              "      <td>EX_cpd00276_e0</td>\n",
              "      <td>1000</td>\n",
              "      <td>6</td>\n",
              "      <td>28.75%</td>\n",
              "    </tr>\n",
              "    <tr>\n",
              "      <td>cpd00305_e0</td>\n",
              "      <td>EX_cpd00305_e0</td>\n",
              "      <td>0.4434</td>\n",
              "      <td>12</td>\n",
              "      <td>0.03%</td>\n",
              "    </tr>\n",
              "    <tr>\n",
              "      <td>cpd00322_e0</td>\n",
              "      <td>EX_cpd00322_e0</td>\n",
              "      <td>16.65</td>\n",
              "      <td>6</td>\n",
              "      <td>0.48%</td>\n",
              "    </tr>\n",
              "    <tr>\n",
              "      <td>cpd01017_e0</td>\n",
              "      <td>EX_cpd01017_e0</td>\n",
              "      <td>3.638</td>\n",
              "      <td>5</td>\n",
              "      <td>0.09%</td>\n",
              "    </tr>\n",
              "    <tr>\n",
              "      <td>cpd01329_e0</td>\n",
              "      <td>EX_cpd01329_e0</td>\n",
              "      <td>166.9</td>\n",
              "      <td>36</td>\n",
              "      <td>28.78%</td>\n",
              "    </tr>\n",
              "    <tr>\n",
              "      <td>cpd02229_e0</td>\n",
              "      <td>EX_cpd02229_e0</td>\n",
              "      <td>0.1907</td>\n",
              "      <td>55</td>\n",
              "      <td>0.05%</td>\n",
              "    </tr>\n",
              "    <tr>\n",
              "      <td>cpd10515_e0</td>\n",
              "      <td>EX_cpd10515_e0</td>\n",
              "      <td>0.8867</td>\n",
              "      <td>0</td>\n",
              "      <td>0.00%</td>\n",
              "    </tr>\n",
              "    <tr>\n",
              "      <td>cpd10516_e0</td>\n",
              "      <td>EX_cpd10516_e0</td>\n",
              "      <td>0.4434</td>\n",
              "      <td>0</td>\n",
              "      <td>0.00%</td>\n",
              "    </tr>\n",
              "    <tr>\n",
              "      <td>cpd11217_e0</td>\n",
              "      <td>EX_cpd11217_e0</td>\n",
              "      <td>0.1612</td>\n",
              "      <td>32</td>\n",
              "      <td>0.02%</td>\n",
              "    </tr>\n",
              "    <tr>\n",
              "      <td>cpd11606_e0</td>\n",
              "      <td>EX_cpd11606_e0</td>\n",
              "      <td>0.6554</td>\n",
              "      <td>46</td>\n",
              "      <td>0.14%</td>\n",
              "    </tr>\n",
              "    <tr>\n",
              "      <td>cpd15311_e0</td>\n",
              "      <td>EX_cpd15311_e0</td>\n",
              "      <td>0.763</td>\n",
              "      <td>39</td>\n",
              "      <td>0.14%</td>\n",
              "    </tr>\n",
              "    <tr>\n",
              "      <td>cpd15511_e0</td>\n",
              "      <td>EX_cpd15511_e0</td>\n",
              "      <td>0.09537</td>\n",
              "      <td>80</td>\n",
              "      <td>0.04%</td>\n",
              "    </tr>\n",
              "    <tr>\n",
              "      <td>cpd15533_e0</td>\n",
              "      <td>EX_cpd15533_e0</td>\n",
              "      <td>1.546</td>\n",
              "      <td>41</td>\n",
              "      <td>0.30%</td>\n",
              "    </tr>\n",
              "    <tr>\n",
              "      <td>cpd15540_e0</td>\n",
              "      <td>EX_cpd15540_e0</td>\n",
              "      <td>4.639</td>\n",
              "      <td>42</td>\n",
              "      <td>0.93%</td>\n",
              "    </tr>\n",
              "    <tr>\n",
              "      <td>cpd15560_e0</td>\n",
              "      <td>EX_cpd15560_e0</td>\n",
              "      <td>0.4434</td>\n",
              "      <td>49</td>\n",
              "      <td>0.10%</td>\n",
              "    </tr>\n",
              "    <tr>\n",
              "      <td>cpd17041_c0</td>\n",
              "      <td>rxn13782_c0</td>\n",
              "      <td>61.65</td>\n",
              "      <td>0</td>\n",
              "      <td>0.00%</td>\n",
              "    </tr>\n",
              "    <tr>\n",
              "      <td>cpd17042_c0</td>\n",
              "      <td>rxn13783_c0</td>\n",
              "      <td>61.65</td>\n",
              "      <td>0</td>\n",
              "      <td>0.00%</td>\n",
              "    </tr>\n",
              "    <tr>\n",
              "      <td>cpd17043_c0</td>\n",
              "      <td>rxn13784_c0</td>\n",
              "      <td>61.65</td>\n",
              "      <td>0</td>\n",
              "      <td>0.00%</td>\n",
              "    </tr>\n",
              "  </tbody>\n",
              "</table><h4>Secretion</h4><table border=\"1\" class=\"dataframe\">\n",
              "  <thead>\n",
              "    <tr style=\"text-align: right;\">\n",
              "      <th>Metabolite</th>\n",
              "      <th>Reaction</th>\n",
              "      <th>Flux</th>\n",
              "      <th>C-Number</th>\n",
              "      <th>C-Flux</th>\n",
              "    </tr>\n",
              "  </thead>\n",
              "  <tbody>\n",
              "    <tr>\n",
              "      <td>cpd00001_e0</td>\n",
              "      <td>EX_cpd00001_e0</td>\n",
              "      <td>-1000</td>\n",
              "      <td>0</td>\n",
              "      <td>0.00%</td>\n",
              "    </tr>\n",
              "    <tr>\n",
              "      <td>cpd00007_e0</td>\n",
              "      <td>EX_cpd00007_e0</td>\n",
              "      <td>-0.1108</td>\n",
              "      <td>0</td>\n",
              "      <td>0.00%</td>\n",
              "    </tr>\n",
              "    <tr>\n",
              "      <td>cpd00011_e0</td>\n",
              "      <td>EX_cpd00011_e0</td>\n",
              "      <td>-789.3</td>\n",
              "      <td>1</td>\n",
              "      <td>3.76%</td>\n",
              "    </tr>\n",
              "    <tr>\n",
              "      <td>cpd00013_e0</td>\n",
              "      <td>EX_cpd00013_e0</td>\n",
              "      <td>-217.9</td>\n",
              "      <td>0</td>\n",
              "      <td>0.00%</td>\n",
              "    </tr>\n",
              "    <tr>\n",
              "      <td>cpd00027_e0</td>\n",
              "      <td>EX_cpd00027_e0</td>\n",
              "      <td>-1000</td>\n",
              "      <td>6</td>\n",
              "      <td>28.60%</td>\n",
              "    </tr>\n",
              "    <tr>\n",
              "      <td>cpd00100_e0</td>\n",
              "      <td>EX_cpd00100_e0</td>\n",
              "      <td>-1000</td>\n",
              "      <td>3</td>\n",
              "      <td>14.30%</td>\n",
              "    </tr>\n",
              "    <tr>\n",
              "      <td>cpd00122_e0</td>\n",
              "      <td>EX_cpd00122_e0</td>\n",
              "      <td>-975</td>\n",
              "      <td>8</td>\n",
              "      <td>37.18%</td>\n",
              "    </tr>\n",
              "    <tr>\n",
              "      <td>cpd00129_e0</td>\n",
              "      <td>EX_cpd00129_e0</td>\n",
              "      <td>-318.3</td>\n",
              "      <td>5</td>\n",
              "      <td>7.59%</td>\n",
              "    </tr>\n",
              "    <tr>\n",
              "      <td>cpd00175_e0</td>\n",
              "      <td>EX_cpd00175_e0</td>\n",
              "      <td>-104.4</td>\n",
              "      <td>17</td>\n",
              "      <td>8.46%</td>\n",
              "    </tr>\n",
              "    <tr>\n",
              "      <td>cpd03422_e0</td>\n",
              "      <td>EX_cpd03422_e0</td>\n",
              "      <td>-0.4434</td>\n",
              "      <td>48</td>\n",
              "      <td>0.10%</td>\n",
              "    </tr>\n",
              "    <tr>\n",
              "      <td>cpd11416_c0</td>\n",
              "      <td>SK_cpd11416_c0</td>\n",
              "      <td>-61.65</td>\n",
              "      <td>0</td>\n",
              "      <td>0.00%</td>\n",
              "    </tr>\n",
              "  </tbody>\n",
              "</table>"
            ]
          },
          "metadata": {},
          "execution_count": 29
        }
      ],
      "source": [
        "gf_model = gapfill_complete_medium.gapfilledModel\n",
        "gf_model.summary()"
      ]
    },
    {
      "cell_type": "code",
      "execution_count": null,
      "metadata": {
        "colab": {
          "base_uri": "https://localhost:8080/"
        },
        "id": "VlYo8HCDcSAV",
        "outputId": "92527f05-0a41-41f2-e019-6315535ea97f"
      },
      "outputs": [
        {
          "output_type": "stream",
          "name": "stdout",
          "text": [
            "Number of reactions added: 81\n"
          ]
        }
      ],
      "source": [
        "print(\"Number of reactions added:\", len(gapfill_complete_medium.added_reactions))"
      ]
    },
    {
      "cell_type": "code",
      "source": [
        "# I stole this code from tutorial in the git\n",
        "check = False\n",
        "for i in draft_model.medium:\n",
        "    if i not in gf_model.medium:\n",
        "        print(\"Compound \", i , \" was part of the initial's model model but not in the gapfilled.\")\n",
        "        check = True\n",
        "if not check:\n",
        "    print(\"All exchange reactions of the initial reconstruction are present on the gapfilled model.\\n\")\n",
        "\n",
        "for j in gf_model.medium:\n",
        "    if j not in draft_model.medium:\n",
        "        print(\"Compound \", gf_model.metabolites.get_by_id(j[3:]).name, \" has been added in the gapfilled model's medium.\")"
      ],
      "metadata": {
        "colab": {
          "base_uri": "https://localhost:8080/"
        },
        "id": "MbCQSODOyPuZ",
        "outputId": "706cb9f2-b2f0-4344-d3ca-e8218576c30a"
      },
      "execution_count": null,
      "outputs": [
        {
          "output_type": "stream",
          "name": "stdout",
          "text": [
            "All exchange reactions of the initial reconstruction are present on the gapfilled model.\n",
            "\n",
            "Compound  Calomide_e0  has been added in the gapfilled model's medium.\n",
            "Compound  phosphatidylethanolamine dioctadecanoyl_e0  has been added in the gapfilled model's medium.\n",
            "Compound  Ubiquinone-8_e0  has been added in the gapfilled model's medium.\n",
            "Compound  Ca2+_e0  has been added in the gapfilled model's medium.\n",
            "Compound  Menaquinone 7_e0  has been added in the gapfilled model's medium.\n",
            "Compound  Phosphatidylglycerol dioctadecanoyl_e0  has been added in the gapfilled model's medium.\n",
            "Compound  1,2-Diacyl-sn-glycerol dioctadecanoyl_e0  has been added in the gapfilled model's medium.\n",
            "Compound  Bactoprenyl diphosphate_e0  has been added in the gapfilled model's medium.\n",
            "Compound  Zymosterol_e0  has been added in the gapfilled model's medium.\n",
            "Compound  two linked disacharide pentapeptide murein units (uncrosslinked, middle of chain)_e0  has been added in the gapfilled model's medium.\n",
            "Compound  Cobinamide_e0  has been added in the gapfilled model's medium.\n",
            "Compound  Spermidine_e0  has been added in the gapfilled model's medium.\n",
            "Compound  Heme_e0  has been added in the gapfilled model's medium.\n",
            "Compound  1,4-Dihydroxy-2-naphthoyl-CoA_e0  has been added in the gapfilled model's medium.\n",
            "Compound  UDP-N-acetyl-D-galactosamine_e0  has been added in the gapfilled model's medium.\n"
          ]
        }
      ]
    },
    {
      "cell_type": "markdown",
      "metadata": {
        "id": "nCmUoBzFcSAb"
      },
      "source": [
        "## Gapfilling with a different medium\n",
        "\n",
        "By default DNNGIOR assumes you want to gap-fill based on a complete medium (i.e. a medium with every required metabolite readily available). However, quite often you want a model for a specific medium instead. To do this, you need to provide the gapfiller with file describing your medium. In this examples we wil use a [restrictive?] nitrogen based medium"
      ]
    },
    {
      "cell_type": "code",
      "execution_count": 12,
      "metadata": {
        "id": "eEE4ReskcSAb",
        "colab": {
          "base_uri": "https://localhost:8080/"
        },
        "outputId": "79081329-dae0-443b-db97-bc686d8b380c"
      },
      "outputs": [
        {
          "output_type": "stream",
          "name": "stdout",
          "text": [
            "          id          name  concentration  minflux  maxflux\n",
            "0   cpd00027     D-Glucose          0.001     -100        5\n",
            "1   cpd00075       Nitrite          0.001     -100        5\n",
            "2   cpd00009     Phosphate          0.001     -100        5\n",
            "3   cpd00048       Sulfate          0.001     -100        5\n",
            "4   cpd00063          Ca2+          0.001     -100      100\n",
            "5   cpd00011           CO2          0.001     -100        0\n",
            "6   cpd10516           fe3          0.001     -100      100\n",
            "7   cpd00067            H+          0.001     -100      100\n",
            "8   cpd00001           H2O          0.001     -100      100\n",
            "9   cpd00205            K+          0.001     -100      100\n",
            "10  cpd00254            Mg          0.001     -100      100\n",
            "11  cpd00971           Na+          0.001     -100      100\n",
            "12  cpd00007            O2          0.001     -100      100\n",
            "13  cpd00099           Cl-          0.001     -100      100\n",
            "14  cpd00058          Cu2+          0.001     -100      100\n",
            "15  cpd00149          Co2+          0.001     -100      100\n",
            "16  cpd00030          Mn2+          0.001     -100      100\n",
            "17  cpd00034          Zn2+          0.001     -100      100\n",
            "18  cpd10515          Fe2+          0.001     -100      100\n",
            "19  cpd15432        LipidA          0.001     -100      100\n",
            "20  cpd15560  Ubiquinone-8          0.001     -100      100\n"
          ]
        }
      ],
      "source": [
        "medium_file_path = 'DNNGIOR/docs/biochemistry/Nitrogen-Nitrite_media.tsv'\n",
        "medium_df = pd.read_csv(medium_file_path, sep='\\t')\n",
        "print(medium_df)"
      ]
    },
    {
      "cell_type": "markdown",
      "source": [
        "We can provide the path to the file describing the medium using the medium_file parameter"
      ],
      "metadata": {
        "id": "4sst_f5-tvvZ"
      }
    },
    {
      "cell_type": "code",
      "execution_count": 13,
      "metadata": {
        "colab": {
          "base_uri": "https://localhost:8080/"
        },
        "id": "uwR5w-lRcSAc",
        "outputId": "a2662b87-4b71-426d-834e-1c734f493cbb"
      },
      "outputs": [
        {
          "output_type": "stream",
          "name": "stdout",
          "text": [
            "Gap-filling database =  ModelSEED\n"
          ]
        },
        {
          "output_type": "stream",
          "name": "stderr",
          "text": [
            "ERROR:cobra.io.sbml:No objective coefficients in model. Unclear what should be optimized\n"
          ]
        },
        {
          "output_type": "stream",
          "name": "stdout",
          "text": [
            "Loading medium from: DNNGIOR/docs/biochemistry/Nitrogen-Nitrite_media.tsv\n",
            "#reactions not found in NN-keys:  4 / 665\n",
            "Warning for adding constraints: zero or small (< 1e-13) coefficients, ignored\n",
            "Flux through biomass reaction is 1.00000000\n",
            "Flux through biomass reaction is 1.00000000\n",
            "Warning for adding constraints: zero or small (< 1e-13) coefficients, ignored\n",
            "\n",
            "\n",
            " condition is currently:  76914 \n",
            "\n",
            "\n",
            "Warning for adding constraints: zero or small (< 1e-13) coefficients, ignored\n",
            "\n",
            "\n",
            " condition is currently:  38457 \n",
            "\n",
            "\n",
            "Warning for adding constraints: zero or small (< 1e-13) coefficients, ignored\n",
            "\n",
            "\n",
            " condition is currently:  19228 \n",
            "\n",
            "\n",
            "Warning for adding constraints: zero or small (< 1e-13) coefficients, ignored\n",
            "\n",
            "\n",
            " condition is currently:  9614 \n",
            "\n",
            "\n",
            "Warning for adding constraints: zero or small (< 1e-13) coefficients, ignored\n",
            "\n",
            "\n",
            " condition is currently:  4807 \n",
            "\n",
            "\n",
            "Warning for adding constraints: zero or small (< 1e-13) coefficients, ignored\n",
            "\n",
            "\n",
            " condition is currently:  2403 \n",
            "\n",
            "\n",
            "Warning for adding constraints: zero or small (< 1e-13) coefficients, ignored\n",
            "\n",
            "\n",
            " condition is currently:  1201 \n",
            "\n",
            "\n",
            "Warning for adding constraints: zero or small (< 1e-13) coefficients, ignored\n",
            "\n",
            "\n",
            " condition is currently:  600 \n",
            "\n",
            "\n",
            "Warning for adding constraints: zero or small (< 1e-13) coefficients, ignored\n",
            "\n",
            "\n",
            " condition is currently:  300 \n",
            "\n",
            "\n",
            "Warning for adding constraints: zero or small (< 1e-13) coefficients, ignored\n",
            "\n",
            "\n",
            " condition is currently:  150 \n",
            "\n",
            "\n",
            "Warning for adding constraints: zero or small (< 1e-13) coefficients, ignored\n",
            "\n",
            "\n",
            " condition is currently:  75 \n",
            "\n",
            "\n",
            "Warning for adding constraints: zero or small (< 1e-13) coefficients, ignored\n",
            "\n",
            "\n",
            " condition is currently:  37 \n",
            "\n",
            "\n",
            "Warning for adding constraints: zero or small (< 1e-13) coefficients, ignored\n",
            "\n",
            "\n",
            " condition is currently:  18 \n",
            "\n",
            "\n",
            "Warning for adding constraints: zero or small (< 1e-13) coefficients, ignored\n",
            "\n",
            "\n",
            " condition is currently:  9 \n",
            "\n",
            "\n",
            "Warning for adding constraints: zero or small (< 1e-13) coefficients, ignored\n",
            "\n",
            "\n",
            " condition is currently:  4 \n",
            "\n",
            "\n",
            "Warning for adding constraints: zero or small (< 1e-13) coefficients, ignored\n",
            "\n",
            "\n",
            " condition is currently:  2 \n",
            "\n",
            "\n",
            "Warning for adding constraints: zero or small (< 1e-13) coefficients, ignored\n",
            "\n",
            "\n",
            " condition is currently:  1 \n",
            "\n",
            "\n",
            "Objective value is 0.344953.\n",
            "Read LP format model from file /tmp/tmpbczwedkb.lp\n",
            "Reading time = 0.01 seconds\n",
            ": 865 rows, 1730 columns, 8410 nonzeros\n",
            "NN gapfilling added 200 new reactions\n",
            "The NN gapfilled model, comes with 865 reactions and 865 metabolites\n"
          ]
        }
      ],
      "source": [
        "gapfill_nit_medium = Gapfill(draftModel = path_to_draft_model, medium_file = medium_file_path)"
      ]
    },
    {
      "cell_type": "code",
      "execution_count": 10,
      "metadata": {
        "colab": {
          "base_uri": "https://localhost:8080/",
          "height": 141
        },
        "id": "ysWxbk5bcSAd",
        "outputId": "c7fa3b93-3f8c-4ddf-9e0b-16408a93d8e2"
      },
      "outputs": [
        {
          "output_type": "error",
          "ename": "NameError",
          "evalue": "name 'gapfill_nit_medium' is not defined",
          "traceback": [
            "\u001b[0;31m---------------------------------------------------------------------------\u001b[0m",
            "\u001b[0;31mNameError\u001b[0m                                 Traceback (most recent call last)",
            "\u001b[0;32m<ipython-input-10-1d9d98cd1e73>\u001b[0m in \u001b[0;36m<cell line: 0>\u001b[0;34m()\u001b[0m\n\u001b[0;32m----> 1\u001b[0;31m \u001b[0mgapfill_nit_medium\u001b[0m\u001b[0;34m.\u001b[0m\u001b[0mgapfilledModel\u001b[0m\u001b[0;34m.\u001b[0m\u001b[0msummary\u001b[0m\u001b[0;34m(\u001b[0m\u001b[0;34m)\u001b[0m\u001b[0;34m\u001b[0m\u001b[0;34m\u001b[0m\u001b[0m\n\u001b[0m",
            "\u001b[0;31mNameError\u001b[0m: name 'gapfill_nit_medium' is not defined"
          ]
        }
      ],
      "source": [
        "gf_model_nit_medium = gapfill_nit_medium.gapfilledModel.summary()"
      ]
    },
    {
      "cell_type": "markdown",
      "metadata": {
        "id": "5bYYy6p8cSAd"
      },
      "source": [
        "Relevant to note here is that using a more minimal medium tends to lead to a more gapfilled reactions as the models have to synthesize more compounds themselves"
      ]
    },
    {
      "cell_type": "code",
      "execution_count": null,
      "metadata": {
        "colab": {
          "base_uri": "https://localhost:8080/"
        },
        "id": "VYDLbzLCcSAe",
        "outputId": "fb735b82-f91b-4e9e-9c0a-6cebbfc1ca0a"
      },
      "outputs": [
        {
          "output_type": "stream",
          "name": "stdout",
          "text": [
            "Number of reactions added: 200\n"
          ]
        }
      ],
      "source": [
        "print(\"Number of reactions added:\", len(gapfill_nit_medium.added_reactions))"
      ]
    },
    {
      "cell_type": "code",
      "source": [
        "check = False\n",
        "for i in draft_model.medium:\n",
        "    if i not in gf_model_nit_medium.medium:\n",
        "        print(\"Compound \", i , \" was part of the initial's model model but not in the gapfilled.\")\n",
        "        check = True\n",
        "if not check:\n",
        "    print(\"All exchange reactions of the initial reconstruction are present on the gapfilled model.\\n\")\n",
        "\n",
        "for j in gf_model_nit_medium.medium:\n",
        "    if j not in draft_model.medium:\n",
        "        print(\"Compound \", gf_model_nit_medium.metabolites.get_by_id(j[3:]).name, \" has been added in the gapfilled model's medium.\")"
      ],
      "metadata": {
        "id": "4N2S0h6O3tuf"
      },
      "execution_count": null,
      "outputs": []
    },
    {
      "cell_type": "markdown",
      "metadata": {
        "id": "D_B9V-zscSAe"
      },
      "source": [
        "# Batch gapfilling using the command line interface (CLI)\n",
        "\n",
        "If we have a larger number of models we want to gapfill with the same medium you could use a for loop like with the draft model reconstruction but it is also possible to use the CLI.\n",
        "\n",
        "`python fasta2model_CLI.py -m DIR_MODELS -o DIR_OUTPUT -e PATH_TO_MEDIUM_FILE`\n",
        "\n",
        "This command will create an output folder (-o) containing a subfolder with gapfilled models, a log, and a tsv file telling you the number of added reactions.\n",
        "\n",
        "This CLI has limited functionality and assumes the same conditions for all gapfilling but you can change the standard gapfilling medium using the -e parameter.\n",
        "\n",
        "Side note, you can also the following command to do the draft reconstruciton and gap-filling together although this is currently still a bit buggy.\n",
        "\n",
        "`python fasta2model_CLI.py -f DIR_FASTA -o DIR_OUTPUT' -e PATH_TO_MEDIUM_FILE`"
      ]
    },
    {
      "cell_type": "markdown",
      "metadata": {
        "id": "3bCJ5S4gcSAW"
      },
      "source": [
        "# For the interested: How does DNNGIOR work\n",
        "\n",
        "DNNGIOR gap-filling takes two steps:\n",
        "1. Making a prediction based on the reactions in the draft model and asign every reaction in the database a cost.\n",
        "2. Using these costs to find the set of added reactions that with the lowest total cost resulting in flux through the objective function.\n",
        "\n",
        "For step one the DNNGIOR neural network makes a prediction based on the set of reactions in the draft model. Lets have a look at these predictions, we can load in the default neural network by providing the `NN` class the path stored in `TRAINED_NN_MSEED`:"
      ]
    },
    {
      "cell_type": "code",
      "execution_count": null,
      "metadata": {
        "id": "wL1_Cnd5cSAX"
      },
      "outputs": [],
      "source": [
        "from dnngior.variables import TRAINED_NN_MSEED\n",
        "NN_MSEED = NN(path=TRAINED_NN_MSEED)"
      ]
    },
    {
      "cell_type": "markdown",
      "metadata": {
        "id": "0MLcVfEXcSAX"
      },
      "source": [
        "and make a prediction for our model and look at the distribution of predictions"
      ]
    },
    {
      "cell_type": "code",
      "execution_count": null,
      "metadata": {
        "id": "DYpjf-oXcSAY",
        "colab": {
          "base_uri": "https://localhost:8080/",
          "height": 465
        },
        "outputId": "279c3a1c-a1c4-40db-85e5-d73c94fe7cfd"
      },
      "outputs": [
        {
          "output_type": "stream",
          "name": "stdout",
          "text": [
            "#reactions not found in NN-keys:  65 / 726\n"
          ]
        },
        {
          "output_type": "execute_result",
          "data": {
            "text/plain": [
              "<Axes: ylabel='Frequency'>"
            ]
          },
          "metadata": {},
          "execution_count": 15
        },
        {
          "output_type": "display_data",
          "data": {
            "text/plain": [
              "<Figure size 640x480 with 1 Axes>"
            ],
            "image/png": "[encoded data removed]"
          },
          "metadata": {}
        }
      ],
      "source": [
        "prediction = NN_MSEED.predict(draft_model)\n",
        "p = pd.Series(prediction)\n",
        "p.plot.hist(bins=100)"
      ]
    },
    {
      "cell_type": "markdown",
      "source": [
        "Because we want reactions that are likely to have a low cost we can flip them around"
      ],
      "metadata": {
        "id": "D9FXip1qrrPf"
      }
    },
    {
      "cell_type": "code",
      "source": [
        "(1-p).plot.hist(bins=100)"
      ],
      "metadata": {
        "id": "_fJw1-pjqnir",
        "colab": {
          "base_uri": "https://localhost:8080/",
          "height": 447
        },
        "outputId": "7694eb00-3408-4c9b-8ac7-1e9b80c66265"
      },
      "execution_count": null,
      "outputs": [
        {
          "output_type": "execute_result",
          "data": {
            "text/plain": [
              "<Axes: ylabel='Frequency'>"
            ]
          },
          "metadata": {},
          "execution_count": 16
        },
        {
          "output_type": "display_data",
          "data": {
            "text/plain": [
              "<Figure size 640x480 with 1 Axes>"
            ],
            "image/png": "[encoded data removed]"
          },
          "metadata": {}
        }
      ]
    },
    {
      "cell_type": "markdown",
      "metadata": {
        "id": "l5b_e3PFcSAZ"
      },
      "source": [
        "The 24xx reactions that get a prediction are part of the microbial reactome (all the reactions that were present in the training dataset), as the network cannot make predictions for reactions it has never seen it will not give a prediction for the other reactions.\n",
        "\n",
        "Instead these other reactions will get the default cost which is normally set to 1.0 but can be changed if you want to prioritize reactions from the microbia reactome:"
      ]
    },
    {
      "cell_type": "code",
      "execution_count": null,
      "metadata": {
        "colab": {
          "base_uri": "https://localhost:8080/"
        },
        "id": "aMQFLTSmcSAZ",
        "outputId": "5c5f5011-d381-4e7b-b86f-9e0426d1fabd"
      },
      "outputs": [
        {
          "output_type": "stream",
          "name": "stdout",
          "text": [
            "Gap-filling database =  ModelSEED\n"
          ]
        },
        {
          "output_type": "stream",
          "name": "stderr",
          "text": [
            "ERROR:cobra.io.sbml:No objective coefficients in model. Unclear what should be optimized\n"
          ]
        },
        {
          "output_type": "stream",
          "name": "stdout",
          "text": [
            "#reactions not found in NN-keys:  65 / 726\n"
          ]
        }
      ],
      "source": [
        "gapfill_higher_def_cost = Gapfill(draftModel = path_to_draft_model, default_cost=10, gapfill=False)"
      ]
    },
    {
      "cell_type": "markdown",
      "source": [
        "Once you are ready to continue you can use the `gapfill()` function to continue the gapfilling process"
      ],
      "metadata": {
        "id": "qIx2eiHTwDIA"
      }
    },
    {
      "cell_type": "code",
      "execution_count": null,
      "metadata": {
        "colab": {
          "base_uri": "https://localhost:8080/"
        },
        "id": "XJ-S1mBecSAa",
        "outputId": "9172c17a-a2df-4fdd-b504-74e7f69f09cb"
      },
      "outputs": [
        {
          "output_type": "stream",
          "name": "stdout",
          "text": [
            "Warning for adding constraints: zero or small (< 1e-13) coefficients, ignored\n",
            "Flux through biomass reaction is 1.00000000\n",
            "Flux through biomass reaction is 1.00000000\n",
            "Warning for adding constraints: zero or small (< 1e-13) coefficients, ignored\n",
            "\n",
            "\n",
            " condition is currently:  79156 \n",
            "\n",
            "\n",
            "Warning for adding constraints: zero or small (< 1e-13) coefficients, ignored\n",
            "\n",
            "\n",
            " condition is currently:  39578 \n",
            "\n",
            "\n",
            "Warning for adding constraints: zero or small (< 1e-13) coefficients, ignored\n",
            "\n",
            "\n",
            " condition is currently:  19789 \n",
            "\n",
            "\n",
            "Warning for adding constraints: zero or small (< 1e-13) coefficients, ignored\n",
            "\n",
            "\n",
            " condition is currently:  9894 \n",
            "\n",
            "\n",
            "Warning for adding constraints: zero or small (< 1e-13) coefficients, ignored\n",
            "\n",
            "\n",
            " condition is currently:  4947 \n",
            "\n",
            "\n",
            "Warning for adding constraints: zero or small (< 1e-13) coefficients, ignored\n",
            "\n",
            "\n",
            " condition is currently:  2473 \n",
            "\n",
            "\n",
            "Warning for adding constraints: zero or small (< 1e-13) coefficients, ignored\n",
            "\n",
            "\n",
            " condition is currently:  1236 \n",
            "\n",
            "\n",
            "Warning for adding constraints: zero or small (< 1e-13) coefficients, ignored\n",
            "\n",
            "\n",
            " condition is currently:  618 \n",
            "\n",
            "\n",
            "Warning for adding constraints: zero or small (< 1e-13) coefficients, ignored\n",
            "\n",
            "\n",
            " condition is currently:  309 \n",
            "\n",
            "\n",
            "Warning for adding constraints: zero or small (< 1e-13) coefficients, ignored\n",
            "\n",
            "\n",
            " condition is currently:  154 \n",
            "\n",
            "\n",
            "Warning for adding constraints: zero or small (< 1e-13) coefficients, ignored\n",
            "\n",
            "\n",
            " condition is currently:  77 \n",
            "\n",
            "\n",
            "Warning for adding constraints: zero or small (< 1e-13) coefficients, ignored\n",
            "\n",
            "\n",
            " condition is currently:  38 \n",
            "\n",
            "\n",
            "Warning for adding constraints: zero or small (< 1e-13) coefficients, ignored\n",
            "\n",
            "\n",
            " condition is currently:  19 \n",
            "\n",
            "\n",
            "Warning for adding constraints: zero or small (< 1e-13) coefficients, ignored\n",
            "\n",
            "\n",
            " condition is currently:  9 \n",
            "\n",
            "\n",
            "Warning for adding constraints: zero or small (< 1e-13) coefficients, ignored\n",
            "\n",
            "\n",
            " condition is currently:  5 \n",
            "\n",
            "\n",
            "Warning for adding constraints: zero or small (< 1e-13) coefficients, ignored\n",
            "\n",
            "\n",
            " condition is currently:  2 \n",
            "\n",
            "\n",
            "Warning for adding constraints: zero or small (< 1e-13) coefficients, ignored\n",
            "\n",
            "\n",
            " condition is currently:  1 \n",
            "\n",
            "\n",
            "Objective value is 0.020721.\n",
            "Read LP format model from file /tmp/tmpinr4pgz6.lp\n",
            "Reading time = 0.01 seconds\n",
            ": 784 rows, 1614 columns, 7198 nonzeros\n",
            "NN gapfilling added 81 new reactions\n",
            "The NN gapfilled model, comes with 807 reactions and 784 metabolites\n",
            "Number of reactions added: 81\n"
          ]
        }
      ],
      "source": [
        "gapfill_higher_def_cost.gapfill()\n",
        "print(\"Number of reactions added:\", len(gapfill_higher_def_cost.added_reactions))"
      ]
    },
    {
      "cell_type": "code",
      "execution_count": null,
      "metadata": {
        "collapsed": true,
        "colab": {
          "base_uri": "https://localhost:8080/"
        },
        "id": "BmCpcFg9cSAf",
        "outputId": "8c28688a-77b4-4cbe-9dee-0177547b2f6f"
      },
      "outputs": [
        {
          "output_type": "stream",
          "name": "stdout",
          "text": [
            "# WARNING: gapfilled models folder allready exists (./one_per_phylum_gapfilled/gapfilled_models)\n",
            "Set parameter WLSAccessID\n",
            "Set parameter WLSSecret\n",
            "Set parameter LicenseID to value 940603\n",
            "Academic license 940603 - for non-commercial use only - registered to da___@gmail.com\n",
            "WARNING: All log messages before absl::InitializeLog() is called are written to STDERR\n",
            "E0000 00:00:1741351411.381505    7185 cuda_dnn.cc:8310] Unable to register cuDNN factory: Attempting to register factory for plugin cuDNN when one has already been registered\n",
            "E0000 00:00:1741351411.389183    7185 cuda_blas.cc:1418] Unable to register cuBLAS factory: Attempting to register factory for plugin cuBLAS when one has already been registered\n",
            "WARNING: To enable the NN_Trainer script, you need to install tensorflow <https://www.tensorflow.org/install>\n",
            "The rest of dnngior features can be used without it.\n",
            "Gap-filling database =  ModelSEED\n",
            "Loading medium from: ./DNNGIOR/docs/biochemistry/Nitrogen-Nitrite_media.tsv\n",
            "#reactions not found in NN-keys:  6 / 777\n",
            "Warning for adding constraints: zero or small (< 1e-13) coefficients, ignored\n",
            "Flux through biomass reaction is 1.00000000\n",
            "Flux through biomass reaction is 1.00000000\n",
            "Warning for adding constraints: zero or small (< 1e-13) coefficients, ignored\n",
            "\n",
            "\n",
            " condition is currently:  76702 \n",
            "\n",
            "\n",
            "Warning for adding constraints: zero or small (< 1e-13) coefficients, ignored\n",
            "\n",
            "\n",
            " condition is currently:  38351 \n",
            "\n",
            "\n",
            "Warning for adding constraints: zero or small (< 1e-13) coefficients, ignored\n",
            "\n",
            "\n",
            " condition is currently:  19175 \n",
            "\n",
            "\n",
            "Warning for adding constraints: zero or small (< 1e-13) coefficients, ignored\n",
            "\n",
            "\n",
            " condition is currently:  9587 \n",
            "\n",
            "\n",
            "Warning for adding constraints: zero or small (< 1e-13) coefficients, ignored\n",
            "\n",
            "\n",
            " condition is currently:  4793 \n",
            "\n",
            "\n",
            "Warning for adding constraints: zero or small (< 1e-13) coefficients, ignored\n",
            "\n",
            "\n",
            " condition is currently:  2396 \n",
            "\n",
            "\n",
            "Warning for adding constraints: zero or small (< 1e-13) coefficients, ignored\n",
            "\n",
            "\n",
            " condition is currently:  1198 \n",
            "\n",
            "\n",
            "Warning for adding constraints: zero or small (< 1e-13) coefficients, ignored\n",
            "\n",
            "\n",
            " condition is currently:  599 \n",
            "\n",
            "\n",
            "Warning for adding constraints: zero or small (< 1e-13) coefficients, ignored\n",
            "\n",
            "\n",
            " condition is currently:  299 \n",
            "\n",
            "\n",
            "Warning for adding constraints: zero or small (< 1e-13) coefficients, ignored\n",
            "\n",
            "\n",
            " condition is currently:  149 \n",
            "\n",
            "\n",
            "Warning for adding constraints: zero or small (< 1e-13) coefficients, ignored\n",
            "\n",
            "\n",
            " condition is currently:  74 \n",
            "\n",
            "\n",
            "Warning for adding constraints: zero or small (< 1e-13) coefficients, ignored\n",
            "\n",
            "\n",
            " condition is currently:  37 \n",
            "\n",
            "\n",
            "Warning for adding constraints: zero or small (< 1e-13) coefficients, ignored\n",
            "\n",
            "\n",
            " condition is currently:  18 \n",
            "\n",
            "\n",
            "Warning for adding constraints: zero or small (< 1e-13) coefficients, ignored\n",
            "\n",
            "\n",
            " condition is currently:  9 \n",
            "\n",
            "\n",
            "Warning for adding constraints: zero or small (< 1e-13) coefficients, ignored\n",
            "\n",
            "\n",
            " condition is currently:  4 \n",
            "\n",
            "\n",
            "Warning for adding constraints: zero or small (< 1e-13) coefficients, ignored\n",
            "\n",
            "\n",
            " condition is currently:  2 \n",
            "\n",
            "\n",
            "Warning for adding constraints: zero or small (< 1e-13) coefficients, ignored\n",
            "\n",
            "\n",
            " condition is currently:  1 \n",
            "\n",
            "\n",
            "Objective value is 0.024983.\n",
            "Read LP format model from file /tmp/tmp500xn9pa.lp\n",
            "Reading time = 0.01 seconds\n",
            ": 978 rows, 1840 columns, 8812 nonzeros\n",
            "NN gapfilling added 143 new reactions\n",
            "The NN gapfilled model, comes with 920 reactions and 978 metabolites\n",
            "Gap-filling database =  ModelSEED\n",
            "Loading medium from: ./DNNGIOR/docs/biochemistry/Nitrogen-Nitrite_media.tsv\n",
            "#reactions not found in NN-keys:  3 / 70\n",
            "Warning for adding constraints: zero or small (< 1e-13) coefficients, ignored\n",
            "Flux through biomass reaction is 1.00000000\n",
            "Flux through biomass reaction is 1.00000000\n",
            "Warning for adding constraints: zero or small (< 1e-13) coefficients, ignored\n",
            "\n",
            "\n",
            " condition is currently:  77906 \n",
            "\n",
            "\n",
            "Warning for adding constraints: zero or small (< 1e-13) coefficients, ignored\n",
            "\n",
            "\n",
            " condition is currently:  38953 \n",
            "\n",
            "\n",
            "Warning for adding constraints: zero or small (< 1e-13) coefficients, ignored\n",
            "\n",
            "\n",
            " condition is currently:  19476 \n",
            "\n",
            "\n",
            "Warning for adding constraints: zero or small (< 1e-13) coefficients, ignored\n",
            "\n",
            "\n",
            " condition is currently:  9738 \n",
            "\n",
            "\n",
            "Warning for adding constraints: zero or small (< 1e-13) coefficients, ignored\n",
            "\n",
            "\n",
            " condition is currently:  4869 \n",
            "\n",
            "\n",
            "Warning for adding constraints: zero or small (< 1e-13) coefficients, ignored\n",
            "\n",
            "\n",
            " condition is currently:  2434 \n",
            "\n",
            "\n",
            "Warning for adding constraints: zero or small (< 1e-13) coefficients, ignored\n",
            "\n",
            "\n",
            " condition is currently:  1217 \n",
            "\n",
            "\n",
            "Warning for adding constraints: zero or small (< 1e-13) coefficients, ignored\n",
            "\n",
            "\n",
            " condition is currently:  608 \n",
            "\n",
            "\n",
            "Warning for adding constraints: zero or small (< 1e-13) coefficients, ignored\n",
            "\n",
            "\n",
            " condition is currently:  304 \n",
            "\n",
            "\n",
            "Warning for adding constraints: zero or small (< 1e-13) coefficients, ignored\n",
            "\n",
            "\n",
            " condition is currently:  152 \n",
            "\n",
            "\n",
            "Warning for adding constraints: zero or small (< 1e-13) coefficients, ignored\n",
            "\n",
            "\n",
            " condition is currently:  76 \n",
            "\n",
            "\n",
            "Warning for adding constraints: zero or small (< 1e-13) coefficients, ignored\n",
            "\n",
            "\n",
            " condition is currently:  38 \n",
            "\n",
            "\n",
            "Warning for adding constraints: zero or small (< 1e-13) coefficients, ignored\n",
            "\n",
            "\n",
            " condition is currently:  19 \n",
            "\n",
            "\n",
            "Warning for adding constraints: zero or small (< 1e-13) coefficients, ignored\n",
            "\n",
            "\n",
            " condition is currently:  10 \n",
            "\n",
            "\n",
            "Warning for adding constraints: zero or small (< 1e-13) coefficients, ignored\n",
            "\n",
            "\n",
            " condition is currently:  5 \n",
            "\n",
            "\n",
            "Warning for adding constraints: zero or small (< 1e-13) coefficients, ignored\n",
            "\n",
            "\n",
            " condition is currently:  2 \n",
            "\n",
            "\n",
            "Warning for adding constraints: zero or small (< 1e-13) coefficients, ignored\n",
            "\n",
            "\n",
            " condition is currently:  1 \n",
            "\n",
            "\n",
            "Objective value is 0.000000.\n",
            "Read LP format model from file /tmp/tmpa5prf4zo.lp\n",
            "Reading time = 0.01 seconds\n",
            ": 444 rows, 790 columns, 4096 nonzeros\n",
            "NN gapfilling added 325 new reactions\n",
            "The NN gapfilled model, comes with 395 reactions and 444 metabolites\n",
            "Gap-filling database =  ModelSEED\n",
            "Loading medium from: ./DNNGIOR/docs/biochemistry/Nitrogen-Nitrite_media.tsv\n",
            "#reactions not found in NN-keys:  3 / 101\n",
            "Warning for adding constraints: zero or small (< 1e-13) coefficients, ignored\n",
            "Flux through biomass reaction is 1.00000000\n",
            "Flux through biomass reaction is 1.00000000\n",
            "Warning for adding constraints: zero or small (< 1e-13) coefficients, ignored\n",
            "\n",
            "\n",
            " condition is currently:  77864 \n",
            "\n",
            "\n",
            "Warning for adding constraints: zero or small (< 1e-13) coefficients, ignored\n",
            "\n",
            "\n",
            " condition is currently:  38932 \n",
            "\n",
            "\n",
            "Warning for adding constraints: zero or small (< 1e-13) coefficients, ignored\n",
            "\n",
            "\n",
            " condition is currently:  19466 \n",
            "\n",
            "\n",
            "Warning for adding constraints: zero or small (< 1e-13) coefficients, ignored\n",
            "\n",
            "\n",
            " condition is currently:  9733 \n",
            "\n",
            "\n",
            "Warning for adding constraints: zero or small (< 1e-13) coefficients, ignored\n",
            "\n",
            "\n",
            " condition is currently:  4866 \n",
            "\n",
            "\n",
            "Warning for adding constraints: zero or small (< 1e-13) coefficients, ignored\n",
            "\n",
            "\n",
            " condition is currently:  2433 \n",
            "\n",
            "\n",
            "Warning for adding constraints: zero or small (< 1e-13) coefficients, ignored\n",
            "\n",
            "\n",
            " condition is currently:  1216 \n",
            "\n",
            "\n",
            "Warning for adding constraints: zero or small (< 1e-13) coefficients, ignored\n",
            "\n",
            "\n",
            " condition is currently:  608 \n",
            "\n",
            "\n",
            "Warning for adding constraints: zero or small (< 1e-13) coefficients, ignored\n",
            "\n",
            "\n",
            " condition is currently:  304 \n",
            "\n",
            "\n",
            "Warning for adding constraints: zero or small (< 1e-13) coefficients, ignored\n",
            "\n",
            "\n",
            " condition is currently:  152 \n",
            "\n",
            "\n",
            "Warning for adding constraints: zero or small (< 1e-13) coefficients, ignored\n",
            "\n",
            "\n",
            " condition is currently:  76 \n",
            "\n",
            "\n",
            "Warning for adding constraints: zero or small (< 1e-13) coefficients, ignored\n",
            "\n",
            "\n",
            " condition is currently:  38 \n",
            "\n",
            "\n",
            "Warning for adding constraints: zero or small (< 1e-13) coefficients, ignored\n",
            "\n",
            "\n",
            " condition is currently:  19 \n",
            "\n",
            "\n",
            "Warning for adding constraints: zero or small (< 1e-13) coefficients, ignored\n",
            "\n",
            "\n",
            " condition is currently:  10 \n",
            "\n",
            "\n",
            "Warning for adding constraints: zero or small (< 1e-13) coefficients, ignored\n",
            "\n",
            "\n",
            " condition is currently:  5 \n",
            "\n",
            "\n",
            "Warning for adding constraints: zero or small (< 1e-13) coefficients, ignored\n",
            "\n",
            "\n",
            " condition is currently:  2 \n",
            "\n",
            "\n",
            "Warning for adding constraints: zero or small (< 1e-13) coefficients, ignored\n",
            "\n",
            "\n",
            " condition is currently:  1 \n",
            "\n",
            "\n",
            "Objective value is 0.000000.\n",
            "Read LP format model from file /tmp/tmpyk5zm00h.lp\n",
            "Reading time = 0.01 seconds\n",
            ": 480 rows, 862 columns, 4540 nonzeros\n",
            "NN gapfilling added 330 new reactions\n",
            "The NN gapfilled model, comes with 431 reactions and 480 metabolites\n",
            "Gap-filling database =  ModelSEED\n",
            "Loading medium from: ./DNNGIOR/docs/biochemistry/Nitrogen-Nitrite_media.tsv\n",
            "#reactions not found in NN-keys:  4 / 382\n",
            "Warning for adding constraints: zero or small (< 1e-13) coefficients, ignored\n",
            "Flux through biomass reaction is 1.00000000\n",
            "Flux through biomass reaction is 1.00000000\n",
            "Warning for adding constraints: zero or small (< 1e-13) coefficients, ignored\n",
            "\n",
            "\n",
            " condition is currently:  77385 \n",
            "\n",
            "\n",
            "Warning for adding constraints: zero or small (< 1e-13) coefficients, ignored\n",
            "\n",
            "\n",
            " condition is currently:  38692 \n",
            "\n",
            "\n",
            "Warning for adding constraints: zero or small (< 1e-13) coefficients, ignored\n",
            "\n",
            "\n",
            " condition is currently:  19346 \n",
            "\n",
            "\n",
            "Warning for adding constraints: zero or small (< 1e-13) coefficients, ignored\n",
            "\n",
            "\n",
            " condition is currently:  9673 \n",
            "\n",
            "\n",
            "Warning for adding constraints: zero or small (< 1e-13) coefficients, ignored\n",
            "\n",
            "\n",
            " condition is currently:  4836 \n",
            "\n",
            "\n",
            "Warning for adding constraints: zero or small (< 1e-13) coefficients, ignored\n",
            "\n",
            "\n",
            " condition is currently:  2418 \n",
            "\n",
            "\n",
            "Warning for adding constraints: zero or small (< 1e-13) coefficients, ignored\n",
            "\n",
            "\n",
            " condition is currently:  1209 \n",
            "\n",
            "\n",
            "Warning for adding constraints: zero or small (< 1e-13) coefficients, ignored\n",
            "\n",
            "\n",
            " condition is currently:  604 \n",
            "\n",
            "\n",
            "Warning for adding constraints: zero or small (< 1e-13) coefficients, ignored\n",
            "\n",
            "\n",
            " condition is currently:  302 \n",
            "\n",
            "\n",
            "Warning for adding constraints: zero or small (< 1e-13) coefficients, ignored\n",
            "\n",
            "\n",
            " condition is currently:  151 \n",
            "\n",
            "\n",
            "Warning for adding constraints: zero or small (< 1e-13) coefficients, ignored\n",
            "\n",
            "\n",
            " condition is currently:  75 \n",
            "\n",
            "\n",
            "Warning for adding constraints: zero or small (< 1e-13) coefficients, ignored\n",
            "\n",
            "\n",
            " condition is currently:  37 \n",
            "\n",
            "\n",
            "Warning for adding constraints: zero or small (< 1e-13) coefficients, ignored\n",
            "\n",
            "\n",
            " condition is currently:  18 \n",
            "\n",
            "\n",
            "Warning for adding constraints: zero or small (< 1e-13) coefficients, ignored\n",
            "\n",
            "\n",
            " condition is currently:  9 \n",
            "\n",
            "\n",
            "Warning for adding constraints: zero or small (< 1e-13) coefficients, ignored\n",
            "\n",
            "\n",
            " condition is currently:  4 \n",
            "\n",
            "\n",
            "Warning for adding constraints: zero or small (< 1e-13) coefficients, ignored\n",
            "\n",
            "\n",
            " condition is currently:  2 \n",
            "\n",
            "\n",
            "Warning for adding constraints: zero or small (< 1e-13) coefficients, ignored\n",
            "\n",
            "\n",
            " condition is currently:  1 \n",
            "\n",
            "\n",
            "Objective value is 1.000000.\n",
            "Read LP format model from file /tmp/tmp_kuq2d2y.lp\n",
            "Reading time = 0.01 seconds\n",
            ": 709 rows, 1326 columns, 6556 nonzeros\n",
            "NN gapfilling added 281 new reactions\n",
            "The NN gapfilled model, comes with 663 reactions and 709 metabolites\n",
            "Gap-filling database =  ModelSEED\n",
            "Loading medium from: ./DNNGIOR/docs/biochemistry/Nitrogen-Nitrite_media.tsv\n",
            "#reactions not found in NN-keys:  6 / 535\n",
            "Warning for adding constraints: zero or small (< 1e-13) coefficients, ignored\n",
            "Flux through biomass reaction is 1.00000000\n",
            "Flux through biomass reaction is 1.00000000\n",
            "Warning for adding constraints: zero or small (< 1e-13) coefficients, ignored\n",
            "\n",
            "\n",
            " condition is currently:  77111 \n",
            "\n",
            "\n",
            "Warning for adding constraints: zero or small (< 1e-13) coefficients, ignored\n",
            "\n",
            "\n",
            " condition is currently:  38555 \n",
            "\n",
            "\n",
            "Warning for adding constraints: zero or small (< 1e-13) coefficients, ignored\n",
            "\n",
            "\n",
            " condition is currently:  19277 \n",
            "\n",
            "\n",
            "Warning for adding constraints: zero or small (< 1e-13) coefficients, ignored\n",
            "\n",
            "\n",
            " condition is currently:  9638 \n",
            "\n",
            "\n",
            "Warning for adding constraints: zero or small (< 1e-13) coefficients, ignored\n",
            "\n",
            "\n",
            " condition is currently:  4819 \n",
            "\n",
            "\n",
            "Warning for adding constraints: zero or small (< 1e-13) coefficients, ignored\n",
            "\n",
            "\n",
            " condition is currently:  2409 \n",
            "\n",
            "\n",
            "Warning for adding constraints: zero or small (< 1e-13) coefficients, ignored\n",
            "\n",
            "\n",
            " condition is currently:  1204 \n",
            "\n",
            "\n",
            "Warning for adding constraints: zero or small (< 1e-13) coefficients, ignored\n",
            "\n",
            "\n",
            " condition is currently:  602 \n",
            "\n",
            "\n",
            "Warning for adding constraints: zero or small (< 1e-13) coefficients, ignored\n",
            "\n",
            "\n",
            " condition is currently:  301 \n",
            "\n",
            "\n",
            "Warning for adding constraints: zero or small (< 1e-13) coefficients, ignored\n",
            "\n",
            "\n",
            " condition is currently:  150 \n",
            "\n",
            "\n",
            "Warning for adding constraints: zero or small (< 1e-13) coefficients, ignored\n",
            "\n",
            "\n",
            " condition is currently:  75 \n",
            "\n",
            "\n",
            "Warning for adding constraints: zero or small (< 1e-13) coefficients, ignored\n",
            "\n",
            "\n",
            " condition is currently:  37 \n",
            "\n",
            "\n",
            "Warning for adding constraints: zero or small (< 1e-13) coefficients, ignored\n",
            "\n",
            "\n",
            " condition is currently:  18 \n",
            "\n",
            "\n",
            "Warning for adding constraints: zero or small (< 1e-13) coefficients, ignored\n",
            "\n",
            "\n",
            " condition is currently:  9 \n",
            "\n",
            "\n",
            "Warning for adding constraints: zero or small (< 1e-13) coefficients, ignored\n",
            "\n",
            "\n",
            " condition is currently:  4 \n",
            "\n",
            "\n",
            "Warning for adding constraints: zero or small (< 1e-13) coefficients, ignored\n"
          ]
        }
      ],
      "source": [
        "!python DNNGIOR/dnngior/fasta2model_CLI.py -m one_per_phylum_models -o one_per_phylum_gapfilled -e DNNGIOR/docs/biochemistry/Nitrogen-Nitrite_media.tsv -sm .sbml"
      ]
    },
    {
      "cell_type": "markdown",
      "metadata": {
        "id": "IZWLxxrRcSAf"
      },
      "source": [
        "# For the interested: Customizing the candidate weights\n",
        "\n",
        "There are scenarios where you want to manually change the candidate weights. In the following section we will explain:\n",
        "\n",
        "* How to change the neural network.\n",
        "* How to blacklist reactions (so they are not considered during gap-filling).\n",
        "* How to manually set any cost in case you have your own ideas about reaction weights\n",
        "\n"
      ]
    },
    {
      "cell_type": "markdown",
      "metadata": {
        "id": "Pnc-sPRgcSAf"
      },
      "source": [
        "\n",
        "### Changing the Neural network\n",
        "\n",
        "By default, dnngior uses its built-in neural network (NN) to predict which reactions should be added during gap filling. You can however provide your own or use a different .\n",
        "\n",
        "We will train our own network in the next part of the workshop. For now we can one of the other networks from /DNNGIOR/docs/NN/custom_networks/.\n",
        "\n",
        "To specify a custom NN, update the trainedNNPath parameter accordingly."
      ]
    },
    {
      "cell_type": "code",
      "execution_count": null,
      "metadata": {
        "id": "X_EgqJfycSAh"
      },
      "outputs": [],
      "source": [
        "dif_NN_gapfill = Gapfill(path_to_draft_model, trainedNNPath='DNNGIOR/docs/NN/custom_networks/Phylum_Actinobacteria.npz')"
      ]
    },
    {
      "cell_type": "markdown",
      "metadata": {
        "id": "arzhqO8ZcSAh"
      },
      "source": [
        "### Blacklisting reactions\n",
        "\n",
        "You might want to exclude specific reactions from the gap-filling database (e.g. they are unbalanced or you know cannot be present based on other data), this can be done using the blacklist argument:"
      ]
    },
    {
      "cell_type": "code",
      "execution_count": null,
      "metadata": {
        "id": "x8Wmu9x0cSAi"
      },
      "outputs": [],
      "source": [
        "blackList = ['rxn99999_c0']\n",
        "gapfill_with_blacklist = Gapfill(path_to_draft_model, black_list = blackList, objectiveName = 'bio1')"
      ]
    },
    {
      "cell_type": "markdown",
      "metadata": {
        "id": "IlWZ4ixbcSAi"
      },
      "source": [
        "Sometimes reactions are unavoidable (i.e. no solution can be found without them), but you want as few of them as possible. You could manually set the weights of these reactions (see below) but to make it easier you can set a grey list. By default these reactions get a cost of 1,000 but you can change this using punish_cost."
      ]
    },
    {
      "cell_type": "code",
      "execution_count": null,
      "metadata": {
        "id": "cdvOYMZ-cSAj"
      },
      "outputs": [],
      "source": [
        "greyList = ['rxn04070_c0','rxn05467_c0','rxn00543_c0']\n",
        "gapfill_with_greylist = Gapfill(path_to_draft_model, grey_list = greyList, punish_cost = 5000, objectiveName = 'bio1')"
      ]
    },
    {
      "cell_type": "markdown",
      "metadata": {
        "id": "iu2q3Z9zcSAt"
      },
      "source": [
        "### Custom scores\n",
        "\n",
        "The final option is to use fully custom scores. This is by far the most flexible option, you can make any changes to any reaction you want. To make these changes it is useful to set the gapfill parameter to False. This stops the gapfilling class from automatically continuing to the gapfilling step."
      ]
    },
    {
      "cell_type": "code",
      "execution_count": null,
      "metadata": {
        "id": "lAP11_-6cSAu"
      },
      "outputs": [],
      "source": [
        "ungapfilled_model = Gapfill(draftModel = path_to_draft_model, gapfill=False)"
      ]
    },
    {
      "cell_type": "markdown",
      "metadata": {
        "id": "0SkiXYg8cSAu"
      },
      "source": [
        "Then you can change your candidates using the set_weights function"
      ]
    },
    {
      "cell_type": "code",
      "execution_count": null,
      "metadata": {
        "id": "Ne1huIxecSAu"
      },
      "outputs": [],
      "source": [
        "import json\n",
        "s_file = open(os.path.join('DNNGIOR', 'docs', 'NN','single_example.json'))\n",
        "scores = json.loads(s_file.read())\n",
        "s_file.close()\n",
        "\n",
        "ungapfilled_model.set_weights(scores)"
      ]
    },
    {
      "cell_type": "markdown",
      "metadata": {
        "id": "YrFaq-QacSAv"
      },
      "source": [
        "or manually set reactions directly"
      ]
    },
    {
      "cell_type": "code",
      "execution_count": null,
      "metadata": {
        "id": "un8IyfyRcSAv"
      },
      "outputs": [],
      "source": [
        "ungapfilled_model.weights['rnx0001'] = 0.4"
      ]
    },
    {
      "cell_type": "markdown",
      "metadata": {
        "id": "cLWh6H42cSAw"
      },
      "source": [
        "reloading your model will reset them back to the NN-predicted weights but there is also a function for this:"
      ]
    },
    {
      "cell_type": "code",
      "execution_count": null,
      "metadata": {
        "id": "8gYK3NvLcSAw"
      },
      "outputs": [],
      "source": [
        "ungapfilled_model.reset_weights()"
      ]
    }
  ],
  "metadata": {
    "colab": {
      "provenance": [],
      "collapsed_sections": [
        "3bCJ5S4gcSAW"
      ],
      "include_colab_link": true
    },
    "kernelspec": {
      "display_name": "Python 3",
      "name": "python3"
    },
    "language_info": {
      "name": "python"
    }
  },
  "nbformat": 4,
  "nbformat_minor": 0
}