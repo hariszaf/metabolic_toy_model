{
  "cells": [
    {
      "cell_type": "markdown",
      "metadata": {
        "id": "view-in-github",
        "colab_type": "text"
      },
      "source": [
        "<a href=\"https://colab.research.google.com/github/hariszaf/metabolic_toy_model/blob/main/Copy_of_DNNGIORtraining.ipynb\" target=\"_parent\"><img src=\"https://colab.research.google.com/assets/colab-badge.svg\" alt=\"Open In Colab\"/></a>"
      ]
    },
    {
      "cell_type": "markdown",
      "metadata": {
        "id": "T8LbxwOozGpm"
      },
      "source": [
        "# **Use DNNGIOR On Your Own Training Set**"
      ]
    },
    {
      "cell_type": "markdown",
      "source": [
        "## Google Collab part"
      ],
      "metadata": {
        "id": "zfYBcGfpaMjl"
      }
    },
    {
      "cell_type": "code",
      "source": [
        "# @title Install dependencies\n",
        "!pip install tensorflow==2.15.1\n",
        "!pip install cobra\n",
        "!pip install dnngior --no-deps\n",
        "!pip install gurobipy"
      ],
      "metadata": {
        "id": "Qnkd-lBAencb",
        "cellView": "form"
      },
      "execution_count": null,
      "outputs": []
    },
    {
      "cell_type": "code",
      "source": [
        "!git clone https://github.com/hariszaf/metabolic_toy_model.git"
      ],
      "metadata": {
        "id": "aG5TcpWvdgc9"
      },
      "execution_count": null,
      "outputs": []
    },
    {
      "cell_type": "code",
      "source": [
        "cd metabolic_toy_model/Antony2025/"
      ],
      "metadata": {
        "id": "EW9tsKKEfWgM",
        "outputId": "30e57080-92ab-4c58-dad6-46d26d9e65ce",
        "colab": {
          "base_uri": "https://localhost:8080/"
        }
      },
      "execution_count": null,
      "outputs": [
        {
          "output_type": "stream",
          "name": "stdout",
          "text": [
            "/content/metabolic_toy_model/Antony2025\n"
          ]
        }
      ]
    },
    {
      "cell_type": "markdown",
      "source": [
        "## Introduction"
      ],
      "metadata": {
        "id": "FTZSVRHsdIqG"
      }
    },
    {
      "cell_type": "code",
      "source": [
        "# @title general dependencies\n",
        "import numpy as np\n",
        "import pandas as pd\n",
        "import os\n",
        "import sys\n",
        "from pathlib import Path\n",
        "import tensorflow as tf"
      ],
      "metadata": {
        "cellView": "form",
        "id": "owLVcRsdSfAo"
      },
      "execution_count": null,
      "outputs": []
    },
    {
      "cell_type": "markdown",
      "metadata": {
        "id": "cxlLifb0RO-J"
      },
      "source": [
        "For this workshop we are going to use the NN_Trainer, NN_Predictor and Gapfill classes of DNNGIOR as well as the read_sbml_model from cobra"
      ]
    },
    {
      "cell_type": "code",
      "execution_count": null,
      "metadata": {
        "id": "sNT_SUqwRO-J"
      },
      "outputs": [],
      "source": [
        "from dnngior import NN_Trainer\n",
        "from dnngior import NN_Predictor\n",
        "from dnngior import Gapfill\n",
        "from cobra.io import read_sbml_model"
      ]
    },
    {
      "cell_type": "markdown",
      "metadata": {
        "id": "tXPz08uLRO-K"
      },
      "source": [
        "## Generating reaction presence dataframe\n",
        "\n",
        "By default DNNGIOR uses a neural network trained on a best-per-species dataset, that has learned the coocurences of reactions encoded by the genomes. If we want to train our own network we need to prepare our own training data we need to take a set genomes and determine the reactions present. The easiest way for this is to take the draft models of our genomes and generate a binary array encoding which models contain which reactions.\n",
        "\n",
        "[fig](/figs/training.png)\n",
        "\n",
        "We need a list of all possible reactions found in our training data, which will serve as the rows in our dataset. We will keep track of the reactions for every model in a dictionary for the first loop where we are determining the reactome of our training data."
      ]
    },
    {
      "cell_type": "code",
      "source": [
        "#path to training models\n",
        "model_path =  'files/models/one_per_phylum_models/'\n",
        "\n",
        "#list of model-ids of draft-models\n",
        "paths  = os.listdir(model_path)[:3]\n",
        "model_ids = []\n",
        "for filename in paths:\n",
        "    model_ids.append(filename[:-5])\n",
        "\n",
        "\n",
        "model_reaction_dic = {}\n",
        "rxn = []\n",
        "for file_path, model_id in zip(paths,model_ids):\n",
        "    print(model_id)\n",
        "    model = read_sbml_model(os.path.join(model_path, file_path))\n",
        "    rs = set(model.reactions.list_attr('id'))\n",
        "    model_reaction_dic[model_id]=rs\n",
        "\n",
        "    #generate a list of all possible reactions\n",
        "    for i in list(rs):\n",
        "         if i not in rxn and not i.startswith('EX_'):\n",
        "             rxn.append(i)"
      ],
      "metadata": {
        "id": "X1y8QYx2l0Tw",
        "outputId": "718c15c7-1f03-4e52-c81b-ef6c98a9b745",
        "colab": {
          "base_uri": "https://localhost:8080/"
        }
      },
      "execution_count": null,
      "outputs": [
        {
          "output_type": "stream",
          "name": "stdout",
          "text": [
            "Bdellovibrionota\n",
            "Aquificota\n",
            "Bacteroidota\n"
          ]
        }
      ]
    },
    {
      "cell_type": "markdown",
      "source": [
        "We can then determine for every draft training models which of these reactions are present and create a binary list of reactions presences. We will end up with a binary array with as rows the different reactions and as columns all models in the training dataset."
      ],
      "metadata": {
        "id": "46r2lZAPmAYe"
      }
    },
    {
      "cell_type": "code",
      "source": [
        "#output path training data\n",
        "output_path = 'one_per_phylum_training_data_example.csv'\n",
        "\n",
        "reaction_df=pd.DataFrame(index=rxn, columns=model_ids)\n",
        "\n",
        "for key, value in model_reaction_dic.items():\n",
        "    a = []\n",
        "    for i in rxn:\n",
        "        if i in value:\n",
        "            a.append(1)\n",
        "        else:\n",
        "            a.append(0)\n",
        "    reaction_df[key]=a\n",
        "\n",
        "#saving to pandas file\n",
        "reaction_df.to_csv(output_path)"
      ],
      "metadata": {
        "id": "UCkM7IyjmDmL"
      },
      "execution_count": null,
      "outputs": []
    },
    {
      "cell_type": "markdown",
      "source": [
        "We can have a look at the distribution of reaction set sizes to see if the extraction was succesful."
      ],
      "metadata": {
        "id": "lIvsS5iSmoWX"
      }
    },
    {
      "cell_type": "code",
      "execution_count": null,
      "metadata": {
        "id": "y-jk3N1fRO-M",
        "outputId": "5f90bc55-369e-4a1f-cf5b-861c381d166e",
        "colab": {
          "base_uri": "https://localhost:8080/",
          "height": 448
        }
      },
      "outputs": [
        {
          "output_type": "execute_result",
          "data": {
            "text/plain": [
              "<Axes: >"
            ]
          },
          "metadata": {},
          "execution_count": 24
        },
        {
          "output_type": "display_data",
          "data": {
            "text/plain": [
              "<Figure size 640x480 with 1 Axes>"
            ],
            "image/png": "[encoded data removed]"
          },
          "metadata": {}
        }
      ],
      "source": [
        "reaction_df = pd.read_csv('files/one_per_phylum_training_data.csv', index_col=0)\n",
        "reaction_df.sum().hist()"
      ]
    },
    {
      "cell_type": "markdown",
      "source": [
        "### Challenge:\n",
        "\n",
        "Create a training dataset based on 10 Shewanella models"
      ],
      "metadata": {
        "id": "7FetNGRve3gI"
      }
    },
    {
      "cell_type": "code",
      "source": [
        "# @title Solution\n",
        "\n",
        "#path to training models\n",
        "model_path =  './files/models/shewanella_models'\n",
        "\n",
        "#list of model-ids of draft-models\n",
        "paths  = os.listdir(model_path)\n",
        "model_ids = []\n",
        "for filename in paths:\n",
        "    model_ids.append(filename[:-5])\n",
        "\n",
        "\n",
        "shewanella_model_reaction_dic = {}\n",
        "rxn = []\n",
        "for file_path, model_id in zip(paths,model_ids):\n",
        "    print(model_id)\n",
        "    model = read_sbml_model(os.path.join(model_path, file_path))\n",
        "    rs = set(model.reactions.list_attr('id'))\n",
        "    shewanella_model_reaction_dic[model_id]=rs\n",
        "\n",
        "    #generate a list of all possible reactions\n",
        "    for i in list(rs):\n",
        "         if i not in rxn and not i.startswith('EX_'):\n",
        "             rxn.append(i)\n",
        "\n",
        "#output path training data\n",
        "output_path = './files/shewanella_training_data_example.csv'\n",
        "\n",
        "shewanella_reaction_df=pd.DataFrame(index=rxn, columns=model_ids)\n",
        "\n",
        "for key, value in shewanella_model_reaction_dic.items():\n",
        "    a = []\n",
        "    for i in rxn:\n",
        "        if i in value:\n",
        "            a.append(1)\n",
        "        else:\n",
        "            a.append(0)\n",
        "    shewanella_reaction_df[key]=a\n",
        "\n",
        "#saving to pandas file\n",
        "shewanella_reaction_df.to_csv(output_path)\n"
      ],
      "metadata": {
        "id": "SY4E5EZLHDJU",
        "cellView": "form"
      },
      "execution_count": null,
      "outputs": []
    },
    {
      "cell_type": "markdown",
      "metadata": {
        "id": "TQde0hb4RO-O"
      },
      "source": [
        "## Training the Neural Network\n",
        "\n",
        "Now that we have prepared the training data, we can start training the network. During training the network will generate the feature by randomly deleting reactions from the input data and then try to predict the missing reactions.\n",
        "\n",
        "We do this using the train function of the `NN_Trainer` class. This function will return a object of the predictor class (`NN_predictor`) containing the network, the reaction keys and modeltype. If a `output_path` is provided, it will also save it as a npz file.\n"
      ]
    },
    {
      "cell_type": "code",
      "execution_count": null,
      "metadata": {
        "id": "kzp48PRVRO-O",
        "outputId": "1b27c9ae-1ad3-4f57-f9fb-0f4feaecccf7",
        "colab": {
          "base_uri": "https://localhost:8080/"
        }
      },
      "outputs": [
        {
          "output_type": "stream",
          "name": "stdout",
          "text": [
            "Num GPUs Available:  0\n",
            "Saving network at: ./files/NN_phylum.npz\n",
            "using data as labels\n",
            "dataset created\n",
            "training on data with shape: (3060, 1996) with 1482342.0 reactions\n",
            "Model: \"sequential_3\"\n",
            "_________________________________________________________________\n",
            " Layer (type)                Output Shape              Param #   \n",
            "=================================================================\n",
            " dense_6 (Dense)             (None, 256)               511232    \n",
            "                                                                 \n",
            " dropout_3 (Dropout)         (None, 256)               0         \n",
            "                                                                 \n",
            " dense_7 (Dense)             (None, 1996)              512972    \n",
            "                                                                 \n",
            "=================================================================\n",
            "Total params: 1024204 (3.91 MB)\n",
            "Trainable params: 1024204 (3.91 MB)\n",
            "Non-trainable params: 0 (0.00 Byte)\n",
            "_________________________________________________________________\n",
            "Train on 3060 samples\n",
            "Epoch 1/10\n",
            "3060/3060 [==============================] - 2s 552us/sample - loss: 0.0514 - auc_3: 0.9323 - precision_3: 0.8884 - recall_3: 0.6150\n",
            "Epoch 2/10\n",
            "3060/3060 [==============================] - 2s 508us/sample - loss: 0.0230 - auc_3: 0.9827 - precision_3: 0.9707 - recall_3: 0.8080\n",
            "Epoch 3/10\n",
            "3060/3060 [==============================] - 2s 509us/sample - loss: 0.0128 - auc_3: 0.9925 - precision_3: 0.9874 - recall_3: 0.8902\n",
            "Epoch 4/10\n",
            "3060/3060 [==============================] - 2s 512us/sample - loss: 0.0087 - auc_3: 0.9953 - precision_3: 0.9915 - recall_3: 0.9249\n",
            "Epoch 5/10\n",
            "3060/3060 [==============================] - 2s 498us/sample - loss: 0.0067 - auc_3: 0.9965 - precision_3: 0.9929 - recall_3: 0.9414\n",
            "Epoch 6/10\n",
            "3060/3060 [==============================] - 2s 570us/sample - loss: 0.0055 - auc_3: 0.9971 - precision_3: 0.9944 - recall_3: 0.9520\n",
            "Epoch 7/10\n",
            "3060/3060 [==============================] - 3s 869us/sample - loss: 0.0047 - auc_3: 0.9975 - precision_3: 0.9948 - recall_3: 0.9591\n",
            "Epoch 8/10\n",
            "3060/3060 [==============================] - 2s 545us/sample - loss: 0.0041 - auc_3: 0.9977 - precision_3: 0.9955 - recall_3: 0.9636\n",
            "Epoch 9/10\n",
            "3060/3060 [==============================] - 2s 501us/sample - loss: 0.0037 - auc_3: 0.9978 - precision_3: 0.9958 - recall_3: 0.9668\n",
            "Epoch 10/10\n",
            "3060/3060 [==============================] - 1s 486us/sample - loss: 0.0035 - auc_3: 0.9978 - precision_3: 0.9956 - recall_3: 0.9691\n",
            "The weights of the first layer of the network: \n",
            "[[-0.05532394  0.02780876 -0.04888495 ... -0.01631916 -0.02020341\n",
            "  -0.09851436]\n",
            " [-0.00847579 -0.01241909 -0.04913761 ...  0.00341344  0.0982717\n",
            "   0.0750633 ]\n",
            " [-0.09369241  0.22970325 -0.05575584 ... -0.00175444 -0.01364155\n",
            "   0.00233902]\n",
            " ...\n",
            " [-0.00507847 -0.03016448 -0.0165139  ...  0.0322124   0.04032706\n",
            "  -0.06620627]\n",
            " [-0.01804595 -0.03655989 -0.00065236 ... -0.01660304 -0.05015653\n",
            "  -0.07814317]\n",
            " [-0.03299336 -0.0782216   0.01830579 ... -0.04494023 -0.01143184\n",
            "  -0.03983468]]\n",
            "The rxn_keys: \n",
            "['rxn05406_c0' 'rxn02895_c0' 'rxn42709_c0' ... 'rxn10415_c0' 'rxn09069_c0'\n",
            " 'rxn01883_c0']\n",
            "The Modeltype: ModelSEED\n"
          ]
        }
      ],
      "source": [
        "#Load in a our training sample\n",
        "training_data_path = './files/one_per_phylum_training_data.csv'\n",
        "training_data = pd.read_csv(training_data_path, index_col=0)\n",
        "\n",
        "#set save path\n",
        "save_path = './files/NN_phylum.npz'\n",
        "\n",
        "#Train the network\n",
        "NN_example = NN_Trainer.train(data=training_data, modeltype='ModelSEED',output_path=save_path)\n",
        "\n",
        "print(\"The weights of the first layer of the network: \\n{}\".format(NN_example.network[0][0]))\n",
        "print(\"The rxn_keys: \\n{}\".format(NN_example.rxn_keys.values))\n",
        "print(\"The Modeltype: {}\".format(NN_example.modeltype))"
      ]
    },
    {
      "cell_type": "markdown",
      "metadata": {
        "id": "ThBNDvT9RO-P"
      },
      "source": [
        " By default the network in the NN_predictor is not a full tensorflow object but rather an array of the weights and biases of the different layers. It can still be used to make predictions while being less memory intensive by using matrix multiplication:\n",
        "\n",
        "        a = input\n",
        "        for layer in self.network:\n",
        "            a = a.clip(0)\n",
        "            a = ((a @ layer[0]) + layer[1])\n",
        "        prediction =  1 / (1 + np.exp(-a))#sigmoid(a)\n",
        "        \n",
        "Which is build into the NN_Predictor class. You don't really have to know this, but it a fun way to see how neural networks work."
      ]
    },
    {
      "cell_type": "markdown",
      "source": [
        "### Challenge:\n",
        "Train a neural network specialised for the Shawanella genus.\n",
        "\n",
        " (Note: I have provided a full training dataset of all Shawanella models in the files folder as `shewanella_training_dataset.csv`)"
      ],
      "metadata": {
        "id": "2lXw0LJ3_qdX"
      }
    },
    {
      "cell_type": "code",
      "source": [
        "# @title Solution\n",
        "#Load in a our training sample\n",
        "shewanella_training_data_path = './files/shewanella_training_data.csv'\n",
        "shewanella_training_data = pd.read_csv(shewanella_training_data_path, index_col=0)\n",
        "\n",
        "#set save path\n",
        "save_path = './files/NN_shewanella.npz'\n",
        "\n",
        "#Train the network\n",
        "NN_shewanella = NN_Trainer.train(data=shewanella_training_data, modeltype='ModelSEED',output_path=save_path)"
      ],
      "metadata": {
        "id": "3Iasf2mWGZYR",
        "collapsed": true,
        "outputId": "39c58507-846b-4544-f49c-172d48057a83",
        "colab": {
          "base_uri": "https://localhost:8080/"
        }
      },
      "execution_count": null,
      "outputs": [
        {
          "output_type": "stream",
          "name": "stdout",
          "text": [
            "Num GPUs Available:  0\n",
            "Saving network at: ./files/NN_shewanella.npz\n",
            "using data as labels\n",
            "dataset created\n",
            "training on data with shape: (2010, 1592) with 1961372.0 reactions\n",
            "Model: \"sequential_1\"\n",
            "_________________________________________________________________\n",
            " Layer (type)                Output Shape              Param #   \n",
            "=================================================================\n",
            " dense_2 (Dense)             (None, 256)               407808    \n",
            "                                                                 \n",
            " dropout_1 (Dropout)         (None, 256)               0         \n",
            "                                                                 \n",
            " dense_3 (Dense)             (None, 1592)              409144    \n",
            "                                                                 \n",
            "=================================================================\n",
            "Total params: 816952 (3.12 MB)\n",
            "Trainable params: 816952 (3.12 MB)\n",
            "Non-trainable params: 0 (0.00 Byte)\n",
            "_________________________________________________________________\n",
            "Train on 2010 samples\n",
            "Epoch 1/10\n",
            "2010/2010 [==============================] - 1s 478us/sample - loss: 0.0249 - auc_1: 0.9853 - precision_1: 0.9807 - recall_1: 0.9366\n",
            "Epoch 2/10\n",
            "2010/2010 [==============================] - 1s 379us/sample - loss: 0.0122 - auc_1: 0.9958 - precision_1: 0.9935 - recall_1: 0.9641\n",
            "Epoch 3/10\n",
            "2010/2010 [==============================] - 1s 419us/sample - loss: 0.0088 - auc_1: 0.9978 - precision_1: 0.9958 - recall_1: 0.9741\n",
            "Epoch 4/10\n",
            "2010/2010 [==============================] - 1s 420us/sample - loss: 0.0069 - auc_1: 0.9986 - precision_1: 0.9969 - recall_1: 0.9799\n",
            "Epoch 5/10\n",
            "2010/2010 [==============================] - 1s 410us/sample - loss: 0.0057 - auc_1: 0.9990 - precision_1: 0.9975 - recall_1: 0.9834\n",
            "Epoch 6/10\n",
            "2010/2010 [==============================] - 1s 400us/sample - loss: 0.0050 - auc_1: 0.9992 - precision_1: 0.9977 - recall_1: 0.9857\n",
            "Epoch 7/10\n",
            "2010/2010 [==============================] - 1s 387us/sample - loss: 0.0046 - auc_1: 0.9993 - precision_1: 0.9979 - recall_1: 0.9870\n",
            "Epoch 8/10\n",
            "2010/2010 [==============================] - 1s 419us/sample - loss: 0.0041 - auc_1: 0.9994 - precision_1: 0.9982 - recall_1: 0.9883\n",
            "Epoch 9/10\n",
            "2010/2010 [==============================] - 1s 466us/sample - loss: 0.0038 - auc_1: 0.9995 - precision_1: 0.9984 - recall_1: 0.9890\n",
            "Epoch 10/10\n",
            "2010/2010 [==============================] - 1s 672us/sample - loss: 0.0036 - auc_1: 0.9995 - precision_1: 0.9985 - recall_1: 0.9899\n"
          ]
        }
      ]
    },
    {
      "cell_type": "markdown",
      "source": [
        "## Making predictions\n",
        "\n",
        "As expected we can now use the network to make predictions directly using the predict funciton or have the gapfiller use the new network to gapfill models using the `trainedNNPath` argument from the gapfill class"
      ],
      "metadata": {
        "id": "ogXUGoRIq6mK"
      }
    },
    {
      "cell_type": "code",
      "execution_count": null,
      "metadata": {
        "id": "PdDyXp8pRO-S",
        "outputId": "51c79dd2-5bea-4ec6-ed08-3cbaccde87f0",
        "colab": {
          "base_uri": "https://localhost:8080/",
          "height": 898
        }
      },
      "outputs": [
        {
          "output_type": "stream",
          "name": "stdout",
          "text": [
            "#reactions not found in NN-keys:  65 / 726\n",
            "Gap-filling database =  ModelSEED\n"
          ]
        },
        {
          "output_type": "stream",
          "name": "stderr",
          "text": [
            "ERROR:cobra.io.sbml:No objective coefficients in model. Unclear what should be optimized\n"
          ]
        },
        {
          "output_type": "stream",
          "name": "stdout",
          "text": [
            "#reactions not found in NN-keys:  65 / 726\n",
            "Warning for adding constraints: zero or small (< 1e-13) coefficients, ignored\n"
          ]
        },
        {
          "output_type": "error",
          "ename": "GurobiError",
          "evalue": "Model too large for size-limited license; visit https://gurobi.com/unrestricted for more information",
          "traceback": [
            "\u001b[0;31m---------------------------------------------------------------------------\u001b[0m",
            "\u001b[0;31mGurobiError\u001b[0m                               Traceback (most recent call last)",
            "\u001b[0;32m<ipython-input-27-7070fc826421>\u001b[0m in \u001b[0;36m<cell line: 0>\u001b[0;34m()\u001b[0m\n\u001b[1;32m      3\u001b[0m \u001b[0mp\u001b[0m \u001b[0;34m=\u001b[0m \u001b[0mNN_example\u001b[0m\u001b[0;34m.\u001b[0m\u001b[0mpredict\u001b[0m\u001b[0;34m(\u001b[0m\u001b[0mdraft_model\u001b[0m\u001b[0;34m)\u001b[0m\u001b[0;34m\u001b[0m\u001b[0;34m\u001b[0m\u001b[0m\n\u001b[1;32m      4\u001b[0m \u001b[0mpd\u001b[0m\u001b[0;34m.\u001b[0m\u001b[0mSeries\u001b[0m\u001b[0;34m(\u001b[0m\u001b[0mp\u001b[0m\u001b[0;34m)\u001b[0m\u001b[0;34m.\u001b[0m\u001b[0mhist\u001b[0m\u001b[0;34m(\u001b[0m\u001b[0;34m)\u001b[0m\u001b[0;34m\u001b[0m\u001b[0;34m\u001b[0m\u001b[0m\n\u001b[0;32m----> 5\u001b[0;31m \u001b[0mgapfill_model_custom_nn\u001b[0m \u001b[0;34m=\u001b[0m \u001b[0mGapfill\u001b[0m\u001b[0;34m(\u001b[0m\u001b[0mdraftModel\u001b[0m \u001b[0;34m=\u001b[0m \u001b[0mpath_to_draft_model\u001b[0m\u001b[0;34m,\u001b[0m \u001b[0mobjectiveName\u001b[0m \u001b[0;34m=\u001b[0m \u001b[0;34m'bio1'\u001b[0m\u001b[0;34m,\u001b[0m \u001b[0mtrainedNNPath\u001b[0m\u001b[0;34m=\u001b[0m\u001b[0;34m'./files/NN_phylum.npz'\u001b[0m\u001b[0;34m)\u001b[0m\u001b[0;34m\u001b[0m\u001b[0;34m\u001b[0m\u001b[0m\n\u001b[0m",
            "\u001b[0;32m/usr/local/lib/python3.11/dist-packages/dnngior/gapfill_class.py\u001b[0m in \u001b[0;36m__init__\u001b[0;34m(self, draftModel, trainedNNPath, medium, medium_file, black_list, grey_list, punish_cost, default_cost, objectiveName, dbType, gapfill)\u001b[0m\n\u001b[1;32m    136\u001b[0m \u001b[0;34m\u001b[0m\u001b[0m\n\u001b[1;32m    137\u001b[0m         \u001b[0;32mif\u001b[0m \u001b[0mgapfill\u001b[0m\u001b[0;34m:\u001b[0m\u001b[0;34m\u001b[0m\u001b[0;34m\u001b[0m\u001b[0m\n\u001b[0;32m--> 138\u001b[0;31m             \u001b[0mself\u001b[0m\u001b[0;34m.\u001b[0m\u001b[0mgapfill\u001b[0m\u001b[0;34m(\u001b[0m\u001b[0;34m)\u001b[0m\u001b[0;34m\u001b[0m\u001b[0;34m\u001b[0m\u001b[0m\n\u001b[0m\u001b[1;32m    139\u001b[0m \u001b[0;34m\u001b[0m\u001b[0m\n\u001b[1;32m    140\u001b[0m     def build_gurobi_model(self,\n",
            "\u001b[0;32m/usr/local/lib/python3.11/dist-packages/dnngior/gapfill_class.py\u001b[0m in \u001b[0;36mgapfill\u001b[0;34m(self, result_selection)\u001b[0m\n\u001b[1;32m    416\u001b[0m \u001b[0;34m\u001b[0m\u001b[0m\n\u001b[1;32m    417\u001b[0m         \u001b[0;31m# Run gapfilling algorithm\u001b[0m\u001b[0;34m\u001b[0m\u001b[0;34m\u001b[0m\u001b[0m\n\u001b[0;32m--> 418\u001b[0;31m         split_gapfill_result = self.binarySearch(all_reactions_split,\n\u001b[0m\u001b[1;32m    419\u001b[0m                                                  \u001b[0mdraft_reaction_ids_split\u001b[0m\u001b[0;34m,\u001b[0m\u001b[0;34m\u001b[0m\u001b[0;34m\u001b[0m\u001b[0m\n\u001b[1;32m    420\u001b[0m                                                  \u001b[0mcand_reacs\u001b[0m\u001b[0;34m,\u001b[0m\u001b[0;34m\u001b[0m\u001b[0;34m\u001b[0m\u001b[0m\n",
            "\u001b[0;32m/usr/local/lib/python3.11/dist-packages/dnngior/gapfill_class.py\u001b[0m in \u001b[0;36mbinarySearch\u001b[0;34m(self, all_reactions_split, N, M, B)\u001b[0m\n\u001b[1;32m    501\u001b[0m \u001b[0;34m\u001b[0m\u001b[0m\n\u001b[1;32m    502\u001b[0m         \u001b[0;31m# Check if the model is gapfillable :)\u001b[0m\u001b[0;34m\u001b[0m\u001b[0;34m\u001b[0m\u001b[0m\n\u001b[0;32m--> 503\u001b[0;31m         \u001b[0mgu_model\u001b[0m \u001b[0;34m=\u001b[0m \u001b[0mself\u001b[0m\u001b[0;34m.\u001b[0m\u001b[0mbuild_gurobi_model\u001b[0m\u001b[0;34m(\u001b[0m\u001b[0mreaction_dict\u001b[0m\u001b[0;34m,\u001b[0m \u001b[0mmetabolite_dict\u001b[0m\u001b[0;34m,\u001b[0m \u001b[0mB\u001b[0m\u001b[0;34m,\u001b[0m \u001b[0mN\u001b[0m\u001b[0;34m,\u001b[0m \u001b[0mM\u001b[0m\u001b[0;34m,\u001b[0m \u001b[0mdelta\u001b[0m \u001b[0;34m=\u001b[0m \u001b[0;36m1\u001b[0m\u001b[0;34m)\u001b[0m\u001b[0;34m\u001b[0m\u001b[0;34m\u001b[0m\u001b[0m\n\u001b[0m\u001b[1;32m    504\u001b[0m \u001b[0;34m\u001b[0m\u001b[0m\n\u001b[1;32m    505\u001b[0m \u001b[0;34m\u001b[0m\u001b[0m\n",
            "\u001b[0;32m/usr/local/lib/python3.11/dist-packages/dnngior/gapfill_class.py\u001b[0m in \u001b[0;36mbuild_gurobi_model\u001b[0;34m(self, reaction_dict, metabolite_dict, objective_name, model_reactions, candidate_reactions, delta)\u001b[0m\n\u001b[1;32m    245\u001b[0m         \u001b[0;31m# Keep gurobi silent\u001b[0m\u001b[0;34m\u001b[0m\u001b[0;34m\u001b[0m\u001b[0m\n\u001b[1;32m    246\u001b[0m         \u001b[0mm\u001b[0m\u001b[0;34m.\u001b[0m\u001b[0msetParam\u001b[0m\u001b[0;34m(\u001b[0m\u001b[0;34m'OutputFlag'\u001b[0m\u001b[0;34m,\u001b[0m \u001b[0;32mFalse\u001b[0m\u001b[0;34m)\u001b[0m\u001b[0;34m\u001b[0m\u001b[0;34m\u001b[0m\u001b[0m\n\u001b[0;32m--> 247\u001b[0;31m         \u001b[0mm\u001b[0m\u001b[0;34m.\u001b[0m\u001b[0moptimize\u001b[0m\u001b[0;34m(\u001b[0m\u001b[0;34m)\u001b[0m\u001b[0;34m\u001b[0m\u001b[0;34m\u001b[0m\u001b[0m\n\u001b[0m\u001b[1;32m    248\u001b[0m \u001b[0;34m\u001b[0m\u001b[0m\n\u001b[1;32m    249\u001b[0m         \u001b[0;32mreturn\u001b[0m \u001b[0mm\u001b[0m\u001b[0;34m\u001b[0m\u001b[0;34m\u001b[0m\u001b[0m\n",
            "\u001b[0;32msrc/gurobipy/_model.pyx\u001b[0m in \u001b[0;36mgurobipy._model.Model.optimize\u001b[0;34m()\u001b[0m\n",
            "\u001b[0;31mGurobiError\u001b[0m: Model too large for size-limited license; visit https://gurobi.com/unrestricted for more information"
          ]
        },
        {
          "output_type": "display_data",
          "data": {
            "text/plain": [
              "<Figure size 640x480 with 1 Axes>"
            ],
            "image/png": "[encoded data removed]"
          },
          "metadata": {}
        }
      ],
      "source": [
        "path_to_draft_model = './files/Bifidobacterium adolescentis_atcc_15703.sbml'\n",
        "draft_model = read_sbml_model(path_to_draft_model)\n",
        "p = NN_example.predict(draft_model)\n",
        "pd.Series(p).hist()\n",
        "gapfill_model_custom_nn = Gapfill(draftModel = path_to_draft_model, objectiveName = 'bio1', trainedNNPath='./files/NN_phylum.npz')\n"
      ]
    },
    {
      "cell_type": "markdown",
      "source": [
        "### Challenge:\n",
        "\n",
        "Use your newly trained network to gapfill any of the Shawanella models."
      ],
      "metadata": {
        "id": "vs9g5wLDbdAW"
      }
    },
    {
      "cell_type": "code",
      "source": [
        "# @title Solution\n",
        "path_to_draft_model = './files/models/shewanella_models/23_shewanella_colwelliana_gca_001735525.sbml'\n",
        "gapfill_model_shewanella = Gapfill(draftModel = path_to_draft_model, objectiveName = 'bio1', trainedNNPath='./files/NN_shewanella.npz')\n"
      ],
      "metadata": {
        "id": "wxBnG-dMbaN9",
        "cellView": "form"
      },
      "execution_count": null,
      "outputs": []
    },
    {
      "cell_type": "markdown",
      "metadata": {
        "id": "ro8nhzIQRO-S"
      },
      "source": [
        "# For the interested: Changing feature generation parameters\n",
        "\n",
        "Basically you now know how to train networks but there are many additional changes you want to make during training.\n",
        "\n",
        "During training the `generate_feature` function will automatically generate the training dataset. You can change several parameters for the generation of the feature:\n",
        "\n",
        "1. You can change the number of times each training model is used (nuplo, default=30).\n",
        "2. You can change the range of deletion percentages (min_for and max_for, default = 0.05 and 0.3), which will be removed in equal sized steps based on the number of replicates.\n",
        "3. You can weigh the deletion of certain reactions (del_p, default=None).\n",
        "4. You can also add false reactions (min_con and max_con) during training and change the weights of addition (con_p)*\n",
        "\n",
        "*Note: we do not currently use this for dnngior as it would not work with the masking of input reactions as the mask does not differentiate between contamination and real reactions.\n",
        "\n",
        "In the following example we set nuplo to 300 instead of 30, and we vary deletion between 0.2 and 0.5.\n",
        "\n",
        "`custom_feature = NN_Trainer.generate_feature(training_data, nuplo=300, min_for = 0.2, max_for = 0.5)`\n",
        "\n",
        "For convenience you can give the parameters to the train function and they will be passed on.\n",
        "\n",
        "`network = NN_Trainer.train(data=training_data, nuplo=300, min_for=0.2, max_for=0.5, modeltype='ModelSEED',save=False)`"
      ]
    },
    {
      "cell_type": "markdown",
      "source": [
        "### Challenge\n",
        "\n",
        "Train a neural network where the deletions are weighed by the frequency of the reaction"
      ],
      "metadata": {
        "id": "fuYPGYu_cZL4"
      }
    },
    {
      "cell_type": "code",
      "source": [
        "# @title Solution\n",
        "frequency = training_data.sum(axis=1)\n",
        "network = NN_Trainer.train(training_data, del_p = frequency, modeltype='ModelSEED',save=False)"
      ],
      "metadata": {
        "id": "XNMNp-34FpGx",
        "outputId": "46baedb6-6e01-43e1-955b-535aa638c77b",
        "colab": {
          "base_uri": "https://localhost:8080/"
        }
      },
      "execution_count": null,
      "outputs": [
        {
          "output_type": "stream",
          "name": "stdout",
          "text": [
            "Num GPUs Available:  0\n",
            "# WARNING: overwriting savefile\n",
            "using data as labels\n"
          ]
        },
        {
          "output_type": "stream",
          "name": "stderr",
          "text": [
            "/usr/local/lib/python3.11/dist-packages/dnngior/NN_Trainer.py:67: FutureWarning: Series.__getitem__ treating keys as positions is deprecated. In a future version, integer keys will always be treated as labels (consistent with DataFrame behavior). To access a value by position, use `ser.iloc[pos]`\n",
            "  del_p_norm = del_p[b]/np.sum(del_p[b])\n"
          ]
        },
        {
          "output_type": "stream",
          "name": "stdout",
          "text": [
            "dataset created\n",
            "training on data with shape: (3060, 1996) with 1482342.0 reactions\n",
            "Model: \"sequential_5\"\n",
            "_________________________________________________________________\n",
            " Layer (type)                Output Shape              Param #   \n",
            "=================================================================\n",
            " dense_10 (Dense)            (None, 256)               511232    \n",
            "                                                                 \n",
            " dropout_5 (Dropout)         (None, 256)               0         \n",
            "                                                                 \n",
            " dense_11 (Dense)            (None, 1996)              512972    \n",
            "                                                                 \n",
            "=================================================================\n",
            "Total params: 1024204 (3.91 MB)\n",
            "Trainable params: 1024204 (3.91 MB)\n",
            "Non-trainable params: 0 (0.00 Byte)\n",
            "_________________________________________________________________\n",
            "Train on 3060 samples\n",
            "Epoch 1/10\n",
            "3060/3060 [==============================] - 2s 672us/sample - loss: 0.0383 - auc_5: 0.9182 - precision_5: 0.8953 - recall_5: 0.6083\n",
            "Epoch 2/10\n",
            "3060/3060 [==============================] - 2s 591us/sample - loss: 0.0172 - auc_5: 0.9602 - precision_5: 0.9766 - recall_5: 0.7544\n",
            "Epoch 3/10\n",
            "3060/3060 [==============================] - 3s 888us/sample - loss: 0.0100 - auc_5: 0.9714 - precision_5: 0.9909 - recall_5: 0.8298\n",
            "Epoch 4/10\n",
            "3060/3060 [==============================] - 2s 491us/sample - loss: 0.0068 - auc_5: 0.9765 - precision_5: 0.9943 - recall_5: 0.8667\n",
            "Epoch 5/10\n",
            "3060/3060 [==============================] - 2s 513us/sample - loss: 0.0051 - auc_5: 0.9788 - precision_5: 0.9956 - recall_5: 0.8890\n",
            "Epoch 6/10\n",
            "3060/3060 [==============================] - 2s 503us/sample - loss: 0.0042 - auc_5: 0.9800 - precision_5: 0.9963 - recall_5: 0.9017\n",
            "Epoch 7/10\n",
            "3060/3060 [==============================] - 2s 498us/sample - loss: 0.0035 - auc_5: 0.9807 - precision_5: 0.9967 - recall_5: 0.9110\n",
            "Epoch 8/10\n",
            "3060/3060 [==============================] - 2s 496us/sample - loss: 0.0030 - auc_5: 0.9809 - precision_5: 0.9972 - recall_5: 0.9174\n",
            "Epoch 9/10\n",
            "3060/3060 [==============================] - 2s 495us/sample - loss: 0.0026 - auc_5: 0.9812 - precision_5: 0.9975 - recall_5: 0.9220\n",
            "Epoch 10/10\n",
            "3060/3060 [==============================] - 2s 690us/sample - loss: 0.0025 - auc_5: 0.9813 - precision_5: 0.9976 - recall_5: 0.9250\n"
          ]
        }
      ]
    },
    {
      "cell_type": "markdown",
      "source": [
        "# For the interested: Changing network parameters"
      ],
      "metadata": {
        "id": "auy5YVuNdjpQ"
      }
    },
    {
      "cell_type": "markdown",
      "metadata": {
        "id": "LKx7GkUuRO-U"
      },
      "source": [
        "Finally, you can rely on the default parameters to define the network which we optimised for our usecase, but for optimal perfomance on different datasets, you might want to change the hyperparameters (dropout, batch size), the architecture (nnodes, nlayers) or bias of predicted classes (bias0). You can also disable the masking of input positions during loss calculation (maskI=False).\n",
        "\n",
        "You can also provide a validation split which will set apart a part of your input data during training and calculate scores after to validate your network."
      ]
    },
    {
      "cell_type": "markdown",
      "source": [
        "###Challenge:\n",
        "\n",
        "Train a network that can predict contamination instead of omissions."
      ],
      "metadata": {
        "id": "KotDYkOaamzO"
      }
    },
    {
      "cell_type": "code",
      "source": [
        "# @title Solution\n",
        "network = NN_Trainer.train(data=training_data, maskI=False, min_con = 0.05, max_con=0.55, modeltype='ModelSEED',save=False)"
      ],
      "metadata": {
        "cellView": "form",
        "id": "90iWNlPkRrfI"
      },
      "execution_count": null,
      "outputs": []
    },
    {
      "cell_type": "markdown",
      "metadata": {
        "id": "jNTwOnxfRO-V"
      },
      "source": [
        "# For the extra interested: Tensorflow object\n",
        "\n",
        "By default the function returns a class with the simplified network but you very well might want instead the full Tensorflow network. To do this you can set return_full_network = True, which will change the NN_predictor to contain a Tensorflow network instead, there modeltype and rxn keys work the same. If you want to save this different class you need to change the file extension to .h5.\n",
        "\n",
        "If you set return_history = True it will also return the history of training for optimisation purposes."
      ]
    },
    {
      "cell_type": "code",
      "execution_count": null,
      "metadata": {
        "id": "p0e0PPlaRO-V"
      },
      "outputs": [],
      "source": [
        "save_path = os.path.join('files', 'NN_phylum.h5')\n",
        "NN_tensorflow, history = NN_Trainer.train(data=training_data, return_full_network=True, modeltype='ModelSEED', output_path=save_path, return_history=True)"
      ]
    },
    {
      "cell_type": "markdown",
      "metadata": {
        "id": "LQS12HxyRO-V"
      },
      "source": [
        "The main reason we dont use the full network is to save space and time, we can see that the tensorflow object is four times the size"
      ]
    },
    {
      "cell_type": "code",
      "execution_count": null,
      "metadata": {
        "id": "TPRXTLiYRO-W",
        "outputId": "2c9b9a91-566b-48d3-d457-cc31da49ff13"
      },
      "outputs": [
        {
          "name": "stdout",
          "output_type": "stream",
          "text": [
            "-rw-r--r-- 1 meine binf  16M Feb 28 16:52 NN_phylum.h5\n",
            "-rw-r--r-- 1 meine binf 4.0M Feb 28 16:44 NN_phylum.npz\n"
          ]
        }
      ],
      "source": [
        "!ls files/NN_phylum* -lh"
      ]
    },
    {
      "cell_type": "code",
      "execution_count": null,
      "metadata": {
        "id": "g7MbfnoyRO-W"
      },
      "outputs": [],
      "source": [
        "print(\"The summary of the network: \\n{}\".format(NN_tensorflow.network.summary()))\n",
        "print(\"The rxn_keys: \\n{}\".format(NN_tensorflow.rxn_keys))\n",
        "print(\"The Modeltype: {}\".format(NN_example.modeltype))"
      ]
    },
    {
      "cell_type": "markdown",
      "metadata": {
        "id": "DX8JSySuRO-X"
      },
      "source": [
        "With the history you can do whatever you want, for example plot the loss function over the epochs."
      ]
    },
    {
      "cell_type": "code",
      "execution_count": null,
      "metadata": {
        "id": "-YHIgjvVRO-Y",
        "outputId": "87d5164c-2a28-4fa3-abd1-2d627b19e064"
      },
      "outputs": [
        {
          "data": {
            "text/plain": [
              "[<matplotlib.lines.Line2D at 0x7a735a32fd30>]"
            ]
          },
          "execution_count": 15,
          "metadata": {},
          "output_type": "execute_result"
        },
        {
          "data": {
            "image/png": "[encoded data removed]",
            "text/plain": [
              "<Figure size 640x480 with 1 Axes>"
            ]
          },
          "metadata": {},
          "output_type": "display_data"
        }
      ],
      "source": [
        "import matplotlib.pyplot as plt\n",
        "plt.plot(history.history['loss'])"
      ]
    },
    {
      "cell_type": "markdown",
      "metadata": {
        "id": "439rcoTzRO-T"
      },
      "source": [
        "By default the network will asume that your input (the data without deletions) should be what the network tries to predict. Alternatively, you can provide labels (the full set of reactions) for the network to try and predict. The following is a slightly convoluted way to have the network only predict missing reactions and have it predict reactions already present as 0."
      ]
    },
    {
      "cell_type": "code",
      "source": [
        "manual_feature = NN_Trainer.generate_feature(training_data.T, nuplo=30, min_con=0, max_con=0, min_for = 0.05, max_for = 0.3, del_p = None, con_p = None)\n",
        "manual_training_data = pd.DataFrame(columns = training_data.index, data=manual_feature)\n",
        "manual_labels = 1 - manual_feature\n",
        "\n",
        "network = NN_Trainer.train(data=manual_training_data, rxn_keys=training_data.index, labels=manual_labels, maskI=False, min_for=0.0, max_for=0.0, modeltype='ModelSEED',save=False)"
      ],
      "metadata": {
        "id": "cVMSl-TOdg-s"
      },
      "execution_count": null,
      "outputs": []
    }
  ],
  "metadata": {
    "colab": {
      "provenance": [],
      "include_colab_link": true
    },
    "kernelspec": {
      "display_name": "Python 3",
      "name": "python3"
    },
    "language_info": {
      "name": "python"
    }
  },
  "nbformat": 4,
  "nbformat_minor": 0
}