{
 "cells": [
  {
   "cell_type": "markdown",
   "metadata": {
    "id": "Dt72O45QEteY"
   },
   "source": [
    "# **Sampling from the Solution Space of Genome-Scale Metabolic Models**\n",
    "\n",
    "By \n",
    "- [Haris Zafeiropoulos](https://hariszaf.github.io/)        ([hariszaf](https://github.com/hariszaf/))\n",
    "- [Daniel Rios Garza](https://danielriosgarza.github.io/)   ([danielriosgarza](https://github.com/danielriosgarza/))\n",
    "\n",
    "\n",
    "July-August, 2025\n",
    "\n",
    "This notebook accompanies our chapter on the *“Flux Balance Analysis”* book, to be published in the protocol series Methods in Molecular Biology, by Springer Nature."
   ]
  },
  {
   "cell_type": "markdown",
   "metadata": {},
   "source": [
    "## **Setting working space**"
   ]
  },
  {
   "cell_type": "markdown",
   "metadata": {},
   "source": [
    "You can either launch a Codespace based on this repository or run the project locally on your machine.\n",
    "\n",
    "* **codespace**: Quick and easy to get started. Ideal for initial exploration, but may limit your ability to run custom experiments later on.\n",
    "\n",
    "* **local**: Requires some setup and may involve troubleshooting environment issues, but gives you full control. Recommended if you plan to use your own data or customize the workflow later.\n",
    "\n"
   ]
  },
  {
   "cell_type": "markdown",
   "metadata": {},
   "source": [
    "Here is how to go for each of those two cases."
   ]
  },
  {
   "cell_type": "markdown",
   "metadata": {},
   "source": [
    "### **Build a codespace**"
   ]
  },
  {
   "cell_type": "markdown",
   "metadata": {},
   "source": [
    "To fire a codespace, you will need a GitHub account and then from our [GitHub repo](https://github.com/hariszaf/metabolic_toy_model/tree/sampling), use the `sampling` branch to create your codespace.\n",
    "\n",
    "* First, click on the arrow on the `Code` button\n",
    "* then, click on `Codespaces`\n",
    "* and on the three dots `...`, to create a `New with options...`"
   ]
  },
  {
   "cell_type": "markdown",
   "metadata": {},
   "source": [
    "![](files/figs/codespace-fire.png)"
   ]
  },
  {
   "cell_type": "markdown",
   "metadata": {},
   "source": [
    "After you make sure you have the configuration as in the following picture, you may fire your codespace by clicking on the `Create codespace` button:"
   ]
  },
  {
   "cell_type": "markdown",
   "metadata": {},
   "source": [
    "![](./files/figs/codespace-conf.png)"
   ]
  },
  {
   "cell_type": "markdown",
   "metadata": {},
   "source": [
    "> **Advanced Tip**\n",
    ">\n",
    "> The [`devcontainer.json`](.devcontainer/devcontainer.json) describes the configuration of the codespace to be built. \n",
    "> \n",
    "> If you pay close attention, you will realise what you would need to make sure for your local build (see next paragraph)."
   ]
  },
  {
   "cell_type": "markdown",
   "metadata": {},
   "source": [
    "### **Creating a Conda environment**"
   ]
  },
  {
   "cell_type": "markdown",
   "metadata": {},
   "source": [
    "Here, we assume you have Miniconda or Anaconda installed in your machine. \n",
    "\n",
    "If you don't, you can follow [this tutorial](https://eduand-alvarez.medium.com/setting-up-anaconda-on-your-windows-pc-6e39800c1afb).\n",
    "\n",
    "Also, the following instructions (regarding the environment) are for a Linux environment, but you can adapt them to your OS.\n",
    "The `dingo` Python package is not available yet for arm64 architecture, so you will need to use an x86_64 machine.\n"
   ]
  },
  {
   "cell_type": "markdown",
   "metadata": {},
   "source": [
    "1. Create a Conda environment using Python 3.10 and a name of your choice; in this example, we'll call our environment `sampling`:"
   ]
  },
  {
   "cell_type": "markdown",
   "metadata": {},
   "source": [
    "```conda create -n sampling -y python=3.10```"
   ]
  },
  {
   "cell_type": "markdown",
   "metadata": {},
   "source": [
    "2) Activate your environment\n"
   ]
  },
  {
   "cell_type": "markdown",
   "metadata": {},
   "source": [
    "```conda activate sampling```"
   ]
  },
  {
   "cell_type": "markdown",
   "metadata": {},
   "source": [
    "3. We will be using `dingo` for flux sampling on the solution space of a metabolic model. `dingo` requires `PySPQR`; a module that wraps the [SuiteSparseQR](https://people.engr.tamu.edu/davis/suitesparse.html) decomposition function, but comes with a bunch of hard dependencies, based on your operating system. See [here](https://github.com/yig/PySPQR?tab=readme-ov-file#installation) for more. In the following, we assume you are working on Linux and that you have `sudo` rights:"
   ]
  },
  {
   "cell_type": "markdown",
   "metadata": {},
   "source": [
    "```\n",
    "sudo apt-get update -y\n",
    "sudo apt-get install -y libsuitesparse-dev\n",
    "```"
   ]
  },
  {
   "cell_type": "markdown",
   "metadata": {},
   "source": [
    "4. You can now install the Python libraries required:"
   ]
  },
  {
   "cell_type": "markdown",
   "metadata": {},
   "source": [
    "```pip install -r requirements.txt```"
   ]
  },
  {
   "cell_type": "markdown",
   "metadata": {},
   "source": [
    "You may need the `--user` flag for this step:"
   ]
  },
  {
   "cell_type": "markdown",
   "metadata": {},
   "source": [
    "```pip install -r requirements.txt --user```"
   ]
  },
  {
   "cell_type": "markdown",
   "metadata": {},
   "source": [
    "5. You are now ready to go for it! \n",
    "\n",
    "In case you are working on VS Code or any other IDLE, make sure to set the kernel of the notebook to the `conda` environment you just built.\n",
    "\n",
    "For example, if using VS Code, when you will try to run the first chunk of code, you will get a message like this:\n",
    "\n",
    "![](./files/figs/select_kernel.png)\n",
    "\n",
    "Then, you can click `Select Another Kernel... > Python Environments...` and you should look for the name of the environment you gave earlier, in our case `sampling`.\n",
    "\n",
    "However, it's quite possible that IDLE will recognize the new environment after you close and relaunch it. "
   ]
  },
  {
   "cell_type": "markdown",
   "metadata": {},
   "source": [
    "In case you wish to use the `PolyRound` library for rounding metabolic models, then you will need to clone the repository and install it as follows:\n",
    "\n",
    "```bash\n",
    "git clone https://gitlab.com/csb.ethz/PolyRound.git\n",
    "cd PolyRound\n",
    "pip install -e .\n",
    "cd ..\n",
    "```"
   ]
  },
  {
   "cell_type": "markdown",
   "metadata": {},
   "source": [
    "The `PolyRound` argues that their library works better when using Gurobi."
   ]
  },
  {
   "cell_type": "markdown",
   "metadata": {
    "id": "SW8smv_WHyvg"
   },
   "source": [
    "## **Intro**"
   ]
  },
  {
   "cell_type": "markdown",
   "metadata": {},
   "source": [
    "### **Bio**"
   ]
  },
  {
   "cell_type": "markdown",
   "metadata": {},
   "source": [
    "We assume the reader/user is already familiar with the basic concepts of metabolic modeling and the basics of the `cobrapy` library. \n",
    "\n",
    "If this is not the case, you may **first** go through our according material on [this branch](), we were able to come up with for the \n",
    "needs of the [METABOLIC MODELS APPLIED TO MICROBIOMES](https://metabolicmodelingantony2025.onrender.com/) workshop.\n",
    "\n",
    "\n",
    "\n",
    "As throughout this repository, we use metabolic models from three human gut-associated strains that are known for:\n",
    "\n",
    "* occupying key ecological niches in the gut, and\n",
    "\n",
    "* engaging in metabolic interactions with one another, as illustrated in the diagram below:\n",
    "\n"
   ]
  },
  {
   "cell_type": "markdown",
   "metadata": {
    "id": "gFd917HOaHdd"
   },
   "source": [
    "![fig1.png](data:image/png;base64,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)"
   ]
  },
  {
   "cell_type": "markdown",
   "metadata": {
    "id": "rCX5CDGbbW28"
   },
   "source": [
    "These ecological niches are based on the metabolism of the following three species:"
   ]
  },
  {
   "cell_type": "markdown",
   "metadata": {
    "id": "C5A3wcgAb35c"
   },
   "source": [
    "![fig2.png](data:image/png;base64,iVBORw0KGgoAAAANSUhEUgAAAbsAAAIACAYAAAAbjMI1AAAAAXNSR0IArs4c6QAAAARnQU1BAACxjwv8YQUAAAAJcEhZcwAAEnQAABJ0Ad5mH3gAAKMhSURBVHhe7Z0HnBXV+b/fu/RdWNilN+kdBCkiNlCxl2hiTdRUW6L5JVHj30SNiSb2GmM0UZNYYiyJHSsqiiAIKAIKSO+dhe0s7PzPc2YODuPdZWHv7t57930+Ozt32pkzZ2bO97zvKRPzDKIoiqIoaUxGMFcURVGUtEXFTlEURUl7VOwURVGUtEfFTlEURUl7VOwURVGUtEfFTlEURUl7VOwURVGUtEfFTlEURUl7VOwURVGUtKdGRlAZdtqFwS9FURRF2T8+e/nx4Ff1qTGxS2QkFUVRlPpFonVE3ZiKoihK2qNipyiKoqQ9KnaKoihK2qNipyiKoqQ9KnaKoihK2qNipyiKoqQ9KnaKoihK2qNipyiKoqQ9KnZpwtyFS2wnzIomttcGz7z2jkycOiNYqn0eePJ5e71ViQP7XXL9bcFS7XL9vX8LfvmcfNGVdko0pMf+3nviWJ1nJ3qNyQjPCddIOqUaazdsss8M75yDa4k3sR/XyDF7g/t95Hcvk48/mxusSQ9U7NKE9Zu3BL/ic/5VNwa/ag4yt1seflyOGTMyWFP7zFmw2M73FgeXgQ/p18vOawuXuQ7u0zNY47N6/UYZPqhfsJQYEPLXJ02VwX33PFdVmTVvgXRu33a/jidz3bB5a7CUvHy5eJmdD+jV3c5TiSdeekO6dGgn55w8Pljjwz37ydmn7TGx3yPPviy//NN9wV4+iB8i+NjzrwZrxN7vs086Rm76yz+CNemBil2a4F7aay/xh9gJT6cefbjdFi4B1gRkbrxodcnDN11TpSGG5n3li13bnFZ2Xlts2pJn521yvz6vs0KjAlhdVq3bYDO5/eW1v99lp/0B8W7XOidYSl4uP/9M+7zUZQFtf6Cw9u9X3rKiFIV7znWFJ94L8oH5S5bLK+9ODvYU+cLkG4hgUUlJsMbnO8eNk/zCopS0eCtCxS5NcBbNoDgZ5rjRw+1841Y/o60pps2eV63MtTZxaREvvWqSuYHItm+da+fgCiphAawuZIZ1JThOvNu3+foalcTyzIR3bMFyX0Ta5QPL16yz88ro2K6NjD34IHl2wsRgTeqjYpcmUIrfm8spnhUT9e1XVJLDKozu63DbAMHjd7jOjDDDx8WrJ3PuPebhczmiYcSr33JhRC1Yzhc9zhUOounl9nNT+DrCEE54v6rU/bGfK1XjVnZ1Wus3+S5oMq54cY3i6tLcFK0bI62c25rzsU+43i16fLzzuHsQvf5w/Jii52b5ylvut7+xGNgnTDTdosc73L0MT+FrcLgw2BZv3+i1RmFdNA6VPevg4sY8Ec9q9HwsVwauR+4rYrQvOK+CyweIZ/Rehe834ri9oHCv8UkVVOzSAFeKj2dVsY0HGiEM+/bdyxaFhz768pPBURcXxR0fz2J0lgsvOmGGQRCjGYCzbpi7czn3a7wwuN5o/ONZSOzD+Rwcx/VQOBg9dFCwdk/BDkPaRV924kM4YThHZYIXL6N2lo+rG4sX1+i9YJ+wGwpYDp/biWcYJ+rEPXp8vLSMWqBOTMLxg+i5o/V0zq3tjo+mW/R44JpdJhwGAQ9nxu436Retk77mjr/YcKPXGk5Pd3zYAuWYyp51SMSz6oSH46Pni3f+MB988pmdjxjc386rAtf6+IuvS/+e3eTIUcPsOuopXbx5F6jbC3scnNU47fM973mqomKXBrj6JzIiXqrw5DKBaN3L3Y89bedP3nnjHvV7ZE5kHg5Kf4TL+vB+vBiAEFAn4JZdeGSuZCy86NFjecFYHxYRZ2mRUbgwbvrFxRWG4YSK+DmijVNcJsr5wsdyPYTpXHxkxC6DCdd5Eg8gk3CwL8dGwyQ+hBtP1ID0cOGRVhxDurnwotfo9g2Lh7sezuX2Y3Lndpk36eYyMbcPkFacx53fTe7ehYUk2jgF8YDodUP43NQNER93Le65+/MTz9n5Xdf+fI/jXdwdPBNOoNxzwOTiGHarOcGIXhPnZh3hunUuPcM40XKNU6ryrEMinlVXmIBwmrj7VtFzBO7YgRU0quEaovkAhQfq4K776Q+tixJ4T5xrk4ZaPI9RTwdxnzFnfrCU2qjYpQFVqYsLZ2Rw29U/sy9X9OHmZQ3jSqlRseTF4HhnLZIBhDNHXlYyLdZFjz3nJP+Y8AuPpQW8+FUJg0wVXMYDYWuN6+WlZ5mMKIzLvFyDEOo/AKELW7/Eg8yHNHGZj4sb8QpbCa5hTDQ9w7hCSbjln2tFSzyj1wiutWj4ety1O1wjBZd5A2Ll0sIx7uDhNo7cuzDxLEGu2bUOJZNnmbSIpiX3C8LnJp7RlqVXXHCWPXe0jsndd4crWCAi4bQkzlwPYTvc88N9i14TcL4oYSsu7D6Gqj7riXhWXYGSMMJp4uJX2XPkCkBOtKIQB57x8ORE9Kc33rFPXQqyMptaV2Y6oGKXBriXiBcy3sTDH3ULUdKOlv6YwGVUTiCdOFRGNINzGTuZZPQcUZcTGQX7kZmFX3wXxoWnn2jnleHCcNaay3zjtVZzOHeny3iw7qJxdVZGGJembGOfqEu2IlzmHL7GiuLpRNDVr7j9SOdoHKP31qVFtFsF6Rk9lsldo4uXu+8u43XxdoWUynDHRluWUqCId25338HFm4y5ssze4azPaNN7F0aYeAUNdzxU9VlP5LMaDQNcoXFv4I6siHitMSmk3P7rn1nh2pcuBT27drbzdOhzp2KXBpABVvaCnDh2jJ27FxqLJFxCdrgX3WVyzk20tz5IvLwQzuCqYm2687iM4uhDRti5o7IWk+5anLi5MFwcoqX2MK5w4LaR8eyNaOZL6R3RI804nozbpUNFUCJ3GbsjGheHEzd37fGsryhOGJ1Qhu8b6RWvLghR4NkJPz/u3O5416UkngC5fd253TMTvme47+IVGtzz5u6hi3dFXTCizznpHrUgKxLbaEHDCY47vqrPeiKeVXed0TAgWmhMJIcMG2yfP657b89qOqJil+K4F6myF8RllK7ymYyHhz5s/TG5/fb2wnNOMnfnxnMZQLwXPVzvEp0ocUJlGQW4zCGMq7uJdquIhhF9qYl7vMIBmX68OLoJuN6oqHENzpX3/vRZdl4RnDdqbUUbyjhcCT8qMPHi5iZn4TgBCgvo+9P8uEXvB+kXFY14BQX2iYdz/blzIyrReNOxnXXh8zI5osIUr6Dk6ruiBbfosdFCgiNsxcHehNURfdYT8ay6OEa7mlR0TfGgv1xtsGTlajtHKFMdFbsUx5VIK3pBeEmduIUzoGhdSbj07UTRvYyuMQvwQjq3WbjuLZrBuZK+qw9zUP9D5hF2/VWUsbswwucHGmo4wXIZsrOQXBjOagyfn3O7uIczd8Lh2qPCSByJq2uY4MJ0jS0cTkhcfOPhMrJwQcJZF67EHyZawnfnDjdyAJaJo2u8AqRFPAGFcGbM+V16uPAhKgwufi7Dd3BeCLsMOTZewSsqlqSpE0r3nLnnjvXhe8E1un2pd4SKBKOiZykq6NHjq/qsJ/JZDRcmoCKhjtLrAN+1WJWhv8LginRxica/IgqLSvZ4FlKZmGcIficMXoJwyU2pOZyY7Y1whb97ASsifO/I8OOV6sONOcLhkfG5RgwVHQvhc/C8hI8Lsy9hkMG7xgBkltG6wTC40JxlScZbUXPv8H57C7OyZz56DvZ166INY1wmGz43OHGJQmYUbhQRTjMXRmXXCC4O7hrD96Oy6w6nOYTj6MLc2zMafjYr2zfcmMPtF03zeM+SS894z2z4+Ko864l4VtmPerVoQyPiRCE0XkOlMO5eRhu3APHjeXAWsANrfdL0T/06OxN3rgEQzBN/8itbB3j4yKG2MBEWwsqut6bh3JW9U/uKWnYpDiXpyiAz4oEJP8C8ZNHSGi+OewHCpWpevKiVQOYUzpzDdQ9hCzPesZwj/AC7c4UtizCE4eLlqCiMsIuQ6yWeYTiOjAvCFhbX4lyRYTg+LDaEyXmjaefSuDLC6XX4iKF27lxiQ/ru6dpcuGyFnUfdye7cTRo3Ctb4YhbNHE85+rDg19dhcH72BXc86cF1s+ziguXHcvg+Rq/bHU9aRjNswnTbnYVCRhl+DtjOsS4+m0JuS/b97WU/CJZ8enTpaM8fzth57qPPlrOeO7Xfs5WiS8+wxRTPfeyeVxd/CD/r7jmLhu9wz2r4+HjPKtcbdWcD4hvPKo7i+snNnBu/SwCC+8SLr1tr2E1TP50jI4f03+M9B1p0fvfU42TpqjV2v7Dl7wodBx840M5THbXsFKWm2blTpGHDYMHAOIRNmwYLBl3W5cqWo8+PAcsWwd9d0En0M2bCu/6Bx/Y8Ry2jlp2ipBoPPCAyOXDNMR8wQJd1uerLPD8RqEPEgtvt8k3wM7b2jrus27MqXSlSBiy7RDP01AuCX4qiePn5nnfCCZ53zz3+fO1aXdblqi/z/MThtr894V183a3+QoKfsT8/+pR30k9+5YddRyRaR1TsFKU2IDP6xS++zrh0WZf3ZTkOa9ZvtIL0n1ff9lfsLYwqLq9Zssw74rxLvXemfOKvryMSrSNaZ6coiqIkHVpnpyiKUo/BPnFTKpAs8VWxUxRFSSFisZidUgUX37qOs4qdoihKCpJKgpcMqNgpiqIo8dm2ze+Dlwao2CmKoijfZNkykenTRd5+W2T79mBl6qJipyhKUpOXXyozv9woy9fmB2uUWmH5cpHycpE1a0SKioKVqYuKnaIoSUlZWbnMXbxFpszZKHlF5veSPPnw07WyaWtxsIeyXxSb9EPEGGKsohaS+aZg0aOHSKtW/ugqzZsHG1IXFTtFUZKOpau3ycRPVsmaTaXStWNLObBvWzmwf0eJNWwk0+Ztkmlz10lB0Y5gb6XKzJghMmmSyBdfVF4XN2OmL4YtWogMGSKSlRVsSF1U7JSkoaxsl3y5ZIu89fEq+XTBRiku3RVsUVKJlesKZLKxwJas3vd6nsLinfLRZ2tlwcoCadkyUwb3bScHdMiUJg09aZkVk4E9c6Vfz7ZSUBqTD2dvkFUbCo2Rkhr9zeocxG3lSpHSUpFVq3yrLk6LzvzFn0tZZkOR+QtEGjUWyc6Ou1+qoWKnJAXL1my3JfnVm0slx2RyWwvKZdKstbJwxdeff1GSG+rWPpq9Tr5cni/lsUYyf/l2eX/GGlm/uer1Pas35Mu2Ys8IWjsZ0CNXmjf1OyXvMoK2a5cnDTI8aZfTSIb1ayut27SVtZuKpWxneXC0UilNmoi0aeO7Mdu2FZlprLe5c40F93VhYeeOInMfV8r2No1lW7ZJ89atRBo0CLamNip2Sp2yeVuJrYeZv6JQWrXMkkF92krf7q1Mib6ttG3dXBavLpSJ01fJuk2pX0GebrgRMUpKd8rsBZuM0K2XHbti0rt7rgzu01oO7NdBGjZuLNPmbpTpc9cbq63M7l8ZpWXlktm0kbHiGkiGETZELlythBXHuswmMWmd3cRuY1mpAlhnQ4eKHH64Xw/Xq5d4mzbKxs/ekoLN/jf/dpWVSnaX/pJfuF5ifXpLRqtvfkU/VVGxU+qMNRsL5NOF2yTWoJEM6Nla+plMMstkYp5XLk0betKrSwsZ2r+DZGU1k4/nbjDWn7EYNGNLGujUvDmvRKZ8vkE2bd8p3bsakevdxohQQ2mYUS7ZmTEZ2CtXBvbtYN2OHxhLfc3Gwj3EK0oGGbLZodxYceYxqBAeg13l5Tb/TgMPW+2BS7JLF5HMTJGuXSU27CBp0qGrbF37hWxcMUs2LJsuZcXbpVW7PpLVupvEMtLDqgMVO6XOWLepWBo0bCgDerWRXJNBZsS+Lsn7pXXPurEG9W4tbdu2kS3bS2XnLnVZJROrjXhlNGwsg40V17V9pvCRbmd9MeF2bNuqoQzr304ym2fLhq24HSuviy03D4BXZQFTpasWrVpJC2PJte0+0lh1xbL6y3ekePsGadm+r3k3mwQ7pQcqdkqdgZxlNmlgMkQ/gySTC+NEr2EDk2k28EUusstuSnbskk8XbJLZCzdJUcnOYK1S01D4yG7RRJo15t6Ye2juVxh7X83UrIkpuGQ28oWsoptoMFutdWfKPXvB7bDXHZW9EDMy0LR5G2ma1Uba9zxEWrbrLesWT5W8dQslnYqWKnZKnREzGRUZoRfJIKPQJch3acXfb+HyPHl/5hrZVlguG7ftkknm94JlW7+R8SqJx3odraCZeSXJzXbcjpZK/I40QpFYhjRslCEZGfH3w33asIGZGmZYd2Zdj6afDuzcVSolhZukQ+/DpUWbHpLVqrPkb1omhZPfEG/N6mCv1EbFTklZ1m4qso1XFq0pktY5WTKgdxs5sF9b6dShlSxZWyzvzVgjazcWBnsrNUFYZxLhUMzJbiJbtxfK8nWlUmoM9EZG0MKiZ5eN2K3b6smCpZulSSOEL33qleqKzYs/MenaUBpntjKFiQzJbtNd2nYfLk3bdhWZ94XIihV+37yFC0U2bvS7MaRYIUPFTqlT/E9/BAsV4PZp2LChKfT7O8/6coN89tVWaZbZRIb0aSO9D2glTRt5dureqbkM7d/eNmyZOX+LzDT7lpZpn72agPti75+ZKs363H57oVPbLBneN1e2bc2Tj2atlNWbdpo8NSaNjKWH0BWWxmTe0kKZO3+1dMnNkF5dss36KgSsVMzmzdJ8+WZp1fKAPerpcG026jNAYsOHi8yfL7Jpk8inn/pzqMoNTSJU7JQ6g/o4NAgBa9DACFqwPgzuKrLRDPMSFhWXSmOT4cGqjcXSo2tr24qTZurOJUqYtOZs3kxkYM8c6duroyxZnS8FRXtv9q7sO7gdy70Mc5/MvarA7diA+2tuW4MGja07szIamh27dWwhw4zg9enaQpav2iQzvtggm7d7smTdDpk5d405abHdPqB7S2mR2cjkuSp21eKrrySrc19pnN02WBEiw9y41q1FcnNF1q/3B4Rm6DD67KUYKnZKndG1fXMpLi6WT+dvlrzCcpMZZtiMEZhTYi8sFZmzpFCWLV0mD99/qzz00EOycvV6adK0meS2bGoyWF80w/U2/HQdkLOzzA5meW/1gtsLdthm9KnO1q1bZe7cuVJWVjvi3qZVU1mzbqssXFEsRTtoTITb0d+GCGGN0ed76doyWbRktSmYNN59jysju3lj6d89R0b0z5Xc5g3ki4XrZPPGLTKgmy+Endtl2To7pRogXu+95w8F1qsnPuJgQxwGDRI56CCR8eNF2rdPOasO9GlR6ox2uZkyvF+OZDX2TIl9tXy5rFDod4z1tnNXTJau2ymffL5ayncUy6iBbaVrp1byr3/+Uy7/2WXywTsvyfa8zZW6zmj5V25MiYoaOgCtCect3ipTPl8vH32+QabMXm9HAkll7r33Xrnqqqtk0qRJ9vprks7tmstBfXNMgX+bTP1slazdXGYKGxnSOGhgsiGvXD7+fJ2sXLVBDuqXK107NLeCWBWom2ttCjSDe7c2z0mujBjQRnp0zpZmTSrJlJOUmr4P+wwlws8+8y231av9IcQqo1kzkd69/cGhGzcOVqYWMVMirrzIux8MO+1C+ezlx4MlRamc0h27ZN3mIlm+rlC2F5VJl47tZPW6TdLMZJjdOmZKxzZZktm0oWzcaMRoylR59NFHpay8odx6x53m3ethrLj49XG4QPOLPZk6a4UceVAHaWvENcySVdtk0artktGgkXRs29wUcJvIqrXbZFt+sXTIbWrdoInIWMnoSkpKrBVbWFgoRUVF9ndBQYH9HZ7c9lKT+exrBplhMq78/Hx5++237fm6du0q/fr1k+9973syevRoadSoUbBn4sk3923V+gJZsb7QxKOB9OreXtZuyJe8bdulq7HCOrfLtMJVn3niiSekU6dOMnbsWFv/XOe89prfTJbn4rDD/EGfk4hE64iKXW2xfZOUL5olsXWLJLZ5jUjBVnxtIk2zRHI6iNe6s8R6HChywKCUdBEkAjLMNRsKjTVQKq2zG0vntlnSssU3S5Gfz50nE6cskDNOGy+5rZqbZIwvCohdQYknH3+6So49pJs0b+an69btJfL5V5uFQfNbt2pqR9Vn+CmSfefOmGw051++Zpt4u3ZK3wOyjTXSwoa1v/CKIV5uQoh27Nhh525y2xBBlnfupGHGvr2aDRo0kC1btsiTTz5pLK3tViyHDh0qv/jFL+SQQw6p8QyWOlOsYgaA3rytTHKyG0kXI3TtW2dWyXUJuKSXrc2Xpo0b2Ptf05DGbnKFi/ByvG2wL/WEbt9LLrnEGFGrZdSoUXLSSSfJyJEjjb7UocBs2OBPWHd9+viil0So2KUY3vyPJTb9FfEWzzK57CqR4u0SKy0WKQvcBhkmA2rSVLwmWRJr0Ua8Tv3EGzJOMg4+xZS0Wvv71CN4GguKy/zO5hW4u2iS/tbHq2X00E6S1cSz3z2L9xA3MxnmNpPU73y4QLq1LpXDDxlq19MlwZhz0qtrrmQzBmOMRhZkarz3NJSJSUmZZyyVImPpbZHDDmxvRbE6uEzT/Xbz6O/wun0FMVuxYoVceumlkpOTI6effrocdNBBcsABB0hmZuY+ZdDVgZav1IHSeKTpPljGDCX2xdIt5tY0keKSUmnRtIEdbox6wZqCggUWNha1m4cn1oXXY3UjfKRlZfcpvN2l+5QpUyQvzx/YvFWrVnLhhRfaKZshvOoSvkbesqUdK9M8RMHKukfFLkXwVs43uew/JTZ3osj6pSaljRXHi0+ztViQiZP0NvXNP6w8miaW7hIvu7Wx8g4SGfs9kdGnmiJ7cpW46hrq2d6etkoaNWkm/bvn2k+/GImwjVLAWmEmgykwQrdwRb7MmD5V3v7fgzKofy/54Y9+LEu2tpT+PdtIp9ZNbUfn6Mgt5E3UK+3YlSHvT1smhw5pJx3a7OkCTVaw6GbMmGHdZb1M5lWTrstEsTW/RL5cmmcHBcCS7945x1p4y1flGUuxyFiHmbaxCtZeoqEhD1Y0c6xttxz9HV7e1yzTid2f/vQnWb58uXTp0kWOOeYYOfHEE2Xw4MHSuK7rwDZvFpk8WeSII/xWl0mCil0qMO0l8V79i8jimRJrah50KnfJdBA6586xQmcmXHDmBTLFRTOZZeYsF+8Qye5gHsBzRE76qXV1Kl+zZXuJ7VKwdmOxdGifY795lmXSmtQtLPVk5YZSWbtus3Ru21xysnbKhJefk2eeecZs9aT/8OPlip9dLAd0aVNhfR8W3q7yDPlw5goZPaitdGidGmLH9eDOTAV43BnpZrG5jy2yfHdyqxaNpGGG2WBuJI2UNuaVyJr1BVK2o0z6dWspXdpnVdklmmz89re/NQZUSznqqKOkf//+devCjJD30UeyyYhytxEjTCEyOboVqNglM7tMqW+iseZevldk22oxb7BIphE6Mp89XlCT5C7VSX4rcCbTReScCLJcUmrCbCDemG+LnPn/JNa+R3CQAjuMJbxhS4n9GsLWgjLp3aO9KUVnyFdL11gXWs9OLaR9bjNpYiwC6sJmz54tj//rn1LgtZYrf/Vz6XFAeynnngXhhSFDLTNiN3mGEbvBqSN2qcTW7aUy7Yut0rlDC+nYppk0boALFxH074hzKe8wr8XStUWStzVPDjFWdovM1GsNSDaLixn3cp27LeNQVlIib735pgweOlTatTfvBXlSCOKPKxw3LN1b2pt9mjdvbq1dO9hDYL0mEhW7ZMU8HN5bj4i8cLvESreKtDSltqZNfZGrUhKbfRA4U4K14sezg9VnBM8rLpPY4eeKnH2dCMP3KHtAh/G1m4tkxfoim9ad2zazjRtaZH0zU1y/fr28MWWljBreR7q0a2Ff6nh3h4x25y4jdsayO2RwO2nf2hRalISyblOhzF6cLyMGtpMmjTyT3t+8E7wGjJ6ypSAmn3+5Qg47sIOx/tJrNP5kYdHixTJzxgzp3bu3ZGVlfUPwsEo///xzadeu3W7Roz54+PDhNdL4KdE6UrUOL8pe8d57QuTFu3yha2VKblh0VRY6MPvywDQxGTSWIIfRQMMIZqxpI5HJz0j5a38RyTfhK3vAaPp9uraUg/rkyPB+raVft1ZxhQ4okbZuazLXxo12Dz0WhaSnj1fDhjFjZfgt8pTEgzVgR74x6YtLMx6stgN6m/uAtV0DBoQS0MG8GwsXLrTT0qVL95iWLFliW5Ju2LDBul8RO35/+eWXMnXqVOs5SXZU7BKA98EzxqK7Q2LFG32ha2YsOjLI/ckkETpGMiAjpmBFY4umpiTbpIHEJj0l8smr/n7KN2BEFQYS3ptLhUYGm7eXG0vCHznfjfjhoFM7QWwtoA9gYGUrNQevSSWvCsmv5Y2aZ9asWTJkyBBr2dHAqXPnzrsnljt27CgDBgywrksa1pxwwgl2G42ieKeSHRW76jLtJYm9eLvEtq/ZU+iqAxZeQ2PNWcuQZXObjMUX25UvMuU5kZVf+vsp+8WI/u2kID/fNj5Zt2WXSWPGdvQ/G8MQZbTinLOkSOYtWCWDe+VIjrrN6pTdbxM/VPRqBNz7iBb9MembyWAENKJhQuAGDhxoBQ8xZLCCnj172qlbt252ORVa/arYVQPvs4ki/71dZONiv46OVpeJehutdWduj7UQg2UeqC8/Epn9jr+Psl8wZBXDT/Xs1FwWLdsgny7YKtuL6L/nD1E264u14pUVyrA+rWyTdxq4KIkH9yWjvvjWdXzzmUefbiDsQ3cEtbJrBqy6vn372vo4ukI0bdp099SkSRM7p5VvM5PH0cDGiRvdKLAE67z7RBVQsdtfvpphG6PI6rli7r5IlhE662/xN1cb/Gi2T17wdjND8BqW+4JH3z1lv6GRw8Ae/kDDzZuUy6dfrJbJM1fKpo2bZUD3FnJQv9Z23MfqjJyiVA4dzvMLS2TF+hJT0PCkkRG1sAcaAWxsLO38onJZtWGH3d4g6nNWqg31bjQwwU1J4WNfQPxopbmvx9UF+uTsD0tnizxzk8QWTvUtOr4nw0uayIoFwuMBYiJYpgaIXQPxln0u3vJ57KVUAzLTtjnNZEjvXBnSK0cG9WhpLL420qNTag42nGpkZzWWEcbC3paXJ1M/XS1rt+w0z73/3ToGkt5VHpOVm8rl49mrpbRwqwwz94YxUpXEQuMT3JZ0JUhnVOz2lVXzxXv2ZpF57/FZZb8vnROkREJ4FHP3KOqa3xnG2tu0SmTdkmClUl1wU/INtT4HtIo7FqdSM9C68gCT7ljRPTpmyWJcyvO3yOb8ctmQ5xmRWydr1myU/t2yjdDlSrvcZraAolSBwkJ/VJS33hKZM8f/nE9pKUPGyE4zMSIMvPfee9Y6a9u2rclq0jttVeyqgrPY1i4SD4tutnmArEXnhC7RShfgLLvwM2iWY43Nug3LRUoKgpWKkrpg4Q3okSMjB7QRPowwZ/46WbB4vXRt19QKYV+6kqRgR/I6xVhrkp/vDwW2eDEDc1rhK3vzTZlmpncmTpS/PvSQzJs3zzZMqQ/da1Ts9gYPASWeLWtsY5TYjFd9a66FMfnpB1fTD0m0sIX4UY+Ut848zFuClYqS2jDod5scvl2XI8P60l8yxwhgK8nN1paw+wUfWKXRCI3mhgwRGTnSzhsMHiw9zUSrym4HHOCPn9qwoSxfvVrKUqD7QHVQsdsbRui8vA3i/fcOUzp63ohcJp9R9rsD1EZpKO4pjNiV5ItXUhgsK0p60LhRA/tZIFyWVf3IqxKHdu1Ehg4VGTPG/+Bq164i3btLhpk6mqlrly5ywvHHm7JzhrQ12zbOny8lBentKdKnaS94hdtFXvmzxCY9KZLZMBA6RjipBaGzI0cEUxisPVbVRhwURUlN2rTxLTy8QXHIaNBA+hjLrsW2bdK3SRPJxN1JvV6aomJXGVhOrz0g8s6jIny9oGW23/y/tkSG89hxMiO+TCOCscbNJNaEfn2Koij7R/fevaVbYaF0MMLYYMUKkU2bgi3ph4pdRZSVivf6QyITHpRYwzJf6Bo3qj2hQ+A8I3TR8yF+WHytOxsr05TcFEVR9hMEIHPYMJGNG0UOOEDs6E1piopdPMp2iLz1d5FX75dYRkntCx0ganxrLZ7YlZmpTReRZi2ClYqiKPtJx44i/fv7H25duFBkwQLbRSHdULGLBwMuv3KfxMoLfKHjSwS1KXSA0PHJH4etpzNxMGLn5RqrrlMff72iKEp16dZN5KuvRHJyRObN87stpBkqdlGm/s8KnRRvFjsMGF8cqE2hw31prbfgQ64O1tM02EyxLgPE6zog2KAoipIAMjP9PnnkPxU0akllVOxCeDMniPf8rSJblvsWHV8wSPjQKJWA9caDxgdcsezCUE+HADLwwaAjJdaxt79eURQlEVB3N3CgyOGHi7RIvyoSFbsAb84kESN0sQ0LGSXYlHKM0MWMwNSi1llBQ+iinTux6hC6nWXi9T3YPJTjgw2KoigJgrEx+/QR6dCBXv7ByvRBxc7gfTlV5NmbJLZitm/RZRlz3raGDHaoDXBZInTRimHigZXHWHaNWooc+V2RboODjYqiKEpVqPdi5y2aZYTuZokt+cT/+OpuoatFpatM6HBrlpTysTXxjNDFDjk92KgoiqJUlfotdsvniDxnLLr5HxqLjoGdjdAxqnptCh1YF2XUdWkmhK7YCF3xDvFGGZE7/mIjxsa6UxRFUfaJeit23vpl4v3vDol9/o5fR1fTXzCoCNvC0lh04fM6F2rJDn/4niHHSOyMKyXWvoe/XVEURdkn6pfYOUHZslbkv7dJ7JNXRLKN0PEVg9r4gkEU27rSCBoNUxwRofN6Hypy5v8T6X6gvz1FWLdunbzxxhtSUFAg06ZNk818aqSOIB7EZ1/g680LFizY/d0vWLFihUyePNlek1J38A22fb2f8+fPl0WLFklZqKpg+fLl8sEHH0h+GvYpq4y8vDyZMGGC/POf/5SXX35597u5cuVKefHFF+WJJ56QRx55xL637Pv222/bff/3v//tc7onE/VL7BCS7ebGvnCnxD56xlhzjf2BnWl5VBcWHS/eHkLHP7Ns6+jM1GWoxM66VqTvaLs5lVi9erV9ObZu3Wq/lxUWjdrmhRdesC/tvlBUVCSFhYVSjis5YOPGjfL+++/b61HqjjfffNM+V/sCBRTu265Qlx4y7nfeeUe2bdsWrKkf8A275557zorb0qVL5Y9//KMVfkSNtF2zZo19X0pNHvTVV1/Jv//9b7udd/qWW26RWbNm7fFepAoNbjQEvxPGQ0+/IJeed0awlEQUmBfkhTtEJj7mf8GABimMBWeFzkxOd6zo2H81AyOj0CAl/MC402HR7SgRr/0AkXNvkNjQY4INyQ3W0/PPP28/8d+/f3/ZsGGDLTUfffTR8tlnn0mPHj2kcePGtsT44Ycf2nV8HblVq1by+uuv22OXLVsmvXv3tvu9++679oWkRN6tWzdp1KiRFU9XEnXrKKFyLFYX3+biWI5jKi4ulu7du8tLL70kW7ZssUJFxkZcKM0/88wzNjxeXNa99tpr9mXHAkDYGppno2fPnvLRRx/Jf//7X5k0aZKUlJTIUUcdZcOhBEw8u3btaq9jypQp9rwzZ86ULl26SIsU6au0adMme/+4L8wbmMIf9470zsnJkQ4dOtg053pfffVVadmypXTs2NGm/fTp0+067jdpzT2hcEF6kYakH+nIPWbd4sWL7To+Fsp9w5JAiEhD9iMs1q9fv97uxydonnrqKXssx3CfOC8Z8sSJE22GfMABB9jz/+c//7H3MDMzUzp37myvh7C4nxRcsrKybBzfeustG0csF9aPHz/eCt+//vUvmTp1qn2O2Jc0ePbZZ604ED/WpQOzZ8+WtWvXynnnnWefZZ557vnChQtt+p599tly2GGH2d/cL97B733ve/Zd5tnmXRs4cKBN55ok0TpSfyy74nzxXrlfvLeN0DU1l02DlLDQQZMmRgTNA92wkb9cE7huBPFKRiVGAHFd5vQUOes3EjvouGBDckOGj2sJAULEyHDIhJo2bWozMESADI3MiEyKzIR9+E3GQ6bCi/Xpp5/aDIxMisyN/XgpKVWyjTCGDh1qj+EFpCRK2GSKZFIc9/jjj9ttCC4ZGschUFhqhIfwkflxHMI4YMAAK1BkdmTuxL9NmzY2DIQbVyYZXm5urnk8mkgsFrPx+Nvf/iatW7e2GeArr7wiX3zxhS0BI3JYsWSQnDcVQMi4N6QH13PPPffY9dw7CgQIyV/+8pfdYoNLC6uAezR37lxbQCENKKywjjTv27evfSYoKCAq3LM+ffrY+8mxH3/8sRWagw46yJ4bCwOhRTwJD4uLTJl0xqIgc0W4uC8UVMiced6434T5ySef2OeN+078uJ+IIpYJhSruOddJgYX17du3t0KKOFMQ4joRSCfCxJt1iCOFAa6TZzodIO0o4OHSxdolXbjXzZs3l88//9xe/5NPPmnTkPThmd+5c6d97nkW2JcwUo16IXZeaZF4Ex6S2Ft/l1hjI2z0pTM30Rc6MGYVn8vJMgKYaaZmNdRYxQpdxKIDrLodO33XZXYXiSF0o04x62vQukwgiMrgwYPljDPOsKVCMikyEDITXhQyCTIsMrPjjjtOvvWtb1nh4YVDoI444gg588wz5ZhjjrGZHMfwQs2ZM8eWqBEQMiJeOMIm8yQ8BJMM9OSTT5bLL7/cZpJkUpRKCe+nP/2pPZZ4jB07Vs4991wbLi4wMkpcNYjbjBkz7AvPyzxu3Dg59thjd7/gZL7Dhg2T008/3ZZsET1KtpyHbZSGEV0yDsImfohgv379rHikAogzIke6nXKKee4Mo0aNkpNOOslmhogX95O0+f73v28zPDJ/xGrMmDH2npNRIjrckxEjRsh3vvMdez85loyRwgYFAgomnTp1sulPmpFeCBWCgnuMc5DWV1xxhb33iKK7nz/60Y+sSJGuhx56qJx11lnWemdy95PwKDxxjwmfe8b9RMRwYbKNZ+LUU0+1zwT3k/uICGK18MxhXTohJDz2R7xT5X7uDa4Di43CHYUJnu8jjzzSXi/XjeWORc/zzL4877zjf//7361FT9qxT6qR/mJXvkti7/5LZMIDZoEvGBgxi37BoLGx6BC4BsbSQ+SYEik0hIXAUUcXqjOwsK3MrCs1cWvWWuT0K0XGGNOdOKQIiARuPErWZB5kns6nTyZDZod4MPGyAPuznoyKF4cXC4uKsPh9zjnnWPcSmSWNRXA3wvHHH2+tMV5KMuLs7Gyb0bZr186uIzziQBiU6Dkn5+F8gOuFdVggiBLCS0ZJPDmeODDnGCYyzGbNmtnj2Z8MgXMgDggCAkrGTKZABo9ArFq1yoo4YpAKcO1cD9fJnPTjN2nFdSESCL9LQ9KWe8ycTBHYn3vOPWEdacd9wbolDS+88ELrMkNMuJ9YV+xDelFgIc3Zl3NwTmd5hcNjG+dgO2HzvHFe4oLliChxPzmWa+JeuWfL3U/OwbHh+4nQcs2HHHKI/PCHP5Rf/vKXdpn7ecIJJ1grHUFMFUt9b3A/cP1SEHCFCN4Vrm/kyJH2unmueVfZFzc29+7b3/62XHTRRVb4eYdSjbQXO+/DZ0Reub+SLxiY3+ZlsBMm1i4sLPNQI0qJuKGEYS26HX5dXRi20SKTl6hRS/FO+6XIkef5optC8HJg3Tz44INy9913y4EHHmgzGTJ7Mh2XYVGSpnRI3QglbDIu1uFG/Otf/2rr87AGeJHIvMhksCCoH8N1hfCRWeJexNKghEnrSM57ww03WGsPKxG32MMPPyx33nmntULIDJ0LymVYrCc8Su6IE+udlQAcwzl5+Sn133vvvTbeuOBw5ZER4HrDMsRqYX/cdsSZOFLn5AQ/2SGeXAOiRuYW/s29wwpHIP7xj3/YtOae4lZ0+wLpxjFY2RRMSH/q+HA7s436UkSO9CZdSX8sKe4B7mzEdPjw4dYVzLPwhz/8waYhVt3TTz9tw8OVivVGWjNxDGEjirhQCQ8rHfcb27in7n67++nqnR544AH7LOIix5pE3HB1Ej/C47pwqXM/ce0RF64vHeBdoJDAPRwyZIgtKDp41h999FGbPvzm/lOooICJ9warPBWFDtK7gcrU/0ns+T+JbFtjTAljdjPe5R5C5zCab8XObCs2Ly9ilwis0JkMz453WYHQmXN5YgT45J9LjE7jTWq20rcmwDKi9IwrEPcd1hclZ6wuXiheFl4q3IxkOmyjpHzwwQdb9wklbo5lX0rSvFDshytq9OjRdh9cLbykvGjsRybK8ZTyOZbSJvsitBxLpog7jeOwUHhZiQ/HY0mwjRcZS4aXmPCIF/HEumM/rssJN+FRGiZDZh3nQ4TJAN21AXHhXLhrnbWZCtCYhvouMkGXufGb9OH6SHPuByKA9UR6cd9Yj1BwnbgouSeIIelAWmER4ILmONKQe4SAESb3k+eGsFhmAgoy3BPq87h/FJq4V4RN2nPPuYfEmfOyjviyD+sIB6ub+81+WHDcTyw/wuO6ED7uJ+cgTtxrro/9ODd1dRQCiAvXgSvUPRepDtfAtVBoox7agZVLIQG4N24frD4KPDwXtUmidSRmHsx4uX+1GHbahfLZy48HS3XEJ6+J9+/fSWzz4q+FjufUXq35F75qMiSsKR7kaAfv6kA4pVh0/gO0G3seI36UOssbiHfizyR26v+JZPluolSEl4TMgsyGlwIRQHT4TemaDIZGJJQWcVVSor766qttRuWOJXNyLx/ryGiwKFyrLzIowmUfMloyvXjHcj72JRN2rite5OhvjnPhONec++0sQcLkFSEuXAvHMpFhkHkTH6xWMl0yRzJ59kuVlpjANWClce1cF2nk0tKlCdeHmLBMJghYVaQF6cUxpCXLrrBBurAMbh33yWWahEeasUz4nId4sB8FD3csQongIVrsF76HxIG4sp77SVyYXFhumfNzbRzH9XIOzksYHM82judeE2+W2Y/7zvOH6KcLvDNcm7vfDtKL94bt3Beum/fW7Usa1yaJ1pH0FLtP3zZCd4PE1n3pC11Ws6+FjqlhA1OMMdaUuYnmDgcrEwzJal4wa72F4eFyQoeuHmesudOvlFi2n4GkM851RR0JVgQlcJfxKYqihEm0jqRfnd2XU0SevyUidEZgrNCZfwhdZnO/5WWWmVN6TLTWWaEzShZP6HBr2k7jRvDGXWAtuvogdIBbjzo5Wm3iZlKhUxSltkgrsfMWzRTvuT+KLJ3hDwO2W+iM+OwWuiy/9SUmuW19SX+RRKqdCQtXKFMYLMtyhM5YdIjdmLNEaJCS08HfXk/AHYJrUlEUpTZJH7FbvcAf73L+ZGPRZftfMAgLHaLWzGSyjam7C9ZTL1NmJoQoUdjxLs0U1k/C53yIHCOkjDhF5IyrjKnTzd+uKIqi1CipLXYICKxfaiy6P4l89qZISyNoDOyM5bZb6MxvLLomgdABDUeKC/16u0SpHfV/uC9dvMAKq5kXm/MZsfMGHSPynWtFuvTztyuKoig1TuqKHYJihMTbvFq852+V2LQXJZZtrLnwp3rsPuY3HcabNgsONNBwpLjAdzU68asu1qKLCp2ZWOabdHRn6HOoP7Bzj9T6goGiKPWHGmizmBSkrtghdFvXizx/m8Q+etZYc0bM+IIB9XK7hc6oDc3WndCxjPVlhc4IXqKEbqcRujITXlToIPhUT3m3EeKd9VuRvgcHGxRFUZILuty4Lj7pRuqKXcFWib10l8ikJ0WyGu85sLMTumYIHXV35jJZRpQQOoQpUa7L3V8wqEjojEXXaZCx6H4rsUFHBBsURVGSD/oj0t9QxS5ZMILlvfJn8Sb+U2JZjfxhwMJCh9owsLMVOvMb8UHoiozQ7Sj1tycC20/PCBqtLKOUGgGkAUzrXiJnXpsyn+pRFKX+Qod9OtLTwTzdSD2xo/XkGw9J7M2HJdbICBtdDBqFhc5A/y0apDRo4Isd410WFSZe6LDo6DcXhvPZYcDMubI6iHfG1SKjTvbXK4qiJDG4MRE7tezqGA8L6t3HRSY8aGJuxKSVETr3BYPdQmcsOjqNI3TATbNCV+IvVxdEi3hYoYs8EFbozLriEvGa5Ir37asldviZZn3qeosVRak/IHa4MRkyLN1IrVx40pPivXinEZRtwRcMmuwpdHQtCAsdorR7YOdgn+pgrUQsuh1xhM5M9K8rKRavQQuJnf4riY0738TFH99PURQl2cGNqXV2dc3HL4q8cKfEijb6Qtc0EDoHY13aj66Ghc5YdKX+J1t8NaoGVugCiy7uFwzMOr5gEDOWJYM6H/NDEyd/MF1FUZRUwNXZqdjVFV99IvLq/RLLW+kLXTPGVAyEDsFjfEvGuWxo5mga64yFZSfPCFQisK5LY9FFzXuEzg7sXCreroYix18msRNS81M9iqLUb7SBSl2St0Hk7UdFlswQaWEELfypHid0uC6d0LEBkcN9aYXOrqwenMdadHGEjhJQcYnZZn4f+2OJnXyZEeMWwQ6KoiipAxYdn01Kx47lSS923sw3RGa9boTOWErfGNjZWFIIHQM7sx4YaBn3pYcZngChQzxpXRnvCwZYe/YLBkYIj/yuxE75uYln62AHRVGU1AKR41t2Kna1zebV/niXZduNtWSEjoYn9iaYiS8WWKFr7O8LCB196coTJXQGGp1g1Tm3KRC0rRNEWI3YHXqWyLd+KZLb0d+uKIqSooQ/6JpOJLfYLZohsSWz/Dq6JiFRQ21oeYlF50SNFpdYdIkQOnc4IhdX6MwyIleyQ7yRp4l3xq9F2vfwtyuKoihJR3KL3ZLZIlvX+KLmBncG5u43pRA6i9svGOBqrKbQAUFb12VU6EzYLFrXZal4Q8aLfOf/SUy/YKAoipLUJK3YeRtXiLdirkjThmIHdw5rmBU4Y8kV5vsTrstEdoIkrG8M7IzQmWUrdGZb/7ESO/s6iXUfEuygKIqiJCvJa9nlbZBY/iZ/KDBbVxesd9jGIbS6NBZdQoVul++6DA/sDFbojMjRxaDbCGPRXSPSa3iwUVEURUlmklbsYoV5RsiM1UZDlAZEM6p2ARWs3i+s0BlBQ0ijlBgBZLzLjgOt61IGHh5sUBRFSQ8yMjJsA5V0bKSSvJYdAz6HvzmXSFGLB/3lKvyCgbEcd5SI16qLEbpfS+ygY4MNiqIoqQ/dDRwIHaIH6dQFIXnFLkpNFjQQOlyXcb9gwLYS+wWD2Jm/ETn4tK8FWFEUJQ2gM/mjjz4q//znP+Xzzz+Xm2++WZ5++mkpKCgI9kh9klfsGG6rcTNTtDACZAsXNSAwiBYCR6dwBC+MFTpj0ZUWi9e0tciZ/0/k8LNNigVjbyqKoqQJjRo1ssI2a9YsWbVqlUycONGubxzux5ziJK/YNaPDuBE76tHiuRarixU657qMCp2ZsPToNN44R2Lf/rXIuO/59YeKoihpyJlnnindu3e3LswBAwbIwQcfLE34skyakLRi57XuLNKq49dil0jDjrD29gUDuhhkNBPv5CtEjrrQCJ1+qkdRlPSlc+fOMm7cOOvSRPi6du0abEkPklbsYrmdxOs6QLwiY3klegRuuhVU9gUDWl1KQ/GOv0Rk/I+MdcdXFhRFUdKbU045Rc477zw5/PDD08qFCUndQCXWc5hIG1O6YISUnVh3CTDvaF1kLbo4Qodbk/E1d3jiHfUDiZ30U4lltQx2UBRFSW969Oghl19+uRxwwAHBmvQhqcVO+h0i0nuUSJERO0Ytqa7WOaGLWopW6IyYFpeKV2zOwxcMTvuFSHabYAdFUZT0h/q69u3bS0O+KJNmJLfYtWwrMvIk8TLNnO/TUZe239adETpE7htCZybqBKmjYzr8PPFOv0okt5O/XVEURUl5klvsYMSJIqNOE9leLFLAd+qMaO2L4LEvx9C9IK7QmW32CwbGqht1usi3r5ZY++7+dkVRFCUtSHqxi/HV7/E/FG/AEUbsCkTytvt1a3sTPLfd9pWjzs8IndG13bDdCR1fMBh6gv8Fg059gh0URVGUdCH5LTtDrNsgY3H9WrxOB4oUGutuqxE8+sDRPw4XZHhIG36zDisOt6QVOrOf2wUNzDD/bB2dCQOh6z/WDuxsz6MoiqKkHSkhdhAbfKTELrhZvO4HixQViWwzgpdv5jRcoRsBoubq3azIBV0LnBBiydnx3sycQZ2Liv39hp4ose/+XmK9R/j7KYqiKGlHyoidFavBYyX2wzukfMy54pUaESsyVl5+gZnTXcAIGO7NsKWHBcdxTLvMOj7RU4hAGqHzGot33GXinX+zfqpHUZSkprjY5FkRSk0BPzyAczwKCwtly5YttqN4otm+fbs888wzdizNnYn8zFoNkTpi5+g5TDK+9weRH98j5T3GiFdoBIzv2mGpOWsNq85+e47JLCNwfPfO7OeVeOINPFa8Sx7QOjpFUVKC559/Xv73v//tHpj5008/lb/85S+yceNGu1wRy5Ytk48//rjCAZ0nT54sRXjK9gMGil64cKHtppAKnwRKPbGDnA4iY78rGRfdJ3LZg+IdfI54LbsZ685sKzCCV2gmSkKIX74RuLIGUt66j3hHfF/kZw9b61DGfFtiLXL98BRFUZKYNm3ayOuvvy6bN2+2y2+++aaUlZXZUU6mTp0q9913n7WwACF8+eWX5aWXXpJNmzZZqwtBWr16tfz973+3osmxH374oVx77bVy7733ymuvvSaLFy8WPunDfObMmXuI4FdffWXF1Q0Qjcj9+9//ljlz5liha8AHtpOc1BQ7Q6xhI5HOfa3oxc67UWJXPCLyyydEfnSvsdiuF/nWtWb+O/EuMhbcr56U2E8fFjnrtxI77EyRdt1ToiSiKIoCxxxzjHVJbtiwwbou586dK8cee6wVts8++0zatm0rf/vb32TNmjVWCB9//HG7P5YfQrV161Z58cUXpWnTpjJ79mwrhghbSUmJZGZm2i8dYD2y/J///EcWLVoUnFnkyy+/lH/96192fwT01VdftWLZrFkz6dixoz0+FUhZsXPEYuYScjv69W7DTxA5+kKRk38qctoVIiddKrGjz7cfW2XosVirdsFRiqIoqQMW3LBhw6zwvPvuu9KqVSvp0KGDdOvWTVq2bCnr16+XSZMmWcsPa27gwIFWIAGB5BM+PXv2tPV8hPHBBx/Yffr37y+HHXaYnHDCCdaiW7JkiRVMhg1zIoa7EjFlcOgzzjhDpkyZYi3NPn36yJFHHint2qVGvpryYvcN+AwP38JrkuXPEUNFUZQUB0FCqGgUcsQRR9hhvRCe/Px8GTly5O7xLPFaderUSXJzc63IIVrU3S1YsMDuM2bMGOt2REBxbzZv3tyKJqLFB1xbtGixxxcPcH9yHOJ64IEHWouRYcX4/A9hp8rQYqoEiqIoKQBCg9VGHR3fm0Ow+Ngq9WfOxYnlxm9aStICE7ck67D8ZsyYYRuqLF261IbD9h07dtgGLLhGjz76aOvexGJDKB189gdr8p133pH777/fWnkIYl5enq3Xw72ZCqjYKYqipAi4ES+55BL77Tm48MILbb0ZAsa21q1bW6vvoIMOsmLYu3dva/UxUceHhYcVh+sSy+473/mObNu2zYrjqFGjZMSIEXYKf7SVcPmQKw1gsrOz7THU/Y0dO9a6RrHyUoGYUeWEy/Kw0y6Uz15+PFhSlOTlmdfekVse/uaz+pOzT5PLzz8zWNqTky+6Uk4cO6bC7bXJxKkz5Mpb7re/77r253LMmJH2t5KeYKXROAT3oRMZ6thocYk7kok+ebgW2Yf9sd4QKUSNPnfsw3bq+rD8aLyCeNG6EtFDTKmTC4NFSGMXjsWyA8JDFJlqosFfonVELTtFMfBSuenJO2+UR5592QpJsvP+tFly6tGH23gnm9CRfmRYcxcuCdYo1QVhQXDC1hT1c9Sp4XrEWkPEsrKyrAAhYggdsJ6GJ4hVTk6ODQNBxErEHYkA8vFWtkXhnO5YB+ERfqq0bFexU5QIg/v2lNFDB1khicdrf78rKaw62LB5q7Rvo/1FleqB4H3ve9+z9YI10WcOByJ1iXsb8aUmUbFTlApwIoJ1cv29f7PzB5583roxmYP7zTamS66/bbdF45Yd4fVMLgwsH5bdOQgzfJzbHrWQ2Gfa7HnWCnX745Z14TM5WM8+hM36l9750M7Dced3dNlRWbguvuHjiKtzr55/1Y274+6ukSl8jfx228LrldqBxie01sTlWV3ovvDKK6/YBiwO3KM0bqFlZ12hYqcoERAlRGRArz2/a4irMJ5F9/qkqbvdnxx392NP77Hs3KFk/tSrse3aSy60IhUGcWXbbVf/zB7nBGLeV0uspYnFGebhm66x63Fj8pvzUP/ozkG9I0LkIMxf/eg8u63XAX4Dh/WbtuwRn+gy7C3c1es3ytGHjNjjOOLK/kA6sIwIvvLuZLsfEyBwjlnzFtj1XIsSH+rYouNcYi25sSmpz4sKFtuwqqKEx9ukGwN995xVV9kQYmyLWmiE5eKFy5NuCnR7AM5P9wjXGhRcXWJtomKnKAZnbTAhSmTo4TqwwX32FJowNFYBJ0YXnn6inbvlTVv8Ei4ZuQtz41Z/Xdhac+LKcYgYIgdzzXxIv172d2XgduU4d45xBw+3QuTEFqL1euNG+4Ogt8ltZefnnDTezt0y8atKuOec/M3jolAoIF0dCCTi5xg+qF/wS4nHc889J3fffbf8+te/lk8++cQKyO233y5XXHGFHfqL7gE33nij3HbbbfK73/3Ojooyffp0OxzYnXfeaUdBQWSY33zzzXLLLbfITTfdZK2uefPm7W7o8o9//MOe57rrrrPDgTlhQ9AYpeXhhx+WG264YffwZC5e11xzjR3RhYYsWInU5TEqC+d48MEHbYd36vjef/99O/TY1VdfbS3AeINc1wQqdopicNaGm2qiTi7s6puzYHGwNj4Iwbsfz7S/EQQEpipgvblz4D5MFIkKF6vPhROvFawSH/rTMUIKXQjoFM6QXox4QqfyoUOHSpcuXew6RkWhvxxDiNHvDiusV69e0rdvX9uHjpaXH330kRWi0047zYoSIoeosf9bb71l3ZCMjIKlx3pnFSKuNEqhjx/99BBS+vwRHt0W6O7wxRdf2G4QhEEcCI+uDHR1QOjgiSeesOc/+eST7XJtWXgqdopSC2AFIRi49BDTs0/yh3KqiEHGkmR/6sQ6t2+720rcG1hgUeGOWnP7Q6LCxbKLhqPsHSy5fv36WdE4/fTT7XiXiBQtLek/RytNWlMiUuxDC01aWyIq7Lty5Urb7QDLjfWDBw+2won7EhHDeuP4adOmWTFDUC+99FIbNmNgAi09ETkEjW4HiCAWIWJ6yCGHyHnnnWcFDFHDhcn4nZxr9OjRNk7ElYYq3/rWt2wnd85F5/Rwn76aRMVOUeqAZyf4o8dXhHNlYv04N+newCWJQDr3omtUEs+luC/sb7jtW+/ZSpTrCNdTUl8XrvtTKobuADTuoF4M6wzhYUKkWEcXAhqEOJcgdXsIHS5GxOi4446zwgLs77pX85sJESQs9sHCAyxHhifD9QmMtILQHXXUUXZMTcKni4OLF0LIINPEgbpD4sycc1FXx3riiBCeffbZMmjQIDvu5rp162z4NY2KnaLUAlhBiBcuQITCWXauXi4euDIh2lCmIjgHDUSoc3RuQhqJVNUqrIj9DZftWKWuNSauYRrTEAYT7lm6cSh7Z/z48VbcqP+ivoxBnhm9BGsJ0aETOCOaPPLII3YfXIlYVbg3+WYdLkwEjYljnDWFuBGuC+fb3/62FS0+/UO9Gi5G19CE7gks84kghBDLDosOS+5Pf/qTrS/E4iNMjmHUFUZrueOOO2ydHqKHG5RRXPh6Am5Z+u05y7Gm0RFUFCVJwZKiZacKggIrVqywlhXuRr6AgEAxLiaih2VHa0esLKwoGqEgMAwlRn0f4oMo4b4kHESGieNpOYlbESsN9yduT+ry6KQ+ZMiQPSxCXJO4TxEttjOOJsu4MxFN6u0AwSRea9eutcdwbuJI/SKWIxYjliTWHSKKMEdJtI6o2ClKkuL6uSVLB3YluaGVIxOtIal3++53v7vHgM6pRqJ1RN2YipKE8KLTVF+FTqkqWG0nnXSSFblzzz03pYWuJlCxU5QkhBKtui+VfYF6O+rJaPnIb1pZYulRj1YZNDyhm4BriLI3cFtSD0j4+wN98XBtaqdyRVEUpdpQx/bGG2/Y1puV8d5771nBowVnVaCBycSJE/dbrDgX9YhVPV+iULFTFEVJAWgE8te//lVefPFFKzS0hqSpP18uZ9QTGoMAltfjjz9uux3QrD/cLIOuAHT0ZpxKLCxAdJhoREIry4ceesi2lnRDhjFSCud988037TKtNhkNhfBpCEPjFqAf35NPPmm/du66L9AI5bXXXrPHz58/367DgmSiRSgW5QMPPGDH5qxp8VOxUxRFSXIQFCwwWkvOnDlTXn31VVm0aJHcd999VpQQKcSH/f785z/bPm2IIdvCYseQYnQwp6XkY489Zn/TUpOWmLTARCTpCvDBBx9Yq5DuAYTLeJdvv/22PS/hIay0viQOTz31lG0Uw5BgnI9zI5gIIkOL0YKUlqOsY2QVxt+kNSdDnNGNge4RiB3WHl0jagoVO0VRlCSHobuoh0NMEBisPNyTCM+hhx5qh+tCgBAnrCn64R1//PHfaKTSvXt3KzZ07kY0mWOpIXCvv/66PQ/H/fCHP5Thw4fLhAkTbNcEvnPH6CyM5IKw0V2Afn30s0Mwsfqw7FjHscuXL7f1egwpdvjhh9vRVZwlinVJVwO6IrAfAkgXB0SvJj4v5FCxUxRFSXKwuph69+5tW11iVSF0rVu3tgKFpYSFRmMUlhkGDPFAUBAzBxYb1hPiyHbXv405YtWuXTsbJudAGFlHWIyGQgdxrDZckO6czHFHIrz0x6PvHlYifQGJC8LGh2UJn+0IHmKMG7Zr167y85//3F4ToojoqWWnKIpSj3GWGJ3AqedChBASWkQiENR3sY5O3eyDe5B6POrJwgLCMm5FBnhGPJ2rky8fjBs3zg7sjLuSLycwP+KII6y1SD0f9XN8rRwxQ8jcebH0GEuTejpcnwxITeMYWobidmWZ47EA6YTONiY6r+Oapa4QS5XtrK8pGtzIGC8J5qGnX5BLzzsjWFIURVGqA9YW1hIWEQLCIM6MeYmbki8aYF1habGefREj9mfEEgTQDcnlhvzCuuI49uc4rDZ+YzFyLFYix2IBIkCIIeGeeOKJ1p3KMQiXG2qMwZ4ZrQULDwE+4YQT7FfP2QcRpv6OLhGIIsdgVSKc7I+lyCDXiC3ncJZoonVER1BRFEVJAbDAGAoMSwjBQMywrviNeGHpsY0sHYHBdYjIsS7sykRgEDDWI5L8Zl/CIQy2O/EErDfEjrBwRbI/+7lj3XldK03W4c5050Q8iTsiiYgitsD5WI844m51w5I5dLgwRVEUJe3R4cIURVEUZR9RsVMURVHSHhU7RVEUJe1RsVMURVHSnhproKIoiqIo1SHpW2MqiqIoSjKhbkxFURQl7VGxUxRFUdIeFTtFURQl7VGxUxRFUdIeFTtFURQl7VGxUxRFUdIe7WenKIqiJCX61QNFURQlrdGvHiiKoijKPqJipyiKoqQ9KnaKoihK2qNipyiKoqQ9KnaKoihK2qNipyiKoqQ9KnaKoihK2qNipyiKoqQ9KnaKoihK2qNipyiKoqQ9KnaKoihK2qNipyiKoqQ9KnZKwjn5oivtIK4VTWxPJq6/9282XnMXLgnW1Cyc65LrbwuWqg/pWZ005fprmmdee0cmTp0RLIlNa9Khps9NOnMeB/FgmXki+NUt9+1xDe58FU1sj56bdGHbA08+H6wROfcX18tjz78aLCmJQMVOSShkYqvXbwyW4sP2ZBK8DZu3Suf2bWVw357BmprDZfhD+vWy8+ri0nv4oH7BmqrjBKd9m9xgTc2AGNzy8ONyzJiRwRqReV/5BYvBfWo2zVet2yCjhw4Klsw1B+cdlIDzvvLuZJkxZ7789LvfDtZ8zU/OPu0b06lHHy5fLl5m02JvQnbROd+S+x9/ttYKYPUCPvGTaIaeekHwS6lv/OfVt+39//MTzwVrvsnF191q93lnyifBmrqFuFx3z8PBUv2B9OfauWc1Cff7pJ/8KliqPeYsWLzXZ7E6cE3RsN2zXRFTP51jtx9x3qXBmoohLKb6SmXpuD+oZacklI1b8+x8QK/udh6Pow8ZEfyqe5ylVdPWTTKClQFtclvZeU0xbfY86dKhXbBUezjrsW1O4q8PVyQW9biDhwdrqsYhwwZbS3N7QWGwpmJ4T0i7jz+bG6xRqoOKnZJQTGnaztu3rlg8nCspSrSuL1yHESZaL1KRS9TVxbkpXv3Qpi1fi3N4/3jndtujuPXO5eTcg66eyoXJeuIeja/bPzxVtU4pGieOY5nzcg3hMJ2wA3F45NmX7e8rb7nfxitM+LjosWGi9ywcjosLkGmHw+G48L7h64je33iE7xVTvGfAFbycy9Klc/TehsNhIuy98cLbk6R/z2775frGtRrGPSPReJ1z8ng7f+39KXauVA8VOyWhkKlVVv9FRkJdB/u4Ohz3skfr+siMoxkPGSHnCBOvDpDwOE8YlqOZuhPeZydM3GN/zh3NfGbNW2DjHcWtd9fsLAoyW4QEKM2zPWrlIAjnX3VjsPQ11OvEE9wo0Ti5DJ7zOjFz3P3Y08EvP83CtGudY+dhgQpDeFEBJs2j4XB9Lo1dXMJQCEJ0OM6dE6g3Bc4dvb/RZ4DzRu8t4UXj7Qpe0fsStvTiXSthVyZ4xH/+kuVy+MihwZqqgYVGgxbiSv1dVeC5mTT902BJqQ4qdkrCIBMAl/HEm1wm9asfnWfn4ASBSnw+w8/05J2+ALC/CxfICMkA3H5MZByc01kNLrON7scyx4etFMTC4fa769qf2+XXJ021c3AZdLyGINH1TkARG8IizIdvumb3ecONUxA1cOd2E7jMuiLixSl8DGnowuPa2dfhzkHa8fumX1xsw3PxufaSC3cf6+7F4y++bufgzu2Od5NLY7Zffv6Z9p6CiwvCE69xihM4hDscHjghBAoAnDf8rDC584TvrXtWHNHGKW7faFjEISqmYVz8u3XqYOfxiPfsX3rD7fLu1Jk2zeI1aokHzwouT3VlVh8VOyVhuEygMpwAOavOWS9kOGSODjJFMlwIh0tGRCYWttDIqF2YZGAuk0Ngwpx90jF27uqqgIyTMMP7Eo4TUMf6zVvsPNp60GWY4fUucyb+4RaIYZcpIAgugw3D+qoQL05ONBAXZ9EAVlTYAowX72cm+JYb8XYuNCAclx4ubi7sqBVEOnI9bjviy3nDcYm6F11c2O+1v99lfztYF7YAqSMj/PCzAus3+WnhcPEMFyyirW6dqz1qxROH6D0J4+Kf2aypnceD59lNTnCZc194Xju2a2PX7Y3Mpv45CotL7FzZf1TslIThMgFnzbiJFx7IRKMC5CyRaOZVEWREZBpk6q7EHMYJWXi7m5wF6XCZ7IWnn2jnleHCjTZZj7eec5OphgUDnGXhMlkyXVxy0Xg6t+beuidEG5i460GYwuICWLBh92m8eDsrF+suGqd4lg73lutkG/vEqzcjLaLWcNS96OISvQ8IFgIbbjxEwScaNyYXP1e4cAWksMuSuITTgPM7UUPwCCfq5q6MgZU0wuJ5dhPP/M8vPNue/89PPBfsUTW6dfatx+Wr19m5sv+o2CkJw2ViYWsGeOERKDJRlyE7ov2gwjhxiLYWdNaDs/zIpFy40RJ+PFwGWJGAQbQuLJ6FAs7V6da7eJw4doydh3Fhun3JWMPWo8MVDvbWijCa3s5yHDd6zxaCTjTC4kk6Ra8nXlyiRK/fWUHEmeO5F86q2m0FRtKXTD98z909ixYOnGA5S5i0dW7WMIg71xK+XxW5LOMVIIg/E+EQN64h0fzozFN2F9KqUherJB4VOyVh8CKHM5wwV1xwlp3TECRKtHUakFFSWic8MnMyiLCoAZmjq096f9osO3e4DCze5DLVioSRhhhk3GGLhGuLNp93+4Uz7qirMkw4TK6PMMlgo/FzIhZPhMNU1GE62hI2KhqA8EYtLogXn/AEuC3DogYUaFxd5/vT/Xvhzhu+DndMWHSiBQuHux4n5u4eu/o/NyHu0fsVdVlG7wsFjaio4V50BahoY5x4fBEUlqqKewewIsNpVxnOonMWnrL/qNgpCcG9vPEyUCDTcSXbsGAhIGRU4dIuYTlXnrOQnJUTblEILmN1ri43j5aenViG3VTObefqqiBsPZxzki+K8TJoMkO3X3h9NIN2uGuO9ucLN74AhIQ0gqgVFYY4kW7h+qyo5eiIxskdG7W4OJYChrteh3O1OgFw1xB1yTkxcveK80bjE3UvurjEe264nrCYO1xdJXC8c0+H0zZaOIkWBFy6RVtdvvvxTDuvrO+ha5hStI/1aKSDs9qr6s4sKvHPES3AKPuOip2SEFwmFs1Aw7jO5GErzDUacXUmTE7osDKwGMBZY2SMbj8mjgPXudftHw7P7UfG6+oMXSZLZurqnJhcxkkJPyoa4TAROsKDqMUUL4N2LlO3L2FzPJmyC5PJ1T25sCsiXnpXVTScWHANnNOJm6szI/3DcSJcMml3D1xaVxR3tx9C7u6XExUnOs7aq6jhj7s/4YKE24d75M4Z7rYRFlCIZz26e+pcveF7z8Q1sV+0sBKmR5dOdr58zb7Xo33nuHG777tLr8qoyH2u7DsqdkpCcJlYZSVilwnykrsMiUzFucfC4BLDrRSG/aJCQkbA+nBmwDLrw5BZh1v6uUwWsXWuKwduMhdXIOx4+zirM5wxkkGHrS2Hc5mG9422PATC5RoJpzIqatFYFdEgDi59whkp1+xckWGIkytEAPvHS2PiHb6X4ZFyXLyi7sWK6k3juV6Jn7OMHBSIXJxdmsQ7ljQIFwQqeu4IL959CUPc6VA+ecbsYE3VoRXmpeedYX8/9PQLsnbDJvs7HmxDFMcefFCwRqkOMcYMC34nDEpI8R4kRVGUdMC5sSkIOOFONLVxjmQm0Tqilp1SfV58UWTnTv/3/Pkil12my4lcfuMN/7eSNGBlYqFOmFRzQ3lRf4ilWR+FriZQsVMSwwUXiMyd62fUQ4fqciKXhw0LEllJJnBHvvreR5W6IvcX3NK4MF0jKSUB2G8fJJhEf5pBSQGee87zhg3zvLVrdbkmlpWk5Jd/urdGPg/Fp31q6tNEqUKidUTr7JTEgeutYcNgwaDLiV1WlHqE1tkpyUs0Y9bl4EdAdZcVRdlvVOwURVGUtEfFTlEURUl7VOwURVGUtEfFTlEURUl7VOwURVGUtEfFTlEURUl7VOwURVGUtEfFTlEURUl7VOwURVGUtEfFTlEURUl7VOwURVGUtEfFTlEURUl7VOwURVGUtEfFTlFqik2bRDZsEMnLE/n8c5GFC0VKS4ONiqLUJip2ilJTvPyyyO23i9x1ly96U6aILFkSbFQUpTZRsUthSneJLNsmMmOdyGOfe3LXJ578eaYnE0x+unCryV+Lgh2VuqFBA5GsLBG+j8zvDPO6Jf5byYqiVAH9UnkKstwI3KuLPZm13pPFeX7+ucMIn7uRDU2e2iAm0rJpTA5sI3Jsd5GDO8WkmX4LtHZZtMh3W2Zni3z2mUj79iJlZb7wDR4s0rx5sKOiKFESrSMqdinE+kKRJ+aVy5tLRfJ3iDQy4tWkkck7zdxoW/DPZ9dOkZ1GAEtN3srq/rkx+cHgmBzR1d+u1BG7zE157z0pX71ayg47TBr26mUKJqEbpyiKJdE6om7MFOHdFZ789O1yeW6+WTCGQdsckXa5Iq2M0dAi0xgJZspqasSvsS+CjZuIZJp1rVqY9c1EFmz15LoPy+X26Z4UGSFU6gisuvHjJeOoo+SDqVNl4htvyPb8/GCjoig1hYpdCvDcAk9u+NCTTSUiHYzA5bQ0QmaErYG5exnGKHATy02M0DU11h5zDIaYWdfICGCL5iINzfrn55fLdR94stWEpdQhBxwgx15wgcybP1+u++1v5XNaayqKUmOo2CU5z8735L4ZnnVXtjHWXFMjclCZ8xmRa2gMiGZG5BBAdqVtRFNj4bVsHpOPVnvyhynlauElAQcY0fvPf/4jd911l6xZsyZYq9Q2K1askEWLFkleXp7s3LlTdu3aZd6xhNfwKHWIil0S8+JXgdAZ0cKao+HJvrx/RvOslcdxjsYmrJZZIlNWi9w5rVx26ftcp8SC+rqmphTTsKExx5VaZ/r06day3rx5s/z73/+Whx9+WJYuXapil2ao2CUpE5Z4cuf0QOiy/aqe/X31bCMWP0+1IHgtjJX3xtKYvLMsWKnUCYhcA3NzmTIwv5VaByuO9M/MzLT3o3Xr1vLmm2/Khx9+KKU6CEDaoG9XEjLVWl2eKemL5BqLzgpdNQqZ6FxjI3gOgmrSBFenJ4/O8WT7Dn+9UvvgxszOzlaxq0MGDRpkp7Zt28o555wj5557rgwePNjeE4RQSQ/07UoyPt8o8qePy4VXrHUChM5BA5ZGJqzdmOVmTUVWbPPk7aXBOqXW6datmxW8nj17SnPtd1frbNy4UWbMmCGNGzeWDh06SBaDABiw7rp06WIKhaZUqKQFKnZJxMrtIn+c6kleqW/RYdklstqAxiphGhhrj24Kbyz1pEQbq9QJjRo1ktzcXOndu7fNcJXa5ZNPPpGcnBxr1YXBsuvevbu17pT0QMUuSdhSIvL7j8qN4JVboSPfS3T9uOuq4KBtRFNznoVbPFmlXb3qBNcIQl2Ytc/y5cttYaNz584qavUAfcOSgDwjdNdOKpd5m3FdxqRpk8QLnWOPwTrMObAed5o5Q48p+whDf+3Y4c+3G7N8zhz8YsHGqoHIuUYqSu0yb9486dGjh7Rr1y5Yo6QzKnZ1zPZSkd9+UC6frRfJzRbJbFZzQgdRVyZ1d+XmfJ9vVLHbZ7ZsIccUmTZNZMIEkQ8/FJk4cZ8Ejzqho446ytbbKbUH9XS0voy6L5X0RcWuDikq8+T3H3n2qwVtW/pDftWk0MEelp0B7xlGRbhrgrIP0FqvqMi37kaOFGnVih7KVfpuHZ2X33//fVm9erV8/PHHsnbt2mCLUtPgwmzfvr20bGlePKVeoGJXR/CVAj7Jw2gmbcz75r4EU9PUxjnqDQxng0U2dKhIv34iU6caM7mcnFRk8mSRSsa8XLlypTz11FP2969//Wtr3b3x5psyfdIkKSsutuuVmoMGKBQyNvGBXaVeoGJXRzz8mScTFovkMFBzLQkdaLehBIJVQH0Pn+45+GCR//s/kWHDRNq08evwPvhAyjds2GMwADopv/XWW7bD8tFHHy3jxo2zjSSoOzr3ggukn7EQY//7ny+YSo3RzxROyk3BZN26dXaupD8qdnXAq4v8MS+zM0Va0K2nFq2t6KkQWd71WoxCetOxo8ioUdbS29Wihbw/ZYosWeYPU7Nw4UI7DiZ1RWeccYZ07brn95aaNWggLcePl4aHHebXA9LgBeF7+22RwsJgLyVRDB8+3I6JqWOS1g9U7GqZt0y+d8f0cjuiSbax6mqTXUbUaIwSxkPozLpMHZYxMVAp2qyZyIABUn7IIXKgEa61q1ZZl+Xs2bPluOOOk8MPP9zsYvapiO7dRc4+26/7Qzyx8tTSSzhtjAVOJ3Ksux20qlXSGhW7WuTtZZ78cUq5ZDQQadXSJH4tpz4fc90DWmIasaPv3bE99FFIKEb0GjVuLG3atjW6N8CuwpLoiHhVFdykeXl+YxftmlAjHHzwwbJ+/Xq17uoBmsPVEu+vMEI31bPfl7Ojo5i8qzYbi2DV7TRTlB07Rdo2i0nXWrYy6xN82YDRUfa54zjuzJwckSOPFOnRI1ipJBIsbAoguDO3U8+qpC0qdrXA9LWe/MkIHVrTulXihwHbG5wLUYtSbtaV7BAZ2k6kXWawUkkecIk2asRAjf6QOvWYgoICeeihh+Sjjz5KuMsRi7u4uNiOk6mkLzGvBj7aNOy0C+Wzlx8Pluo3X2zy5Nfve7K9TKSNETryrtoWulJz7uh368hHi4uMtWe2/eW4DBncJtigJJwtW7bIxIkTZeTIkbbV5T7x/PMiffuKHHhgsCJx8KFSRhHZtm1bUg9XRtwQuwcffNB+YHXs2LFyzTXXyMCBA4M9qgdhT5kyxbbQZGBuJTlItI6o2NUgeSWe/HyiJ0u2ibQ1QlcT413uDYQunvtyl7HqthWIHN89JjcebpRPqTGqJXa0xuzTR2TIkGBF4sCaoSM7c/cR2WSEodS2bt0qt9xyi3l/PPne974nxx9/vLSiA38CePvtt+1IKvS90w/oJg8qdilCkRGZ6z4sl6lrRNqZd5L+x7UtdLguy+I0SvHMuoJCkZZGfP95UkxaN1Oxq0mqI3blRuxiRuxiNSB2qQTWF6Oe9OrVy44lmihomPLZZ5/JsGHDpFOnTsFaJRlItI5onV0NUGiE7oYPGR1FJLdF3QgdIvcNoTPQ+pIuW9z4X4zMUKFLcj4w0xL/Z72Gb/3xgdVECh3MnTvXfktQhS79UbFLMFh0N04ulw9XedLaCF3zWhwdxYHIxWuQQjyop6Nv3TWjY3KMVk8kPQxmpd3Jawb6PbqPtirpj4pdAmG8y1uneTJppUjrbH90lNoWOvrSxRM6KCmmQYonV4yMyYk91aKrLRgObH8bgMTMA9RQ+9jtG/SZo0P+tm3mZdhR4UtIdwNGsUlU3Z+S3KjYJQhaO94zw5O3lnrWddmiuXnHgm21BUJXGk/ojK6VlRqxM9MFgzPkrH4qdLXFurVr5R+PPSaTJk2ymWsZX0eoIgxSvGzZMnsso3woVYDuA7Nmibz8ssiCBf5g3AUFdioxE3V/u3btkhdffFGKiopU6OoRKnYJ4qkvRF5cWC4tjTWXjdDVstLRaTyeRYeslZWYQm6RyFHdY/LDISp0tcKiRfLk1VfLuEMPleWrVskvfvELm9E+++yze/2UDwMTv/vuu/Lqq6/aMTQZMPqVV16RD43olZaYm6lUzPr1/hBrfKcOixixW71axNyDzWZav2GDTVcEj/563BOlfqCtMRPAu8v979LRtYBhwKJywgdTSeXouJSJgkYnJcZgiAZPPHYYa267EbpDO8fkpiNiktXI36bUEAjZ734n8uST8klxsay59VY59Gc/k7bNTQnIsMBYG3zxoE+fPjJ69OhvNLhYZTJkmsJ37txZDjvsMDt2IxSajHnVO+9Ixy1bJHvsWJHIINJKiPfeEzGiJuPG+V+kiEA3Blpg8uHcMiN6AwcMkLZ8qUJJKrTrQZLxwUqTt002amMEjdFRwlUzJGxTIy7NjAgiSAWmUJ5owSM8K3RxlA7X5fZCkZEdRG4dlyHNVegSC2NWcmOBuiHcZpmZIldcIWKsMHnoIZHvf5/Pkfv7BGBRIGh0SaCDNF8pZ90HH3xgxe7II4+0LQTjsnixyEcf8UE2P9ydxpzv0sX/aCwfkWVdPR9tpSp8NHmyNDAFkPIVK6RPr17SlvFLk7hjfX1ExS6JmLyaLgblQgt/Rkex4136m3yha2iELsjnsLIKTd5InVqiHIncOYQunoBSNbS9wNyL9jG5dWxMWu2Z3yqJAOthpSntMKYiv1u08MXmq6/EqJU/tmVgmcXjK7MfXyhnfEbGZaQPHgMTO2uuQri5fAVh3jyxHyhEaPmILMLbv7//PT2lUopNGq5/913z3raS5rgyGY1lXwbpVmqcROuIFmX2kxnrPPm9sehomLJ7vMtgGzQwitYkVMBGkJwRkAgqEzpGR6HTeL/WMbnpcFPoV6GrGbAEqA/CokPwnHV1yikixx1XqdABrsyzzz5bunfvLieeeKL9WvlehQ4Yc45PBGHBsT9f2+bbdzTOSORDlsY0M2nY3VjE1rlM4YEGQFofmtao2O0HX24RuWmKJyWmUN06x+Q9cQZ2ZpF8x47CZBaw6spYtlurB+diGLB4Qldu4lRo8tsuxsj43aEibTMTZUcq3wCX5THHiFx4oT/HpcjYigzcXEXolpCfn28OjdO6qDL4QjqWCHV+iOuPf+zXUWVnBzsoe2XQIP8TSp07+65gJa1RsdtHVuWL3PhhuWwqNnlay/hCB6wrMgLHVIDQGRFKlOzgCo0O7AyIK0JH3dxvxsSkZysVuhoFscOyYo7bkk/xMGBzZR9mjUOrnBxpHKnX2ytYd8OGidBYhY+94lrgc0AJHmEk7TnUlAj5buCrr4q88ILI5s3BBiXdULHbB/J3iPxxarmsNIJHHR1uyrDQYcXR8tJhG4+YY+j/lijZoXsB3QyiMCpKUaE5v/nN6CjD2qnQpQTGomtYXCwZ1LsptQ/1rF9+6RdScEuvWhW/9KqkPCp2VaTYiAzdCz5dZyy6bFOANgXx8CuB0DU3hepsU6jPChXSEzmYfNyBnQ3WijQWHW2NfjMmQ8YdoEKXKmRs3y5DCgqkLaN97EOHcyWBYBnTZQTrmP55SfwFCGX/UbGrAqVGYP7wUblMXuVJrhG6TCNoUYsOobP96cxy2LpLFBUN7OyEDmvvylEZcqx5b5UUghtIJqtDgtUd/fr5LWdPPFFEB4ROW1Ts9gKNSm752JN3V4jkNP/mMGBW6Iwl1zCUkvFEqTpUNN4l+STjXWIQ/OygDPlWHy2Rphy04qRFJ10X1LKrO6jvpO5VSVtU7CqBOre/zPLk9SWh8S5DSoe0ZDb2C+WsZrnMiFJxAqtfKhzv0lBaQp2gJxcMjsm5A4KVSmpBK8CjjvIbm+xjwxZFUaqOil0l/GOOyLPzPWllCnx8wSBKprHoaI0JVuiMMNHFIFFUNN4lMAxYYYknp/XOkJ8cqBZdysKIKF98IfLGGyLTpvnTli3BRkVREoWKXQW8vMgzYlcumTQ6MVZdGKw4hgBrHBW6BPZJpRsBfelChqTFnstYjvlFIkd0zZCfj4zt4UJVUgjclggb1h0dwhle7PHHfZemoigJRbPJOExa6cl9M4yYNRJplW0SKZJKzcz6JmZyQrTTCBMWXVSY9hfcp7guvxGeUTpaqDPe5aiOIjccGpPMQHCVFMSNhLJwof+QnXmmyMkn+yOxKIqSUFTsIny8xh8dZZeRmhwjdO6LBcAMa65peBgwhM5YdOG6vOpAOHFHRzFC5yy6IW1j8ofDM6RFKB5KijJ8uMghh/gDRp90ksixx/qjoyiKklBU7ELMXO8P7EwLzNyWwXiXIaFrYpapp3OwjRFS4g3btT8QXkXjXe406xnvsk9OTP54ZExydKCM9IDmvHyGhpaAWHdYe1FXgqIo1UbfqoD5m0V+Z4SuBKFr5ec5YaFr3MBveelgmxvvMhFwDlyX8YTOjXfZubmxOg+PSTttIa0oirJPqNgZlm0T+f0UT7Ya8WK8S+rqwkLXCKHDoqN1SAAWHY1SQquqxQ5jucUbBgyhKzBCl9s0Jr87LEO6mfgpiqIo+0a9F7sCIzKMd7l8uydtEDpjvTmhA1o6MvxXeAQhLDq6BCRK6Kijo5FLFMa7LC42ccqIydUHiwxuG2xQFEVR9ol6LXZYUndOL5c5G4PxLpvuKXRGY6xFx9yBRWeFLkFKRyf0uEJn4lFsLDpMy6sOjskRXRIlrYqiKPWPei12by0TeXOpSE4LI2oRoUNasOiw7NxqGo8k0qLDDbrDTFGs0BmLbsdOT34xMiYn9gg2KCkBA3Lv2rXLzhVFSQ7qrdht3yHyr7nltitB88yvBQ2w2rKM+DUMDQOGq5HP9SSKCse7NBPjXdKf7vLhGXK6jneZcixfvlyee+45WblyZbBGUZS6pt6K3fsrPFm+TSQ7yyRCKBWs0BmLjkYpTgARpYSOd1nut7yMR6kRuuJSkR8dGJPzBqrQpQJ8ZXzx4sWyfv16u1xSUiIbNmyQoqIia+GVl5ebwssOKS01N9aQl5cnX375pWxnEOiApUuXyurVq3d/sbzYmPbz58+XzaGPia5Zs8YKqQunvjJ58mS5+eabZcGCBcGa+JDu+2tdq1WefsTMTU34XR122oXy2cuPB0vJB2Lzy4nlMtvkI+1zfYFzYM21wKVpfrMaN2MihwGrbGBnOo3T8vI7fWPyy1GxPeoKleTlxhtvlC1btkhhYaEMGTJEDjnkECtejRo1ks8//1wuvPBCmT59upSVlUmbNm1sZk1GnJ+fLz/5yU9k2rRpVsQQs2OPPVZGjRol//73v6WgoEC2bdsmV111lRXCSZMm2X0I/8wzz5QcRuqvh7z66qvyyiuv2HQdM2aMeX9ju4WtYcOGtsDA/O6777Zpfu6550rnzp2lQYMGtvBBwYPfbn8mCh5NmjSx0+zZs2XChAlyyimn2PtJ4YJjmjVrZvdVaodE60i9tOzWFoh8YYQOCy7afxfp32UmBJA6taIECl1lAzsjdAwDxodXfzZchS5VQMTWrl0rF198sZx88snWqmMiM2W+adMmm1EiXEwffvihHHrooXLbbbfJGWecYY/fuHGjPf63v/2tFccpU6ZYFygZ+dVXX20z2BdeeEGGDx8uv/rVr2TFihVWHOsrWVlZNs0oBBx99NHywQcfyKxZs2zakta4kN944w356KOP5IknnpCHHnpIbrjhBlm2bJkVyscff1wuv/xyGT9+vDz77LPy8MMP23T9+c9/LjNnzpTnn39e/vKXv8iiRYtsoYX7cvrpp9sCCAUaJTWpl2K3aKtnP8jaJM5wWwgSlhytLhM53iUiGm+8SzSN0VEYBmxYe7oYxKSpFh5TBjLXVq1aSdOmTa0oYc05sBwQPSwPt75FixbSsWNH+5uMGkuC/djeunVru75///7yf//3f9bdScY8d+5c6xadMWOGFcOhQ4dKp3r8kVEsrezsbLnnnnusQH311Ve2cIBFR1pu3bpVOnToIAcddJCcd955ctlll9n7gHU8depUyc3NtRYeAofgkZYXXXSRvTcI54knnmiPGTFihD1H27Zt5dprr5UXX3zRFk6U1KReit2MdZ51ZcYquHoEj5aXCFQiIJgShC4SnrUezXmw6Aa0jsnNR+gwYKkGwoQoYY199tlntuSfkZFhRZDMEzfavHnz5N1337VuS0QNqwNXJoKWmZlp9yETRthYXrdund2nV69edhuQ8fbs2VN69+4t7dq1s5l3fQWXJdYd6XvMMcdYFySFgcaNG9uCBWnDxH0AxI10e/vtt22hpE+fPlYsSceWLVvaQgRWIVY41jdQCCEspn/+859yzTXX2POwv5Ka1Euxw01JXsG7UJGgJcqLSPB2YGcjoHuA0AWuS8a7vHVsTNrotztTDurgrrjiCpsp4iZD7MhEx44dKyeddJJ8//vft27Ho446Sr71rW/ZfUeOHGktiNNOO826Mi+99FLbEIUM9sc//rF8+9vftscjgFhxHIswksFPnDjRnhdRrK8gYtRdIj64dylAYJ2xDsHCEqauE0ubwgKWIK7j//73vzaNu3XrZhsAEc6nn35qGwKRxggi1iFWH8fjhsZqxwJ866235M9//rP06KH9gFKVetlA5daPPXl1qScdW/vWVU3hhC7eMGC7jKW33RQiD8gWueuoDOkc+Waekhpgrf3jH/+wVgZ1RIcffricffbZ9VqMapo5c+bIv/71LytWuCzPP/98GT16tPztb3+zBQsE7YILLrBWHFbZEUccYS3AK6+8Uo4//ngrbNTjMR84cKB1VWIZIp40DqKR0COPPGKPGzZsmD0XdaQI3VlnnSVd+P6gUuMkWkfqpdjdNq1cXl4sVuwCT0fiMamK6zKe0GHl5Ruha9tU5PajYtayU1IXGkssWbLEWl64Hmm1pyQPWGs0RKG7B5Y2FpyS/GhrzATAlwUQHKaakhkao8QTOooWRUUiWQ1Erjs0Q4UuDaABA5bF4MGDVeiSEFyb9IOkQRD1nkr9pF6KXa9WMXvh1qatAa2he0FF412WGKGj3/DPRmTIiA7BBkVRagxaZl5//fXWbekarSj1j3p550e0j9kvkJcmcFQUB33zmOLBeJe08rzsIJHT1JOiKIpSa9RLsevYQqRnK/rSeQn7yjhgzcUd79Kcgy8YlJQidDE5f5CWLhVFUWqTepnrZjYUOaZbTErLYrb5fyJaZO5iGDC/S9Q3KCkxkznPpcNicsEgraNTFEWpbeqtiXF8j5i0beaPXFLd9qi2E3ociw74ggEDOyNy3x+iQqcoilIX1Fuxa5cpcma/mOQbMSo00/5ad260lXgw+AXDjp3aOyYXD1WhUxRFqSvqdeXRWf1jMqqjyNbtRrCMKO0rfMGgIqFjvEtGRzmofUwuP8hvEKMoiqLUDfU6C27WUORXozKkdbOYbN7mf+HgG8N6xcFZc/E+1YP95gudJ71bxeS6MTHJbuJvUxRFUeqGem9v9Gol8ofDjSA1EtliBC/fWGN8qJVWlXQhQNiY+M06GpogdKyLQt0f39XcFox3efu4mHRqHmxUFEVR6gx1rhkOai9yx1EZ0j9XJM8IVYGZcGsibrSwRNx2i1+0MQumnFm3y+zDp674+Orx3WN2vEsVOkVRlORAxS5gUBuR+8ZnyNn9Y9LAWG15+b547TAiVm5ELtpik2XW7yjxrcG8ApGWxjq8YmSG3GgsxbY6DrCiKErSoGIXokVjkStHxeSh4zPkjL4xyWkcs1beNiN8/uTZLxUwz9vur2NUlG7GgvvhkJg8fHxMvjugRkYgUxRFUapBvfzqQVXZUCSyNM+TD1eJbDEWHJBaMfyWsZh0bSFyWGeR3rkx21FdURRFSQz6iR9FURQl7dFP/CiKoijKPqJipyiKoqQ9KnaKoihK2qNipyiKoqQ9KnaKoihK2qNipyiKoqQ9KnaKoihK2qNipyiKoqQ9KnaKoihK2qNipyiKoqQ9KnaKoihK2qNipyiKoqQ9KnaKoihK2qNip9R7rr/3b3aE9eik7MnJF10pDzz5fLCkKKmFip2iGEYPHWQ/J+KmU48+3GbuVQFhfOa1d4KlxHDJ9bdZEVYUJTGo2ClKHAb36Smr128MlhRFSXVU7BQlDnO/WmKtO5g4dYa13uYuXGKXmbPMemf93fLw4/KHBx79hvuT7Vh9bl8sNncs8NtNbAMsummz58kr707ebd25OLjJxSUKYeBqdPuFrVPCci5btz4abpjwNhc3cOvjpYfDHccUtnrd+ZnCYcaLm6IkEhU7RTEgLi4TZpo1b4Hc9IuLg60V89rf77Lzay+5UG64/MfSuX3b3Zk7IoB1eM7J4+0yv48+ZIR1kx4zZqTN7H9y9ml2+ck7b7RxQDA4L25VxJbfhHPlLffbc7Av8/OvutGGGY9Hnn1Z7rr253bfLh3a7SEqCCjribcL1+0bdd2Gz0m8q2rpEkb4uigIcC5E2J2fCRA4RzhuipJoVOwUxRCtsztx7BgrevsKx2EVwjwzJ9wwg/r0DH6JPHzTNXL5+Wfa3+s3b7HzTVvy7DzM+9NnWRF1ounmFdUTIlqIKZx90jFWRB3h+Lhw3b7nnDTeChqC68IOn5N99wbHEsa4g4fb5cF9e9r0ZP76pKlWBB0IKALniKaVoiQSFTtFiYMToYoEpSLI5F0G/u7HM22GXhFhd+OzEyYGa+ODgLh990eEsayirN+0xVp+DgTJsXFrXpXErSLCYYXB6nTXgMWnKLWFip2iJBAyeefKxKIKW3JRyPidmxArrzIIM2x5MjmrqyrEE5/2bXJl1boNwdKegtg2p1WV3ZbxiCeu4Nyb4UlRagMVO0WJg+tPhqC0b51rf+OWBNx/YaIWEK5MrBbcchVZOFGi/dfatc4JfvnWIsLjrEzXQCTcICQMlqUTGyxG19AmigvXhRN2azohdfHi3E78KksPjiWM8DriyvGkCwLvoL5OG6MotYWKnaIYog1UyJRpXAEIFhYJAsa2KMMH9bPbnBi5+qoh/XrZeUVEw0QcXX0fXR8QLQSB89OIxO3rGo64urYoiBsNWFy4FTW0ceESnrvmcOMQrt+5HXHJujq1vaUHYbjjmNgX8cQ1TNzceq5PG6MotUXMMwS/EwYPsronlPoM7wBiUVXLLlHQ8hKrsCotSRUlmUm0jqhlpygJBrfgvrgwFUWpeVTsFCWBYFnhFrzigrOCNYqiJAPqxlQURVGSDnVjKoqiKMo+omKnKIqipD0qdoqiKErao2KnKIqipD0qdoqiKErao2KnKIqipD011vVAURRFUapDIrse1IjYKYqiKEoyoW5MRVEUJe1RsVMURVHSHhU7RVEUJe1RsVMURVHSHhU7RVEUJe1RsVMURVHSHu1npyiKoiQlSd/PTr9npyiKolQH/Z6doiiKouwjKnaKoihK2qNipyiKoqQ9KnaKoihK2qNipyiKoqQ9KnaKoihK2qNipyiKoqQ9KnaKoihK2qNipyiKoqQ9KnaKoihK2qNipyiKoqQ9KnaKoihK2qNipyiKoqQ9KnaKoihK2qNipyiKoqQ9Knb1kEuuv81+Kyre9MCTzwd7fc0zr71jtzGvaa6/92/BLx/iw7knTp0RrKkehFPRdSaaky+60k71mej9rG241zzve6M2n/Ewazdsss+IO697PuNN5/7i+rjxc+9zVSCMx55/NViqX6jY1UNWrdsQ/Pomjzz78jdeqI1b8+x8UJ+edl5T8NJv2Lw1WPKZs2CxnR8zZqSdV5dNW/xrGdCru53XJKvXb5Thg/oFS/WLuQuX2Ay4fZvcYE3tQxxgSL9edl4Zc7/y963pZzzKEy+9IV06tJNzTh4frPEZPXSQ/OTs0/aY8guL5JaHH5fb//5ksNe+c9E535L7H392d9rUJ1Ts6hk85GTCvEx8BTg83XXtz+0+7348084dCE7n9m1lcN+azQiIV7vWOcGSz8M3XZPQrxW7TC1R4lkRzhKty8y+Llm/eYudt81pZed1wbzgXlelYHPTLy62z1lNP+NheBf//cpbcvZJxwRrvgaBvvz8M/eYXvv7XfY95Bgswv2B5553/89PPBesqT+o2NUzXAYQr7TLi8DLFLX8ps2eZ0ufNUlticOseQvsNdY0tWlBJiNfLl5m521y607sXMGmfevkLHA8M+Ed+yzuS8HrxLFj7PyLIH33h6MPGWHf6Y8/mxusqR+o2NUznEuyskw4LGwVuYJcHUd4iucaYX28ehvWu7oUtl95y/32N25UtoGrv4i6Vdmf9W7al3ox51okruEwwnV4bltl9ZfhbdH4QDSjddfCPJx2Dlc36abKrolt0f2YR+um3DnDUzxYzzVE0yTefYPwPkzR+0NcuI/AfXXxctfNedz1hq8zmo7x6trihVHRvrjEnUcinGbRfSu631W9J+F9mKLhxAPL7JV3J8vYgw8K1lSN9Zt8izmegCNeXJuLx69uuc9eWxTnMn3t/Sl2Xl9QsatnuDqweC8LLwpiEHarOEsw7I4iU6LuIMr5V92420ID9ztqrbn1TkCj9XTO8opnHZDhkEmEIc683HvDnRfrjriGIXN2250ry2UsYR5/8XXrBsKtBPHiw7pwRgvuWpi7tDv16MPtnP2dODjiXRPxYx3bHPzmeObhAgn3yBUgwnB8OAN0v7mGaJqwzqUJOKGJwvWEM/hw/MC5pl0B4P3ps3Zfr7NUCDeajlgfXFuYeGEA+0ZFjHUQTTPWh+Mb7xmv6J6E4+PuRxSOq6ig4Pjgk8/sfMTg/nZeFUh/0ojnJp679de3/8XOqd/jGX136ky55g5/XRS2T5r+abBUP1Cxq2e4DICMjRc1PLHt2ksu3MOt4jIXV3HPC84LF63zc/V9LlMH9ztqRUZdfNTLER7iQFjUTUC0cQoZFBkOL3P43CxDOGOOh4tPNAx3vIsXEBdEMYw7vysMkKGxHE0LIC3DFrK7FjLCJ++80e5HPZELw127mwgTwpmyEy/ukduP3xwPLj1dpgjuXG5fwH3mcBk9hNPE7evSBFF0Ih0+v7vvYWFgPZAp85vrBJee7OuOp9DgRCqajqQJ18b1OFwYr0+auns/rhFIcyfe7lmI3h8X33BBJvqMV3RfuR7Wu7DvfuxpOw+nMVO8ZyeKO+fACjwspFH0/ST9+/fstjs9o/zg2yfbd4k0ZX70mBE2vvHclRSMthcU1itXpopdPSKeSyOKewkdUQsFi5AXmpcpTFgoHC5DidZJuHOE15NRRVsuUnfoMn0Yd/Bwe25nVTniWWDxcPuRWUfDgHBLPOJCRhGGDIgMj3iTlggKaRNNiwtPP9HOw5aWqwcls3VpGQ7DCbzDhelE0okeghRuucdvl0bOWsf6BDLhsAXAvtGM2N0Lwg2nibOm3dwJJGkXPj9p4QoLTgTcfHCkZaNLTydOwL7ce64hmo63Xf0zOw8/ky6McHpxjS4OrmGMex65X9FwIRy38DNe2X11jVjcc0v8WA6nMUSfm3g4b0bHdm3sPArpwTWFJ8Rr/pLltvtAvAYqPzrzlOCXT8+une28sLjEzsNkNm1q5/G2pSsqdvUIV4oPl8zDEy8UL3q4JB21UCBa4nSlTghbcWSqYbFyRNfHyxzJdMg0wq0ziX+8czsrJiqqUTgvmVg4swYnguFMy7leXQHBuaXOOck/1qWlE7Z4OLeYuxauORzHqoThcKIXT6QhnFm7zDae9R7NiJ3wRcN1VrAT0IrSLh7u2HDhwd3jqAvO7RuvRWIUFwbP6d5wAunul8OJYNg1Hn7G9+We0KIxmr5MUJUuJ1hpFUFBiXsSnu6+9v/k5xeebQXvwX//L9hz/+jWuYOdL1+9zs7rAyp29QiXAVTUQg7LCdx+LnMJWyjReh0gEyQTA5c5ukw3fCwQZlTEXAYUzhxdpuMEkOOcoIbhvJyfqTJcfOJlQvFE2QkVlgLHIqhksi6jrqzvoUs/t81dC63gwlQWhkt7l05RKzdMOLN2lk1lhAsvpIm7d2EQVyegUFHagRNid+8pPISPBSdq40b7z5ijIusfXLq5gsfuMILnNEw0Dk6cw3EAd2/c+aLPeFX7lFL4Id2jOCGuqVbFznpzhRSl6qjY1SPcC1KRBeQySveiOhEK1wVB1DLEpeRcPy5zcRlVtJ/VsxMm2vkeVpzZN5oxRTOd96fNsvNo/QiZZ2UZscNdW9S1VpEouwIBaeD6JEWtH4iKixNGcNeztww0nkC5dAqLQ7zBAJx7Mxr/iqx3Jueecxl9vIyZjDyaptGGREAY7IsQu+vlOYseW5moAekWxbljnbi5MKLEi0NVCzbRZ7wiePax2lx6c48JJ5q2Lo57Cw+w0OoKZ9E5C68+oGJXjyADqMg6IMNwDSCiFp4rLTtc5u1wLdTCFkO8DJ6GCK40HF4fL3N0JfWwAEJYGMggXZz3VpJ2VkHUqnWiHM2cXKZMB3vijHiEcSLuRAlIQ2f5htM5aiU5XBiuoYPDpRPHuHiQtty/cIMVfruGIS7+7l45oXCQVs7N5oTFpUn02p0IhgsGxIU4hV3c4WfGWa2ETTyjhYqoyDjcfYt2cnYtTDkmLKIQbmATfgacK9TFP/pMuLiFCwbRZ9zdk3B8uGbnVQgXeKKFD+6HK+hE35kovQ7w69P2tXO4G+prb4W7vVFU4tfV7S2e6YSKXT3BZQBkWC7TC08uwwi76qKNU5xARVuKkYFAdPQTCNcbuQw8mvFzPJkE+7jMlH3DmaPLPImnCy/sUo1akFGceEYti4oEHVwGzzxaV+WWw+np0hDCacE+8TInwiBsrt+FwcT+EG6E4TLycNo7oQMXf9IVt2Q0TJdW4QYyFVlbTgTDBRJXh0Wm78IMPzMuPVxhxO2HwMQTGYcTj3A6MrE/aRNuJMI6rs09K0zuuoiDu46KRDyetwEBDT+P8e6rEzrXkhN4NqNpHL4f4ec7Ht06+RZVRZ3DeV4Rz/BEvzmG+spunvWNush9paICWDqjYldPcBkAtMjKDH75uGVchOGSazST5sXghQ8fzwuD+wbCbi7CcWLF/vx2+x06fIidO8468ejgl5/BfrHIj2s4cyQTcvUh7vxkfC4+UWszSkV1XmR2fXscEPeld5bqry86386juOtx8SF8Fx8nzmT0LFdkeSJo4esHll3YDjJyl9m687FM+kfjT6tBl1bA/u4+hYWtImtr8fLV38gISX/XitKdH6LPDOETH3BhbM7bZpcrKpAQr3A8CJ/4h8U+bG3ed90v7W8Hy+E4bMsvsPOoiLuCzZB+ve0cEKzo80h8iLuD+ETTDhF2+4TvB88ky9z3yjhy1DA7nzl3vp1H4d2j4IeAumnVOl/sH7zx6rjPa5TGjRoFv/YEa5Lw97VDe8rj1QBDT70g+KUkBWVlwY+ArVuDHwHptpyfH/wI2M/r5zl+dsLEKu+/m1paNqVz7/a/P+ltWrrMLu8mQeHvJgmWn3z5DXs/TEadkPD2oKaXo89jwHX3POyd9JNfBUuGmn5Pg3j859W3bVry/CQzidYRtezqA88/708webLIQaZEl87Lf/yj/9vx+9+LzA9K0PfeKzJmzF6XV73/oW3mfewnH1Vp/5pcLjhwqMx9+TWZSZ1VaPuq9Rvk6I8/lCZHHlmt8FNheWyLTHs/Ojz1RELCq9XlN97wf0fAFYll6er59uc53aflIB7UQ2MhVsU6TCdiKF7wO2Hgv466YZQ6ZOdOkQsuEOnXT2TaNJGnnxa57LL0XX7uOZHmzYOLN6xbJ3LeeSKHHCJCxfw111S4/OIrb8kDnXvKXZ9PlZbjx0v3NjmV7l8by/PPPFdKz/yOlI0cJQu+WCD/6D3Ixo/lvA0bZfxLRugTeL5kXP7y4DGSceih0q9ju4SEV6vL99wTPIjfhM/1LF6x2q+b3IfndL+WTTxcoyLcz8kudgnXEWvfJRh1YyYhuEh+97uvXSrpvhxl7VrPu+WWYMFQwTLPLtOtv7+jSvvvphaW7xtw0O74HXPcmd6bJ58RbDQkIPxkXcbdlvLXWwFr1m+0rkxci5ZEnzeyfPF1t3p/fuK5YCm5SbSOqGWnKIqiJB2J1hGts1MURVHSHhU7RVEUJe1RsVMURVHSHhU7RVEUJe1RsVMURVHSHhU7RVEUJe1RsVMURVHSHhU7RVEUJe1RsVMURVHSHhU7RVEUJe1RsVMURVHSHhU7RVEUJe1RsVMURVHSHhU7RVEUJe1RsVMURVHSHhU7RVEUJe1RsVMURVHSHhU7RakB1qxZI7t27ZJt27ZJaWmpnUpKSoKtFbN161aZPn16sCSyffv24JfYsAhzXygqKpInnnhCdu7cGawRyc/Pl6lTpwZLIu+9956Ul5cHS3vn3Xff3ed4KEpdo2KnKDXAv/71L1m3bp3cfPPN8txzz8mMGTNk8uTJUlBQIJ988okVi7KyMvs7Ly/PHrNx40aZPXu2zJs3zy4jQH//+9/tb5g/f74VQ8IoLCyUzZs322NmzpxpzwULFy6URYsW2bDZxjlfeOEF8TzPhrt48WIrvAjqV199ZY+ZNm2a3Q6EQ1w5Fr744gt7DEJ77733ytKlS+2xn376qRXiZcuW2fBWrVolxcXFsmTJEns9hEkciTNhr1+/fvc5FKUuaHCjIfidMB56+gW59LwzgiVFqX8sX77cCsbq1aulXbt2smDBAhk4cKC1oqZMmWKFCtH4/PPPrRXYrFkzeeaZZ6xoIHKjR4+2gsi+hx12mA3z7bfftgKC4GzYsEHef/99efLJJ6VJkyby9NNPS1ZWlrXYOEfLli3lz3/+szRo0EDmzp0rRx11lD3fo48+KkOGDJHXXntNduzYYa084sn5MjIy5I477rBi9dZbb0m/fv1s+MSpadOm9vxDhw614REPRBYxi8Vi8tOf/tTuj7gieggkwjdp0iTp3LmztS6PPPJIu6+iVIVE64hadkragOUQdsdFl2uTQw45xGbwY8aMsa5EhGXlypXSvXt3ufLKK61YIGZXXXWVdO3a1QpT37595Uc/+pFdzzJihlg5WB+2jnBNtm/fXn74wx9aEcLyOvDAA+WYY46xgsW6H/zgB9K6dWv58ssvZcWKFVYEN23aJIceeqgVQIQOkXPw+5xzzrHiiwj37t3bWoRt27aVUaNGSYcOHazwfe9737P79+rVy1qOI0aMkIkTJ9p9MjMz7Tk4fvDgwVZgDzroIBU6pU5RsVOSjt/97nfy7LPP2t/nn3++daVFQTzCQoYVcdZZZ8nxxx9vXWhYFieffLK1irBEahusGVx8RxxxhBWQhg0bSp8+fex1YTVlZ2dLixYt5JVXXpHnn39eDj/8cJkwYYL873//s2JxxRVXyPjx461gPP7449YSw13YuHFj+fjjj63FhEXXqFEjez5E8Oyzz5aPPvrITs2bN7dp9NRTT1l3I+5SLC6Od/FBfPgdFlTO8eqrr1pXKYKFSzQ3N9cKK3WOWHmcF0h/0hcL77zzzpM33njDWohcQ6tWrew+3A/SHxFUlLokZl6ShDvSh512oXz28uPBkqLsGxdffLG1GMjwx40bJw899JAMHz482OpbNGeeeab88pe/lLFjx9p1HIMVMmzYMJk1a9ZuqwSL4ze/+Y0Vh9qE1wpXIxYR8aUODTcj1hUidMABB9h9WEbcEEdcnwhKx44drRjC2rVrdzdMQUQuuugiK1qE2alTJ7uefVmHlYYbE6E/5ZRTpEePHjZ8xArrjvWIHZYkx/ObeBEG4gjXX3+9HHvssdbK5BhcpggiFikCSJwRWK6FZeZYkcRhy5Yt1mVLnKlb7NKlixVaXKxYs4SjKFUl4TqC2CWaoadeEPxSlH3HiJxnMlrPCJVnMmHPCJVnrAbPiIfdfuutt9r1xmry1q1bZ9f9+Mc/9oz1Y3+bzNsz4uiZjN4z1pVnrApvzpw5drsRGrtPqjF//nzv0Ucf9YzlFaz5JkbsvIcfftim1f4yZcoUzwhUsFR9Jk+e7BlLO1hSlKqTaB3RopaSdGDd3HDDDbZVIPVOLFNvhMsPfv3rX9v1tK2izgqwUrBqcAnec8891gX4t7/9zbZuxELBksGdhlsuFaHxB/V5XGdFtGnTxlq4uA73F+oYca8mCtycBx98cLCkKHWHip2SdFC3hdsMcENSp+Tqv4C6JloN0ujBgasSNyCNQmiggYuTlpD333+/bSBB60ea1btwFUWpX2idnZL0UAeEZYd1Q33T/jBnzhwreCNHjtxdP6UoSvKSaB1Ry05JemiwgVtyf4UO6FtGYxcVOkWpn6jYKYqiKGmPip2iKIqS9qjYKUp1YUzkFTvFe7FIyv+YJ+W3mukPW6X8xq3imd+7/mjmj+aLLNkpUlw3I7ooSn1HG6goKQ+dt3NycnaPJlJr5JdL+bvFIu+XiszdIbLDvEoIX4OYeDFajZrfvF07zT9+NzSzPo3FO6SxZJyWKdLm65FLFEXZE22goigRGJPRfTmg1phcIt7lW0Tu2C4yy4hdQ6NmrYzYtmVqKLFco2w5ZmLeOpg3yxBvkbHuHiuQ8os3i/dsYRCYoig1jYqdkvLUgHOiYgo98f6SL+U35om33AgXItahiRG6xiJZxlLLNFNjMzUJJmPlSSMzMW9qlluZKcdMeeXiPWjC+eVmkfX6bThFqWlU7BSlqhihs/VwTxb4llx7I3AtjNjx2/xZnO6yzNTIvGKIH3O3T2Pzu6U5LtPMp++Q8muNhaiCpyg1ioqdolSFgnIpv2GryJRSkXaNjEVnhA5rDXGrimHJvogegsf+zJuZ1y/XrPtqp5T/PxP2OhU8RakpVOwUZW8gdL/PE/nYCF0bY5E1NwK1PyBwVvD4YUD0sPJamTC/KhPvlm0iZf4mRVESi4qdouwF6tZokGLr55qbqSqWXEVYwTOv3R6CZ363aCDerFLxXiry1yuKklBU7BSlErwXCsWbUCySbSwyLLrqCJ0DnaOez0GYTc2riOj9x5xvrbozFSXRqNgpSkUYkfPu3+6LUE6jr62xREAdXkYoPH7SNWHtTpE3jbgqipJQVOwUJR6vFUv57dv8VpS5RujCwpQoELwwnKuJWTexRKQkESakoigOFTtFieC9UiTldxihw6JD6KKilCiiAsrb2NRYdww99kmpv05RlISgYqcoIbyXi8S7K3BdOqGrKSMLrQsLHuehA/ou82O9jqGpKIlExU5RArxJJeLda4QOwaGOriaFzhHSOgviR+OV97TeTlESiYqdosCqnSIP5PviRr83BKemha5CPPG0zk5REoqKnaJs3CXl128Vb70RPISOfnB1qTVYe1GLT1GUaqFip9Rv1huhY6guvkbQupE/kHNtCl28c6lRpygJR8VOqb84oVtohI5P89SF0JXHP2FM26coSkJRsVPqJ+vLfaH7qswf77JZLQsdVCB09suvXU2cFEVJGCp2Sv1jixG6327xha4uLDoHXQzCUE+305h0ZWb96Mb+OkVREoKKXSqxc6fIqlUic+aITJsWrFT2CaMldgiwL43QMbBzXQkdVl3UsjOL3g7zr3lMYt2NCCuKkjBU7FKJoiKRiRNFHnxQJCsrWKnsC96/CsSbWCzS0ohclhG7uhA6vqxeFqdSzqyPlZRLrL+x6gao2ClKIlGxSyWaNBEZNUrkO98R2bZNZMUK39JTqoT3TyN0j+b7Xy/gS+F11bx/JyZc8NtBXErNyl3m5/HN6i5uipKmqNilEojdwIEi48eLHHaYSG6uFK5bJ1M+/jjYoX6yadMm2bp1a7AUH+8xI3SPGKFrYYSulbGaEvkFg30Biy5aVwcIYJHZ1t/E7eimwUpFURKFil0q07y5ZI0cKa+98or84Ac/CFbWLwoKCuQVc/0zZswI1nwT71EjdI+FhS7YUNtUJHSsKsat6Uns8myRZmrWKUqiUbFLA1q1aiXvv/++lJfHqQdKc5obwb/22mvlhBNOCNbsCSLn/SOJhQ5KdlmrLvadLIkN01aYilITqNilAUcffbQcccQRkpFRP28n15+bmxsshXizSLx/FYpkmXRhGLBkFDosunwjdGcbocOqUxSlRlCxSwOys7PlmGOOCZYUy5dlUv5XY9EZg05aGouuJj6+WhUqFTpj0RXskoxzELoW2ihFUWoQFbtkZscOv7sBjS8KjYVSCfXVqovLVzul/LotInlGZOhLxyd7KtCbGgWRq0joSgOL7tCmIpcYoasrMU4SVq1aJevWrZOSkhLZtWuXnStKItEcMpmhleXNN4vccIOxVL70xS8O+fn5RgsrF8N6w0Jj0f0/I3SbjJi0MRZdE2Pa1YXQ0WEcqy4Kmsb67bsk1qOhxH6Z7X8oth7z6aefyksvvSQzZ86UZ555RlavXm2XFSWRqNglM3Qc79RJpEcPkTVrRKZONRn31zk3JeCFCxfaFokHDR8uX5nMwva/q6d4CwKh27xLpG1jI3Tm8Q4LHb9rQ/gQuh1xhA5Yb4ROOjeQ2B9zRDrgZ63fTJgwQS644AJb77xs2TKZO3euLF68WFbQj1RREoSKXTIzYoTI5ZeL/OpXIoccItKokRROn243bdy40Ta3pwXmkUceKaNHj5ZeiOIXX4jMn+8PJ1aPXEEInVy7VWSLEZo2cYQO46m5+dfcrK9JQ6oyoQssOunUUDJuzxU5oGGwoX7D8/vxxx/LkiVLzCM/QkaNGmXKeVly9913B3soSvVRsUsV2rUTOfRQaThsmBU6Sr5DhgyR/v37283k3xm0SBwzBr+QyIIFIg3qh9Xgrd0p8rut4mHR8QWDuEJn1jUzU6ZZoB9beHuiqEjoOD+DO2/bJbHORuhuNRadCp2FAQF6mELacccdJ0OHDpVTTjlF2rZtK8cee6z06dNHvJAnQ1Gqg4pditGkSRNrzZFBZGZmBmsjnHii7XAuu0zmn+4wxNZ9+eKtMtdK94JoHR2/M81j3iQQOLsN9UkwVXRdyi2tRLqp0DneffddWb9+vf0dC41q06FDBzn77LODJUWpPip2KUg4U4hLdrbI2LEiTdN82Kmdnnj3bhfvwxJf6OIN7MwTTj9t1pNsDMtVYsQnkXpX0cDOQGvMQrMtJyYZv8+RWLdGwQZl5cqVsm3bNuu6jEK/SSy8vT7rilJFVOzSEZv5lgULacpOY0zduU28l4qMkBiRy67AWkLkivlnQHgKjPAk0uAlaFyUwSn2gPtQuEtiZha7uIVIXxW6MAzzdiJeCEWpBVTs0hBsjG1pXCL2jLh4d+aZ3NIIXes4QofwuAlKzI9tJlWYjEgmzKojfCw6XJhRWIVFx/fpLmkhsZMqcDnXU2bNmmUtty5dugRrFKVmiXk1UAM87LQL5bOXHw+WlESzZs0a697p2LFjsGZP6JKwZu1a6VqFjIQ+evRvqkl3EWHzmIXP0bBhQ2nWrJk0bdrUjgDD+J60wHP70QDn7bfflu9+97t2+252elJ+xzaR14p912U8oaPfGkZUqZlcp25mib5E6uIqFDpjPvJtusuM0J3X3F+f7jzxhMiiRSYDGOZ/eur73/dd6hF27twpDz30kNn8fWnRwli8ihKHROuIWnYphFdQIM+YTOKpp5+2/ZFoyRalrKxMZs+eLbM/+0y+nDdPyvbS/YCRV8hwGFC5piZEzM3dROMahI6pUaNG0qBBAyvSRUVFsn37dtvHig7G9LnajdEW7558kVeN0OU08L9JFwaRaWoULds81oyHmW1+O4GrTaErQOg8yfhpdv0Ruq++MoULU7r47W/93wzMvXChmJKUlJnpczNhzX3wwQfy73//297jvDxjnStKLaGWXTJDa0r3JYPJk0XOPVf+c+ihcrwRu8Zm21cmU6GUPMyUpLGUqPBfvny59OzZUzp16iSbV6+W2JIlktu1qxGHHJpy+lMNWnGJotRknDt27Nij5O+9UiTlt+ZJjC8Y5DTeU8Cc0NHFwMG6rSYNE/2E782iKzXWKUJ3zp6uS765xzVVx4p2x7o5hRUmluOFSyGC9czdvsA693t/+Pzzz6V3795ftwhmSDtGPRkwwLfuTj7ZH+rOnIcnmGLZLvN765Yt8t///ld+/OMfy8svvywXXXSRjZuiREm0jqjYJTNTpohMnGgy0EKR0aP9juK/+51Is2Z2M7eO8QTnzJljxY7m2ggd1tJujBiKsfLEZDKWwYP9UVlSDG9qiXi/N5bATpOh5zbac7xL5lGhAxqj0DUhkVBHV9F4lwhdcbnELmohsQu+adFNNPdy7dq1+525O0FzQsXUuHFj2x2FiWcgDNt5Fpy7GGHCiuYY9uV3cXGxtbJwZzNRyMA7wIQw84y5LII53V44/1//+lf7vD344INfP29YahTQjOVuVvrr4oDIURgjLdq0aSNj6BuqKBFU7OoTiNsHH5gMtNjvOzdqVLBhT9zYmGQ+FfLaa2JyOZEhQ+jEFKxMDbyPS8W70VgODA3K6ChRoaNrAa5LZ+ox46vfhWZjsCoh0G1hJ3ZKBM5hRM7L2ykZJ2RK7Let/K8tpACIF+5jN7HsBM5lDcwROPcbEZ06dar07dvXFq72FQT10UcekZO/9S0pffVV6fvDH/oeB0UJoWJX3+D2YJ2R2URK7g7cY5SSBw4cGKyJA4JpSvIVhZG0GKEr/50ROnpSxBM6NK6l+dcgUDVmWHP5cUSpOmDNVdSXDrdm3i6JHWji96ccibXaf/dgfeGryZOlsymgZTLqj3l25bTTgi2K4pNoHdG3MtlB5PYiUq1Mqbh/69bBUgXg+kwxocN1WY5FR3eBioQOi66uhI7zOaEb0tgO7KxCVzX6HHKIZDK4ebdufsvNjRuDLYpSM+ibmQbEli6VDMbDTLyRXndYiy7Pt+haR4QOnNCxHupC6ErLxdvqW3SxPxkLJUdfpypDwWvcOJF33hE555xgpaLUHPp2pgM0+V62zG/QQik51Vm6U7w7tkmMDtk5kcYoEBY61teR0GHRZQxr4n+qJ4eVyj7BVzqOP95vgIXoMSlKDaFilw5QH/f++yJPPimyeHGwMkUxglV+z3bxNuwSaWWELt4XDOh6UFdCBwjddjMNMRbnzS3VoqsOuN//8x9/LFc+TbVhQ7BBURKLvqXpQOfOIldc4Y9Y0adPsDIFKTBCR/eCmSUiuQ1FsoyoRYWOjuJGA3cLHeNS0sUgkdCHrqJWl7TIZBiwthmS8etsidG5Xake9PdbudLcyzJtlanUGCp26UD37iKHHeZ/4DUF+9BZEDrq6KaW+o1RmhuxCwsdv/lUTyMz8RvhQZQQuvB+1YV6Tyy6eGFi7dGlwUQh9qtskR6orlJtKKThhqcOr6WxlBWlBlCxU+oeYylZoZuG0BmRax6x6PjNR1fpOO7WY3jlm4Vd/mJCIGzqCd05HE5Y883JjBjGrm0pscPS/PNJtUnbtn4jlYMOClYoSuJRsVPqHO+fBeJNKfG/YBDXojNqw1iXDtZRZ4YwJQqCshZdJEyEDouOOkHzmw7jsfH+CDaKoqQOKnYpBAPnPv3008FSmjC5VLz/FUqspbHmoh9f5TdCh/vSrWeO8FBXhxAlAsLcYay2eONd7hY6Y9H9xlh0R6tFpyipiIpdklNSUiJLly61o6QwDubdd98tmzdvtuMW8oUAhnhCBPkkDsMwMS1atGj3iPJ8HYEBomH9+vV2mWOSgsJy8R7LNyJjVItP9YTFC91B5JgcrNtu4o5Fl2ihYx7FaJz9gkGGJxm/zTFCpxadoqQqOlxYknPxxRfLhg0b7HiEjBB/++23S8uWLeWqq66SBQsWyIgRI+y3wRCx8ePHW3GcN2+eFcTTTz9dPvnkEzvo7hFHHCG///3v7cC7p5xyilxyySXBGeoO7+Ui8W7f5tfTha065s2MmjGwc/jpdK7LRAkd4LrEeovCqqJdEqNbw/9lS+wM/fiqotQmOlxYPYMvGtxyyy1y5JFHWquNAXkRNKwzyikIGx9xZSR5BoLmsz+PPfaYHck+JyfHfg2a0e0Rv4KCAunTp48dODoZ8D4p9Yf6ahJpkMJT2SwkdIgbrSBrS+igxFh0tPQ8sZkKnaKkASp2SU63bt3krrvusl/tRrQQOAZ8vu+++2Ty5MnSr18/WbJkibX02I7ldtNNN9nPuPDpFb4APn36dNm2bZv9tAzre/XqFYReh2wyQjJzh18n1zCiYG6ROVOxESSmyG7Vgn50FQqd2WasyNhRTSVmrDqlZqDwxlfyo86lL774wnoqFCWRqBszyeEjmX/84x+tO/LDDz+0GUT79u2tRce8c+fOti4OwRs8eLDwnTK+VI5Iso3j+AAqAjl//nzZsmWL3S87u24zce+lIvHuwoXZeE8rDvjNCCl0NUCQELpEspdP9cg2Y9Ud3VQy+FQPcVD2mRdffNF6F0aOHCkHHHCAvPTSS7bgdfzxx8vrr79uPRQ8qxTSHn74YettwPswaNAg+cMf/iBdunSx8wkTJljPxVFHHRWErNQXEq0jKnZJzqpVq+SOO+6wdW5nnnlmsDb1KX8kX4TGKR2bGEGJiJ3DrUu0RYfYxQOLDqE7JhC6Jip0+8tvfvMbW7ByH5il3pgJAfzggw9sYQtX/OrVq+Xee++Vt956y34jjwIa32aksEYBzgnlU089Zb+fp9QftM6unkEJF5dlOgkdxDKMkDAaSnTsyzBoTa0K3U7bh46Wlyp0+w8fgKXlMG5z6pCx2Kg/xs2OO/3LL7+0Vh5fKOfr6bQ0njRpkp0jjLm5uXZf6pjnzp0rhx56qPVOKEp1ULFT6ge7KhE6BnbO3yWxsc1sXzrR4RmrBdac++I5DaROPfVUW2B75plnrBuTemUaXh122GHW2rv55pute75JkybSrl07OfbYY2XatGly2WWX2S40ZWVlVgAVpTqoG1OpE7zHCsT7V4FI51pQFjqLVzTeJQJI3732DSR2d67EOuvAzomAbAXBQ/ion+M3cya24cKkzo7fLgtiHt6f365PKFaiUr9QN6aSPpDHGQ2qUchI4wkdXko7OorJTFvEJOO6lip0CQTBQqCYgxMxYI7Qud9sY4ruD6xToVMSgYqdUjcgNNShIUQ1VT2GkO6oQOiw6LbtEi/LvAQ35/jfplMUJW1RsVPqhFjf4MOs8cajTAQIXZmx2ioROmvR8ZXxoSp0ipLuqNgpdQOWVAvz+NGvLdHYOrrKhG6n/Qhsxp9yJTZUW6MoSn1AxU6pG3IzJDbSCF6REaWKWknuDxXV0YFrjNI8I3Bd6sdXFaW+oGKn1B3HNTNPoDG3ELxE1dtVJHSs4zxmc8YvskUOVNelotQnVOyUOiM2uonIQUZ0qD+jr1t1BQ+hM39xwV1a5EnsnEwR/fiqotQ7VOyUusOIW8alLSSWYx5D6tEQqv0VPISuooGdEbqCXUbosiR2mQ7srCj1ERU7pW7p10jkTGNtIUhbd1QsWBVBY5RSYxlWdByuS0ZHQeguN0KXKHepoigphYqdUufELmguse83N9YXglfmuzTNX9y6N2A94kYfunj96BxO6M4LhE6fdkWpt+jrryQFsYtaSOyHLXzByzOCV2SmHUascE+GJ8QNS47fFfXRo7M6btHtRui+Z8L9Wd1bdBOnzrDDHz3z2jvBGkVRahMVOyVpiP3YWHi/NMKUbZRpixG0AjPxNQK6DGDJMVXWCZ39sOa2mikrJrFLsyX20+QYLf/9abNk9NBB8u7HM4M11ePki66UB558PlhSFGVvqNgpSUXszCzJuK+N/dSO7TO31VhojF9JnR5iFm9iG/3ntph9zXKMD6/e31piFzYPQq17Xnl3slxxwVkybfY8mbtwSbBWUZTaQsVOST4OaCCx61tK7CEjehcYwWpvHtOdRszyjJhtjkyIIdtaG0uORigPGJG7Pkekuz/QcDKA6xKrbnDfnnLq0YfL+9NnBVt8nIvTTWExxIJz650ld8n1t8nq9RvlkWdf3r0uGkYYzh8Ogzn7A+dy2+Ktv/7ev+3exnkVJWXxaoChp14Q/FKUBLBtl+etLvPKny7wyh/c7pU/FEz8fqrA81aVeV6e2SdJufi6W73/vPq2/f3OlE+8k37yK/sb5ixYbN8X1gP7ue0cx+RgPxcO+/z5iefs72gY193z8O4w4m0LL/PbhcM6ljnGHcf+EA1HUWoanrdEopadkvxkm8e0U0OJnUs/uRYSuySY+P3dLJHOxoprmZyPMhYSrstzTh5vl48ZM9LOXUMVrLzO7dvuXs9+r/39rt3HnX3SMXY9YBXGq/P7RhgnjbeWH1ZavG0OF4fLz/e/gs8+7Bu2PMeNHm7nWKWwaUuenStKqqFipyg1iBMO5wpkQojCotWlQ7vg1ze58pb7dx9HvV881m/askcYTpgclW2DaNwUJR1RsVOUGuT1SVPlrmt/br+47CaWww1VVq3bYOfxiB778E3XBFu+pn2b3D3CcOE6KtsG4fCZnKWnKOmEip2i1BC4EbGUnAvREXYXjjt4+G6XIzDHwgIatTw7YaL9DTRWocEIhK21aBhh12V02zMTvu7n51yrrpELQsi5tS+gko6o2ClKDYFQUc8WjxPHjrFWH25FrDfnrmTOMuux4rDKnIsRgbvpFxfb44f067W7NWY0DNZT7wdsu/YSP1y2RXnyzhvt/mw7/6ob5Sdnn7ZbBBUlnYjRSiX4nTB4cXCHKIqSXGC9IWqIXLz6O0VJFhKtI2rZKUoa4/rYOXBj4uJUoVPqGyp2ipLG4JLElYrgMdGi87arfxZsVZT6g7oxFUVRlKRD3ZiKoiiKso+o2CmKoihpj4qdoiiKkvao2CmKoihpj4qdoiiKkvao2CmKoihpT411PVAURVGU6pDIrgc1InaKoiiKkkyoG1NRFEVJe1TsFEVRlLRHxU5RFEVJe1TsFEVRlLRHxU5RFEVJe1TsFEVRlLRHxU5RFEVJe1TsFEVRlLRHxU5RFEVJe1TsFEVRlLRHxU5RFEVJe1TsFEVRlLRHxU5RFEVJc0T+PyoBNf3zTFFbAAAAAElFTkSuQmCC)"
   ]
  },
  {
   "cell_type": "markdown",
   "metadata": {},
   "source": [
    "We will run our single-species sampling scenarios using an AGORA model for Bt and only in the community case we will use all three of them. "
   ]
  },
  {
   "cell_type": "markdown",
   "metadata": {},
   "source": [
    "### **Technical**"
   ]
  },
  {
   "cell_type": "markdown",
   "metadata": {},
   "source": [
    "In case your Jupyter notebook does not line with the `sampling` environment, you may give it a shot after running:"
   ]
  },
  {
   "cell_type": "code",
   "execution_count": 1,
   "metadata": {},
   "outputs": [],
   "source": [
    "import os\n",
    "import sys"
   ]
  },
  {
   "cell_type": "code",
   "execution_count": null,
   "metadata": {},
   "outputs": [],
   "source": [
    "env_site_packages = os.path.join(os.getenv('CONDA_PREFIX'), 'lib/python3.10/site-packages')  # Adjust for your Python version\n",
    "if env_site_packages not in sys.path:\n",
    "    sys.path.append(env_site_packages)"
   ]
  },
  {
   "cell_type": "markdown",
   "metadata": {},
   "source": [
    "By now, you should be able to load the libraries required for this notebook:"
   ]
  },
  {
   "cell_type": "code",
   "execution_count": 2,
   "metadata": {},
   "outputs": [
    {
     "name": "stderr",
     "output_type": "stream",
     "text": [
      "2025-08-11 22:39:18.422383: I tensorflow/core/util/port.cc:110] oneDNN custom operations are on. You may see slightly different numerical results due to floating-point round-off errors from different computation orders. To turn them off, set the environment variable `TF_ENABLE_ONEDNN_OPTS=0`.\n",
      "2025-08-11 22:39:18.424568: I tensorflow/tsl/cuda/cudart_stub.cc:28] Could not find cuda drivers on your machine, GPU will not be used.\n",
      "2025-08-11 22:39:18.476932: I tensorflow/tsl/cuda/cudart_stub.cc:28] Could not find cuda drivers on your machine, GPU will not be used.\n",
      "2025-08-11 22:39:18.478060: I tensorflow/core/platform/cpu_feature_guard.cc:182] This TensorFlow binary is optimized to use available CPU instructions in performance-critical operations.\n",
      "To enable the following instructions: AVX2 AVX512F AVX512_VNNI FMA, in other operations, rebuild TensorFlow with the appropriate compiler flags.\n",
      "2025-08-11 22:39:19.399699: W tensorflow/compiler/tf2tensorrt/utils/py_utils.cc:38] TF-TRT Warning: Could not find TensorRT\n"
     ]
    }
   ],
   "source": [
    "# General\n",
    "import time\n",
    "import pickle\n",
    "import numpy as np\n",
    "import pandas as pd\n",
    "from typing import List\n",
    "from pathlib import Path\n",
    "\n",
    "\n",
    "# Sampling\n",
    "import cobra\n",
    "from cobra import Model\n",
    "from cobra.sampling import ACHRSampler, OptGPSampler\n",
    "\n",
    "import dingo\n",
    "# import dingo_walk as dingo\n",
    "\n",
    "# Plot\n",
    "import seaborn as sns\n",
    "import matplotlib.pyplot as plt\n",
    "\n",
    "# Local scripts\n",
    "from scripts.utils import dump_samples, load_samples\n",
    "from scripts.stats import (\n",
    "    check_samples_range, \n",
    "    pca_samples, plot_hists, count_ios, \n",
    "    different_fluxes_over_sign, tsne_dbscan_grid,\n",
    "    significantly_altered_reactions,\n",
    "    rxns_cluster_contribution\n",
    ")\n",
    "\n",
    "# Stats\n",
    "import arviz as az\n",
    "from numpy.typing import NDArray\n",
    "\n",
    "from sklearn.decomposition import PCA"
   ]
  },
  {
   "cell_type": "markdown",
   "metadata": {},
   "source": [
    "Now you are good to keep track of the models to be used. "
   ]
  },
  {
   "cell_type": "code",
   "execution_count": 3,
   "metadata": {},
   "outputs": [],
   "source": [
    "root_dir = Path().resolve()\n",
    "\n",
    "agora_models_path = root_dir / \"files\" / \"models\" / \"AGORA\"\n",
    "\n",
    "bt_agora_filename = \"Bacteroides_thetaiotaomicron_VPI_5482.xml\"\n",
    "bh_agora_filename = \"Blautia_hydrogenotrophica_DSM_10507.xml\"\n",
    "ri_agora_filename = \"Roseburia_intestinalis_L1_82.xml\""
   ]
  },
  {
   "cell_type": "markdown",
   "metadata": {},
   "source": [
    "And decide on what **solver** you will be using. \n",
    "\n",
    "To solve the optimization problems in our model, a solver is required; special software that can solve a wide range of problem types, such as linear programming, mixed-integer linear programming, quadratic programming, mixed-integer quadratic programming etc.\n",
    "\n",
    "These problems are rather common in metabolic modelling and most of the analyses performed in the field, are based on solving such optimization problems.\n",
    "\n",
    "Let's see an example when loading a model with `cobra`:"
   ]
  },
  {
   "cell_type": "code",
   "execution_count": 4,
   "metadata": {},
   "outputs": [
    {
     "name": "stdout",
     "output_type": "stream",
     "text": [
      "Set parameter Username\n",
      "Set parameter LicenseID to value 2634947\n",
      "Academic license - for non-commercial use only - expires 2026-03-11\n"
     ]
    },
    {
     "data": {
      "text/plain": [
       "<optlang.gurobi_interface.Model at 0x7a43f01ab3a0>"
      ]
     },
     "execution_count": 4,
     "metadata": {},
     "output_type": "execute_result"
    }
   ],
   "source": [
    "bh_model = cobra.io.read_sbml_model(agora_models_path / bh_agora_filename)\n",
    "bh_model.solver"
   ]
  },
  {
   "cell_type": "markdown",
   "metadata": {},
   "source": [
    "In case Gurobi for example was available, `cobra` would prefer it and you would seed something like: \n",
    "```\n",
    ">>> bt_model.solver\n",
    "<optlang.gurobi_interface.Model object at 0x7da11588e9c0>\n",
    "```"
   ]
  },
  {
   "cell_type": "markdown",
   "metadata": {},
   "source": [
    "To check what solvers are available on your **environment**, you may run:"
   ]
  },
  {
   "cell_type": "code",
   "execution_count": null,
   "metadata": {},
   "outputs": [],
   "source": [
    "import optlang\n",
    "print(optlang.available_solvers)"
   ]
  },
  {
   "cell_type": "markdown",
   "metadata": {},
   "source": [
    "> You can think of Optlang as the SQLAlchemy of optimization\n",
    ">\n",
    "> SQLAlchemy isn't a database, but lets you talk to different databases using a unified interface.\n",
    ">\n",
    "> Optlang isn't a solver, but lets you talk to different solvers in a unified way."
   ]
  },
  {
   "cell_type": "markdown",
   "metadata": {
    "id": "7_X5Vn0Rehs7"
   },
   "source": [
    "\n",
    "Latest versions of `cobra` use [`optlang`](https://optlang.readthedocs.io/en/latest/) to describe their linear programs, which works as an interface to a series of solvers that may be available on your computing environment, e.g. GLPK, Gurobi etc. \n",
    "\n",
    "[Gurobi](https://www.gurobi.com) requires a paid license, but can also [be obtained](https://www.gurobi.com/downloads/) for free under an [academic license](https://www.gurobi.com/downloads/end-user-license-agreement-academic/). [CPLEX](https://www.ibm.com/products/ilog-cplex-optimization-studio) too. \n",
    "\n",
    "On the other hand,[`glpk`](https://www.gnu.org/software/glpk/), [HIGHS](https://ergo-code.github.io/HiGHS/dev/) and others are open source and free. \n",
    "\n",
    "`dingo` uses HIGHS as its default solver; `highspy` should already been installed on your environment. \n",
    "You can always use the `glpk` instead, but would take considerably longer in Genome Scale models."
   ]
  },
  {
   "cell_type": "markdown",
   "metadata": {},
   "source": [
    "Thanks to HIGHS, `dingo` besides `glpk` supports: \n",
    "\n",
    "- `highs` \n",
    "- `gurobi`\n",
    "- `copt`\n",
    "- `mosek`"
   ]
  },
  {
   "cell_type": "code",
   "execution_count": 5,
   "metadata": {},
   "outputs": [],
   "source": [
    "# Directory to save sample datasets\n",
    "samples_path = root_dir / \"results\" / \"samples\"\n",
    "os.makedirs(samples_path, exist_ok=True)"
   ]
  },
  {
   "cell_type": "markdown",
   "metadata": {},
   "source": [
    "## **Sampling scenarios**"
   ]
  },
  {
   "cell_type": "markdown",
   "metadata": {},
   "source": [
    "\n",
    "While FBA finds a single maximum for the objective function, one might be interested in the space of viable metabolisms. This space reveals the range of conditions where the cell could live without the assumption of maximizing an objective function.\n",
    "\n",
    "The space of viable metabolisms is explored by taking uniform samples from the flux distribution. Besides revealing the cell's metabolic potential, these samples also reveal the conformations of higher likelihood and the burden of regulation needed for the cell to achieve its \"maximum growth\". "
   ]
  },
  {
   "cell_type": "markdown",
   "metadata": {},
   "source": [
    "In the following we provide examples of how to perform and apply flux sampling to address a range of questions. \n",
    "\n",
    "In most parts of the notebook, we will be using an AGORA GEM of *Blautia hydrogenotrophica* (Bh)."
   ]
  },
  {
   "cell_type": "code",
   "execution_count": 6,
   "metadata": {},
   "outputs": [],
   "source": [
    "bh_xml   = (agora_models_path / bh_agora_filename).as_posix()\n",
    "bh_model = cobra.io.read_sbml_model(bh_xml)"
   ]
  },
  {
   "cell_type": "code",
   "execution_count": 7,
   "metadata": {},
   "outputs": [],
   "source": [
    "bh_reactions = [rxn.id for rxn in bh_model.reactions]"
   ]
  },
  {
   "cell_type": "code",
   "execution_count": null,
   "metadata": {},
   "outputs": [],
   "source": [
    "bh_dmodel = dingo.MetabolicNetwork.from_sbml(bh_xml)"
   ]
  },
  {
   "cell_type": "markdown",
   "metadata": {},
   "source": [
    "### **Random walks, solvers and diagnostics**"
   ]
  },
  {
   "cell_type": "markdown",
   "metadata": {},
   "source": [
    "We will sample using Bh model, using the two algorithms provided in `cobra` (OptGP and ACHR), and two of those supported by `dingo` (MMCS and Billiard walk), using their default solvers (GLPK and HIGHS correspondingly). \n",
    "\n",
    "The sample datasets will be saved as pickle files under `results/samples/`."
   ]
  },
  {
   "cell_type": "code",
   "execution_count": null,
   "metadata": {},
   "outputs": [],
   "source": [
    "solvers     = [\"default\", \"gurobi\"]  # default: GLPK\n",
    "cobra_walks = [\"OptGP\", \"achr\"]\n",
    "dingo_walks = [\"MMCS\", \"billiard_walk\"]\n",
    "\n",
    "bh_xml = (agora_models_path / bh_agora_filename).as_posix()\n",
    "\n",
    "# Dictionary with time required for each sampling experiment\n",
    "times = {}\n",
    "for solver in solvers:\n",
    "\n",
    "    for walk in cobra_walks:\n",
    "\n",
    "        if solver != \"default\":\n",
    "            model.solver = \"gurobi\"\n",
    "            lsolver = solver\n",
    "        else:\n",
    "            lsolver = \"glpk\"\n",
    "\n",
    "        print(f\"Walk: {walk}, Solver: {lsolver}\")\n",
    "\n",
    "        # Load as cobra model\n",
    "        model = cobra.io.read_sbml_model(agora_models_path / bh_agora_filename)\n",
    "\n",
    "        t1 = time.time()\n",
    "        if walk == \"OptGP\":\n",
    "            \n",
    "            exp     = OptGPSampler(model, thinning=100, processes=4)\n",
    "            samples = exp.sample(10000)\n",
    "\n",
    "        elif walk == \"achr\":\n",
    "            \n",
    "            exp = ACHRSampler(model, thinning=100)\n",
    "            samples = exp.sample(n=10000)\n",
    "\n",
    "        t2   = time.time()\n",
    "        case = \"_\".join([lsolver, walk, \"unb\"])\n",
    "\n",
    "        times[case] = f\"{t2 - t1:.2f}\"\n",
    "        dump_samples(samples, samples_path/ \".\".join([case, \"pkl\"]) )\n",
    "\n",
    "\n",
    "    for walk in dingo_walks:\n",
    "\n",
    "        if solver != \"default\":\n",
    "            model.solver = \"gurobi\"\n",
    "            lsolver      = solver\n",
    "        else:\n",
    "            lsolver = \"highs\"\n",
    "\n",
    "        print(f\"Walk: {walk}, Solver: {lsolver}\")\n",
    "\n",
    "        # Load as dingo model\n",
    "        model  = dingo.MetabolicNetwork.from_sbml(bh_xml)\n",
    "\n",
    "        # Replace the objective function with an empty zero-array\n",
    "        model.objective_function = np.zeros(model.num_of_reactions())\n",
    "        \n",
    "        sampler = dingo.PolytopeSampler(model)\n",
    "        sampler.set_solver(\"gurobi\")\n",
    "\n",
    "        if walk == \"MMCS\":\n",
    "\n",
    "            samples = sampler.generate_steady_states(ess=3000, psrf=True)\n",
    "\n",
    "        elif walk == \"billiard_walk\":\n",
    "\n",
    "            samples = sampler.generate_steady_states_no_multiphase(\n",
    "                method   = \"billiard_walk\",\n",
    "                n        = 10000,\n",
    "                burn_in  = 10,\n",
    "                thinning = 100\n",
    "            )\n",
    "\n",
    "        t2   = time.time()\n",
    "        case = \"_\".join([lsolver, walk, \"unb\"])\n",
    "\n",
    "        times[case] = f\"{t2 - t1:.2f}\"\n",
    "        dump_samples(samples, samples_path/ \".\".join([case, \"pkl\"]) )\n",
    "\n"
   ]
  },
  {
   "cell_type": "markdown",
   "metadata": {},
   "source": [
    "Load a sample dataset and get its ESS."
   ]
  },
  {
   "cell_type": "code",
   "execution_count": null,
   "metadata": {},
   "outputs": [],
   "source": [
    "df = load_samples(samples_path / \"gurobi_OptGP_unb.pkl\")\n",
    "if isinstance(df, np.ndarray):\n",
    "    df = pd.DataFrame(\n",
    "        df, \n",
    "        index=[rxn.id for rxn in bh_model.reactions]\n",
    "    ).T"
   ]
  },
  {
   "cell_type": "code",
   "execution_count": null,
   "metadata": {},
   "outputs": [],
   "source": [
    "# Keep values of the dataframe\n",
    "data = df.values\n",
    "\n",
    "# If you are aware of the number of chains produced during sampling, replace None with the number of chains and edit the shape accordingly.\n",
    "# For example, if you had 10000 samples coming from 4 chains, you should reshape like this: [4, 2500, :]\n",
    "data = data[None, :, :]\n",
    "dataset = az.convert_to_dataset({\"samples\": data})\n",
    "\n",
    "# Estimate ess\n",
    "ess = az.ess(dataset)  # by default, method is `bulk`, see: https://python.arviz.org/en/stable/api/generated/arviz.ess.html"
   ]
  },
  {
   "cell_type": "code",
   "execution_count": null,
   "metadata": {},
   "outputs": [],
   "source": [
    "print(\n",
    "    f\"ESS mean: {ess.mean()}\\n---\\n\"\n",
    "    f\"ESS minimun: {ess.min()}\"\n",
    ")"
   ]
  },
  {
   "cell_type": "code",
   "execution_count": null,
   "metadata": {},
   "outputs": [],
   "source": [
    "ess_values        = ess['samples'].values \n",
    "low_ess_idx       = (ess_values < 1000).nonzero()[0]\n",
    "low_ess_reactions = df.columns[low_ess_idx]\n",
    "\n",
    "count_ex      = 0\n",
    "count_blocked = 0\n",
    "count_fixed   = 0\n",
    "for rxn_id in low_ess_reactions.values:\n",
    "    if rxn_id.startswith(\"EX_\"):\n",
    "        count_ex +=1\n",
    "    else:\n",
    "        if abs(df[rxn_id].mean() ) < 0.001:\n",
    "            count_blocked += 1\n",
    "        elif abs(df[rxn_id].max() - df[rxn_id].min()) < 0.1:\n",
    "            count_fixed += 1\n",
    "\n",
    "\n",
    "print(f\"Number of exchange reactions on the model: {len(model.exchanges)}\")\n",
    "print(f\"Number of total reactions with low ESS: {len(low_ess_reactions.values)}\")\n",
    "print(f\"Number of exchange reactions among those with low ESS: {count_ex}\")"
   ]
  },
  {
   "cell_type": "markdown",
   "metadata": {},
   "source": [
    "Now you can load your samples:"
   ]
  },
  {
   "cell_type": "code",
   "execution_count": null,
   "metadata": {},
   "outputs": [],
   "source": [
    "optgp_samples = load_samples(samples_path / \"gurobi_OptGP_unb.pkl\")\n",
    "achr_samples  = load_samples(samples_path / \"gurobi_achr_unb.pkl\")\n",
    "mmcs_samples  = load_samples(samples_path / \"gurobi_MMCS_unb.pkl\")\n",
    "bw_samples    = load_samples(samples_path / \"gurobi_billiard_walk_unb.pkl\")\n"
   ]
  },
  {
   "cell_type": "markdown",
   "metadata": {},
   "source": [
    "And we can plot any marginal distribution we are interested in. \n",
    "\n",
    "Below we plot the biomass distribution from all the 4 different walks applied, when using Gurobi as our solver."
   ]
  },
  {
   "cell_type": "code",
   "execution_count": null,
   "metadata": {},
   "outputs": [],
   "source": [
    "fig, axes = plt.subplots(2, 2, figsize=(12, 8))  # 2 rows, 2 columns\n",
    "\n",
    "plot_hists(\n",
    "    optgp_samples, \"biomass525\", type = \"cobra\", \n",
    "    description = \"on Bh using OptGP, unbiased\", ax=axes[0, 0]\n",
    ")\n",
    "plot_hists(\n",
    "    achr_samples, \"biomass525\", type = \"cobra\", \n",
    "    description = \"on Bh using ACHR, unbiased\", ax=axes[0, 1]\n",
    ")\n",
    "plot_hists(\n",
    "    mmcs_samples, \"biomass525\", type = \"dingo\", \n",
    "    dingo_model = bh_dmodel, description = \"on Bh using MMCS, unbiased\", ax=axes[1,0]\n",
    ")\n",
    "plot_hists(\n",
    "    bw_samples, \"biomass525\", \n",
    "    type = \"dingo\", dingo_model = bh_dmodel, description = \"on Bh using Billiard, unbiased\", ax=axes[1,1]\n",
    ")\n",
    "\n",
    "plt.tight_layout()\n",
    "plt.savefig(\"results/samples/optg_achr_mmcs_bW_bh_unbiased2.eps\", format=\"eps\", dpi=600)\n",
    "plt.savefig(\"results/samples/optg_achr_mmcs_bW_bh_unbiased2.png\", format=\"png\", dpi=300)\n",
    "plt.show()"
   ]
  },
  {
   "cell_type": "code",
   "execution_count": null,
   "metadata": {},
   "outputs": [],
   "source": []
  },
  {
   "cell_type": "markdown",
   "metadata": {},
   "source": [
    "### **Rounding**\n"
   ]
  },
  {
   "cell_type": "markdown",
   "metadata": {},
   "source": [
    "PolyRound is an exceptional Python library specialized in rounding polytopes. "
   ]
  },
  {
   "cell_type": "code",
   "execution_count": null,
   "metadata": {},
   "outputs": [],
   "source": [
    "from PolyRound.api import PolyRoundApi\n",
    "from PolyRound.settings import PolyRoundSettings\n",
    "from PolyRound.static_classes.lp_utils import ChebyshevFinder\n",
    "\n",
    "# Fix settings\n",
    "settings         = PolyRoundSettings()\n",
    "settings.verbose = True\n",
    "settings.backend = \"gurobi\"\n",
    "\n",
    "# Export initial and perform rounding tasks\n",
    "polytope             = PolyRoundApi.sbml_to_polytope(agora_models_path / bh_agora_filename)\n",
    "polyrounded_polytope = PolyRoundApi.simplify_transform_and_round(polytope)"
   ]
  },
  {
   "cell_type": "markdown",
   "metadata": {},
   "source": [
    "Sample using the *polyround-*ed polytope and the MMCS `dingo` algorithm."
   ]
  },
  {
   "cell_type": "code",
   "execution_count": null,
   "metadata": {},
   "outputs": [],
   "source": [
    "mmcs_polyrouned_samples = dingo.PolytopeSampler.sample_from_polytope(\n",
    "    np.asarray(polyrounded_polytope.A),\n",
    "    np.asarray(polyrounded_polytope.b),\n",
    "    ess  = 1000,\n",
    "    psrf = True\n",
    ")"
   ]
  },
  {
   "cell_type": "code",
   "execution_count": null,
   "metadata": {},
   "outputs": [],
   "source": [
    "print(\n",
    "    f\"Dimensions of the samples retrieved from the polyrounde-ed polytope: {mmcs_polyrouned_samples.shape}\\n\"\n",
    "    f\"Number of reactions in the Bh model: {len(bh_model.reactions)}\"\n",
    ")\n"
   ]
  },
  {
   "cell_type": "markdown",
   "metadata": {},
   "source": [
    "Apply back transformation to map samples to their original space. "
   ]
  },
  {
   "cell_type": "code",
   "execution_count": null,
   "metadata": {},
   "outputs": [],
   "source": [
    "mmcs_poly_samples = polyrounded_polytope.back_transform(mmcs_polyrouned_samples)"
   ]
  },
  {
   "cell_type": "code",
   "execution_count": null,
   "metadata": {},
   "outputs": [],
   "source": [
    "mmcs_poly_samples.shape"
   ]
  },
  {
   "cell_type": "code",
   "execution_count": null,
   "metadata": {},
   "outputs": [],
   "source": [
    "dump_samples(mmcs_poly_samples, \"results/samples/bh_mmcs_poly.pkl\")"
   ]
  },
  {
   "cell_type": "markdown",
   "metadata": {},
   "source": [
    "You can sample on the *polyround*-ed polytope, using any kind of sampling algorithm, but you always need to remember to back transform the samples to the original space."
   ]
  },
  {
   "cell_type": "code",
   "execution_count": null,
   "metadata": {},
   "outputs": [],
   "source": [
    "# Sample on polyrounde-ed polytope using Billiard walk \n",
    "bw_polyrounded_samples = dingo.PolytopeSampler.sample_from_polytope_no_multiphase(\n",
    "    np.asarray(polyrounded_polytope.A),\n",
    "    np.asarray(polyrounded_polytope.b),\n",
    "    method   = \"billiard_walk\",\n",
    "    n        = 10000,\n",
    "    thinning = 100\n",
    ")\n",
    "\n",
    "# Back tansformation\n",
    "bw_poly_samples = polyrounded_polytope.back_transform(bw_polyrounded_samples)"
   ]
  },
  {
   "cell_type": "markdown",
   "metadata": {},
   "source": [
    "### **Computational vs. biological feasibility**"
   ]
  },
  {
   "cell_type": "markdown",
   "metadata": {},
   "source": [
    "The Bh GEM we are using comes with a *rich* medium, where all model's exchange reactions are available on the `medium`."
   ]
  },
  {
   "cell_type": "code",
   "execution_count": null,
   "metadata": {},
   "outputs": [],
   "source": [
    "bh_model = cobra.io.read_sbml_model(bh_xml)\n",
    "bh_model.solver = \"gurobi\""
   ]
  },
  {
   "cell_type": "code",
   "execution_count": null,
   "metadata": {},
   "outputs": [],
   "source": [
    "print(\n",
    "    f\"Number of total exchange reactions available in the model: {len(bh_model.exchanges)}\\n\"\n",
    "    f\"Number of metabolites in the medium of the Bh model with a non-zero flux: {np.count_nonzero(list(bh_model.medium.values()))}\"\n",
    ")"
   ]
  },
  {
   "cell_type": "markdown",
   "metadata": {},
   "source": [
    "Check whether there are any missing exchange reactions from the medium."
   ]
  },
  {
   "cell_type": "code",
   "execution_count": null,
   "metadata": {},
   "outputs": [],
   "source": [
    "missing_exchanges = [r.id for r in bh_model.exchanges if r.id not in bh_model.medium]\n",
    "print(missing_exchanges)"
   ]
  },
  {
   "cell_type": "code",
   "execution_count": null,
   "metadata": {},
   "outputs": [],
   "source": [
    "init_sol = bh_model.optimize()\n",
    "init_sol.objective_value"
   ]
  },
  {
   "cell_type": "markdown",
   "metadata": {},
   "source": [
    "Uptake flux of oxygen"
   ]
  },
  {
   "cell_type": "code",
   "execution_count": null,
   "metadata": {},
   "outputs": [],
   "source": [
    "sum = bh_model.summary()\n",
    "sum.uptake_flux.loc[\"EX_o2(e)\"]"
   ]
  },
  {
   "cell_type": "markdown",
   "metadata": {},
   "source": [
    "Remove oxygen from model's medium and get optimal biomass."
   ]
  },
  {
   "cell_type": "code",
   "execution_count": null,
   "metadata": {},
   "outputs": [],
   "source": [
    "bh_model.reactions.get_by_id(\"EX_o2(e)\").lower_bound = 0\n",
    "sol_no_o2 = bh_model.optimize()\n",
    "sol_no_o2.objective_value"
   ]
  },
  {
   "cell_type": "markdown",
   "metadata": {},
   "source": [
    "The GEM of Bh we are using returns a higher optimal biomass when oxygen is present, while it is well known that most Blautia strains are not even tolerant on oxygen."
   ]
  },
  {
   "cell_type": "markdown",
   "metadata": {},
   "source": [
    "Check whether oxygen is still being used with parsimonious FBA (pFBA) and given thermodynamics are considered, i.e. infeasible cycles are removed."
   ]
  },
  {
   "cell_type": "code",
   "execution_count": null,
   "metadata": {},
   "outputs": [],
   "source": [
    "bh_model = cobra.io.read_sbml_model(bh_xml)\n",
    "bh_model.solver = \"gurobi\""
   ]
  },
  {
   "cell_type": "code",
   "execution_count": null,
   "metadata": {},
   "outputs": [],
   "source": [
    "ll_sol = cobra.flux_analysis.loopless_solution(bh_model)\n",
    "ll_sol.fluxes.loc[\"EX_o2(e)\"]"
   ]
  },
  {
   "cell_type": "code",
   "execution_count": null,
   "metadata": {},
   "outputs": [],
   "source": [
    "psol = cobra.flux_analysis.pfba(bh_model)\n",
    "psol.fluxes.loc[\"EX_o2(e)\"]"
   ]
  },
  {
   "cell_type": "code",
   "execution_count": null,
   "metadata": {},
   "outputs": [],
   "source": []
  },
  {
   "cell_type": "markdown",
   "metadata": {},
   "source": [
    "### **Basic statistics on sampling data sets**"
   ]
  },
  {
   "cell_type": "markdown",
   "metadata": {},
   "source": [
    "Let us now check what happens when we **remove just the oxygen from the medium**, so at least the medium looks a bit more like what's happening in the human gut where Bh lives, forcing our model to skip oxygen utilization."
   ]
  },
  {
   "cell_type": "code",
   "execution_count": null,
   "metadata": {},
   "outputs": [],
   "source": [
    "# Build a new cobra instance \n",
    "bh_model_no_oxygen = cobra.io.read_sbml_model(bh_xml)\n",
    "\n",
    "# Set lower bound of the uptake reaction for oxygen to zero, \"removing\" it from the medium\n",
    "bh_model_no_oxygen.reactions.get_by_id(\"EX_o2(e)\").lower_bound = 0 \n",
    "\n",
    "# Build a new dingo Model from this cobra model\n",
    "dmodel = dingo.MetabolicNetwork.from_cobra_model(bh_model_no_oxygen)\n",
    "\n",
    "# Replace its objective function with the zero-vector\n",
    "dmodel.objective_function = np.zeros(len(dmodel.reactions))\n",
    "\n",
    "# Sample unbiased using MMCS\n",
    "sampler = dingo.PolytopeSampler(dmodel)\n",
    "unb_anox_samples = sampler.generate_steady_states(ess=1000, psrf=True)\n"
   ]
  },
  {
   "cell_type": "code",
   "execution_count": null,
   "metadata": {},
   "outputs": [],
   "source": [
    "# Now you are ready to sample in an unbiased way in the anoxic case\n",
    "sampler          = dingo.PolytopeSampler(bh_dmodel)\n",
    "unb_anox_samples = sampler.generate_steady_states(ess=1000, psrf=True)"
   ]
  },
  {
   "cell_type": "code",
   "execution_count": null,
   "metadata": {},
   "outputs": [],
   "source": [
    "dump_samples(unb_anox_samples, samples_path / \"bh_unb_anoxic.pkl\")"
   ]
  },
  {
   "cell_type": "code",
   "execution_count": null,
   "metadata": {},
   "outputs": [],
   "source": [
    "unb_anox_samples = load_samples(samples_path / \"bh_unb_anoxic.pkl\")\n",
    "unb_anox_samples = pd.DataFrame(unb_anox_samples, index = bh_reactions).T"
   ]
  },
  {
   "cell_type": "markdown",
   "metadata": {},
   "source": [
    "Let us now check how much of the variability on the dataset the first 10 components of a PCA explain:"
   ]
  },
  {
   "cell_type": "code",
   "execution_count": null,
   "metadata": {},
   "outputs": [],
   "source": [
    "pca_samples(unb_anox_samples, plots=True, outfile = samples_path / \"bh_pca_anox_unb\")"
   ]
  },
  {
   "cell_type": "code",
   "execution_count": null,
   "metadata": {},
   "outputs": [],
   "source": [
    "print(\n",
    "    unb_anox_samples[\"EX_lac_D(e)\"].min(),\n",
    "    unb_anox_samples[\"EX_lac_D(e)\"].max()\n",
    ")"
   ]
  },
  {
   "cell_type": "markdown",
   "metadata": {},
   "source": [
    "Significantly different fluxes between samples consuming and producing lactate:"
   ]
  },
  {
   "cell_type": "code",
   "execution_count": null,
   "metadata": {},
   "outputs": [],
   "source": [
    "sig_cols, pos, neg, dddf = different_fluxes_over_sign(unb_anox_samples, \"EX_lac_D(e)\", bh_model)"
   ]
  },
  {
   "cell_type": "code",
   "execution_count": null,
   "metadata": {},
   "outputs": [],
   "source": [
    "dddf"
   ]
  },
  {
   "cell_type": "code",
   "execution_count": null,
   "metadata": {},
   "outputs": [],
   "source": [
    "dddf[\"Reaction name\"]"
   ]
  },
  {
   "cell_type": "markdown",
   "metadata": {},
   "source": [
    "### Unbiased oxygen - no oxygen case"
   ]
  },
  {
   "cell_type": "markdown",
   "metadata": {},
   "source": [
    "Let us check how many different input-output cases we have in the unbiased sampling with MMCS and Gurobi."
   ]
  },
  {
   "cell_type": "code",
   "execution_count": null,
   "metadata": {},
   "outputs": [],
   "source": [
    "bh_model_no_oxygen = cobra.io.read_sbml_model(bh_xml)\n",
    "bh_model_no_oxygen.reactions.get_by_id(\"EX_o2(e)\").lower_bound = 0 \n",
    "\n",
    "dmodel = dingo.MetabolicNetwork.from_cobra_model(bh_model_no_oxygen)\n",
    "dmodel.objective_function = np.zeros(len(dmodel.reactions))\n",
    "\n",
    "sampler = dingo.PolytopeSampler(dmodel)\n",
    "\n",
    "unb_no_oxygen = sampler.generate_steady_states(ess=1000, psrf=True)"
   ]
  },
  {
   "cell_type": "code",
   "execution_count": null,
   "metadata": {},
   "outputs": [],
   "source": [
    "dump_samples(unb_no_oxygen, samples_path / \"mmcs_unb_no_oxyg_bh.pkl\")"
   ]
  },
  {
   "cell_type": "markdown",
   "metadata": {},
   "source": [
    "If you have already your samples:"
   ]
  },
  {
   "cell_type": "code",
   "execution_count": null,
   "metadata": {},
   "outputs": [],
   "source": [
    "unb_samples = load_samples(samples_path / \"gurobi_MMCS_unb.pkl\")\n",
    "unb_anox_samples =  load_samples(samples_path / \"bh_unb_anoxic.pkl\")"
   ]
  },
  {
   "cell_type": "markdown",
   "metadata": {},
   "source": [
    "Count unique input/output exchange vectors in the anoxic samples dataset:"
   ]
  },
  {
   "cell_type": "code",
   "execution_count": null,
   "metadata": {},
   "outputs": [],
   "source": [
    "anoxic_uniq_ios = count_ios(unb_anox_samples, bh_model)  # count_ios(unb_anox_samples, bh_model, \"biomass525\")"
   ]
  },
  {
   "cell_type": "code",
   "execution_count": null,
   "metadata": {},
   "outputs": [],
   "source": [
    "anoxic_uniq_ios.shape"
   ]
  },
  {
   "cell_type": "markdown",
   "metadata": {},
   "source": [
    "When oxygen included 2443 cases, while when not only 1160."
   ]
  },
  {
   "cell_type": "code",
   "execution_count": null,
   "metadata": {},
   "outputs": [],
   "source": [
    "unb_anox_samples = pd.DataFrame(unb_anox_samples, index = bh_reactions).T"
   ]
  },
  {
   "cell_type": "markdown",
   "metadata": {},
   "source": [
    "Here, oxygen uptake is absent across all samples."
   ]
  },
  {
   "cell_type": "code",
   "execution_count": null,
   "metadata": {},
   "outputs": [],
   "source": [
    "unb_anox_samples[\"EX_o2(e)\"].eq(0).all()"
   ]
  },
  {
   "cell_type": "code",
   "execution_count": null,
   "metadata": {},
   "outputs": [],
   "source": [
    "no_oxy_samples = pd.DataFrame(unb_no_oxygen, index=bh_reactions).T\n",
    "no_oxy_samples[\"EX_o2(e)\"].mean()\n"
   ]
  },
  {
   "cell_type": "code",
   "execution_count": null,
   "metadata": {},
   "outputs": [],
   "source": []
  },
  {
   "cell_type": "code",
   "execution_count": null,
   "metadata": {},
   "outputs": [],
   "source": [
    "unb_samples = load_samples(samples_path / \"gurobi_MMCS_unb.pkl\")\n",
    "unb_samples = pd.DataFrame(unb_samples, index = bh_reactions).T"
   ]
  },
  {
   "cell_type": "code",
   "execution_count": null,
   "metadata": {},
   "outputs": [],
   "source": [
    "unique_io = count_ios(unb_samples, bh_model)"
   ]
  },
  {
   "cell_type": "code",
   "execution_count": null,
   "metadata": {},
   "outputs": [],
   "source": [
    "unique_io.shape"
   ]
  },
  {
   "cell_type": "code",
   "execution_count": null,
   "metadata": {},
   "outputs": [],
   "source": [
    "# unb_samples[\"EX_glc_D(e)\"].mean()\n",
    "unb_samples[\"EX_o2(e)\"].mean()"
   ]
  },
  {
   "cell_type": "markdown",
   "metadata": {},
   "source": [
    "There are 2443 combinations of active exchange reactions in the complete medium of the model; all of them including the uptake of oxygen.\n",
    "\n",
    "This is not possible for Bh, highlighting two key challenges in constraint-based analysis in metabolic modeling in general that sampling inherits:\n",
    "\n",
    "- medium effect \n",
    "- how do we constrain the solution space enough to have biological relevance\n"
   ]
  },
  {
   "cell_type": "code",
   "execution_count": null,
   "metadata": {},
   "outputs": [],
   "source": []
  },
  {
   "cell_type": "code",
   "execution_count": null,
   "metadata": {},
   "outputs": [],
   "source": []
  },
  {
   "cell_type": "code",
   "execution_count": null,
   "metadata": {},
   "outputs": [],
   "source": []
  },
  {
   "cell_type": "markdown",
   "metadata": {},
   "source": [
    "### **Biased sampling: optimal and suboptimal cases**"
   ]
  },
  {
   "cell_type": "markdown",
   "metadata": {},
   "source": [
    "Build new model without oxygen on its medium, and forbidding lactate uptake"
   ]
  },
  {
   "cell_type": "code",
   "execution_count": 8,
   "metadata": {},
   "outputs": [],
   "source": [
    "def model_prune_medium(exchanges_to_mute=[]):\n",
    "\n",
    "    bh_model_no_oxyg = cobra.io.read_sbml_model(\n",
    "        agora_models_path / bh_agora_filename\n",
    "    )\n",
    "    for rxn_id in exchanges_to_mute:\n",
    "        bh_model_no_oxyg.reactions.get_by_id(rxn_id).lower_bound    = 0\n",
    "\n",
    "    d_model  = dingo.MetabolicNetwork.from_cobra_model(bh_model_no_oxyg)\n",
    "\n",
    "    return d_model"
   ]
  },
  {
   "cell_type": "code",
   "execution_count": 9,
   "metadata": {},
   "outputs": [],
   "source": [
    "d_model = model_prune_medium([\"EX_o2(e)\", \"EX_lac_D(e)\"])"
   ]
  },
  {
   "cell_type": "markdown",
   "metadata": {},
   "source": [
    "First, sample in the optical case: \n"
   ]
  },
  {
   "cell_type": "code",
   "execution_count": 10,
   "metadata": {},
   "outputs": [],
   "source": [
    "sampler = dingo.PolytopeSampler(d_model)\n",
    "sampler.set_solver(\"gurobi\")\n"
   ]
  },
  {
   "cell_type": "code",
   "execution_count": null,
   "metadata": {},
   "outputs": [
    {
     "name": "stdout",
     "output_type": "stream",
     "text": [
      "Set parameter Username\n",
      "Set parameter LicenseID to value 2634947\n",
      "Academic license - for non-commercial use only - expires 2026-03-11\n",
      "phase 1: number of correlated samples = 3600, effective sample size = 20, ratio of the maximum singilar value over the minimum singular value = 4339.45\n",
      "phase 2: number of correlated samples = 3600, effective sample size = 25, ratio of the maximum singilar value over the minimum singular value = 52657.5\n",
      "phase 3: number of correlated samples = 3600, effective sample size = 25, ratio of the maximum singilar value over the minimum singular value = 1418.14\n",
      "phase 4: number of correlated samples = 3600, effective sample size = 26, ratio of the maximum singilar value over the minimum singular value = 781.319\n",
      "phase 5: number of correlated samples = 3600, effective sample size = 877, ratio of the maximum singilar value over the minimum singular value = 18.6968\n"
     ]
    },
    {
     "name": "stderr",
     "output_type": "stream",
     "text": [
      "\n",
      " [1]maximum marginal PSRF: 1.97646\n",
      "[2]maximum marginal PSRF: 3.0409\n",
      "[2]total ess: 1073\n",
      "[2]maximum marginal PSRF: 1.74791\n",
      "[2]total ess: 1048\n",
      "[2]maximum marginal PSRF: 2.09483\n",
      "[2]total ess: 1023\n",
      "[2]maximum marginal PSRF: 1.0786\n",
      "[2]total ess: 997\n",
      "[3]maximum marginal PSRF: 1.0786\n"
     ]
    },
    {
     "name": "stdout",
     "output_type": "stream",
     "text": [
      "phase 6: number of correlated samples = 500, effective sample size = 120[3]total ess 997: number of correlated samples = 4100\n",
      "\n",
      "\n",
      "phase 7: number of correlated samples = 100, effective sample size = 11\n",
      "[4]total ess 1008: number of correlated samples = 4200\n",
      "\n",
      "\n"
     ]
    },
    {
     "name": "stderr",
     "output_type": "stream",
     "text": [
      "[4]maximum marginal PSRF: 1.07113\n"
     ]
    }
   ],
   "source": [
    "no_lac_ox_opt = sampler.generate_steady_states(ess=1000,psrf=True)"
   ]
  },
  {
   "cell_type": "code",
   "execution_count": 12,
   "metadata": {},
   "outputs": [],
   "source": [
    "no_lac_ox_opt = pd.DataFrame(no_lac_ox_opt, index=bh_reactions).T"
   ]
  },
  {
   "cell_type": "code",
   "execution_count": 13,
   "metadata": {},
   "outputs": [],
   "source": [
    "dump_samples(no_lac_ox_opt, samples_path / \"bh_no_ox_lac_opt_mmcs.pkl\")"
   ]
  },
  {
   "cell_type": "markdown",
   "metadata": {},
   "source": [
    "Now, repeat the process, but require not optimal, but at least 50% of the optimal biomass."
   ]
  },
  {
   "cell_type": "code",
   "execution_count": 15,
   "metadata": {},
   "outputs": [],
   "source": [
    "d_model = model_prune_medium([\"EX_o2(e)\", \"EX_lac_D(e)\"])\n",
    "d_model.set_opt_percentage(50)"
   ]
  },
  {
   "cell_type": "code",
   "execution_count": 16,
   "metadata": {},
   "outputs": [],
   "source": [
    "sampler = dingo.PolytopeSampler(d_model)\n",
    "sampler.set_solver(\"gurobi\")"
   ]
  },
  {
   "cell_type": "code",
   "execution_count": 17,
   "metadata": {},
   "outputs": [
    {
     "name": "stdout",
     "output_type": "stream",
     "text": [
      "phase 1: number of correlated samples = 3600, effective sample size = 25, ratio of the maximum singilar value over the minimum singular value = 5360.73\n",
      "phase 2: number of correlated samples = 3600, effective sample size = 1069"
     ]
    },
    {
     "name": "stderr",
     "output_type": "stream",
     "text": [
      "\n",
      " [1]maximum marginal PSRF: 2.38206\n",
      "[2]maximum marginal PSRF: 1.00444\n",
      "[2]total ess: 1069\n"
     ]
    }
   ],
   "source": [
    "no_lac_ox_opt50 = sampler.generate_steady_states(ess=1000,psrf=True)"
   ]
  },
  {
   "cell_type": "code",
   "execution_count": 18,
   "metadata": {},
   "outputs": [],
   "source": [
    "no_lac_ox_opt50 = pd.DataFrame(no_lac_ox_opt50, index=bh_reactions).T"
   ]
  },
  {
   "cell_type": "code",
   "execution_count": 19,
   "metadata": {},
   "outputs": [],
   "source": [
    "dump_samples(no_lac_ox_opt, samples_path / \"bh_no_ox_lac_opt50_mmcs.pkl\")"
   ]
  },
  {
   "cell_type": "markdown",
   "metadata": {},
   "source": [
    "In case sampling datasets already there, just load them:"
   ]
  },
  {
   "cell_type": "code",
   "execution_count": null,
   "metadata": {},
   "outputs": [],
   "source": [
    "no_lac_ox_opt   = load_samples(samples_path / \"bh_no_ox_lac_opt_mmcs.pkl\")\n",
    "no_lac_ox_opt50 = load_samples(samples_path / \"bh_no_ox_lac_opt50_mmcs.pkl\")"
   ]
  },
  {
   "cell_type": "markdown",
   "metadata": {},
   "source": [
    "Check minimum and maximum values of biomass in the two sample datasets:"
   ]
  },
  {
   "cell_type": "code",
   "execution_count": 23,
   "metadata": {},
   "outputs": [
    {
     "data": {
      "text/plain": [
       "(78.25516300000054, 78.25516302134942)"
      ]
     },
     "execution_count": 23,
     "metadata": {},
     "output_type": "execute_result"
    }
   ],
   "source": [
    "no_lac_ox_opt[\"biomass525\"].min(), no_lac_ox_opt[\"biomass525\"].max()"
   ]
  },
  {
   "cell_type": "code",
   "execution_count": 24,
   "metadata": {},
   "outputs": [
    {
     "data": {
      "text/plain": [
       "(39.12768640607325, 42.18425337203762)"
      ]
     },
     "execution_count": 24,
     "metadata": {},
     "output_type": "execute_result"
    }
   ],
   "source": [
    "no_lac_ox_opt50[\"biomass525\"].min(), no_lac_ox_opt50[\"biomass525\"].max()"
   ]
  },
  {
   "cell_type": "markdown",
   "metadata": {},
   "source": [
    "Notice that in the half-optimal case, biomass gets fluxes only quite close to the minimum (half-optimal) bound. \n",
    "No sample with a biomass close to the optimal is recorded. \n",
    "This is rather indicative of the polytope's topology, where biomass is rather skinny area.\n",
    "\n",
    "This also explain the following observation:"
   ]
  },
  {
   "cell_type": "markdown",
   "metadata": {},
   "source": [
    "Compare number of fixed fluxes in the optimal and half-optimal cases:"
   ]
  },
  {
   "cell_type": "code",
   "execution_count": 21,
   "metadata": {},
   "outputs": [
    {
     "name": "stdout",
     "output_type": "stream",
     "text": [
      "Number of reactions whose bounds failed: 4\n",
      "Number of reaction with a non-fixed flux: 155\n"
     ]
    }
   ],
   "source": [
    "breaching_bound, non_fixed = check_samples_range(no_lac_ox_opt)"
   ]
  },
  {
   "cell_type": "code",
   "execution_count": 22,
   "metadata": {},
   "outputs": [
    {
     "name": "stdout",
     "output_type": "stream",
     "text": [
      "Number of reactions whose bounds failed: 0\n",
      "Number of reaction with a non-fixed flux: 619\n"
     ]
    }
   ],
   "source": [
    "breaching_bound_opt50, non_fixed_opt50 = check_samples_range(no_lac_ox_opt50)"
   ]
  },
  {
   "cell_type": "markdown",
   "metadata": {},
   "source": [
    "Let us check now what PCA could tell us on the optimal and suboptimal cases, where neither oxygen nor lactose can be used."
   ]
  },
  {
   "cell_type": "code",
   "execution_count": 30,
   "metadata": {},
   "outputs": [],
   "source": [
    "no_lac_ox_opt_clip = no_lac_ox_opt.clip(lower=-1000, upper=1000)"
   ]
  },
  {
   "cell_type": "code",
   "execution_count": 46,
   "metadata": {},
   "outputs": [
    {
     "name": "stdout",
     "output_type": "stream",
     "text": [
      "Explained Variance Ratio: [0.11334639 0.0315976  0.02425855 0.02136779 0.01998801 0.01719195\n",
      " 0.01599109 0.01553301 0.01412115 0.01295251]\n"
     ]
    },
    {
     "data": {
      "image/png": "[encoded data removed]",
      "text/plain": [
       "<Figure size 1200x600 with 2 Axes>"
      ]
     },
     "metadata": {},
     "output_type": "display_data"
    }
   ],
   "source": [
    "d, pca_model = pca_samples(no_lac_ox_opt_clip, plots=True, outfile = samples_path / \"bh_pca_no_oxyg_lac_opt\")"
   ]
  },
  {
   "cell_type": "code",
   "execution_count": 33,
   "metadata": {},
   "outputs": [
    {
     "data": {
      "text/html": [
       "\n",
       "        <table>\n",
       "            <tr>\n",
       "                <td><strong>Reaction identifier</strong></td><td>2AHBUTI</td>\n",
       "            </tr><tr>\n",
       "                <td><strong>Name</strong></td><td>(S)-2-Aceto-2-hydroxybutanoate isomerase</td>\n",
       "            </tr><tr>\n",
       "                <td><strong>Memory address</strong></td>\n",
       "                <td>0x7a428987aad0</td>\n",
       "            </tr><tr>\n",
       "                <td><strong>Stoichiometry</strong></td>\n",
       "                <td>\n",
       "                    <p style='text-align:right'>2ahbut[c] <=> 3h3mop[c]</p>\n",
       "                    <p style='text-align:right'>(S)-2-Aceto-2-hydroxybutanoate <=> (R)-3-Hydroxy-3-methyl-2-oxopentanoate</p>\n",
       "                </td>\n",
       "            </tr><tr>\n",
       "                <td><strong>GPR</strong></td><td>476272.5.peg.1465</td>\n",
       "            </tr><tr>\n",
       "                <td><strong>Lower bound</strong></td><td>-1000.0</td>\n",
       "            </tr><tr>\n",
       "                <td><strong>Upper bound</strong></td><td>1000.0</td>\n",
       "            </tr>\n",
       "        </table>\n",
       "        "
      ],
      "text/plain": [
       "<Reaction 2AHBUTI at 0x7a428987aad0>"
      ]
     },
     "execution_count": 33,
     "metadata": {},
     "output_type": "execute_result"
    }
   ],
   "source": [
    "bh_model.reactions.get_by_id(\"2AHBUTI\")"
   ]
  },
  {
   "cell_type": "code",
   "execution_count": 34,
   "metadata": {},
   "outputs": [
    {
     "data": {
      "text/plain": [
       "(-987.9218180692312, 999.4664148433312)"
      ]
     },
     "execution_count": 34,
     "metadata": {},
     "output_type": "execute_result"
    }
   ],
   "source": [
    "no_lac_ox_opt[\"2AHBUTI\"].min(), no_lac_ox_opt[\"2AHBUTI\"].max()"
   ]
  },
  {
   "cell_type": "code",
   "execution_count": 35,
   "metadata": {},
   "outputs": [],
   "source": [
    "no_lac_ox_opt50_clip = no_lac_ox_opt50.clip(lower=-1000, upper=1000)"
   ]
  },
  {
   "cell_type": "code",
   "execution_count": 45,
   "metadata": {},
   "outputs": [
    {
     "name": "stdout",
     "output_type": "stream",
     "text": [
      "Explained Variance Ratio: [0.11339864 0.03579768 0.02183829 0.01960704 0.01869425 0.01780289\n",
      " 0.0165466  0.01631683 0.01548955 0.01497225]\n"
     ]
    },
    {
     "data": {
      "image/png": "[encoded data removed]",
      "text/plain": [
       "<Figure size 1200x600 with 2 Axes>"
      ]
     },
     "metadata": {},
     "output_type": "display_data"
    }
   ],
   "source": [
    "d50, pca_model50 = pca_samples(no_lac_ox_opt50_clip, plots=True, outfile = samples_path / \"bh_pca_no_oxyg_lac_opt50\")"
   ]
  },
  {
   "cell_type": "code",
   "execution_count": 39,
   "metadata": {},
   "outputs": [
    {
     "data": {
      "text/plain": [
       "(-999.7988359804531, 999.3227197527115)"
      ]
     },
     "execution_count": 39,
     "metadata": {},
     "output_type": "execute_result"
    }
   ],
   "source": [
    "no_lac_ox_opt50_clip[\"HSDx\"].min(), no_lac_ox_opt50_clip[\"HSDx\"].max()"
   ]
  },
  {
   "cell_type": "code",
   "execution_count": 37,
   "metadata": {},
   "outputs": [
    {
     "data": {
      "text/html": [
       "\n",
       "        <table>\n",
       "            <tr>\n",
       "                <td><strong>Reaction identifier</strong></td><td>HSDx</td>\n",
       "            </tr><tr>\n",
       "                <td><strong>Name</strong></td><td>homoserine dehydrogenase (NADH)</td>\n",
       "            </tr><tr>\n",
       "                <td><strong>Memory address</strong></td>\n",
       "                <td>0x7a42896bea10</td>\n",
       "            </tr><tr>\n",
       "                <td><strong>Stoichiometry</strong></td>\n",
       "                <td>\n",
       "                    <p style='text-align:right'>hom_L[c] + nad[c] <=> aspsa[c] + h[c] + nadh[c]</p>\n",
       "                    <p style='text-align:right'>L-homoserine + Nicotinamide adenine dinucleotide <=> L-Aspartate 4-semialdehyde + proton + Nicotinamide adenine dinucleotide - reduced</p>\n",
       "                </td>\n",
       "            </tr><tr>\n",
       "                <td><strong>GPR</strong></td><td>476272.5.peg.1589 or 476272.5.peg.846</td>\n",
       "            </tr><tr>\n",
       "                <td><strong>Lower bound</strong></td><td>-1000.0</td>\n",
       "            </tr><tr>\n",
       "                <td><strong>Upper bound</strong></td><td>1000.0</td>\n",
       "            </tr>\n",
       "        </table>\n",
       "        "
      ],
      "text/plain": [
       "<Reaction HSDx at 0x7a42896bea10>"
      ]
     },
     "execution_count": 37,
     "metadata": {},
     "output_type": "execute_result"
    }
   ],
   "source": [
    "bh_model.reactions.HSDx"
   ]
  },
  {
   "cell_type": "code",
   "execution_count": 105,
   "metadata": {},
   "outputs": [],
   "source": [
    "rxns_per_subsystem = {}\n",
    "for rxn in bh_model.reactions:\n",
    "    if rxn.subsystem not in rxns_per_subsystem:\n",
    "        rxns_per_subsystem[rxn.subsystem] = []\n",
    "    rxns_per_subsystem[rxn.subsystem].append(rxn.id)"
   ]
  },
  {
   "cell_type": "code",
   "execution_count": 106,
   "metadata": {},
   "outputs": [
    {
     "data": {
      "text/plain": [
       "dict_keys(['Valine, leucine, and isoleucine metabolism', 'Lysine metabolism', 'Glycerophospholipid metabolism', 'Fatty acid synthesis', 'Arginine and proline metabolism', 'Vitamin B6 metabolism', 'Purine catabolism', 'Glycolysis/gluconeogenesis', 'Pentose and glucuronate interconversions', 'Pyruvate metabolism', 'Tropane, piperidine and pyridine alkaloid biosynthesis', 'beta-Alanine metabolism', 'Transport, extracellular', 'Vitamin B12 metabolism', 'Propanoate metabolism', 'Aminosugar metabolism', 'Urea cycle', 'Fatty acid oxidation', 'CoA synthesis', 'Butanoate metabolism', 'Folate metabolism', 'Nucleotide interconversion', 'Nucleotide salvage pathway', 'Purine synthesis', 'Phosphonate and phosphinate metabolism', 'Alanine and aspartate metabolism', 'Methionine and cysteine metabolism', 'Thiamine metabolism', 'Peptide metabolism', 'Starch and sucrose metabolism', 'Glutathione metabolism', 'Tryptophan metabolism', 'Glycine, serine, alanine, and threonine metabolism', 'Pyrimidine synthesis', 'Histidine metabolism', 'Respiration', 'Biotin metabolism', 'Pyrimidine catabolism', 'Nitrogen metabolism', 'Cell wall biosynthesis', 'Terpenoid backbone biosynthesis', 'Phenylalanine metabolism', 'Benzoate degradation', 'Wood-Ljungdahl Pathway', 'Heme synthesis', 'Tyrosine metabolism', 'Cholesterol metabolism', 'Exchange/demand reaction', 'Pentose phosphate pathway', 'Fructose and mannose metabolism', 'Vitamin B2 metabolism', 'Citric acid cycle', 'Nucleotide sugar metabolism', 'Galactose metabolism', 'Plant polysaccharide degradation', 'Glyoxylate and dicarboxylate metabolism', 'Glutamate metabolism', 'tRNA Charging', 'Tetrahydrobiopterin metabolism', 'Miscellaneous', 'Squalene and cholesterol synthesis', 'Lipopolysaccharide biosynthesis', 'NAD metabolism', 'Unassigned', 'Ubiquinone and other terpenoid-quinone biosynthesis', 'Aminophosphonate metabolism', 'Oxidative phosphorylation', 'Lipoate metabolism', 'Others', 'ROS detoxification', 'Sulfur metabolism', ''])"
      ]
     },
     "execution_count": 106,
     "metadata": {},
     "output_type": "execute_result"
    }
   ],
   "source": [
    "rxns_per_subsystem.keys()"
   ]
  },
  {
   "cell_type": "code",
   "execution_count": 161,
   "metadata": {},
   "outputs": [
    {
     "name": "stderr",
     "output_type": "stream",
     "text": [
      "/opt/miniconda3/envs/sampling/lib/python3.10/site-packages/numpy/lib/function_base.py:2897: RuntimeWarning:\n",
      "\n",
      "invalid value encountered in divide\n",
      "\n",
      "/opt/miniconda3/envs/sampling/lib/python3.10/site-packages/numpy/lib/function_base.py:2898: RuntimeWarning:\n",
      "\n",
      "invalid value encountered in divide\n",
      "\n"
     ]
    },
    {
     "data": {
      "application/vnd.plotly.v1+json": {
       "config": {
        "plotlyServerURL": "https://plot.ly"
       },
       "data": [
        {
         "coloraxis": "coloraxis",
         "hoverongaps": false,
         "hovertemplate": "x: %{x}<br>y: %{y}<br>color: %{z}<extra></extra>",
         "name": "0",
         "type": "heatmap",
         "x": [
          "6PHBG",
          "6PHBG2",
          "AB6PGH",
          "AB6PGH2",
          "ACCOAL2",
          "ACYP",
          "ALCD2x",
          "ALDD2x",
          "ALDD8x",
          "BGLA1",
          "ENO",
          "FBA",
          "FBP",
          "FRUK",
          "G6PI",
          "G6PI3",
          "GALM1r",
          "GAPD",
          "GLGC",
          "HEX1",
          "HEXb",
          "LDH_L",
          "PDHa",
          "PDHbr",
          "PDHc",
          "PFK",
          "PFK(ppi)",
          "PFK_2",
          "PGI",
          "PGK",
          "PGM",
          "PGMT",
          "PGMT2",
          "PPDK",
          "PYK",
          "TPI"
         ],
         "xaxis": "x",
         "xgap": 1,
         "y": [
          "6PHBG",
          "6PHBG2",
          "AB6PGH",
          "AB6PGH2",
          "ACCOAL2",
          "ACYP",
          "ALCD2x",
          "ALDD2x",
          "ALDD8x",
          "BGLA1",
          "ENO",
          "FBA",
          "FBP",
          "FRUK",
          "G6PI",
          "G6PI3",
          "GALM1r",
          "GAPD",
          "GLGC",
          "HEX1",
          "HEXb",
          "LDH_L",
          "PDHa",
          "PDHbr",
          "PDHc",
          "PFK",
          "PFK(ppi)",
          "PFK_2",
          "PGI",
          "PGK",
          "PGM",
          "PGMT",
          "PGMT2",
          "PPDK",
          "PYK",
          "TPI"
         ],
         "yaxis": "y",
         "ygap": 1,
         "z": [
          [
           1,
           null,
           null,
           null,
           null,
           null,
           null,
           null,
           null,
           null,
           null,
           null,
           null,
           null,
           null,
           null,
           null,
           null,
           null,
           null,
           null,
           null,
           null,
           null,
           null,
           null,
           null,
           null,
           null,
           null,
           null,
           null,
           null,
           null,
           null,
           null
          ],
          [
           0,
           1,
           null,
           null,
           null,
           null,
           null,
           null,
           null,
           null,
           null,
           null,
           null,
           null,
           null,
           null,
           null,
           null,
           null,
           null,
           null,
           null,
           null,
           null,
           null,
           null,
           null,
           null,
           null,
           null,
           null,
           null,
           null,
           null,
           null,
           null
          ],
          [
           0,
           -0.01580025116236588,
           1,
           null,
           null,
           null,
           null,
           null,
           null,
           null,
           null,
           null,
           null,
           null,
           null,
           null,
           null,
           null,
           null,
           null,
           null,
           null,
           null,
           null,
           null,
           null,
           null,
           null,
           null,
           null,
           null,
           null,
           null,
           null,
           null,
           null
          ],
          [
           -0.0010906203580320316,
           -0.016840199317854795,
           -0.046292485816015264,
           1,
           null,
           null,
           null,
           null,
           null,
           null,
           null,
           null,
           null,
           null,
           null,
           null,
           null,
           null,
           null,
           null,
           null,
           null,
           null,
           null,
           null,
           null,
           null,
           null,
           null,
           null,
           null,
           null,
           null,
           null,
           null,
           null
          ],
          [
           -0.027912790223850337,
           0.00648365662614418,
           0.0063132698033885664,
           -0.01663730337183995,
           1,
           null,
           null,
           null,
           null,
           null,
           null,
           null,
           null,
           null,
           null,
           null,
           null,
           null,
           null,
           null,
           null,
           null,
           null,
           null,
           null,
           null,
           null,
           null,
           null,
           null,
           null,
           null,
           null,
           null,
           null,
           null
          ],
          [
           -0.013657690898687564,
           -0.01555014855741143,
           0.015161051215007462,
           -0.040159490793308446,
           0.017815956831486603,
           1,
           null,
           null,
           null,
           null,
           null,
           null,
           null,
           null,
           null,
           null,
           null,
           null,
           null,
           null,
           null,
           null,
           null,
           null,
           null,
           null,
           null,
           null,
           null,
           null,
           null,
           null,
           null,
           null,
           null,
           null
          ],
          [
           -0.018102042913459935,
           -0.003987902249585138,
           -0.02554703807284678,
           0.011316735887908809,
           0.01356828292181745,
           0.02185687652327973,
           1,
           null,
           null,
           null,
           null,
           null,
           null,
           null,
           null,
           null,
           null,
           null,
           null,
           null,
           null,
           null,
           null,
           null,
           null,
           null,
           null,
           null,
           null,
           null,
           null,
           null,
           null,
           null,
           null,
           null
          ],
          [
           0.011841320976694662,
           -0.01044953390764009,
           0.012238116223403176,
           -0.03255230687796755,
           0.03485797892414638,
           -0.015446614830188048,
           0.054732909009393184,
           1,
           null,
           null,
           null,
           null,
           null,
           null,
           null,
           null,
           null,
           null,
           null,
           null,
           null,
           null,
           null,
           null,
           null,
           null,
           null,
           null,
           null,
           null,
           null,
           null,
           null,
           null,
           null,
           null
          ],
          [
           0.01738079258101058,
           -0.006977771354696678,
           -0.022269274046648243,
           -0.017356192920716846,
           -0.02711464022233874,
           -0.01270424396526756,
           0.004433432267289613,
           0.00677798036208456,
           1,
           null,
           null,
           null,
           null,
           null,
           null,
           null,
           null,
           null,
           null,
           null,
           null,
           null,
           null,
           null,
           null,
           null,
           null,
           null,
           null,
           null,
           null,
           null,
           null,
           null,
           null,
           null
          ],
          [
           0,
           0,
           0,
           0,
           0,
           0,
           0,
           0,
           0,
           1,
           null,
           null,
           null,
           null,
           null,
           null,
           null,
           null,
           null,
           null,
           null,
           null,
           null,
           null,
           null,
           null,
           null,
           null,
           null,
           null,
           null,
           null,
           null,
           null,
           null,
           null
          ],
          [
           0.015813041020056814,
           0.017369262882979353,
           -0.0459727159739782,
           0.0008611811866014954,
           -0.029577354336145778,
           0.0035184067859120676,
           -0.008307158414171128,
           -0.006511879010247605,
           0.08429369835859397,
           0,
           1,
           null,
           null,
           null,
           null,
           null,
           null,
           null,
           null,
           null,
           null,
           null,
           null,
           null,
           null,
           null,
           null,
           null,
           null,
           null,
           null,
           null,
           null,
           null,
           null,
           null
          ],
          [
           -0.021159805815636902,
           0.01561650153995879,
           0.03423464275230815,
           0.035926907797420776,
           -0.011624234935600868,
           0.017851641039314463,
           0.006748630150526202,
           0.02905374293915626,
           -0.15531960365260344,
           0,
           0.03405797133646328,
           1,
           null,
           null,
           null,
           null,
           null,
           null,
           null,
           null,
           null,
           null,
           null,
           null,
           null,
           null,
           null,
           null,
           null,
           null,
           null,
           null,
           null,
           null,
           null,
           null
          ],
          [
           -0.0011676671666581717,
           0.01650120183249355,
           -0.022140088901838755,
           0.0006045139519380005,
           0.011105510325306255,
           0.023745409714982315,
           0.010195537803392418,
           0.011498086579544453,
           -0.025940430508316677,
           0,
           0.0582819586259461,
           0.012526751469228978,
           1,
           null,
           null,
           null,
           null,
           null,
           null,
           null,
           null,
           null,
           null,
           null,
           null,
           null,
           null,
           null,
           null,
           null,
           null,
           null,
           null,
           null,
           null,
           null
          ],
          [
           -0.013776781322257852,
           -0.0022967447271536774,
           0.0026080970447959454,
           -0.01800550358076627,
           0.015469856618703546,
           -0.04450041280128784,
           0.01385804564550026,
           -0.01136146639599971,
           -0.00007271798372242902,
           0,
           -0.02415852422878762,
           0.011860054751143535,
           -0.019844629317394624,
           1,
           null,
           null,
           null,
           null,
           null,
           null,
           null,
           null,
           null,
           null,
           null,
           null,
           null,
           null,
           null,
           null,
           null,
           null,
           null,
           null,
           null,
           null
          ],
          [
           0.015369859559749798,
           -0.01912927402967557,
           0.010098795900228243,
           -0.0017196583866422755,
           -0.012225714486690896,
           0.03381788707202321,
           -0.0017479125137428296,
           -0.008487676895722867,
           -0.03036230165376497,
           0,
           -0.0019226114268221953,
           -0.011588476936167201,
           0.026137780062743234,
           0.042939916354498564,
           1,
           null,
           null,
           null,
           null,
           null,
           null,
           null,
           null,
           null,
           null,
           null,
           null,
           null,
           null,
           null,
           null,
           null,
           null,
           null,
           null,
           null
          ],
          [
           0.022197703704325205,
           -0.025914059978573923,
           0.00480575927501176,
           -0.00038075868377344783,
           -0.008954015737481958,
           0.026435722329068496,
           0.003944277754896826,
           -0.014159667624648811,
           -0.02565609523428237,
           0,
           -0.0005000301423694341,
           -0.013509571895964198,
           0.02034697110714201,
           0.04761714585899414,
           0.9712346509185475,
           1,
           null,
           null,
           null,
           null,
           null,
           null,
           null,
           null,
           null,
           null,
           null,
           null,
           null,
           null,
           null,
           null,
           null,
           null,
           null,
           null
          ],
          [
           -0.018298721237811223,
           -0.0024326307065971253,
           0.014092720680272876,
           -0.027169104787703787,
           -0.026650147049116737,
           0.020771673405857168,
           -0.029019082392541893,
           -0.01664466862483153,
           -0.024029823591674132,
           0,
           0.0060013168139720595,
           0.014545344015309923,
           0.01296042964982308,
           -0.018553827966354835,
           0.13601445183295696,
           -0.03490314423419873,
           1,
           null,
           null,
           null,
           null,
           null,
           null,
           null,
           null,
           null,
           null,
           null,
           null,
           null,
           null,
           null,
           null,
           null,
           null,
           null
          ],
          [
           0.007554893810256524,
           0.0070019508594171475,
           0.018608224120033268,
           0.023688833703268644,
           -0.00587948565269445,
           0.03075658789502178,
           -0.002267831658004886,
           -0.004014004869804664,
           -0.22289171587503856,
           0,
           0.25641123159464857,
           0.23218661732277512,
           0.013280087294492867,
           -0.0023902006818965053,
           -0.011829742609654253,
           -0.008973273590943106,
           0.015584705615933073,
           1,
           null,
           null,
           null,
           null,
           null,
           null,
           null,
           null,
           null,
           null,
           null,
           null,
           null,
           null,
           null,
           null,
           null,
           null
          ],
          [
           0.018261617091772254,
           0.01928849451061392,
           0.011840921922992192,
           0.042969889575852925,
           -0.015949959296354475,
           0.04247013761232061,
           -0.01668728094442782,
           0.039844263353026266,
           -0.0422507006455291,
           0,
           0.011135804586244443,
           0.47009657910797975,
           0.3634588736329369,
           -0.3341148781149788,
           -0.007987538550727086,
           -0.00993104404375425,
           0.008180229591150064,
           0.10907146378876789,
           1,
           null,
           null,
           null,
           null,
           null,
           null,
           null,
           null,
           null,
           null,
           null,
           null,
           null,
           null,
           null,
           null,
           null
          ],
          [
           -0.018298737967533427,
           -0.0024326473827511325,
           0.014092703157773546,
           -0.027169120434336887,
           -0.026650147045259347,
           0.02077167333953586,
           -0.02901908209080965,
           -0.01664466875664531,
           -0.024029824304009198,
           0,
           0.006001317198320185,
           0.014545344851645098,
           0.012960429888716807,
           -0.018553830155183047,
           0.13601445231396114,
           -0.03490314341713405,
           0.9999999999999992,
           0.015584705555729295,
           0.0081802300433816,
           1,
           null,
           null,
           null,
           null,
           null,
           null,
           null,
           null,
           null,
           null,
           null,
           null,
           null,
           null,
           null,
           null
          ],
          [
           0.018298721237811254,
           0.0024326307065971565,
           -0.01409272068027294,
           0.027169104787703777,
           0.026650147049116783,
           -0.020771673405857175,
           0.02901908239254178,
           0.016644668624831566,
           0.024029823591674167,
           0,
           -0.006001316813972056,
           -0.014545344015309937,
           -0.012960429649823057,
           0.0185538279663548,
           -0.13601445183295768,
           0.03490314423419794,
           -1,
           -0.015584705615933081,
           -0.008180229591150038,
           -0.999999999999999,
           1,
           null,
           null,
           null,
           null,
           null,
           null,
           null,
           null,
           null,
           null,
           null,
           null,
           null,
           null,
           null
          ],
          [
           0.004137983723012283,
           0.013423175684355027,
           0.02043198084831769,
           0.042389508771771396,
           -0.015123912539664915,
           0.004421619188820292,
           -0.23938968293593407,
           -0.0500372675605477,
           -0.006938390038953566,
           0,
           -0.00526271041297768,
           -0.012483873624172664,
           -0.013376067188438843,
           -0.015305509872382718,
           0.02548931747207682,
           0.030904025725328955,
           -0.026101480831059783,
           0.005439811904192876,
           0.006067147868437623,
           -0.02610148228713922,
           0.0261014808310597,
           1,
           null,
           null,
           null,
           null,
           null,
           null,
           null,
           null,
           null,
           null,
           null,
           null,
           null,
           null
          ],
          [
           0.018608762340980255,
           0.006227065937382134,
           -0.007941555550162073,
           0.0042739342649775825,
           -0.0024571039317016576,
           -0.005024590278629213,
           -0.015400447709946297,
           0.004224152368558536,
           -0.02502933204343828,
           0,
           0.015229153300719302,
           -0.0012585848894922978,
           0.014826611718168339,
           0.002651505276195052,
           -0.03730954122186428,
           -0.026937305660178563,
           -0.03865433504981346,
           -0.0024868342150397124,
           -0.00921352785752076,
           -0.038654335229454356,
           0.03865433504981386,
           0.009405770099227476,
           1,
           null,
           null,
           null,
           null,
           null,
           null,
           null,
           null,
           null,
           null,
           null,
           null,
           null
          ],
          [
           0.015443216522147689,
           0.013733393669138822,
           0.005191905976583311,
           -0.007494659532820894,
           0.01563560975623841,
           0.001050484743170894,
           -0.006352405965572142,
           -0.011120468202042048,
           -0.0228701417712457,
           0,
           -0.010539625384327615,
           0.029426824925498665,
           -0.01791455439878784,
           0.03255396299022289,
           0.0051816871712468135,
           0.005450373256363781,
           0.01819857527808307,
           0.02605412764605609,
           0.019123511927241165,
           0.01819857352287669,
           -0.018198575278083055,
           0.005586865085656194,
           -0.002776923370684015,
           1,
           null,
           null,
           null,
           null,
           null,
           null,
           null,
           null,
           null,
           null,
           null,
           null
          ],
          [
           0.015443210773039326,
           0.013733381078756497,
           0.005191904156930878,
           -0.00749465263265392,
           0.015635581796881827,
           0.0010504895503947243,
           -0.006352409066806034,
           -0.011120451693585458,
           -0.022870162007437217,
           0,
           -0.010539618033626982,
           0.02942682780658394,
           -0.01791455858763272,
           0.032553963906692115,
           0.005181701949826059,
           0.005450385725012511,
           0.018198586443940346,
           0.02605413223984046,
           0.019123512717908738,
           0.018198584688734,
           -0.018198586443940356,
           0.005586900771950134,
           -0.0027769324050353874,
           0.9999999999998606,
           1,
           null,
           null,
           null,
           null,
           null,
           null,
           null,
           null,
           null,
           null,
           null
          ],
          [
           -0.016672297340393927,
           0.002298027673442407,
           -0.0012509865245606832,
           0.01829032929754362,
           -0.010689494525607439,
           0.0028853405646450305,
           -0.002103876231405306,
           0.005183004069494776,
           0.009923436442274046,
           0,
           0.059698595637735906,
           0.040415198168662986,
           -0.013032623806913625,
           -0.0423547594121842,
           0.03389281160229382,
           0.03106835207325907,
           0.013562324147879596,
           0.01788075996040828,
           -0.29346843804536266,
           0.013562324399030141,
           -0.01356232414787969,
           0.014380042672669716,
           -0.017639255049603706,
           -0.008005422300518908,
           -0.008005418365215957,
           1,
           null,
           null,
           null,
           null,
           null,
           null,
           null,
           null,
           null,
           null
          ],
          [
           -0.0011677364665916789,
           0.017675454520792923,
           0.012421078469873078,
           0.024052149529477557,
           -0.004943233549538227,
           0.040713767649255446,
           0.0038077357230337085,
           0.027137303148306355,
           -0.11918393264783708,
           0,
           0.03270035094346722,
           0.6481280063349596,
           0.46409695658284733,
           -0.4232004806512432,
           -0.030073863982380034,
           -0.03472433235310314,
           0.01759936195032813,
           0.15358244266727838,
           0.7501553526988872,
           0.017599363466973918,
           -0.017599361950328102,
           -0.01380740376997313,
           0.0123186508418856,
           0.0008587485788834107,
           0.0008587465076598458,
           -0.4014294399978329,
           1,
           null,
           null,
           null,
           null,
           null,
           null,
           null,
           null,
           null
          ],
          [
           0,
           0,
           0,
           0,
           0,
           0,
           0,
           0,
           0,
           0,
           0,
           0,
           0,
           0,
           0,
           0,
           0,
           0,
           0,
           0,
           0,
           0,
           0,
           0,
           0,
           0,
           0,
           1,
           null,
           null,
           null,
           null,
           null,
           null,
           null,
           null
          ],
          [
           -0.02219770367987115,
           0.025914059992670758,
           -0.004805759248648862,
           0.0003807586949325331,
           0.008954015731703421,
           -0.026435722293910113,
           -0.003944277757249171,
           0.014159667619868485,
           0.025656095080648783,
           0,
           0.000500030181842965,
           0.01350957236401532,
           -0.020346971098678248,
           -0.04761714639225882,
           -0.971234650918767,
           -1,
           0.03490314425505291,
           0.008973273769494175,
           0.009931044398964394,
           0.03490314343798827,
           -0.03490314425505212,
           -0.03090402570486645,
           0.02693730567101908,
           -0.005450373263975292,
           -0.005450385732623966,
           -0.031068352033684174,
           0.03472433288612492,
           0,
           1,
           null,
           null,
           null,
           null,
           null,
           null,
           null
          ],
          [
           -0.015003063146604012,
           -0.01587836092033641,
           -0.0036536315342829114,
           -0.04522449083100395,
           0.016580150108347697,
           0.6592249741411741,
           0.016620420117002696,
           -0.007520451489469892,
           0.15901292719319882,
           0,
           -0.19049781348548603,
           -0.16249309500690076,
           0.006212355414178857,
           -0.028567277075141957,
           0.03197572883308322,
           0.024789479948583167,
           0.0024493749514607815,
           -0.7313145117595079,
           -0.05307458813552817,
           0.002449374951496309,
           -0.002449374951460807,
           -0.0010754599778137835,
           -0.0015574156559532,
           -0.018883750482920233,
           -0.018883750658372365,
           -0.01148284240786838,
           -0.08775878731086716,
           0,
           -0.024789480058916593,
           1,
           null,
           null,
           null,
           null,
           null,
           null
          ],
          [
           -0.015813095307642897,
           -0.01736928309518781,
           0.04597276118348499,
           -0.0008612285942134858,
           0.029577504100026613,
           -0.0035185141154673288,
           0.008307210991420417,
           0.006511974975383122,
           -0.08429373141306519,
           0,
           -0.9999999999939567,
           -0.0340578176238385,
           -0.058281903758563944,
           0.02415857244066184,
           0.0019223967315253271,
           0.0004998056414720048,
           -0.00600120766166665,
           -0.2564112244605308,
           -0.011135731215467279,
           -0.006001208046013415,
           0.006001207661666613,
           0.005262782271215772,
           -0.015229133069786273,
           0.010539637726186721,
           0.01053963037561017,
           -0.05969861364969785,
           -0.0327002377262661,
           0,
           -0.0004998056809455908,
           0.1904977348807233,
           1,
           null,
           null,
           null,
           null,
           null
          ],
          [
           -0.041003716933239294,
           -0.02580633428460288,
           -0.02901704093606574,
           0.009336034515752212,
           -0.013107689086138052,
           -0.025456436411832924,
           -0.05294987259326895,
           0.01070607187268594,
           0.00313022647838731,
           0,
           0.0057395393105572085,
           0.015162581048538838,
           -0.013524109521152758,
           -0.008892330493369849,
           0.0053691689136471776,
           0.006373372230282558,
           -0.0026466856760300377,
           -0.012309579004557668,
           0.03633152067494896,
           -0.002646686323821932,
           0.0026466856760300993,
           0.000716770904694811,
           0.016911924890563635,
           -0.03592530226689653,
           -0.03592531645431897,
           0.009985404113951261,
           0.0036411927658944764,
           0,
           -0.006373372309251578,
           -0.008110097561440396,
           -0.005739587003446149,
           1,
           null,
           null,
           null,
           null
          ],
          [
           0.01885918741173232,
           -0.03906664716772435,
           -0.018187406353457402,
           -0.01950053598335018,
           -0.006030723948693955,
           -0.027345498101678092,
           0.004043113106399216,
           -0.048680198465490744,
           0.00786749114143345,
           0,
           0.014703579964639576,
           0.0053819937997441475,
           -0.02477425311688248,
           0.0016931692668150033,
           -0.18761807163320657,
           -0.020733555344966962,
           -0.003937889540435615,
           0.03437047043319745,
           -0.0017805846441206,
           -0.0039378876541589225,
           0.003937889540435438,
           0.001088127876583048,
           0.027195429015714853,
           0.019231258241002813,
           0.01923125376066439,
           -0.008066905762114255,
           -0.004536188281057294,
           0,
           0.020733555367462946,
           -0.04451662157659355,
           -0.014703492501262527,
           0.0023285024742744874,
           1,
           null,
           null,
           null
          ],
          [
           0.010825167087487047,
           0.03140074564304966,
           0.002163726019793589,
           -0.02513808094394769,
           -0.009021074734691638,
           0.031308401090792706,
           -0.002929883130455681,
           -0.01310582366042393,
           -0.044435609451349695,
           0,
           0.03629204391814823,
           0.0465438741243758,
           -0.0012548607420295424,
           0.010640104528431737,
           -0.008633514199295457,
           -0.011057339291936905,
           0.012058203073666476,
           0.006701043680622263,
           -0.3209539338389681,
           0.012058203343298058,
           -0.012058203073666432,
           -0.007591946850876275,
           -0.00293727978542205,
           -0.014654265477660345,
           -0.014654281926066479,
           -0.01512215778143422,
           0.03240914925721765,
           0,
           0.01105733932062989,
           0.01632248484966106,
           -0.036292109290830155,
           -0.022781501124830506,
           -0.000545168272664435,
           1,
           null,
           null
          ],
          [
           -0.004859411133354061,
           -0.002957474345671153,
           0.0180641673397509,
           -0.00005471069428130579,
           0.035895198454551934,
           -0.011054556538944603,
           -0.05187347092869148,
           0.028246349167957315,
           0.016405932849393387,
           0,
           0.004240824800726382,
           0.014532235422002247,
           0.00006384931654999109,
           0.0017914709875329604,
           -0.023024085124190703,
           0.0008502242938404437,
           -0.005040162660426425,
           0.004359262886075456,
           -0.007280845032240743,
           -0.005040162941862694,
           0.005040162660426687,
           0.010051246743093881,
           0.04577144640029183,
           0.012477574431220327,
           0.01247753346946023,
           -0.005204332318217908,
           0.011208163695425403,
           0,
           -0.0008502242909096908,
           -0.010822642512683724,
           -0.004240612987727407,
           -0.0108790208680287,
           0.1379106564077253,
           0.030546246664953824,
           1,
           null
          ],
          [
           -0.007410175854701385,
           -0.005212810418575797,
           -0.029134767698957932,
           -0.005760307665859229,
           0.00028061656337014,
           0.009814422605743799,
           0.003225714388310915,
           -0.0018552481344570966,
           0.14631929855317563,
           0,
           0.07672260013910966,
           -0.49333344568341925,
           -0.008066606473655067,
           0.009529146510478625,
           -0.0023711286965879333,
           -0.001165133906411716,
           -0.015849565860643778,
           0.17969071484232194,
           -0.21215854715927138,
           -0.015849566023189775,
           0.01584956586064376,
           -0.01820911644023433,
           -0.03496856585844097,
           0.0032948445846443593,
           0.003294836679808862,
           -0.00894099123413082,
           -0.33221143484558235,
           0,
           0.0011651334168690736,
           -0.12848460211548532,
           -0.07672269510330991,
           -0.010256949992706777,
           -0.008679090968188178,
           -0.022655329602045703,
           -0.005314889361080635,
           1
          ]
         ]
        }
       ],
       "layout": {
        "coloraxis": {
         "cmax": 1,
         "cmin": -1,
         "colorscale": [
          [
           0,
           "#d73027"
          ],
          [
           0.5,
           "#f7f7f7"
          ],
          [
           1,
           "#4575b4"
          ]
         ]
        },
        "height": 900,
        "margin": {
         "t": 60
        },
        "plot_bgcolor": "rgba(0,0,0,0)",
        "template": {
         "data": {
          "bar": [
           {
            "error_x": {
             "color": "#2a3f5f"
            },
            "error_y": {
             "color": "#2a3f5f"
            },
            "marker": {
             "line": {
              "color": "#E5ECF6",
              "width": 0.5
             },
             "pattern": {
              "fillmode": "overlay",
              "size": 10,
              "solidity": 0.2
             }
            },
            "type": "bar"
           }
          ],
          "barpolar": [
           {
            "marker": {
             "line": {
              "color": "#E5ECF6",
              "width": 0.5
             },
             "pattern": {
              "fillmode": "overlay",
              "size": 10,
              "solidity": 0.2
             }
            },
            "type": "barpolar"
           }
          ],
          "carpet": [
           {
            "aaxis": {
             "endlinecolor": "#2a3f5f",
             "gridcolor": "white",
             "linecolor": "white",
             "minorgridcolor": "white",
             "startlinecolor": "#2a3f5f"
            },
            "baxis": {
             "endlinecolor": "#2a3f5f",
             "gridcolor": "white",
             "linecolor": "white",
             "minorgridcolor": "white",
             "startlinecolor": "#2a3f5f"
            },
            "type": "carpet"
           }
          ],
          "choropleth": [
           {
            "colorbar": {
             "outlinewidth": 0,
             "ticks": ""
            },
            "type": "choropleth"
           }
          ],
          "contour": [
           {
            "colorbar": {
             "outlinewidth": 0,
             "ticks": ""
            },
            "colorscale": [
             [
              0,
              "#0d0887"
             ],
             [
              0.1111111111111111,
              "#46039f"
             ],
             [
              0.2222222222222222,
              "#7201a8"
             ],
             [
              0.3333333333333333,
              "#9c179e"
             ],
             [
              0.4444444444444444,
              "#bd3786"
             ],
             [
              0.5555555555555556,
              "#d8576b"
             ],
             [
              0.6666666666666666,
              "#ed7953"
             ],
             [
              0.7777777777777778,
              "#fb9f3a"
             ],
             [
              0.8888888888888888,
              "#fdca26"
             ],
             [
              1,
              "#f0f921"
             ]
            ],
            "type": "contour"
           }
          ],
          "contourcarpet": [
           {
            "colorbar": {
             "outlinewidth": 0,
             "ticks": ""
            },
            "type": "contourcarpet"
           }
          ],
          "heatmap": [
           {
            "colorbar": {
             "outlinewidth": 0,
             "ticks": ""
            },
            "colorscale": [
             [
              0,
              "#0d0887"
             ],
             [
              0.1111111111111111,
              "#46039f"
             ],
             [
              0.2222222222222222,
              "#7201a8"
             ],
             [
              0.3333333333333333,
              "#9c179e"
             ],
             [
              0.4444444444444444,
              "#bd3786"
             ],
             [
              0.5555555555555556,
              "#d8576b"
             ],
             [
              0.6666666666666666,
              "#ed7953"
             ],
             [
              0.7777777777777778,
              "#fb9f3a"
             ],
             [
              0.8888888888888888,
              "#fdca26"
             ],
             [
              1,
              "#f0f921"
             ]
            ],
            "type": "heatmap"
           }
          ],
          "heatmapgl": [
           {
            "colorbar": {
             "outlinewidth": 0,
             "ticks": ""
            },
            "colorscale": [
             [
              0,
              "#0d0887"
             ],
             [
              0.1111111111111111,
              "#46039f"
             ],
             [
              0.2222222222222222,
              "#7201a8"
             ],
             [
              0.3333333333333333,
              "#9c179e"
             ],
             [
              0.4444444444444444,
              "#bd3786"
             ],
             [
              0.5555555555555556,
              "#d8576b"
             ],
             [
              0.6666666666666666,
              "#ed7953"
             ],
             [
              0.7777777777777778,
              "#fb9f3a"
             ],
             [
              0.8888888888888888,
              "#fdca26"
             ],
             [
              1,
              "#f0f921"
             ]
            ],
            "type": "heatmapgl"
           }
          ],
          "histogram": [
           {
            "marker": {
             "pattern": {
              "fillmode": "overlay",
              "size": 10,
              "solidity": 0.2
             }
            },
            "type": "histogram"
           }
          ],
          "histogram2d": [
           {
            "colorbar": {
             "outlinewidth": 0,
             "ticks": ""
            },
            "colorscale": [
             [
              0,
              "#0d0887"
             ],
             [
              0.1111111111111111,
              "#46039f"
             ],
             [
              0.2222222222222222,
              "#7201a8"
             ],
             [
              0.3333333333333333,
              "#9c179e"
             ],
             [
              0.4444444444444444,
              "#bd3786"
             ],
             [
              0.5555555555555556,
              "#d8576b"
             ],
             [
              0.6666666666666666,
              "#ed7953"
             ],
             [
              0.7777777777777778,
              "#fb9f3a"
             ],
             [
              0.8888888888888888,
              "#fdca26"
             ],
             [
              1,
              "#f0f921"
             ]
            ],
            "type": "histogram2d"
           }
          ],
          "histogram2dcontour": [
           {
            "colorbar": {
             "outlinewidth": 0,
             "ticks": ""
            },
            "colorscale": [
             [
              0,
              "#0d0887"
             ],
             [
              0.1111111111111111,
              "#46039f"
             ],
             [
              0.2222222222222222,
              "#7201a8"
             ],
             [
              0.3333333333333333,
              "#9c179e"
             ],
             [
              0.4444444444444444,
              "#bd3786"
             ],
             [
              0.5555555555555556,
              "#d8576b"
             ],
             [
              0.6666666666666666,
              "#ed7953"
             ],
             [
              0.7777777777777778,
              "#fb9f3a"
             ],
             [
              0.8888888888888888,
              "#fdca26"
             ],
             [
              1,
              "#f0f921"
             ]
            ],
            "type": "histogram2dcontour"
           }
          ],
          "mesh3d": [
           {
            "colorbar": {
             "outlinewidth": 0,
             "ticks": ""
            },
            "type": "mesh3d"
           }
          ],
          "parcoords": [
           {
            "line": {
             "colorbar": {
              "outlinewidth": 0,
              "ticks": ""
             }
            },
            "type": "parcoords"
           }
          ],
          "pie": [
           {
            "automargin": true,
            "type": "pie"
           }
          ],
          "scatter": [
           {
            "fillpattern": {
             "fillmode": "overlay",
             "size": 10,
             "solidity": 0.2
            },
            "type": "scatter"
           }
          ],
          "scatter3d": [
           {
            "line": {
             "colorbar": {
              "outlinewidth": 0,
              "ticks": ""
             }
            },
            "marker": {
             "colorbar": {
              "outlinewidth": 0,
              "ticks": ""
             }
            },
            "type": "scatter3d"
           }
          ],
          "scattercarpet": [
           {
            "marker": {
             "colorbar": {
              "outlinewidth": 0,
              "ticks": ""
             }
            },
            "type": "scattercarpet"
           }
          ],
          "scattergeo": [
           {
            "marker": {
             "colorbar": {
              "outlinewidth": 0,
              "ticks": ""
             }
            },
            "type": "scattergeo"
           }
          ],
          "scattergl": [
           {
            "marker": {
             "colorbar": {
              "outlinewidth": 0,
              "ticks": ""
             }
            },
            "type": "scattergl"
           }
          ],
          "scattermapbox": [
           {
            "marker": {
             "colorbar": {
              "outlinewidth": 0,
              "ticks": ""
             }
            },
            "type": "scattermapbox"
           }
          ],
          "scatterpolar": [
           {
            "marker": {
             "colorbar": {
              "outlinewidth": 0,
              "ticks": ""
             }
            },
            "type": "scatterpolar"
           }
          ],
          "scatterpolargl": [
           {
            "marker": {
             "colorbar": {
              "outlinewidth": 0,
              "ticks": ""
             }
            },
            "type": "scatterpolargl"
           }
          ],
          "scatterternary": [
           {
            "marker": {
             "colorbar": {
              "outlinewidth": 0,
              "ticks": ""
             }
            },
            "type": "scatterternary"
           }
          ],
          "surface": [
           {
            "colorbar": {
             "outlinewidth": 0,
             "ticks": ""
            },
            "colorscale": [
             [
              0,
              "#0d0887"
             ],
             [
              0.1111111111111111,
              "#46039f"
             ],
             [
              0.2222222222222222,
              "#7201a8"
             ],
             [
              0.3333333333333333,
              "#9c179e"
             ],
             [
              0.4444444444444444,
              "#bd3786"
             ],
             [
              0.5555555555555556,
              "#d8576b"
             ],
             [
              0.6666666666666666,
              "#ed7953"
             ],
             [
              0.7777777777777778,
              "#fb9f3a"
             ],
             [
              0.8888888888888888,
              "#fdca26"
             ],
             [
              1,
              "#f0f921"
             ]
            ],
            "type": "surface"
           }
          ],
          "table": [
           {
            "cells": {
             "fill": {
              "color": "#EBF0F8"
             },
             "line": {
              "color": "white"
             }
            },
            "header": {
             "fill": {
              "color": "#C8D4E3"
             },
             "line": {
              "color": "white"
             }
            },
            "type": "table"
           }
          ]
         },
         "layout": {
          "annotationdefaults": {
           "arrowcolor": "#2a3f5f",
           "arrowhead": 0,
           "arrowwidth": 1
          },
          "autotypenumbers": "strict",
          "coloraxis": {
           "colorbar": {
            "outlinewidth": 0,
            "ticks": ""
           }
          },
          "colorscale": {
           "diverging": [
            [
             0,
             "#8e0152"
            ],
            [
             0.1,
             "#c51b7d"
            ],
            [
             0.2,
             "#de77ae"
            ],
            [
             0.3,
             "#f1b6da"
            ],
            [
             0.4,
             "#fde0ef"
            ],
            [
             0.5,
             "#f7f7f7"
            ],
            [
             0.6,
             "#e6f5d0"
            ],
            [
             0.7,
             "#b8e186"
            ],
            [
             0.8,
             "#7fbc41"
            ],
            [
             0.9,
             "#4d9221"
            ],
            [
             1,
             "#276419"
            ]
           ],
           "sequential": [
            [
             0,
             "#0d0887"
            ],
            [
             0.1111111111111111,
             "#46039f"
            ],
            [
             0.2222222222222222,
             "#7201a8"
            ],
            [
             0.3333333333333333,
             "#9c179e"
            ],
            [
             0.4444444444444444,
             "#bd3786"
            ],
            [
             0.5555555555555556,
             "#d8576b"
            ],
            [
             0.6666666666666666,
             "#ed7953"
            ],
            [
             0.7777777777777778,
             "#fb9f3a"
            ],
            [
             0.8888888888888888,
             "#fdca26"
            ],
            [
             1,
             "#f0f921"
            ]
           ],
           "sequentialminus": [
            [
             0,
             "#0d0887"
            ],
            [
             0.1111111111111111,
             "#46039f"
            ],
            [
             0.2222222222222222,
             "#7201a8"
            ],
            [
             0.3333333333333333,
             "#9c179e"
            ],
            [
             0.4444444444444444,
             "#bd3786"
            ],
            [
             0.5555555555555556,
             "#d8576b"
            ],
            [
             0.6666666666666666,
             "#ed7953"
            ],
            [
             0.7777777777777778,
             "#fb9f3a"
            ],
            [
             0.8888888888888888,
             "#fdca26"
            ],
            [
             1,
             "#f0f921"
            ]
           ]
          },
          "colorway": [
           "#636efa",
           "#EF553B",
           "#00cc96",
           "#ab63fa",
           "#FFA15A",
           "#19d3f3",
           "#FF6692",
           "#B6E880",
           "#FF97FF",
           "#FECB52"
          ],
          "font": {
           "color": "#2a3f5f"
          },
          "geo": {
           "bgcolor": "white",
           "lakecolor": "white",
           "landcolor": "#E5ECF6",
           "showlakes": true,
           "showland": true,
           "subunitcolor": "white"
          },
          "hoverlabel": {
           "align": "left"
          },
          "hovermode": "closest",
          "mapbox": {
           "style": "light"
          },
          "paper_bgcolor": "white",
          "plot_bgcolor": "#E5ECF6",
          "polar": {
           "angularaxis": {
            "gridcolor": "white",
            "linecolor": "white",
            "ticks": ""
           },
           "bgcolor": "#E5ECF6",
           "radialaxis": {
            "gridcolor": "white",
            "linecolor": "white",
            "ticks": ""
           }
          },
          "scene": {
           "xaxis": {
            "backgroundcolor": "#E5ECF6",
            "gridcolor": "white",
            "gridwidth": 2,
            "linecolor": "white",
            "showbackground": true,
            "ticks": "",
            "zerolinecolor": "white"
           },
           "yaxis": {
            "backgroundcolor": "#E5ECF6",
            "gridcolor": "white",
            "gridwidth": 2,
            "linecolor": "white",
            "showbackground": true,
            "ticks": "",
            "zerolinecolor": "white"
           },
           "zaxis": {
            "backgroundcolor": "#E5ECF6",
            "gridcolor": "white",
            "gridwidth": 2,
            "linecolor": "white",
            "showbackground": true,
            "ticks": "",
            "zerolinecolor": "white"
           }
          },
          "shapedefaults": {
           "line": {
            "color": "#2a3f5f"
           }
          },
          "ternary": {
           "aaxis": {
            "gridcolor": "white",
            "linecolor": "white",
            "ticks": ""
           },
           "baxis": {
            "gridcolor": "white",
            "linecolor": "white",
            "ticks": ""
           },
           "bgcolor": "#E5ECF6",
           "caxis": {
            "gridcolor": "white",
            "linecolor": "white",
            "ticks": ""
           }
          },
          "title": {
           "x": 0.05
          },
          "xaxis": {
           "automargin": true,
           "gridcolor": "white",
           "linecolor": "white",
           "ticks": "",
           "title": {
            "standoff": 15
           },
           "zerolinecolor": "white",
           "zerolinewidth": 2
          },
          "yaxis": {
           "automargin": true,
           "gridcolor": "white",
           "linecolor": "white",
           "ticks": "",
           "title": {
            "standoff": 15
           },
           "zerolinecolor": "white",
           "zerolinewidth": 2
          }
         }
        },
        "title": {
         "font": {
          "size": 20
         },
         "text": "Correlation Matrix of Reactions: Glycolysis/gluconeogenesis",
         "x": 0.5
        },
        "width": 900,
        "xaxis": {
         "anchor": "y",
         "constrain": "domain",
         "domain": [
          0,
          1
         ],
         "scaleanchor": "y",
         "tickfont": {
          "size": 10
         }
        },
        "yaxis": {
         "anchor": "x",
         "autorange": "reversed",
         "constrain": "domain",
         "domain": [
          0,
          1
         ],
         "tickfont": {
          "size": 10
         }
        }
       }
      }
     },
     "metadata": {},
     "output_type": "display_data"
    },
    {
     "name": "stderr",
     "output_type": "stream",
     "text": [
      "/opt/miniconda3/envs/sampling/lib/python3.10/site-packages/numpy/lib/function_base.py:2897: RuntimeWarning:\n",
      "\n",
      "invalid value encountered in divide\n",
      "\n",
      "/opt/miniconda3/envs/sampling/lib/python3.10/site-packages/numpy/lib/function_base.py:2898: RuntimeWarning:\n",
      "\n",
      "invalid value encountered in divide\n",
      "\n"
     ]
    },
    {
     "data": {
      "application/vnd.plotly.v1+json": {
       "config": {
        "plotlyServerURL": "https://plot.ly"
       },
       "data": [
        {
         "coloraxis": "coloraxis",
         "hoverongaps": false,
         "hovertemplate": "x: %{x}<br>y: %{y}<br>color: %{z}<extra></extra>",
         "name": "0",
         "type": "heatmap",
         "x": [
          "6PHBG",
          "6PHBG2",
          "AB6PGH",
          "AB6PGH2",
          "ACCOAL2",
          "ACYP",
          "ALCD2x",
          "ALDD2x",
          "ALDD8x",
          "BGLA1",
          "ENO",
          "FBA",
          "FBP",
          "FRUK",
          "G6PI",
          "G6PI3",
          "GALM1r",
          "GAPD",
          "GLGC",
          "HEX1",
          "HEXb",
          "LDH_L",
          "PDHa",
          "PDHbr",
          "PDHc",
          "PFK",
          "PFK(ppi)",
          "PFK_2",
          "PGI",
          "PGK",
          "PGM",
          "PGMT",
          "PGMT2",
          "PPDK",
          "PYK",
          "TPI"
         ],
         "xaxis": "x",
         "xgap": 1,
         "y": [
          "6PHBG",
          "6PHBG2",
          "AB6PGH",
          "AB6PGH2",
          "ACCOAL2",
          "ACYP",
          "ALCD2x",
          "ALDD2x",
          "ALDD8x",
          "BGLA1",
          "ENO",
          "FBA",
          "FBP",
          "FRUK",
          "G6PI",
          "G6PI3",
          "GALM1r",
          "GAPD",
          "GLGC",
          "HEX1",
          "HEXb",
          "LDH_L",
          "PDHa",
          "PDHbr",
          "PDHc",
          "PFK",
          "PFK(ppi)",
          "PFK_2",
          "PGI",
          "PGK",
          "PGM",
          "PGMT",
          "PGMT2",
          "PPDK",
          "PYK",
          "TPI"
         ],
         "yaxis": "y",
         "ygap": 1,
         "z": [
          [
           1,
           null,
           null,
           null,
           null,
           null,
           null,
           null,
           null,
           null,
           null,
           null,
           null,
           null,
           null,
           null,
           null,
           null,
           null,
           null,
           null,
           null,
           null,
           null,
           null,
           null,
           null,
           null,
           null,
           null,
           null,
           null,
           null,
           null,
           null,
           null
          ],
          [
           0,
           1,
           null,
           null,
           null,
           null,
           null,
           null,
           null,
           null,
           null,
           null,
           null,
           null,
           null,
           null,
           null,
           null,
           null,
           null,
           null,
           null,
           null,
           null,
           null,
           null,
           null,
           null,
           null,
           null,
           null,
           null,
           null,
           null,
           null,
           null
          ],
          [
           0,
           -0.11578043330928993,
           1,
           null,
           null,
           null,
           null,
           null,
           null,
           null,
           null,
           null,
           null,
           null,
           null,
           null,
           null,
           null,
           null,
           null,
           null,
           null,
           null,
           null,
           null,
           null,
           null,
           null,
           null,
           null,
           null,
           null,
           null,
           null,
           null,
           null
          ],
          [
           -0.0974764919507446,
           -0.08740978711935242,
           -0.09786337361270254,
           1,
           null,
           null,
           null,
           null,
           null,
           null,
           null,
           null,
           null,
           null,
           null,
           null,
           null,
           null,
           null,
           null,
           null,
           null,
           null,
           null,
           null,
           null,
           null,
           null,
           null,
           null,
           null,
           null,
           null,
           null,
           null,
           null
          ],
          [
           -0.004856353913495585,
           -0.021105622109124395,
           0.020633158769140823,
           -0.0005707611139817516,
           1,
           null,
           null,
           null,
           null,
           null,
           null,
           null,
           null,
           null,
           null,
           null,
           null,
           null,
           null,
           null,
           null,
           null,
           null,
           null,
           null,
           null,
           null,
           null,
           null,
           null,
           null,
           null,
           null,
           null,
           null,
           null
          ],
          [
           -0.028445596028527316,
           0.01503898325256105,
           0.013438285244001815,
           -0.019755163123252956,
           0.006746107473471113,
           1,
           null,
           null,
           null,
           null,
           null,
           null,
           null,
           null,
           null,
           null,
           null,
           null,
           null,
           null,
           null,
           null,
           null,
           null,
           null,
           null,
           null,
           null,
           null,
           null,
           null,
           null,
           null,
           null,
           null,
           null
          ],
          [
           0.011403329755367113,
           -0.006235447341514709,
           0.028005484829602603,
           0.014863529773210298,
           0.01224579890113568,
           0.0018211904066679212,
           1,
           null,
           null,
           null,
           null,
           null,
           null,
           null,
           null,
           null,
           null,
           null,
           null,
           null,
           null,
           null,
           null,
           null,
           null,
           null,
           null,
           null,
           null,
           null,
           null,
           null,
           null,
           null,
           null,
           null
          ],
          [
           0.04065909638082476,
           0.025946450586224894,
           0.028823723405040483,
           -0.02596910780778787,
           0.025037129548999445,
           -0.042268396836013855,
           0.005872857265967304,
           1,
           null,
           null,
           null,
           null,
           null,
           null,
           null,
           null,
           null,
           null,
           null,
           null,
           null,
           null,
           null,
           null,
           null,
           null,
           null,
           null,
           null,
           null,
           null,
           null,
           null,
           null,
           null,
           null
          ],
          [
           -0.046487874156033,
           -0.02349724559915221,
           -0.019993246403119832,
           -0.010616422270349942,
           -0.037456606647333156,
           0.006820595530898632,
           -0.021829086538774193,
           -0.014374051735923531,
           1,
           null,
           null,
           null,
           null,
           null,
           null,
           null,
           null,
           null,
           null,
           null,
           null,
           null,
           null,
           null,
           null,
           null,
           null,
           null,
           null,
           null,
           null,
           null,
           null,
           null,
           null,
           null
          ],
          [
           0,
           0,
           0,
           0,
           0,
           0,
           0,
           0,
           0,
           1,
           null,
           null,
           null,
           null,
           null,
           null,
           null,
           null,
           null,
           null,
           null,
           null,
           null,
           null,
           null,
           null,
           null,
           null,
           null,
           null,
           null,
           null,
           null,
           null,
           null,
           null
          ],
          [
           -0.003029621239193178,
           0.03974981587755739,
           0.04800881176361383,
           0.010862603779086967,
           0.027429032848321128,
           0.025024854749468806,
           0.015489782746664337,
           0.017446825734104495,
           0.06593437200666949,
           0,
           1,
           null,
           null,
           null,
           null,
           null,
           null,
           null,
           null,
           null,
           null,
           null,
           null,
           null,
           null,
           null,
           null,
           null,
           null,
           null,
           null,
           null,
           null,
           null,
           null,
           null
          ],
          [
           0.0013230480427687107,
           0.006541293096863993,
           0.013193517169579895,
           0.019530682624894942,
           -0.02305902522786677,
           0.029159788142897464,
           -0.03422222724492629,
           0.03703227153702145,
           -0.1850099734118138,
           0,
           0.015871623612276786,
           1,
           null,
           null,
           null,
           null,
           null,
           null,
           null,
           null,
           null,
           null,
           null,
           null,
           null,
           null,
           null,
           null,
           null,
           null,
           null,
           null,
           null,
           null,
           null,
           null
          ],
          [
           -0.0032359600787876387,
           0.013329000077162537,
           -0.05798356497318999,
           -0.03224399004341764,
           -0.012312284137811618,
           -0.008714592790746241,
           -0.04590973819907695,
           -0.031714556442484436,
           0.016135435817196175,
           0,
           -0.001214546864006422,
           -0.0518773544309129,
           1,
           null,
           null,
           null,
           null,
           null,
           null,
           null,
           null,
           null,
           null,
           null,
           null,
           null,
           null,
           null,
           null,
           null,
           null,
           null,
           null,
           null,
           null,
           null
          ],
          [
           -0.04879826231305314,
           -0.01943241365620842,
           -0.04698690015071629,
           -0.030261048593000738,
           0.04960967876720608,
           -0.02219251720752102,
           -0.020847918850430608,
           -0.0323003797229082,
           0.005268738638031808,
           0,
           0.012018698655309459,
           0.04765886739863846,
           0.06902134369278931,
           1,
           null,
           null,
           null,
           null,
           null,
           null,
           null,
           null,
           null,
           null,
           null,
           null,
           null,
           null,
           null,
           null,
           null,
           null,
           null,
           null,
           null,
           null
          ],
          [
           0.0727380147775396,
           -0.06024550070309066,
           0.01983479105317155,
           -0.07647241394905938,
           0.04269309767104915,
           0.0012757006428955027,
           -0.00046768590730570926,
           0.004493529539877579,
           -0.021124848000154205,
           0,
           -0.0008268358604058838,
           -0.0027301927438125855,
           0.009924893242888831,
           0.004544047749232561,
           1,
           null,
           null,
           null,
           null,
           null,
           null,
           null,
           null,
           null,
           null,
           null,
           null,
           null,
           null,
           null,
           null,
           null,
           null,
           null,
           null,
           null
          ],
          [
           0.02293313869924872,
           -0.008411954477015114,
           -0.031097410870160356,
           -0.031057333454172244,
           0.04199661639741471,
           0.0005927248445295207,
           -0.006810090889360199,
           0.004729436778050956,
           -0.0307938962268743,
           0,
           0.0061953517819940875,
           0.0033464456028886452,
           0.006426031249416408,
           -0.010973544620044256,
           0.970204215627957,
           1,
           null,
           null,
           null,
           null,
           null,
           null,
           null,
           null,
           null,
           null,
           null,
           null,
           null,
           null,
           null,
           null,
           null,
           null,
           null,
           null
          ],
          [
           0.09900036914875729,
           0.06604042006629957,
           0.0971734698541388,
           0.09627258148106828,
           0.0183650631261117,
           0.017080280994465177,
           0.01421622714186995,
           0.009915814857668289,
           0.01833921917871914,
           0,
           -0.024804340329558784,
           -0.035981510224226264,
           0.03092455814582171,
           0.026791404762127016,
           0.18016072251973175,
           -0.01911251622435577,
           1,
           null,
           null,
           null,
           null,
           null,
           null,
           null,
           null,
           null,
           null,
           null,
           null,
           null,
           null,
           null,
           null,
           null,
           null,
           null
          ],
          [
           0.020144832897807566,
           0.025741500415928306,
           0.049620858088926426,
           0.006315974510878949,
           0.030139865268248398,
           -0.007224374652336258,
           -0.011968460993964347,
           0.047998117166450145,
           -0.189561037348149,
           0,
           0.3060792049188316,
           0.183675136594902,
           -0.005749044650561189,
           0.018395073159715693,
           0.014034006844426683,
           0.01766111197433823,
           0.00651854101319598,
           1,
           null,
           null,
           null,
           null,
           null,
           null,
           null,
           null,
           null,
           null,
           null,
           null,
           null,
           null,
           null,
           null,
           null,
           null
          ],
          [
           -0.019242947499927752,
           0.010119802703070703,
           -0.016837353802949272,
           0.0037254206171096994,
           -0.047990048339344976,
           0.018304424001010577,
           -0.13240711778289532,
           0.022103873934574213,
           -0.040185706857481004,
           0,
           -0.0038629452676906045,
           0.38250586057055386,
           0.4146737919389122,
           -0.13026555097413933,
           -0.002189387766494577,
           0.001871096056623701,
           -0.025361609657913845,
           0.04635154103359609,
           1,
           null,
           null,
           null,
           null,
           null,
           null,
           null,
           null,
           null,
           null,
           null,
           null,
           null,
           null,
           null,
           null,
           null
          ],
          [
           -0.06519388878874224,
           -0.08998983167902708,
           -0.056509462179756886,
           -0.07273417287077177,
           0.0003246128857089659,
           0.005991502840186622,
           0.028810500748917618,
           -0.017332669244654278,
           -0.009271306615990208,
           0,
           -0.01615473170975952,
           -0.005091647594556288,
           0.019131252506392752,
           -0.03405219326141648,
           0.19449189914490306,
           -0.005010235886151219,
           0.8033184262182281,
           0.037653332162854894,
           0.001762813491480569,
           1,
           null,
           null,
           null,
           null,
           null,
           null,
           null,
           null,
           null,
           null,
           null,
           null,
           null,
           null,
           null,
           null
          ],
          [
           -0.09900036914875733,
           -0.06604042006629951,
           -0.09717346985413877,
           -0.0962725814810682,
           -0.018365063126111754,
           -0.017080280994465187,
           -0.014216227141870031,
           -0.009915814857668324,
           -0.018339219178719106,
           0,
           0.024804340329558798,
           0.035981510224226305,
           -0.030924558145821658,
           -0.026791404762126967,
           -0.18016072251973225,
           0.01911251622435522,
           -0.9999999999999999,
           -0.00651854101319596,
           0.025361609657913883,
           -0.8033184262182281,
           1,
           null,
           null,
           null,
           null,
           null,
           null,
           null,
           null,
           null,
           null,
           null,
           null,
           null,
           null,
           null
          ],
          [
           0.013976998999729606,
           0.00480544667823167,
           -0.015075892115998534,
           -0.002119614794224471,
           0.0062355888763828094,
           -0.0016866758505108693,
           -0.23717158531873012,
           -0.005706520062153744,
           -0.0572850405539953,
           0,
           -0.04140359409566803,
           0.03579899294758221,
           -0.015117062628356156,
           -0.02199824428547993,
           0.007611946440148659,
           0.008668207919098041,
           0.0024574148883512465,
           -0.00755718883035554,
           0.04898174451924576,
           -0.008141820101195987,
           -0.002457414888351477,
           1,
           null,
           null,
           null,
           null,
           null,
           null,
           null,
           null,
           null,
           null,
           null,
           null,
           null,
           null
          ],
          [
           -0.02422003180497271,
           -0.03680532118737529,
           -0.019771254543976657,
           0.007589312435466022,
           0.03980183778819989,
           -0.00543365848264166,
           -0.07987372143411672,
           -0.022234769630409164,
           0.01620518397739927,
           0,
           -0.02475247291665343,
           0.016167060125141616,
           0.005091565233187522,
           0.012525931480653802,
           0.015066015148830646,
           0.01627672352488856,
           -0.01731960796313386,
           -0.06109046922622434,
           0.005036436297725838,
           0.0002675191879837384,
           0.017319607963134028,
           0.12274421907530467,
           1,
           null,
           null,
           null,
           null,
           null,
           null,
           null,
           null,
           null,
           null,
           null,
           null,
           null
          ],
          [
           -0.04691072945056993,
           -0.012617061784308737,
           0.028092247634632427,
           -0.04430576487572673,
           -0.02406250778812532,
           -0.0009004366158330943,
           -0.28521297670258167,
           -0.007939709018303983,
           -0.005205437516390901,
           0,
           -0.0015758857171651677,
           0.015145260108773885,
           -0.03710202043179727,
           0.052078842471315015,
           0.004974816134241116,
           0.006019087711714001,
           -0.003451506420309162,
           0.014565501728479799,
           -0.009405481574989478,
           -0.008979030572791967,
           0.0034515064203092406,
           0.06329737242139906,
           0.16246686439135447,
           1,
           null,
           null,
           null,
           null,
           null,
           null,
           null,
           null,
           null,
           null,
           null,
           null
          ],
          [
           -0.04691072945056975,
           -0.012617061784308837,
           0.028092247634632528,
           -0.0443057648757266,
           -0.02406250778812563,
           -0.0009004366158331845,
           -0.28521297670258144,
           -0.00793970901830407,
           -0.005205437516390942,
           0,
           -0.0015758857171651677,
           0.01514526010877375,
           -0.037102020431797264,
           0.05207884247131499,
           0.004974816134241282,
           0.006019087711714189,
           -0.0034515064203092323,
           0.014565501728479723,
           -0.009405481574989437,
           -0.00897903057279209,
           0.0034515064203093173,
           0.06329737242139931,
           0.16246686439135433,
           1,
           1,
           null,
           null,
           null,
           null,
           null,
           null,
           null,
           null,
           null,
           null,
           null
          ],
          [
           0.030983336571988825,
           -0.0063655651993446425,
           -0.016809713779384786,
           0.004737097024401341,
           0.028533587665547533,
           -0.02307620683985061,
           0.05572162112216798,
           -0.05284980949247177,
           -0.010091179762016967,
           0,
           -0.022161036632560537,
           0.053405759896757464,
           0.026243777318791014,
           -0.04735667618646798,
           0.00864373366765692,
           -0.0010077269202321867,
           0.04798662921496116,
           0.005199457147828682,
           -0.18904798959676455,
           0.03897272419612739,
           -0.047986629214961184,
           0.018660937268055088,
           -0.014231448996548775,
           0.025122593163370607,
           0.0251225931633706,
           1,
           null,
           null,
           null,
           null,
           null,
           null,
           null,
           null,
           null,
           null
          ],
          [
           0.0004462301815698174,
           0.02191423969681742,
           -0.00975123784705462,
           -0.002286566687420095,
           -0.050362709738723165,
           0.029240691102664796,
           -0.07046641831320631,
           0.03421086701197449,
           -0.10493412520218365,
           0,
           0.01502927533665547,
           0.5685952746072214,
           0.6180705463551659,
           -0.20722516926908663,
           7.749108798010128e-7,
           0.010308579366395303,
           -0.03034573102225796,
           0.10602468399152466,
           0.6481096029859467,
           0.003753631844690913,
           0.030345731022258075,
           0.011455210415994987,
           0.01602878369393029,
           -0.04212591946246839,
           -0.04212591946246845,
           -0.35523785879759756,
           1,
           null,
           null,
           null,
           null,
           null,
           null,
           null,
           null,
           null
          ],
          [
           0,
           0,
           0,
           0,
           0,
           0,
           0,
           0,
           0,
           0,
           0,
           0,
           0,
           0,
           0,
           0,
           0,
           0,
           0,
           0,
           0,
           0,
           0,
           0,
           0,
           0,
           0,
           1,
           null,
           null,
           null,
           null,
           null,
           null,
           null,
           null
          ],
          [
           -0.011532255395661592,
           0.01792786810715491,
           0.04096578467061705,
           0.03513293768636013,
           -0.04327293021195882,
           -0.0005643661266421114,
           0.010547683563780375,
           -0.0032515553622038283,
           0.011664032690737163,
           0,
           0.0020189178682745155,
           0.007271750151394726,
           -0.014145581181678442,
           -0.024956592699956946,
           -0.970206892325245,
           -0.9956040827499221,
           0.01148317938022676,
           0.0013475718429252729,
           0.0007935459856803192,
           0.012577435795945596,
           -0.0114831793802262,
           -0.009704131666859527,
           -0.019190544297832846,
           -0.007218853421625105,
           -0.007218853421625291,
           0.0043441849846159305,
           0.0007716514519494288,
           0,
           1,
           null,
           null,
           null,
           null,
           null,
           null,
           null
          ],
          [
           -0.03404562154489444,
           -0.008394765067918555,
           -0.02680770015819172,
           -0.018078212635532855,
           -0.01725077545481049,
           0.688470962484127,
           0.00992481349477762,
           -0.0636912999193909,
           0.1421454102643367,
           0,
           -0.20489623025850995,
           -0.11329354506351863,
           -0.0017843987109404692,
           -0.028504252000268394,
           -0.009307025706349895,
           -0.012404333198796727,
           0.006941995796935641,
           -0.7302187519092685,
           -0.021111822567226272,
           -0.02321573347782719,
           -0.006941995796935625,
           0.004328709681852502,
           0.04059542335034985,
           -0.011179314795954243,
           -0.011179314795954218,
           -0.019537462600631387,
           -0.05691972935420864,
           0,
           -0.001362963297241786,
           1,
           null,
           null,
           null,
           null,
           null,
           null
          ],
          [
           0.003029621239193356,
           -0.0397498158775568,
           -0.048008811763613476,
           -0.010862603779086885,
           -0.027429032848320465,
           -0.02502485474946916,
           -0.01548978274666334,
           -0.01744682573410353,
           -0.06593437200666954,
           0,
           -1,
           -0.015871623612276776,
           0.0012145468640065396,
           -0.012018698655309584,
           0.0008268358604040892,
           -0.006195351781996047,
           0.024804340329559416,
           -0.3060792049188315,
           0.0038629452676904085,
           0.01615473170975972,
           -0.02480434032955939,
           0.04140359409566683,
           0.024752472916652588,
           0.0015758857171643988,
           0.0015758857171643864,
           0.022161036632560346,
           -0.015029275336655249,
           0,
           -0.0020189178682726338,
           0.20489623025850942,
           1,
           null,
           null,
           null,
           null,
           null
          ],
          [
           -0.0649877069119592,
           -0.08438694091998798,
           -0.02467453584831489,
           -0.07249925571745647,
           0.010821118354312891,
           0.019547748817404908,
           0.017476252401152373,
           -0.0338079708347588,
           -0.030529327364507478,
           0,
           0.001346866498538798,
           0.07488562137538252,
           -0.0401704507267281,
           -0.03146097528466687,
           0.04884806982308433,
           0.022417991781160513,
           0.02693475027793654,
           0.013211786359649487,
           0.054148727928143986,
           -0.014507820091636677,
           -0.026934750277936594,
           0.005650615826670777,
           0.0010163782526968908,
           0.04442919423977136,
           0.04442919423977142,
           0.06511664405630754,
           0.0026794300880882797,
           0,
           -0.018344690199396316,
           0.003773350966399776,
           -0.0013468664985397925,
           1,
           null,
           null,
           null,
           null
          ],
          [
           -0.13698570539951443,
           -0.10130767261772369,
           -0.10144220999459425,
           -0.10485434494039172,
           0.04195377120881763,
           0.035234401148813474,
           -0.037080953542618623,
           0.023559249529394678,
           -0.0189808290074309,
           0,
           -0.029546034766184625,
           -0.042603242700699984,
           0.04871764722997186,
           -0.04971011789627329,
           -0.0140132472854527,
           0.044907257712378294,
           0.11344687089797449,
           0.01924712332577554,
           -0.02820331889053033,
           -0.054900634782410265,
           -0.1134468708979745,
           0.011618915056490677,
           -0.006008310593068348,
           0.04948515322047854,
           0.049485153220478466,
           0.012479732095615563,
           0.015875953119265908,
           0,
           -0.030738412789468168,
           0.010113635713601053,
           0.029546034766184122,
           -0.07533170139021526,
           1,
           null,
           null,
           null
          ],
          [
           0.006343534691427761,
           0.0037704357893788413,
           0.02021478463007199,
           -0.0079783656177293,
           0.03220225107808428,
           0.024314968993056674,
           0.020435345572200392,
           -0.0023418855270106323,
           -0.0010941593835545305,
           0,
           0.025045526261669605,
           0.05856448822378892,
           0.03577105931493411,
           -0.008867933742210005,
           0.0013160123803649894,
           -0.0016327119124755654,
           0.0011808715799234365,
           0.028960075230502317,
           -0.19702806550873705,
           0.005692711956972238,
           -0.0011808715799234302,
           -0.039752415664976865,
           -0.0018454430117581912,
           -0.016928792262479227,
           -0.01692879226247931,
           -0.03069202253387339,
           0.07764572212296636,
           0,
           0.005246515813407636,
           -0.004391498819060435,
           -0.025045526261669778,
           0.037372291715610344,
           -0.022612795184959768,
           1,
           null,
           null
          ],
          [
           -0.03324074072665515,
           -0.031153534285351035,
           -0.017424807458007494,
           -0.0347073435867693,
           0.011909802202426968,
           -0.004154825631951396,
           -0.04649013662229967,
           -0.01565601854071267,
           0.004840553888028973,
           0,
           0.018347847494264876,
           0.026026019358951314,
           -0.014411864683942772,
           -0.02388161220557378,
           -0.015162990323553149,
           -0.0020220951752606933,
           -0.06134867073616284,
           0.0073222672623659045,
           -0.0420861856034348,
           -0.021977356512851175,
           0.0613486707361632,
           -0.10139322327914523,
           -0.012661527251905304,
           -0.030993094510098813,
           -0.03099309451009871,
           0.005035569629581344,
           0.01199380495247791,
           0,
           0.0061818287499892195,
           -0.008149421446920694,
           -0.018347847494263006,
           0.02164346636811774,
           0.050115572451172256,
           0.05252409319970153,
           1,
           null
          ],
          [
           -0.04153670556361607,
           -0.03826749319424459,
           -0.018169031696038986,
           -0.028098473588030998,
           -0.0277903116444015,
           -0.002775810608091983,
           -0.09524745251573843,
           0.026835108086996795,
           0.20497772977607434,
           0,
           0.09916093640471572,
           0.11932689956459237,
           0.05196774399876948,
           0.011860304779316534,
           -0.013664466660423185,
           -0.03779628722801849,
           0.043668313602715315,
           0.2329977037502779,
           0.1360922072546703,
           -0.016326185698490713,
           -0.04366831360271525,
           0.016573202123934098,
           0.014397270541341583,
           0.02667562743086611,
           0.02667562743086607,
           -0.00013612160434030635,
           0.10846008275110905,
           0,
           0.0018189873473052243,
           -0.17088575529709232,
           -0.09916093640471413,
           0.0015640971225157852,
           -0.07721210221419969,
           -0.029000523448445142,
           -0.030126973553243317,
           1
          ]
         ]
        }
       ],
       "layout": {
        "coloraxis": {
         "cmax": 1,
         "cmin": -1,
         "colorscale": [
          [
           0,
           "#d73027"
          ],
          [
           0.5,
           "#f7f7f7"
          ],
          [
           1,
           "#4575b4"
          ]
         ]
        },
        "height": 900,
        "margin": {
         "t": 60
        },
        "plot_bgcolor": "rgba(0,0,0,0)",
        "template": {
         "data": {
          "bar": [
           {
            "error_x": {
             "color": "#2a3f5f"
            },
            "error_y": {
             "color": "#2a3f5f"
            },
            "marker": {
             "line": {
              "color": "#E5ECF6",
              "width": 0.5
             },
             "pattern": {
              "fillmode": "overlay",
              "size": 10,
              "solidity": 0.2
             }
            },
            "type": "bar"
           }
          ],
          "barpolar": [
           {
            "marker": {
             "line": {
              "color": "#E5ECF6",
              "width": 0.5
             },
             "pattern": {
              "fillmode": "overlay",
              "size": 10,
              "solidity": 0.2
             }
            },
            "type": "barpolar"
           }
          ],
          "carpet": [
           {
            "aaxis": {
             "endlinecolor": "#2a3f5f",
             "gridcolor": "white",
             "linecolor": "white",
             "minorgridcolor": "white",
             "startlinecolor": "#2a3f5f"
            },
            "baxis": {
             "endlinecolor": "#2a3f5f",
             "gridcolor": "white",
             "linecolor": "white",
             "minorgridcolor": "white",
             "startlinecolor": "#2a3f5f"
            },
            "type": "carpet"
           }
          ],
          "choropleth": [
           {
            "colorbar": {
             "outlinewidth": 0,
             "ticks": ""
            },
            "type": "choropleth"
           }
          ],
          "contour": [
           {
            "colorbar": {
             "outlinewidth": 0,
             "ticks": ""
            },
            "colorscale": [
             [
              0,
              "#0d0887"
             ],
             [
              0.1111111111111111,
              "#46039f"
             ],
             [
              0.2222222222222222,
              "#7201a8"
             ],
             [
              0.3333333333333333,
              "#9c179e"
             ],
             [
              0.4444444444444444,
              "#bd3786"
             ],
             [
              0.5555555555555556,
              "#d8576b"
             ],
             [
              0.6666666666666666,
              "#ed7953"
             ],
             [
              0.7777777777777778,
              "#fb9f3a"
             ],
             [
              0.8888888888888888,
              "#fdca26"
             ],
             [
              1,
              "#f0f921"
             ]
            ],
            "type": "contour"
           }
          ],
          "contourcarpet": [
           {
            "colorbar": {
             "outlinewidth": 0,
             "ticks": ""
            },
            "type": "contourcarpet"
           }
          ],
          "heatmap": [
           {
            "colorbar": {
             "outlinewidth": 0,
             "ticks": ""
            },
            "colorscale": [
             [
              0,
              "#0d0887"
             ],
             [
              0.1111111111111111,
              "#46039f"
             ],
             [
              0.2222222222222222,
              "#7201a8"
             ],
             [
              0.3333333333333333,
              "#9c179e"
             ],
             [
              0.4444444444444444,
              "#bd3786"
             ],
             [
              0.5555555555555556,
              "#d8576b"
             ],
             [
              0.6666666666666666,
              "#ed7953"
             ],
             [
              0.7777777777777778,
              "#fb9f3a"
             ],
             [
              0.8888888888888888,
              "#fdca26"
             ],
             [
              1,
              "#f0f921"
             ]
            ],
            "type": "heatmap"
           }
          ],
          "heatmapgl": [
           {
            "colorbar": {
             "outlinewidth": 0,
             "ticks": ""
            },
            "colorscale": [
             [
              0,
              "#0d0887"
             ],
             [
              0.1111111111111111,
              "#46039f"
             ],
             [
              0.2222222222222222,
              "#7201a8"
             ],
             [
              0.3333333333333333,
              "#9c179e"
             ],
             [
              0.4444444444444444,
              "#bd3786"
             ],
             [
              0.5555555555555556,
              "#d8576b"
             ],
             [
              0.6666666666666666,
              "#ed7953"
             ],
             [
              0.7777777777777778,
              "#fb9f3a"
             ],
             [
              0.8888888888888888,
              "#fdca26"
             ],
             [
              1,
              "#f0f921"
             ]
            ],
            "type": "heatmapgl"
           }
          ],
          "histogram": [
           {
            "marker": {
             "pattern": {
              "fillmode": "overlay",
              "size": 10,
              "solidity": 0.2
             }
            },
            "type": "histogram"
           }
          ],
          "histogram2d": [
           {
            "colorbar": {
             "outlinewidth": 0,
             "ticks": ""
            },
            "colorscale": [
             [
              0,
              "#0d0887"
             ],
             [
              0.1111111111111111,
              "#46039f"
             ],
             [
              0.2222222222222222,
              "#7201a8"
             ],
             [
              0.3333333333333333,
              "#9c179e"
             ],
             [
              0.4444444444444444,
              "#bd3786"
             ],
             [
              0.5555555555555556,
              "#d8576b"
             ],
             [
              0.6666666666666666,
              "#ed7953"
             ],
             [
              0.7777777777777778,
              "#fb9f3a"
             ],
             [
              0.8888888888888888,
              "#fdca26"
             ],
             [
              1,
              "#f0f921"
             ]
            ],
            "type": "histogram2d"
           }
          ],
          "histogram2dcontour": [
           {
            "colorbar": {
             "outlinewidth": 0,
             "ticks": ""
            },
            "colorscale": [
             [
              0,
              "#0d0887"
             ],
             [
              0.1111111111111111,
              "#46039f"
             ],
             [
              0.2222222222222222,
              "#7201a8"
             ],
             [
              0.3333333333333333,
              "#9c179e"
             ],
             [
              0.4444444444444444,
              "#bd3786"
             ],
             [
              0.5555555555555556,
              "#d8576b"
             ],
             [
              0.6666666666666666,
              "#ed7953"
             ],
             [
              0.7777777777777778,
              "#fb9f3a"
             ],
             [
              0.8888888888888888,
              "#fdca26"
             ],
             [
              1,
              "#f0f921"
             ]
            ],
            "type": "histogram2dcontour"
           }
          ],
          "mesh3d": [
           {
            "colorbar": {
             "outlinewidth": 0,
             "ticks": ""
            },
            "type": "mesh3d"
           }
          ],
          "parcoords": [
           {
            "line": {
             "colorbar": {
              "outlinewidth": 0,
              "ticks": ""
             }
            },
            "type": "parcoords"
           }
          ],
          "pie": [
           {
            "automargin": true,
            "type": "pie"
           }
          ],
          "scatter": [
           {
            "fillpattern": {
             "fillmode": "overlay",
             "size": 10,
             "solidity": 0.2
            },
            "type": "scatter"
           }
          ],
          "scatter3d": [
           {
            "line": {
             "colorbar": {
              "outlinewidth": 0,
              "ticks": ""
             }
            },
            "marker": {
             "colorbar": {
              "outlinewidth": 0,
              "ticks": ""
             }
            },
            "type": "scatter3d"
           }
          ],
          "scattercarpet": [
           {
            "marker": {
             "colorbar": {
              "outlinewidth": 0,
              "ticks": ""
             }
            },
            "type": "scattercarpet"
           }
          ],
          "scattergeo": [
           {
            "marker": {
             "colorbar": {
              "outlinewidth": 0,
              "ticks": ""
             }
            },
            "type": "scattergeo"
           }
          ],
          "scattergl": [
           {
            "marker": {
             "colorbar": {
              "outlinewidth": 0,
              "ticks": ""
             }
            },
            "type": "scattergl"
           }
          ],
          "scattermapbox": [
           {
            "marker": {
             "colorbar": {
              "outlinewidth": 0,
              "ticks": ""
             }
            },
            "type": "scattermapbox"
           }
          ],
          "scatterpolar": [
           {
            "marker": {
             "colorbar": {
              "outlinewidth": 0,
              "ticks": ""
             }
            },
            "type": "scatterpolar"
           }
          ],
          "scatterpolargl": [
           {
            "marker": {
             "colorbar": {
              "outlinewidth": 0,
              "ticks": ""
             }
            },
            "type": "scatterpolargl"
           }
          ],
          "scatterternary": [
           {
            "marker": {
             "colorbar": {
              "outlinewidth": 0,
              "ticks": ""
             }
            },
            "type": "scatterternary"
           }
          ],
          "surface": [
           {
            "colorbar": {
             "outlinewidth": 0,
             "ticks": ""
            },
            "colorscale": [
             [
              0,
              "#0d0887"
             ],
             [
              0.1111111111111111,
              "#46039f"
             ],
             [
              0.2222222222222222,
              "#7201a8"
             ],
             [
              0.3333333333333333,
              "#9c179e"
             ],
             [
              0.4444444444444444,
              "#bd3786"
             ],
             [
              0.5555555555555556,
              "#d8576b"
             ],
             [
              0.6666666666666666,
              "#ed7953"
             ],
             [
              0.7777777777777778,
              "#fb9f3a"
             ],
             [
              0.8888888888888888,
              "#fdca26"
             ],
             [
              1,
              "#f0f921"
             ]
            ],
            "type": "surface"
           }
          ],
          "table": [
           {
            "cells": {
             "fill": {
              "color": "#EBF0F8"
             },
             "line": {
              "color": "white"
             }
            },
            "header": {
             "fill": {
              "color": "#C8D4E3"
             },
             "line": {
              "color": "white"
             }
            },
            "type": "table"
           }
          ]
         },
         "layout": {
          "annotationdefaults": {
           "arrowcolor": "#2a3f5f",
           "arrowhead": 0,
           "arrowwidth": 1
          },
          "autotypenumbers": "strict",
          "coloraxis": {
           "colorbar": {
            "outlinewidth": 0,
            "ticks": ""
           }
          },
          "colorscale": {
           "diverging": [
            [
             0,
             "#8e0152"
            ],
            [
             0.1,
             "#c51b7d"
            ],
            [
             0.2,
             "#de77ae"
            ],
            [
             0.3,
             "#f1b6da"
            ],
            [
             0.4,
             "#fde0ef"
            ],
            [
             0.5,
             "#f7f7f7"
            ],
            [
             0.6,
             "#e6f5d0"
            ],
            [
             0.7,
             "#b8e186"
            ],
            [
             0.8,
             "#7fbc41"
            ],
            [
             0.9,
             "#4d9221"
            ],
            [
             1,
             "#276419"
            ]
           ],
           "sequential": [
            [
             0,
             "#0d0887"
            ],
            [
             0.1111111111111111,
             "#46039f"
            ],
            [
             0.2222222222222222,
             "#7201a8"
            ],
            [
             0.3333333333333333,
             "#9c179e"
            ],
            [
             0.4444444444444444,
             "#bd3786"
            ],
            [
             0.5555555555555556,
             "#d8576b"
            ],
            [
             0.6666666666666666,
             "#ed7953"
            ],
            [
             0.7777777777777778,
             "#fb9f3a"
            ],
            [
             0.8888888888888888,
             "#fdca26"
            ],
            [
             1,
             "#f0f921"
            ]
           ],
           "sequentialminus": [
            [
             0,
             "#0d0887"
            ],
            [
             0.1111111111111111,
             "#46039f"
            ],
            [
             0.2222222222222222,
             "#7201a8"
            ],
            [
             0.3333333333333333,
             "#9c179e"
            ],
            [
             0.4444444444444444,
             "#bd3786"
            ],
            [
             0.5555555555555556,
             "#d8576b"
            ],
            [
             0.6666666666666666,
             "#ed7953"
            ],
            [
             0.7777777777777778,
             "#fb9f3a"
            ],
            [
             0.8888888888888888,
             "#fdca26"
            ],
            [
             1,
             "#f0f921"
            ]
           ]
          },
          "colorway": [
           "#636efa",
           "#EF553B",
           "#00cc96",
           "#ab63fa",
           "#FFA15A",
           "#19d3f3",
           "#FF6692",
           "#B6E880",
           "#FF97FF",
           "#FECB52"
          ],
          "font": {
           "color": "#2a3f5f"
          },
          "geo": {
           "bgcolor": "white",
           "lakecolor": "white",
           "landcolor": "#E5ECF6",
           "showlakes": true,
           "showland": true,
           "subunitcolor": "white"
          },
          "hoverlabel": {
           "align": "left"
          },
          "hovermode": "closest",
          "mapbox": {
           "style": "light"
          },
          "paper_bgcolor": "white",
          "plot_bgcolor": "#E5ECF6",
          "polar": {
           "angularaxis": {
            "gridcolor": "white",
            "linecolor": "white",
            "ticks": ""
           },
           "bgcolor": "#E5ECF6",
           "radialaxis": {
            "gridcolor": "white",
            "linecolor": "white",
            "ticks": ""
           }
          },
          "scene": {
           "xaxis": {
            "backgroundcolor": "#E5ECF6",
            "gridcolor": "white",
            "gridwidth": 2,
            "linecolor": "white",
            "showbackground": true,
            "ticks": "",
            "zerolinecolor": "white"
           },
           "yaxis": {
            "backgroundcolor": "#E5ECF6",
            "gridcolor": "white",
            "gridwidth": 2,
            "linecolor": "white",
            "showbackground": true,
            "ticks": "",
            "zerolinecolor": "white"
           },
           "zaxis": {
            "backgroundcolor": "#E5ECF6",
            "gridcolor": "white",
            "gridwidth": 2,
            "linecolor": "white",
            "showbackground": true,
            "ticks": "",
            "zerolinecolor": "white"
           }
          },
          "shapedefaults": {
           "line": {
            "color": "#2a3f5f"
           }
          },
          "ternary": {
           "aaxis": {
            "gridcolor": "white",
            "linecolor": "white",
            "ticks": ""
           },
           "baxis": {
            "gridcolor": "white",
            "linecolor": "white",
            "ticks": ""
           },
           "bgcolor": "#E5ECF6",
           "caxis": {
            "gridcolor": "white",
            "linecolor": "white",
            "ticks": ""
           }
          },
          "title": {
           "x": 0.05
          },
          "xaxis": {
           "automargin": true,
           "gridcolor": "white",
           "linecolor": "white",
           "ticks": "",
           "title": {
            "standoff": 15
           },
           "zerolinecolor": "white",
           "zerolinewidth": 2
          },
          "yaxis": {
           "automargin": true,
           "gridcolor": "white",
           "linecolor": "white",
           "ticks": "",
           "title": {
            "standoff": 15
           },
           "zerolinecolor": "white",
           "zerolinewidth": 2
          }
         }
        },
        "title": {
         "font": {
          "size": 20
         },
         "text": "Correlation Matrix of Reactions: Glycolysis/gluconeogenesis",
         "x": 0.5
        },
        "width": 900,
        "xaxis": {
         "anchor": "y",
         "constrain": "domain",
         "domain": [
          0,
          1
         ],
         "scaleanchor": "y",
         "tickfont": {
          "size": 10
         }
        },
        "yaxis": {
         "anchor": "x",
         "autorange": "reversed",
         "constrain": "domain",
         "domain": [
          0,
          1
         ],
         "tickfont": {
          "size": 10
         }
        }
       }
      }
     },
     "metadata": {},
     "output_type": "display_data"
    }
   ],
   "source": [
    "# cor_matrix, cor_dict = correlated_reactions(no_lac_ox_opt50_clip, rxns_per_subsystem[\"Lysine metabolism\"], subsystem=\"Lysine metabolism\")\n",
    "subsys = 'Glycolysis/gluconeogenesis'\n",
    "cor_matrix, cor_dict = correlated_reactions(no_lac_ox_opt_clip, rxns_per_subsystem[subsys], subsystem=subsys)\n",
    "cor_matrix, cor_dict = correlated_reactions(no_lac_ox_opt50_clip, rxns_per_subsystem[subsys], subsystem=subsys)"
   ]
  },
  {
   "cell_type": "code",
   "execution_count": 56,
   "metadata": {},
   "outputs": [],
   "source": [
    "importance = rxns_cluster_contribution(no_lac_ox_opt50_clip, dbscan_labels)"
   ]
  },
  {
   "cell_type": "code",
   "execution_count": 85,
   "metadata": {},
   "outputs": [
    {
     "data": {
      "text/plain": [
       "PPCDC           0.007565\n",
       "BPNT            0.006817\n",
       "FE3abc          0.006469\n",
       "PTPAT           0.005903\n",
       "EX_mg2(e)       0.005812\n",
       "MNt2            0.005521\n",
       "EX_zn2(e)       0.005245\n",
       "EX_ribflv(e)    0.004449\n",
       "DPCOAK          0.004415\n",
       "PYDXK           0.004246\n",
       "dtype: float64"
      ]
     },
     "execution_count": 85,
     "metadata": {},
     "output_type": "execute_result"
    }
   ],
   "source": [
    "importance.head(10)"
   ]
  },
  {
   "cell_type": "code",
   "execution_count": 87,
   "metadata": {},
   "outputs": [
    {
     "data": {
      "application/vnd.plotly.v1+json": {
       "config": {
        "plotlyServerURL": "https://plot.ly"
       },
       "data": [
        {
         "type": "surface",
         "z": [
          [
           0.1,
           0,
           0,
           0,
           0,
           0,
           0,
           0,
           0,
           0
          ],
          [
           0,
           0.1,
           0,
           0,
           0,
           0,
           0,
           0,
           0,
           0
          ],
          [
           0,
           0,
           0.1,
           0,
           0,
           0,
           0,
           0,
           0,
           0
          ],
          [
           0,
           0,
           0,
           0.1,
           0,
           0,
           0,
           0,
           0,
           0
          ],
          [
           0,
           0,
           0,
           0,
           0.1,
           0,
           0,
           0,
           0,
           0
          ],
          [
           0,
           0,
           0,
           0,
           0,
           0.1,
           0,
           0,
           0,
           0
          ],
          [
           0,
           0,
           0,
           0,
           0,
           0,
           0.1,
           0,
           0,
           0
          ],
          [
           0,
           0,
           0,
           0,
           0,
           0,
           0,
           0.1,
           0,
           0
          ],
          [
           0,
           0,
           0,
           0,
           0,
           0,
           0,
           0,
           0.1,
           0
          ],
          [
           0,
           0,
           0,
           0,
           0,
           0,
           0,
           0,
           0,
           0.1
          ]
         ]
        }
       ],
       "layout": {
        "height": 600,
        "margin": {
         "b": 30,
         "l": 30,
         "r": 30,
         "t": 50
        },
        "scene": {
         "xaxis": {
          "title": {
           "text": "FE3abc"
          }
         },
         "yaxis": {
          "title": {
           "text": "PPCDC"
          }
         },
         "zaxis": {
          "title": {
           "text": "prob, mass"
          }
         }
        },
        "title": {
         "text": "Copula between FE3abc and PPCDC"
        },
        "width": 900
       }
      }
     },
     "metadata": {},
     "output_type": "display_data"
    }
   ],
   "source": [
    "dingo.illustrations.plot_copula(\n",
    "    data_flux1 = [no_lac_ox_opt50_clip[\"FE3abc\"], \"FE3abc\"], \n",
    "    data_flux2 = [no_lac_ox_opt50_clip[\"PPCDC\"], \"PPCDC\"], \n",
    "    n = 10\n",
    ")"
   ]
  },
  {
   "cell_type": "code",
   "execution_count": null,
   "metadata": {},
   "outputs": [],
   "source": []
  },
  {
   "cell_type": "code",
   "execution_count": null,
   "metadata": {},
   "outputs": [],
   "source": []
  },
  {
   "cell_type": "code",
   "execution_count": null,
   "metadata": {},
   "outputs": [],
   "source": [
    "s, p, n = different_fluxes_over_sign(no_oxyg_opt, \"2AHBUTI\")"
   ]
  },
  {
   "cell_type": "code",
   "execution_count": null,
   "metadata": {},
   "outputs": [],
   "source": [
    "significantly_altered_reactions(\n",
    "    conditions  = [no_oxyg_opt[no_oxyg_opt[\"2AHBUTI\"]>=0], no_oxyg_opt[no_oxyg_opt[\"2AHBUTI\"] < 0]],\n",
    "    cobra_model = bh_model\n",
    ")"
   ]
  },
  {
   "cell_type": "code",
   "execution_count": null,
   "metadata": {},
   "outputs": [],
   "source": []
  },
  {
   "cell_type": "code",
   "execution_count": null,
   "metadata": {},
   "outputs": [],
   "source": [
    "for rxn in sig:\n",
    "    p = pos[rxn].mean()\n",
    "    n = neg[rxn].mean()\n",
    "    if p * n < -1:\n",
    "        \n",
    "        r = bh_model.reactions.get_by_id(rxn)\n",
    "        print(rxn)\n",
    "        print(r.name)\n",
    "        print(r.build_reaction_string(use_metabolite_names = True))\n",
    "        print(r.build_reaction_string())\n",
    "\n",
    "        print(\"mean in positive NDPK1: \", p)\n",
    "        print(\"mean in negative NDPK1: \", n)\n",
    "        print(\"reactants: \", r.reactants)\n",
    "        print(\"products: \", r.products, \"\\n---\")"
   ]
  },
  {
   "cell_type": "code",
   "execution_count": null,
   "metadata": {},
   "outputs": [],
   "source": [
    "(unb_anox_samples[\"ACKr\"].min(), unb_anox_samples[\"ACKr\"].max())\n"
   ]
  },
  {
   "cell_type": "code",
   "execution_count": null,
   "metadata": {},
   "outputs": [],
   "source": [
    "unb_anox_samples[\"ACKr\"].max()"
   ]
  },
  {
   "cell_type": "code",
   "execution_count": null,
   "metadata": {},
   "outputs": [],
   "source": [
    "sc, pr, nr = different_fluxes_over_sign(unb_anox_samples, \"ACKr\")\n",
    "rxns_with_opposite_dir(sc, pr, nr)"
   ]
  },
  {
   "cell_type": "markdown",
   "metadata": {},
   "source": [
    "### **tmp**"
   ]
  },
  {
   "cell_type": "code",
   "execution_count": null,
   "metadata": {},
   "outputs": [],
   "source": []
  },
  {
   "cell_type": "code",
   "execution_count": null,
   "metadata": {},
   "outputs": [],
   "source": [
    "from scipy import stats\n",
    "from statsmodels.stats.multitest import multipletests\n",
    "\n",
    "significant_columns, positive_rows, negative_rows = different_fluxes_over_sign(mmcs_samples, rxn_id=\"ACKr\")"
   ]
  },
  {
   "cell_type": "code",
   "execution_count": null,
   "metadata": {},
   "outputs": [],
   "source": [
    "for rxn_id in significant_columns:\n",
    "    if positive_rows[rxn_id].mean() * negative_rows[rxn_id].mean() < 1:\n",
    "        print(bh_cmodel.reactions.get_by_id(rxn_id).build_reaction_string(use_metabolite_names=True))\n",
    "        print(\n",
    "            rxn_id, \n",
    "            f\"\\nmean of {rxn_id} on positive samples {positive_rows[rxn_id].mean()} \\nvs\\n \"\n",
    "            f\"mean of {rxn_id} on negative samples {negative_rows[rxn_id].mean()}\"\n",
    "            \"\\n---\\n\"\n",
    "        )"
   ]
  },
  {
   "cell_type": "code",
   "execution_count": null,
   "metadata": {},
   "outputs": [],
   "source": []
  },
  {
   "cell_type": "code",
   "execution_count": null,
   "metadata": {},
   "outputs": [],
   "source": [
    "bh      = (agora_models_path / bh_agora_filename).as_posix()\n",
    "\n",
    "\n",
    "\n",
    "model   = dingo.MetabolicNetwork.from_sbml(bh)\n",
    "# sampler = dingo.PolytopeSampler(model)\n",
    "# sampler.set_solver(\"gurobi\")\n",
    "# bh_opt_samples = sampler.generate_steady_states(ess=3000, psrf=True)"
   ]
  },
  {
   "cell_type": "code",
   "execution_count": null,
   "metadata": {},
   "outputs": [],
   "source": [
    "model.lb"
   ]
  },
  {
   "cell_type": "code",
   "execution_count": null,
   "metadata": {},
   "outputs": [],
   "source": [
    "bh      = (agora_models_path / bh_agora_filename).as_posix()\n",
    "model   = dingo.MetabolicNetwork.from_sbml(bh)\n",
    "model.set_opt_percentage(50)\n",
    "model.lb"
   ]
  },
  {
   "cell_type": "code",
   "execution_count": null,
   "metadata": {},
   "outputs": [],
   "source": [
    "sampler = dingo.PolytopeSampler(model)\n",
    "sampler.set_solver(\"gurobi\")\n",
    "bh_half_opt_samples = sampler.generate_steady_states(ess=3000, psrf=True)"
   ]
  },
  {
   "cell_type": "code",
   "execution_count": null,
   "metadata": {},
   "outputs": [],
   "source": [
    "sign_cols   , pos_rows,    neg_rows    = different_fluxes_over_sign(bh_opt_samples, rxn_id=\"EX_lac_D(e)\", reactions_list=bh_dmodel.reactions)\n",
    "sign_cols_05, pos_rows_05, neg_rows_05 = different_fluxes_over_sign(bh_half_opt_samples, rxn_id=\"EX_lac_D(e)\", reactions_list=bh_dmodel.reactions)"
   ]
  },
  {
   "cell_type": "code",
   "execution_count": null,
   "metadata": {},
   "outputs": [],
   "source": [
    "for rxn_id in sign_cols_05:\n",
    "    if pos_rows_05[rxn_id].mean() * neg_rows_05[rxn_id].mean() < 1:\n",
    "        print(bh_cmodel.reactions.get_by_id(rxn_id).build_reaction_string(use_metabolite_names=True))\n",
    "        print(\n",
    "            rxn_id, \n",
    "            f\"\\nmean of {rxn_id} on positive samples {pos_rows_05[rxn_id].mean()} \\nvs\\n \"\n",
    "            f\"mean of {rxn_id} on negative samples {neg_rows_05[rxn_id].mean()}\"\n",
    "            \"\\n---\\n\"\n",
    "        )"
   ]
  },
  {
   "cell_type": "code",
   "execution_count": null,
   "metadata": {},
   "outputs": [],
   "source": []
  },
  {
   "cell_type": "code",
   "execution_count": null,
   "metadata": {},
   "outputs": [],
   "source": []
  },
  {
   "cell_type": "code",
   "execution_count": null,
   "metadata": {},
   "outputs": [],
   "source": [
    "dump_samples(bh_opt_samples, \"results/samples/bh_opt_mmcs.pkl\")"
   ]
  },
  {
   "cell_type": "code",
   "execution_count": null,
   "metadata": {},
   "outputs": [],
   "source": []
  },
  {
   "cell_type": "code",
   "execution_count": null,
   "metadata": {},
   "outputs": [],
   "source": []
  },
  {
   "cell_type": "code",
   "execution_count": null,
   "metadata": {},
   "outputs": [],
   "source": [
    "bh      = (agora_models_path / bh_agora_filename).as_posix()\n",
    "bh_cmodel = cobra.io.read_sbml_model(bh)"
   ]
  },
  {
   "cell_type": "code",
   "execution_count": null,
   "metadata": {},
   "outputs": [],
   "source": [
    "bh_cmodel.reactions.get_by_id(\"EX_lac_L(e)\")"
   ]
  },
  {
   "cell_type": "code",
   "execution_count": null,
   "metadata": {},
   "outputs": [],
   "source": [
    "bh_cmodel.reactions.get_by_id(\"EX_lac_L(e)\").lower_bound = 0\n",
    "# bh_cmodel.reactions.get_by_id(\"EX_lac_L(e)\").upper_bound = 0"
   ]
  },
  {
   "cell_type": "code",
   "execution_count": null,
   "metadata": {},
   "outputs": [],
   "source": [
    "bh_dmodel_no_lac = dingo.MetabolicNetwork.from_cobra_model(bh_cmodel)"
   ]
  },
  {
   "cell_type": "code",
   "execution_count": null,
   "metadata": {},
   "outputs": [],
   "source": [
    "sampler = dingo.PolytopeSampler(bh_dmodel_no_lac)\n",
    "samples_no_lac_opt = sampler.generate_steady_states(ess=2000, psrf=True)"
   ]
  },
  {
   "cell_type": "code",
   "execution_count": null,
   "metadata": {},
   "outputs": [],
   "source": [
    "dump_samples(samples_no_lac_opt, \"results/samples/bh_opt_no_lac.pkl\")"
   ]
  },
  {
   "cell_type": "code",
   "execution_count": null,
   "metadata": {},
   "outputs": [],
   "source": [
    "from tqdm import tqdm\n",
    "from cobra.flux_analysis.loopless import loopless_solution\n",
    "\n",
    "samples_no_lac_opt_ll = get_loopless_solutions_from_samples(samples_no_lac_opt, bh_cmodel)"
   ]
  },
  {
   "cell_type": "code",
   "execution_count": null,
   "metadata": {},
   "outputs": [],
   "source": [
    "\n",
    "plot_hist(bh_opt_samples, \"EX_lac_L(e)\", type=\"dingo\", description = \"Bh, MMCS opt, rich\", dingo_model=bh_dmodel)\n",
    "\n",
    "plot_hist(samples_no_lac_opt, \"EX_lac_L(e)\", type=\"dingo\", description = \"Bh, MMCS opt, no lac\", dingo_model=bh_dmodel)\n",
    "\n",
    "plot_hist(samples_no_lac_opt_ll, \"EX_lac_L(e)\", type=\"dingo\", description = \"Bh, MMCS opt, no lac, ll\", dingo_model=bh_dmodel)\n",
    "\n"
   ]
  },
  {
   "cell_type": "code",
   "execution_count": null,
   "metadata": {},
   "outputs": [],
   "source": []
  },
  {
   "cell_type": "code",
   "execution_count": null,
   "metadata": {},
   "outputs": [],
   "source": []
  },
  {
   "cell_type": "code",
   "execution_count": null,
   "metadata": {},
   "outputs": [],
   "source": [
    "np.all(mmcs_samples[\"ACOCT\"]==0)"
   ]
  },
  {
   "cell_type": "code",
   "execution_count": null,
   "metadata": {},
   "outputs": [],
   "source": [
    "sns.kdeplot(data, bw_adjust=0.1)\n",
    "sns.rugplot(data, color=\"black\")\n",
    "plt.title(\"Biomass marginal distribution, optimizing for biomass\")\n",
    "plt.show()"
   ]
  },
  {
   "cell_type": "markdown",
   "metadata": {},
   "source": [
    "Biomass value is actually fixed, as supposed to. "
   ]
  },
  {
   "cell_type": "code",
   "execution_count": null,
   "metadata": {},
   "outputs": [],
   "source": []
  },
  {
   "cell_type": "code",
   "execution_count": null,
   "metadata": {},
   "outputs": [],
   "source": [
    "mmcs_samples_df = pd.DataFrame.from_records(mmcs_samples, index=bh_dmodel.reactions).T"
   ]
  },
  {
   "cell_type": "code",
   "execution_count": null,
   "metadata": {},
   "outputs": [],
   "source": [
    "mmcs_samples_df[(mmcs_samples_df[\"ACKr\"]>0) & (mmcs_samples_df[\"biomass525\"]>0)]"
   ]
  },
  {
   "cell_type": "code",
   "execution_count": null,
   "metadata": {},
   "outputs": [],
   "source": [
    "print(\n",
    "    bh_cmodel.reactions.get_by_id(\"ACKr\").build_reaction_string(use_metabolite_names=True),\n",
    "    bh_cmodel.reactions.get_by_id(\"ACKr\").reactants\n",
    ")"
   ]
  },
  {
   "cell_type": "code",
   "execution_count": null,
   "metadata": {},
   "outputs": [],
   "source": [
    "\n",
    "# transpose: rows = samples, columns = reactions\n",
    "ess = az.ess(np.asarray(df.T))  # array shape (n_samples, n_reactions)\n"
   ]
  },
  {
   "cell_type": "code",
   "execution_count": null,
   "metadata": {},
   "outputs": [],
   "source": [
    "lags = [1, 2, 3]\n",
    "autocorrs_by_lag = {lag: df.apply(lambda col: col.autocorr(lag=lag)) for lag in lags}\n",
    "autocorr_df = pd.DataFrame(autocorrs_by_lag)"
   ]
  },
  {
   "cell_type": "code",
   "execution_count": null,
   "metadata": {},
   "outputs": [],
   "source": []
  },
  {
   "cell_type": "code",
   "execution_count": null,
   "metadata": {},
   "outputs": [],
   "source": []
  },
  {
   "cell_type": "markdown",
   "metadata": {},
   "source": [
    "Lactate comes into the cell from the in silico environment, it passes through the periplasm and then it converts to pyruvate! "
   ]
  },
  {
   "cell_type": "markdown",
   "metadata": {},
   "source": [
    "### **Sampling the Metabolic Environment**"
   ]
  },
  {
   "cell_type": "code",
   "execution_count": null,
   "metadata": {},
   "outputs": [],
   "source": [
    "from scripts.envBallScripts import *\n",
    "\n",
    "model     = cobra.io.read_sbml_model(agora_models_path / 'Bacteroides_thetaiotaomicron_VPI_5482.xml')\n",
    "exchanges = get_exchange_metabolites(model)\n",
    "\n",
    "envBall = gen_environment_ball(\n",
    "    exchanges,\n",
    "    anaerobic=True,\n",
    "    fixed_reactions={'EX_h2o(e)': 100},\n",
    "    size=1000,\n",
    "    total_flux=100,\n",
    "    seed=666\n",
    ")\n",
    "\n",
    "solutions = apply_env_ball(model, envBall)\n",
    "\n",
    "results_folder = root_dir / 'results' / 'env_ball'\n",
    "os.makedirs(results_folder, exist_ok=True)\n",
    "\n",
    "outputPath = results_folder / 'env_ball_reactions_cluster_bt.png'\n",
    "plot_flux_heatmap(solutions, outputPath)"
   ]
  },
  {
   "cell_type": "markdown",
   "metadata": {},
   "source": [
    "### **Panreactome (pangenome)**"
   ]
  },
  {
   "cell_type": "code",
   "execution_count": null,
   "metadata": {},
   "outputs": [],
   "source": [
    "from scripts.build_pan_reactomes import make_panReactome, add_exchange, generate_binary_presence_matrix\n",
    "\n",
    "\n",
    "model_folder = root_dir / 'files' / 'models' / 'AGORA' / 'pan_genome'\n",
    "\n",
    "models = os.listdir(model_folder)\n",
    "\n",
    "model = cobra.io.read_sbml_model(\n",
    "    os.path.join(model_folder, 'Bacteroides_thetaiotaomicron_VPI_5482.xml')\n",
    ")\n",
    "\n",
    "for reaction in model.reactions:\n",
    "    if reaction.objective_coefficient == 1.0:\n",
    "        objective = reaction.copy()\n",
    "\n",
    "preact = make_panReactome(model_folder, 'Bacteroides_panreactome')\n",
    "\n",
    "# Path where we save the image and reaction presence absence table\n",
    "results_folder = root_dir / 'results' / 'pan_reactome'\n",
    "os.makedirs(results_folder, exist_ok=True)\n",
    "\n",
    "# Build a presence/absence of reactions across the Bacteroides genus\n",
    "generate_binary_presence_matrix(\n",
    "    model_folder,\n",
    "    preact,\n",
    "    results_folder\n",
    ")\n",
    "\n",
    "add_exchange(preact)\n",
    "preact.add_reactions([objective])\n",
    "preact.reactions.get_by_id(objective.id).objective_coefficient = 1.0\n",
    "\n",
    "solution  = preact.optimize()\n",
    "print(f\"Objective Value: {solution.objective_value: .2f}\")\n",
    "\n",
    "# cobra.io.write_sbml_model(preact, os.path.join(results_folder, 'bacteroides_pan_reactome.xml'))\n",
    "\n"
   ]
  },
  {
   "cell_type": "markdown",
   "metadata": {},
   "source": [
    "### **panEFMs**"
   ]
  },
  {
   "cell_type": "code",
   "execution_count": null,
   "metadata": {},
   "outputs": [],
   "source": [
    "from scripts.envBallScripts import get_exchange_metabolites, gen_environment_ball\n",
    "from scripts.get_panEFMs import  get_panEFM_dist, plot_reaction_freq_heatmap"
   ]
  },
  {
   "cell_type": "code",
   "execution_count": null,
   "metadata": {},
   "outputs": [],
   "source": [
    "# Import panreactome model \n",
    "model_path = root_dir / 'results' / 'pan_reactome' / 'bacteroides_pan_reactome.xml'\n",
    "model      = cobra.io.read_sbml_model(model_path)\n",
    "\n",
    "# Keep track of exchange reactions of the panreactome model\n",
    "exchanges = get_exchange_metabolites(model)\n",
    "\n",
    "# Build ball with 5 random media using Dirichlet distribution, makins sure it stays anaerobic\n",
    "envBall = gen_environment_ball(\n",
    "    exchanges,\n",
    "    anaerobic       = True,\n",
    "    fixed_reactions = {'EX_h2o(e)': 100},\n",
    "    size            = 5,\n",
    "    total_flux      = 100,\n",
    "    seed            = 666\n",
    ")\n",
    "\n",
    "reactions = [i.id for i in model.reactions if i.objective_coefficient == 0]\n",
    "\n",
    "pan_efms = {}\n",
    "\n",
    "for i in envBall:\n",
    "\n",
    "    print(f\"Environment Simulation: {i}\")\n",
    "    pan_efms[i] = get_panEFM_dist(model_path, reactions, envBall[i], max_it=10)\n",
    "    \n",
    "\n",
    "# Build dataframe with distances \n",
    "frequency_df = pd.DataFrame(\n",
    "    {env: np.mean(pan_efms[env], axis=0) for env in pan_efms}, \n",
    "    index=reactions\n",
    ").T\n",
    "\n",
    "\n",
    "results_folder = root_dir / 'results' / 'pan_efms'\n",
    "os.makedirs(results_folder, exist_ok=True)\n",
    "\n",
    "output_path = results_folder / 'pan_efms_dist.png'\n",
    "plot_reaction_freq_heatmap(frequency_df, output_path=output_path, figsize=(12, 8), cmap=\"coolwarm\")\n"
   ]
  },
  {
   "cell_type": "markdown",
   "metadata": {},
   "source": [
    "### **Sampling the environment in a community context**"
   ]
  },
  {
   "cell_type": "code",
   "execution_count": null,
   "metadata": {},
   "outputs": [],
   "source": [
    "from scripts.mambo import *"
   ]
  },
  {
   "cell_type": "code",
   "execution_count": null,
   "metadata": {},
   "outputs": [],
   "source": [
    "acetogen          = cobra.io.read_sbml_model(agora_models_path / 'Blautia_hydrogenotrophica_DSM_10507.xml')\n",
    "sugar_fermenter   = cobra.io.read_sbml_model(agora_models_path / 'Bacteroides_thetaiotaomicron_VPI_5482.xml')\n",
    "butyrate_producer = cobra.io.read_sbml_model(agora_models_path / 'Roseburia_intestinalis_L1_82.xml')\n",
    "\n",
    "# Make a list of all the exchange reactions across the three models\n",
    "exchanges = get_exchange_metabolites(acetogen)\n",
    "exchanges = exchanges.union(get_exchange_metabolites(sugar_fermenter))\n",
    "exchanges = exchanges.union(get_exchange_metabolites(butyrate_producer))\n",
    "\n",
    "# Build a medium where each exchange reaction is present with a boundary of 1\n",
    "media = {i: 1 for  i in exchanges}\n",
    "\n",
    "# Apply this medium and solve an FBA\n",
    "apply_environment(acetogen, media)\n",
    "apply_environment(sugar_fermenter, media)\n",
    "apply_environment(butyrate_producer, media)"
   ]
  },
  {
   "cell_type": "markdown",
   "metadata": {},
   "source": [
    "Below we have a short function to wrap the run MAMBO test parts:"
   ]
  },
  {
   "cell_type": "code",
   "execution_count": null,
   "metadata": {},
   "outputs": [],
   "source": [
    "def run_mambo(modelList, composition, media):\n",
    "\n",
    "    medias    = [np.array(list(media.values()))]\n",
    "    solutions = [current_solution(modelList, media)]\n",
    "\n",
    "    for i in tqdm(range(1000)):  # Should be much larger\n",
    "\n",
    "        solution, media = MCMC(media, modelList, composition, delta = 10)\n",
    "\n",
    "        if i > 10:  # Should be much larger\n",
    "\n",
    "            medias.append(np.array(list(media.values())))\n",
    "            solutions.append(solution)\n",
    "\n",
    "    medias  = np.array(medias)\n",
    "    mediasM = medias.copy()\n",
    "    medias  = medias.T\n",
    "\n",
    "    maxMedias = np.max(mediasM, axis=1)\n",
    "    mediasM   = np.array([mediasM[i]/maxMedias[i] for i in range(len(maxMedias))]).T\n",
    "\n",
    "    mSols        = solutions.copy()\n",
    "    solutions    = np.array(solutions).T\n",
    "    maxSolutions = np.max(mSols, axis=1)\n",
    "    mSols        = np.array([mSols[i]/maxSolutions[i] for i in range(len(maxSolutions))]).T\n",
    "\n",
    "    # Pearson correlation between each solution returned and the composition vector\n",
    "    cor = np.array([sts.pearsonr(i, composition)[0] for i in solutions.T])\n",
    "    print(f\"Correlation: {cor}\")\n",
    "\n",
    "    avM = np.median(medias.T[cor>max(cor)*0.99], axis=0)\n",
    "    avM = (avM/max(avM))*10\n",
    "\n",
    "    m = {list(media.keys())[i]: avM[i] for i in range(len(avM))}\n",
    "\n",
    "    print(f\"composition was {composition} \\t MAMBO solution was: {current_solution(modelList, m)}\")\n",
    "\n",
    "    sorter     = np.argsort(cor)\n",
    "    result     = medias.T[sorter].T\n",
    "    cor_sorted = cor[sorter]\n",
    "\n",
    "    return result, cor_sorted"
   ]
  },
  {
   "cell_type": "markdown",
   "metadata": {},
   "source": [
    "In this approach, the order that the taxa and their abundances appear are crucial. \n",
    "You need to keep in the same order the species you have in your `modelList` with their relative abundance in the `composition`"
   ]
  },
  {
   "cell_type": "code",
   "execution_count": null,
   "metadata": {},
   "outputs": [],
   "source": [
    "# Order is critical, and in line with the `composition` list below\n",
    "modelList = [acetogen, sugar_fermenter, butyrate_producer]"
   ]
  },
  {
   "cell_type": "code",
   "execution_count": null,
   "metadata": {},
   "outputs": [],
   "source": [
    "# Composition vector: butyrate producer wins, since 10 (highest value) is on the last position of the list\n",
    "composition = np.array([1, 0.1, 10])\n",
    "\n",
    "# Run MAMBO for the butyrate producer winning case\n",
    "result, cor_sorted = run_mambo(modelList=modelList, composition=composition, media=media)\n",
    "\n",
    "# Build a folder for our findings if not already there\n",
    "results_folder = root_dir / 'results' / 'mambo'\n",
    "os.makedirs(results_folder, exist_ok=True)\n",
    "\n",
    "# Save plot\n",
    "output_path = results_folder / 'mambo_butyrateProducerWins.png'\n",
    "plot_mambo_results(result, cor_sorted, output_path=output_path)"
   ]
  },
  {
   "cell_type": "markdown",
   "metadata": {},
   "source": [
    "We can do the same for the case where the acetogen wins "
   ]
  },
  {
   "cell_type": "code",
   "execution_count": null,
   "metadata": {},
   "outputs": [],
   "source": [
    "# Set acetogen (first in the modelList) with the highest abundance (winning)\n",
    "composition = np.array([10, 1, 0.1])\n",
    "\n",
    "# Run MAMBO with acetogen-winning composition vector\n",
    "result, cor_sorted = run_mambo(modelList, composition, media)\n",
    "\n",
    "output_path = results_folder / 'mambo_acetogenWins.png'\n",
    "plot_mambo_results(result, cor_sorted, output_path=output_path)"
   ]
  },
  {
   "cell_type": "markdown",
   "metadata": {},
   "source": [
    "and similarly for the sugar fermentor"
   ]
  },
  {
   "cell_type": "code",
   "execution_count": null,
   "metadata": {},
   "outputs": [],
   "source": [
    "# Set sugar fermentor (second in the modelList) with the highest abundance (winning)\n",
    "composition = np.array([1, 10, 0.1])\n",
    "\n",
    "# Run MAMBO for the sugar fermentor case\n",
    "result, cor_sorted = run_mambo(modelList, composition, media)\n",
    "\n",
    "output_path = results_folder / 'mambo_sugarFermenterWins.png'\n",
    "plot_mambo_results(result, cor_sorted, output_path=output_path)"
   ]
  },
  {
   "cell_type": "code",
   "execution_count": null,
   "metadata": {},
   "outputs": [],
   "source": []
  },
  {
   "cell_type": "markdown",
   "metadata": {},
   "source": [
    "### **depr**"
   ]
  },
  {
   "cell_type": "markdown",
   "metadata": {},
   "source": [
    "We will go through the solution of the $Bh$ model, using its original medium, to have some first insight of what the model is suggesting \n",
    "\n",
    "We can solve the model using flux balance analysis, which maximizes the objective function (usually biomass). This means obtaining the maximum flux value that is allowed to run through our objective function (referred to as the \"objective value\"). This also gives a solution for the optimal flux of each reaction."
   ]
  },
  {
   "cell_type": "code",
   "execution_count": null,
   "metadata": {},
   "outputs": [],
   "source": [
    "bh_sol, bh_up, bh_sec, bh_cs = fba_insight(bh_model)"
   ]
  },
  {
   "cell_type": "code",
   "execution_count": null,
   "metadata": {},
   "outputs": [],
   "source": [
    "bh_cs.keys()"
   ]
  },
  {
   "cell_type": "markdown",
   "metadata": {},
   "source": [
    "When we removed the compounds that are not in the cytosol from the medium, we already observe a decrease biomass and \n",
    "also, that fucose is now among the uptake reactions with a flux.\n",
    "\n",
    "\n",
    "[here is why](https://pubmed.ncbi.nlm.nih.gov/6421801/)\n",
    "\n"
   ]
  },
  {
   "cell_type": "code",
   "execution_count": null,
   "metadata": {},
   "outputs": [],
   "source": []
  },
  {
   "cell_type": "markdown",
   "metadata": {},
   "source": [
    "We will go through the solution of the $Bh$ model, using its original medium, to have some first insight of what the model is suggesting \n",
    "\n",
    "We can solve the model using flux balance analysis, which maximizes the objective function (usually biomass). This means obtaining the maximum flux value that is allowed to run through our objective function (referred to as the \"objective value\"). This also gives a solution for the optimal flux of each reaction."
   ]
  },
  {
   "cell_type": "code",
   "execution_count": null,
   "metadata": {},
   "outputs": [],
   "source": [
    "bh_sol, bh_up, bh_sec, bh_cs = fba_insight(bh_model)\n",
    "\n",
    "\n",
    "# When we removed the compounds that are not in the cytosol from the medium, we already observe a decrease biomass and \n",
    "# also, that fucose is now among the uptake reactions with a flux.\n",
    "\n",
    "\n",
    "# [here is why](https://pubmed.ncbi.nlm.nih.gov/6421801/)\n"
   ]
  },
  {
   "cell_type": "code",
   "execution_count": null,
   "metadata": {},
   "outputs": [],
   "source": []
  },
  {
   "cell_type": "code",
   "execution_count": null,
   "metadata": {},
   "outputs": [],
   "source": [
    "medium_compounds = []\n",
    "not_in_cytosol   = []\n",
    "for ex, bound in bt_cobra.medium.items(): \n",
    "    ex1 = ex.strip(\"(e)\")\n",
    "    ex1 = ex1.strip(\"EX_\")\n",
    "    try: \n",
    "        m = bt_cobra.metabolites.get_by_id(ex1 + \"[c]\")\n",
    "        medium_compounds.append((m.name, m.id))\n",
    "    except:\n",
    "        not_in_cytosol.append(ex)\n",
    "        pass\n",
    "\n",
    "\n",
    "print(\n",
    "    \"medium_compounds: \", len(medium_compounds), \n",
    "    \"not_in_cytosol: \", len(not_in_cytosol),\n",
    "    \"overall: \", len(bt_cobra.medium)\n",
    ")"
   ]
  },
  {
   "cell_type": "code",
   "execution_count": null,
   "metadata": {},
   "outputs": [],
   "source": []
  },
  {
   "cell_type": "code",
   "execution_count": null,
   "metadata": {},
   "outputs": [],
   "source": [
    "bt_cobra.metabolites.get_by_id(\"fru[c]\")\n",
    "bt_cobra.metabolites.get_by_id(\"lac_D[c]\")"
   ]
  },
  {
   "cell_type": "code",
   "execution_count": null,
   "metadata": {},
   "outputs": [],
   "source": []
  },
  {
   "cell_type": "markdown",
   "metadata": {},
   "source": [
    "It also secretes: acetate, alanine, h2, nh4, serine, succinate."
   ]
  },
  {
   "cell_type": "code",
   "execution_count": null,
   "metadata": {},
   "outputs": [],
   "source": [
    "trunc_medium = bt_cobra.medium.copy()\n",
    "for i in not_in_cytosol:\n",
    "    del trunc_medium[i]\n",
    "len(trunc_medium)"
   ]
  },
  {
   "cell_type": "code",
   "execution_count": null,
   "metadata": {},
   "outputs": [],
   "source": [
    "bt_cobra.medium  = trunc_medium\n",
    "bt_trunc_summary = bt_cobra.summary()\n",
    "sol_trunc        = bt_cobra.optimize()"
   ]
  },
  {
   "cell_type": "code",
   "execution_count": null,
   "metadata": {},
   "outputs": [],
   "source": [
    "bt_trunc_summary.uptake_flux.sort_values(\"flux\")"
   ]
  },
  {
   "cell_type": "code",
   "execution_count": null,
   "metadata": {},
   "outputs": [],
   "source": []
  },
  {
   "cell_type": "code",
   "execution_count": null,
   "metadata": {},
   "outputs": [],
   "source": []
  },
  {
   "cell_type": "code",
   "execution_count": null,
   "metadata": {},
   "outputs": [],
   "source": []
  },
  {
   "cell_type": "code",
   "execution_count": null,
   "metadata": {},
   "outputs": [],
   "source": [
    "d_model.reactions.index(\"ADK1\")"
   ]
  },
  {
   "cell_type": "code",
   "execution_count": null,
   "metadata": {},
   "outputs": [],
   "source": [
    "sampler =  dingo.PolytopeSampler(d_model)\n",
    "sampless = sampler.generate_steady_states_no_multiphase(n=100)"
   ]
  },
  {
   "cell_type": "code",
   "execution_count": null,
   "metadata": {},
   "outputs": [],
   "source": [
    "d_model.lb[20]"
   ]
  },
  {
   "cell_type": "code",
   "execution_count": null,
   "metadata": {},
   "outputs": [],
   "source": [
    "broken, _ = check_samples_range(samples)"
   ]
  },
  {
   "cell_type": "code",
   "execution_count": null,
   "metadata": {},
   "outputs": [],
   "source": [
    "broken"
   ]
  },
  {
   "cell_type": "code",
   "execution_count": null,
   "metadata": {},
   "outputs": [],
   "source": [
    "rxn_id = \"ADK1\"\n",
    "index = d_model.reactions.index(rxn_id)\n",
    "d_model.lb[index], d_model.ub[index], samples[rxn_id].min(), samples[rxn_id].max()"
   ]
  },
  {
   "cell_type": "code",
   "execution_count": null,
   "metadata": {},
   "outputs": [],
   "source": [
    "np.argmin(d_model.lb)\n",
    "d_model.lb[138]\n",
    "\n",
    "print(len(d_model.lb))"
   ]
  },
  {
   "cell_type": "code",
   "execution_count": null,
   "metadata": {},
   "outputs": [],
   "source": []
  },
  {
   "cell_type": "code",
   "execution_count": null,
   "metadata": {},
   "outputs": [],
   "source": [
    "d_model.lb"
   ]
  },
  {
   "cell_type": "code",
   "execution_count": null,
   "metadata": {},
   "outputs": [],
   "source": [
    "d_model.reactions.index(\"EX_lac_D(e)\")\n",
    "d_model.lb[435]"
   ]
  }
 ],
 "metadata": {
  "colab": {
   "collapsed_sections": [
    "pGrlQR5ShAA2",
    "iRBxwF35sjej",
    "6y1CQmrHkTze",
    "7qVpwzPczwW6",
    "42SjlwjD1nPe",
    "JEsVvhCP3Xhw"
   ],
   "provenance": []
  },
  "kernelspec": {
   "display_name": "sampling",
   "language": "python",
   "name": "python3"
  },
  "language_info": {
   "codemirror_mode": {
    "name": "ipython",
    "version": 3
   },
   "file_extension": ".py",
   "mimetype": "text/x-python",
   "name": "python",
   "nbconvert_exporter": "python",
   "pygments_lexer": "ipython3",
   "version": "3.10.18"
  }
 },
 "nbformat": 4,
 "nbformat_minor": 4
}
