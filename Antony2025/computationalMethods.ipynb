{
  "cells": [
    {
      "cell_type": "markdown",
      "metadata": {
        "colab_type": "text",
        "id": "view-in-github"
      },
      "source": [
        "<a href=\"https://colab.research.google.com/github/hariszaf/metabolic_toy_model/blob/haris-comp-methods/Antony2025/computationalMethods.ipynb\" target=\"_parent\"><img src=\"https://colab.research.google.com/assets/colab-badge.svg\" alt=\"Open In Colab\"/></a>"
      ]
    },
    {
      "cell_type": "markdown",
      "metadata": {
        "id": "_g-tdTxc359V"
      },
      "source": [
        "# **Computational Methods Applied To Genome-Scale Metabolic Models**"
      ]
    },
    {
      "cell_type": "markdown",
      "metadata": {
        "id": "ocbbZPIP7fr5"
      },
      "source": [
        "## **Prepare your environment**"
      ]
    },
    {
      "cell_type": "markdown",
      "metadata": {},
      "source": [
        "### Gurobi and cobra"
      ]
    },
    {
      "cell_type": "markdown",
      "metadata": {
        "id": "OHPGabyX7fr5"
      },
      "source": [
        "To run this note, you need COBRApy and gurobi. [See the notebook on preparing your environment for a more detailed explanation](preparingYourEnvironment.ipynb)"
      ]
    },
    {
      "cell_type": "code",
      "execution_count": 50,
      "metadata": {},
      "outputs": [],
      "source": [
        "# This is just a helper function to check if you are on a Colab env\n",
        "def is_colab():\n",
        "    import sys\n",
        "    return \"google.colab\" in sys.modules"
      ]
    },
    {
      "cell_type": "code",
      "execution_count": 51,
      "metadata": {},
      "outputs": [],
      "source": [
        "# Function to make sure you can use Gurobi on Colab\n",
        "def create_gurobi_license(WLSACCESSID, WLSSECRET, LICENSEID):\n",
        "    license_content = (\n",
        "        \"# Gurobi WLS license file\\n\"\n",
        "        \"# Your credentials are private and should not be shared or copied to public repositories.\\n\"\n",
        "        \"# Visit https://license.gurobi.com/manager/doc/overview for more information.\\n\"\n",
        "        f\"WLSACCESSID={WLSACCESSID}\\n\"\n",
        "        f\"WLSSECRET={WLSSECRET}\\n\"\n",
        "        f\"LICENSEID={LICENSEID}\"\n",
        "    )\n",
        "    with open(\"/content/licenses/gurobi.lic\", \"w\") as f:\n",
        "        f.write(license_content)\n",
        "    print(\"License file created at /content/licenses/gurobi.lic\")"
      ]
    },
    {
      "cell_type": "markdown",
      "metadata": {},
      "source": [
        "In case you are using the Colab, please provide your Gurobi credentials:"
      ]
    },
    {
      "cell_type": "code",
      "execution_count": 52,
      "metadata": {},
      "outputs": [],
      "source": [
        "WLSACCESSID = \"\"\n",
        "WLSSECRET   = \"\"\n",
        "LICENSEID   = \"\""
      ]
    },
    {
      "cell_type": "code",
      "execution_count": 53,
      "metadata": {
        "cellView": "form",
        "colab": {
          "base_uri": "https://localhost:8080/"
        },
        "id": "-ej0Rpx57fr6",
        "outputId": "65c98af6-7916-4f02-f076-96a9380f5b7b"
      },
      "outputs": [],
      "source": [
        "import os\n",
        "\n",
        "if is_colab():\n",
        "\n",
        "    # Create directory for the license\n",
        "    os.makedirs(\"/content/licenses\", exist_ok=True)\n",
        "\n",
        "    # Generate the license file\n",
        "    create_gurobi_license(WLSACCESSID, WLSSECRET, LICENSEID)\n",
        "\n",
        "    #add to path\n",
        "    os.environ['GRB_LICENSE_FILE'] = '/content/licenses/gurobi.lic'"
      ]
    },
    {
      "cell_type": "code",
      "execution_count": 54,
      "metadata": {
        "cellView": "form",
        "colab": {
          "base_uri": "https://localhost:8080/"
        },
        "collapsed": true,
        "id": "fz0l7M107fr7",
        "outputId": "151ddeb7-c01c-4cad-d72e-c3b11786a987"
      },
      "outputs": [
        {
          "name": "stdout",
          "output_type": "stream",
          "text": [
            "Requirement already satisfied: gurobipy in /opt/miniconda3/envs/gsmmWorkshop/lib/python3.11/site-packages (12.0.1)\n",
            "Requirement already satisfied: cobra in /opt/miniconda3/envs/gsmmWorkshop/lib/python3.11/site-packages (0.29.1)\n",
            "Requirement already satisfied: appdirs~=1.4 in /opt/miniconda3/envs/gsmmWorkshop/lib/python3.11/site-packages (from cobra) (1.4.4)\n",
            "Requirement already satisfied: depinfo~=2.2 in /opt/miniconda3/envs/gsmmWorkshop/lib/python3.11/site-packages (from cobra) (2.2.0)\n",
            "Requirement already satisfied: diskcache~=5.0 in /opt/miniconda3/envs/gsmmWorkshop/lib/python3.11/site-packages (from cobra) (5.6.3)\n",
            "Requirement already satisfied: future in /opt/miniconda3/envs/gsmmWorkshop/lib/python3.11/site-packages (from cobra) (1.0.0)\n",
            "Requirement already satisfied: httpx~=0.24 in /opt/miniconda3/envs/gsmmWorkshop/lib/python3.11/site-packages (from cobra) (0.28.1)\n",
            "Requirement already satisfied: importlib-resources in /opt/miniconda3/envs/gsmmWorkshop/lib/python3.11/site-packages (from cobra) (6.5.2)\n",
            "Requirement already satisfied: numpy>=1.13 in /opt/miniconda3/envs/gsmmWorkshop/lib/python3.11/site-packages (from cobra) (2.2.3)\n",
            "Requirement already satisfied: optlang~=1.8 in /opt/miniconda3/envs/gsmmWorkshop/lib/python3.11/site-packages (from cobra) (1.8.3)\n",
            "Requirement already satisfied: pandas<3.0,>=1.0 in /opt/miniconda3/envs/gsmmWorkshop/lib/python3.11/site-packages (from cobra) (2.2.3)\n",
            "Requirement already satisfied: pydantic>=1.6 in /opt/miniconda3/envs/gsmmWorkshop/lib/python3.11/site-packages (from cobra) (2.10.6)\n",
            "Requirement already satisfied: python-libsbml~=5.19 in /opt/miniconda3/envs/gsmmWorkshop/lib/python3.11/site-packages (from cobra) (5.20.4)\n",
            "Requirement already satisfied: rich>=8.0 in /opt/miniconda3/envs/gsmmWorkshop/lib/python3.11/site-packages (from cobra) (13.9.4)\n",
            "Requirement already satisfied: ruamel.yaml~=0.16 in /opt/miniconda3/envs/gsmmWorkshop/lib/python3.11/site-packages (from cobra) (0.18.10)\n",
            "Requirement already satisfied: swiglpk in /opt/miniconda3/envs/gsmmWorkshop/lib/python3.11/site-packages (from cobra) (5.0.12)\n",
            "Requirement already satisfied: anyio in /opt/miniconda3/envs/gsmmWorkshop/lib/python3.11/site-packages (from httpx~=0.24->cobra) (4.8.0)\n",
            "Requirement already satisfied: certifi in /opt/miniconda3/envs/gsmmWorkshop/lib/python3.11/site-packages (from httpx~=0.24->cobra) (2025.1.31)\n",
            "Requirement already satisfied: httpcore==1.* in /opt/miniconda3/envs/gsmmWorkshop/lib/python3.11/site-packages (from httpx~=0.24->cobra) (1.0.7)\n",
            "Requirement already satisfied: idna in /opt/miniconda3/envs/gsmmWorkshop/lib/python3.11/site-packages (from httpx~=0.24->cobra) (3.10)\n",
            "Requirement already satisfied: h11<0.15,>=0.13 in /opt/miniconda3/envs/gsmmWorkshop/lib/python3.11/site-packages (from httpcore==1.*->httpx~=0.24->cobra) (0.14.0)\n",
            "Requirement already satisfied: sympy>=1.12.0 in /opt/miniconda3/envs/gsmmWorkshop/lib/python3.11/site-packages (from optlang~=1.8->cobra) (1.13.3)\n",
            "Requirement already satisfied: python-dateutil>=2.8.2 in /opt/miniconda3/envs/gsmmWorkshop/lib/python3.11/site-packages (from pandas<3.0,>=1.0->cobra) (2.9.0.post0)\n",
            "Requirement already satisfied: pytz>=2020.1 in /opt/miniconda3/envs/gsmmWorkshop/lib/python3.11/site-packages (from pandas<3.0,>=1.0->cobra) (2025.1)\n",
            "Requirement already satisfied: tzdata>=2022.7 in /opt/miniconda3/envs/gsmmWorkshop/lib/python3.11/site-packages (from pandas<3.0,>=1.0->cobra) (2025.1)\n",
            "Requirement already satisfied: annotated-types>=0.6.0 in /opt/miniconda3/envs/gsmmWorkshop/lib/python3.11/site-packages (from pydantic>=1.6->cobra) (0.7.0)\n",
            "Requirement already satisfied: pydantic-core==2.27.2 in /opt/miniconda3/envs/gsmmWorkshop/lib/python3.11/site-packages (from pydantic>=1.6->cobra) (2.27.2)\n",
            "Requirement already satisfied: typing-extensions>=4.12.2 in /opt/miniconda3/envs/gsmmWorkshop/lib/python3.11/site-packages (from pydantic>=1.6->cobra) (4.12.2)\n",
            "Requirement already satisfied: markdown-it-py>=2.2.0 in /opt/miniconda3/envs/gsmmWorkshop/lib/python3.11/site-packages (from rich>=8.0->cobra) (3.0.0)\n",
            "Requirement already satisfied: pygments<3.0.0,>=2.13.0 in /opt/miniconda3/envs/gsmmWorkshop/lib/python3.11/site-packages (from rich>=8.0->cobra) (2.19.1)\n",
            "Requirement already satisfied: ruamel.yaml.clib>=0.2.7 in /opt/miniconda3/envs/gsmmWorkshop/lib/python3.11/site-packages (from ruamel.yaml~=0.16->cobra) (0.2.12)\n",
            "Requirement already satisfied: mdurl~=0.1 in /opt/miniconda3/envs/gsmmWorkshop/lib/python3.11/site-packages (from markdown-it-py>=2.2.0->rich>=8.0->cobra) (0.1.2)\n",
            "Requirement already satisfied: six>=1.5 in /opt/miniconda3/envs/gsmmWorkshop/lib/python3.11/site-packages (from python-dateutil>=2.8.2->pandas<3.0,>=1.0->cobra) (1.17.0)\n",
            "Requirement already satisfied: mpmath<1.4,>=1.1.0 in /opt/miniconda3/envs/gsmmWorkshop/lib/python3.11/site-packages (from sympy>=1.12.0->optlang~=1.8->cobra) (1.3.0)\n",
            "Requirement already satisfied: sniffio>=1.1 in /opt/miniconda3/envs/gsmmWorkshop/lib/python3.11/site-packages (from anyio->httpx~=0.24->cobra) (1.3.1)\n"
          ]
        }
      ],
      "source": [
        "!pip install gurobipy\n",
        "!pip install cobra"
      ]
    },
    {
      "cell_type": "code",
      "execution_count": 55,
      "metadata": {
        "cellView": "form",
        "colab": {
          "base_uri": "https://localhost:8080/"
        },
        "collapsed": true,
        "id": "x9B7PXyz7fr8",
        "outputId": "3c9ce792-d425-4250-d63a-880a6952d5c6"
      },
      "outputs": [
        {
          "name": "stdout",
          "output_type": "stream",
          "text": [
            "Gurobi is working! 😀\n",
            "flux balance analysis solution is 0.8739215069684305\n",
            "COBRApy is working 😀\n"
          ]
        }
      ],
      "source": [
        "import gurobipy\n",
        "from gurobipy import Model\n",
        "model = Model(\"test\")\n",
        "print(\"Gurobi is working!\", \"\\U0001F600\")\n",
        "\n",
        "#install COBRApy\n",
        "import cobra\n",
        "from cobra.io import load_model\n",
        "model = load_model(\"textbook\")\n",
        "solution = model.optimize()\n",
        "print(f\"flux balance analysis solution is {solution.objective_value}\")\n",
        "print(\"COBRApy is working\", \"\\U0001F600\")"
      ]
    },
    {
      "cell_type": "markdown",
      "metadata": {
        "id": "y5yfknVj7fr8"
      },
      "source": [
        "### **Get path with files we will use**"
      ]
    },
    {
      "cell_type": "markdown",
      "metadata": {},
      "source": [
        "> **NOTE** \n",
        "> \n",
        "> Run the following two chunks, **only** in case you are working on Google Colab. "
      ]
    },
    {
      "cell_type": "code",
      "execution_count": 56,
      "metadata": {
        "colab": {
          "base_uri": "https://localhost:8080/"
        },
        "collapsed": true,
        "id": "8qf9JSqb8XkY",
        "outputId": "d39705e3-492c-49a9-fe9e-9b4e524f9665"
      },
      "outputs": [
        {
          "name": "stdout",
          "output_type": "stream",
          "text": [
            "Cloning into 'metabolic_toy_model'...\n",
            "remote: Enumerating objects: 785, done.\u001b[K\n",
            "remote: Counting objects: 100% (146/146), done.\u001b[K\n",
            "remote: Compressing objects: 100% (117/117), done.\u001b[K\n",
            "remote: Total 785 (delta 88), reused 69 (delta 29), pack-reused 639 (from 1)\u001b[K\n",
            "Receiving objects: 100% (785/785), 64.93 MiB | 1.55 MiB/s, done.\n",
            "Resolving deltas: 100% (454/454), done.\n",
            "Updating files: 100% (187/187), done.\n"
          ]
        }
      ],
      "source": [
        "!git clone https://github.com/hariszaf/metabolic_toy_model.git"
      ]
    },
    {
      "cell_type": "code",
      "execution_count": 57,
      "metadata": {},
      "outputs": [
        {
          "ename": "FileNotFoundError",
          "evalue": "[Errno 2] No such file or directory: '/content/metabolic_toy_model/Antony2025'",
          "output_type": "error",
          "traceback": [
            "\u001b[31m---------------------------------------------------------------------------\u001b[39m",
            "\u001b[31mFileNotFoundError\u001b[39m                         Traceback (most recent call last)",
            "\u001b[36mCell\u001b[39m\u001b[36m \u001b[39m\u001b[32mIn[57]\u001b[39m\u001b[32m, line 2\u001b[39m\n\u001b[32m      1\u001b[39m \u001b[38;5;28;01mimport\u001b[39;00m\u001b[38;5;250m \u001b[39m\u001b[34;01mos\u001b[39;00m\n\u001b[32m----> \u001b[39m\u001b[32m2\u001b[39m \u001b[43mos\u001b[49m\u001b[43m.\u001b[49m\u001b[43mchdir\u001b[49m\u001b[43m(\u001b[49m\u001b[33;43m\"\u001b[39;49m\u001b[33;43m/content/metabolic_toy_model/Antony2025\u001b[39;49m\u001b[33;43m\"\u001b[39;49m\u001b[43m)\u001b[49m\n",
            "\u001b[31mFileNotFoundError\u001b[39m: [Errno 2] No such file or directory: '/content/metabolic_toy_model/Antony2025'"
          ]
        }
      ],
      "source": [
        "import os\n",
        "os.chdir(\"/content/metabolic_toy_model/Antony2025\")"
      ]
    },
    {
      "cell_type": "markdown",
      "metadata": {},
      "source": [
        "### Access some extra scripts"
      ]
    },
    {
      "cell_type": "code",
      "execution_count": null,
      "metadata": {},
      "outputs": [],
      "source": [
        "import numpy as np \n",
        "import sys, os\n",
        "\n",
        "sys.path.append( os.path.dirname(os.getcwd()) )\n",
        "from scripts.intro import *"
      ]
    },
    {
      "cell_type": "markdown",
      "metadata": {},
      "source": [
        "## Background on constraint-based analysis "
      ]
    },
    {
      "cell_type": "markdown",
      "metadata": {},
      "source": [
        "### What is LP?"
      ]
    },
    {
      "cell_type": "markdown",
      "metadata": {},
      "source": [
        "> **DEFINITION**\n",
        "> \n",
        "> **Linear programming (LP**), also called **linear optimization**, is a method to achieve the *best* outcome (such as *maximum* profit or *lowest* cost) in a mathematical\n",
        "> *model* whose ***requirements*** and ***objective*** are represented by **linear relationships**. \n",
        "> \n",
        "> Linear programming is a special case of mathematical programming (also known as mathematical optimization).\n",
        "> \n",
        "> From the [LP wiki lemma](https://en.wikipedia.org/wiki/Linear_programming): \n"
      ]
    },
    {
      "cell_type": "markdown",
      "metadata": {},
      "source": [
        "![starwars](https://img.filmsactu.net/datas/films/s/t/star-wars-episode-ix/n/star-wars-episode-ix-gif-5ccb96a1c2f0a.gif)"
      ]
    },
    {
      "cell_type": "markdown",
      "metadata": {},
      "source": [
        "Let's try to define the above in mathematical terms and then go through those! "
      ]
    },
    {
      "cell_type": "markdown",
      "metadata": {},
      "source": [
        "Linear programs are problems that can be expressed in standard form as:\n",
        "\n",
        "\n",
        "\\begin{array}{l r}\n",
        "    \\text{(Find a vector in which you are interested in, e.g. fluxes of a set of reactions)} & \\mathrm{x} \\\\\n",
        "    \\text{(that maximizes a certain objective function, e.g. the ATP production)} & c^T \\mathrm{x} \\\\\n",
        "    \\text{(subject to, meaning that it respects a set of constraints)} & A\\mathrm{x} \\leq b \\\\\n",
        "    \\text{(and some extra constraints!)} & \\mathrm{x} \\geq 0\n",
        "\\end{array}\n"
      ]
    },
    {
      "cell_type": "markdown",
      "metadata": {},
      "source": [
        "The above formula is the **generic form** of a liner program. \n",
        "To better understand it, we will map the quantities of the system with their metabolic model-oriented ones. "
      ]
    },
    {
      "cell_type": "markdown",
      "metadata": {},
      "source": [
        "Consider a very short pathway that consists of only four reactions."
      ]
    },
    {
      "cell_type": "markdown",
      "metadata": {},
      "source": [
        "![s_example](../files/figs/s_examples.png)"
      ]
    },
    {
      "cell_type": "markdown",
      "metadata": {},
      "source": [
        "> Hint :warning:\n",
        ">\n",
        "> As you can see, metabolite and reaction names in this case do not have the `rxn` and `cpd` prefixes. \n",
        "> This is because they come from the [BiGG](http://bigg.ucsd.edu) namespace and not from the one of ModelSEED that we use in this workshop's models."
      ]
    },
    {
      "cell_type": "markdown",
      "metadata": {},
      "source": [
        "In this figure, you can see the basic concept of metabolic modeling analysis. \n",
        "The network on the left is just a representation of what we are actually using, a list of enzymes (RNDR2, GKI, PYK etc.)! \n",
        "\n",
        "The **stoichiometry** of each of those reactions is **always the same, across all different taxa**! \n",
        "\n",
        "Therefore, from a list of enzymes, we can build the $S$ table on the right, where each row is a metabolite and its column is a reaction, with the values on the table per column, represent the stoichiometry of the corresponding reaction!"
      ]
    },
    {
      "cell_type": "markdown",
      "metadata": {},
      "source": [
        "\n",
        ":red_circle: This stoichiometric matrix ($S$) corresponds to the $A$ matrix on the generic form of the LP. \n",
        "\n",
        ":red_circle: Our constraints $v_{lb}$ and $v_{ub}$ correspond to the $b$ vector on the generic form of the LP. \n",
        "\n",
        ":red_circle: The quantity to be determined ($\\mathrm{x}$) in our case would be the flux vector, ie., a $v$ that supports the optimal value. \n",
        "\n",
        ":red_circle: The objective function $c^Tx$ in the generic formula, is nothing but our flux vector ($v$) when multiplied with the objective coefficients vector ($c$). "
      ]
    },
    {
      "cell_type": "markdown",
      "metadata": {},
      "source": [
        "> **NOTE**\n",
        "> \n",
        "> :exclamation: If you look a bit closer, you may notice that in our case, we have both lower and upper bounds, \n",
        "> while in the generic formula we see only a part for having the product between the matrix and the quantity to be determined.\n",
        ">\n",
        "> Can you think how this would be addressed ? "
      ]
    },
    {
      "cell_type": "code",
      "execution_count": null,
      "metadata": {},
      "outputs": [],
      "source": []
    },
    {
      "cell_type": "markdown",
      "metadata": {},
      "source": []
    },
    {
      "cell_type": "code",
      "execution_count": null,
      "metadata": {},
      "outputs": [],
      "source": [
        "# Stoichiometric matrix for a single reaction: A -> B, constraints are -v1 + v2 = 0\n",
        "S = np.array([[1, -1]])\n",
        "\n",
        "# Bounds: flux 1 between 0 and 5, flux 2 between 0 and 5\n",
        "bounds = [(-2, 10), (-4, 5)]\n",
        "\n",
        "# Objective: Maximize v2 (e.g., production of B)\n",
        "objective = np.array([0, 1])\n",
        "\n",
        "# Create the FBA instance\n",
        "fba = FluxBalanceAnalysis(S, bounds, objective)\n",
        "\n",
        "# Run optimization\n",
        "result = fba.optimize()\n",
        "print(\"Optimization Result:\", result)"
      ]
    },
    {
      "cell_type": "code",
      "execution_count": null,
      "metadata": {},
      "outputs": [],
      "source": [
        "# Visualize the geometry\n",
        "fba.visualize_geometry()"
      ]
    },
    {
      "cell_type": "markdown",
      "metadata": {},
      "source": [
        "> :question: **Task!**\n",
        ">\n",
        "> Who can describe us how the PYK reaction of the network is represented on the $S$ table?  \n"
      ]
    },
    {
      "cell_type": "markdown",
      "metadata": {},
      "source": [
        "Yet, what we are interested in are the fluxes, but what is it actually a flux ? \n",
        "\n",
        "\n",
        "(\n",
        "    for more visual and conceptual components, you may travel on the [*Journey of a Metabolite*](https://iwasa.biochem.utah.edu/metabolism/chapter2.html) \n",
        ")\n"
      ]
    },
    {
      "cell_type": "markdown",
      "metadata": {},
      "source": [
        "<iframe src=\"https://player.vimeo.com/video/542375960\" width=\"840\" height=\"560\" frameborder=\"0\" allowfullscreen></iframe>"
      ]
    },
    {
      "cell_type": "markdown",
      "metadata": {},
      "source": [
        "> **Definition**\n",
        ">\n",
        "> Metabolic **flux** is amount of a metabolite processed by one or more catalytic steps per unit of time, and it is normalized by cellular abundance (e.g. gram dry weight) ([Stephanopoulos et al., 1998](https://www.sciencedirect.com/book/9780126662603/metabolic-engineering))."
      ]
    },
    {
      "cell_type": "markdown",
      "metadata": {},
      "source": [
        "Thus, there is a very simple relationship between concentrations and fluxes:\n",
        "\n",
        " $$ \\frac{dx}{dt}= Sv(x) $$\n",
        "\n",
        "where:\n",
        "- $x$ the concentration vector\n",
        "- $S$ the stoichiometric matrix of your network, and \n",
        "- $v$ the fluxes of your species at a certain time point.\n",
        "\n",
        "Assuming our system lives in a steady state, meaning the **concentrations** of metabolites remain **constant** over time, meaning that the **rates of production and consumption** of each metabolite are **balanced**.\n"
      ]
    },
    {
      "cell_type": "markdown",
      "metadata": {},
      "source": [
        "### What is a constraint ? "
      ]
    },
    {
      "cell_type": "markdown",
      "metadata": {},
      "source": [
        "We call a ***constraint*** a mathematical condition that limits the feasible solutions of an optimization problem. Constraints define the relationships between decision variables and ensure that the solution satisfies certain conditions."
      ]
    },
    {
      "cell_type": "markdown",
      "metadata": {},
      "source": [
        "In metabolic modeling, there are several types of constraints representing various biological factors. \n",
        "\n",
        "Constraints may be denoted either as:\n",
        "\n",
        "- **Equality constraints:**\n",
        "  e.g. $x_1 + x_2 = 10$\n",
        "\n",
        "- **Inequality constraints:**\n",
        "  e.g. $2x_1 - 4x_3 \\leq 30$\n",
        "\n",
        "- **Bound constraints**:\n",
        "  e.g. $0 \\leq x_1 \\leq 20$\n"
      ]
    },
    {
      "cell_type": "markdown",
      "metadata": {},
      "source": [
        "Indicatively, we may note: \n",
        "    \n",
        "- **Mass Balance Constraints (Steady-State Constraint)**\n",
        "  Core of our LP. \n",
        "  Ensures that metabolite concentrations remain constant (no accumulation or depletion).\n",
        "\n",
        "- **Thermodynamic Constraints**\n",
        "\n",
        "  Impose reaction directionality (some reactions are irreversible).\n",
        "  Based on Gibbs free energy:\n",
        "\n",
        "  $ΔG=ΔG^0 + RTln(Q)$\n",
        "\n",
        "\n",
        "- **Enzyme Capacity Constraints**\n",
        "  Limits fluxes based on enzyme abundance or activity\n",
        "\n",
        "- **Nutrient Uptake Constraints**\n",
        "  exchange reactions\n",
        "\n",
        "- **Resource allocation**\n",
        "\n",
        "$$\\sum_i \\frac{v_i}{k_{\\text{cat}, i} E_i} \\leq E_{\\text{total}}$$\n",
        "\n",
        "where:\n",
        "\n",
        "$v_i$ = reaction flux, \n",
        "$k_{cat,i}$ = enzyme turnover number,\n",
        "$E_i​$  = enzyme concentration,\n",
        "$E_{total}$ = total enzyme budget\n",
        "\n",
        "- **Energy constraints (ATP)**\n",
        "\n",
        "  ATP maintenance requirements for cellular functions \n",
        "\n",
        "- **Coupling constraints**\n",
        "\n",
        " Links fluxes of related reactions due to enzyme co-regulation or co-factor dependencies.\n",
        " e.g. $v_1 = kv_2$\n",
        "​\n"
      ]
    },
    {
      "cell_type": "code",
      "execution_count": null,
      "metadata": {},
      "outputs": [],
      "source": [
        "samples_in_constraint_3D(\n",
        "    r1_bounds = [5, 10],\n",
        "    r2_bounds = [-2, 10],\n",
        "    r3_bounds = [0,  40],\n",
        "    r3_relationship = [-1, -1]\n",
        ")\n",
        "# In case you are running this locally and you get an error, \n",
        "# try to prvide a renderer on the function\n",
        "# e.g samples_in_constraint_3D(r1_bounds, r2_bounds, r3_bounds, renderer=\"browser\")"
      ]
    },
    {
      "cell_type": "markdown",
      "metadata": {},
      "source": [
        "## Constraint-based methods for metabolic modeling analysis "
      ]
    },
    {
      "cell_type": "markdown",
      "metadata": {},
      "source": [
        "### Flux Balance Analysis"
      ]
    },
    {
      "cell_type": "code",
      "execution_count": null,
      "metadata": {},
      "outputs": [],
      "source": [
        "import cobra\n",
        "ecoli = cobra.io.read_sbml_model(\"files/models/e_coli_core.xml\")"
      ]
    },
    {
      "cell_type": "code",
      "execution_count": null,
      "metadata": {},
      "outputs": [],
      "source": [
        "ecoli"
      ]
    },
    {
      "cell_type": "code",
      "execution_count": null,
      "metadata": {},
      "outputs": [],
      "source": [
        "sol_fba = ecoli.optimize()"
      ]
    },
    {
      "cell_type": "code",
      "execution_count": null,
      "metadata": {},
      "outputs": [],
      "source": [
        "sum_fba = ecoli.summary()"
      ]
    },
    {
      "cell_type": "code",
      "execution_count": null,
      "metadata": {},
      "outputs": [],
      "source": [
        "sum_fba"
      ]
    },
    {
      "cell_type": "markdown",
      "metadata": {},
      "source": [
        "> **TASK**\n",
        ">\n",
        "> 1. What is the limiting factor for the growth of the e_coli_core model ? \n",
        ">\n",
        "> 2. Go on and tell us what would you do to achieve a higher growth in terms of considering the constraints on your model "
      ]
    },
    {
      "cell_type": "markdown",
      "metadata": {},
      "source": [
        "Summary can be rather useful as shown above for the model overall. \n",
        "\n",
        "`cobra` supports summaries per metabolite and reaction as well, for example:"
      ]
    },
    {
      "cell_type": "code",
      "execution_count": null,
      "metadata": {},
      "outputs": [],
      "source": [
        "ecoli.metabolites.atp_c.summary()"
      ]
    },
    {
      "cell_type": "markdown",
      "metadata": {},
      "source": [
        "### Gene Knockouts"
      ]
    },
    {
      "cell_type": "code",
      "execution_count": null,
      "metadata": {},
      "outputs": [],
      "source": [
        "ecoli.genes[0]"
      ]
    },
    {
      "cell_type": "markdown",
      "metadata": {},
      "source": [
        "You would get the same by asking the specific gene id."
      ]
    },
    {
      "cell_type": "code",
      "execution_count": null,
      "metadata": {},
      "outputs": [],
      "source": [
        "ecoli.genes.b1241"
      ]
    },
    {
      "cell_type": "markdown",
      "metadata": {},
      "source": [
        "A rather common and among the first tasks in metabolic modeling was to test how your species would react it they would lose a gene!\n",
        "This can be easily rephrased as what would happen if a reaction of interest, was not allowed to have any flux at all.\n",
        "\n",
        "So let us knockout the Aconitase reaction and see what happens!\n"
      ]
    },
    {
      "cell_type": "code",
      "execution_count": null,
      "metadata": {},
      "outputs": [],
      "source": [
        "ecoli.reactions.ACONTa.knock_out()"
      ]
    },
    {
      "cell_type": "code",
      "execution_count": null,
      "metadata": {},
      "outputs": [],
      "source": [
        "\n",
        "ecoli.reactions.ACONTa"
      ]
    },
    {
      "cell_type": "markdown",
      "metadata": {},
      "source": [
        "As you can see, the reaction is still part of my model but both its bounds now are set to 0. \n",
        "\n",
        "To check how this affected our model, let's just optimize (FBA) the model again."
      ]
    },
    {
      "cell_type": "code",
      "execution_count": null,
      "metadata": {},
      "outputs": [],
      "source": [
        "ecoli.optimize()"
      ]
    },
    {
      "cell_type": "markdown",
      "metadata": {},
      "source": [
        "Ooops! The e_coli_core model now is not able to grow! \n",
        "You see though that the fluxes of other reactions are not always 0. "
      ]
    },
    {
      "cell_type": "code",
      "execution_count": null,
      "metadata": {},
      "outputs": [],
      "source": [
        "ecoli.summary()"
      ]
    },
    {
      "cell_type": "markdown",
      "metadata": {},
      "source": [
        "> **TASK**\n",
        ">\n",
        "> Compare the summaries of the initial model and of the one with the Aconitase reaction knocked out."
      ]
    },
    {
      "cell_type": "markdown",
      "metadata": {},
      "source": [
        "`cobra` allows you to perform all single gene deletions on a model as well as double deletions! "
      ]
    },
    {
      "cell_type": "code",
      "execution_count": null,
      "metadata": {},
      "outputs": [],
      "source": [
        "from cobra.flux_analysis import single_gene_deletion\n",
        "deletion_results = single_gene_deletion(ecoli)\n",
        "deletion_results[\"growth\"]"
      ]
    },
    {
      "cell_type": "code",
      "execution_count": null,
      "metadata": {},
      "outputs": [],
      "source": [
        "max(deletion_results[\"growth\"])"
      ]
    },
    {
      "cell_type": "markdown",
      "metadata": {},
      "source": [
        "The e_coli_core model is a toy example where every reaction is required for the growth of the model. "
      ]
    },
    {
      "cell_type": "markdown",
      "metadata": {},
      "source": [
        "> **TASK**\n",
        ">\n",
        "> 1. Using a gapfilled model of yours, try to get your gene deletions and tell us what percentage of their genes can be removed without your model lose its ability to grow. \n",
        "> 2. What if you would try the `single_reaction_deletion` function of `cobra`? Would that be any different ? \n",
        "> 3. How about testing for double deletions, meaning to knockout two genes/proteins at the same time (`double_gene_deletion`). \n",
        ">"
      ]
    },
    {
      "cell_type": "markdown",
      "metadata": {},
      "source": [
        "### Flux Variability Analysis"
      ]
    },
    {
      "cell_type": "markdown",
      "metadata": {},
      "source": [
        "FVA aims to determine the minimum and maximum flux value for each reaction, given a certain value of the objective function. \n",
        "\n",
        "This means, that considering for example that we require our objective function to be optimal, FVA will return the minimum and maximum flux of each and every reaction of the model that supports this optimal value for our objective.\n",
        "\n",
        "Let's see an example!"
      ]
    },
    {
      "cell_type": "code",
      "execution_count": null,
      "metadata": {},
      "outputs": [],
      "source": [
        "from cobra.flux_analysis import flux_variability_analysis"
      ]
    },
    {
      "cell_type": "code",
      "execution_count": null,
      "metadata": {},
      "outputs": [],
      "source": [
        "fva = flux_variability_analysis(ecoli)\n",
        "fva"
      ]
    },
    {
      "cell_type": "markdown",
      "metadata": {},
      "source": [
        "Let us now run FVA again this time given the objective to be at least at 50% of its optimal."
      ]
    },
    {
      "cell_type": "code",
      "execution_count": null,
      "metadata": {},
      "outputs": [],
      "source": [
        "fva_05_opt = flux_variability_analysis(ecoli, fraction_of_optimum=0.5)\n",
        "fva_05_opt"
      ]
    },
    {
      "cell_type": "code",
      "execution_count": null,
      "metadata": {},
      "outputs": [],
      "source": [
        "fva_05_opt.loc[\"BIOMASS_Ecoli_core_w_GAM\"]"
      ]
    },
    {
      "cell_type": "markdown",
      "metadata": {},
      "source": [
        "> **TASK**\n",
        ">\n",
        "> They seem quite similar the two FVA we got. Can you get any differences?"
      ]
    },
    {
      "cell_type": "code",
      "execution_count": null,
      "metadata": {},
      "outputs": [],
      "source": [
        "diff_max = fva[\"maximum\"] != fva_05_opt[\"maximum\"]\n",
        "fva[diff_max]"
      ]
    },
    {
      "cell_type": "code",
      "execution_count": null,
      "metadata": {},
      "outputs": [],
      "source": [
        "print(fva.loc[\"GLUN\"])\n",
        "print(fva_05_opt.loc[\"GLUN\"])\n",
        "fva_05_opt.loc[\"GLUN\"] == fva.loc[\"GLUN\"]"
      ]
    },
    {
      "cell_type": "code",
      "execution_count": null,
      "metadata": {},
      "outputs": [],
      "source": [
        "print(fva.loc[\"NADH16\"])\n",
        "print(fva_05_opt.loc[\"NADH16\"])\n",
        "fva_05_opt.loc[\"NADH16\"] == fva.loc[\"NADH16\"]"
      ]
    },
    {
      "cell_type": "markdown",
      "metadata": {},
      "source": [
        "> **NOTE**\n",
        ">\n",
        "> We just observed a numerical issue! :rocket:"
      ]
    },
    {
      "cell_type": "markdown",
      "metadata": {},
      "source": [
        "> **TASK**\n",
        ">\n",
        "> Since we are now considering the objective function to be only half of the optimal, how is it possible for the FVA solution not to change at all?\n",
        ">\n",
        "> Ooops.. We have knocked out a gene or two, remember? So, load the model again and run FVA for optimal and half-optimal cases."
      ]
    },
    {
      "cell_type": "code",
      "execution_count": null,
      "metadata": {},
      "outputs": [],
      "source": [
        "ecoli = cobra.io.read_sbml_model(\"files/models/e_coli_core.xml\")\n",
        "fva_ = flux_variability_analysis(ecoli)\n",
        "fva_05_opt = flux_variability_analysis(ecoli, fraction_of_optimum=0.5)\n",
        "diff_max = fva[\"maximum\"] != fva_05_opt[\"maximum\"]"
      ]
    },
    {
      "cell_type": "code",
      "execution_count": null,
      "metadata": {},
      "outputs": [],
      "source": [
        "import pandas as pd "
      ]
    },
    {
      "cell_type": "code",
      "execution_count": null,
      "metadata": {},
      "outputs": [],
      "source": [
        "diff_max_1 = fva[\"maximum\"] != fva_05_opt[\"maximum\"]\n",
        "diff_max_2 = fva_05_opt[\"maximum\"] != fva[\"maximum\"]\n",
        "\n",
        "# Get indices where differences occur in both FVA solutions\n",
        "common_diff_indices = fva.index[diff_max_1 & diff_max_2]\n",
        "\n",
        "df_common_diff = pd.DataFrame({\n",
        "    \"fva_min\": fva.loc[common_diff_indices, \"minimum\"],\n",
        "    \"fva_max\": fva.loc[common_diff_indices, \"maximum\"],\n",
        "    \"fva_05_min\": fva_05_opt.loc[common_diff_indices, \"minimum\"],\n",
        "    \"fva_05_max\": fva_05_opt.loc[common_diff_indices, \"maximum\"]\n",
        "})\n",
        "\n",
        "print(df_common_diff)"
      ]
    },
    {
      "cell_type": "markdown",
      "metadata": {},
      "source": [
        "> **TASK**\n",
        ">\n",
        "> Use a gapfilled model of yours to perform FVA. \n",
        ">\n",
        "> Choose 2 reactions of it and tell us how you interpret their combined findings."
      ]
    },
    {
      "cell_type": "markdown",
      "metadata": {},
      "source": [
        "### Phenotype phase planes"
      ]
    },
    {
      "cell_type": "markdown",
      "metadata": {},
      "source": [
        "> **Key concept:**\n",
        "> \n",
        "> *\"To map the optimal metabolic flux distribution onto a single plane, which is defined by the availability of two key substrates.\"* as described in the [Edwards et. al (2002)](https://doi.org/10.1002/bit.10047) study.\n",
        "> \n",
        "> In other words, PPPs show distinct phases of optimal growth with different use of two different substrates."
      ]
    },
    {
      "cell_type": "markdown",
      "metadata": {},
      "source": [
        "\n",
        "> **NOTE** \n",
        "> Calculate the **objective value** *conditioned* on all flux combinations.\n",
        "> \n",
        "> The production envelope can be used to analyze a model's ability to produce a given compound conditional on the fluxes for another set of reactions, such as the uptake rates. \n",
        "> \n",
        "> The model is alternately optimized with respect to minimizing and maximizing the objective and the obtained fluxes are recorded. \n",
        "> Ranges to compute production is set to the\n",
        "> effective bounds, i.e., the minimum / maximum fluxes that can be\n",
        "> obtained given current reaction bounds.\n",
        ">\n",
        "> From the [`cobra.flux_analysis.production_envelope()`](https://cobrapy.readthedocs.io/en/latest/_modules/cobra/flux_analysis/phenotype_phase_plane.html#production_envelope) documentation"
      ]
    },
    {
      "cell_type": "code",
      "execution_count": null,
      "metadata": {},
      "outputs": [],
      "source": [
        "import cobra\n",
        "from cobra.flux_analysis import production_envelope\n",
        "\n",
        "ecoli = cobra.io.read_sbml_model(\"files/models/e_coli_core.xml\")"
      ]
    },
    {
      "cell_type": "code",
      "execution_count": null,
      "metadata": {},
      "outputs": [],
      "source": [
        "sol = ecoli.optimize()\n",
        "summ = ecoli.summary()"
      ]
    },
    {
      "cell_type": "code",
      "execution_count": null,
      "metadata": {},
      "outputs": [],
      "source": [
        "summ.uptake_flux"
      ]
    },
    {
      "cell_type": "code",
      "execution_count": null,
      "metadata": {},
      "outputs": [],
      "source": [
        "prod_env = production_envelope(ecoli, [\"EX_glc__D_e\", \"EX_o2_e\"])\n"
      ]
    },
    {
      "cell_type": "code",
      "execution_count": null,
      "metadata": {},
      "outputs": [],
      "source": [
        "prod_env.head()"
      ]
    },
    {
      "cell_type": "markdown",
      "metadata": {},
      "source": [
        "So, what can we get out of this..? :thinking:"
      ]
    },
    {
      "cell_type": "markdown",
      "metadata": {},
      "source": [
        "Let's break down how the envelope function works!"
      ]
    },
    {
      "cell_type": "code",
      "execution_count": null,
      "metadata": {},
      "outputs": [],
      "source": [
        "from cobra.flux_analysis import flux_variability_analysis as fva\n",
        "from itertools import product\n",
        "\n",
        "rxn_ids = [\"EX_glc__D_e\", \"EX_o2_e\"]\n",
        "min_max = fva(ecoli, rxn_ids, fraction_of_optimum=0)\n",
        "\n",
        "reactions = [ecoli.reactions.get_by_id(x) for x in rxn_ids]\n",
        "points = 10\n",
        "points = list(\n",
        "    product(\n",
        "        *[\n",
        "            np.linspace(\n",
        "                min_max.at[rxn.id, \"minimum\"],\n",
        "                min_max.at[rxn.id, \"maximum\"],\n",
        "                points,\n",
        "                endpoint=True,\n",
        "            )\n",
        "            for rxn in reactions\n",
        "        ]\n",
        "    )\n",
        ")\n",
        "print(points[:5])\n",
        "print(len(points))"
      ]
    },
    {
      "cell_type": "markdown",
      "metadata": {},
      "source": [
        "> **TASK**\n",
        ">\n",
        "> What is the \"heart\" of the `production_enevelope()` function? \n",
        ">\n",
        "> How would you explain the value the \"hidden\" argument of this \"heart\" gets? "
      ]
    },
    {
      "cell_type": "code",
      "execution_count": null,
      "metadata": {},
      "outputs": [],
      "source": [
        "tmp = pd.DataFrame(points, columns=[rxn.id for rxn in reactions])\n",
        "tmp"
      ]
    },
    {
      "cell_type": "markdown",
      "metadata": {},
      "source": [
        "> **TASK**\n",
        ">\n",
        "> Go ahead and produce envelopes with your gapfilled model! Test hypotheses that would have a biological concept, for example oxygen should not mind anaerobic bacteria, right ? \n",
        ">\n",
        "> "
      ]
    },
    {
      "cell_type": "code",
      "execution_count": null,
      "metadata": {},
      "outputs": [],
      "source": [
        "def plot_one_var_env(prod_env, variable_rxn, model ):\n",
        "    import matplotlib.pyplot as plt\n",
        "    rxn = model.reactions.get_by_id(variable_rxn)\n",
        "    met, *_ = rxn.metabolites\n",
        "    met_name = met.name\n",
        "\n",
        "    # Plot the production envelope\n",
        "    plt.figure(figsize=(6, 4))\n",
        "    plt.fill_between(prod_env[variable_rxn], prod_env[\"flux_minimum\"], prod_env[\"flux_maximum\"], alpha=0.3, label=\"Feasible region\")\n",
        "    plt.plot(prod_env[variable_rxn], prod_env[\"flux_maximum\"], label=\"Max biomass\", marker=\"o\")\n",
        "    plt.xlabel(f\"{met_name} Uptake Rate (mmol/gDW/hr)\")\n",
        "    plt.ylabel(\"Growth Rate (h⁻¹)\")\n",
        "    plt.legend()\n",
        "    plt.title(f\"Production Envelope: Growth vs. {met_name} Uptake\")\n",
        "    plt.show()"
      ]
    },
    {
      "cell_type": "code",
      "execution_count": null,
      "metadata": {},
      "outputs": [],
      "source": [
        "# Define the two reactions for the production envelope\n",
        "objective_rxn = \"BIOMASS_Ecoli_core_w_GAM\"  # Growth\n",
        "variable_rxn = \"EX_glc__D_e\"  # Glucose uptake\n",
        "\n",
        "# Compute the production envelope\n",
        "prod_env_one_var= production_envelope(model, [variable_rxn])\n",
        "\n",
        "plot_one_var_env(prod_env_one_var, variable_rxn, model)"
      ]
    },
    {
      "cell_type": "code",
      "execution_count": null,
      "metadata": {},
      "outputs": [],
      "source": [
        "variable_rxn = \"EX_o2_e\"  # Glucose uptake\n",
        "\n",
        "# Compute the production envelope\n",
        "prod_env_one_var= production_envelope(model, [variable_rxn])\n",
        "\n",
        "plot_one_var_env(prod_env_one_var, variable_rxn, model)"
      ]
    },
    {
      "cell_type": "markdown",
      "metadata": {},
      "source": [
        "The slightest presence of oxygen would give a growth rate of 0.2 while in the glucose case things were completely linear."
      ]
    },
    {
      "cell_type": "code",
      "execution_count": null,
      "metadata": {},
      "outputs": [],
      "source": [
        "plot_one_var_env(prod_env, variable_rxn, model)"
      ]
    },
    {
      "cell_type": "code",
      "execution_count": null,
      "metadata": {},
      "outputs": [],
      "source": [
        "met, *_ = ecoli.reactions.get_by_id(variable_rxn).metabolites\n",
        "met.name"
      ]
    },
    {
      "cell_type": "markdown",
      "metadata": {},
      "source": [
        "Let us visualize them now together, O2 and gluclose:"
      ]
    },
    {
      "cell_type": "code",
      "execution_count": null,
      "metadata": {},
      "outputs": [],
      "source": [
        "v1 = prod_env[\"EX_glc__D_e\"] ; v2 = prod_env[\"EX_o2_e\"] ; v3 = prod_env[\"flux_maximum\"]\n",
        "\n",
        "if is_colab():\n",
        "    plot_prod_env_3D(v1, v2, v3)\n",
        "\n",
        "plot_prod_env_3D(v1, v2, v3, renderer=\"browser\")"
      ]
    },
    {
      "cell_type": "markdown",
      "metadata": {},
      "source": [
        "### Flux sampling"
      ]
    },
    {
      "cell_type": "markdown",
      "metadata": {},
      "source": [
        "We have already mentioned the fact that: \n",
        "\n",
        "1. we do not need to have an objective function at all to check what our model can do \n",
        "2. in case we do use an objective function, there is not a unique flux vector that supports the optimal value returned.\n",
        "\n",
        "So, how could we go for these challenges? "
      ]
    },
    {
      "cell_type": "markdown",
      "metadata": {},
      "source": [
        "![polytpe](../files/figs/polytope.png)\n"
      ]
    },
    {
      "cell_type": "markdown",
      "metadata": {},
      "source": [
        "Flux sampling is an approach that can rather useful to this end. It aims at picking randomly flux vectors from the total flux space either uniform or based on any other distribution asked. "
      ]
    },
    {
      "cell_type": "markdown",
      "metadata": {},
      "source": [
        "![points](../files/figs/cone_points.png)"
      ]
    },
    {
      "cell_type": "markdown",
      "metadata": {},
      "source": [
        "Flux sampling is computationally rather challenging, especially while the dimension of your polytope increases.\n",
        "This would happen when the number of reactions increase in general, but also, as you keep adding constraints. \n",
        "\n",
        "There is a great number of sampling algorithms that exceed the scope of metabolic modelling; similar tasks are applied to completely different data universes, e.g. stock market.\n",
        "\n",
        "The `cobra` library integrates the widely known Artificial Centering Hit-and-Run. \n",
        "\n",
        "Here, we will use samples returned by [`dingo`](https://github.com/GeomScale/dingo) a Python library we built to address a series of challenges on the field. \n",
        "`dingo` is an open source project that keeps developing to address further tasks on flux sampling. \n",
        "\n",
        "Just as a toy case of how samplers work is shown below with the case of **Billiard walk**:\n",
        "a type of random walk where a point (or particle) moves in a straight line inside a confined region and reflects off the boundaries according to the laws of elastic collision, similar to how a billiard ball bounces off the edges of a pool table."
      ]
    },
    {
      "cell_type": "markdown",
      "metadata": {},
      "source": [
        "![billiard](../files/figs/billiard.png)"
      ]
    },
    {
      "cell_type": "code",
      "execution_count": null,
      "metadata": {},
      "outputs": [],
      "source": [
        "import pickle \n",
        "with open(\"../files/ecoli_samples.pckl\", \"rb\") as f:\n",
        "    ecoli_samples = pickle.load(f)"
      ]
    },
    {
      "cell_type": "code",
      "execution_count": null,
      "metadata": {},
      "outputs": [],
      "source": [
        "ecoli_samples.shape"
      ]
    },
    {
      "cell_type": "code",
      "execution_count": null,
      "metadata": {},
      "outputs": [],
      "source": [
        "# plot the histogram for the 14th reaction in e-coli (ACONTa)\n",
        "reactions = [x.name for x in ecoli.reactions]\n",
        "plot_histogram(\n",
        "        ecoli_samples[13],\n",
        "        reactions[13],\n",
        "        n_bins = 60,\n",
        "        )"
      ]
    },
    {
      "cell_type": "code",
      "execution_count": null,
      "metadata": {},
      "outputs": [],
      "source": [
        "data_flux2=[ecoli_samples[12],reactions[12]]\n",
        "data_flux1=[ecoli_samples[13],reactions[13]]\n",
        "plot_copula(data_flux1, data_flux2, n=10)"
      ]
    },
    {
      "cell_type": "markdown",
      "metadata": {},
      "source": [
        "In general, what we gain with sampling is **statistical power**. We can now use our samples and investigate which reactions are correlated, anti-correlated etc.\n",
        "\n",
        "We can investigate for pathways, clusters of reactions forming different metabolic profiles etc.  "
      ]
    },
    {
      "cell_type": "markdown",
      "metadata": {},
      "source": [
        "> **TASK**\n",
        ">\n",
        "> Could you build a correlation matrix from the dingo samples? "
      ]
    },
    {
      "cell_type": "code",
      "execution_count": null,
      "metadata": {},
      "outputs": [],
      "source": [
        "df = pd.DataFrame(ecoli_samples.T, columns=reactions)\n",
        "corr_matrix = df.corr()\n",
        "corr_matrix"
      ]
    },
    {
      "cell_type": "code",
      "execution_count": null,
      "metadata": {},
      "outputs": [],
      "source": [
        "fig, ax = plt.subplots(figsize=(6, 5))\n",
        "cax = ax.matshow(corr_matrix, cmap=\"coolwarm\")\n",
        "plt.colorbar(cax)\n",
        "\n",
        "# Show labels\n",
        "ax.set_xticks(range(len(corr_matrix.columns)))\n",
        "ax.set_yticks(range(len(corr_matrix.columns)))\n",
        "ax.set_xticklabels(corr_matrix.columns, rotation=90, fontsize=4)\n",
        "ax.set_yticklabels(corr_matrix.columns, fontsize=4)\n",
        "\n",
        "plt.title(\"Correlation Coefficient Matrix\", pad=20)\n",
        "plt.show()"
      ]
    },
    {
      "cell_type": "markdown",
      "metadata": {
        "id": "_JTvOWga7fr8"
      },
      "source": [
        "### **MAMBO**"
      ]
    },
    {
      "cell_type": "markdown",
      "metadata": {
        "id": "jKCLjaLT7fr9"
      },
      "source": [
        "![MAMBO](https://github.com/hariszaf/metabolic_toy_model/blob/main/Antony2025/images/garza2018.png?raw=1)"
      ]
    },
    {
      "cell_type": "markdown",
      "metadata": {
        "id": "8bW-36Z_7fr9"
      },
      "source": [
        "#### **Get our models**"
      ]
    },
    {
      "cell_type": "code",
      "execution_count": null,
      "metadata": {
        "id": "sGg-Q5Kf7fr9"
      },
      "outputs": [],
      "source": [
        "models_dir = os.path.join(os.getcwd(), \"files/models/\")\n",
        "sugar_fermenter = cobra.io.read_sbml_model(os.path.join(models_dir,  \"sugar_fermenter_toy_model.xml\"))\n",
        "butyrate_producer = cobra.io.read_sbml_model(os.path.join(models_dir, \"butyrate_producer_toy_model.xml\"))\n",
        "acetogen = cobra.io.read_sbml_model(os.path.join(models_dir, \"acetogen_toy_model.xml\"))"
      ]
    },
    {
      "cell_type": "markdown",
      "metadata": {
        "id": "pcFYy7Pv7fr9"
      },
      "source": [
        "#### **Get the code for MAMBO**"
      ]
    },
    {
      "cell_type": "code",
      "execution_count": null,
      "metadata": {
        "collapsed": true,
        "id": "KRWaxaXYD9Fo"
      },
      "outputs": [],
      "source": [
        "import numpy as np\n",
        "import scipy.stats as sts\n",
        "\n",
        "def apply_environment(mdl, media_dict):\n",
        "    for i in media_dict:\n",
        "        if mdl.reactions.has_id(i):\n",
        "            mdl.reactions.get_by_id(i).lower_bound=-media_dict[i]\n",
        "\n",
        "    sol_m=mdl.optimize()\n",
        "    return sol_m.objective_value\n",
        "\n",
        "def getRMSE(x,y):\n",
        "\n",
        "    return np.sqrt( np.mean( (x-y)**2) )\n",
        "\n",
        "def MetropolisSA(new_value, current_value, rabs, T):\n",
        "\n",
        "    if None in new_value:\n",
        "        return (False, 0, 0, 1)\n",
        "\n",
        "    candidate_prob = np.exp(-getRMSE(current_value, new_value) / T)\n",
        "\n",
        "\n",
        "    if np.random.uniform() < candidate_prob:\n",
        "        return (True, candidate_prob) #True means the statistics will be accepted.\n",
        "    else:\n",
        "        return (False, candidate_prob)#Statistics rejected.\n",
        "\n",
        "\n",
        "def Metropolis(new_value, current_value, rabs):\n",
        "\n",
        "    if None in new_value:\n",
        "        return (False, 0, 0, 1)\n",
        "    optimal = np.arcsinh(0.999)\n",
        "    standard_error = 0.45#(1/(len(new_value)**0.5))\n",
        "    candidate_prob = sts.norm.pdf(np.arctanh(sts.pearsonr(new_value, rabs)[0]), loc=optimal,scale=standard_error)\n",
        "\n",
        "    current_prob = sts.norm.pdf(np.arctanh(sts.pearsonr(current_value, rabs)[0]), loc=optimal,scale=standard_error)\n",
        "\n",
        "    statistic = candidate_prob/current_prob\n",
        "\n",
        "    if np.random.uniform() < statistic:\n",
        "        return (True, statistic, candidate_prob, current_prob) #True means the statistics will be accepted.\n",
        "    else:\n",
        "        return (False, statistic, candidate_prob, current_prob)#Statistics rejected.\n",
        "\n",
        "\n",
        "def current_solution(modelList, media):\n",
        "    sol = np.array([apply_environment(i, media) for i in modelList])\n",
        "    return sol\n",
        "\n",
        "\n",
        "def MCMC(media, modelList, rab):\n",
        "    m2 = media.copy()\n",
        "    ch = np.random.choice(list(media))\n",
        "    m2[ch]= max(0, m2[ch] + np.random.uniform(low=-0.5, high=0.5))\n",
        "    sol_current = current_solution(modelList, media)\n",
        "    sol_candidate = current_solution(modelList, m2)\n",
        "\n",
        "    met = Metropolis(sol_candidate, sol_current, rab)\n",
        "\n",
        "\n",
        "    print(met)\n",
        "\n",
        "    if met[0]:\n",
        "        return (sol_candidate, m2)\n",
        "\n",
        "    else:\n",
        "        return (sol_current, media)\n",
        "\n",
        "def bunching(vec):\n",
        "    p0 = vec[0]\n",
        "\n",
        "    for i in range(1, len(vec)):\n",
        "        p0 = (p0 + vec[i])/2\n",
        "\n",
        "    return p0\n",
        "\n",
        "\n",
        "\n",
        "\n"
      ]
    },
    {
      "cell_type": "markdown",
      "metadata": {
        "id": "swUmJ5IuHQ0y"
      },
      "source": [
        "#### **Run MAMBO**"
      ]
    },
    {
      "cell_type": "code",
      "execution_count": null,
      "metadata": {
        "colab": {
          "base_uri": "https://localhost:8080/"
        },
        "collapsed": true,
        "id": "QNBDZ7R3HJJ7",
        "outputId": "dcd01019-7e4e-4bc1-8bb5-4374192ce19f"
      },
      "outputs": [],
      "source": [
        "media = {'EX_cpd00027_e':1,\n",
        "         'EX_cpd00011_e':1,\n",
        "         'EX_cpd11640_e':1,\n",
        "         'EX_cpd00159_e':1,\n",
        "         'EX_cpd00047_e':1,\n",
        "         'EX_cpd00029_e':1\n",
        "         }\n",
        "apply_environment(acetogen, media)\n",
        "apply_environment(sugar_fermenter, media)\n",
        "apply_environment(butyrate_producer, media)\n",
        "\n",
        "\n",
        "acetogen.optimize()\n",
        "sugar_fermenter.optimize()\n",
        "butyrate_producer.optimize()\n",
        "\n",
        "\n",
        "modelList = [sugar_fermenter, butyrate_producer, acetogen]\n",
        "\n",
        "#####Composition Vector####\n",
        "composition = np.array([9, 10, 8])\n",
        "\n",
        "medias = [np.array(list(media.values()))]\n",
        "solutions = [current_solution(modelList, media)]\n",
        "\n",
        "for i in range(1000):#should be much larger\n",
        "\n",
        "    print(i)\n",
        "    solution, media = MCMC(media, modelList, composition)\n",
        "\n",
        "    if (i>10):#should be much larger\n",
        "\n",
        "        medias.append(np.array(list(media.values())))\n",
        "        solutions.append(solution)"
      ]
    },
    {
      "cell_type": "markdown",
      "metadata": {
        "id": "hlWAXXSNHdMb"
      },
      "source": [
        "#### **Get Correlations**"
      ]
    },
    {
      "cell_type": "code",
      "execution_count": null,
      "metadata": {
        "colab": {
          "base_uri": "https://localhost:8080/"
        },
        "collapsed": true,
        "id": "IShbRwfaGQXL",
        "outputId": "7a735753-2c70-4337-c861-5810200e2540"
      },
      "outputs": [],
      "source": [
        "medias= np.array(medias)\n",
        "mediasM = medias.copy()\n",
        "\n",
        "medias= medias.T\n",
        "\n",
        "maxMedias = np.max(mediasM, axis=1)\n",
        "mediasM = np.array([mediasM[i]/maxMedias[i] for i in range(len(maxMedias))]).T\n",
        "\n",
        "mSols = solutions.copy()\n",
        "solutions = np.array(solutions).T\n",
        "maxSolutions = np.max(mSols, axis=1)\n",
        "mSols = np.array([mSols[i]/maxSolutions[i] for i in range(len(maxSolutions))]).T\n",
        "\n",
        "\n",
        "cor = np.array([sts.pearsonr(i, composition)[0] for i in solutions.T])\n",
        "\n",
        "print(cor)\n"
      ]
    },
    {
      "cell_type": "markdown",
      "metadata": {
        "id": "3sWzNjw2Hmf6"
      },
      "source": [
        "#### **Select the final medium**"
      ]
    },
    {
      "cell_type": "code",
      "execution_count": null,
      "metadata": {
        "colab": {
          "base_uri": "https://localhost:8080/",
          "height": 366
        },
        "collapsed": true,
        "id": "nG7-3F0RHg67",
        "outputId": "75552d8e-7835-43bb-fa86-c6339cfcb7bd"
      },
      "outputs": [],
      "source": [
        "\n",
        "avM = np.median(medias.T[cor>0.90], axis=0)\n",
        "avM = (avM/max(avM))*10\n",
        "m = {list(media.keys())[i]: avM[i] for i in range(len(avM))}\n",
        "\n",
        "print(f\"composition was {composition} \\t MAMBO solution was: {current_solution(modelList, m)}\")"
      ]
    },
    {
      "cell_type": "markdown",
      "metadata": {
        "id": "ZLGYCuTJ7fr9"
      },
      "source": [
        "### **Dynamic flux balance analysis**"
      ]
    },
    {
      "cell_type": "markdown",
      "metadata": {
        "id": "6sMerTv-7fr-"
      },
      "source": [
        "#### Task:\n",
        "\n",
        "- Study the code below to understand how one can make FBA dynamic\n",
        "\n",
        "- Make modifications to explore the three conditions (rich media, only glucose, and no glucose)\n",
        "\n",
        "- Perform parameter sweeps to understand the effects of each class of parameters (e.g. yield, monod constants)\n",
        "\n",
        "- How is the community different in a batch compared to when there is a flow-rate? How is the community impacted by the flow-rate?\n",
        "\n",
        "- How is the community different when one removes the diauxic shift (in the growth rate function of the butyrate producer)?\n",
        "\n",
        "- How is the H2/CO2 cross-feeding impacted by the yield and Monod constants?\n"
      ]
    },
    {
      "cell_type": "markdown",
      "metadata": {
        "id": "0IEKOsb17fr-"
      },
      "source": [
        "#### **Import packages needed for ODE solving and visualization**"
      ]
    },
    {
      "cell_type": "code",
      "execution_count": null,
      "metadata": {
        "id": "oXpF8L4w7fr-"
      },
      "outputs": [],
      "source": [
        "import numpy as np\n",
        "from scipy.integrate import solve_ivp as solver\n",
        "import matplotlib.pyplot as plt\n",
        "#print(plt.style.available)\n",
        "plt.style.use('seaborn-v0_8-bright')\n",
        "\n",
        "import ipywidgets as widgets\n",
        "from IPython.display import display\n",
        "from collections import defaultdict\n",
        "import functools"
      ]
    },
    {
      "cell_type": "markdown",
      "metadata": {
        "id": "D-nXA2S97fr-"
      },
      "source": [
        "#### **Define parameters and initial states**"
      ]
    },
    {
      "cell_type": "markdown",
      "metadata": {
        "id": "XM4ewHVe7fr-"
      },
      "source": [
        "**Parameters**\n",
        "\n",
        "| parameter | variable | default value |\n",
        "| --------- | -------- | ------------- |\n",
        "| acetogen glucose Monod K | ac_glucose_k | 1.0 |\n",
        "| acetogen glucose yield | ac_glucose_y | 1.0 |\n",
        "| acetogen formate Monod K | ac_for_k | 10.0 |\n",
        "| acetogen formate yield | ac_for_y | 1.0 |\n",
        "| acetogen CO2 Monod K | ac_co2_k | 1.0 |\n",
        "| acetogen CO2 yield | ac_co2_y | 10.0 |\n",
        "| acetogen H2 Monod K | ac_h2_k | 10.0 |\n",
        "| acetogen H2 yield | ac_h2_y | 10.0 |\n",
        "| acetogen acetate yield | ac_ac_y | -1.0 |\n",
        "| acetogen lactate yield | ac_lac_y | -1.0 |\n",
        "| sugarF glucose Monod K | sf_glucose_k | 1.0 |\n",
        "| sugarF glucose yield | sf_glucose_y | 1.0 |\n",
        "| sugarF succinate yield | sf_succ_y | -1.0 |\n",
        "| sugarF formate yield | sf_for_y | -1.0 |\n",
        "| sugarF lactate yield | sf_lac_y | -1.0 |\n",
        "| sugarF acetate yield | sf_ac_y | -1.0 |\n",
        "| butyrateP glucose Monod K | bp_glucose_k | 1.0 |\n",
        "| butyrateP glucose yield | bp_glucose_y | 1.0 |\n",
        "| butyrateP lactate consumpation Monod K | bp_lactate_c_k | 1.0 |\n",
        "| butyrateP lactate consumption yield | bp_lactate_c_y | 1.0 |\n",
        "| butyrateP lactate production yield | bp_lactate_p_y | -1.0 |\n",
        "| butyrateP acetate consumpation Monod K | bp_acetate_c_k | 1.0 |\n",
        "| butyrateP acetate consumption yield | bp_acetate_c_y | 1.0 |\n",
        "| butyrateP acetate production yield | bp_acetate_p_y | -1.0 |\n",
        "| butyrateP CO2 production yield | bp_co2_y | -1.0 |\n",
        "| butyrateP H2 production yield | bp_h2_y | -1.0 |\n",
        "| butyrateP butyrate production yield | bp_butyrate_y | -1.0 |\n",
        "| flow rate | flow_rate | 0.1 |\n"
      ]
    },
    {
      "cell_type": "markdown",
      "metadata": {
        "id": "aJveJU1a7fr-"
      },
      "source": [
        "**States**\n",
        "\n",
        "| state | position | default value |\n",
        "| ----- | -------- | ------------- |\n",
        "|glucose concentration | 0 | 10 |\n",
        "|formate concentration | 1 | 0 |\n",
        "|CO2 concentration | 2 | 0 |\n",
        "|H2 concentration | 3 | 0 |\n",
        "|acetate concentration | 4 | 0 |\n",
        "|lactate concentration | 5 | 0 |\n",
        "|succinate concentration | 6 | 0 |\n",
        "|butyrate concentration | 7 | 0 |\n",
        "|acetogen biomass | 8 | 0.1 |\n",
        "|sugarF biomass | 9 | 0.1 |\n",
        "|butyrateP biomass | 10 | 0.1 |"
      ]
    },
    {
      "cell_type": "code",
      "execution_count": null,
      "metadata": {
        "id": "aoYT0cps7fr_"
      },
      "outputs": [],
      "source": [
        "# Parameters dictionary\n",
        "parameters = {'ac_glucose_k' : 1.0,\n",
        "              'ac_glucose_y' : 1.0,\n",
        "              'ac_for_k' : 10.0,\n",
        "              'ac_for_y' : 1.00,\n",
        "              'ac_co2_k' : 1.0,\n",
        "              'ac_co2_y' : 10.00,\n",
        "              'ac_h2_k' : 10.0,\n",
        "              'ac_h2_y' : 1.00,\n",
        "              'ac_ac_y':-1.0,\n",
        "              'ac_lac_y':-1.0,\n",
        "              'sf_glucose_k':1.0,\n",
        "              'sf_glucose_y':1.0,\n",
        "              'sf_succ_y':-1.0,\n",
        "              'sf_for_y':-1.0,\n",
        "              'sf_lac_y':-1.0,\n",
        "              'sf_ac_y':-1.0,\n",
        "              'bp_glucose_k':1.0,\n",
        "              'bp_glucose_y':1.0,\n",
        "              'bp_lactate_c_k':1.0,\n",
        "              'bp_lactate_c_y':1.00,\n",
        "              'bp_lactate_p_y': -1,\n",
        "              'bp_acetate_c_k':1.0,\n",
        "              'bp_acetate_c_y':1.0,\n",
        "              'bp_acetate_p_y':-1,\n",
        "              'bp_co2_y': -1,\n",
        "              'bp_h2_y':-1,\n",
        "              'bp_butyrate_y':-1,\n",
        "              'flow_rate':0.1}\n",
        "\n",
        "# Initial states names and default values\n",
        "initial_states_names = [\n",
        "    'glc_S0', 'for_S0', 'co2_S0', 'H2_S0', 'acetate_S0',\n",
        "    'lac_S0', 'succ_S0', 'but_S0', 'ac_X0', 'sf_X0', 'bp_X0'\n",
        "]\n",
        "\n",
        "initial_states_defaults = {\n",
        "    'glc_S0': 10.0,\n",
        "    'for_S0': 0.0,\n",
        "    'co2_S0': 0.0,\n",
        "    'H2_S0': 0.0,\n",
        "    'acetate_S0': 0.0,\n",
        "    'lac_S0': 0.0,\n",
        "    'succ_S0': 0.0,\n",
        "    'but_S0': 0.0,\n",
        "    'ac_X0': 0.1,\n",
        "    'sf_X0': 0.1,\n",
        "    'bp_X0': 0.1\n",
        "}"
      ]
    },
    {
      "cell_type": "markdown",
      "metadata": {
        "id": "gEH4M3j87fr_"
      },
      "source": [
        "#### **Functions to make the parameters iteractive**"
      ]
    },
    {
      "cell_type": "markdown",
      "metadata": {
        "id": "ISnsuQgZ7fr_"
      },
      "source": [
        "Only run the cell below. The code is only to make the parameters iterative, so you can skip the code if you have little or no coding experience."
      ]
    },
    {
      "cell_type": "code",
      "execution_count": null,
      "metadata": {
        "colab": {
          "base_uri": "https://localhost:8080/",
          "height": 965,
          "referenced_widgets": [
            "9cabf71353b84dcaada8830b5bf34295",
            "b361fa2389e2477095e32e0b1d30f3e1",
            "8451d012ee5044329c541e1ca6c5ed2f",
            "cd7857f530f94ceab68a4e8e3124421e",
            "2efc22450e984dd597cce3f4911ddaa7",
            "333424060cee4af894652e213d472be2",
            "31f3e82faf0d411ab1b7f981ab5917dc",
            "10ec4ab760134cdebbad91946d1a009e",
            "1d18d3cc24af4059a7d4552c7ce96046",
            "d40dc5285f684ea7968ae3262784b038",
            "3dab3d0423ff430b956d43883f9344d4",
            "619fec4d75e249038c674121c7c65067",
            "81ba0ccf24ad468f9a0e13f49cc9b87b",
            "05fa0f62a2ea4be1babbff129c643542",
            "4f0854a144e14c7ea09ea9099a0afe94",
            "81c849b671e54c75931e29c54ae6b9e0",
            "33d4eb934d0c4653881e3852f43eb607",
            "5e08ff018a9e4088b4b70893ece8f4ca",
            "89f8800ec8164517aa9e3f61a4f9667b",
            "b9983344489a4a5e8b6c7e5ddb3dd3e5",
            "a7c9a78f38b84664b243b62f7c70eef1",
            "85cfd12d67ba4f1ca61f86402d497772",
            "c7792d5d356947e6a4dd6601f8439a32",
            "d3aebae311f14e659af6fc105674feff",
            "910cf33f1d764eb6b9ded0743f752176",
            "6991538de6e9472485137e17c2ac0b02",
            "2eefdf8a6eca4c878e2874333481dc07",
            "afdf6bf0af254077964e2da1ee87dc7d",
            "f274d95cfe6a4f26a7ddfa72e26db8aa",
            "bc60384dd5d248cea04b1fd75b65996b",
            "6509fdf3a5f7491ea04fd3d23a874044",
            "e04b510889814ffc8f7aee6d177585fd",
            "41149ba7ab4741489acc998b00dfe018",
            "084a257b404642fc85e682b265d2854d",
            "da06d7af301a43249d45413ea33a3ff7",
            "e0cd6e33123a420d821c5735f54503c9",
            "bcf4cf2f89674863893e7537d67898d5",
            "da91fc5d439346df9680ff87e32e205f",
            "2cca354bb8754f7c919e9fe37c224246",
            "f4d7f8c1e84d4f36be0c2e694fab62bc",
            "701f1b51b2fb49479c7e705c772ffafc",
            "8e181079124044e5bba8d28bf1618bc8",
            "f102d73368524275bcc27da1b88641f9",
            "310197abcb544fd49c67b56a6532c407",
            "3471e83d848e457d9a01e9370fb882ab",
            "aef570642f9b4e4287aeccfaae3d471f",
            "0895a62f9628458a98d76074bd1510d2",
            "dc13686a6041417ebd7298d37530378b",
            "888f9de854994847b0e0804afc697495",
            "1dcb1bd56c224c6d80929cd7cb1e894e",
            "4ed982f9c5834be498457f894b23eb60",
            "be697e24e52646c0887be3b46c9159e3",
            "545daae452174af78429f366bbcd9820",
            "66e18a0770a34506917cef9a33b424ba",
            "e3403a211b7f49c0938768880e965ea1",
            "5e7ce5df29124db2983724b58a4b55ab",
            "cf94ca815a484dccad5ba5ca3db34a71",
            "22f27b74067f4295859a8a1f5bf69373",
            "23f331d66fa740919a60c3a6ddd153b1",
            "1aba615141a94b99ab8a98fafb64ddaa",
            "1912369172a9424b99a9ce2e49eb2226",
            "e65891bed5c342648e75b833fbf25dad",
            "ca357d079e944a06877a81a2411dac8e",
            "4d4e4a3d121645db9ddb82cb1ba1d3a0",
            "520b8a493b9345bfbef9ff7b251280b3",
            "d43a5a884a654c1eb36be947d9ce7fa8",
            "ad4f97b1b1ab436ea71725f5daf7078b",
            "a8f1554b5c0b403ab66a6a25bcc12b20",
            "9a076b5520ef4f50b679ba970f65f5f6",
            "946d3329d26147b8a0460f1cd133e5b0",
            "a23960b05f624fe4a846d3ef577770f7",
            "da939093328d48ae96ae5ef78ee94d33",
            "35059fc28cf5443dbe04839d28b68ed9",
            "66b8d7dc363a4706be7c0ed941fc44a3",
            "9bcc349236ac46538568a32aacf03510",
            "0d516dd737d24113b02c252f830af17d",
            "8ac1373622bb4715b4f8c6395bca4d18",
            "152212a4cee54ce7b33a71950d05252f",
            "106f8a33fe1c46ee80fdf8eeeff0503f",
            "4c94d79c95224b38bad61083df3865af",
            "edaff09b99ce493dae505e853d8d8ac3",
            "f1836990d9934a6e9b931c0696f4b85e",
            "5df910ae93744526bec8a7d9bc79db6b",
            "7b81379d87c743578169dd02b8880c4f",
            "281854498fab42e9afd754c0c558efed",
            "4eb36f6c28d14345a9579cfc116e424a",
            "a92a0ffb41304155a2fd9b7c719d0ea7",
            "4ba931ef17c442338e0a9d404913e8c8",
            "251d109281694e8091bc52cd6bc26210",
            "12610282c1b34fc0932c044ab2352941",
            "81fd66f7676c42cfa4921ca37973ea2a",
            "1af75e70e28c4b49b3a6d3cafb673e70",
            "5a3e40d8410942d8bc9f6654ddb21c11",
            "95f3187650d6435eb3d7779f31be9443",
            "85cbc96d49114afeb23931ce3bd66623",
            "e3ab619675f241f4bbad58d8757394ff",
            "d8950e2c44c14004ab108d7a93ab8067",
            "8c53f7ed7378438ea28ee49d595c0f07",
            "d5dbf436ee55452ea0153ea1842a26ae",
            "990473cb87ef4891bd369b1132e17d3a",
            "9ebfdaa154464b5c82718d093e925e75",
            "276c9df380f143f59c5cccefdb055b8d",
            "dc355778cac940ebad50abf5b245c249",
            "e48244d082554a989c748c0a8ef5ba59",
            "d02fc2863c6d4acaad3a78afd437011c",
            "96879600ec304dfe9d6b819484126772",
            "05a6df4c9fdc4094aecf7d846f056787",
            "4114b9b3c278467e966b7043270f770d",
            "edca0d5370fe4aaf92dcf21ac71c9175",
            "a48d36029da74dac88596db5199ad9f5",
            "cdad86f750f642bdb33c396d5c317c95",
            "bed2ff6996ea451c922bc43373b4ff3a",
            "6a27fbdea1074b77b0a170a9278789d0",
            "92327adbefde4c1d9cba939dc3fc2443",
            "c7687e7cdafe438ca274cbc315f180ab",
            "ec56592031884c3cb38ee83c4d15a718",
            "a3ae8be40ef74711b05e258a7be96f73",
            "df3cc5300fab451f9d366fdee7211cca",
            "02cf8e6a76a34a49a26667088e9ca6e3",
            "1c9261cb10fc46d9ab0d8cf48471d097",
            "b79fe56e527342f79d7f5cd2287e8420",
            "9ebe56645eef4d9892cd2ec475141c4d",
            "74da45c21a664e52a616af377c348469",
            "4ef03eff6d6d4884ba575634e27026e2",
            "fcb0e72fe0df4c45b2389fd903ef67b3",
            "2043f3771d3545cd8ac687f83ef76ef7",
            "29fafeff759548979e70ebb6984acf29",
            "52dc06248c314de3b753d8c1f6990ae0",
            "8400ecac276c43bab04782554dddcbf2",
            "2724651d8a934942b583e887818e118e",
            "e7989b4ad93041ea998b0de8cfaecc62"
          ]
        },
        "id": "w2wWp55c7fr_",
        "outputId": "df51c78d-455d-410f-db20-a8270367e187"
      },
      "outputs": [],
      "source": [
        "# Function to update parameter value\n",
        "def on_value_change(change, key):\n",
        "    parameters[key] = change['new']\n",
        "\n",
        "# Function to create parameter widgets\n",
        "def create_parameter_widgets(parameters):\n",
        "    parameter_widgets = {}\n",
        "    for key, value in parameters.items():\n",
        "        widget = widgets.FloatText(\n",
        "            value=value,\n",
        "            description=key,\n",
        "            layout=widgets.Layout(width='300px'),\n",
        "            style={'description_width': '150px'}\n",
        "        )\n",
        "        handler = functools.partial(on_value_change, key=key)\n",
        "        widget.observe(handler, names='value')\n",
        "        parameter_widgets[key] = widget\n",
        "    return parameter_widgets\n",
        "\n",
        "# Function to update initial state value\n",
        "def on_initial_state_change(change, key):\n",
        "    initial_states_defaults[key] = change['new']\n",
        "\n",
        "# Function to create initial state widgets\n",
        "def create_initial_state_widgets(initial_states_defaults):\n",
        "    initial_state_widgets = {}\n",
        "    for key, value in initial_states_defaults.items():\n",
        "        widget = widgets.FloatText(\n",
        "            value=value,\n",
        "            description=key,\n",
        "            layout=widgets.Layout(width='300px'),\n",
        "            style={'description_width': '150px'}\n",
        "        )\n",
        "        handler = functools.partial(on_initial_state_change, key=key)\n",
        "        widget.observe(handler, names='value')\n",
        "        initial_state_widgets[key] = widget\n",
        "    return initial_state_widgets\n",
        "\n",
        "# Function to group parameters by prefix\n",
        "def group_parameters_by_prefix(parameters):\n",
        "    grouped_params = defaultdict(dict)\n",
        "    for key, value in parameters.items():\n",
        "        if '_' in key:\n",
        "            prefix = key.split('_')[0]\n",
        "        else:\n",
        "            prefix = 'Other'\n",
        "        grouped_params[prefix][key] = value\n",
        "    return grouped_params\n",
        "\n",
        "# Group the parameters\n",
        "grouped_parameters = group_parameters_by_prefix(parameters)\n",
        "\n",
        "# List to hold accordion contents\n",
        "accordion_children = []\n",
        "accordion_titles = []\n",
        "\n",
        "# Create widgets for each group\n",
        "for group_name, group_params in grouped_parameters.items():\n",
        "    group_widgets = create_parameter_widgets(group_params)\n",
        "    group_widget_list = [group_widgets[key] for key in sorted(group_widgets.keys())]\n",
        "    group_box = widgets.VBox(group_widget_list)\n",
        "    accordion_children.append(group_box)\n",
        "    accordion_titles.append(group_name)\n",
        "\n",
        "# Create the accordion widget for parameters\n",
        "parameters_accordion = widgets.Accordion(children=accordion_children)\n",
        "\n",
        "# Set the titles for each accordion tab\n",
        "for idx, title in enumerate(accordion_titles):\n",
        "    parameters_accordion.set_title(idx, title)\n",
        "\n",
        "# Create initial state widgets\n",
        "initial_state_widgets = create_initial_state_widgets(initial_states_defaults)\n",
        "initial_state_widget_list = [initial_state_widgets[key] for key in initial_states_names]\n",
        "initial_states_box = widgets.VBox(initial_state_widget_list)\n",
        "\n",
        "# Create an accordion to hold the initial states\n",
        "initial_states_accordion = widgets.Accordion(children=[initial_states_box])\n",
        "initial_states_accordion.set_title(0, 'Initial States')\n",
        "\n",
        "# Display the parameter widgets and initial state widgets\n",
        "display(parameters_accordion)\n",
        "display(initial_states_accordion)\n",
        "\n",
        "\n",
        "def get_initial_states_array(initial_states_defaults, initial_states_names):\n",
        "    initial_states = []\n",
        "    for name in initial_states_names:\n",
        "        value = initial_states_defaults[name]\n",
        "        initial_states.append(value)\n",
        "    return np.array(initial_states)\n"
      ]
    },
    {
      "cell_type": "markdown",
      "metadata": {
        "id": "Nv9HPklG7fr_"
      },
      "source": [
        "#### **Get the states**"
      ]
    },
    {
      "cell_type": "code",
      "execution_count": null,
      "metadata": {
        "colab": {
          "base_uri": "https://localhost:8080/"
        },
        "id": "QmzJesCp7fr_",
        "outputId": "adfaf1c0-12c9-4f7b-e250-a9feff794b8b"
      },
      "outputs": [],
      "source": [
        "print(\"Updated Parameters:\")\n",
        "for key in sorted(parameters.keys()):\n",
        "    print(f\"{key}: {parameters[key]}\")\n",
        "\n",
        "\n",
        "# Retrieve the updated initial_states array\n",
        "initial_states = get_initial_states_array(initial_states_defaults, initial_states_names)\n",
        "\n",
        "print(\"\\nUpdated Initial States Array:\")\n",
        "print(initial_states)\n"
      ]
    },
    {
      "cell_type": "markdown",
      "metadata": {
        "id": "JzgimgOo7fr_"
      },
      "source": [
        "#### **Growth rate function for the sugar fermenter**"
      ]
    },
    {
      "cell_type": "code",
      "execution_count": null,
      "metadata": {
        "id": "mq3vOGnK7fr_"
      },
      "outputs": [],
      "source": [
        "def muSf(concentration_vec):\n",
        "    '''\n",
        "\n",
        "    Growth rate function for the sugarF\n",
        "\n",
        "    Parameters\n",
        "    ----------\n",
        "    concentration_vec :\n",
        "        [glucose, formate, co2, h2, acetate, lactate, succinate, butyrate]\n",
        "\n",
        "    Returns\n",
        "    -------\n",
        "    consumed_glucose\n",
        "    produced_acetate\n",
        "    produced_lactate\n",
        "    produced_succinate\n",
        "    produced_formate\n",
        "    objective_value\n",
        "\n",
        "    '''\n",
        "\n",
        "\n",
        "\n",
        "    consumable_glucose = (concentration_vec[0]/(concentration_vec[0]+parameters['sf_glucose_k']))*(concentration_vec[0]>0)\n",
        "\n",
        "    sugar_fermenter.reactions.EX_cpd00027_e.lower_bound = -1*consumable_glucose\n",
        "\n",
        "    sol_sf = sugar_fermenter.optimize()\n",
        "\n",
        "    consumed_glucose = max(0, sugar_fermenter.reactions.EX_cpd00027_e.flux*-1)\n",
        "\n",
        "    produced_acetate = max(0, sugar_fermenter.reactions.EX_cpd00029_e.flux)\n",
        "    produced_lactate = max(0, sugar_fermenter.reactions.EX_cpd00159_e.flux)\n",
        "    produced_succinate = max(0, sugar_fermenter.reactions.EX_cpd00036_e.flux)\n",
        "    produced_formate = max(0, sugar_fermenter.reactions.EX_cpd00047_e.flux)\n",
        "\n",
        "    return (consumed_glucose,\n",
        "            produced_acetate,\n",
        "            produced_lactate,\n",
        "            produced_succinate,\n",
        "            produced_formate,\n",
        "            sol_sf.objective_value\n",
        "            )\n"
      ]
    },
    {
      "cell_type": "markdown",
      "metadata": {
        "id": "ud6OhgjO7fsA"
      },
      "source": [
        "#### **Growth rate function for the butyrate producer**"
      ]
    },
    {
      "cell_type": "code",
      "execution_count": null,
      "metadata": {
        "id": "wFR-EFJn7fsA"
      },
      "outputs": [],
      "source": [
        "def muBP(concentration_vec):\n",
        "    '''\n",
        "    Growth rate for the butyrate producer\n",
        "\n",
        "    Parameters\n",
        "    ----------\n",
        "    concentration_vec :\n",
        "        [glucose, formate, co2, h2, acetate, lactate, succinate, butyrate]\n",
        "\n",
        "    Returns\n",
        "    -------\n",
        "    consumed_glucose\n",
        "    consumed_acetate\n",
        "    consumed_lactate\n",
        "    produced_acetate\n",
        "    produced_lactate\n",
        "    produced_co2\n",
        "    produced_h2\n",
        "    produced_butyrate\n",
        "    sol_bp.objective_value\n",
        "\n",
        "    '''\n",
        "\n",
        "\n",
        "    consumable_glucose = (concentration_vec[0]/(concentration_vec[0]+parameters['bp_glucose_k']))*(concentration_vec[0]>0)\n",
        "    consumable_acetate = (concentration_vec[4]/(concentration_vec[4]+parameters['bp_acetate_c_k']))*(concentration_vec[4]>0)\n",
        "    consumable_lactate = (concentration_vec[5]/(concentration_vec[5]+parameters['bp_lactate_c_k']))*(concentration_vec[5]>0)\n",
        "\n",
        "    butyrate_producer.reactions.EX_cpd00027_e.lower_bound = -1*consumable_glucose\n",
        "    butyrate_producer.reactions.EX_cpd00029_e.lower_bound = -1*consumable_acetate\n",
        "    butyrate_producer.reactions.EX_cpd00159_e.lower_bound = -1*consumable_lactate\n",
        "### Metabolic modeling of more than a species\n",
        "Now that we can do a wide range of constraint-based analyses on our models, the question that rises is whether we could implement those at the community level.\n",
        "\n",
        "There are several ways to do this task, yet it remains an open question what is the best way, and as more often than not in modeling, some approaches can be better than others based on the question under study. \n",
        "\n",
        "Here, we will only discuss a couple of things on [COMETS](https://www.runcomets.org) and `cometspy`.\n",
        "COMETS is a software platform for performing computer simulations of metabolism in spatially structured microbial communities.\n",
        "To install COMETS, you need first to get it as a tarball based on your Operating System.\n",
        "\n",
        "So, to install it locally on your machine, you would have to visit the [COMETS installation page](https://www.runcomets.org/installation) and based on your OS download the corresponding tarball. \n",
        "\n",
        "In the collab, we will go with the Linux one.\n",
        "!pip install gdown\n",
        "!gdown \"https://drive.google.com/uc?id=1pJ089vJJNJg_KN9ELhWOW6uqMaaTJGCN\"\n",
        "!tar -xzvf comets_linux.tar.gz \n",
        "# %%bash\n",
        "# export COMETS_HOME=$(pwd)/comets_linux/comets_2.12.3/\n",
        "# echo $COMETS_HOME\n",
        "import os\n",
        "comets_home = os.path.join(os.getcwd(), \"comets_linux/comets_2.12.3\")\n",
        "\n",
        "# Optionally, print it to check\n",
        "print(comets_home)\n",
        "\n",
        "# Set the environment variable\n",
        "os.environ[\"COMETS_HOME\"] = comets_home\n",
        "os.environ['GUROBI_COMETS_HOME'] = \"/opt/gurobi/linux64/\"\n",
        "!pip install -qq cometspy \n",
        "# Start by loading required packages, including the COMETS toolbox\n",
        "import cometspy as c\n",
        "import pandas as pd\n",
        "import matplotlib.pyplot as plt\n",
        "# load the models and perform the mutation\n",
        "wt = c.model(ecoli.copy())\n",
        "wt.id = 'wt'\n",
        "mut = c.model(ecoli.copy())\n",
        "mut.change_bounds('TPI', 0,0)\n",
        "mut.id = 'TPI_KO'\n",
        "# set its initial biomass, 5e-6 gr at coordinate [0,0]\n",
        "wt.initial_pop = [0, 0, 5e-8]\n",
        "mut.initial_pop = [0, 0, 5e-8]\n",
        "# create an empty layout\n",
        "test_tube = c.layout()\n",
        "\n",
        "# add the models to the test tube\n",
        "test_tube.add_model(wt)\n",
        "test_tube.add_model(mut)\n",
        "\n",
        "# Add glucose to the media \n",
        "test_tube.set_specific_metabolite('glc__D_e', 0.01)\n",
        "\n",
        "# Add typical trace metabolites and oxygen coli as static\n",
        "trace_metabolites = ['ca2_e', 'cl_e', 'cobalt2_e', 'cu2_e', 'fe2_e', 'fe3_e', 'h_e', 'k_e', 'h2o_e', 'mg2_e',\n",
        "                     'mn2_e', 'mobd_e', 'na1_e', 'ni2_e', 'nh4_e', 'o2_e', 'pi_e', 'so4_e', 'zn2_e']\n",
        "\n",
        "for i in trace_metabolites:\n",
        "    test_tube.set_specific_metabolite(i, 1000)\n",
        "    test_tube.set_specific_static(i, 1000)\n",
        "    \n",
        "comp_params = c.params()\n",
        "comp_params.set_param('maxCycles', 240)\n",
        "> **NOTE**\n",
        "> \n",
        "> :red_circle: Unfortunately, a Gurobi challenge did not allow us to have this part up-and-running for the Google Colab case for this workshop. \n",
        "# comp_assay = c.comets(test_tube, comp_params)\n",
        "# comp_assay.run()\n",
        "# biomass = comp_assay.total_biomass\n",
        "# biomass['t'] = biomass['cycle'] * comp_assay.parameters.all_params['timeStep']\n",
        "\n",
        "# myplot = biomass.drop(columns=['cycle']).plot(x = 't')\n",
        "# myplot.set_ylabel(\"Biomass (gr.)\")\n",
        "![image.png](attachment:image.png)\n",
        "\n",
        "    sol_bp = butyrate_producer.optimize()\n",
        "    consumed_glucose = max(0, butyrate_producer.reactions.EX_cpd00027_e.flux*-1)\n",
        "    consumed_acetate = 0\n",
        "    produced_acetate = 0\n",
        "    consumed_lactate = 0\n",
        "    produced_lactate = 0\n",
        "\n",
        "    #acetate was consumed instead of produced\n",
        "    if butyrate_producer.reactions.EX_cpd00029_e.flux<0:\n",
        "        consumed_acetate = butyrate_producer.reactions.EX_cpd00029_e.flux*-1\n",
        "\n",
        "    #lactate was consumed instead of produced\n",
        "    if butyrate_producer.reactions.EX_cpd00159_e.flux<0:\n",
        "        consumed_lactate = butyrate_producer.reactions.EX_cpd00159_e.flux*-1\n",
        "\n",
        "\n",
        "    #acetate was produced\n",
        "    if butyrate_producer.reactions.EX_cpd00029_e.flux>0:\n",
        "        produced_acetate = butyrate_producer.reactions.EX_cpd00029_e.flux\n",
        "\n",
        "    #lactate was produced\n",
        "    if butyrate_producer.reactions.EX_cpd00159_e.flux>0:\n",
        "        produced_lactate = butyrate_producer.reactions.EX_cpd00159_e.flux\n",
        "\n",
        "\n",
        "    produced_co2 = max(0, butyrate_producer.reactions.EX_cpd00011_e.flux)\n",
        "    produced_h2 = max(0, butyrate_producer.reactions.EX_cpd11640_e.flux)\n",
        "    produced_butyrate = max(0, butyrate_producer.reactions.EX_cpd00211_e.flux)\n",
        "\n",
        "    return (consumed_glucose,\n",
        "            consumed_acetate,\n",
        "            consumed_lactate,\n",
        "            produced_acetate,\n",
        "            produced_lactate,\n",
        "            produced_co2,\n",
        "            produced_h2,\n",
        "            produced_butyrate,\n",
        "            sol_bp.objective_value\n",
        "            )\n",
        "\n"
      ]
    },
    {
      "cell_type": "markdown",
      "metadata": {
        "id": "wpYRN5Ym7fsA"
      },
      "source": [
        "#### **Growth rate functions for the acetogen**"
      ]
    },
    {
      "cell_type": "code",
      "execution_count": null,
      "metadata": {
        "id": "grKZdOMt7fsA"
      },
      "outputs": [],
      "source": [
        "def muAc(concentration_vec):\n",
        "    '''\n",
        "    growth rate function for the acetogen\n",
        "\n",
        "    Parameters\n",
        "    ----------\n",
        "    concentration_vec :\n",
        "        [glucose, formate, co2, h2, acetate, lactate, succinate, butyrate]\n",
        "\n",
        "    Returns\n",
        "    -------\n",
        "    consumed_glucose\n",
        "    consumed_formate\n",
        "    consumed_co2\n",
        "    consumed_h2\n",
        "    produced_acetate\n",
        "    produced_lactate\n",
        "    objective_value\n",
        "\n",
        "    '''\n",
        "\n",
        "\n",
        "    consumable_glucose = (concentration_vec[0]/(concentration_vec[0]+parameters['ac_glucose_k']))*(concentration_vec[0]>0)\n",
        "    #(concentration_vec[0]>0) avoids negatives\n",
        "\n",
        "    consumable_formate = (concentration_vec[1]/(concentration_vec[1]+parameters['ac_for_k']))*(concentration_vec[1]>0)\n",
        "\n",
        "    consumable_co2 = (concentration_vec[2])/(concentration_vec[2]+parameters['ac_co2_k'])*(concentration_vec[2]>0)\n",
        "\n",
        "    consumable_h2 = (concentration_vec[3])/(concentration_vec[3]+parameters['ac_h2_k'])*(concentration_vec[3]>0)\n",
        "\n",
        "    #set the lower bounds to the consumable amounts\n",
        "\n",
        "    acetogen.reactions.EX_cpd00027_e.lower_bound = -1*consumable_glucose\n",
        "    acetogen.reactions.EX_cpd00047_e.lower_bound = -1*consumable_formate\n",
        "    acetogen.reactions.EX_cpd00011_e.lower_bound = -1*consumable_co2\n",
        "    acetogen.reactions.EX_cpd11640_e.lower_bound = -1*consumable_h2\n",
        "\n",
        "    #optimize with these consumable amounts as constraints\n",
        "\n",
        "    sol_ac = acetogen.optimize()\n",
        "\n",
        "    #get what was effectively consumed/produces\n",
        "    consumed_glucose = max(0, acetogen.reactions.EX_cpd00027_e.flux*-1)\n",
        "    consumed_formate = max(0, acetogen.reactions.EX_cpd00047_e.flux*-1)\n",
        "    consumed_co2 = max(0, acetogen.reactions.EX_cpd00011_e.flux*-1)\n",
        "    consumed_h2 = max(0, acetogen.reactions.EX_cpd11640_e.flux*-1)\n",
        "\n",
        "    produced_acetate = max(0, acetogen.reactions.EX_cpd00029_e.flux)\n",
        "    produced_lactate = max(0, acetogen.reactions.EX_cpd00159_e.flux)\n",
        "\n",
        "    return (consumed_glucose,\n",
        "            consumed_formate,\n",
        "            consumed_co2,\n",
        "            consumed_h2,\n",
        "            produced_acetate,\n",
        "            produced_lactate,\n",
        "            sol_ac.objective_value #the biomass given the consumable amounts\n",
        "            )"
      ]
    },
    {
      "cell_type": "markdown",
      "metadata": {
        "id": "ZtN0Ax037fsA"
      },
      "source": [
        "#### **Define the ODEs**"
      ]
    },
    {
      "cell_type": "code",
      "execution_count": null,
      "metadata": {
        "id": "MNn0B-Al7fsA"
      },
      "outputs": [],
      "source": [
        "def ode(t, states):\n",
        "\n",
        "    '''\n",
        "    ODE\n",
        "    states:\n",
        "        [glc_S0, for_S0, co2_S0, H2_S0, acetate_S0, lac_S0, succ_S0, but_S0, ac_X0, sf_X0, bp_X0]\n",
        "    '''\n",
        "\n",
        "    #get the metabolite consumption/production and instantaneous growth rates\n",
        "    mu_ac = muAc(states)\n",
        "    mu_sf = muSf(states)\n",
        "    mu_bp = muBP(states)\n",
        "\n",
        "    #get the current biomasses\n",
        "    pop_ac = states[8]\n",
        "    pop_sf = states[9]\n",
        "    pop_bp = states[10]\n",
        "\n",
        "    #change in the acetogen biomass\n",
        "    dAc = (pop_ac* mu_ac[-1])-parameters['flow_rate']*pop_ac\n",
        "\n",
        "    #change in the sugarF biomass\n",
        "    dSf = (pop_sf* mu_sf[-1]) - parameters['flow_rate']*pop_sf\n",
        "\n",
        "    #change in the butyrateP biomass\n",
        "    dBp = (pop_bp*mu_bp[-1])- parameters['flow_rate']*pop_bp\n",
        "\n",
        "    #acetogen metabolite consumption/production\n",
        "    ac_glc = -(mu_ac[0]/parameters['ac_glucose_y'])*pop_ac\n",
        "    ac_for = -(mu_ac[1]/parameters['ac_for_y'])*pop_ac\n",
        "    ac_co2 = -(mu_ac[2]/parameters['ac_co2_y'])*pop_ac\n",
        "    ac_h2 = -(mu_ac[3]/parameters['ac_h2_y'])*pop_ac\n",
        "    ac_ac = -(mu_ac[4]/parameters['ac_ac_y'])*pop_ac\n",
        "    ac_lac = -(mu_ac[5]/parameters['ac_lac_y'])*pop_ac\n",
        "\n",
        "    #sugarF metabolite consumption/production\n",
        "    sf_glc = -(mu_sf[0]/parameters['sf_glucose_y'])*pop_sf\n",
        "    sf_ac = -(mu_sf[1]/parameters['sf_ac_y'])*pop_sf\n",
        "    sf_lac = -(mu_sf[2]/parameters['sf_lac_y'])*pop_sf\n",
        "    sf_succ = -(mu_sf[3]/parameters['sf_succ_y'])*pop_sf\n",
        "    sf_for = -(mu_sf[4]/parameters['sf_for_y'])*pop_sf\n",
        "\n",
        "    #butyrateP metabolite consumption/production\n",
        "    bp_glc = -(mu_bp[0]/parameters['bp_glucose_y'])*pop_bp\n",
        "    bp_ac_c = -(mu_bp[1]/parameters['bp_acetate_c_y'])*pop_bp\n",
        "    bp_lac_c = -(mu_bp[2]/parameters['bp_lactate_c_y'])*pop_bp\n",
        "\n",
        "    bp_ac_p = -(mu_bp[3]/parameters['bp_acetate_p_y'])*pop_bp\n",
        "    bp_lac_p = -(mu_bp[4]/parameters['bp_lactate_p_y'])*pop_bp\n",
        "    bp_co2_p = -(mu_bp[5]/parameters['bp_co2_y'])*pop_bp\n",
        "    bp_h2_p = -(mu_bp[6]/parameters['bp_h2_y'])*pop_bp\n",
        "    bp_but_p = -(mu_bp[7]/parameters['bp_butyrate_y'])*pop_bp\n",
        "\n",
        "\n",
        "    derivatives = np.zeros(len(states))\n",
        "\n",
        "    #glucose\n",
        "    derivatives[0] = parameters['flow_rate']*initial_states[0] + ac_glc + sf_glc + bp_glc - parameters['flow_rate']*states[0]\n",
        "\n",
        "    #formate\n",
        "    derivatives[1] = parameters['flow_rate']*initial_states[1] + ac_for + sf_for  - parameters['flow_rate']*states[1]\n",
        "\n",
        "    #co2\n",
        "    derivatives[2] = parameters['flow_rate']*initial_states[2] + ac_co2 + bp_co2_p  - parameters['flow_rate']*states[2]\n",
        "\n",
        "    #h2\n",
        "    derivatives[3] = parameters['flow_rate']*initial_states[3] + ac_h2 + bp_h2_p  - parameters['flow_rate']*states[3]\n",
        "\n",
        "    #acetate\n",
        "    derivatives[4] = parameters['flow_rate']*initial_states[4] + ac_ac + sf_ac + bp_ac_c + bp_ac_p  - parameters['flow_rate']*states[4]\n",
        "\n",
        "    #lactate\n",
        "    derivatives[5] = parameters['flow_rate']*initial_states[5] + ac_lac + sf_lac + bp_lac_c + bp_lac_p  - parameters['flow_rate']*states[5]\n",
        "\n",
        "    #succinate\n",
        "    derivatives[6] = parameters['flow_rate']*initial_states[6] + sf_succ  - parameters['flow_rate']*states[6]\n",
        "\n",
        "    #butyrate\n",
        "    derivatives[7] = parameters['flow_rate']*initial_states[7] + bp_but_p  - parameters['flow_rate']*states[7]\n",
        "\n",
        "    derivatives[8] = dAc\n",
        "    derivatives[9] = dSf\n",
        "    derivatives[10] = dBp\n",
        "\n",
        "    return derivatives"
      ]
    },
    {
      "cell_type": "markdown",
      "metadata": {
        "id": "WB4Hy1jU7fsA"
      },
      "source": [
        "#### **Solve the ODEs**"
      ]
    },
    {
      "cell_type": "code",
      "execution_count": null,
      "metadata": {
        "id": "7o7azvcv7fsB"
      },
      "outputs": [],
      "source": [
        "solution = solver(fun=ode, t_span = (0, 200), y0 = initial_states, t_eval = np.linspace(0, 200, 1000))"
      ]
    },
    {
      "cell_type": "markdown",
      "metadata": {
        "id": "-_ejH-Gh7fsB"
      },
      "source": [
        "#### **Plot the results for growth**"
      ]
    },
    {
      "cell_type": "code",
      "execution_count": null,
      "metadata": {
        "colab": {
          "base_uri": "https://localhost:8080/",
          "height": 449
        },
        "id": "7W1wzGZv7fsB",
        "outputId": "3654c987-9b4a-4d57-8747-252558552d8a"
      },
      "outputs": [],
      "source": [
        "fig, ax = plt.subplots()\n",
        "\n",
        "ax.plot(solution.t, solution.y[8], color='g', label='acetogen')\n",
        "ax.plot(solution.t, solution.y[9], color='b', label='carb ferm')\n",
        "ax.plot(solution.t, solution.y[10], color='r', label='but prod')\n",
        "ax.set_ylabel('Biomass')\n",
        "ax.set_xlabel('Time')\n",
        "ax.legend(loc='upper right')\n",
        "#plt.savefig('/home/daniel_garza/plots/dFBA_biomass.png', dpi=300)\n",
        "plt.show()"
      ]
    },
    {
      "cell_type": "markdown",
      "metadata": {
        "id": "hyCxLFY07fsB"
      },
      "source": [
        "#### **Plot the results for metabolites**"
      ]
    },
    {
      "cell_type": "code",
      "execution_count": null,
      "metadata": {
        "colab": {
          "base_uri": "https://localhost:8080/",
          "height": 487
        },
        "id": "SUcyQxXQ7fsB",
        "outputId": "493de723-eee5-499d-aaf8-1456d6fc713c"
      },
      "outputs": [],
      "source": [
        "fig, ax = plt.subplots()\n",
        "\n",
        "ax.plot(solution.t, solution.y[0], color='#0776c0', label='Glucose')\n",
        "\n",
        "ax.plot(solution.t, solution.y[4], color='#db571a', label='Acetate')\n",
        "\n",
        "ax.plot(solution.t, solution.y[1], color='#edb320', label='Formate')\n",
        "\n",
        "ax.plot(solution.t, solution.y[2], color='#7e2c8d', label='CO2')\n",
        "ax.plot(solution.t, solution.y[3], color='#7e2c8d', label='H2')\n",
        "\n",
        "ax.plot(solution.t, solution.y[5], color='#00ff9f', label='Lactate')\n",
        "ax.plot(solution.t, solution.y[6], color='#32CD32', label='Succinate')\n",
        "ax.plot(solution.t, solution.y[7], color='#001eff', label='Butyrate')\n",
        "\n",
        "\n",
        "ax.set_ylabel('Concentration')\n",
        "ax.set_xlabel('Time')\n",
        "ax.legend(loc='upper right')\n",
        "plt.tight_layout()\n",
        "#plt.savefig('/home/daniel_garza/plots/dFBA_concentrations.png', dpi=300)\n",
        "plt.show()"
      ]
    },
    {
      "cell_type": "markdown",
      "metadata": {},
      "source": [
        "### Dynamic and spatial modeling with more than a species with COMETS"
      ]
    },
    {
      "cell_type": "markdown",
      "metadata": {},
      "source": [
        "Now that we can do a wide range of constraint-based analyses on our models, the question that rises is whether we could implement those at the community level.\n",
        "\n",
        "There are several ways to do this task, yet it remains an open question what is the best way, and as more often than not in modeling, some approaches can be better than others based on the question under study. \n",
        "\n",
        "Here, we will only discuss a couple of things on [COMETS](https://www.runcomets.org) and `cometspy`.\n",
        "COMETS is a software platform for performing computer simulations of metabolism in spatially structured microbial communities."
      ]
    },
    {
      "cell_type": "markdown",
      "metadata": {},
      "source": [
        "To install COMETS, you need first to get it as a tarball based on your Operating System.\n",
        "\n",
        "So, to install it locally on your machine, you would have to visit the [COMETS installation page](https://www.runcomets.org/installation) and based on your OS download the corresponding tarball. \n",
        "\n",
        "In the collab, we will go with the Linux one."
      ]
    },
    {
      "cell_type": "code",
      "execution_count": null,
      "metadata": {},
      "outputs": [],
      "source": [
        "!pip install gdown\n",
        "!gdown \"https://drive.google.com/uc?id=1pJ089vJJNJg_KN9ELhWOW6uqMaaTJGCN\""
      ]
    },
    {
      "cell_type": "code",
      "execution_count": null,
      "metadata": {},
      "outputs": [],
      "source": [
        "!tar -xzvf comets_linux.tar.gz "
      ]
    },
    {
      "cell_type": "code",
      "execution_count": null,
      "metadata": {},
      "outputs": [],
      "source": [
        "# %%bash\n",
        "# export COMETS_HOME=$(pwd)/comets_linux/comets_2.12.3/\n",
        "# echo $COMETS_HOME\n",
        "import os\n",
        "comets_home = os.path.join(os.getcwd(), \"comets_linux/comets_2.12.3\")\n",
        "\n",
        "# Optionally, print it to check\n",
        "print(comets_home)\n",
        "\n",
        "# Set the environment variable\n",
        "os.environ[\"COMETS_HOME\"] = comets_home\n",
        "os.environ['GUROBI_COMETS_HOME'] = \"/opt/gurobi/linux64/\""
      ]
    },
    {
      "cell_type": "code",
      "execution_count": null,
      "metadata": {},
      "outputs": [],
      "source": [
        "!pip install -qq cometspy "
      ]
    },
    {
      "cell_type": "code",
      "execution_count": null,
      "metadata": {},
      "outputs": [],
      "source": [
        "# Start by loading required packages, including the COMETS toolbox\n",
        "import cometspy as c\n",
        "import pandas as pd\n",
        "import matplotlib.pyplot as plt"
      ]
    },
    {
      "cell_type": "code",
      "execution_count": null,
      "metadata": {},
      "outputs": [],
      "source": [
        "# load the models and perform the mutation\n",
        "wt = c.model(ecoli.copy())\n",
        "wt.id = 'wt'\n",
        "mut = c.model(ecoli.copy())\n",
        "mut.change_bounds('TPI', 0,0)\n",
        "mut.id = 'TPI_KO'"
      ]
    },
    {
      "cell_type": "code",
      "execution_count": null,
      "metadata": {},
      "outputs": [],
      "source": [
        "# set its initial biomass, 5e-6 gr at coordinate [0,0]\n",
        "wt.initial_pop = [0, 0, 5e-8]\n",
        "mut.initial_pop = [0, 0, 5e-8]"
      ]
    },
    {
      "cell_type": "code",
      "execution_count": null,
      "metadata": {},
      "outputs": [],
      "source": [
        "# create an empty layout\n",
        "test_tube = c.layout()\n",
        "\n",
        "# add the models to the test tube\n",
        "test_tube.add_model(wt)\n",
        "test_tube.add_model(mut)\n",
        "\n",
        "# Add glucose to the media \n",
        "test_tube.set_specific_metabolite('glc__D_e', 0.01)\n",
        "\n",
        "# Add typical trace metabolites and oxygen coli as static\n",
        "trace_metabolites = ['ca2_e', 'cl_e', 'cobalt2_e', 'cu2_e', 'fe2_e', 'fe3_e', 'h_e', 'k_e', 'h2o_e', 'mg2_e',\n",
        "                     'mn2_e', 'mobd_e', 'na1_e', 'ni2_e', 'nh4_e', 'o2_e', 'pi_e', 'so4_e', 'zn2_e']\n",
        "\n",
        "for i in trace_metabolites:\n",
        "    test_tube.set_specific_metabolite(i, 1000)\n",
        "    test_tube.set_specific_static(i, 1000)\n",
        "    \n",
        "comp_params = c.params()\n",
        "comp_params.set_param('maxCycles', 240)"
      ]
    },
    {
      "cell_type": "markdown",
      "metadata": {},
      "source": [
        "> **NOTE**\n",
        "> \n",
        "> :red_circle: Unfortunately, a Gurobi challenge did not allow us to have this part up-and-running for the Google Colab case for this workshop. "
      ]
    },
    {
      "cell_type": "code",
      "execution_count": null,
      "metadata": {},
      "outputs": [],
      "source": [
        "# comp_assay = c.comets(test_tube, comp_params)\n",
        "# comp_assay.run()"
      ]
    },
    {
      "cell_type": "code",
      "execution_count": null,
      "metadata": {},
      "outputs": [],
      "source": [
        "# biomass = comp_assay.total_biomass\n",
        "# biomass['t'] = biomass['cycle'] * comp_assay.parameters.all_params['timeStep']\n",
        "\n",
        "# myplot = biomass.drop(columns=['cycle']).plot(x = 't')\n",
        "# myplot.set_ylabel(\"Biomass (gr.)\")"
      ]
    },
    {
      "cell_type": "markdown",
      "metadata": {},
      "source": [
        "![comets output](https://cometspy.readthedocs.io/en/latest/_images/comp_1.png)"
      ]
    }
  ],
  "metadata": {
    "colab": {
      "include_colab_link": true,
      "provenance": []
    },
    "kernelspec": {
      "display_name": "Python 3",
      "name": "python3"
    },
    "language_info": {
      "codemirror_mode": {
        "name": "ipython",
        "version": 3
      },
      "file_extension": ".py",
      "mimetype": "text/x-python",
      "name": "python",
      "nbconvert_exporter": "python",
      "pygments_lexer": "ipython3",
      "version": "3.11.11"
    },
    "widgets": {
      "application/vnd.jupyter.widget-state+json": {
        "02cf8e6a76a34a49a26667088e9ca6e3": {
          "model_module": "@jupyter-widgets/controls",
          "model_module_version": "1.5.0",
          "model_name": "DescriptionStyleModel",
          "state": {
            "_model_module": "@jupyter-widgets/controls",
            "_model_module_version": "1.5.0",
            "_model_name": "DescriptionStyleModel",
            "_view_count": null,
            "_view_module": "@jupyter-widgets/base",
            "_view_module_version": "1.2.0",
            "_view_name": "StyleView",
            "description_width": "150px"
          }
        },
        "05a6df4c9fdc4094aecf7d846f056787": {
          "model_module": "@jupyter-widgets/controls",
          "model_module_version": "1.5.0",
          "model_name": "FloatTextModel",
          "state": {
            "_dom_classes": [],
            "_model_module": "@jupyter-widgets/controls",
            "_model_module_version": "1.5.0",
            "_model_name": "FloatTextModel",
            "_view_count": null,
            "_view_module": "@jupyter-widgets/controls",
            "_view_module_version": "1.5.0",
            "_view_name": "FloatTextView",
            "continuous_update": false,
            "description": "sf_X0",
            "description_tooltip": null,
            "disabled": false,
            "layout": "IPY_MODEL_52dc06248c314de3b753d8c1f6990ae0",
            "step": null,
            "style": "IPY_MODEL_8400ecac276c43bab04782554dddcbf2",
            "value": 0.1
          }
        },
        "05fa0f62a2ea4be1babbff129c643542": {
          "model_module": "@jupyter-widgets/controls",
          "model_module_version": "1.5.0",
          "model_name": "FloatTextModel",
          "state": {
            "_dom_classes": [],
            "_model_module": "@jupyter-widgets/controls",
            "_model_module_version": "1.5.0",
            "_model_name": "FloatTextModel",
            "_view_count": null,
            "_view_module": "@jupyter-widgets/controls",
            "_view_module_version": "1.5.0",
            "_view_name": "FloatTextView",
            "continuous_update": false,
            "description": "ac_h2_k",
            "description_tooltip": null,
            "disabled": false,
            "layout": "IPY_MODEL_545daae452174af78429f366bbcd9820",
            "step": null,
            "style": "IPY_MODEL_66e18a0770a34506917cef9a33b424ba",
            "value": 10
          }
        },
        "084a257b404642fc85e682b265d2854d": {
          "model_module": "@jupyter-widgets/controls",
          "model_module_version": "1.5.0",
          "model_name": "FloatTextModel",
          "state": {
            "_dom_classes": [],
            "_model_module": "@jupyter-widgets/controls",
            "_model_module_version": "1.5.0",
            "_model_name": "FloatTextModel",
            "_view_count": null,
            "_view_module": "@jupyter-widgets/controls",
            "_view_module_version": "1.5.0",
            "_view_name": "FloatTextView",
            "continuous_update": false,
            "description": "bp_lactate_c_y",
            "description_tooltip": null,
            "disabled": false,
            "layout": "IPY_MODEL_251d109281694e8091bc52cd6bc26210",
            "step": null,
            "style": "IPY_MODEL_12610282c1b34fc0932c044ab2352941",
            "value": 1
          }
        },
        "0895a62f9628458a98d76074bd1510d2": {
          "model_module": "@jupyter-widgets/base",
          "model_module_version": "1.2.0",
          "model_name": "LayoutModel",
          "state": {
            "_model_module": "@jupyter-widgets/base",
            "_model_module_version": "1.2.0",
            "_model_name": "LayoutModel",
            "_view_count": null,
            "_view_module": "@jupyter-widgets/base",
            "_view_module_version": "1.2.0",
            "_view_name": "LayoutView",
            "align_content": null,
            "align_items": null,
            "align_self": null,
            "border": null,
            "bottom": null,
            "display": null,
            "flex": null,
            "flex_flow": null,
            "grid_area": null,
            "grid_auto_columns": null,
            "grid_auto_flow": null,
            "grid_auto_rows": null,
            "grid_column": null,
            "grid_gap": null,
            "grid_row": null,
            "grid_template_areas": null,
            "grid_template_columns": null,
            "grid_template_rows": null,
            "height": null,
            "justify_content": null,
            "justify_items": null,
            "left": null,
            "margin": null,
            "max_height": null,
            "max_width": null,
            "min_height": null,
            "min_width": null,
            "object_fit": null,
            "object_position": null,
            "order": null,
            "overflow": null,
            "overflow_x": null,
            "overflow_y": null,
            "padding": null,
            "right": null,
            "top": null,
            "visibility": null,
            "width": "300px"
          }
        },
        "0d516dd737d24113b02c252f830af17d": {
          "model_module": "@jupyter-widgets/controls",
          "model_module_version": "1.5.0",
          "model_name": "DescriptionStyleModel",
          "state": {
            "_model_module": "@jupyter-widgets/controls",
            "_model_module_version": "1.5.0",
            "_model_name": "DescriptionStyleModel",
            "_view_count": null,
            "_view_module": "@jupyter-widgets/base",
            "_view_module_version": "1.2.0",
            "_view_name": "StyleView",
            "description_width": "150px"
          }
        },
        "106f8a33fe1c46ee80fdf8eeeff0503f": {
          "model_module": "@jupyter-widgets/base",
          "model_module_version": "1.2.0",
          "model_name": "LayoutModel",
          "state": {
            "_model_module": "@jupyter-widgets/base",
            "_model_module_version": "1.2.0",
            "_model_name": "LayoutModel",
            "_view_count": null,
            "_view_module": "@jupyter-widgets/base",
            "_view_module_version": "1.2.0",
            "_view_name": "LayoutView",
            "align_content": null,
            "align_items": null,
            "align_self": null,
            "border": null,
            "bottom": null,
            "display": null,
            "flex": null,
            "flex_flow": null,
            "grid_area": null,
            "grid_auto_columns": null,
            "grid_auto_flow": null,
            "grid_auto_rows": null,
            "grid_column": null,
            "grid_gap": null,
            "grid_row": null,
            "grid_template_areas": null,
            "grid_template_columns": null,
            "grid_template_rows": null,
            "height": null,
            "justify_content": null,
            "justify_items": null,
            "left": null,
            "margin": null,
            "max_height": null,
            "max_width": null,
            "min_height": null,
            "min_width": null,
            "object_fit": null,
            "object_position": null,
            "order": null,
            "overflow": null,
            "overflow_x": null,
            "overflow_y": null,
            "padding": null,
            "right": null,
            "top": null,
            "visibility": null,
            "width": "300px"
          }
        },
        "10ec4ab760134cdebbad91946d1a009e": {
          "model_module": "@jupyter-widgets/controls",
          "model_module_version": "1.5.0",
          "model_name": "FloatTextModel",
          "state": {
            "_dom_classes": [],
            "_model_module": "@jupyter-widgets/controls",
            "_model_module_version": "1.5.0",
            "_model_name": "FloatTextModel",
            "_view_count": null,
            "_view_module": "@jupyter-widgets/controls",
            "_view_module_version": "1.5.0",
            "_view_name": "FloatTextView",
            "continuous_update": false,
            "description": "ac_co2_k",
            "description_tooltip": null,
            "disabled": false,
            "layout": "IPY_MODEL_701f1b51b2fb49479c7e705c772ffafc",
            "step": null,
            "style": "IPY_MODEL_8e181079124044e5bba8d28bf1618bc8",
            "value": 1
          }
        },
        "12610282c1b34fc0932c044ab2352941": {
          "model_module": "@jupyter-widgets/controls",
          "model_module_version": "1.5.0",
          "model_name": "DescriptionStyleModel",
          "state": {
            "_model_module": "@jupyter-widgets/controls",
            "_model_module_version": "1.5.0",
            "_model_name": "DescriptionStyleModel",
            "_view_count": null,
            "_view_module": "@jupyter-widgets/base",
            "_view_module_version": "1.2.0",
            "_view_name": "StyleView",
            "description_width": "150px"
          }
        },
        "152212a4cee54ce7b33a71950d05252f": {
          "model_module": "@jupyter-widgets/controls",
          "model_module_version": "1.5.0",
          "model_name": "DescriptionStyleModel",
          "state": {
            "_model_module": "@jupyter-widgets/controls",
            "_model_module_version": "1.5.0",
            "_model_name": "DescriptionStyleModel",
            "_view_count": null,
            "_view_module": "@jupyter-widgets/base",
            "_view_module_version": "1.2.0",
            "_view_name": "StyleView",
            "description_width": "150px"
          }
        },
        "1912369172a9424b99a9ce2e49eb2226": {
          "model_module": "@jupyter-widgets/base",
          "model_module_version": "1.2.0",
          "model_name": "LayoutModel",
          "state": {
            "_model_module": "@jupyter-widgets/base",
            "_model_module_version": "1.2.0",
            "_model_name": "LayoutModel",
            "_view_count": null,
            "_view_module": "@jupyter-widgets/base",
            "_view_module_version": "1.2.0",
            "_view_name": "LayoutView",
            "align_content": null,
            "align_items": null,
            "align_self": null,
            "border": null,
            "bottom": null,
            "display": null,
            "flex": null,
            "flex_flow": null,
            "grid_area": null,
            "grid_auto_columns": null,
            "grid_auto_flow": null,
            "grid_auto_rows": null,
            "grid_column": null,
            "grid_gap": null,
            "grid_row": null,
            "grid_template_areas": null,
            "grid_template_columns": null,
            "grid_template_rows": null,
            "height": null,
            "justify_content": null,
            "justify_items": null,
            "left": null,
            "margin": null,
            "max_height": null,
            "max_width": null,
            "min_height": null,
            "min_width": null,
            "object_fit": null,
            "object_position": null,
            "order": null,
            "overflow": null,
            "overflow_x": null,
            "overflow_y": null,
            "padding": null,
            "right": null,
            "top": null,
            "visibility": null,
            "width": "300px"
          }
        },
        "1aba615141a94b99ab8a98fafb64ddaa": {
          "model_module": "@jupyter-widgets/controls",
          "model_module_version": "1.5.0",
          "model_name": "DescriptionStyleModel",
          "state": {
            "_model_module": "@jupyter-widgets/controls",
            "_model_module_version": "1.5.0",
            "_model_name": "DescriptionStyleModel",
            "_view_count": null,
            "_view_module": "@jupyter-widgets/base",
            "_view_module_version": "1.2.0",
            "_view_name": "StyleView",
            "description_width": "150px"
          }
        },
        "1af75e70e28c4b49b3a6d3cafb673e70": {
          "model_module": "@jupyter-widgets/controls",
          "model_module_version": "1.5.0",
          "model_name": "DescriptionStyleModel",
          "state": {
            "_model_module": "@jupyter-widgets/controls",
            "_model_module_version": "1.5.0",
            "_model_name": "DescriptionStyleModel",
            "_view_count": null,
            "_view_module": "@jupyter-widgets/base",
            "_view_module_version": "1.2.0",
            "_view_name": "StyleView",
            "description_width": "150px"
          }
        },
        "1c9261cb10fc46d9ab0d8cf48471d097": {
          "model_module": "@jupyter-widgets/base",
          "model_module_version": "1.2.0",
          "model_name": "LayoutModel",
          "state": {
            "_model_module": "@jupyter-widgets/base",
            "_model_module_version": "1.2.0",
            "_model_name": "LayoutModel",
            "_view_count": null,
            "_view_module": "@jupyter-widgets/base",
            "_view_module_version": "1.2.0",
            "_view_name": "LayoutView",
            "align_content": null,
            "align_items": null,
            "align_self": null,
            "border": null,
            "bottom": null,
            "display": null,
            "flex": null,
            "flex_flow": null,
            "grid_area": null,
            "grid_auto_columns": null,
            "grid_auto_flow": null,
            "grid_auto_rows": null,
            "grid_column": null,
            "grid_gap": null,
            "grid_row": null,
            "grid_template_areas": null,
            "grid_template_columns": null,
            "grid_template_rows": null,
            "height": null,
            "justify_content": null,
            "justify_items": null,
            "left": null,
            "margin": null,
            "max_height": null,
            "max_width": null,
            "min_height": null,
            "min_width": null,
            "object_fit": null,
            "object_position": null,
            "order": null,
            "overflow": null,
            "overflow_x": null,
            "overflow_y": null,
            "padding": null,
            "right": null,
            "top": null,
            "visibility": null,
            "width": "300px"
          }
        },
        "1d18d3cc24af4059a7d4552c7ce96046": {
          "model_module": "@jupyter-widgets/controls",
          "model_module_version": "1.5.0",
          "model_name": "FloatTextModel",
          "state": {
            "_dom_classes": [],
            "_model_module": "@jupyter-widgets/controls",
            "_model_module_version": "1.5.0",
            "_model_name": "FloatTextModel",
            "_view_count": null,
            "_view_module": "@jupyter-widgets/controls",
            "_view_module_version": "1.5.0",
            "_view_name": "FloatTextView",
            "continuous_update": false,
            "description": "ac_co2_y",
            "description_tooltip": null,
            "disabled": false,
            "layout": "IPY_MODEL_f102d73368524275bcc27da1b88641f9",
            "step": null,
            "style": "IPY_MODEL_310197abcb544fd49c67b56a6532c407",
            "value": 10
          }
        },
        "1dcb1bd56c224c6d80929cd7cb1e894e": {
          "model_module": "@jupyter-widgets/controls",
          "model_module_version": "1.5.0",
          "model_name": "DescriptionStyleModel",
          "state": {
            "_model_module": "@jupyter-widgets/controls",
            "_model_module_version": "1.5.0",
            "_model_name": "DescriptionStyleModel",
            "_view_count": null,
            "_view_module": "@jupyter-widgets/base",
            "_view_module_version": "1.2.0",
            "_view_name": "StyleView",
            "description_width": "150px"
          }
        },
        "2043f3771d3545cd8ac687f83ef76ef7": {
          "model_module": "@jupyter-widgets/base",
          "model_module_version": "1.2.0",
          "model_name": "LayoutModel",
          "state": {
            "_model_module": "@jupyter-widgets/base",
            "_model_module_version": "1.2.0",
            "_model_name": "LayoutModel",
            "_view_count": null,
            "_view_module": "@jupyter-widgets/base",
            "_view_module_version": "1.2.0",
            "_view_name": "LayoutView",
            "align_content": null,
            "align_items": null,
            "align_self": null,
            "border": null,
            "bottom": null,
            "display": null,
            "flex": null,
            "flex_flow": null,
            "grid_area": null,
            "grid_auto_columns": null,
            "grid_auto_flow": null,
            "grid_auto_rows": null,
            "grid_column": null,
            "grid_gap": null,
            "grid_row": null,
            "grid_template_areas": null,
            "grid_template_columns": null,
            "grid_template_rows": null,
            "height": null,
            "justify_content": null,
            "justify_items": null,
            "left": null,
            "margin": null,
            "max_height": null,
            "max_width": null,
            "min_height": null,
            "min_width": null,
            "object_fit": null,
            "object_position": null,
            "order": null,
            "overflow": null,
            "overflow_x": null,
            "overflow_y": null,
            "padding": null,
            "right": null,
            "top": null,
            "visibility": null,
            "width": "300px"
          }
        },
        "22f27b74067f4295859a8a1f5bf69373": {
          "model_module": "@jupyter-widgets/controls",
          "model_module_version": "1.5.0",
          "model_name": "DescriptionStyleModel",
          "state": {
            "_model_module": "@jupyter-widgets/controls",
            "_model_module_version": "1.5.0",
            "_model_name": "DescriptionStyleModel",
            "_view_count": null,
            "_view_module": "@jupyter-widgets/base",
            "_view_module_version": "1.2.0",
            "_view_name": "StyleView",
            "description_width": "150px"
          }
        },
        "23f331d66fa740919a60c3a6ddd153b1": {
          "model_module": "@jupyter-widgets/base",
          "model_module_version": "1.2.0",
          "model_name": "LayoutModel",
          "state": {
            "_model_module": "@jupyter-widgets/base",
            "_model_module_version": "1.2.0",
            "_model_name": "LayoutModel",
            "_view_count": null,
            "_view_module": "@jupyter-widgets/base",
            "_view_module_version": "1.2.0",
            "_view_name": "LayoutView",
            "align_content": null,
            "align_items": null,
            "align_self": null,
            "border": null,
            "bottom": null,
            "display": null,
            "flex": null,
            "flex_flow": null,
            "grid_area": null,
            "grid_auto_columns": null,
            "grid_auto_flow": null,
            "grid_auto_rows": null,
            "grid_column": null,
            "grid_gap": null,
            "grid_row": null,
            "grid_template_areas": null,
            "grid_template_columns": null,
            "grid_template_rows": null,
            "height": null,
            "justify_content": null,
            "justify_items": null,
            "left": null,
            "margin": null,
            "max_height": null,
            "max_width": null,
            "min_height": null,
            "min_width": null,
            "object_fit": null,
            "object_position": null,
            "order": null,
            "overflow": null,
            "overflow_x": null,
            "overflow_y": null,
            "padding": null,
            "right": null,
            "top": null,
            "visibility": null,
            "width": "300px"
          }
        },
        "251d109281694e8091bc52cd6bc26210": {
          "model_module": "@jupyter-widgets/base",
          "model_module_version": "1.2.0",
          "model_name": "LayoutModel",
          "state": {
            "_model_module": "@jupyter-widgets/base",
            "_model_module_version": "1.2.0",
            "_model_name": "LayoutModel",
            "_view_count": null,
            "_view_module": "@jupyter-widgets/base",
            "_view_module_version": "1.2.0",
            "_view_name": "LayoutView",
            "align_content": null,
            "align_items": null,
            "align_self": null,
            "border": null,
            "bottom": null,
            "display": null,
            "flex": null,
            "flex_flow": null,
            "grid_area": null,
            "grid_auto_columns": null,
            "grid_auto_flow": null,
            "grid_auto_rows": null,
            "grid_column": null,
            "grid_gap": null,
            "grid_row": null,
            "grid_template_areas": null,
            "grid_template_columns": null,
            "grid_template_rows": null,
            "height": null,
            "justify_content": null,
            "justify_items": null,
            "left": null,
            "margin": null,
            "max_height": null,
            "max_width": null,
            "min_height": null,
            "min_width": null,
            "object_fit": null,
            "object_position": null,
            "order": null,
            "overflow": null,
            "overflow_x": null,
            "overflow_y": null,
            "padding": null,
            "right": null,
            "top": null,
            "visibility": null,
            "width": "300px"
          }
        },
        "2724651d8a934942b583e887818e118e": {
          "model_module": "@jupyter-widgets/base",
          "model_module_version": "1.2.0",
          "model_name": "LayoutModel",
          "state": {
            "_model_module": "@jupyter-widgets/base",
            "_model_module_version": "1.2.0",
            "_model_name": "LayoutModel",
            "_view_count": null,
            "_view_module": "@jupyter-widgets/base",
            "_view_module_version": "1.2.0",
            "_view_name": "LayoutView",
            "align_content": null,
            "align_items": null,
            "align_self": null,
            "border": null,
            "bottom": null,
            "display": null,
            "flex": null,
            "flex_flow": null,
            "grid_area": null,
            "grid_auto_columns": null,
            "grid_auto_flow": null,
            "grid_auto_rows": null,
            "grid_column": null,
            "grid_gap": null,
            "grid_row": null,
            "grid_template_areas": null,
            "grid_template_columns": null,
            "grid_template_rows": null,
            "height": null,
            "justify_content": null,
            "justify_items": null,
            "left": null,
            "margin": null,
            "max_height": null,
            "max_width": null,
            "min_height": null,
            "min_width": null,
            "object_fit": null,
            "object_position": null,
            "order": null,
            "overflow": null,
            "overflow_x": null,
            "overflow_y": null,
            "padding": null,
            "right": null,
            "top": null,
            "visibility": null,
            "width": "300px"
          }
        },
        "276c9df380f143f59c5cccefdb055b8d": {
          "model_module": "@jupyter-widgets/controls",
          "model_module_version": "1.5.0",
          "model_name": "FloatTextModel",
          "state": {
            "_dom_classes": [],
            "_model_module": "@jupyter-widgets/controls",
            "_model_module_version": "1.5.0",
            "_model_name": "FloatTextModel",
            "_view_count": null,
            "_view_module": "@jupyter-widgets/controls",
            "_view_module_version": "1.5.0",
            "_view_name": "FloatTextView",
            "continuous_update": false,
            "description": "acetate_S0",
            "description_tooltip": null,
            "disabled": false,
            "layout": "IPY_MODEL_df3cc5300fab451f9d366fdee7211cca",
            "step": null,
            "style": "IPY_MODEL_02cf8e6a76a34a49a26667088e9ca6e3",
            "value": 0
          }
        },
        "281854498fab42e9afd754c0c558efed": {
          "model_module": "@jupyter-widgets/base",
          "model_module_version": "1.2.0",
          "model_name": "LayoutModel",
          "state": {
            "_model_module": "@jupyter-widgets/base",
            "_model_module_version": "1.2.0",
            "_model_name": "LayoutModel",
            "_view_count": null,
            "_view_module": "@jupyter-widgets/base",
            "_view_module_version": "1.2.0",
            "_view_name": "LayoutView",
            "align_content": null,
            "align_items": null,
            "align_self": null,
            "border": null,
            "bottom": null,
            "display": null,
            "flex": null,
            "flex_flow": null,
            "grid_area": null,
            "grid_auto_columns": null,
            "grid_auto_flow": null,
            "grid_auto_rows": null,
            "grid_column": null,
            "grid_gap": null,
            "grid_row": null,
            "grid_template_areas": null,
            "grid_template_columns": null,
            "grid_template_rows": null,
            "height": null,
            "justify_content": null,
            "justify_items": null,
            "left": null,
            "margin": null,
            "max_height": null,
            "max_width": null,
            "min_height": null,
            "min_width": null,
            "object_fit": null,
            "object_position": null,
            "order": null,
            "overflow": null,
            "overflow_x": null,
            "overflow_y": null,
            "padding": null,
            "right": null,
            "top": null,
            "visibility": null,
            "width": "300px"
          }
        },
        "29fafeff759548979e70ebb6984acf29": {
          "model_module": "@jupyter-widgets/controls",
          "model_module_version": "1.5.0",
          "model_name": "DescriptionStyleModel",
          "state": {
            "_model_module": "@jupyter-widgets/controls",
            "_model_module_version": "1.5.0",
            "_model_name": "DescriptionStyleModel",
            "_view_count": null,
            "_view_module": "@jupyter-widgets/base",
            "_view_module_version": "1.2.0",
            "_view_name": "StyleView",
            "description_width": "150px"
          }
        },
        "2cca354bb8754f7c919e9fe37c224246": {
          "model_module": "@jupyter-widgets/base",
          "model_module_version": "1.2.0",
          "model_name": "LayoutModel",
          "state": {
            "_model_module": "@jupyter-widgets/base",
            "_model_module_version": "1.2.0",
            "_model_name": "LayoutModel",
            "_view_count": null,
            "_view_module": "@jupyter-widgets/base",
            "_view_module_version": "1.2.0",
            "_view_name": "LayoutView",
            "align_content": null,
            "align_items": null,
            "align_self": null,
            "border": null,
            "bottom": null,
            "display": null,
            "flex": null,
            "flex_flow": null,
            "grid_area": null,
            "grid_auto_columns": null,
            "grid_auto_flow": null,
            "grid_auto_rows": null,
            "grid_column": null,
            "grid_gap": null,
            "grid_row": null,
            "grid_template_areas": null,
            "grid_template_columns": null,
            "grid_template_rows": null,
            "height": null,
            "justify_content": null,
            "justify_items": null,
            "left": null,
            "margin": null,
            "max_height": null,
            "max_width": null,
            "min_height": null,
            "min_width": null,
            "object_fit": null,
            "object_position": null,
            "order": null,
            "overflow": null,
            "overflow_x": null,
            "overflow_y": null,
            "padding": null,
            "right": null,
            "top": null,
            "visibility": null,
            "width": "300px"
          }
        },
        "2eefdf8a6eca4c878e2874333481dc07": {
          "model_module": "@jupyter-widgets/controls",
          "model_module_version": "1.5.0",
          "model_name": "FloatTextModel",
          "state": {
            "_dom_classes": [],
            "_model_module": "@jupyter-widgets/controls",
            "_model_module_version": "1.5.0",
            "_model_name": "FloatTextModel",
            "_view_count": null,
            "_view_module": "@jupyter-widgets/controls",
            "_view_module_version": "1.5.0",
            "_view_name": "FloatTextView",
            "continuous_update": false,
            "description": "bp_acetate_p_y",
            "description_tooltip": null,
            "disabled": false,
            "layout": "IPY_MODEL_9bcc349236ac46538568a32aacf03510",
            "step": null,
            "style": "IPY_MODEL_0d516dd737d24113b02c252f830af17d",
            "value": -1
          }
        },
        "2efc22450e984dd597cce3f4911ddaa7": {
          "model_module": "@jupyter-widgets/controls",
          "model_module_version": "1.5.0",
          "model_name": "VBoxModel",
          "state": {
            "_dom_classes": [],
            "_model_module": "@jupyter-widgets/controls",
            "_model_module_version": "1.5.0",
            "_model_name": "VBoxModel",
            "_view_count": null,
            "_view_module": "@jupyter-widgets/controls",
            "_view_module_version": "1.5.0",
            "_view_name": "VBoxView",
            "box_style": "",
            "children": [
              "IPY_MODEL_bcf4cf2f89674863893e7537d67898d5"
            ],
            "layout": "IPY_MODEL_da91fc5d439346df9680ff87e32e205f"
          }
        },
        "310197abcb544fd49c67b56a6532c407": {
          "model_module": "@jupyter-widgets/controls",
          "model_module_version": "1.5.0",
          "model_name": "DescriptionStyleModel",
          "state": {
            "_model_module": "@jupyter-widgets/controls",
            "_model_module_version": "1.5.0",
            "_model_name": "DescriptionStyleModel",
            "_view_count": null,
            "_view_module": "@jupyter-widgets/base",
            "_view_module_version": "1.2.0",
            "_view_name": "StyleView",
            "description_width": "150px"
          }
        },
        "31f3e82faf0d411ab1b7f981ab5917dc": {
          "model_module": "@jupyter-widgets/controls",
          "model_module_version": "1.5.0",
          "model_name": "FloatTextModel",
          "state": {
            "_dom_classes": [],
            "_model_module": "@jupyter-widgets/controls",
            "_model_module_version": "1.5.0",
            "_model_name": "FloatTextModel",
            "_view_count": null,
            "_view_module": "@jupyter-widgets/controls",
            "_view_module_version": "1.5.0",
            "_view_name": "FloatTextView",
            "continuous_update": false,
            "description": "ac_ac_y",
            "description_tooltip": null,
            "disabled": false,
            "layout": "IPY_MODEL_2cca354bb8754f7c919e9fe37c224246",
            "step": null,
            "style": "IPY_MODEL_f4d7f8c1e84d4f36be0c2e694fab62bc",
            "value": -1
          }
        },
        "333424060cee4af894652e213d472be2": {
          "model_module": "@jupyter-widgets/base",
          "model_module_version": "1.2.0",
          "model_name": "LayoutModel",
          "state": {
            "_model_module": "@jupyter-widgets/base",
            "_model_module_version": "1.2.0",
            "_model_name": "LayoutModel",
            "_view_count": null,
            "_view_module": "@jupyter-widgets/base",
            "_view_module_version": "1.2.0",
            "_view_name": "LayoutView",
            "align_content": null,
            "align_items": null,
            "align_self": null,
            "border": null,
            "bottom": null,
            "display": null,
            "flex": null,
            "flex_flow": null,
            "grid_area": null,
            "grid_auto_columns": null,
            "grid_auto_flow": null,
            "grid_auto_rows": null,
            "grid_column": null,
            "grid_gap": null,
            "grid_row": null,
            "grid_template_areas": null,
            "grid_template_columns": null,
            "grid_template_rows": null,
            "height": null,
            "justify_content": null,
            "justify_items": null,
            "left": null,
            "margin": null,
            "max_height": null,
            "max_width": null,
            "min_height": null,
            "min_width": null,
            "object_fit": null,
            "object_position": null,
            "order": null,
            "overflow": null,
            "overflow_x": null,
            "overflow_y": null,
            "padding": null,
            "right": null,
            "top": null,
            "visibility": null,
            "width": null
          }
        },
        "33d4eb934d0c4653881e3852f43eb607": {
          "model_module": "@jupyter-widgets/base",
          "model_module_version": "1.2.0",
          "model_name": "LayoutModel",
          "state": {
            "_model_module": "@jupyter-widgets/base",
            "_model_module_version": "1.2.0",
            "_model_name": "LayoutModel",
            "_view_count": null,
            "_view_module": "@jupyter-widgets/base",
            "_view_module_version": "1.2.0",
            "_view_name": "LayoutView",
            "align_content": null,
            "align_items": null,
            "align_self": null,
            "border": null,
            "bottom": null,
            "display": null,
            "flex": null,
            "flex_flow": null,
            "grid_area": null,
            "grid_auto_columns": null,
            "grid_auto_flow": null,
            "grid_auto_rows": null,
            "grid_column": null,
            "grid_gap": null,
            "grid_row": null,
            "grid_template_areas": null,
            "grid_template_columns": null,
            "grid_template_rows": null,
            "height": null,
            "justify_content": null,
            "justify_items": null,
            "left": null,
            "margin": null,
            "max_height": null,
            "max_width": null,
            "min_height": null,
            "min_width": null,
            "object_fit": null,
            "object_position": null,
            "order": null,
            "overflow": null,
            "overflow_x": null,
            "overflow_y": null,
            "padding": null,
            "right": null,
            "top": null,
            "visibility": null,
            "width": null
          }
        },
        "3471e83d848e457d9a01e9370fb882ab": {
          "model_module": "@jupyter-widgets/base",
          "model_module_version": "1.2.0",
          "model_name": "LayoutModel",
          "state": {
            "_model_module": "@jupyter-widgets/base",
            "_model_module_version": "1.2.0",
            "_model_name": "LayoutModel",
            "_view_count": null,
            "_view_module": "@jupyter-widgets/base",
            "_view_module_version": "1.2.0",
            "_view_name": "LayoutView",
            "align_content": null,
            "align_items": null,
            "align_self": null,
            "border": null,
            "bottom": null,
            "display": null,
            "flex": null,
            "flex_flow": null,
            "grid_area": null,
            "grid_auto_columns": null,
            "grid_auto_flow": null,
            "grid_auto_rows": null,
            "grid_column": null,
            "grid_gap": null,
            "grid_row": null,
            "grid_template_areas": null,
            "grid_template_columns": null,
            "grid_template_rows": null,
            "height": null,
            "justify_content": null,
            "justify_items": null,
            "left": null,
            "margin": null,
            "max_height": null,
            "max_width": null,
            "min_height": null,
            "min_width": null,
            "object_fit": null,
            "object_position": null,
            "order": null,
            "overflow": null,
            "overflow_x": null,
            "overflow_y": null,
            "padding": null,
            "right": null,
            "top": null,
            "visibility": null,
            "width": "300px"
          }
        },
        "35059fc28cf5443dbe04839d28b68ed9": {
          "model_module": "@jupyter-widgets/base",
          "model_module_version": "1.2.0",
          "model_name": "LayoutModel",
          "state": {
            "_model_module": "@jupyter-widgets/base",
            "_model_module_version": "1.2.0",
            "_model_name": "LayoutModel",
            "_view_count": null,
            "_view_module": "@jupyter-widgets/base",
            "_view_module_version": "1.2.0",
            "_view_name": "LayoutView",
            "align_content": null,
            "align_items": null,
            "align_self": null,
            "border": null,
            "bottom": null,
            "display": null,
            "flex": null,
            "flex_flow": null,
            "grid_area": null,
            "grid_auto_columns": null,
            "grid_auto_flow": null,
            "grid_auto_rows": null,
            "grid_column": null,
            "grid_gap": null,
            "grid_row": null,
            "grid_template_areas": null,
            "grid_template_columns": null,
            "grid_template_rows": null,
            "height": null,
            "justify_content": null,
            "justify_items": null,
            "left": null,
            "margin": null,
            "max_height": null,
            "max_width": null,
            "min_height": null,
            "min_width": null,
            "object_fit": null,
            "object_position": null,
            "order": null,
            "overflow": null,
            "overflow_x": null,
            "overflow_y": null,
            "padding": null,
            "right": null,
            "top": null,
            "visibility": null,
            "width": "300px"
          }
        },
        "3dab3d0423ff430b956d43883f9344d4": {
          "model_module": "@jupyter-widgets/controls",
          "model_module_version": "1.5.0",
          "model_name": "FloatTextModel",
          "state": {
            "_dom_classes": [],
            "_model_module": "@jupyter-widgets/controls",
            "_model_module_version": "1.5.0",
            "_model_name": "FloatTextModel",
            "_view_count": null,
            "_view_module": "@jupyter-widgets/controls",
            "_view_module_version": "1.5.0",
            "_view_name": "FloatTextView",
            "continuous_update": false,
            "description": "ac_for_y",
            "description_tooltip": null,
            "disabled": false,
            "layout": "IPY_MODEL_0895a62f9628458a98d76074bd1510d2",
            "step": null,
            "style": "IPY_MODEL_dc13686a6041417ebd7298d37530378b",
            "value": 1
          }
        },
        "41149ba7ab4741489acc998b00dfe018": {
          "model_module": "@jupyter-widgets/controls",
          "model_module_version": "1.5.0",
          "model_name": "FloatTextModel",
          "state": {
            "_dom_classes": [],
            "_model_module": "@jupyter-widgets/controls",
            "_model_module_version": "1.5.0",
            "_model_name": "FloatTextModel",
            "_view_count": null,
            "_view_module": "@jupyter-widgets/controls",
            "_view_module_version": "1.5.0",
            "_view_name": "FloatTextView",
            "continuous_update": false,
            "description": "bp_lactate_c_k",
            "description_tooltip": null,
            "disabled": false,
            "layout": "IPY_MODEL_a92a0ffb41304155a2fd9b7c719d0ea7",
            "step": null,
            "style": "IPY_MODEL_4ba931ef17c442338e0a9d404913e8c8",
            "value": 1
          }
        },
        "4114b9b3c278467e966b7043270f770d": {
          "model_module": "@jupyter-widgets/controls",
          "model_module_version": "1.5.0",
          "model_name": "FloatTextModel",
          "state": {
            "_dom_classes": [],
            "_model_module": "@jupyter-widgets/controls",
            "_model_module_version": "1.5.0",
            "_model_name": "FloatTextModel",
            "_view_count": null,
            "_view_module": "@jupyter-widgets/controls",
            "_view_module_version": "1.5.0",
            "_view_name": "FloatTextView",
            "continuous_update": false,
            "description": "bp_X0",
            "description_tooltip": null,
            "disabled": false,
            "layout": "IPY_MODEL_2724651d8a934942b583e887818e118e",
            "step": null,
            "style": "IPY_MODEL_e7989b4ad93041ea998b0de8cfaecc62",
            "value": 0.1
          }
        },
        "4ba931ef17c442338e0a9d404913e8c8": {
          "model_module": "@jupyter-widgets/controls",
          "model_module_version": "1.5.0",
          "model_name": "DescriptionStyleModel",
          "state": {
            "_model_module": "@jupyter-widgets/controls",
            "_model_module_version": "1.5.0",
            "_model_name": "DescriptionStyleModel",
            "_view_count": null,
            "_view_module": "@jupyter-widgets/base",
            "_view_module_version": "1.2.0",
            "_view_name": "StyleView",
            "description_width": "150px"
          }
        },
        "4c94d79c95224b38bad61083df3865af": {
          "model_module": "@jupyter-widgets/controls",
          "model_module_version": "1.5.0",
          "model_name": "DescriptionStyleModel",
          "state": {
            "_model_module": "@jupyter-widgets/controls",
            "_model_module_version": "1.5.0",
            "_model_name": "DescriptionStyleModel",
            "_view_count": null,
            "_view_module": "@jupyter-widgets/base",
            "_view_module_version": "1.2.0",
            "_view_name": "StyleView",
            "description_width": "150px"
          }
        },
        "4d4e4a3d121645db9ddb82cb1ba1d3a0": {
          "model_module": "@jupyter-widgets/controls",
          "model_module_version": "1.5.0",
          "model_name": "DescriptionStyleModel",
          "state": {
            "_model_module": "@jupyter-widgets/controls",
            "_model_module_version": "1.5.0",
            "_model_name": "DescriptionStyleModel",
            "_view_count": null,
            "_view_module": "@jupyter-widgets/base",
            "_view_module_version": "1.2.0",
            "_view_name": "StyleView",
            "description_width": "150px"
          }
        },
        "4eb36f6c28d14345a9579cfc116e424a": {
          "model_module": "@jupyter-widgets/controls",
          "model_module_version": "1.5.0",
          "model_name": "DescriptionStyleModel",
          "state": {
            "_model_module": "@jupyter-widgets/controls",
            "_model_module_version": "1.5.0",
            "_model_name": "DescriptionStyleModel",
            "_view_count": null,
            "_view_module": "@jupyter-widgets/base",
            "_view_module_version": "1.2.0",
            "_view_name": "StyleView",
            "description_width": "150px"
          }
        },
        "4ed982f9c5834be498457f894b23eb60": {
          "model_module": "@jupyter-widgets/base",
          "model_module_version": "1.2.0",
          "model_name": "LayoutModel",
          "state": {
            "_model_module": "@jupyter-widgets/base",
            "_model_module_version": "1.2.0",
            "_model_name": "LayoutModel",
            "_view_count": null,
            "_view_module": "@jupyter-widgets/base",
            "_view_module_version": "1.2.0",
            "_view_name": "LayoutView",
            "align_content": null,
            "align_items": null,
            "align_self": null,
            "border": null,
            "bottom": null,
            "display": null,
            "flex": null,
            "flex_flow": null,
            "grid_area": null,
            "grid_auto_columns": null,
            "grid_auto_flow": null,
            "grid_auto_rows": null,
            "grid_column": null,
            "grid_gap": null,
            "grid_row": null,
            "grid_template_areas": null,
            "grid_template_columns": null,
            "grid_template_rows": null,
            "height": null,
            "justify_content": null,
            "justify_items": null,
            "left": null,
            "margin": null,
            "max_height": null,
            "max_width": null,
            "min_height": null,
            "min_width": null,
            "object_fit": null,
            "object_position": null,
            "order": null,
            "overflow": null,
            "overflow_x": null,
            "overflow_y": null,
            "padding": null,
            "right": null,
            "top": null,
            "visibility": null,
            "width": "300px"
          }
        },
        "4ef03eff6d6d4884ba575634e27026e2": {
          "model_module": "@jupyter-widgets/base",
          "model_module_version": "1.2.0",
          "model_name": "LayoutModel",
          "state": {
            "_model_module": "@jupyter-widgets/base",
            "_model_module_version": "1.2.0",
            "_model_name": "LayoutModel",
            "_view_count": null,
            "_view_module": "@jupyter-widgets/base",
            "_view_module_version": "1.2.0",
            "_view_name": "LayoutView",
            "align_content": null,
            "align_items": null,
            "align_self": null,
            "border": null,
            "bottom": null,
            "display": null,
            "flex": null,
            "flex_flow": null,
            "grid_area": null,
            "grid_auto_columns": null,
            "grid_auto_flow": null,
            "grid_auto_rows": null,
            "grid_column": null,
            "grid_gap": null,
            "grid_row": null,
            "grid_template_areas": null,
            "grid_template_columns": null,
            "grid_template_rows": null,
            "height": null,
            "justify_content": null,
            "justify_items": null,
            "left": null,
            "margin": null,
            "max_height": null,
            "max_width": null,
            "min_height": null,
            "min_width": null,
            "object_fit": null,
            "object_position": null,
            "order": null,
            "overflow": null,
            "overflow_x": null,
            "overflow_y": null,
            "padding": null,
            "right": null,
            "top": null,
            "visibility": null,
            "width": "300px"
          }
        },
        "4f0854a144e14c7ea09ea9099a0afe94": {
          "model_module": "@jupyter-widgets/controls",
          "model_module_version": "1.5.0",
          "model_name": "FloatTextModel",
          "state": {
            "_dom_classes": [],
            "_model_module": "@jupyter-widgets/controls",
            "_model_module_version": "1.5.0",
            "_model_name": "FloatTextModel",
            "_view_count": null,
            "_view_module": "@jupyter-widgets/controls",
            "_view_module_version": "1.5.0",
            "_view_name": "FloatTextView",
            "continuous_update": false,
            "description": "ac_h2_y",
            "description_tooltip": null,
            "disabled": false,
            "layout": "IPY_MODEL_e3403a211b7f49c0938768880e965ea1",
            "step": null,
            "style": "IPY_MODEL_5e7ce5df29124db2983724b58a4b55ab",
            "value": 1
          }
        },
        "520b8a493b9345bfbef9ff7b251280b3": {
          "model_module": "@jupyter-widgets/base",
          "model_module_version": "1.2.0",
          "model_name": "LayoutModel",
          "state": {
            "_model_module": "@jupyter-widgets/base",
            "_model_module_version": "1.2.0",
            "_model_name": "LayoutModel",
            "_view_count": null,
            "_view_module": "@jupyter-widgets/base",
            "_view_module_version": "1.2.0",
            "_view_name": "LayoutView",
            "align_content": null,
            "align_items": null,
            "align_self": null,
            "border": null,
            "bottom": null,
            "display": null,
            "flex": null,
            "flex_flow": null,
            "grid_area": null,
            "grid_auto_columns": null,
            "grid_auto_flow": null,
            "grid_auto_rows": null,
            "grid_column": null,
            "grid_gap": null,
            "grid_row": null,
            "grid_template_areas": null,
            "grid_template_columns": null,
            "grid_template_rows": null,
            "height": null,
            "justify_content": null,
            "justify_items": null,
            "left": null,
            "margin": null,
            "max_height": null,
            "max_width": null,
            "min_height": null,
            "min_width": null,
            "object_fit": null,
            "object_position": null,
            "order": null,
            "overflow": null,
            "overflow_x": null,
            "overflow_y": null,
            "padding": null,
            "right": null,
            "top": null,
            "visibility": null,
            "width": "300px"
          }
        },
        "52dc06248c314de3b753d8c1f6990ae0": {
          "model_module": "@jupyter-widgets/base",
          "model_module_version": "1.2.0",
          "model_name": "LayoutModel",
          "state": {
            "_model_module": "@jupyter-widgets/base",
            "_model_module_version": "1.2.0",
            "_model_name": "LayoutModel",
            "_view_count": null,
            "_view_module": "@jupyter-widgets/base",
            "_view_module_version": "1.2.0",
            "_view_name": "LayoutView",
            "align_content": null,
            "align_items": null,
            "align_self": null,
            "border": null,
            "bottom": null,
            "display": null,
            "flex": null,
            "flex_flow": null,
            "grid_area": null,
            "grid_auto_columns": null,
            "grid_auto_flow": null,
            "grid_auto_rows": null,
            "grid_column": null,
            "grid_gap": null,
            "grid_row": null,
            "grid_template_areas": null,
            "grid_template_columns": null,
            "grid_template_rows": null,
            "height": null,
            "justify_content": null,
            "justify_items": null,
            "left": null,
            "margin": null,
            "max_height": null,
            "max_width": null,
            "min_height": null,
            "min_width": null,
            "object_fit": null,
            "object_position": null,
            "order": null,
            "overflow": null,
            "overflow_x": null,
            "overflow_y": null,
            "padding": null,
            "right": null,
            "top": null,
            "visibility": null,
            "width": "300px"
          }
        },
        "545daae452174af78429f366bbcd9820": {
          "model_module": "@jupyter-widgets/base",
          "model_module_version": "1.2.0",
          "model_name": "LayoutModel",
          "state": {
            "_model_module": "@jupyter-widgets/base",
            "_model_module_version": "1.2.0",
            "_model_name": "LayoutModel",
            "_view_count": null,
            "_view_module": "@jupyter-widgets/base",
            "_view_module_version": "1.2.0",
            "_view_name": "LayoutView",
            "align_content": null,
            "align_items": null,
            "align_self": null,
            "border": null,
            "bottom": null,
            "display": null,
            "flex": null,
            "flex_flow": null,
            "grid_area": null,
            "grid_auto_columns": null,
            "grid_auto_flow": null,
            "grid_auto_rows": null,
            "grid_column": null,
            "grid_gap": null,
            "grid_row": null,
            "grid_template_areas": null,
            "grid_template_columns": null,
            "grid_template_rows": null,
            "height": null,
            "justify_content": null,
            "justify_items": null,
            "left": null,
            "margin": null,
            "max_height": null,
            "max_width": null,
            "min_height": null,
            "min_width": null,
            "object_fit": null,
            "object_position": null,
            "order": null,
            "overflow": null,
            "overflow_x": null,
            "overflow_y": null,
            "padding": null,
            "right": null,
            "top": null,
            "visibility": null,
            "width": "300px"
          }
        },
        "5a3e40d8410942d8bc9f6654ddb21c11": {
          "model_module": "@jupyter-widgets/base",
          "model_module_version": "1.2.0",
          "model_name": "LayoutModel",
          "state": {
            "_model_module": "@jupyter-widgets/base",
            "_model_module_version": "1.2.0",
            "_model_name": "LayoutModel",
            "_view_count": null,
            "_view_module": "@jupyter-widgets/base",
            "_view_module_version": "1.2.0",
            "_view_name": "LayoutView",
            "align_content": null,
            "align_items": null,
            "align_self": null,
            "border": null,
            "bottom": null,
            "display": null,
            "flex": null,
            "flex_flow": null,
            "grid_area": null,
            "grid_auto_columns": null,
            "grid_auto_flow": null,
            "grid_auto_rows": null,
            "grid_column": null,
            "grid_gap": null,
            "grid_row": null,
            "grid_template_areas": null,
            "grid_template_columns": null,
            "grid_template_rows": null,
            "height": null,
            "justify_content": null,
            "justify_items": null,
            "left": null,
            "margin": null,
            "max_height": null,
            "max_width": null,
            "min_height": null,
            "min_width": null,
            "object_fit": null,
            "object_position": null,
            "order": null,
            "overflow": null,
            "overflow_x": null,
            "overflow_y": null,
            "padding": null,
            "right": null,
            "top": null,
            "visibility": null,
            "width": "300px"
          }
        },
        "5df910ae93744526bec8a7d9bc79db6b": {
          "model_module": "@jupyter-widgets/base",
          "model_module_version": "1.2.0",
          "model_name": "LayoutModel",
          "state": {
            "_model_module": "@jupyter-widgets/base",
            "_model_module_version": "1.2.0",
            "_model_name": "LayoutModel",
            "_view_count": null,
            "_view_module": "@jupyter-widgets/base",
            "_view_module_version": "1.2.0",
            "_view_name": "LayoutView",
            "align_content": null,
            "align_items": null,
            "align_self": null,
            "border": null,
            "bottom": null,
            "display": null,
            "flex": null,
            "flex_flow": null,
            "grid_area": null,
            "grid_auto_columns": null,
            "grid_auto_flow": null,
            "grid_auto_rows": null,
            "grid_column": null,
            "grid_gap": null,
            "grid_row": null,
            "grid_template_areas": null,
            "grid_template_columns": null,
            "grid_template_rows": null,
            "height": null,
            "justify_content": null,
            "justify_items": null,
            "left": null,
            "margin": null,
            "max_height": null,
            "max_width": null,
            "min_height": null,
            "min_width": null,
            "object_fit": null,
            "object_position": null,
            "order": null,
            "overflow": null,
            "overflow_x": null,
            "overflow_y": null,
            "padding": null,
            "right": null,
            "top": null,
            "visibility": null,
            "width": "300px"
          }
        },
        "5e08ff018a9e4088b4b70893ece8f4ca": {
          "model_module": "@jupyter-widgets/controls",
          "model_module_version": "1.5.0",
          "model_name": "FloatTextModel",
          "state": {
            "_dom_classes": [],
            "_model_module": "@jupyter-widgets/controls",
            "_model_module_version": "1.5.0",
            "_model_name": "FloatTextModel",
            "_view_count": null,
            "_view_module": "@jupyter-widgets/controls",
            "_view_module_version": "1.5.0",
            "_view_name": "FloatTextView",
            "continuous_update": false,
            "description": "sf_ac_y",
            "description_tooltip": null,
            "disabled": false,
            "layout": "IPY_MODEL_23f331d66fa740919a60c3a6ddd153b1",
            "step": null,
            "style": "IPY_MODEL_1aba615141a94b99ab8a98fafb64ddaa",
            "value": -1
          }
        },
        "5e7ce5df29124db2983724b58a4b55ab": {
          "model_module": "@jupyter-widgets/controls",
          "model_module_version": "1.5.0",
          "model_name": "DescriptionStyleModel",
          "state": {
            "_model_module": "@jupyter-widgets/controls",
            "_model_module_version": "1.5.0",
            "_model_name": "DescriptionStyleModel",
            "_view_count": null,
            "_view_module": "@jupyter-widgets/base",
            "_view_module_version": "1.2.0",
            "_view_name": "StyleView",
            "description_width": "150px"
          }
        },
        "619fec4d75e249038c674121c7c65067": {
          "model_module": "@jupyter-widgets/controls",
          "model_module_version": "1.5.0",
          "model_name": "FloatTextModel",
          "state": {
            "_dom_classes": [],
            "_model_module": "@jupyter-widgets/controls",
            "_model_module_version": "1.5.0",
            "_model_name": "FloatTextModel",
            "_view_count": null,
            "_view_module": "@jupyter-widgets/controls",
            "_view_module_version": "1.5.0",
            "_view_name": "FloatTextView",
            "continuous_update": false,
            "description": "ac_glucose_k",
            "description_tooltip": null,
            "disabled": false,
            "layout": "IPY_MODEL_888f9de854994847b0e0804afc697495",
            "step": null,
            "style": "IPY_MODEL_1dcb1bd56c224c6d80929cd7cb1e894e",
            "value": 1
          }
        },
        "6509fdf3a5f7491ea04fd3d23a874044": {
          "model_module": "@jupyter-widgets/controls",
          "model_module_version": "1.5.0",
          "model_name": "FloatTextModel",
          "state": {
            "_dom_classes": [],
            "_model_module": "@jupyter-widgets/controls",
            "_model_module_version": "1.5.0",
            "_model_name": "FloatTextModel",
            "_view_count": null,
            "_view_module": "@jupyter-widgets/controls",
            "_view_module_version": "1.5.0",
            "_view_name": "FloatTextView",
            "continuous_update": false,
            "description": "bp_glucose_y",
            "description_tooltip": null,
            "disabled": false,
            "layout": "IPY_MODEL_5df910ae93744526bec8a7d9bc79db6b",
            "step": null,
            "style": "IPY_MODEL_7b81379d87c743578169dd02b8880c4f",
            "value": 1
          }
        },
        "66b8d7dc363a4706be7c0ed941fc44a3": {
          "model_module": "@jupyter-widgets/controls",
          "model_module_version": "1.5.0",
          "model_name": "DescriptionStyleModel",
          "state": {
            "_model_module": "@jupyter-widgets/controls",
            "_model_module_version": "1.5.0",
            "_model_name": "DescriptionStyleModel",
            "_view_count": null,
            "_view_module": "@jupyter-widgets/base",
            "_view_module_version": "1.2.0",
            "_view_name": "StyleView",
            "description_width": "150px"
          }
        },
        "66e18a0770a34506917cef9a33b424ba": {
          "model_module": "@jupyter-widgets/controls",
          "model_module_version": "1.5.0",
          "model_name": "DescriptionStyleModel",
          "state": {
            "_model_module": "@jupyter-widgets/controls",
            "_model_module_version": "1.5.0",
            "_model_name": "DescriptionStyleModel",
            "_view_count": null,
            "_view_module": "@jupyter-widgets/base",
            "_view_module_version": "1.2.0",
            "_view_name": "StyleView",
            "description_width": "150px"
          }
        },
        "6991538de6e9472485137e17c2ac0b02": {
          "model_module": "@jupyter-widgets/controls",
          "model_module_version": "1.5.0",
          "model_name": "FloatTextModel",
          "state": {
            "_dom_classes": [],
            "_model_module": "@jupyter-widgets/controls",
            "_model_module_version": "1.5.0",
            "_model_name": "FloatTextModel",
            "_view_count": null,
            "_view_module": "@jupyter-widgets/controls",
            "_view_module_version": "1.5.0",
            "_view_name": "FloatTextView",
            "continuous_update": false,
            "description": "bp_acetate_c_y",
            "description_tooltip": null,
            "disabled": false,
            "layout": "IPY_MODEL_35059fc28cf5443dbe04839d28b68ed9",
            "step": null,
            "style": "IPY_MODEL_66b8d7dc363a4706be7c0ed941fc44a3",
            "value": 1
          }
        },
        "6a27fbdea1074b77b0a170a9278789d0": {
          "model_module": "@jupyter-widgets/controls",
          "model_module_version": "1.5.0",
          "model_name": "DescriptionStyleModel",
          "state": {
            "_model_module": "@jupyter-widgets/controls",
            "_model_module_version": "1.5.0",
            "_model_name": "DescriptionStyleModel",
            "_view_count": null,
            "_view_module": "@jupyter-widgets/base",
            "_view_module_version": "1.2.0",
            "_view_name": "StyleView",
            "description_width": "150px"
          }
        },
        "701f1b51b2fb49479c7e705c772ffafc": {
          "model_module": "@jupyter-widgets/base",
          "model_module_version": "1.2.0",
          "model_name": "LayoutModel",
          "state": {
            "_model_module": "@jupyter-widgets/base",
            "_model_module_version": "1.2.0",
            "_model_name": "LayoutModel",
            "_view_count": null,
            "_view_module": "@jupyter-widgets/base",
            "_view_module_version": "1.2.0",
            "_view_name": "LayoutView",
            "align_content": null,
            "align_items": null,
            "align_self": null,
            "border": null,
            "bottom": null,
            "display": null,
            "flex": null,
            "flex_flow": null,
            "grid_area": null,
            "grid_auto_columns": null,
            "grid_auto_flow": null,
            "grid_auto_rows": null,
            "grid_column": null,
            "grid_gap": null,
            "grid_row": null,
            "grid_template_areas": null,
            "grid_template_columns": null,
            "grid_template_rows": null,
            "height": null,
            "justify_content": null,
            "justify_items": null,
            "left": null,
            "margin": null,
            "max_height": null,
            "max_width": null,
            "min_height": null,
            "min_width": null,
            "object_fit": null,
            "object_position": null,
            "order": null,
            "overflow": null,
            "overflow_x": null,
            "overflow_y": null,
            "padding": null,
            "right": null,
            "top": null,
            "visibility": null,
            "width": "300px"
          }
        },
        "74da45c21a664e52a616af377c348469": {
          "model_module": "@jupyter-widgets/controls",
          "model_module_version": "1.5.0",
          "model_name": "DescriptionStyleModel",
          "state": {
            "_model_module": "@jupyter-widgets/controls",
            "_model_module_version": "1.5.0",
            "_model_name": "DescriptionStyleModel",
            "_view_count": null,
            "_view_module": "@jupyter-widgets/base",
            "_view_module_version": "1.2.0",
            "_view_name": "StyleView",
            "description_width": "150px"
          }
        },
        "7b81379d87c743578169dd02b8880c4f": {
          "model_module": "@jupyter-widgets/controls",
          "model_module_version": "1.5.0",
          "model_name": "DescriptionStyleModel",
          "state": {
            "_model_module": "@jupyter-widgets/controls",
            "_model_module_version": "1.5.0",
            "_model_name": "DescriptionStyleModel",
            "_view_count": null,
            "_view_module": "@jupyter-widgets/base",
            "_view_module_version": "1.2.0",
            "_view_name": "StyleView",
            "description_width": "150px"
          }
        },
        "81ba0ccf24ad468f9a0e13f49cc9b87b": {
          "model_module": "@jupyter-widgets/controls",
          "model_module_version": "1.5.0",
          "model_name": "FloatTextModel",
          "state": {
            "_dom_classes": [],
            "_model_module": "@jupyter-widgets/controls",
            "_model_module_version": "1.5.0",
            "_model_name": "FloatTextModel",
            "_view_count": null,
            "_view_module": "@jupyter-widgets/controls",
            "_view_module_version": "1.5.0",
            "_view_name": "FloatTextView",
            "continuous_update": false,
            "description": "ac_glucose_y",
            "description_tooltip": null,
            "disabled": false,
            "layout": "IPY_MODEL_4ed982f9c5834be498457f894b23eb60",
            "step": null,
            "style": "IPY_MODEL_be697e24e52646c0887be3b46c9159e3",
            "value": 1
          }
        },
        "81c849b671e54c75931e29c54ae6b9e0": {
          "model_module": "@jupyter-widgets/controls",
          "model_module_version": "1.5.0",
          "model_name": "FloatTextModel",
          "state": {
            "_dom_classes": [],
            "_model_module": "@jupyter-widgets/controls",
            "_model_module_version": "1.5.0",
            "_model_name": "FloatTextModel",
            "_view_count": null,
            "_view_module": "@jupyter-widgets/controls",
            "_view_module_version": "1.5.0",
            "_view_name": "FloatTextView",
            "continuous_update": false,
            "description": "ac_lac_y",
            "description_tooltip": null,
            "disabled": false,
            "layout": "IPY_MODEL_cf94ca815a484dccad5ba5ca3db34a71",
            "step": null,
            "style": "IPY_MODEL_22f27b74067f4295859a8a1f5bf69373",
            "value": -1
          }
        },
        "81fd66f7676c42cfa4921ca37973ea2a": {
          "model_module": "@jupyter-widgets/base",
          "model_module_version": "1.2.0",
          "model_name": "LayoutModel",
          "state": {
            "_model_module": "@jupyter-widgets/base",
            "_model_module_version": "1.2.0",
            "_model_name": "LayoutModel",
            "_view_count": null,
            "_view_module": "@jupyter-widgets/base",
            "_view_module_version": "1.2.0",
            "_view_name": "LayoutView",
            "align_content": null,
            "align_items": null,
            "align_self": null,
            "border": null,
            "bottom": null,
            "display": null,
            "flex": null,
            "flex_flow": null,
            "grid_area": null,
            "grid_auto_columns": null,
            "grid_auto_flow": null,
            "grid_auto_rows": null,
            "grid_column": null,
            "grid_gap": null,
            "grid_row": null,
            "grid_template_areas": null,
            "grid_template_columns": null,
            "grid_template_rows": null,
            "height": null,
            "justify_content": null,
            "justify_items": null,
            "left": null,
            "margin": null,
            "max_height": null,
            "max_width": null,
            "min_height": null,
            "min_width": null,
            "object_fit": null,
            "object_position": null,
            "order": null,
            "overflow": null,
            "overflow_x": null,
            "overflow_y": null,
            "padding": null,
            "right": null,
            "top": null,
            "visibility": null,
            "width": "300px"
          }
        },
        "8400ecac276c43bab04782554dddcbf2": {
          "model_module": "@jupyter-widgets/controls",
          "model_module_version": "1.5.0",
          "model_name": "DescriptionStyleModel",
          "state": {
            "_model_module": "@jupyter-widgets/controls",
            "_model_module_version": "1.5.0",
            "_model_name": "DescriptionStyleModel",
            "_view_count": null,
            "_view_module": "@jupyter-widgets/base",
            "_view_module_version": "1.2.0",
            "_view_name": "StyleView",
            "description_width": "150px"
          }
        },
        "8451d012ee5044329c541e1ca6c5ed2f": {
          "model_module": "@jupyter-widgets/controls",
          "model_module_version": "1.5.0",
          "model_name": "VBoxModel",
          "state": {
            "_dom_classes": [],
            "_model_module": "@jupyter-widgets/controls",
            "_model_module_version": "1.5.0",
            "_model_name": "VBoxModel",
            "_view_count": null,
            "_view_module": "@jupyter-widgets/controls",
            "_view_module_version": "1.5.0",
            "_view_name": "VBoxView",
            "box_style": "",
            "children": [
              "IPY_MODEL_5e08ff018a9e4088b4b70893ece8f4ca",
              "IPY_MODEL_89f8800ec8164517aa9e3f61a4f9667b",
              "IPY_MODEL_b9983344489a4a5e8b6c7e5ddb3dd3e5",
              "IPY_MODEL_a7c9a78f38b84664b243b62f7c70eef1",
              "IPY_MODEL_85cfd12d67ba4f1ca61f86402d497772",
              "IPY_MODEL_c7792d5d356947e6a4dd6601f8439a32"
            ],
            "layout": "IPY_MODEL_d3aebae311f14e659af6fc105674feff"
          }
        },
        "85cbc96d49114afeb23931ce3bd66623": {
          "model_module": "@jupyter-widgets/controls",
          "model_module_version": "1.5.0",
          "model_name": "AccordionModel",
          "state": {
            "_dom_classes": [],
            "_model_module": "@jupyter-widgets/controls",
            "_model_module_version": "1.5.0",
            "_model_name": "AccordionModel",
            "_titles": {
              "0": "Initial States"
            },
            "_view_count": null,
            "_view_module": "@jupyter-widgets/controls",
            "_view_module_version": "1.5.0",
            "_view_name": "AccordionView",
            "box_style": "",
            "children": [
              "IPY_MODEL_e3ab619675f241f4bbad58d8757394ff"
            ],
            "layout": "IPY_MODEL_d8950e2c44c14004ab108d7a93ab8067",
            "selected_index": 0
          }
        },
        "85cfd12d67ba4f1ca61f86402d497772": {
          "model_module": "@jupyter-widgets/controls",
          "model_module_version": "1.5.0",
          "model_name": "FloatTextModel",
          "state": {
            "_dom_classes": [],
            "_model_module": "@jupyter-widgets/controls",
            "_model_module_version": "1.5.0",
            "_model_name": "FloatTextModel",
            "_view_count": null,
            "_view_module": "@jupyter-widgets/controls",
            "_view_module_version": "1.5.0",
            "_view_name": "FloatTextView",
            "continuous_update": false,
            "description": "sf_lac_y",
            "description_tooltip": null,
            "disabled": false,
            "layout": "IPY_MODEL_ad4f97b1b1ab436ea71725f5daf7078b",
            "step": null,
            "style": "IPY_MODEL_a8f1554b5c0b403ab66a6a25bcc12b20",
            "value": -1
          }
        },
        "888f9de854994847b0e0804afc697495": {
          "model_module": "@jupyter-widgets/base",
          "model_module_version": "1.2.0",
          "model_name": "LayoutModel",
          "state": {
            "_model_module": "@jupyter-widgets/base",
            "_model_module_version": "1.2.0",
            "_model_name": "LayoutModel",
            "_view_count": null,
            "_view_module": "@jupyter-widgets/base",
            "_view_module_version": "1.2.0",
            "_view_name": "LayoutView",
            "align_content": null,
            "align_items": null,
            "align_self": null,
            "border": null,
            "bottom": null,
            "display": null,
            "flex": null,
            "flex_flow": null,
            "grid_area": null,
            "grid_auto_columns": null,
            "grid_auto_flow": null,
            "grid_auto_rows": null,
            "grid_column": null,
            "grid_gap": null,
            "grid_row": null,
            "grid_template_areas": null,
            "grid_template_columns": null,
            "grid_template_rows": null,
            "height": null,
            "justify_content": null,
            "justify_items": null,
            "left": null,
            "margin": null,
            "max_height": null,
            "max_width": null,
            "min_height": null,
            "min_width": null,
            "object_fit": null,
            "object_position": null,
            "order": null,
            "overflow": null,
            "overflow_x": null,
            "overflow_y": null,
            "padding": null,
            "right": null,
            "top": null,
            "visibility": null,
            "width": "300px"
          }
        },
        "89f8800ec8164517aa9e3f61a4f9667b": {
          "model_module": "@jupyter-widgets/controls",
          "model_module_version": "1.5.0",
          "model_name": "FloatTextModel",
          "state": {
            "_dom_classes": [],
            "_model_module": "@jupyter-widgets/controls",
            "_model_module_version": "1.5.0",
            "_model_name": "FloatTextModel",
            "_view_count": null,
            "_view_module": "@jupyter-widgets/controls",
            "_view_module_version": "1.5.0",
            "_view_name": "FloatTextView",
            "continuous_update": false,
            "description": "sf_for_y",
            "description_tooltip": null,
            "disabled": false,
            "layout": "IPY_MODEL_1912369172a9424b99a9ce2e49eb2226",
            "step": null,
            "style": "IPY_MODEL_e65891bed5c342648e75b833fbf25dad",
            "value": -1
          }
        },
        "8ac1373622bb4715b4f8c6395bca4d18": {
          "model_module": "@jupyter-widgets/base",
          "model_module_version": "1.2.0",
          "model_name": "LayoutModel",
          "state": {
            "_model_module": "@jupyter-widgets/base",
            "_model_module_version": "1.2.0",
            "_model_name": "LayoutModel",
            "_view_count": null,
            "_view_module": "@jupyter-widgets/base",
            "_view_module_version": "1.2.0",
            "_view_name": "LayoutView",
            "align_content": null,
            "align_items": null,
            "align_self": null,
            "border": null,
            "bottom": null,
            "display": null,
            "flex": null,
            "flex_flow": null,
            "grid_area": null,
            "grid_auto_columns": null,
            "grid_auto_flow": null,
            "grid_auto_rows": null,
            "grid_column": null,
            "grid_gap": null,
            "grid_row": null,
            "grid_template_areas": null,
            "grid_template_columns": null,
            "grid_template_rows": null,
            "height": null,
            "justify_content": null,
            "justify_items": null,
            "left": null,
            "margin": null,
            "max_height": null,
            "max_width": null,
            "min_height": null,
            "min_width": null,
            "object_fit": null,
            "object_position": null,
            "order": null,
            "overflow": null,
            "overflow_x": null,
            "overflow_y": null,
            "padding": null,
            "right": null,
            "top": null,
            "visibility": null,
            "width": "300px"
          }
        },
        "8c53f7ed7378438ea28ee49d595c0f07": {
          "model_module": "@jupyter-widgets/controls",
          "model_module_version": "1.5.0",
          "model_name": "FloatTextModel",
          "state": {
            "_dom_classes": [],
            "_model_module": "@jupyter-widgets/controls",
            "_model_module_version": "1.5.0",
            "_model_name": "FloatTextModel",
            "_view_count": null,
            "_view_module": "@jupyter-widgets/controls",
            "_view_module_version": "1.5.0",
            "_view_name": "FloatTextView",
            "continuous_update": false,
            "description": "glc_S0",
            "description_tooltip": null,
            "disabled": false,
            "layout": "IPY_MODEL_a48d36029da74dac88596db5199ad9f5",
            "step": null,
            "style": "IPY_MODEL_cdad86f750f642bdb33c396d5c317c95",
            "value": 10
          }
        },
        "8e181079124044e5bba8d28bf1618bc8": {
          "model_module": "@jupyter-widgets/controls",
          "model_module_version": "1.5.0",
          "model_name": "DescriptionStyleModel",
          "state": {
            "_model_module": "@jupyter-widgets/controls",
            "_model_module_version": "1.5.0",
            "_model_name": "DescriptionStyleModel",
            "_view_count": null,
            "_view_module": "@jupyter-widgets/base",
            "_view_module_version": "1.2.0",
            "_view_name": "StyleView",
            "description_width": "150px"
          }
        },
        "910cf33f1d764eb6b9ded0743f752176": {
          "model_module": "@jupyter-widgets/controls",
          "model_module_version": "1.5.0",
          "model_name": "FloatTextModel",
          "state": {
            "_dom_classes": [],
            "_model_module": "@jupyter-widgets/controls",
            "_model_module_version": "1.5.0",
            "_model_name": "FloatTextModel",
            "_view_count": null,
            "_view_module": "@jupyter-widgets/controls",
            "_view_module_version": "1.5.0",
            "_view_name": "FloatTextView",
            "continuous_update": false,
            "description": "bp_acetate_c_k",
            "description_tooltip": null,
            "disabled": false,
            "layout": "IPY_MODEL_a23960b05f624fe4a846d3ef577770f7",
            "step": null,
            "style": "IPY_MODEL_da939093328d48ae96ae5ef78ee94d33",
            "value": 1
          }
        },
        "92327adbefde4c1d9cba939dc3fc2443": {
          "model_module": "@jupyter-widgets/base",
          "model_module_version": "1.2.0",
          "model_name": "LayoutModel",
          "state": {
            "_model_module": "@jupyter-widgets/base",
            "_model_module_version": "1.2.0",
            "_model_name": "LayoutModel",
            "_view_count": null,
            "_view_module": "@jupyter-widgets/base",
            "_view_module_version": "1.2.0",
            "_view_name": "LayoutView",
            "align_content": null,
            "align_items": null,
            "align_self": null,
            "border": null,
            "bottom": null,
            "display": null,
            "flex": null,
            "flex_flow": null,
            "grid_area": null,
            "grid_auto_columns": null,
            "grid_auto_flow": null,
            "grid_auto_rows": null,
            "grid_column": null,
            "grid_gap": null,
            "grid_row": null,
            "grid_template_areas": null,
            "grid_template_columns": null,
            "grid_template_rows": null,
            "height": null,
            "justify_content": null,
            "justify_items": null,
            "left": null,
            "margin": null,
            "max_height": null,
            "max_width": null,
            "min_height": null,
            "min_width": null,
            "object_fit": null,
            "object_position": null,
            "order": null,
            "overflow": null,
            "overflow_x": null,
            "overflow_y": null,
            "padding": null,
            "right": null,
            "top": null,
            "visibility": null,
            "width": "300px"
          }
        },
        "946d3329d26147b8a0460f1cd133e5b0": {
          "model_module": "@jupyter-widgets/controls",
          "model_module_version": "1.5.0",
          "model_name": "DescriptionStyleModel",
          "state": {
            "_model_module": "@jupyter-widgets/controls",
            "_model_module_version": "1.5.0",
            "_model_name": "DescriptionStyleModel",
            "_view_count": null,
            "_view_module": "@jupyter-widgets/base",
            "_view_module_version": "1.2.0",
            "_view_name": "StyleView",
            "description_width": "150px"
          }
        },
        "95f3187650d6435eb3d7779f31be9443": {
          "model_module": "@jupyter-widgets/controls",
          "model_module_version": "1.5.0",
          "model_name": "DescriptionStyleModel",
          "state": {
            "_model_module": "@jupyter-widgets/controls",
            "_model_module_version": "1.5.0",
            "_model_name": "DescriptionStyleModel",
            "_view_count": null,
            "_view_module": "@jupyter-widgets/base",
            "_view_module_version": "1.2.0",
            "_view_name": "StyleView",
            "description_width": "150px"
          }
        },
        "96879600ec304dfe9d6b819484126772": {
          "model_module": "@jupyter-widgets/controls",
          "model_module_version": "1.5.0",
          "model_name": "FloatTextModel",
          "state": {
            "_dom_classes": [],
            "_model_module": "@jupyter-widgets/controls",
            "_model_module_version": "1.5.0",
            "_model_name": "FloatTextModel",
            "_view_count": null,
            "_view_module": "@jupyter-widgets/controls",
            "_view_module_version": "1.5.0",
            "_view_name": "FloatTextView",
            "continuous_update": false,
            "description": "ac_X0",
            "description_tooltip": null,
            "disabled": false,
            "layout": "IPY_MODEL_2043f3771d3545cd8ac687f83ef76ef7",
            "step": null,
            "style": "IPY_MODEL_29fafeff759548979e70ebb6984acf29",
            "value": 0.1
          }
        },
        "990473cb87ef4891bd369b1132e17d3a": {
          "model_module": "@jupyter-widgets/controls",
          "model_module_version": "1.5.0",
          "model_name": "FloatTextModel",
          "state": {
            "_dom_classes": [],
            "_model_module": "@jupyter-widgets/controls",
            "_model_module_version": "1.5.0",
            "_model_name": "FloatTextModel",
            "_view_count": null,
            "_view_module": "@jupyter-widgets/controls",
            "_view_module_version": "1.5.0",
            "_view_name": "FloatTextView",
            "continuous_update": false,
            "description": "co2_S0",
            "description_tooltip": null,
            "disabled": false,
            "layout": "IPY_MODEL_92327adbefde4c1d9cba939dc3fc2443",
            "step": null,
            "style": "IPY_MODEL_c7687e7cdafe438ca274cbc315f180ab",
            "value": 0
          }
        },
        "9a076b5520ef4f50b679ba970f65f5f6": {
          "model_module": "@jupyter-widgets/base",
          "model_module_version": "1.2.0",
          "model_name": "LayoutModel",
          "state": {
            "_model_module": "@jupyter-widgets/base",
            "_model_module_version": "1.2.0",
            "_model_name": "LayoutModel",
            "_view_count": null,
            "_view_module": "@jupyter-widgets/base",
            "_view_module_version": "1.2.0",
            "_view_name": "LayoutView",
            "align_content": null,
            "align_items": null,
            "align_self": null,
            "border": null,
            "bottom": null,
            "display": null,
            "flex": null,
            "flex_flow": null,
            "grid_area": null,
            "grid_auto_columns": null,
            "grid_auto_flow": null,
            "grid_auto_rows": null,
            "grid_column": null,
            "grid_gap": null,
            "grid_row": null,
            "grid_template_areas": null,
            "grid_template_columns": null,
            "grid_template_rows": null,
            "height": null,
            "justify_content": null,
            "justify_items": null,
            "left": null,
            "margin": null,
            "max_height": null,
            "max_width": null,
            "min_height": null,
            "min_width": null,
            "object_fit": null,
            "object_position": null,
            "order": null,
            "overflow": null,
            "overflow_x": null,
            "overflow_y": null,
            "padding": null,
            "right": null,
            "top": null,
            "visibility": null,
            "width": "300px"
          }
        },
        "9bcc349236ac46538568a32aacf03510": {
          "model_module": "@jupyter-widgets/base",
          "model_module_version": "1.2.0",
          "model_name": "LayoutModel",
          "state": {
            "_model_module": "@jupyter-widgets/base",
            "_model_module_version": "1.2.0",
            "_model_name": "LayoutModel",
            "_view_count": null,
            "_view_module": "@jupyter-widgets/base",
            "_view_module_version": "1.2.0",
            "_view_name": "LayoutView",
            "align_content": null,
            "align_items": null,
            "align_self": null,
            "border": null,
            "bottom": null,
            "display": null,
            "flex": null,
            "flex_flow": null,
            "grid_area": null,
            "grid_auto_columns": null,
            "grid_auto_flow": null,
            "grid_auto_rows": null,
            "grid_column": null,
            "grid_gap": null,
            "grid_row": null,
            "grid_template_areas": null,
            "grid_template_columns": null,
            "grid_template_rows": null,
            "height": null,
            "justify_content": null,
            "justify_items": null,
            "left": null,
            "margin": null,
            "max_height": null,
            "max_width": null,
            "min_height": null,
            "min_width": null,
            "object_fit": null,
            "object_position": null,
            "order": null,
            "overflow": null,
            "overflow_x": null,
            "overflow_y": null,
            "padding": null,
            "right": null,
            "top": null,
            "visibility": null,
            "width": "300px"
          }
        },
        "9cabf71353b84dcaada8830b5bf34295": {
          "model_module": "@jupyter-widgets/controls",
          "model_module_version": "1.5.0",
          "model_name": "AccordionModel",
          "state": {
            "_dom_classes": [],
            "_model_module": "@jupyter-widgets/controls",
            "_model_module_version": "1.5.0",
            "_model_name": "AccordionModel",
            "_titles": {
              "0": "ac",
              "1": "sf",
              "2": "bp",
              "3": "flow"
            },
            "_view_count": null,
            "_view_module": "@jupyter-widgets/controls",
            "_view_module_version": "1.5.0",
            "_view_name": "AccordionView",
            "box_style": "",
            "children": [
              "IPY_MODEL_b361fa2389e2477095e32e0b1d30f3e1",
              "IPY_MODEL_8451d012ee5044329c541e1ca6c5ed2f",
              "IPY_MODEL_cd7857f530f94ceab68a4e8e3124421e",
              "IPY_MODEL_2efc22450e984dd597cce3f4911ddaa7"
            ],
            "layout": "IPY_MODEL_333424060cee4af894652e213d472be2",
            "selected_index": 0
          }
        },
        "9ebe56645eef4d9892cd2ec475141c4d": {
          "model_module": "@jupyter-widgets/base",
          "model_module_version": "1.2.0",
          "model_name": "LayoutModel",
          "state": {
            "_model_module": "@jupyter-widgets/base",
            "_model_module_version": "1.2.0",
            "_model_name": "LayoutModel",
            "_view_count": null,
            "_view_module": "@jupyter-widgets/base",
            "_view_module_version": "1.2.0",
            "_view_name": "LayoutView",
            "align_content": null,
            "align_items": null,
            "align_self": null,
            "border": null,
            "bottom": null,
            "display": null,
            "flex": null,
            "flex_flow": null,
            "grid_area": null,
            "grid_auto_columns": null,
            "grid_auto_flow": null,
            "grid_auto_rows": null,
            "grid_column": null,
            "grid_gap": null,
            "grid_row": null,
            "grid_template_areas": null,
            "grid_template_columns": null,
            "grid_template_rows": null,
            "height": null,
            "justify_content": null,
            "justify_items": null,
            "left": null,
            "margin": null,
            "max_height": null,
            "max_width": null,
            "min_height": null,
            "min_width": null,
            "object_fit": null,
            "object_position": null,
            "order": null,
            "overflow": null,
            "overflow_x": null,
            "overflow_y": null,
            "padding": null,
            "right": null,
            "top": null,
            "visibility": null,
            "width": "300px"
          }
        },
        "9ebfdaa154464b5c82718d093e925e75": {
          "model_module": "@jupyter-widgets/controls",
          "model_module_version": "1.5.0",
          "model_name": "FloatTextModel",
          "state": {
            "_dom_classes": [],
            "_model_module": "@jupyter-widgets/controls",
            "_model_module_version": "1.5.0",
            "_model_name": "FloatTextModel",
            "_view_count": null,
            "_view_module": "@jupyter-widgets/controls",
            "_view_module_version": "1.5.0",
            "_view_name": "FloatTextView",
            "continuous_update": false,
            "description": "H2_S0",
            "description_tooltip": null,
            "disabled": false,
            "layout": "IPY_MODEL_ec56592031884c3cb38ee83c4d15a718",
            "step": null,
            "style": "IPY_MODEL_a3ae8be40ef74711b05e258a7be96f73",
            "value": 0
          }
        },
        "a23960b05f624fe4a846d3ef577770f7": {
          "model_module": "@jupyter-widgets/base",
          "model_module_version": "1.2.0",
          "model_name": "LayoutModel",
          "state": {
            "_model_module": "@jupyter-widgets/base",
            "_model_module_version": "1.2.0",
            "_model_name": "LayoutModel",
            "_view_count": null,
            "_view_module": "@jupyter-widgets/base",
            "_view_module_version": "1.2.0",
            "_view_name": "LayoutView",
            "align_content": null,
            "align_items": null,
            "align_self": null,
            "border": null,
            "bottom": null,
            "display": null,
            "flex": null,
            "flex_flow": null,
            "grid_area": null,
            "grid_auto_columns": null,
            "grid_auto_flow": null,
            "grid_auto_rows": null,
            "grid_column": null,
            "grid_gap": null,
            "grid_row": null,
            "grid_template_areas": null,
            "grid_template_columns": null,
            "grid_template_rows": null,
            "height": null,
            "justify_content": null,
            "justify_items": null,
            "left": null,
            "margin": null,
            "max_height": null,
            "max_width": null,
            "min_height": null,
            "min_width": null,
            "object_fit": null,
            "object_position": null,
            "order": null,
            "overflow": null,
            "overflow_x": null,
            "overflow_y": null,
            "padding": null,
            "right": null,
            "top": null,
            "visibility": null,
            "width": "300px"
          }
        },
        "a3ae8be40ef74711b05e258a7be96f73": {
          "model_module": "@jupyter-widgets/controls",
          "model_module_version": "1.5.0",
          "model_name": "DescriptionStyleModel",
          "state": {
            "_model_module": "@jupyter-widgets/controls",
            "_model_module_version": "1.5.0",
            "_model_name": "DescriptionStyleModel",
            "_view_count": null,
            "_view_module": "@jupyter-widgets/base",
            "_view_module_version": "1.2.0",
            "_view_name": "StyleView",
            "description_width": "150px"
          }
        },
        "a48d36029da74dac88596db5199ad9f5": {
          "model_module": "@jupyter-widgets/base",
          "model_module_version": "1.2.0",
          "model_name": "LayoutModel",
          "state": {
            "_model_module": "@jupyter-widgets/base",
            "_model_module_version": "1.2.0",
            "_model_name": "LayoutModel",
            "_view_count": null,
            "_view_module": "@jupyter-widgets/base",
            "_view_module_version": "1.2.0",
            "_view_name": "LayoutView",
            "align_content": null,
            "align_items": null,
            "align_self": null,
            "border": null,
            "bottom": null,
            "display": null,
            "flex": null,
            "flex_flow": null,
            "grid_area": null,
            "grid_auto_columns": null,
            "grid_auto_flow": null,
            "grid_auto_rows": null,
            "grid_column": null,
            "grid_gap": null,
            "grid_row": null,
            "grid_template_areas": null,
            "grid_template_columns": null,
            "grid_template_rows": null,
            "height": null,
            "justify_content": null,
            "justify_items": null,
            "left": null,
            "margin": null,
            "max_height": null,
            "max_width": null,
            "min_height": null,
            "min_width": null,
            "object_fit": null,
            "object_position": null,
            "order": null,
            "overflow": null,
            "overflow_x": null,
            "overflow_y": null,
            "padding": null,
            "right": null,
            "top": null,
            "visibility": null,
            "width": "300px"
          }
        },
        "a7c9a78f38b84664b243b62f7c70eef1": {
          "model_module": "@jupyter-widgets/controls",
          "model_module_version": "1.5.0",
          "model_name": "FloatTextModel",
          "state": {
            "_dom_classes": [],
            "_model_module": "@jupyter-widgets/controls",
            "_model_module_version": "1.5.0",
            "_model_name": "FloatTextModel",
            "_view_count": null,
            "_view_module": "@jupyter-widgets/controls",
            "_view_module_version": "1.5.0",
            "_view_name": "FloatTextView",
            "continuous_update": false,
            "description": "sf_glucose_y",
            "description_tooltip": null,
            "disabled": false,
            "layout": "IPY_MODEL_520b8a493b9345bfbef9ff7b251280b3",
            "step": null,
            "style": "IPY_MODEL_d43a5a884a654c1eb36be947d9ce7fa8",
            "value": 1
          }
        },
        "a8f1554b5c0b403ab66a6a25bcc12b20": {
          "model_module": "@jupyter-widgets/controls",
          "model_module_version": "1.5.0",
          "model_name": "DescriptionStyleModel",
          "state": {
            "_model_module": "@jupyter-widgets/controls",
            "_model_module_version": "1.5.0",
            "_model_name": "DescriptionStyleModel",
            "_view_count": null,
            "_view_module": "@jupyter-widgets/base",
            "_view_module_version": "1.2.0",
            "_view_name": "StyleView",
            "description_width": "150px"
          }
        },
        "a92a0ffb41304155a2fd9b7c719d0ea7": {
          "model_module": "@jupyter-widgets/base",
          "model_module_version": "1.2.0",
          "model_name": "LayoutModel",
          "state": {
            "_model_module": "@jupyter-widgets/base",
            "_model_module_version": "1.2.0",
            "_model_name": "LayoutModel",
            "_view_count": null,
            "_view_module": "@jupyter-widgets/base",
            "_view_module_version": "1.2.0",
            "_view_name": "LayoutView",
            "align_content": null,
            "align_items": null,
            "align_self": null,
            "border": null,
            "bottom": null,
            "display": null,
            "flex": null,
            "flex_flow": null,
            "grid_area": null,
            "grid_auto_columns": null,
            "grid_auto_flow": null,
            "grid_auto_rows": null,
            "grid_column": null,
            "grid_gap": null,
            "grid_row": null,
            "grid_template_areas": null,
            "grid_template_columns": null,
            "grid_template_rows": null,
            "height": null,
            "justify_content": null,
            "justify_items": null,
            "left": null,
            "margin": null,
            "max_height": null,
            "max_width": null,
            "min_height": null,
            "min_width": null,
            "object_fit": null,
            "object_position": null,
            "order": null,
            "overflow": null,
            "overflow_x": null,
            "overflow_y": null,
            "padding": null,
            "right": null,
            "top": null,
            "visibility": null,
            "width": "300px"
          }
        },
        "ad4f97b1b1ab436ea71725f5daf7078b": {
          "model_module": "@jupyter-widgets/base",
          "model_module_version": "1.2.0",
          "model_name": "LayoutModel",
          "state": {
            "_model_module": "@jupyter-widgets/base",
            "_model_module_version": "1.2.0",
            "_model_name": "LayoutModel",
            "_view_count": null,
            "_view_module": "@jupyter-widgets/base",
            "_view_module_version": "1.2.0",
            "_view_name": "LayoutView",
            "align_content": null,
            "align_items": null,
            "align_self": null,
            "border": null,
            "bottom": null,
            "display": null,
            "flex": null,
            "flex_flow": null,
            "grid_area": null,
            "grid_auto_columns": null,
            "grid_auto_flow": null,
            "grid_auto_rows": null,
            "grid_column": null,
            "grid_gap": null,
            "grid_row": null,
            "grid_template_areas": null,
            "grid_template_columns": null,
            "grid_template_rows": null,
            "height": null,
            "justify_content": null,
            "justify_items": null,
            "left": null,
            "margin": null,
            "max_height": null,
            "max_width": null,
            "min_height": null,
            "min_width": null,
            "object_fit": null,
            "object_position": null,
            "order": null,
            "overflow": null,
            "overflow_x": null,
            "overflow_y": null,
            "padding": null,
            "right": null,
            "top": null,
            "visibility": null,
            "width": "300px"
          }
        },
        "aef570642f9b4e4287aeccfaae3d471f": {
          "model_module": "@jupyter-widgets/controls",
          "model_module_version": "1.5.0",
          "model_name": "DescriptionStyleModel",
          "state": {
            "_model_module": "@jupyter-widgets/controls",
            "_model_module_version": "1.5.0",
            "_model_name": "DescriptionStyleModel",
            "_view_count": null,
            "_view_module": "@jupyter-widgets/base",
            "_view_module_version": "1.2.0",
            "_view_name": "StyleView",
            "description_width": "150px"
          }
        },
        "afdf6bf0af254077964e2da1ee87dc7d": {
          "model_module": "@jupyter-widgets/controls",
          "model_module_version": "1.5.0",
          "model_name": "FloatTextModel",
          "state": {
            "_dom_classes": [],
            "_model_module": "@jupyter-widgets/controls",
            "_model_module_version": "1.5.0",
            "_model_name": "FloatTextModel",
            "_view_count": null,
            "_view_module": "@jupyter-widgets/controls",
            "_view_module_version": "1.5.0",
            "_view_name": "FloatTextView",
            "continuous_update": false,
            "description": "bp_butyrate_y",
            "description_tooltip": null,
            "disabled": false,
            "layout": "IPY_MODEL_8ac1373622bb4715b4f8c6395bca4d18",
            "step": null,
            "style": "IPY_MODEL_152212a4cee54ce7b33a71950d05252f",
            "value": -1
          }
        },
        "b361fa2389e2477095e32e0b1d30f3e1": {
          "model_module": "@jupyter-widgets/controls",
          "model_module_version": "1.5.0",
          "model_name": "VBoxModel",
          "state": {
            "_dom_classes": [],
            "_model_module": "@jupyter-widgets/controls",
            "_model_module_version": "1.5.0",
            "_model_name": "VBoxModel",
            "_view_count": null,
            "_view_module": "@jupyter-widgets/controls",
            "_view_module_version": "1.5.0",
            "_view_name": "VBoxView",
            "box_style": "",
            "children": [
              "IPY_MODEL_31f3e82faf0d411ab1b7f981ab5917dc",
              "IPY_MODEL_10ec4ab760134cdebbad91946d1a009e",
              "IPY_MODEL_1d18d3cc24af4059a7d4552c7ce96046",
              "IPY_MODEL_d40dc5285f684ea7968ae3262784b038",
              "IPY_MODEL_3dab3d0423ff430b956d43883f9344d4",
              "IPY_MODEL_619fec4d75e249038c674121c7c65067",
              "IPY_MODEL_81ba0ccf24ad468f9a0e13f49cc9b87b",
              "IPY_MODEL_05fa0f62a2ea4be1babbff129c643542",
              "IPY_MODEL_4f0854a144e14c7ea09ea9099a0afe94",
              "IPY_MODEL_81c849b671e54c75931e29c54ae6b9e0"
            ],
            "layout": "IPY_MODEL_33d4eb934d0c4653881e3852f43eb607"
          }
        },
        "b79fe56e527342f79d7f5cd2287e8420": {
          "model_module": "@jupyter-widgets/controls",
          "model_module_version": "1.5.0",
          "model_name": "DescriptionStyleModel",
          "state": {
            "_model_module": "@jupyter-widgets/controls",
            "_model_module_version": "1.5.0",
            "_model_name": "DescriptionStyleModel",
            "_view_count": null,
            "_view_module": "@jupyter-widgets/base",
            "_view_module_version": "1.2.0",
            "_view_name": "StyleView",
            "description_width": "150px"
          }
        },
        "b9983344489a4a5e8b6c7e5ddb3dd3e5": {
          "model_module": "@jupyter-widgets/controls",
          "model_module_version": "1.5.0",
          "model_name": "FloatTextModel",
          "state": {
            "_dom_classes": [],
            "_model_module": "@jupyter-widgets/controls",
            "_model_module_version": "1.5.0",
            "_model_name": "FloatTextModel",
            "_view_count": null,
            "_view_module": "@jupyter-widgets/controls",
            "_view_module_version": "1.5.0",
            "_view_name": "FloatTextView",
            "continuous_update": false,
            "description": "sf_glucose_k",
            "description_tooltip": null,
            "disabled": false,
            "layout": "IPY_MODEL_ca357d079e944a06877a81a2411dac8e",
            "step": null,
            "style": "IPY_MODEL_4d4e4a3d121645db9ddb82cb1ba1d3a0",
            "value": 1
          }
        },
        "bc60384dd5d248cea04b1fd75b65996b": {
          "model_module": "@jupyter-widgets/controls",
          "model_module_version": "1.5.0",
          "model_name": "FloatTextModel",
          "state": {
            "_dom_classes": [],
            "_model_module": "@jupyter-widgets/controls",
            "_model_module_version": "1.5.0",
            "_model_name": "FloatTextModel",
            "_view_count": null,
            "_view_module": "@jupyter-widgets/controls",
            "_view_module_version": "1.5.0",
            "_view_name": "FloatTextView",
            "continuous_update": false,
            "description": "bp_glucose_k",
            "description_tooltip": null,
            "disabled": false,
            "layout": "IPY_MODEL_edaff09b99ce493dae505e853d8d8ac3",
            "step": null,
            "style": "IPY_MODEL_f1836990d9934a6e9b931c0696f4b85e",
            "value": 1
          }
        },
        "bcf4cf2f89674863893e7537d67898d5": {
          "model_module": "@jupyter-widgets/controls",
          "model_module_version": "1.5.0",
          "model_name": "FloatTextModel",
          "state": {
            "_dom_classes": [],
            "_model_module": "@jupyter-widgets/controls",
            "_model_module_version": "1.5.0",
            "_model_name": "FloatTextModel",
            "_view_count": null,
            "_view_module": "@jupyter-widgets/controls",
            "_view_module_version": "1.5.0",
            "_view_name": "FloatTextView",
            "continuous_update": false,
            "description": "flow_rate",
            "description_tooltip": null,
            "disabled": false,
            "layout": "IPY_MODEL_5a3e40d8410942d8bc9f6654ddb21c11",
            "step": null,
            "style": "IPY_MODEL_95f3187650d6435eb3d7779f31be9443",
            "value": 0.1
          }
        },
        "be697e24e52646c0887be3b46c9159e3": {
          "model_module": "@jupyter-widgets/controls",
          "model_module_version": "1.5.0",
          "model_name": "DescriptionStyleModel",
          "state": {
            "_model_module": "@jupyter-widgets/controls",
            "_model_module_version": "1.5.0",
            "_model_name": "DescriptionStyleModel",
            "_view_count": null,
            "_view_module": "@jupyter-widgets/base",
            "_view_module_version": "1.2.0",
            "_view_name": "StyleView",
            "description_width": "150px"
          }
        },
        "bed2ff6996ea451c922bc43373b4ff3a": {
          "model_module": "@jupyter-widgets/base",
          "model_module_version": "1.2.0",
          "model_name": "LayoutModel",
          "state": {
            "_model_module": "@jupyter-widgets/base",
            "_model_module_version": "1.2.0",
            "_model_name": "LayoutModel",
            "_view_count": null,
            "_view_module": "@jupyter-widgets/base",
            "_view_module_version": "1.2.0",
            "_view_name": "LayoutView",
            "align_content": null,
            "align_items": null,
            "align_self": null,
            "border": null,
            "bottom": null,
            "display": null,
            "flex": null,
            "flex_flow": null,
            "grid_area": null,
            "grid_auto_columns": null,
            "grid_auto_flow": null,
            "grid_auto_rows": null,
            "grid_column": null,
            "grid_gap": null,
            "grid_row": null,
            "grid_template_areas": null,
            "grid_template_columns": null,
            "grid_template_rows": null,
            "height": null,
            "justify_content": null,
            "justify_items": null,
            "left": null,
            "margin": null,
            "max_height": null,
            "max_width": null,
            "min_height": null,
            "min_width": null,
            "object_fit": null,
            "object_position": null,
            "order": null,
            "overflow": null,
            "overflow_x": null,
            "overflow_y": null,
            "padding": null,
            "right": null,
            "top": null,
            "visibility": null,
            "width": "300px"
          }
        },
        "c7687e7cdafe438ca274cbc315f180ab": {
          "model_module": "@jupyter-widgets/controls",
          "model_module_version": "1.5.0",
          "model_name": "DescriptionStyleModel",
          "state": {
            "_model_module": "@jupyter-widgets/controls",
            "_model_module_version": "1.5.0",
            "_model_name": "DescriptionStyleModel",
            "_view_count": null,
            "_view_module": "@jupyter-widgets/base",
            "_view_module_version": "1.2.0",
            "_view_name": "StyleView",
            "description_width": "150px"
          }
        },
        "c7792d5d356947e6a4dd6601f8439a32": {
          "model_module": "@jupyter-widgets/controls",
          "model_module_version": "1.5.0",
          "model_name": "FloatTextModel",
          "state": {
            "_dom_classes": [],
            "_model_module": "@jupyter-widgets/controls",
            "_model_module_version": "1.5.0",
            "_model_name": "FloatTextModel",
            "_view_count": null,
            "_view_module": "@jupyter-widgets/controls",
            "_view_module_version": "1.5.0",
            "_view_name": "FloatTextView",
            "continuous_update": false,
            "description": "sf_succ_y",
            "description_tooltip": null,
            "disabled": false,
            "layout": "IPY_MODEL_9a076b5520ef4f50b679ba970f65f5f6",
            "step": null,
            "style": "IPY_MODEL_946d3329d26147b8a0460f1cd133e5b0",
            "value": -1
          }
        },
        "ca357d079e944a06877a81a2411dac8e": {
          "model_module": "@jupyter-widgets/base",
          "model_module_version": "1.2.0",
          "model_name": "LayoutModel",
          "state": {
            "_model_module": "@jupyter-widgets/base",
            "_model_module_version": "1.2.0",
            "_model_name": "LayoutModel",
            "_view_count": null,
            "_view_module": "@jupyter-widgets/base",
            "_view_module_version": "1.2.0",
            "_view_name": "LayoutView",
            "align_content": null,
            "align_items": null,
            "align_self": null,
            "border": null,
            "bottom": null,
            "display": null,
            "flex": null,
            "flex_flow": null,
            "grid_area": null,
            "grid_auto_columns": null,
            "grid_auto_flow": null,
            "grid_auto_rows": null,
            "grid_column": null,
            "grid_gap": null,
            "grid_row": null,
            "grid_template_areas": null,
            "grid_template_columns": null,
            "grid_template_rows": null,
            "height": null,
            "justify_content": null,
            "justify_items": null,
            "left": null,
            "margin": null,
            "max_height": null,
            "max_width": null,
            "min_height": null,
            "min_width": null,
            "object_fit": null,
            "object_position": null,
            "order": null,
            "overflow": null,
            "overflow_x": null,
            "overflow_y": null,
            "padding": null,
            "right": null,
            "top": null,
            "visibility": null,
            "width": "300px"
          }
        },
        "cd7857f530f94ceab68a4e8e3124421e": {
          "model_module": "@jupyter-widgets/controls",
          "model_module_version": "1.5.0",
          "model_name": "VBoxModel",
          "state": {
            "_dom_classes": [],
            "_model_module": "@jupyter-widgets/controls",
            "_model_module_version": "1.5.0",
            "_model_name": "VBoxModel",
            "_view_count": null,
            "_view_module": "@jupyter-widgets/controls",
            "_view_module_version": "1.5.0",
            "_view_name": "VBoxView",
            "box_style": "",
            "children": [
              "IPY_MODEL_910cf33f1d764eb6b9ded0743f752176",
              "IPY_MODEL_6991538de6e9472485137e17c2ac0b02",
              "IPY_MODEL_2eefdf8a6eca4c878e2874333481dc07",
              "IPY_MODEL_afdf6bf0af254077964e2da1ee87dc7d",
              "IPY_MODEL_f274d95cfe6a4f26a7ddfa72e26db8aa",
              "IPY_MODEL_bc60384dd5d248cea04b1fd75b65996b",
              "IPY_MODEL_6509fdf3a5f7491ea04fd3d23a874044",
              "IPY_MODEL_e04b510889814ffc8f7aee6d177585fd",
              "IPY_MODEL_41149ba7ab4741489acc998b00dfe018",
              "IPY_MODEL_084a257b404642fc85e682b265d2854d",
              "IPY_MODEL_da06d7af301a43249d45413ea33a3ff7"
            ],
            "layout": "IPY_MODEL_e0cd6e33123a420d821c5735f54503c9"
          }
        },
        "cdad86f750f642bdb33c396d5c317c95": {
          "model_module": "@jupyter-widgets/controls",
          "model_module_version": "1.5.0",
          "model_name": "DescriptionStyleModel",
          "state": {
            "_model_module": "@jupyter-widgets/controls",
            "_model_module_version": "1.5.0",
            "_model_name": "DescriptionStyleModel",
            "_view_count": null,
            "_view_module": "@jupyter-widgets/base",
            "_view_module_version": "1.2.0",
            "_view_name": "StyleView",
            "description_width": "150px"
          }
        },
        "cf94ca815a484dccad5ba5ca3db34a71": {
          "model_module": "@jupyter-widgets/base",
          "model_module_version": "1.2.0",
          "model_name": "LayoutModel",
          "state": {
            "_model_module": "@jupyter-widgets/base",
            "_model_module_version": "1.2.0",
            "_model_name": "LayoutModel",
            "_view_count": null,
            "_view_module": "@jupyter-widgets/base",
            "_view_module_version": "1.2.0",
            "_view_name": "LayoutView",
            "align_content": null,
            "align_items": null,
            "align_self": null,
            "border": null,
            "bottom": null,
            "display": null,
            "flex": null,
            "flex_flow": null,
            "grid_area": null,
            "grid_auto_columns": null,
            "grid_auto_flow": null,
            "grid_auto_rows": null,
            "grid_column": null,
            "grid_gap": null,
            "grid_row": null,
            "grid_template_areas": null,
            "grid_template_columns": null,
            "grid_template_rows": null,
            "height": null,
            "justify_content": null,
            "justify_items": null,
            "left": null,
            "margin": null,
            "max_height": null,
            "max_width": null,
            "min_height": null,
            "min_width": null,
            "object_fit": null,
            "object_position": null,
            "order": null,
            "overflow": null,
            "overflow_x": null,
            "overflow_y": null,
            "padding": null,
            "right": null,
            "top": null,
            "visibility": null,
            "width": "300px"
          }
        },
        "d02fc2863c6d4acaad3a78afd437011c": {
          "model_module": "@jupyter-widgets/controls",
          "model_module_version": "1.5.0",
          "model_name": "FloatTextModel",
          "state": {
            "_dom_classes": [],
            "_model_module": "@jupyter-widgets/controls",
            "_model_module_version": "1.5.0",
            "_model_name": "FloatTextModel",
            "_view_count": null,
            "_view_module": "@jupyter-widgets/controls",
            "_view_module_version": "1.5.0",
            "_view_name": "FloatTextView",
            "continuous_update": false,
            "description": "but_S0",
            "description_tooltip": null,
            "disabled": false,
            "layout": "IPY_MODEL_4ef03eff6d6d4884ba575634e27026e2",
            "step": null,
            "style": "IPY_MODEL_fcb0e72fe0df4c45b2389fd903ef67b3",
            "value": 0
          }
        },
        "d3aebae311f14e659af6fc105674feff": {
          "model_module": "@jupyter-widgets/base",
          "model_module_version": "1.2.0",
          "model_name": "LayoutModel",
          "state": {
            "_model_module": "@jupyter-widgets/base",
            "_model_module_version": "1.2.0",
            "_model_name": "LayoutModel",
            "_view_count": null,
            "_view_module": "@jupyter-widgets/base",
            "_view_module_version": "1.2.0",
            "_view_name": "LayoutView",
            "align_content": null,
            "align_items": null,
            "align_self": null,
            "border": null,
            "bottom": null,
            "display": null,
            "flex": null,
            "flex_flow": null,
            "grid_area": null,
            "grid_auto_columns": null,
            "grid_auto_flow": null,
            "grid_auto_rows": null,
            "grid_column": null,
            "grid_gap": null,
            "grid_row": null,
            "grid_template_areas": null,
            "grid_template_columns": null,
            "grid_template_rows": null,
            "height": null,
            "justify_content": null,
            "justify_items": null,
            "left": null,
            "margin": null,
            "max_height": null,
            "max_width": null,
            "min_height": null,
            "min_width": null,
            "object_fit": null,
            "object_position": null,
            "order": null,
            "overflow": null,
            "overflow_x": null,
            "overflow_y": null,
            "padding": null,
            "right": null,
            "top": null,
            "visibility": null,
            "width": null
          }
        },
        "d40dc5285f684ea7968ae3262784b038": {
          "model_module": "@jupyter-widgets/controls",
          "model_module_version": "1.5.0",
          "model_name": "FloatTextModel",
          "state": {
            "_dom_classes": [],
            "_model_module": "@jupyter-widgets/controls",
            "_model_module_version": "1.5.0",
            "_model_name": "FloatTextModel",
            "_view_count": null,
            "_view_module": "@jupyter-widgets/controls",
            "_view_module_version": "1.5.0",
            "_view_name": "FloatTextView",
            "continuous_update": false,
            "description": "ac_for_k",
            "description_tooltip": null,
            "disabled": false,
            "layout": "IPY_MODEL_3471e83d848e457d9a01e9370fb882ab",
            "step": null,
            "style": "IPY_MODEL_aef570642f9b4e4287aeccfaae3d471f",
            "value": 10
          }
        },
        "d43a5a884a654c1eb36be947d9ce7fa8": {
          "model_module": "@jupyter-widgets/controls",
          "model_module_version": "1.5.0",
          "model_name": "DescriptionStyleModel",
          "state": {
            "_model_module": "@jupyter-widgets/controls",
            "_model_module_version": "1.5.0",
            "_model_name": "DescriptionStyleModel",
            "_view_count": null,
            "_view_module": "@jupyter-widgets/base",
            "_view_module_version": "1.2.0",
            "_view_name": "StyleView",
            "description_width": "150px"
          }
        },
        "d5dbf436ee55452ea0153ea1842a26ae": {
          "model_module": "@jupyter-widgets/controls",
          "model_module_version": "1.5.0",
          "model_name": "FloatTextModel",
          "state": {
            "_dom_classes": [],
            "_model_module": "@jupyter-widgets/controls",
            "_model_module_version": "1.5.0",
            "_model_name": "FloatTextModel",
            "_view_count": null,
            "_view_module": "@jupyter-widgets/controls",
            "_view_module_version": "1.5.0",
            "_view_name": "FloatTextView",
            "continuous_update": false,
            "description": "for_S0",
            "description_tooltip": null,
            "disabled": false,
            "layout": "IPY_MODEL_bed2ff6996ea451c922bc43373b4ff3a",
            "step": null,
            "style": "IPY_MODEL_6a27fbdea1074b77b0a170a9278789d0",
            "value": 0
          }
        },
        "d8950e2c44c14004ab108d7a93ab8067": {
          "model_module": "@jupyter-widgets/base",
          "model_module_version": "1.2.0",
          "model_name": "LayoutModel",
          "state": {
            "_model_module": "@jupyter-widgets/base",
            "_model_module_version": "1.2.0",
            "_model_name": "LayoutModel",
            "_view_count": null,
            "_view_module": "@jupyter-widgets/base",
            "_view_module_version": "1.2.0",
            "_view_name": "LayoutView",
            "align_content": null,
            "align_items": null,
            "align_self": null,
            "border": null,
            "bottom": null,
            "display": null,
            "flex": null,
            "flex_flow": null,
            "grid_area": null,
            "grid_auto_columns": null,
            "grid_auto_flow": null,
            "grid_auto_rows": null,
            "grid_column": null,
            "grid_gap": null,
            "grid_row": null,
            "grid_template_areas": null,
            "grid_template_columns": null,
            "grid_template_rows": null,
            "height": null,
            "justify_content": null,
            "justify_items": null,
            "left": null,
            "margin": null,
            "max_height": null,
            "max_width": null,
            "min_height": null,
            "min_width": null,
            "object_fit": null,
            "object_position": null,
            "order": null,
            "overflow": null,
            "overflow_x": null,
            "overflow_y": null,
            "padding": null,
            "right": null,
            "top": null,
            "visibility": null,
            "width": null
          }
        },
        "da06d7af301a43249d45413ea33a3ff7": {
          "model_module": "@jupyter-widgets/controls",
          "model_module_version": "1.5.0",
          "model_name": "FloatTextModel",
          "state": {
            "_dom_classes": [],
            "_model_module": "@jupyter-widgets/controls",
            "_model_module_version": "1.5.0",
            "_model_name": "FloatTextModel",
            "_view_count": null,
            "_view_module": "@jupyter-widgets/controls",
            "_view_module_version": "1.5.0",
            "_view_name": "FloatTextView",
            "continuous_update": false,
            "description": "bp_lactate_p_y",
            "description_tooltip": null,
            "disabled": false,
            "layout": "IPY_MODEL_81fd66f7676c42cfa4921ca37973ea2a",
            "step": null,
            "style": "IPY_MODEL_1af75e70e28c4b49b3a6d3cafb673e70",
            "value": -1
          }
        },
        "da91fc5d439346df9680ff87e32e205f": {
          "model_module": "@jupyter-widgets/base",
          "model_module_version": "1.2.0",
          "model_name": "LayoutModel",
          "state": {
            "_model_module": "@jupyter-widgets/base",
            "_model_module_version": "1.2.0",
            "_model_name": "LayoutModel",
            "_view_count": null,
            "_view_module": "@jupyter-widgets/base",
            "_view_module_version": "1.2.0",
            "_view_name": "LayoutView",
            "align_content": null,
            "align_items": null,
            "align_self": null,
            "border": null,
            "bottom": null,
            "display": null,
            "flex": null,
            "flex_flow": null,
            "grid_area": null,
            "grid_auto_columns": null,
            "grid_auto_flow": null,
            "grid_auto_rows": null,
            "grid_column": null,
            "grid_gap": null,
            "grid_row": null,
            "grid_template_areas": null,
            "grid_template_columns": null,
            "grid_template_rows": null,
            "height": null,
            "justify_content": null,
            "justify_items": null,
            "left": null,
            "margin": null,
            "max_height": null,
            "max_width": null,
            "min_height": null,
            "min_width": null,
            "object_fit": null,
            "object_position": null,
            "order": null,
            "overflow": null,
            "overflow_x": null,
            "overflow_y": null,
            "padding": null,
            "right": null,
            "top": null,
            "visibility": null,
            "width": null
          }
        },
        "da939093328d48ae96ae5ef78ee94d33": {
          "model_module": "@jupyter-widgets/controls",
          "model_module_version": "1.5.0",
          "model_name": "DescriptionStyleModel",
          "state": {
            "_model_module": "@jupyter-widgets/controls",
            "_model_module_version": "1.5.0",
            "_model_name": "DescriptionStyleModel",
            "_view_count": null,
            "_view_module": "@jupyter-widgets/base",
            "_view_module_version": "1.2.0",
            "_view_name": "StyleView",
            "description_width": "150px"
          }
        },
        "dc13686a6041417ebd7298d37530378b": {
          "model_module": "@jupyter-widgets/controls",
          "model_module_version": "1.5.0",
          "model_name": "DescriptionStyleModel",
          "state": {
            "_model_module": "@jupyter-widgets/controls",
            "_model_module_version": "1.5.0",
            "_model_name": "DescriptionStyleModel",
            "_view_count": null,
            "_view_module": "@jupyter-widgets/base",
            "_view_module_version": "1.2.0",
            "_view_name": "StyleView",
            "description_width": "150px"
          }
        },
        "dc355778cac940ebad50abf5b245c249": {
          "model_module": "@jupyter-widgets/controls",
          "model_module_version": "1.5.0",
          "model_name": "FloatTextModel",
          "state": {
            "_dom_classes": [],
            "_model_module": "@jupyter-widgets/controls",
            "_model_module_version": "1.5.0",
            "_model_name": "FloatTextModel",
            "_view_count": null,
            "_view_module": "@jupyter-widgets/controls",
            "_view_module_version": "1.5.0",
            "_view_name": "FloatTextView",
            "continuous_update": false,
            "description": "lac_S0",
            "description_tooltip": null,
            "disabled": false,
            "layout": "IPY_MODEL_1c9261cb10fc46d9ab0d8cf48471d097",
            "step": null,
            "style": "IPY_MODEL_b79fe56e527342f79d7f5cd2287e8420",
            "value": 0
          }
        },
        "df3cc5300fab451f9d366fdee7211cca": {
          "model_module": "@jupyter-widgets/base",
          "model_module_version": "1.2.0",
          "model_name": "LayoutModel",
          "state": {
            "_model_module": "@jupyter-widgets/base",
            "_model_module_version": "1.2.0",
            "_model_name": "LayoutModel",
            "_view_count": null,
            "_view_module": "@jupyter-widgets/base",
            "_view_module_version": "1.2.0",
            "_view_name": "LayoutView",
            "align_content": null,
            "align_items": null,
            "align_self": null,
            "border": null,
            "bottom": null,
            "display": null,
            "flex": null,
            "flex_flow": null,
            "grid_area": null,
            "grid_auto_columns": null,
            "grid_auto_flow": null,
            "grid_auto_rows": null,
            "grid_column": null,
            "grid_gap": null,
            "grid_row": null,
            "grid_template_areas": null,
            "grid_template_columns": null,
            "grid_template_rows": null,
            "height": null,
            "justify_content": null,
            "justify_items": null,
            "left": null,
            "margin": null,
            "max_height": null,
            "max_width": null,
            "min_height": null,
            "min_width": null,
            "object_fit": null,
            "object_position": null,
            "order": null,
            "overflow": null,
            "overflow_x": null,
            "overflow_y": null,
            "padding": null,
            "right": null,
            "top": null,
            "visibility": null,
            "width": "300px"
          }
        },
        "e04b510889814ffc8f7aee6d177585fd": {
          "model_module": "@jupyter-widgets/controls",
          "model_module_version": "1.5.0",
          "model_name": "FloatTextModel",
          "state": {
            "_dom_classes": [],
            "_model_module": "@jupyter-widgets/controls",
            "_model_module_version": "1.5.0",
            "_model_name": "FloatTextModel",
            "_view_count": null,
            "_view_module": "@jupyter-widgets/controls",
            "_view_module_version": "1.5.0",
            "_view_name": "FloatTextView",
            "continuous_update": false,
            "description": "bp_h2_y",
            "description_tooltip": null,
            "disabled": false,
            "layout": "IPY_MODEL_281854498fab42e9afd754c0c558efed",
            "step": null,
            "style": "IPY_MODEL_4eb36f6c28d14345a9579cfc116e424a",
            "value": -1
          }
        },
        "e0cd6e33123a420d821c5735f54503c9": {
          "model_module": "@jupyter-widgets/base",
          "model_module_version": "1.2.0",
          "model_name": "LayoutModel",
          "state": {
            "_model_module": "@jupyter-widgets/base",
            "_model_module_version": "1.2.0",
            "_model_name": "LayoutModel",
            "_view_count": null,
            "_view_module": "@jupyter-widgets/base",
            "_view_module_version": "1.2.0",
            "_view_name": "LayoutView",
            "align_content": null,
            "align_items": null,
            "align_self": null,
            "border": null,
            "bottom": null,
            "display": null,
            "flex": null,
            "flex_flow": null,
            "grid_area": null,
            "grid_auto_columns": null,
            "grid_auto_flow": null,
            "grid_auto_rows": null,
            "grid_column": null,
            "grid_gap": null,
            "grid_row": null,
            "grid_template_areas": null,
            "grid_template_columns": null,
            "grid_template_rows": null,
            "height": null,
            "justify_content": null,
            "justify_items": null,
            "left": null,
            "margin": null,
            "max_height": null,
            "max_width": null,
            "min_height": null,
            "min_width": null,
            "object_fit": null,
            "object_position": null,
            "order": null,
            "overflow": null,
            "overflow_x": null,
            "overflow_y": null,
            "padding": null,
            "right": null,
            "top": null,
            "visibility": null,
            "width": null
          }
        },
        "e3403a211b7f49c0938768880e965ea1": {
          "model_module": "@jupyter-widgets/base",
          "model_module_version": "1.2.0",
          "model_name": "LayoutModel",
          "state": {
            "_model_module": "@jupyter-widgets/base",
            "_model_module_version": "1.2.0",
            "_model_name": "LayoutModel",
            "_view_count": null,
            "_view_module": "@jupyter-widgets/base",
            "_view_module_version": "1.2.0",
            "_view_name": "LayoutView",
            "align_content": null,
            "align_items": null,
            "align_self": null,
            "border": null,
            "bottom": null,
            "display": null,
            "flex": null,
            "flex_flow": null,
            "grid_area": null,
            "grid_auto_columns": null,
            "grid_auto_flow": null,
            "grid_auto_rows": null,
            "grid_column": null,
            "grid_gap": null,
            "grid_row": null,
            "grid_template_areas": null,
            "grid_template_columns": null,
            "grid_template_rows": null,
            "height": null,
            "justify_content": null,
            "justify_items": null,
            "left": null,
            "margin": null,
            "max_height": null,
            "max_width": null,
            "min_height": null,
            "min_width": null,
            "object_fit": null,
            "object_position": null,
            "order": null,
            "overflow": null,
            "overflow_x": null,
            "overflow_y": null,
            "padding": null,
            "right": null,
            "top": null,
            "visibility": null,
            "width": "300px"
          }
        },
        "e3ab619675f241f4bbad58d8757394ff": {
          "model_module": "@jupyter-widgets/controls",
          "model_module_version": "1.5.0",
          "model_name": "VBoxModel",
          "state": {
            "_dom_classes": [],
            "_model_module": "@jupyter-widgets/controls",
            "_model_module_version": "1.5.0",
            "_model_name": "VBoxModel",
            "_view_count": null,
            "_view_module": "@jupyter-widgets/controls",
            "_view_module_version": "1.5.0",
            "_view_name": "VBoxView",
            "box_style": "",
            "children": [
              "IPY_MODEL_8c53f7ed7378438ea28ee49d595c0f07",
              "IPY_MODEL_d5dbf436ee55452ea0153ea1842a26ae",
              "IPY_MODEL_990473cb87ef4891bd369b1132e17d3a",
              "IPY_MODEL_9ebfdaa154464b5c82718d093e925e75",
              "IPY_MODEL_276c9df380f143f59c5cccefdb055b8d",
              "IPY_MODEL_dc355778cac940ebad50abf5b245c249",
              "IPY_MODEL_e48244d082554a989c748c0a8ef5ba59",
              "IPY_MODEL_d02fc2863c6d4acaad3a78afd437011c",
              "IPY_MODEL_96879600ec304dfe9d6b819484126772",
              "IPY_MODEL_05a6df4c9fdc4094aecf7d846f056787",
              "IPY_MODEL_4114b9b3c278467e966b7043270f770d"
            ],
            "layout": "IPY_MODEL_edca0d5370fe4aaf92dcf21ac71c9175"
          }
        },
        "e48244d082554a989c748c0a8ef5ba59": {
          "model_module": "@jupyter-widgets/controls",
          "model_module_version": "1.5.0",
          "model_name": "FloatTextModel",
          "state": {
            "_dom_classes": [],
            "_model_module": "@jupyter-widgets/controls",
            "_model_module_version": "1.5.0",
            "_model_name": "FloatTextModel",
            "_view_count": null,
            "_view_module": "@jupyter-widgets/controls",
            "_view_module_version": "1.5.0",
            "_view_name": "FloatTextView",
            "continuous_update": false,
            "description": "succ_S0",
            "description_tooltip": null,
            "disabled": false,
            "layout": "IPY_MODEL_9ebe56645eef4d9892cd2ec475141c4d",
            "step": null,
            "style": "IPY_MODEL_74da45c21a664e52a616af377c348469",
            "value": 0
          }
        },
        "e65891bed5c342648e75b833fbf25dad": {
          "model_module": "@jupyter-widgets/controls",
          "model_module_version": "1.5.0",
          "model_name": "DescriptionStyleModel",
          "state": {
            "_model_module": "@jupyter-widgets/controls",
            "_model_module_version": "1.5.0",
            "_model_name": "DescriptionStyleModel",
            "_view_count": null,
            "_view_module": "@jupyter-widgets/base",
            "_view_module_version": "1.2.0",
            "_view_name": "StyleView",
            "description_width": "150px"
          }
        },
        "e7989b4ad93041ea998b0de8cfaecc62": {
          "model_module": "@jupyter-widgets/controls",
          "model_module_version": "1.5.0",
          "model_name": "DescriptionStyleModel",
          "state": {
            "_model_module": "@jupyter-widgets/controls",
            "_model_module_version": "1.5.0",
            "_model_name": "DescriptionStyleModel",
            "_view_count": null,
            "_view_module": "@jupyter-widgets/base",
            "_view_module_version": "1.2.0",
            "_view_name": "StyleView",
            "description_width": "150px"
          }
        },
        "ec56592031884c3cb38ee83c4d15a718": {
          "model_module": "@jupyter-widgets/base",
          "model_module_version": "1.2.0",
          "model_name": "LayoutModel",
          "state": {
            "_model_module": "@jupyter-widgets/base",
            "_model_module_version": "1.2.0",
            "_model_name": "LayoutModel",
            "_view_count": null,
            "_view_module": "@jupyter-widgets/base",
            "_view_module_version": "1.2.0",
            "_view_name": "LayoutView",
            "align_content": null,
            "align_items": null,
            "align_self": null,
            "border": null,
            "bottom": null,
            "display": null,
            "flex": null,
            "flex_flow": null,
            "grid_area": null,
            "grid_auto_columns": null,
            "grid_auto_flow": null,
            "grid_auto_rows": null,
            "grid_column": null,
            "grid_gap": null,
            "grid_row": null,
            "grid_template_areas": null,
            "grid_template_columns": null,
            "grid_template_rows": null,
            "height": null,
            "justify_content": null,
            "justify_items": null,
            "left": null,
            "margin": null,
            "max_height": null,
            "max_width": null,
            "min_height": null,
            "min_width": null,
            "object_fit": null,
            "object_position": null,
            "order": null,
            "overflow": null,
            "overflow_x": null,
            "overflow_y": null,
            "padding": null,
            "right": null,
            "top": null,
            "visibility": null,
            "width": "300px"
          }
        },
        "edaff09b99ce493dae505e853d8d8ac3": {
          "model_module": "@jupyter-widgets/base",
          "model_module_version": "1.2.0",
          "model_name": "LayoutModel",
          "state": {
            "_model_module": "@jupyter-widgets/base",
            "_model_module_version": "1.2.0",
            "_model_name": "LayoutModel",
            "_view_count": null,
            "_view_module": "@jupyter-widgets/base",
            "_view_module_version": "1.2.0",
            "_view_name": "LayoutView",
            "align_content": null,
            "align_items": null,
            "align_self": null,
            "border": null,
            "bottom": null,
            "display": null,
            "flex": null,
            "flex_flow": null,
            "grid_area": null,
            "grid_auto_columns": null,
            "grid_auto_flow": null,
            "grid_auto_rows": null,
            "grid_column": null,
            "grid_gap": null,
            "grid_row": null,
            "grid_template_areas": null,
            "grid_template_columns": null,
            "grid_template_rows": null,
            "height": null,
            "justify_content": null,
            "justify_items": null,
            "left": null,
            "margin": null,
            "max_height": null,
            "max_width": null,
            "min_height": null,
            "min_width": null,
            "object_fit": null,
            "object_position": null,
            "order": null,
            "overflow": null,
            "overflow_x": null,
            "overflow_y": null,
            "padding": null,
            "right": null,
            "top": null,
            "visibility": null,
            "width": "300px"
          }
        },
        "edca0d5370fe4aaf92dcf21ac71c9175": {
          "model_module": "@jupyter-widgets/base",
          "model_module_version": "1.2.0",
          "model_name": "LayoutModel",
          "state": {
            "_model_module": "@jupyter-widgets/base",
            "_model_module_version": "1.2.0",
            "_model_name": "LayoutModel",
            "_view_count": null,
            "_view_module": "@jupyter-widgets/base",
            "_view_module_version": "1.2.0",
            "_view_name": "LayoutView",
            "align_content": null,
            "align_items": null,
            "align_self": null,
            "border": null,
            "bottom": null,
            "display": null,
            "flex": null,
            "flex_flow": null,
            "grid_area": null,
            "grid_auto_columns": null,
            "grid_auto_flow": null,
            "grid_auto_rows": null,
            "grid_column": null,
            "grid_gap": null,
            "grid_row": null,
            "grid_template_areas": null,
            "grid_template_columns": null,
            "grid_template_rows": null,
            "height": null,
            "justify_content": null,
            "justify_items": null,
            "left": null,
            "margin": null,
            "max_height": null,
            "max_width": null,
            "min_height": null,
            "min_width": null,
            "object_fit": null,
            "object_position": null,
            "order": null,
            "overflow": null,
            "overflow_x": null,
            "overflow_y": null,
            "padding": null,
            "right": null,
            "top": null,
            "visibility": null,
            "width": null
          }
        },
        "f102d73368524275bcc27da1b88641f9": {
          "model_module": "@jupyter-widgets/base",
          "model_module_version": "1.2.0",
          "model_name": "LayoutModel",
          "state": {
            "_model_module": "@jupyter-widgets/base",
            "_model_module_version": "1.2.0",
            "_model_name": "LayoutModel",
            "_view_count": null,
            "_view_module": "@jupyter-widgets/base",
            "_view_module_version": "1.2.0",
            "_view_name": "LayoutView",
            "align_content": null,
            "align_items": null,
            "align_self": null,
            "border": null,
            "bottom": null,
            "display": null,
            "flex": null,
            "flex_flow": null,
            "grid_area": null,
            "grid_auto_columns": null,
            "grid_auto_flow": null,
            "grid_auto_rows": null,
            "grid_column": null,
            "grid_gap": null,
            "grid_row": null,
            "grid_template_areas": null,
            "grid_template_columns": null,
            "grid_template_rows": null,
            "height": null,
            "justify_content": null,
            "justify_items": null,
            "left": null,
            "margin": null,
            "max_height": null,
            "max_width": null,
            "min_height": null,
            "min_width": null,
            "object_fit": null,
            "object_position": null,
            "order": null,
            "overflow": null,
            "overflow_x": null,
            "overflow_y": null,
            "padding": null,
            "right": null,
            "top": null,
            "visibility": null,
            "width": "300px"
          }
        },
        "f1836990d9934a6e9b931c0696f4b85e": {
          "model_module": "@jupyter-widgets/controls",
          "model_module_version": "1.5.0",
          "model_name": "DescriptionStyleModel",
          "state": {
            "_model_module": "@jupyter-widgets/controls",
            "_model_module_version": "1.5.0",
            "_model_name": "DescriptionStyleModel",
            "_view_count": null,
            "_view_module": "@jupyter-widgets/base",
            "_view_module_version": "1.2.0",
            "_view_name": "StyleView",
            "description_width": "150px"
          }
        },
        "f274d95cfe6a4f26a7ddfa72e26db8aa": {
          "model_module": "@jupyter-widgets/controls",
          "model_module_version": "1.5.0",
          "model_name": "FloatTextModel",
          "state": {
            "_dom_classes": [],
            "_model_module": "@jupyter-widgets/controls",
            "_model_module_version": "1.5.0",
            "_model_name": "FloatTextModel",
            "_view_count": null,
            "_view_module": "@jupyter-widgets/controls",
            "_view_module_version": "1.5.0",
            "_view_name": "FloatTextView",
            "continuous_update": false,
            "description": "bp_co2_y",
            "description_tooltip": null,
            "disabled": false,
            "layout": "IPY_MODEL_106f8a33fe1c46ee80fdf8eeeff0503f",
            "step": null,
            "style": "IPY_MODEL_4c94d79c95224b38bad61083df3865af",
            "value": -1
          }
        },
        "f4d7f8c1e84d4f36be0c2e694fab62bc": {
          "model_module": "@jupyter-widgets/controls",
          "model_module_version": "1.5.0",
          "model_name": "DescriptionStyleModel",
          "state": {
            "_model_module": "@jupyter-widgets/controls",
            "_model_module_version": "1.5.0",
            "_model_name": "DescriptionStyleModel",
            "_view_count": null,
            "_view_module": "@jupyter-widgets/base",
            "_view_module_version": "1.2.0",
            "_view_name": "StyleView",
            "description_width": "150px"
          }
        },
        "fcb0e72fe0df4c45b2389fd903ef67b3": {
          "model_module": "@jupyter-widgets/controls",
          "model_module_version": "1.5.0",
          "model_name": "DescriptionStyleModel",
          "state": {
            "_model_module": "@jupyter-widgets/controls",
            "_model_module_version": "1.5.0",
            "_model_name": "DescriptionStyleModel",
            "_view_count": null,
            "_view_module": "@jupyter-widgets/base",
            "_view_module_version": "1.2.0",
            "_view_name": "StyleView",
            "description_width": "150px"
          }
        }
      }
    }
  },
  "nbformat": 4,
  "nbformat_minor": 0
}
