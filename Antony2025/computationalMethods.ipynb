{
  "cells": [
    {
      "cell_type": "markdown",
      "metadata": {
        "colab_type": "text",
        "id": "view-in-github"
      },
      "source": [
        "<a href=\"https://colab.research.google.com/github/hariszaf/metabolic_toy_model/blob/main/Antony2025/computationalMethods.ipynb\" target=\"_parent\"><img src=\"https://colab.research.google.com/assets/colab-badge.svg\" alt=\"Open In Colab\"/></a>"
      ]
    },
    {
      "cell_type": "markdown",
      "metadata": {
        "id": "_g-tdTxc359V"
      },
      "source": [
        "# **Computational Methods Applied To Genome-Scale Metabolic Models**"
      ]
    },
    {
      "cell_type": "code",
      "execution_count": 43,
      "metadata": {
        "id": "mlYIEglD3rCi"
      },
      "outputs": [],
      "source": [
        "import numpy as np \n",
        "import sys, os\n",
        "\n",
        "sys.path.append( os.path.dirname(os.getcwd()) )\n",
        "from scripts.intro import FluxBalanceAnalysis, constrain_plane_in_3D"
      ]
    },
    {
      "cell_type": "markdown",
      "metadata": {},
      "source": [
        "## Background "
      ]
    },
    {
      "cell_type": "markdown",
      "metadata": {},
      "source": [
        "#### What is LP? \n",
        "\n",
        "From its nicely put [wiki lemma](https://en.wikipedia.org/wiki/Linear_programming): \n",
        "\n",
        "**Linear programming (LP**), also called **linear optimization**, is a method to achieve the *best* outcome (such as *maximum* profit or *lowest* cost) in a mathematical *model* whose ***requirements*** and ***objective*** are represented by **linear relationships**. \n",
        "Linear programming is a special case of mathematical programming (also known as mathematical optimization)."
      ]
    },
    {
      "cell_type": "markdown",
      "metadata": {},
      "source": [
        "![starwars](https://img.filmsactu.net/datas/films/s/t/star-wars-episode-ix/n/star-wars-episode-ix-gif-5ccb96a1c2f0a.gif)"
      ]
    },
    {
      "cell_type": "markdown",
      "metadata": {},
      "source": [
        "Linear programs are problems that can be expressed in standard form as:\n",
        "\n",
        "\n",
        "\\begin{array}{l r}\n",
        "    \\text{(Find a vector in which you are interested in, e.g. fluxes of a set of reactions)} & x \\\\\n",
        "    \\text{(that maximizes a certain objective function, e.g. the ATP production)} & c^T x \\\\\n",
        "    \\text{(subject to, meaning that it respects a set of constraints)} & Av \\leq b \\\\\n",
        "    \\text{(and some extra constraints!)} & x \\geq 0\n",
        "\\end{array}\n",
        "\n"
      ]
    },
    {
      "cell_type": "markdown",
      "metadata": {},
      "source": [
        "Let us see an example on what this would mean for a metabolic network. Consider a very short pathway that consists of only four reactions."
      ]
    },
    {
      "cell_type": "markdown",
      "metadata": {},
      "source": [
        "![s_example](../files/figs/s_examples.png)"
      ]
    },
    {
      "cell_type": "markdown",
      "metadata": {},
      "source": [
        "> Hint :warning:\n",
        ">\n",
        "> As you can see, metabolite and reaction names in this case do not have the `rxn` and `cpd` prefixes. That is cause they come from another ontology called [BiGG ](http://bigg.ucsd.edu). We will discuss that at a later point."
      ]
    },
    {
      "cell_type": "markdown",
      "metadata": {},
      "source": [
        "In this figure, you can see the basic concept of metabolic modeling analysis. \n",
        "The network on the left is just a representation of what we are actually using, a list of enzymes (RNDR2, GKI, PYK etc.)! \n",
        "\n",
        "The **stoichiometry** of each of those reactions is **always the same, across all different taxa**! \n",
        "\n",
        "Therefore, from a list of enzymes, we can build the $S$ table on the right, where each row is a metabolite and its column is a reaction, with the values on the table per column, represent the stoichiometry of the corresponding reaction!"
      ]
    },
    {
      "cell_type": "markdown",
      "metadata": {},
      "source": [
        "> :question: **Task!**\n",
        ">\n",
        "> Who can describe us how the PYK reaction of the network is represented on the $S$ table?  "
      ]
    },
    {
      "cell_type": "markdown",
      "metadata": {},
      "source": [
        "Yet, what we are interested in are the fluxes, but what is it actually a flux ? "
      ]
    },
    {
      "cell_type": "markdown",
      "metadata": {},
      "source": [
        "\n",
        "<video controls src=\"https://player.vimeo.com/video/542375960?badge=0&loop=1&autopause=0&player_id=0&app_id=58479\" width=500 heigh=600>"
      ]
    },
    {
      "cell_type": "code",
      "execution_count": null,
      "metadata": {},
      "outputs": [],
      "source": []
    },
    {
      "cell_type": "code",
      "execution_count": 49,
      "metadata": {},
      "outputs": [
        {
          "name": "stdout",
          "output_type": "stream",
          "text": [
            "Optimization Result:         message: Optimization terminated successfully. (HiGHS Status 7: Optimal)\n",
            "        success: True\n",
            "         status: 0\n",
            "            fun: -5.0\n",
            "              x: [ 5.000e+00  5.000e+00]\n",
            "            nit: 0\n",
            "          lower:  residual: [ 7.000e+00  5.000e+00]\n",
            "                 marginals: [ 0.000e+00  0.000e+00]\n",
            "          upper:  residual: [ 1.000e+01  0.000e+00]\n",
            "                 marginals: [ 0.000e+00 -1.000e+00]\n",
            "          eqlin:  residual: [ 0.000e+00]\n",
            "                 marginals: [-0.000e+00]\n",
            "        ineqlin:  residual: []\n",
            "                 marginals: []\n",
            " mip_node_count: 0\n",
            " mip_dual_bound: 0.0\n",
            "        mip_gap: 0.0\n"
          ]
        },
        {
          "data": {
            "image/png": "[encoded data removed]",
            "text/plain": [
              "<Figure size 800x800 with 1 Axes>"
            ]
          },
          "metadata": {},
          "output_type": "display_data"
        }
      ],
      "source": [
        "# Stoichiometric matrix for a single reaction: A -> B, constraints are -v1 + v2 = 0\n",
        "S = np.array([[1, -1]])\n",
        "\n",
        "# Bounds: flux 1 between 0 and 5, flux 2 between 0 and 5\n",
        "bounds = [(-2, 15), (0, 5)]\n",
        "\n",
        "# Objective: Maximize v2 (e.g., production of B)\n",
        "objective = np.array([0, 1])\n",
        "\n",
        "# Create the FBA instance\n",
        "fba = FluxBalanceAnalysis(S, bounds, objective)\n",
        "\n",
        "# Run optimization\n",
        "result = fba.optimize()\n",
        "print(\"Optimization Result:\", result)\n",
        "\n",
        "# Visualize the geometry\n",
        "fba.visualize_geometry()"
      ]
    },
    {
      "cell_type": "markdown",
      "metadata": {},
      "source": [
        "### What is a constraint ? "
      ]
    },
    {
      "cell_type": "code",
      "execution_count": 48,
      "metadata": {},
      "outputs": [
        {
          "name": "stdout",
          "output_type": "stream",
          "text": [
            "Opening in existing browser session.\n"
          ]
        }
      ],
      "source": [
        "constrain_plane_in_3D()"
      ]
    },
    {
      "cell_type": "code",
      "execution_count": 6,
      "metadata": {},
      "outputs": [],
      "source": [
        "\n"
      ]
    },
    {
      "cell_type": "code",
      "execution_count": 8,
      "metadata": {},
      "outputs": [
        {
          "name": "stdout",
          "output_type": "stream",
          "text": [
            "Opening in existing browser session.\n"
          ]
        }
      ],
      "source": []
    },
    {
      "cell_type": "code",
      "execution_count": 12,
      "metadata": {},
      "outputs": [
        {
          "name": "stdout",
          "output_type": "stream",
          "text": [
            "Opening in existing browser session.\n"
          ]
        }
      ],
      "source": [
        "\n",
        "# This should pop up on a new tab on your browser\n",
        "intro.samples_in_constraint_3D(\n",
        "    r1_bounds = [5, 10],\n",
        "    r2_bounds = [5, 10],\n",
        "    r3_bounds = [0,  40],\n",
        "    r3_relationship = [-1, -1]\n",
        ")\n",
        "\n",
        "\n"
      ]
    },
    {
      "cell_type": "code",
      "execution_count": null,
      "metadata": {},
      "outputs": [],
      "source": []
    }
  ],
  "metadata": {
    "colab": {
      "authorship_tag": "ABX9TyP5cMW5r2C88ifHrCVdcKv4",
      "include_colab_link": true,
      "provenance": []
    },
    "kernelspec": {
      "display_name": "Python 3",
      "name": "python3"
    },
    "language_info": {
      "codemirror_mode": {
        "name": "ipython",
        "version": 3
      },
      "file_extension": ".py",
      "mimetype": "text/x-python",
      "name": "python",
      "nbconvert_exporter": "python",
      "pygments_lexer": "ipython3",
      "version": "3.11.11"
    }
  },
  "nbformat": 4,
  "nbformat_minor": 0
}
