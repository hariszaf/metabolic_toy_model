{
  "cells": [
    {
      "cell_type": "markdown",
      "metadata": {
        "id": "view-in-github",
        "colab_type": "text"
      },
      "source": [
        "<a href=\"https://colab.research.google.com/github/hariszaf/metabolic_toy_model/blob/main/Antony2025/gapfillingGSMMs.ipynb\" target=\"_parent\"><img src=\"https://colab.research.google.com/assets/colab-badge.svg\" alt=\"Open In Colab\"/></a>"
      ]
    },
    {
      "cell_type": "markdown",
      "metadata": {
        "id": "u2wfZmrxxAaJ"
      },
      "source": [
        "# **Gapfilling Genome-Scale Metabolic Models with DNNGIOR**"
      ]
    },
    {
      "cell_type": "markdown",
      "metadata": {
        "id": "pMXgHj6AbT8X"
      },
      "source": [
        "## Google Collab Part"
      ]
    },
    {
      "cell_type": "code",
      "execution_count": null,
      "metadata": {
        "id": "dpzmKk5RcwjT"
      },
      "outputs": [],
      "source": [
        "# @title Install dependencies\n",
        "!pip install cobra\n",
        "!pip install dnngior --no-deps"
      ]
    },
    {
      "cell_type": "code",
      "execution_count": null,
      "metadata": {
        "id": "_sqCJuwTdLKG"
      },
      "outputs": [],
      "source": [
        "import os\n",
        "def create_gurobi_license():\n",
        "    license_content = (\n",
        "        \"# Gurobi WLS license file\\n\"\n",
        "        \"# Your credentials are private and should not be shared or copied to public repositories.\\n\"\n",
        "        \"# Visit https://license.gurobi.com/manager/doc/overview for more information.\\n\"\n",
        "        \"WLSACCESSID=\\n\"\n",
        "        \"WLSSECRET=\\n\"\n",
        "        \"LICENSEID=\"\n",
        "    )\n",
        "    with open(\"/content/licenses/gurobi.lic\", \"w\") as f:\n",
        "        f.write(license_content)\n",
        "    print(\"License file created at /content/licenses/gurobi.lic\")\n",
        "\n",
        "# Create directory for the license\n",
        "os.makedirs(\"/content/licenses\", exist_ok=True)\n",
        "\n",
        "# Generate the license file\n",
        "create_gurobi_license()\n",
        "\n",
        "#add to path\n",
        "os.environ['GRB_LICENSE_FILE'] = '/content/licenses/gurobi.lic'\n",
        "\n",
        "!pip install gurobipy"
      ]
    },
    {
      "cell_type": "code",
      "execution_count": null,
      "metadata": {
        "id": "4epHKfwic_4r"
      },
      "outputs": [],
      "source": [
        "!git clone https://github.com/hariszaf/metabolic_toy_model.git"
      ]
    },
    {
      "cell_type": "code",
      "source": [
        "cd /metabolic_toy_model/Antony2025"
      ],
      "metadata": {
        "id": "xS4edLInq-Fk"
      },
      "execution_count": null,
      "outputs": []
    },
    {
      "cell_type": "markdown",
      "metadata": {
        "id": "MxzfZCpjbb1B"
      },
      "source": [
        "## Introduction"
      ]
    },
    {
      "cell_type": "markdown",
      "metadata": {
        "id": "HZVTBTTVcSAQ"
      },
      "source": [
        "During this workshop we are going to need to read and write cobra models.\n",
        "From the dnngior package we will use the Gapfill and NN_Predictor classes."
      ]
    },
    {
      "cell_type": "code",
      "execution_count": null,
      "metadata": {
        "id": "-Ajq7ymow_oo"
      },
      "outputs": [],
      "source": [
        "from cobra.io import read_sbml_model, write_sbml_model\n",
        "from dnngior.gapfill_class import Gapfill\n",
        "from dnngior.NN_Predictor import NN\n",
        "import pandas as pd\n",
        "import numpy as np"
      ]
    },
    {
      "cell_type": "markdown",
      "metadata": {
        "id": "uX_HQACicSAS"
      },
      "source": [
        "### Gap-filling models: a reminder of why we do this\n",
        "Let's load the Bifidobacterium model to use as an example"
      ]
    },
    {
      "cell_type": "code",
      "execution_count": null,
      "metadata": {
        "id": "UpgM7rDtcSAS"
      },
      "outputs": [],
      "source": [
        "path_to_draft_model = \"./files/Bifidobacterium adolescentis_atcc_15703.sbml\"\n",
        "draft_model = read_sbml_model(path_to_draft_model)\n",
        "draft_model.summary()"
      ]
    },
    {
      "cell_type": "markdown",
      "metadata": {
        "id": "5EsFxBWwjYfR"
      },
      "source": [
        "As we established before this model does not produce biomass, there are reactions missing from the model that are essential. Because there is no flux through the objective we cannot optimize the model.\n",
        "\n",
        "The solution: a gap-filling algorithm that will take reactions from a database of known reactions and adds them to the model untill we have a model with flux through the objective. We will not have direct genomic evidence for these reactions (unlike the reactions in the draft model) but we do know that they are required to get a functioning model.\n",
        "\n",
        "![gapfilling](https://github.com/hariszaf/metabolic_toy_model/blob/main/Antony2025/images/gapfilling.png?raw=1)\n",
        "\n",
        "\n",
        "There are multiple solutions to this problem as there are many ways to complete the metabolism. Generally you will try and add the fewest reactions as feasible but we might be able to do a bit better. If we have information on what reactions are more likely to be 'really' missing we can create models that more close closely follow reality.\n",
        "\n",
        "Here is where DNNGIOR helps us, it takes the reactions from the draft model, and based on that makes a prediction using a neural network for what reactions are missing. We can then prioritize adding those reactions.\n",
        "\n",
        "If we want to use the default settings, its actually quite simple. We can use the Gapfill class of DNNGIOR and give the path to our draft model, the gapfill class will take care of the rest."
      ]
    },
    {
      "cell_type": "code",
      "execution_count": null,
      "metadata": {
        "id": "F5--WfHqcSAU"
      },
      "outputs": [],
      "source": [
        "gapfill_complete_medium = Gapfill(draftModel = path_to_draft_model)"
      ]
    },
    {
      "cell_type": "markdown",
      "metadata": {
        "id": "Tu5pS1T1qdX4"
      },
      "source": [
        "The Gapfill class will keep track of many things:\n",
        "\n",
        "including:\n",
        "\n",
        "1. The reactions in the draft model\n",
        "2. The prediction by the neural network\n",
        "3. The added reactions\n",
        "4. and of course: the gap-filled model"
      ]
    },
    {
      "cell_type": "code",
      "execution_count": null,
      "metadata": {
        "id": "s7nsnqtXu0t1"
      },
      "outputs": [],
      "source": [
        "gf_model = gapfill_complete_medium.gapfilledModel\n",
        "print(\"1. Number of reactions in the draft model: {}\".format(len(gapfill_complete_medium.draft_reaction_ids)))\n",
        "print(\"2. Number of predicted reactions: {}\".format(sum(gapfill_complete_medium.predicted_reactions>0.5)))\n",
        "print(\"3. Number of reactions added: {}\".format(len(gapfill_complete_medium.added_reactions)))\n",
        "print(\"4. Gapfilled model:\")\n",
        "gf_model.summary()\n"
      ]
    },
    {
      "cell_type": "markdown",
      "metadata": {
        "id": "X0hr1bhCcSAW"
      },
      "source": [
        "In principle this means we are done, if all we want is a gap-filled model we can save it using cobra and continue our analysis. But there are still many things to consider so have a closer look at how DNNGIOR works."
      ]
    },
    {
      "cell_type": "code",
      "execution_count": null,
      "metadata": {
        "id": "kOeBW767qUbg"
      },
      "outputs": [],
      "source": [
        "write_sbml_model(gf_model, 'gapfilled_Bifidobacterium adolescentis_atcc_15703.sbml')"
      ]
    },
    {
      "cell_type": "markdown",
      "metadata": {
        "id": "3bCJ5S4gcSAW"
      },
      "source": [
        "### How does DNNGIOR work\n",
        "\n",
        "DNNGIOR gapfilling takes two steps:\n",
        "1. Make a prediction based on the reactions in the draft model\n",
        "2. Use these predictions to find weigh the solutions of the linear programming algorithm\n",
        "\n",
        "This algorithm tries to solve the following objective\n",
        "\n",
        "minimize: $∑_{𝑟∈𝑚}𝑐_𝑟⁢𝑓_𝑟∣𝑓_b>0$\n",
        "\n",
        "This means that every reaction has a cost ($c_r$) and the algorithm will try to minimize the sum cost of all reactions that are added.The algorithm will only consider solutions with flux through the objective ($f_b$) as that is the end goal.\n",
        "\n",
        "These costs will be (partially) determined based on the prediction. So lets have a look at these predictions, we can load in the neural network using this trick:"
      ]
    },
    {
      "cell_type": "code",
      "execution_count": null,
      "metadata": {
        "id": "wL1_Cnd5cSAX"
      },
      "outputs": [],
      "source": [
        "from dnngior.variables import TRAINED_NN_MSEED\n",
        "NN_MSEED = NN(path=TRAINED_NN_MSEED)"
      ]
    },
    {
      "cell_type": "markdown",
      "metadata": {
        "id": "0MLcVfEXcSAX"
      },
      "source": [
        "and make a prediction for our example draft model"
      ]
    },
    {
      "cell_type": "code",
      "execution_count": null,
      "metadata": {
        "id": "DYpjf-oXcSAY"
      },
      "outputs": [],
      "source": [
        "prediction = NN_MSEED.predict(draft_model)"
      ]
    },
    {
      "cell_type": "markdown",
      "metadata": {
        "id": "_LXoBsSYcSAY"
      },
      "source": [
        "This will give us a prediction for what reactions the neural network thinks are missing based on the draft reactions."
      ]
    },
    {
      "cell_type": "code",
      "execution_count": null,
      "metadata": {
        "id": "G6dJMAgtcSAY"
      },
      "outputs": [],
      "source": [
        "pd.Series(prediction).plot.hist(bins=100, title='Neural Network Predictions')"
      ]
    },
    {
      "cell_type": "markdown",
      "metadata": {
        "id": "l5b_e3PFcSAZ"
      },
      "source": [
        "These ~2000 reactions are part of the microbial reactome (all the reactions that were present somewhere in the phylogeny), and the prediction are inverted (1-p) to get the cost as we want high predicted reactions to have a low cost.\n",
        "\n",
        "All other reactions in the database will get the default cost which is normally set to 1.0 but can be changed if you want to prioritize reactions from the reactome:"
      ]
    },
    {
      "cell_type": "code",
      "execution_count": null,
      "metadata": {
        "id": "aMQFLTSmcSAZ"
      },
      "outputs": [],
      "source": [
        "gapfill_higher_def_cost = Gapfill(draftModel = path_to_draft_model, objectiveName = 'bio1', default_cost=10, gapfill=False)"
      ]
    },
    {
      "cell_type": "code",
      "execution_count": null,
      "metadata": {
        "id": "2pPiI1zIcSAa"
      },
      "outputs": [],
      "source": [
        "w = gapfill_higher_def_cost.weights\n",
        "pd.Series(w).plot.hist(bins=100, label='Higher default cost', logy=True)"
      ]
    },
    {
      "cell_type": "markdown",
      "metadata": {
        "id": "IZWLxxrRcSAf"
      },
      "source": [
        "# Customizing the candidate reaction weights\n",
        "\n",
        "The NN-weights provide a great start to guide the gap-filling process and often it is the best solution but sometimes you would want to finetune the costs based on preferences or addtional knowledge. To do this we can exclude reactions from the candidate list or change the costs associated with reactions.\n"
      ]
    },
    {
      "cell_type": "markdown",
      "metadata": {
        "id": "arzhqO8ZcSAh"
      },
      "source": [
        "## Blacklisting reactions\n",
        "\n",
        "You might want to exclude specific reactions from the gap-filling database (e.g. you know cannot be present based on other data), this can be done using the blacklist argument:"
      ]
    },
    {
      "cell_type": "code",
      "execution_count": null,
      "metadata": {
        "id": "x8Wmu9x0cSAi"
      },
      "outputs": [],
      "source": [
        "blackList = ['rxn99999_c0']\n",
        "gapfill_with_blacklist = Gapfill(path_to_draft_model, black_list = blackList, objectiveName = 'bio1')"
      ]
    },
    {
      "cell_type": "markdown",
      "metadata": {
        "id": "IlWZ4ixbcSAi"
      },
      "source": [
        "This will remove these reactions from the candidates and therefore will never be added to the model.\n",
        "\n",
        "Note however, that sometimes reactions are unavoidable (i.e. no solution can be found without them) and then the gap-filling would fail. A solution to this is to use the `grey_list`, these reactions will be given a much higher cost. By default these reactions get a cost of 1,000 but you can change this using punish_cost. The result is that they will only be added when strictly neccesary."
      ]
    },
    {
      "cell_type": "code",
      "execution_count": null,
      "metadata": {
        "id": "cdvOYMZ-cSAj"
      },
      "outputs": [],
      "source": [
        "greyList = ['rxn04070_c0','rxn05467_c0','rxn00543_c0']\n",
        "gapfill_with_greylist = Gapfill(path_to_draft_model, grey_list = greyList, punish_cost = 5000, objectiveName = 'bio1')"
      ]
    },
    {
      "cell_type": "markdown",
      "metadata": {
        "id": "ILCH5LgBtpJf"
      },
      "source": [
        "## Challenge:\n",
        "\n",
        "Grey list 5 reactions added to the original gap-filled Bifido model and gapfill the draft model again."
      ]
    },
    {
      "cell_type": "code",
      "source": [],
      "metadata": {
        "id": "gCemfRBVMhUu"
      },
      "execution_count": null,
      "outputs": []
    },
    {
      "cell_type": "code",
      "execution_count": null,
      "metadata": {
        "cellView": "form",
        "id": "nt2qW2NYyJjg"
      },
      "outputs": [],
      "source": [
        "# @title Solution\n",
        "\n",
        "greyList = list(gapfill_complete_medium.added_reactions)[:5]\n",
        "gapfill_with_greylist = Gapfill(path_to_draft_model, grey_list = greyList)"
      ]
    },
    {
      "cell_type": "markdown",
      "metadata": {
        "id": "iu2q3Z9zcSAt"
      },
      "source": [
        "### Manual weights\n",
        "\n",
        "You can also manually set weights. This is by far the most flexible option, you can make any changes to any reaction you want. To make these changes it is useful to set the gapfill parameter to False. This stops the gapfilling class from automatically continuing to the gapfilling step."
      ]
    },
    {
      "cell_type": "code",
      "execution_count": null,
      "metadata": {
        "id": "lAP11_-6cSAu"
      },
      "outputs": [],
      "source": [
        "ungapfilled = Gapfill(draftModel = path_to_draft_model, gapfill=False)"
      ]
    },
    {
      "cell_type": "markdown",
      "metadata": {
        "id": "0SkiXYg8cSAu"
      },
      "source": [
        "Then you can change your candidates using the `Gapfiller.set_weights(scores)` function or manually set reactions directly: `ungapfilled_model.weights['rnx0001'] = 0.4`\n",
        "\n",
        "reloading your model will reset them back to the NN-predicted weights but there is also a function for this:"
      ]
    },
    {
      "cell_type": "code",
      "execution_count": null,
      "metadata": {
        "id": "8gYK3NvLcSAw"
      },
      "outputs": [],
      "source": [
        "ungapfilled.reset_weights()"
      ]
    },
    {
      "cell_type": "markdown",
      "metadata": {
        "id": "JciCUTPacSAx"
      },
      "source": [
        "Once you are ready to continue the gapfilling, you can use the class function gapfill() to resume the gap-filling process"
      ]
    },
    {
      "cell_type": "code",
      "execution_count": null,
      "metadata": {
        "id": "x5HN1LxtcSAx"
      },
      "outputs": [],
      "source": [
        "ungapfilled.gapfill()"
      ]
    },
    {
      "cell_type": "markdown",
      "metadata": {
        "id": "vM_6zf8io_zo"
      },
      "source": [
        "## Challenge:\n",
        "\n",
        "Gap-fill a model with random weights and save it as `gf_random_Bifido.sbml`"
      ]
    },
    {
      "cell_type": "code",
      "source": [],
      "metadata": {
        "id": "XLZVag1xMgEN"
      },
      "execution_count": null,
      "outputs": []
    },
    {
      "cell_type": "code",
      "execution_count": null,
      "metadata": {
        "id": "bXzDIt2gpM03"
      },
      "outputs": [],
      "source": [
        "# @title Solution\n",
        "random_uniform = np.random.uniform(0,1, len(gapfill_complete_medium.weights))\n",
        "random_weights = {k:v for k,v in zip(gapfill_complete_medium.weights.keys(), random_uniform)}\n",
        "\n",
        "ungapfilled_model = Gapfill(draftModel = path_to_draft_model, gapfill=False)\n",
        "ungapfilled_model.set_weights(random_weights)\n",
        "ungapfilled_model.gapfill()\n",
        "\n",
        "gf_random = ungapfilled_model.gapfilledModel\n",
        "\n",
        "write_sbml_model(gf_random, 'gf_random_Bifido.sbml')\n"
      ]
    },
    {
      "cell_type": "markdown",
      "metadata": {
        "id": "nCmUoBzFcSAb"
      },
      "source": [
        "## Gap-filling with a different medium\n",
        "\n",
        "By default, the gap-filler will assume that your model lives in a complete medium meaning that it can import any metabolite. However, in reality organisms don't allways have this luxury, so for many applications you would want to assume a more specific medium. This will make sure that the right reactions are added for a organism to synthesize metabolites not readily available in their environment.\n",
        "\n",
        "We can define a medium file that looks like this:"
      ]
    },
    {
      "cell_type": "code",
      "execution_count": null,
      "metadata": {
        "collapsed": true,
        "id": "eEE4ReskcSAb"
      },
      "outputs": [],
      "source": [
        "medium_file_path = '../files/biochemistry/Nitrogen-Nitrite_media.tsv'\n",
        "nit_medium = pd.read_csv(medium_file_path, sep='\\t')\n",
        "print(nit_medium)"
      ]
    },
    {
      "cell_type": "markdown",
      "metadata": {
        "id": "z2LXq9IOlALZ"
      },
      "source": [
        "We can then provide this to the gap-filler using the `medium_file` or `medium` parameter (`medium_file` takes a path and `medium` takes a pandas dataframe)"
      ]
    },
    {
      "cell_type": "markdown",
      "metadata": {
        "id": "5bYYy6p8cSAd"
      },
      "source": [
        "## Challenge:\n",
        "\n",
        "Gap-fill the Bifido model with nitrogen medium and compare the number of added reactions with the one gap-filled on a complete medium"
      ]
    },
    {
      "cell_type": "code",
      "source": [],
      "metadata": {
        "id": "MH-gt-4FNnq9"
      },
      "execution_count": null,
      "outputs": []
    },
    {
      "cell_type": "code",
      "execution_count": null,
      "metadata": {
        "cellView": "form",
        "collapsed": true,
        "id": "VYDLbzLCcSAe"
      },
      "outputs": [],
      "source": [
        "# @title Solution\n",
        "gapfill_nit_medium = Gapfill(draftModel = path_to_draft_model, objectiveName = 'bio1', medium_file = medium_file_path)\n",
        "print(\"Number of reactions added nitrogen medium:\", len(gapfill_nit_medium.added_reactions))\n",
        "print(\"Number of reactions added complete medium:\", len(gapfill_complete_medium.added_reactions))"
      ]
    },
    {
      "cell_type": "markdown",
      "metadata": {
        "id": "0-yqKd3MlgCy"
      },
      "source": [
        "## Challenge:\n",
        "\n",
        "Gap-fill the model without phosphate and see what different reactions gets added"
      ]
    },
    {
      "cell_type": "code",
      "source": [],
      "metadata": {
        "id": "HnhIQHrqNo1S"
      },
      "execution_count": null,
      "outputs": []
    },
    {
      "cell_type": "code",
      "execution_count": null,
      "metadata": {
        "id": "Z3bHCTRIlegk",
        "cellView": "form"
      },
      "outputs": [],
      "source": [
        "# @title Solution\n",
        "\n",
        "nit_medium.iloc[19]['max_flux'] = 0\n",
        "gapfill_nit_wop = Gapfill(draftModel = path_to_draft_model, objectiveName = 'bio1', medium = nit_medium)\n",
        "\n",
        "# set_a = set(gapfill_nit_medium.added_reactions)\n",
        "# set_b = set(gapfill_nit_wop.added_reactions)\n",
        "\n",
        "# print(set_a.difference(set_b))\n",
        "# print(set_b.difference(set_a))"
      ]
    },
    {
      "cell_type": "markdown",
      "metadata": {
        "id": "D_B9V-zscSAe"
      },
      "source": [
        "# Batch gapfilling using the command line interface (CLI)\n",
        "\n",
        "In the case where you have a lot of models you want to gapfill with the same medium you can use the CLI\n",
        "\n",
        "`python fasta2model_CLI.py -f DIR_FASTA -o output_folder`\n",
        "\n",
        "This command will create an output folder (-o) containing a subfolder with base ungapfilled models, a subfolder with gapfilled models, a log, and a tsv file telling you the number of added reactions.\n",
        "\n",
        "This CLI has limited functionality and assumes the same conditions for all gapfilling but you can change the standard gapfilling medium using the -e parameter.\n",
        "\n",
        "`python fasta2model_CLI.py -f DIR_FASTA -o DIR_OUTPUT' -e PATH_TO_MEDIUM_FILE`\n",
        "\n",
        "if you allready have base models you can use the -m parameter to provide a folder with base models to skip the base model building step.\n",
        "\n",
        "`python fasta2model_CLI.py -m DIR_MODELS -o DIR_OUTPUT`\n",
        "\n",
        "\n",
        "To gap-fill all one-per-phylum models it would look like this:\n",
        "\n",
        "`!python DNNGIOR/dnngior/fasta2model_CLI.py -m one_per_phylum_models -o one_per_phylum_gapfilled -sm .sbml`"
      ]
    }
  ],
  "metadata": {
    "colab": {
      "provenance": [],
      "include_colab_link": true
    },
    "kernelspec": {
      "display_name": "Python 3",
      "name": "python3"
    },
    "language_info": {
      "name": "python"
    }
  },
  "nbformat": 4,
  "nbformat_minor": 0
}