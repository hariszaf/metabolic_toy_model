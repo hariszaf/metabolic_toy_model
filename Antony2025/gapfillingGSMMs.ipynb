{
  "cells": [
    {
      "cell_type": "markdown",
      "metadata": {
        "id": "view-in-github",
        "colab_type": "text"
      },
      "source": [
        "<a href=\"https://colab.research.google.com/github/hariszaf/metabolic_toy_model/blob/main/Antony2025/gapfillingGSMMs.ipynb\" target=\"_parent\"><img src=\"https://colab.research.google.com/assets/colab-badge.svg\" alt=\"Open In Colab\"/></a>"
      ]
    },
    {
      "cell_type": "markdown",
      "metadata": {
        "id": "u2wfZmrxxAaJ"
      },
      "source": [
        "# **Gapfilling Genome-Scale Metabolic Models with DNNGIOR**"
      ]
    },
    {
      "cell_type": "code",
      "source": [
        "!pip install cobra\n",
        "!pip install dnngior --no-deps"
      ],
      "metadata": {
        "id": "dpzmKk5RcwjT",
        "outputId": "87bc14e1-142a-4c19-a218-a72dcd995001",
        "colab": {
          "base_uri": "https://localhost:8080/"
        }
      },
      "execution_count": 1,
      "outputs": [
        {
          "output_type": "stream",
          "name": "stdout",
          "text": [
            "Requirement already satisfied: cobra in /usr/local/lib/python3.11/dist-packages (0.29.1)\n",
            "Requirement already satisfied: appdirs~=1.4 in /usr/local/lib/python3.11/dist-packages (from cobra) (1.4.4)\n",
            "Requirement already satisfied: depinfo~=2.2 in /usr/local/lib/python3.11/dist-packages (from cobra) (2.2.0)\n",
            "Requirement already satisfied: diskcache~=5.0 in /usr/local/lib/python3.11/dist-packages (from cobra) (5.6.3)\n",
            "Requirement already satisfied: future in /usr/local/lib/python3.11/dist-packages (from cobra) (1.0.0)\n",
            "Requirement already satisfied: httpx~=0.24 in /usr/local/lib/python3.11/dist-packages (from cobra) (0.28.1)\n",
            "Requirement already satisfied: importlib-resources in /usr/local/lib/python3.11/dist-packages (from cobra) (6.5.2)\n",
            "Requirement already satisfied: numpy>=1.13 in /usr/local/lib/python3.11/dist-packages (from cobra) (1.26.4)\n",
            "Requirement already satisfied: optlang~=1.8 in /usr/local/lib/python3.11/dist-packages (from cobra) (1.8.3)\n",
            "Requirement already satisfied: pandas<3.0,>=1.0 in /usr/local/lib/python3.11/dist-packages (from cobra) (2.2.2)\n",
            "Requirement already satisfied: pydantic>=1.6 in /usr/local/lib/python3.11/dist-packages (from cobra) (2.10.6)\n",
            "Requirement already satisfied: python-libsbml~=5.19 in /usr/local/lib/python3.11/dist-packages (from cobra) (5.20.4)\n",
            "Requirement already satisfied: rich>=8.0 in /usr/local/lib/python3.11/dist-packages (from cobra) (13.9.4)\n",
            "Requirement already satisfied: ruamel.yaml~=0.16 in /usr/local/lib/python3.11/dist-packages (from cobra) (0.18.10)\n",
            "Requirement already satisfied: swiglpk in /usr/local/lib/python3.11/dist-packages (from cobra) (5.0.12)\n",
            "Requirement already satisfied: anyio in /usr/local/lib/python3.11/dist-packages (from httpx~=0.24->cobra) (3.7.1)\n",
            "Requirement already satisfied: certifi in /usr/local/lib/python3.11/dist-packages (from httpx~=0.24->cobra) (2025.1.31)\n",
            "Requirement already satisfied: httpcore==1.* in /usr/local/lib/python3.11/dist-packages (from httpx~=0.24->cobra) (1.0.7)\n",
            "Requirement already satisfied: idna in /usr/local/lib/python3.11/dist-packages (from httpx~=0.24->cobra) (3.10)\n",
            "Requirement already satisfied: h11<0.15,>=0.13 in /usr/local/lib/python3.11/dist-packages (from httpcore==1.*->httpx~=0.24->cobra) (0.14.0)\n",
            "Requirement already satisfied: sympy>=1.12.0 in /usr/local/lib/python3.11/dist-packages (from optlang~=1.8->cobra) (1.13.1)\n",
            "Requirement already satisfied: python-dateutil>=2.8.2 in /usr/local/lib/python3.11/dist-packages (from pandas<3.0,>=1.0->cobra) (2.8.2)\n",
            "Requirement already satisfied: pytz>=2020.1 in /usr/local/lib/python3.11/dist-packages (from pandas<3.0,>=1.0->cobra) (2025.1)\n",
            "Requirement already satisfied: tzdata>=2022.7 in /usr/local/lib/python3.11/dist-packages (from pandas<3.0,>=1.0->cobra) (2025.1)\n",
            "Requirement already satisfied: annotated-types>=0.6.0 in /usr/local/lib/python3.11/dist-packages (from pydantic>=1.6->cobra) (0.7.0)\n",
            "Requirement already satisfied: pydantic-core==2.27.2 in /usr/local/lib/python3.11/dist-packages (from pydantic>=1.6->cobra) (2.27.2)\n",
            "Requirement already satisfied: typing-extensions>=4.12.2 in /usr/local/lib/python3.11/dist-packages (from pydantic>=1.6->cobra) (4.12.2)\n",
            "Requirement already satisfied: markdown-it-py>=2.2.0 in /usr/local/lib/python3.11/dist-packages (from rich>=8.0->cobra) (3.0.0)\n",
            "Requirement already satisfied: pygments<3.0.0,>=2.13.0 in /usr/local/lib/python3.11/dist-packages (from rich>=8.0->cobra) (2.18.0)\n",
            "Requirement already satisfied: ruamel.yaml.clib>=0.2.7 in /usr/local/lib/python3.11/dist-packages (from ruamel.yaml~=0.16->cobra) (0.2.12)\n",
            "Requirement already satisfied: mdurl~=0.1 in /usr/local/lib/python3.11/dist-packages (from markdown-it-py>=2.2.0->rich>=8.0->cobra) (0.1.2)\n",
            "Requirement already satisfied: six>=1.5 in /usr/local/lib/python3.11/dist-packages (from python-dateutil>=2.8.2->pandas<3.0,>=1.0->cobra) (1.17.0)\n",
            "Requirement already satisfied: mpmath<1.4,>=1.1.0 in /usr/local/lib/python3.11/dist-packages (from sympy>=1.12.0->optlang~=1.8->cobra) (1.3.0)\n",
            "Requirement already satisfied: sniffio>=1.1 in /usr/local/lib/python3.11/dist-packages (from anyio->httpx~=0.24->cobra) (1.3.1)\n",
            "Requirement already satisfied: dnngior in /usr/local/lib/python3.11/dist-packages (0.0.5)\n"
          ]
        }
      ]
    },
    {
      "cell_type": "code",
      "source": [
        "# @title\n",
        "import os\n",
        "def create_gurobi_license():\n",
        "    license_content = (\n",
        "        \"# Gurobi WLS license file\\n\"\n",
        "        \"# Your credentials are private and should not be shared or copied to public repositories.\\n\"\n",
        "        \"# Visit https://license.gurobi.com/manager/doc/overview for more information.\\n\"\n",
        "        \"WLSACCESSID=1fedf73b-9471-4da8-bdc7-2aaacf2e30f3\\n\"\n",
        "        \"WLSSECRET=3bc7d209-a4ec-4195-98be-4b254f181512\\n\"\n",
        "        \"LICENSEID=940603\"\n",
        "    )\n",
        "    with open(\"/content/licenses/gurobi.lic\", \"w\") as f:\n",
        "        f.write(license_content)\n",
        "    print(\"License file created at /content/licenses/gurobi.lic\")\n",
        "\n",
        "\n",
        "\n",
        "# Create directory for the license\n",
        "os.makedirs(\"/content/licenses\", exist_ok=True)\n",
        "\n",
        "# Generate the license file\n",
        "create_gurobi_license()\n",
        "\n",
        "#add to path\n",
        "os.environ['GRB_LICENSE_FILE'] = '/content/licenses/gurobi.lic'\n",
        "\n",
        "!pip install gurobipy"
      ],
      "metadata": {
        "id": "_sqCJuwTdLKG",
        "outputId": "7deec621-bf67-4423-a91b-600f585a6447",
        "colab": {
          "base_uri": "https://localhost:8080/"
        }
      },
      "execution_count": 2,
      "outputs": [
        {
          "output_type": "stream",
          "name": "stdout",
          "text": [
            "License file created at /content/licenses/gurobi.lic\n",
            "Requirement already satisfied: gurobipy in /usr/local/lib/python3.11/dist-packages (12.0.1)\n"
          ]
        }
      ]
    },
    {
      "cell_type": "code",
      "source": [
        "from google.colab import drive\n",
        "drive.mount('/content/drive/')"
      ],
      "metadata": {
        "id": "1S-0-ShJcWnU",
        "outputId": "0a62a028-260f-4d44-b261-88098aa5683f",
        "colab": {
          "base_uri": "https://localhost:8080/"
        }
      },
      "execution_count": 3,
      "outputs": [
        {
          "output_type": "stream",
          "name": "stdout",
          "text": [
            "Drive already mounted at /content/drive/; to attempt to forcibly remount, call drive.mount(\"/content/drive/\", force_remount=True).\n"
          ]
        }
      ]
    },
    {
      "cell_type": "code",
      "source": [
        "cd /content/drive/MyDrive/Antony"
      ],
      "metadata": {
        "id": "f1ZLti_gcmW6",
        "outputId": "2c001d7f-d1ab-4e4b-a9f1-61205f7ca0ec",
        "colab": {
          "base_uri": "https://localhost:8080/"
        }
      },
      "execution_count": 4,
      "outputs": [
        {
          "output_type": "stream",
          "name": "stdout",
          "text": [
            "/content/drive/MyDrive/Antony\n"
          ]
        }
      ]
    },
    {
      "cell_type": "markdown",
      "metadata": {
        "id": "cgA4LKFjcSAP"
      },
      "source": [
        "### Gapfilling a model with a complete medium"
      ]
    },
    {
      "cell_type": "markdown",
      "metadata": {
        "id": "HZVTBTTVcSAQ"
      },
      "source": [
        "Loading depencies"
      ]
    },
    {
      "cell_type": "code",
      "execution_count": 5,
      "metadata": {
        "id": "-Ajq7ymow_oo",
        "outputId": "922dd10e-19a5-4673-ad8e-e3b08fd02419",
        "colab": {
          "base_uri": "https://localhost:8080/"
        }
      },
      "outputs": [
        {
          "output_type": "stream",
          "name": "stdout",
          "text": [
            "Set parameter WLSAccessID\n",
            "Set parameter WLSSecret\n",
            "Set parameter LicenseID to value 940603\n",
            "Academic license 940603 - for non-commercial use only - registered to da___@gmail.com\n",
            "WARNING: To enable the NN_Trainer script, you need to install tensorflow <https://www.tensorflow.org/install>\n",
            "The rest of dnngior features can be used without it.\n"
          ]
        }
      ],
      "source": [
        "from cobra.io import read_sbml_model\n",
        "from dnngior.gapfill_class import *\n",
        "from dnngior.variables import *\n",
        "from dnngior.NN_Predictor import NN\n",
        "import pandas as pd"
      ]
    },
    {
      "cell_type": "markdown",
      "metadata": {
        "id": "uX_HQACicSAS"
      },
      "source": [
        "Let's get the Bifidobacterium model we have been working with last time"
      ]
    },
    {
      "cell_type": "code",
      "execution_count": 6,
      "metadata": {
        "id": "UpgM7rDtcSAS",
        "outputId": "49c6d253-3e61-4b31-971b-432dd3c8edd7",
        "colab": {
          "base_uri": "https://localhost:8080/",
          "height": 239
        }
      },
      "outputs": [
        {
          "output_type": "stream",
          "name": "stderr",
          "text": [
            "ERROR:cobra.io.sbml:'' is not a valid SBML 'SId'.\n"
          ]
        },
        {
          "output_type": "execute_result",
          "data": {
            "text/plain": [
              "<cobra.summary.model_summary.ModelSummary at 0x79b1351a0d50>"
            ],
            "text/html": [
              "<h3>Objective</h3><p>1.0 bio1 = 0.0</p><h4>Uptake</h4><table border=\"1\" class=\"dataframe\">\n",
              "  <thead>\n",
              "    <tr style=\"text-align: right;\">\n",
              "      <th>Metabolite</th>\n",
              "      <th>Reaction</th>\n",
              "      <th>Flux</th>\n",
              "      <th>C-Number</th>\n",
              "      <th>C-Flux</th>\n",
              "    </tr>\n",
              "  </thead>\n",
              "  <tbody>\n",
              "  </tbody>\n",
              "</table><h4>Secretion</h4><table border=\"1\" class=\"dataframe\">\n",
              "  <thead>\n",
              "    <tr style=\"text-align: right;\">\n",
              "      <th>Metabolite</th>\n",
              "      <th>Reaction</th>\n",
              "      <th>Flux</th>\n",
              "      <th>C-Number</th>\n",
              "      <th>C-Flux</th>\n",
              "    </tr>\n",
              "  </thead>\n",
              "  <tbody>\n",
              "  </tbody>\n",
              "</table>"
            ]
          },
          "metadata": {},
          "execution_count": 6
        }
      ],
      "source": [
        "path_to_draft_model = \"Bifidobacterium adolescentis_atcc_15703.sbml\"\n",
        "draft_model = read_sbml_model(path_to_draft_model)\n",
        "draft_model.summary()"
      ]
    },
    {
      "cell_type": "markdown",
      "metadata": {
        "id": "qlfjtRXucSAT"
      },
      "source": [
        "If we want to gapfill on a complete medium and with the default NN, its actually quite simple. We can use the gapfill class of DNNGIOR giving the path to our draft model"
      ]
    },
    {
      "cell_type": "code",
      "execution_count": 7,
      "metadata": {
        "id": "F5--WfHqcSAU",
        "outputId": "18583c97-f3f1-4cee-b7d9-8d940f4c4501",
        "colab": {
          "base_uri": "https://localhost:8080/"
        }
      },
      "outputs": [
        {
          "output_type": "stream",
          "name": "stderr",
          "text": [
            "ERROR:cobra.io.sbml:'' is not a valid SBML 'SId'.\n",
            "ERROR:cobra.io.sbml:'' is not a valid SBML 'SId'.\n"
          ]
        },
        {
          "output_type": "stream",
          "name": "stdout",
          "text": [
            "Gap-filling database =  ModelSEED\n"
          ]
        },
        {
          "output_type": "stream",
          "name": "stderr",
          "text": [
            "ERROR:cobra.io.sbml:No objective coefficients in model. Unclear what should be optimized\n"
          ]
        },
        {
          "output_type": "stream",
          "name": "stdout",
          "text": [
            "#reactions not found in NN-keys:  65 / 726\n",
            "Warning for adding constraints: zero or small (< 1e-13) coefficients, ignored\n",
            "Flux through biomass reaction is 1.00000000\n",
            "Flux through biomass reaction is 1.00000000\n",
            "Warning for adding constraints: zero or small (< 1e-13) coefficients, ignored\n",
            "\n",
            "\n",
            " condition is currently:  79156 \n",
            "\n",
            "\n",
            "Warning for adding constraints: zero or small (< 1e-13) coefficients, ignored\n",
            "\n",
            "\n",
            " condition is currently:  39578 \n",
            "\n",
            "\n",
            "Warning for adding constraints: zero or small (< 1e-13) coefficients, ignored\n",
            "\n",
            "\n",
            " condition is currently:  19789 \n",
            "\n",
            "\n",
            "Warning for adding constraints: zero or small (< 1e-13) coefficients, ignored\n",
            "\n",
            "\n",
            " condition is currently:  9894 \n",
            "\n",
            "\n",
            "Warning for adding constraints: zero or small (< 1e-13) coefficients, ignored\n",
            "\n",
            "\n",
            " condition is currently:  4947 \n",
            "\n",
            "\n",
            "Warning for adding constraints: zero or small (< 1e-13) coefficients, ignored\n",
            "\n",
            "\n",
            " condition is currently:  2473 \n",
            "\n",
            "\n",
            "Warning for adding constraints: zero or small (< 1e-13) coefficients, ignored\n",
            "\n",
            "\n",
            " condition is currently:  1236 \n",
            "\n",
            "\n",
            "Warning for adding constraints: zero or small (< 1e-13) coefficients, ignored\n",
            "\n",
            "\n",
            " condition is currently:  618 \n",
            "\n",
            "\n",
            "Warning for adding constraints: zero or small (< 1e-13) coefficients, ignored\n",
            "\n",
            "\n",
            " condition is currently:  309 \n",
            "\n",
            "\n",
            "Warning for adding constraints: zero or small (< 1e-13) coefficients, ignored\n",
            "\n",
            "\n",
            " condition is currently:  154 \n",
            "\n",
            "\n",
            "Warning for adding constraints: zero or small (< 1e-13) coefficients, ignored\n",
            "\n",
            "\n",
            " condition is currently:  77 \n",
            "\n",
            "\n",
            "Warning for adding constraints: zero or small (< 1e-13) coefficients, ignored\n",
            "\n",
            "\n",
            " condition is currently:  38 \n",
            "\n",
            "\n",
            "Warning for adding constraints: zero or small (< 1e-13) coefficients, ignored\n",
            "\n",
            "\n",
            " condition is currently:  19 \n",
            "\n",
            "\n",
            "Warning for adding constraints: zero or small (< 1e-13) coefficients, ignored\n",
            "\n",
            "\n",
            " condition is currently:  9 \n",
            "\n",
            "\n",
            "Warning for adding constraints: zero or small (< 1e-13) coefficients, ignored\n",
            "\n",
            "\n",
            " condition is currently:  4 \n",
            "\n",
            "\n",
            "Warning for adding constraints: zero or small (< 1e-13) coefficients, ignored\n",
            "\n",
            "\n",
            " condition is currently:  2 \n",
            "\n",
            "\n",
            "Warning for adding constraints: zero or small (< 1e-13) coefficients, ignored\n",
            "\n",
            "\n",
            " condition is currently:  1 \n",
            "\n",
            "\n",
            "Objective value is 0.061653.\n",
            "Read LP format model from file /tmp/tmp83abp6d5.lp\n",
            "Reading time = 0.01 seconds\n",
            ": 785 rows, 1614 columns, 7118 nonzeros\n",
            "NN gapfilling added 81 new reactions\n",
            "The NN gapfilled model, comes with 807 reactions and 785 metabolites\n"
          ]
        }
      ],
      "source": [
        "gapfill_complete_medium = Gapfill(draftModel = path_to_draft_model, objectiveName = 'bio1')\n",
        "gf_model = gapfill_complete_medium.gapfilledModel"
      ]
    },
    {
      "cell_type": "code",
      "execution_count": 8,
      "metadata": {
        "id": "6_aqx0UjcSAU",
        "outputId": "1cded2a9-437e-4513-9eab-42b1d03b255e",
        "colab": {
          "base_uri": "https://localhost:8080/",
          "height": 1000
        }
      },
      "outputs": [
        {
          "output_type": "execute_result",
          "data": {
            "text/plain": [
              "<cobra.summary.model_summary.ModelSummary at 0x79b12a298190>"
            ],
            "text/html": [
              "<h3>Objective</h3><p>1.0 bio1 = 61.65259806105101</p><h4>Uptake</h4><table border=\"1\" class=\"dataframe\">\n",
              "  <thead>\n",
              "    <tr style=\"text-align: right;\">\n",
              "      <th>Metabolite</th>\n",
              "      <th>Reaction</th>\n",
              "      <th>Flux</th>\n",
              "      <th>C-Number</th>\n",
              "      <th>C-Flux</th>\n",
              "    </tr>\n",
              "  </thead>\n",
              "  <tbody>\n",
              "    <tr>\n",
              "      <td>cpd00028_e0</td>\n",
              "      <td>EX_cpd00028_e0</td>\n",
              "      <td>0.4434</td>\n",
              "      <td>34</td>\n",
              "      <td>0.07%</td>\n",
              "    </tr>\n",
              "    <tr>\n",
              "      <td>cpd00030_e0</td>\n",
              "      <td>EX_cpd00030_e0</td>\n",
              "      <td>0.4434</td>\n",
              "      <td>0</td>\n",
              "      <td>0.00%</td>\n",
              "    </tr>\n",
              "    <tr>\n",
              "      <td>cpd00034_e0</td>\n",
              "      <td>EX_cpd00034_e0</td>\n",
              "      <td>0.4434</td>\n",
              "      <td>0</td>\n",
              "      <td>0.00%</td>\n",
              "    </tr>\n",
              "    <tr>\n",
              "      <td>cpd00051_e0</td>\n",
              "      <td>EX_cpd00051_e0</td>\n",
              "      <td>11.91</td>\n",
              "      <td>6</td>\n",
              "      <td>0.34%</td>\n",
              "    </tr>\n",
              "    <tr>\n",
              "      <td>cpd00053_e0</td>\n",
              "      <td>EX_cpd00053_e0</td>\n",
              "      <td>358.2</td>\n",
              "      <td>5</td>\n",
              "      <td>8.58%</td>\n",
              "    </tr>\n",
              "    <tr>\n",
              "      <td>cpd00058_e0</td>\n",
              "      <td>EX_cpd00058_e0</td>\n",
              "      <td>0.4434</td>\n",
              "      <td>0</td>\n",
              "      <td>0.00%</td>\n",
              "    </tr>\n",
              "    <tr>\n",
              "      <td>cpd00060_e0</td>\n",
              "      <td>EX_cpd00060_e0</td>\n",
              "      <td>7.219</td>\n",
              "      <td>5</td>\n",
              "      <td>0.17%</td>\n",
              "    </tr>\n",
              "    <tr>\n",
              "      <td>cpd00063_e0</td>\n",
              "      <td>EX_cpd00063_e0</td>\n",
              "      <td>0.4434</td>\n",
              "      <td>0</td>\n",
              "      <td>0.00%</td>\n",
              "    </tr>\n",
              "    <tr>\n",
              "      <td>cpd00065_e0</td>\n",
              "      <td>EX_cpd00065_e0</td>\n",
              "      <td>3.355</td>\n",
              "      <td>11</td>\n",
              "      <td>0.18%</td>\n",
              "    </tr>\n",
              "    <tr>\n",
              "      <td>cpd00066_e0</td>\n",
              "      <td>EX_cpd00066_e0</td>\n",
              "      <td>10.85</td>\n",
              "      <td>9</td>\n",
              "      <td>0.47%</td>\n",
              "    </tr>\n",
              "    <tr>\n",
              "      <td>cpd00067_e0</td>\n",
              "      <td>EX_cpd00067_e0</td>\n",
              "      <td>73.83</td>\n",
              "      <td>0</td>\n",
              "      <td>0.00%</td>\n",
              "    </tr>\n",
              "    <tr>\n",
              "      <td>cpd00069_e0</td>\n",
              "      <td>EX_cpd00069_e0</td>\n",
              "      <td>6.836</td>\n",
              "      <td>9</td>\n",
              "      <td>0.29%</td>\n",
              "    </tr>\n",
              "    <tr>\n",
              "      <td>cpd00082_e0</td>\n",
              "      <td>EX_cpd00082_e0</td>\n",
              "      <td>998.5</td>\n",
              "      <td>6</td>\n",
              "      <td>28.70%</td>\n",
              "    </tr>\n",
              "    <tr>\n",
              "      <td>cpd00099_e0</td>\n",
              "      <td>EX_cpd00099_e0</td>\n",
              "      <td>0.4434</td>\n",
              "      <td>0</td>\n",
              "      <td>0.00%</td>\n",
              "    </tr>\n",
              "    <tr>\n",
              "      <td>cpd00104_e0</td>\n",
              "      <td>EX_cpd00104_e0</td>\n",
              "      <td>0.4434</td>\n",
              "      <td>10</td>\n",
              "      <td>0.02%</td>\n",
              "    </tr>\n",
              "    <tr>\n",
              "      <td>cpd00107_e0</td>\n",
              "      <td>EX_cpd00107_e0</td>\n",
              "      <td>21.39</td>\n",
              "      <td>6</td>\n",
              "      <td>0.61%</td>\n",
              "    </tr>\n",
              "    <tr>\n",
              "      <td>cpd00156_e0</td>\n",
              "      <td>EX_cpd00156_e0</td>\n",
              "      <td>18.94</td>\n",
              "      <td>5</td>\n",
              "      <td>0.45%</td>\n",
              "    </tr>\n",
              "    <tr>\n",
              "      <td>cpd00166_e0</td>\n",
              "      <td>EX_cpd00166_e0</td>\n",
              "      <td>0.4434</td>\n",
              "      <td>72</td>\n",
              "      <td>0.15%</td>\n",
              "    </tr>\n",
              "    <tr>\n",
              "      <td>cpd00205_e0</td>\n",
              "      <td>EX_cpd00205_e0</td>\n",
              "      <td>0.4434</td>\n",
              "      <td>0</td>\n",
              "      <td>0.00%</td>\n",
              "    </tr>\n",
              "    <tr>\n",
              "      <td>cpd00220_e0</td>\n",
              "      <td>EX_cpd00220_e0</td>\n",
              "      <td>0.8867</td>\n",
              "      <td>17</td>\n",
              "      <td>0.07%</td>\n",
              "    </tr>\n",
              "    <tr>\n",
              "      <td>cpd00254_e0</td>\n",
              "      <td>EX_cpd00254_e0</td>\n",
              "      <td>0.4434</td>\n",
              "      <td>0</td>\n",
              "      <td>0.00%</td>\n",
              "    </tr>\n",
              "    <tr>\n",
              "      <td>cpd00264_e0</td>\n",
              "      <td>EX_cpd00264_e0</td>\n",
              "      <td>0.4434</td>\n",
              "      <td>7</td>\n",
              "      <td>0.01%</td>\n",
              "    </tr>\n",
              "    <tr>\n",
              "      <td>cpd00276_e0</td>\n",
              "      <td>EX_cpd00276_e0</td>\n",
              "      <td>1000</td>\n",
              "      <td>6</td>\n",
              "      <td>28.75%</td>\n",
              "    </tr>\n",
              "    <tr>\n",
              "      <td>cpd00305_e0</td>\n",
              "      <td>EX_cpd00305_e0</td>\n",
              "      <td>0.4434</td>\n",
              "      <td>12</td>\n",
              "      <td>0.03%</td>\n",
              "    </tr>\n",
              "    <tr>\n",
              "      <td>cpd00322_e0</td>\n",
              "      <td>EX_cpd00322_e0</td>\n",
              "      <td>16.65</td>\n",
              "      <td>6</td>\n",
              "      <td>0.48%</td>\n",
              "    </tr>\n",
              "    <tr>\n",
              "      <td>cpd01017_e0</td>\n",
              "      <td>EX_cpd01017_e0</td>\n",
              "      <td>3.638</td>\n",
              "      <td>5</td>\n",
              "      <td>0.09%</td>\n",
              "    </tr>\n",
              "    <tr>\n",
              "      <td>cpd01329_e0</td>\n",
              "      <td>EX_cpd01329_e0</td>\n",
              "      <td>166.9</td>\n",
              "      <td>36</td>\n",
              "      <td>28.78%</td>\n",
              "    </tr>\n",
              "    <tr>\n",
              "      <td>cpd02229_e0</td>\n",
              "      <td>EX_cpd02229_e0</td>\n",
              "      <td>0.1907</td>\n",
              "      <td>55</td>\n",
              "      <td>0.05%</td>\n",
              "    </tr>\n",
              "    <tr>\n",
              "      <td>cpd10515_e0</td>\n",
              "      <td>EX_cpd10515_e0</td>\n",
              "      <td>0.8867</td>\n",
              "      <td>0</td>\n",
              "      <td>0.00%</td>\n",
              "    </tr>\n",
              "    <tr>\n",
              "      <td>cpd10516_e0</td>\n",
              "      <td>EX_cpd10516_e0</td>\n",
              "      <td>0.4434</td>\n",
              "      <td>0</td>\n",
              "      <td>0.00%</td>\n",
              "    </tr>\n",
              "    <tr>\n",
              "      <td>cpd11217_e0</td>\n",
              "      <td>EX_cpd11217_e0</td>\n",
              "      <td>0.1612</td>\n",
              "      <td>32</td>\n",
              "      <td>0.02%</td>\n",
              "    </tr>\n",
              "    <tr>\n",
              "      <td>cpd11606_e0</td>\n",
              "      <td>EX_cpd11606_e0</td>\n",
              "      <td>0.6554</td>\n",
              "      <td>46</td>\n",
              "      <td>0.14%</td>\n",
              "    </tr>\n",
              "    <tr>\n",
              "      <td>cpd15311_e0</td>\n",
              "      <td>EX_cpd15311_e0</td>\n",
              "      <td>0.763</td>\n",
              "      <td>39</td>\n",
              "      <td>0.14%</td>\n",
              "    </tr>\n",
              "    <tr>\n",
              "      <td>cpd15511_e0</td>\n",
              "      <td>EX_cpd15511_e0</td>\n",
              "      <td>0.09537</td>\n",
              "      <td>80</td>\n",
              "      <td>0.04%</td>\n",
              "    </tr>\n",
              "    <tr>\n",
              "      <td>cpd15533_e0</td>\n",
              "      <td>EX_cpd15533_e0</td>\n",
              "      <td>1.546</td>\n",
              "      <td>41</td>\n",
              "      <td>0.30%</td>\n",
              "    </tr>\n",
              "    <tr>\n",
              "      <td>cpd15540_e0</td>\n",
              "      <td>EX_cpd15540_e0</td>\n",
              "      <td>4.639</td>\n",
              "      <td>42</td>\n",
              "      <td>0.93%</td>\n",
              "    </tr>\n",
              "    <tr>\n",
              "      <td>cpd15560_e0</td>\n",
              "      <td>EX_cpd15560_e0</td>\n",
              "      <td>0.4434</td>\n",
              "      <td>49</td>\n",
              "      <td>0.10%</td>\n",
              "    </tr>\n",
              "    <tr>\n",
              "      <td>cpd17041_c0</td>\n",
              "      <td>rxn13782_c0</td>\n",
              "      <td>61.65</td>\n",
              "      <td>0</td>\n",
              "      <td>0.00%</td>\n",
              "    </tr>\n",
              "    <tr>\n",
              "      <td>cpd17042_c0</td>\n",
              "      <td>rxn13783_c0</td>\n",
              "      <td>61.65</td>\n",
              "      <td>0</td>\n",
              "      <td>0.00%</td>\n",
              "    </tr>\n",
              "    <tr>\n",
              "      <td>cpd17043_c0</td>\n",
              "      <td>rxn13784_c0</td>\n",
              "      <td>61.65</td>\n",
              "      <td>0</td>\n",
              "      <td>0.00%</td>\n",
              "    </tr>\n",
              "  </tbody>\n",
              "</table><h4>Secretion</h4><table border=\"1\" class=\"dataframe\">\n",
              "  <thead>\n",
              "    <tr style=\"text-align: right;\">\n",
              "      <th>Metabolite</th>\n",
              "      <th>Reaction</th>\n",
              "      <th>Flux</th>\n",
              "      <th>C-Number</th>\n",
              "      <th>C-Flux</th>\n",
              "    </tr>\n",
              "  </thead>\n",
              "  <tbody>\n",
              "    <tr>\n",
              "      <td>cpd00001_e0</td>\n",
              "      <td>EX_cpd00001_e0</td>\n",
              "      <td>-1000</td>\n",
              "      <td>0</td>\n",
              "      <td>0.00%</td>\n",
              "    </tr>\n",
              "    <tr>\n",
              "      <td>cpd00007_e0</td>\n",
              "      <td>EX_cpd00007_e0</td>\n",
              "      <td>-0.1108</td>\n",
              "      <td>0</td>\n",
              "      <td>0.00%</td>\n",
              "    </tr>\n",
              "    <tr>\n",
              "      <td>cpd00011_e0</td>\n",
              "      <td>EX_cpd00011_e0</td>\n",
              "      <td>-789.3</td>\n",
              "      <td>1</td>\n",
              "      <td>3.76%</td>\n",
              "    </tr>\n",
              "    <tr>\n",
              "      <td>cpd00013_e0</td>\n",
              "      <td>EX_cpd00013_e0</td>\n",
              "      <td>-217.9</td>\n",
              "      <td>0</td>\n",
              "      <td>0.00%</td>\n",
              "    </tr>\n",
              "    <tr>\n",
              "      <td>cpd00027_e0</td>\n",
              "      <td>EX_cpd00027_e0</td>\n",
              "      <td>-1000</td>\n",
              "      <td>6</td>\n",
              "      <td>28.60%</td>\n",
              "    </tr>\n",
              "    <tr>\n",
              "      <td>cpd00100_e0</td>\n",
              "      <td>EX_cpd00100_e0</td>\n",
              "      <td>-1000</td>\n",
              "      <td>3</td>\n",
              "      <td>14.30%</td>\n",
              "    </tr>\n",
              "    <tr>\n",
              "      <td>cpd00122_e0</td>\n",
              "      <td>EX_cpd00122_e0</td>\n",
              "      <td>-975</td>\n",
              "      <td>8</td>\n",
              "      <td>37.18%</td>\n",
              "    </tr>\n",
              "    <tr>\n",
              "      <td>cpd00129_e0</td>\n",
              "      <td>EX_cpd00129_e0</td>\n",
              "      <td>-318.3</td>\n",
              "      <td>5</td>\n",
              "      <td>7.59%</td>\n",
              "    </tr>\n",
              "    <tr>\n",
              "      <td>cpd00175_e0</td>\n",
              "      <td>EX_cpd00175_e0</td>\n",
              "      <td>-104.4</td>\n",
              "      <td>17</td>\n",
              "      <td>8.46%</td>\n",
              "    </tr>\n",
              "    <tr>\n",
              "      <td>cpd03422_e0</td>\n",
              "      <td>EX_cpd03422_e0</td>\n",
              "      <td>-0.4434</td>\n",
              "      <td>48</td>\n",
              "      <td>0.10%</td>\n",
              "    </tr>\n",
              "    <tr>\n",
              "      <td>cpd11416_c0</td>\n",
              "      <td>SK_cpd11416_c0</td>\n",
              "      <td>-61.65</td>\n",
              "      <td>0</td>\n",
              "      <td>0.00%</td>\n",
              "    </tr>\n",
              "  </tbody>\n",
              "</table>"
            ]
          },
          "metadata": {},
          "execution_count": 8
        }
      ],
      "source": [
        "gf_model.summary()"
      ]
    },
    {
      "cell_type": "code",
      "execution_count": 9,
      "metadata": {
        "id": "VlYo8HCDcSAV",
        "outputId": "26108e80-8e18-46a1-fdd0-40fe3ed2db39",
        "colab": {
          "base_uri": "https://localhost:8080/"
        }
      },
      "outputs": [
        {
          "output_type": "stream",
          "name": "stdout",
          "text": [
            "Number of reactions added: 81\n"
          ]
        }
      ],
      "source": [
        "print(\"Number of reactions added:\", len(gapfill_complete_medium.added_reactions))"
      ]
    },
    {
      "cell_type": "markdown",
      "metadata": {
        "id": "X0hr1bhCcSAW"
      },
      "source": [
        "In principle this means we are done, let get a beer :)\n",
        "\n",
        "But maybe you still want to learn something about how DNNGIOR works and what else we can do."
      ]
    },
    {
      "cell_type": "markdown",
      "metadata": {
        "id": "3bCJ5S4gcSAW"
      },
      "source": [
        "### How does DNNGIOR work\n",
        "\n",
        "DNNGIOR gapfilling takes two steps:\n",
        "1. Make a prediction based on the reactions in the draft model\n",
        "2. Use these predictions to find weigh the solutions of the linear programming algorythm\n",
        "\n",
        "Lets have a look at these predictions, we can load in the neural network:"
      ]
    },
    {
      "cell_type": "code",
      "execution_count": 10,
      "metadata": {
        "id": "wL1_Cnd5cSAX"
      },
      "outputs": [],
      "source": [
        "NN_MSEED = NN(path=TRAINED_NN_MSEED)"
      ]
    },
    {
      "cell_type": "markdown",
      "metadata": {
        "id": "0MLcVfEXcSAX"
      },
      "source": [
        "and make a prediction for our model"
      ]
    },
    {
      "cell_type": "code",
      "execution_count": 11,
      "metadata": {
        "id": "DYpjf-oXcSAY",
        "outputId": "f46a3796-ccb1-41c8-f309-6da7650f4b07",
        "colab": {
          "base_uri": "https://localhost:8080/"
        }
      },
      "outputs": [
        {
          "output_type": "stream",
          "name": "stdout",
          "text": [
            "#reactions not found in NN-keys:  65 / 726\n"
          ]
        }
      ],
      "source": [
        "prediction = NN_MSEED.predict(draft_model)"
      ]
    },
    {
      "cell_type": "markdown",
      "metadata": {
        "id": "_LXoBsSYcSAY"
      },
      "source": [
        "This will give us a prediction for what reactions should be present in the gapfilled model."
      ]
    },
    {
      "cell_type": "code",
      "execution_count": 12,
      "metadata": {
        "id": "G6dJMAgtcSAY",
        "outputId": "7b48459e-efc2-4c2c-dbf5-760016684f37",
        "colab": {
          "base_uri": "https://localhost:8080/",
          "height": 447
        }
      },
      "outputs": [
        {
          "output_type": "execute_result",
          "data": {
            "text/plain": [
              "<Axes: ylabel='Frequency'>"
            ]
          },
          "metadata": {},
          "execution_count": 12
        },
        {
          "output_type": "display_data",
          "data": {
            "text/plain": [
              "<Figure size 640x480 with 1 Axes>"
            ],
            "image/png": "[encoded data removed]"
          },
          "metadata": {}
        }
      ],
      "source": [
        "pd.Series(prediction).plot.hist(bins=100, alpha=0.5, color='r', label='MSEED')"
      ]
    },
    {
      "cell_type": "markdown",
      "metadata": {
        "id": "l5b_e3PFcSAZ"
      },
      "source": [
        "These are part of the microbial reactome (all the reactions that were present), as the network cannot make predictions for reactions it has never seen it will not give a prediction for those. All other reactions will get the default cost which is normally set to 1.0 but can be changed if you want to prioritize reactions from the reactome:"
      ]
    },
    {
      "cell_type": "code",
      "execution_count": 13,
      "metadata": {
        "id": "aMQFLTSmcSAZ",
        "outputId": "5da8874b-8b0b-44bf-c0e1-63e476549fdd",
        "colab": {
          "base_uri": "https://localhost:8080/"
        }
      },
      "outputs": [
        {
          "output_type": "stream",
          "name": "stderr",
          "text": [
            "ERROR:cobra.io.sbml:'' is not a valid SBML 'SId'.\n",
            "ERROR:cobra.io.sbml:'' is not a valid SBML 'SId'.\n"
          ]
        },
        {
          "output_type": "stream",
          "name": "stdout",
          "text": [
            "Gap-filling database =  ModelSEED\n"
          ]
        },
        {
          "output_type": "stream",
          "name": "stderr",
          "text": [
            "ERROR:cobra.io.sbml:No objective coefficients in model. Unclear what should be optimized\n"
          ]
        },
        {
          "output_type": "stream",
          "name": "stdout",
          "text": [
            "#reactions not found in NN-keys:  65 / 726\n"
          ]
        }
      ],
      "source": [
        "gapfill_higher_def_cost = Gapfill(draftModel = path_to_draft_model, objectiveName = 'bio1', default_cost=10, gapfill=False)"
      ]
    },
    {
      "cell_type": "code",
      "execution_count": 14,
      "metadata": {
        "id": "2pPiI1zIcSAa",
        "outputId": "224d2c36-5818-41e3-c243-899d79dac78c",
        "colab": {
          "base_uri": "https://localhost:8080/",
          "height": 447
        }
      },
      "outputs": [
        {
          "output_type": "execute_result",
          "data": {
            "text/plain": [
              "<Axes: ylabel='Frequency'>"
            ]
          },
          "metadata": {},
          "execution_count": 14
        },
        {
          "output_type": "display_data",
          "data": {
            "text/plain": [
              "<Figure size 640x480 with 1 Axes>"
            ],
            "image/png": "[encoded data removed]"
          },
          "metadata": {}
        }
      ],
      "source": [
        "w = gapfill_higher_def_cost.weights\n",
        "pd.Series(w).plot.hist(bins=100, label='Higher default cost', logy=True)"
      ]
    },
    {
      "cell_type": "code",
      "execution_count": 15,
      "metadata": {
        "id": "XJ-S1mBecSAa",
        "outputId": "f1c85673-fac6-4ba1-d7f4-0d038429e90e",
        "colab": {
          "base_uri": "https://localhost:8080/"
        }
      },
      "outputs": [
        {
          "output_type": "stream",
          "name": "stdout",
          "text": [
            "Warning for adding constraints: zero or small (< 1e-13) coefficients, ignored\n",
            "Flux through biomass reaction is 1.00000000\n",
            "Flux through biomass reaction is 1.00000000\n",
            "Warning for adding constraints: zero or small (< 1e-13) coefficients, ignored\n",
            "\n",
            "\n",
            " condition is currently:  79156 \n",
            "\n",
            "\n",
            "Warning for adding constraints: zero or small (< 1e-13) coefficients, ignored\n",
            "\n",
            "\n",
            " condition is currently:  39578 \n",
            "\n",
            "\n",
            "Warning for adding constraints: zero or small (< 1e-13) coefficients, ignored\n",
            "\n",
            "\n",
            " condition is currently:  19789 \n",
            "\n",
            "\n",
            "Warning for adding constraints: zero or small (< 1e-13) coefficients, ignored\n",
            "\n",
            "\n",
            " condition is currently:  9894 \n",
            "\n",
            "\n",
            "Warning for adding constraints: zero or small (< 1e-13) coefficients, ignored\n",
            "\n",
            "\n",
            " condition is currently:  4947 \n",
            "\n",
            "\n",
            "Warning for adding constraints: zero or small (< 1e-13) coefficients, ignored\n",
            "\n",
            "\n",
            " condition is currently:  2473 \n",
            "\n",
            "\n",
            "Warning for adding constraints: zero or small (< 1e-13) coefficients, ignored\n",
            "\n",
            "\n",
            " condition is currently:  1236 \n",
            "\n",
            "\n",
            "Warning for adding constraints: zero or small (< 1e-13) coefficients, ignored\n",
            "\n",
            "\n",
            " condition is currently:  618 \n",
            "\n",
            "\n",
            "Warning for adding constraints: zero or small (< 1e-13) coefficients, ignored\n",
            "\n",
            "\n",
            " condition is currently:  309 \n",
            "\n",
            "\n",
            "Warning for adding constraints: zero or small (< 1e-13) coefficients, ignored\n",
            "\n",
            "\n",
            " condition is currently:  154 \n",
            "\n",
            "\n",
            "Warning for adding constraints: zero or small (< 1e-13) coefficients, ignored\n",
            "\n",
            "\n",
            " condition is currently:  77 \n",
            "\n",
            "\n",
            "Warning for adding constraints: zero or small (< 1e-13) coefficients, ignored\n",
            "\n",
            "\n",
            " condition is currently:  38 \n",
            "\n",
            "\n",
            "Warning for adding constraints: zero or small (< 1e-13) coefficients, ignored\n",
            "\n",
            "\n",
            " condition is currently:  19 \n",
            "\n",
            "\n",
            "Warning for adding constraints: zero or small (< 1e-13) coefficients, ignored\n",
            "\n",
            "\n",
            " condition is currently:  9 \n",
            "\n",
            "\n",
            "Warning for adding constraints: zero or small (< 1e-13) coefficients, ignored\n",
            "\n",
            "\n",
            " condition is currently:  5 \n",
            "\n",
            "\n",
            "Warning for adding constraints: zero or small (< 1e-13) coefficients, ignored\n",
            "\n",
            "\n",
            " condition is currently:  2 \n",
            "\n",
            "\n",
            "Warning for adding constraints: zero or small (< 1e-13) coefficients, ignored\n",
            "\n",
            "\n",
            " condition is currently:  1 \n",
            "\n",
            "\n",
            "Objective value is 0.020721.\n",
            "Read LP format model from file /tmp/tmp1q4gd6wi.lp\n",
            "Reading time = 0.01 seconds\n",
            ": 784 rows, 1614 columns, 7198 nonzeros\n",
            "NN gapfilling added 81 new reactions\n",
            "The NN gapfilled model, comes with 807 reactions and 784 metabolites\n",
            "Number of reactions added: 81\n"
          ]
        }
      ],
      "source": [
        "gapfill_higher_def_cost.gapfill()\n",
        "print(\"Number of reactions added:\", len(gapfill_higher_def_cost.added_reactions))"
      ]
    },
    {
      "cell_type": "markdown",
      "metadata": {
        "id": "nCmUoBzFcSAb"
      },
      "source": [
        "## Gapfilling with a different medium\n",
        "\n",
        "Often organisms dont grow in a complete medium, you can provide the gapfiller with a medium file"
      ]
    },
    {
      "cell_type": "code",
      "execution_count": 16,
      "metadata": {
        "id": "eEE4ReskcSAb"
      },
      "outputs": [],
      "source": [
        "medium_file_path = 'DNNGIOR/docs/biochemistry/Nitrogen-Nitrite_media.tsv'"
      ]
    },
    {
      "cell_type": "code",
      "execution_count": 17,
      "metadata": {
        "id": "NUTg6SadcSAc",
        "outputId": "8bd0e922-2cf5-44e5-ba72-ad2073a3f853",
        "colab": {
          "base_uri": "https://localhost:8080/",
          "height": 708
        }
      },
      "outputs": [
        {
          "output_type": "execute_result",
          "data": {
            "text/plain": [
              "          id          name  concentration  minflux  maxflux\n",
              "0   cpd00027     D-Glucose          0.001     -100        5\n",
              "1   cpd00075       Nitrite          0.001     -100        5\n",
              "2   cpd00009     Phosphate          0.001     -100        5\n",
              "3   cpd00048       Sulfate          0.001     -100        5\n",
              "4   cpd00063          Ca2+          0.001     -100      100\n",
              "5   cpd00011           CO2          0.001     -100        0\n",
              "6   cpd10516           fe3          0.001     -100      100\n",
              "7   cpd00067            H+          0.001     -100      100\n",
              "8   cpd00001           H2O          0.001     -100      100\n",
              "9   cpd00205            K+          0.001     -100      100\n",
              "10  cpd00254            Mg          0.001     -100      100\n",
              "11  cpd00971           Na+          0.001     -100      100\n",
              "12  cpd00007            O2          0.001     -100      100\n",
              "13  cpd00099           Cl-          0.001     -100      100\n",
              "14  cpd00058          Cu2+          0.001     -100      100\n",
              "15  cpd00149          Co2+          0.001     -100      100\n",
              "16  cpd00030          Mn2+          0.001     -100      100\n",
              "17  cpd00034          Zn2+          0.001     -100      100\n",
              "18  cpd10515          Fe2+          0.001     -100      100\n",
              "19  cpd15432        LipidA          0.001     -100      100\n",
              "20  cpd15560  Ubiquinone-8          0.001     -100      100"
            ],
            "text/html": [
              "\n",
              "  <div id=\"df-b7c531cd-5585-49b6-9188-236fa7205927\" class=\"colab-df-container\">\n",
              "    <div>\n",
              "<style scoped>\n",
              "    .dataframe tbody tr th:only-of-type {\n",
              "        vertical-align: middle;\n",
              "    }\n",
              "\n",
              "    .dataframe tbody tr th {\n",
              "        vertical-align: top;\n",
              "    }\n",
              "\n",
              "    .dataframe thead th {\n",
              "        text-align: right;\n",
              "    }\n",
              "</style>\n",
              "<table border=\"1\" class=\"dataframe\">\n",
              "  <thead>\n",
              "    <tr style=\"text-align: right;\">\n",
              "      <th></th>\n",
              "      <th>id</th>\n",
              "      <th>name</th>\n",
              "      <th>concentration</th>\n",
              "      <th>minflux</th>\n",
              "      <th>maxflux</th>\n",
              "    </tr>\n",
              "  </thead>\n",
              "  <tbody>\n",
              "    <tr>\n",
              "      <th>0</th>\n",
              "      <td>cpd00027</td>\n",
              "      <td>D-Glucose</td>\n",
              "      <td>0.001</td>\n",
              "      <td>-100</td>\n",
              "      <td>5</td>\n",
              "    </tr>\n",
              "    <tr>\n",
              "      <th>1</th>\n",
              "      <td>cpd00075</td>\n",
              "      <td>Nitrite</td>\n",
              "      <td>0.001</td>\n",
              "      <td>-100</td>\n",
              "      <td>5</td>\n",
              "    </tr>\n",
              "    <tr>\n",
              "      <th>2</th>\n",
              "      <td>cpd00009</td>\n",
              "      <td>Phosphate</td>\n",
              "      <td>0.001</td>\n",
              "      <td>-100</td>\n",
              "      <td>5</td>\n",
              "    </tr>\n",
              "    <tr>\n",
              "      <th>3</th>\n",
              "      <td>cpd00048</td>\n",
              "      <td>Sulfate</td>\n",
              "      <td>0.001</td>\n",
              "      <td>-100</td>\n",
              "      <td>5</td>\n",
              "    </tr>\n",
              "    <tr>\n",
              "      <th>4</th>\n",
              "      <td>cpd00063</td>\n",
              "      <td>Ca2+</td>\n",
              "      <td>0.001</td>\n",
              "      <td>-100</td>\n",
              "      <td>100</td>\n",
              "    </tr>\n",
              "    <tr>\n",
              "      <th>5</th>\n",
              "      <td>cpd00011</td>\n",
              "      <td>CO2</td>\n",
              "      <td>0.001</td>\n",
              "      <td>-100</td>\n",
              "      <td>0</td>\n",
              "    </tr>\n",
              "    <tr>\n",
              "      <th>6</th>\n",
              "      <td>cpd10516</td>\n",
              "      <td>fe3</td>\n",
              "      <td>0.001</td>\n",
              "      <td>-100</td>\n",
              "      <td>100</td>\n",
              "    </tr>\n",
              "    <tr>\n",
              "      <th>7</th>\n",
              "      <td>cpd00067</td>\n",
              "      <td>H+</td>\n",
              "      <td>0.001</td>\n",
              "      <td>-100</td>\n",
              "      <td>100</td>\n",
              "    </tr>\n",
              "    <tr>\n",
              "      <th>8</th>\n",
              "      <td>cpd00001</td>\n",
              "      <td>H2O</td>\n",
              "      <td>0.001</td>\n",
              "      <td>-100</td>\n",
              "      <td>100</td>\n",
              "    </tr>\n",
              "    <tr>\n",
              "      <th>9</th>\n",
              "      <td>cpd00205</td>\n",
              "      <td>K+</td>\n",
              "      <td>0.001</td>\n",
              "      <td>-100</td>\n",
              "      <td>100</td>\n",
              "    </tr>\n",
              "    <tr>\n",
              "      <th>10</th>\n",
              "      <td>cpd00254</td>\n",
              "      <td>Mg</td>\n",
              "      <td>0.001</td>\n",
              "      <td>-100</td>\n",
              "      <td>100</td>\n",
              "    </tr>\n",
              "    <tr>\n",
              "      <th>11</th>\n",
              "      <td>cpd00971</td>\n",
              "      <td>Na+</td>\n",
              "      <td>0.001</td>\n",
              "      <td>-100</td>\n",
              "      <td>100</td>\n",
              "    </tr>\n",
              "    <tr>\n",
              "      <th>12</th>\n",
              "      <td>cpd00007</td>\n",
              "      <td>O2</td>\n",
              "      <td>0.001</td>\n",
              "      <td>-100</td>\n",
              "      <td>100</td>\n",
              "    </tr>\n",
              "    <tr>\n",
              "      <th>13</th>\n",
              "      <td>cpd00099</td>\n",
              "      <td>Cl-</td>\n",
              "      <td>0.001</td>\n",
              "      <td>-100</td>\n",
              "      <td>100</td>\n",
              "    </tr>\n",
              "    <tr>\n",
              "      <th>14</th>\n",
              "      <td>cpd00058</td>\n",
              "      <td>Cu2+</td>\n",
              "      <td>0.001</td>\n",
              "      <td>-100</td>\n",
              "      <td>100</td>\n",
              "    </tr>\n",
              "    <tr>\n",
              "      <th>15</th>\n",
              "      <td>cpd00149</td>\n",
              "      <td>Co2+</td>\n",
              "      <td>0.001</td>\n",
              "      <td>-100</td>\n",
              "      <td>100</td>\n",
              "    </tr>\n",
              "    <tr>\n",
              "      <th>16</th>\n",
              "      <td>cpd00030</td>\n",
              "      <td>Mn2+</td>\n",
              "      <td>0.001</td>\n",
              "      <td>-100</td>\n",
              "      <td>100</td>\n",
              "    </tr>\n",
              "    <tr>\n",
              "      <th>17</th>\n",
              "      <td>cpd00034</td>\n",
              "      <td>Zn2+</td>\n",
              "      <td>0.001</td>\n",
              "      <td>-100</td>\n",
              "      <td>100</td>\n",
              "    </tr>\n",
              "    <tr>\n",
              "      <th>18</th>\n",
              "      <td>cpd10515</td>\n",
              "      <td>Fe2+</td>\n",
              "      <td>0.001</td>\n",
              "      <td>-100</td>\n",
              "      <td>100</td>\n",
              "    </tr>\n",
              "    <tr>\n",
              "      <th>19</th>\n",
              "      <td>cpd15432</td>\n",
              "      <td>LipidA</td>\n",
              "      <td>0.001</td>\n",
              "      <td>-100</td>\n",
              "      <td>100</td>\n",
              "    </tr>\n",
              "    <tr>\n",
              "      <th>20</th>\n",
              "      <td>cpd15560</td>\n",
              "      <td>Ubiquinone-8</td>\n",
              "      <td>0.001</td>\n",
              "      <td>-100</td>\n",
              "      <td>100</td>\n",
              "    </tr>\n",
              "  </tbody>\n",
              "</table>\n",
              "</div>\n",
              "    <div class=\"colab-df-buttons\">\n",
              "\n",
              "  <div class=\"colab-df-container\">\n",
              "    <button class=\"colab-df-convert\" onclick=\"convertToInteractive('df-b7c531cd-5585-49b6-9188-236fa7205927')\"\n",
              "            title=\"Convert this dataframe to an interactive table.\"\n",
              "            style=\"display:none;\">\n",
              "\n",
              "  <svg xmlns=\"http://www.w3.org/2000/svg\" height=\"24px\" viewBox=\"0 -960 960 960\">\n",
              "    <path d=\"M120-120v-720h720v720H120Zm60-500h600v-160H180v160Zm220 220h160v-160H400v160Zm0 220h160v-160H400v160ZM180-400h160v-160H180v160Zm440 0h160v-160H620v160ZM180-180h160v-160H180v160Zm440 0h160v-160H620v160Z\"/>\n",
              "  </svg>\n",
              "    </button>\n",
              "\n",
              "  <style>\n",
              "    .colab-df-container {\n",
              "      display:flex;\n",
              "      gap: 12px;\n",
              "    }\n",
              "\n",
              "    .colab-df-convert {\n",
              "      background-color: #E8F0FE;\n",
              "      border: none;\n",
              "      border-radius: 50%;\n",
              "      cursor: pointer;\n",
              "      display: none;\n",
              "      fill: #1967D2;\n",
              "      height: 32px;\n",
              "      padding: 0 0 0 0;\n",
              "      width: 32px;\n",
              "    }\n",
              "\n",
              "    .colab-df-convert:hover {\n",
              "      background-color: #E2EBFA;\n",
              "      box-shadow: 0px 1px 2px rgba(60, 64, 67, 0.3), 0px 1px 3px 1px rgba(60, 64, 67, 0.15);\n",
              "      fill: #174EA6;\n",
              "    }\n",
              "\n",
              "    .colab-df-buttons div {\n",
              "      margin-bottom: 4px;\n",
              "    }\n",
              "\n",
              "    [theme=dark] .colab-df-convert {\n",
              "      background-color: #3B4455;\n",
              "      fill: #D2E3FC;\n",
              "    }\n",
              "\n",
              "    [theme=dark] .colab-df-convert:hover {\n",
              "      background-color: #434B5C;\n",
              "      box-shadow: 0px 1px 3px 1px rgba(0, 0, 0, 0.15);\n",
              "      filter: drop-shadow(0px 1px 2px rgba(0, 0, 0, 0.3));\n",
              "      fill: #FFFFFF;\n",
              "    }\n",
              "  </style>\n",
              "\n",
              "    <script>\n",
              "      const buttonEl =\n",
              "        document.querySelector('#df-b7c531cd-5585-49b6-9188-236fa7205927 button.colab-df-convert');\n",
              "      buttonEl.style.display =\n",
              "        google.colab.kernel.accessAllowed ? 'block' : 'none';\n",
              "\n",
              "      async function convertToInteractive(key) {\n",
              "        const element = document.querySelector('#df-b7c531cd-5585-49b6-9188-236fa7205927');\n",
              "        const dataTable =\n",
              "          await google.colab.kernel.invokeFunction('convertToInteractive',\n",
              "                                                    [key], {});\n",
              "        if (!dataTable) return;\n",
              "\n",
              "        const docLinkHtml = 'Like what you see? Visit the ' +\n",
              "          '<a target=\"_blank\" href=https://colab.research.google.com/notebooks/data_table.ipynb>data table notebook</a>'\n",
              "          + ' to learn more about interactive tables.';\n",
              "        element.innerHTML = '';\n",
              "        dataTable['output_type'] = 'display_data';\n",
              "        await google.colab.output.renderOutput(dataTable, element);\n",
              "        const docLink = document.createElement('div');\n",
              "        docLink.innerHTML = docLinkHtml;\n",
              "        element.appendChild(docLink);\n",
              "      }\n",
              "    </script>\n",
              "  </div>\n",
              "\n",
              "\n",
              "<div id=\"df-8887226b-52d7-473f-9029-37d6d59c8990\">\n",
              "  <button class=\"colab-df-quickchart\" onclick=\"quickchart('df-8887226b-52d7-473f-9029-37d6d59c8990')\"\n",
              "            title=\"Suggest charts\"\n",
              "            style=\"display:none;\">\n",
              "\n",
              "<svg xmlns=\"http://www.w3.org/2000/svg\" height=\"24px\"viewBox=\"0 0 24 24\"\n",
              "     width=\"24px\">\n",
              "    <g>\n",
              "        <path d=\"M19 3H5c-1.1 0-2 .9-2 2v14c0 1.1.9 2 2 2h14c1.1 0 2-.9 2-2V5c0-1.1-.9-2-2-2zM9 17H7v-7h2v7zm4 0h-2V7h2v10zm4 0h-2v-4h2v4z\"/>\n",
              "    </g>\n",
              "</svg>\n",
              "  </button>\n",
              "\n",
              "<style>\n",
              "  .colab-df-quickchart {\n",
              "      --bg-color: #E8F0FE;\n",
              "      --fill-color: #1967D2;\n",
              "      --hover-bg-color: #E2EBFA;\n",
              "      --hover-fill-color: #174EA6;\n",
              "      --disabled-fill-color: #AAA;\n",
              "      --disabled-bg-color: #DDD;\n",
              "  }\n",
              "\n",
              "  [theme=dark] .colab-df-quickchart {\n",
              "      --bg-color: #3B4455;\n",
              "      --fill-color: #D2E3FC;\n",
              "      --hover-bg-color: #434B5C;\n",
              "      --hover-fill-color: #FFFFFF;\n",
              "      --disabled-bg-color: #3B4455;\n",
              "      --disabled-fill-color: #666;\n",
              "  }\n",
              "\n",
              "  .colab-df-quickchart {\n",
              "    background-color: var(--bg-color);\n",
              "    border: none;\n",
              "    border-radius: 50%;\n",
              "    cursor: pointer;\n",
              "    display: none;\n",
              "    fill: var(--fill-color);\n",
              "    height: 32px;\n",
              "    padding: 0;\n",
              "    width: 32px;\n",
              "  }\n",
              "\n",
              "  .colab-df-quickchart:hover {\n",
              "    background-color: var(--hover-bg-color);\n",
              "    box-shadow: 0 1px 2px rgba(60, 64, 67, 0.3), 0 1px 3px 1px rgba(60, 64, 67, 0.15);\n",
              "    fill: var(--button-hover-fill-color);\n",
              "  }\n",
              "\n",
              "  .colab-df-quickchart-complete:disabled,\n",
              "  .colab-df-quickchart-complete:disabled:hover {\n",
              "    background-color: var(--disabled-bg-color);\n",
              "    fill: var(--disabled-fill-color);\n",
              "    box-shadow: none;\n",
              "  }\n",
              "\n",
              "  .colab-df-spinner {\n",
              "    border: 2px solid var(--fill-color);\n",
              "    border-color: transparent;\n",
              "    border-bottom-color: var(--fill-color);\n",
              "    animation:\n",
              "      spin 1s steps(1) infinite;\n",
              "  }\n",
              "\n",
              "  @keyframes spin {\n",
              "    0% {\n",
              "      border-color: transparent;\n",
              "      border-bottom-color: var(--fill-color);\n",
              "      border-left-color: var(--fill-color);\n",
              "    }\n",
              "    20% {\n",
              "      border-color: transparent;\n",
              "      border-left-color: var(--fill-color);\n",
              "      border-top-color: var(--fill-color);\n",
              "    }\n",
              "    30% {\n",
              "      border-color: transparent;\n",
              "      border-left-color: var(--fill-color);\n",
              "      border-top-color: var(--fill-color);\n",
              "      border-right-color: var(--fill-color);\n",
              "    }\n",
              "    40% {\n",
              "      border-color: transparent;\n",
              "      border-right-color: var(--fill-color);\n",
              "      border-top-color: var(--fill-color);\n",
              "    }\n",
              "    60% {\n",
              "      border-color: transparent;\n",
              "      border-right-color: var(--fill-color);\n",
              "    }\n",
              "    80% {\n",
              "      border-color: transparent;\n",
              "      border-right-color: var(--fill-color);\n",
              "      border-bottom-color: var(--fill-color);\n",
              "    }\n",
              "    90% {\n",
              "      border-color: transparent;\n",
              "      border-bottom-color: var(--fill-color);\n",
              "    }\n",
              "  }\n",
              "</style>\n",
              "\n",
              "  <script>\n",
              "    async function quickchart(key) {\n",
              "      const quickchartButtonEl =\n",
              "        document.querySelector('#' + key + ' button');\n",
              "      quickchartButtonEl.disabled = true;  // To prevent multiple clicks.\n",
              "      quickchartButtonEl.classList.add('colab-df-spinner');\n",
              "      try {\n",
              "        const charts = await google.colab.kernel.invokeFunction(\n",
              "            'suggestCharts', [key], {});\n",
              "      } catch (error) {\n",
              "        console.error('Error during call to suggestCharts:', error);\n",
              "      }\n",
              "      quickchartButtonEl.classList.remove('colab-df-spinner');\n",
              "      quickchartButtonEl.classList.add('colab-df-quickchart-complete');\n",
              "    }\n",
              "    (() => {\n",
              "      let quickchartButtonEl =\n",
              "        document.querySelector('#df-8887226b-52d7-473f-9029-37d6d59c8990 button');\n",
              "      quickchartButtonEl.style.display =\n",
              "        google.colab.kernel.accessAllowed ? 'block' : 'none';\n",
              "    })();\n",
              "  </script>\n",
              "</div>\n",
              "\n",
              "    </div>\n",
              "  </div>\n"
            ],
            "application/vnd.google.colaboratory.intrinsic+json": {
              "type": "dataframe",
              "summary": "{\n  \"name\": \"pd\",\n  \"rows\": 21,\n  \"fields\": [\n    {\n      \"column\": \"id\",\n      \"properties\": {\n        \"dtype\": \"string\",\n        \"num_unique_values\": 21,\n        \"samples\": [\n          \"cpd00027\",\n          \"cpd00034\",\n          \"cpd00149\"\n        ],\n        \"semantic_type\": \"\",\n        \"description\": \"\"\n      }\n    },\n    {\n      \"column\": \"name\",\n      \"properties\": {\n        \"dtype\": \"string\",\n        \"num_unique_values\": 21,\n        \"samples\": [\n          \"D-Glucose\",\n          \"Zn2+\",\n          \"Co2+\"\n        ],\n        \"semantic_type\": \"\",\n        \"description\": \"\"\n      }\n    },\n    {\n      \"column\": \"concentration\",\n      \"properties\": {\n        \"dtype\": \"number\",\n        \"std\": 4.4439065127221605e-19,\n        \"min\": 0.001,\n        \"max\": 0.001,\n        \"num_unique_values\": 1,\n        \"samples\": [\n          0.001\n        ],\n        \"semantic_type\": \"\",\n        \"description\": \"\"\n      }\n    },\n    {\n      \"column\": \"minflux\",\n      \"properties\": {\n        \"dtype\": \"number\",\n        \"std\": 0,\n        \"min\": -100,\n        \"max\": -100,\n        \"num_unique_values\": 1,\n        \"samples\": [\n          -100\n        ],\n        \"semantic_type\": \"\",\n        \"description\": \"\"\n      }\n    },\n    {\n      \"column\": \"maxflux\",\n      \"properties\": {\n        \"dtype\": \"number\",\n        \"std\": 41,\n        \"min\": 0,\n        \"max\": 100,\n        \"num_unique_values\": 3,\n        \"samples\": [\n          5\n        ],\n        \"semantic_type\": \"\",\n        \"description\": \"\"\n      }\n    }\n  ]\n}"
            }
          },
          "metadata": {},
          "execution_count": 17
        }
      ],
      "source": [
        "pd.read_csv(medium_file_path, sep='\\t')"
      ]
    },
    {
      "cell_type": "code",
      "execution_count": 18,
      "metadata": {
        "id": "uwR5w-lRcSAc",
        "outputId": "5987aef3-09e8-43eb-81cf-5efe6f87cffe",
        "colab": {
          "base_uri": "https://localhost:8080/"
        }
      },
      "outputs": [
        {
          "output_type": "stream",
          "name": "stderr",
          "text": [
            "ERROR:cobra.io.sbml:'' is not a valid SBML 'SId'.\n",
            "ERROR:cobra.io.sbml:'' is not a valid SBML 'SId'.\n"
          ]
        },
        {
          "output_type": "stream",
          "name": "stdout",
          "text": [
            "Gap-filling database =  ModelSEED\n"
          ]
        },
        {
          "output_type": "stream",
          "name": "stderr",
          "text": [
            "ERROR:cobra.io.sbml:No objective coefficients in model. Unclear what should be optimized\n"
          ]
        },
        {
          "output_type": "stream",
          "name": "stdout",
          "text": [
            "Loading medium from: DNNGIOR/docs/biochemistry/Nitrogen-Nitrite_media.tsv\n",
            "#reactions not found in NN-keys:  4 / 665\n",
            "Warning for adding constraints: zero or small (< 1e-13) coefficients, ignored\n",
            "Flux through biomass reaction is 1.00000000\n",
            "Flux through biomass reaction is 1.00000000\n",
            "Warning for adding constraints: zero or small (< 1e-13) coefficients, ignored\n",
            "\n",
            "\n",
            " condition is currently:  76914 \n",
            "\n",
            "\n",
            "Warning for adding constraints: zero or small (< 1e-13) coefficients, ignored\n",
            "\n",
            "\n",
            " condition is currently:  38457 \n",
            "\n",
            "\n",
            "Warning for adding constraints: zero or small (< 1e-13) coefficients, ignored\n",
            "\n",
            "\n",
            " condition is currently:  19228 \n",
            "\n",
            "\n",
            "Warning for adding constraints: zero or small (< 1e-13) coefficients, ignored\n",
            "\n",
            "\n",
            " condition is currently:  9614 \n",
            "\n",
            "\n",
            "Warning for adding constraints: zero or small (< 1e-13) coefficients, ignored\n",
            "\n",
            "\n",
            " condition is currently:  4807 \n",
            "\n",
            "\n",
            "Warning for adding constraints: zero or small (< 1e-13) coefficients, ignored\n",
            "\n",
            "\n",
            " condition is currently:  2403 \n",
            "\n",
            "\n",
            "Warning for adding constraints: zero or small (< 1e-13) coefficients, ignored\n",
            "\n",
            "\n",
            " condition is currently:  1201 \n",
            "\n",
            "\n",
            "Warning for adding constraints: zero or small (< 1e-13) coefficients, ignored\n",
            "\n",
            "\n",
            " condition is currently:  600 \n",
            "\n",
            "\n",
            "Warning for adding constraints: zero or small (< 1e-13) coefficients, ignored\n",
            "\n",
            "\n",
            " condition is currently:  300 \n",
            "\n",
            "\n",
            "Warning for adding constraints: zero or small (< 1e-13) coefficients, ignored\n",
            "\n",
            "\n",
            " condition is currently:  150 \n",
            "\n",
            "\n",
            "Warning for adding constraints: zero or small (< 1e-13) coefficients, ignored\n",
            "\n",
            "\n",
            " condition is currently:  75 \n",
            "\n",
            "\n",
            "Warning for adding constraints: zero or small (< 1e-13) coefficients, ignored\n",
            "\n",
            "\n",
            " condition is currently:  37 \n",
            "\n",
            "\n",
            "Warning for adding constraints: zero or small (< 1e-13) coefficients, ignored\n",
            "\n",
            "\n",
            " condition is currently:  18 \n",
            "\n",
            "\n",
            "Warning for adding constraints: zero or small (< 1e-13) coefficients, ignored\n",
            "\n",
            "\n",
            " condition is currently:  9 \n",
            "\n",
            "\n",
            "Warning for adding constraints: zero or small (< 1e-13) coefficients, ignored\n",
            "\n",
            "\n",
            " condition is currently:  4 \n",
            "\n",
            "\n",
            "Warning for adding constraints: zero or small (< 1e-13) coefficients, ignored\n",
            "\n",
            "\n",
            " condition is currently:  2 \n",
            "\n",
            "\n",
            "Warning for adding constraints: zero or small (< 1e-13) coefficients, ignored\n",
            "\n",
            "\n",
            " condition is currently:  1 \n",
            "\n",
            "\n",
            "Objective value is 0.344953.\n",
            "Read LP format model from file /tmp/tmpcuf9nivt.lp\n",
            "Reading time = 0.01 seconds\n",
            ": 865 rows, 1730 columns, 8410 nonzeros\n",
            "NN gapfilling added 200 new reactions\n",
            "The NN gapfilled model, comes with 865 reactions and 865 metabolites\n"
          ]
        }
      ],
      "source": [
        "gapfill_nit_medium = Gapfill(draftModel = path_to_draft_model, objectiveName = 'bio1', medium_file = medium_file_path)"
      ]
    },
    {
      "cell_type": "code",
      "execution_count": 19,
      "metadata": {
        "id": "ysWxbk5bcSAd",
        "outputId": "ee366d18-306a-47ac-ff29-80d79a111823",
        "colab": {
          "base_uri": "https://localhost:8080/",
          "height": 849
        }
      },
      "outputs": [
        {
          "output_type": "execute_result",
          "data": {
            "text/plain": [
              "<cobra.summary.model_summary.ModelSummary at 0x79b11a7141d0>"
            ],
            "text/html": [
              "<h3>Objective</h3><p>1.0 bio1 = 46.35275895999998</p><h4>Uptake</h4><table border=\"1\" class=\"dataframe\">\n",
              "  <thead>\n",
              "    <tr style=\"text-align: right;\">\n",
              "      <th>Metabolite</th>\n",
              "      <th>Reaction</th>\n",
              "      <th>Flux</th>\n",
              "      <th>C-Number</th>\n",
              "      <th>C-Flux</th>\n",
              "    </tr>\n",
              "  </thead>\n",
              "  <tbody>\n",
              "    <tr>\n",
              "      <td>cpd00030_e0</td>\n",
              "      <td>EX_cpd00030_e0</td>\n",
              "      <td>0.3333</td>\n",
              "      <td>0</td>\n",
              "      <td>0.00%</td>\n",
              "    </tr>\n",
              "    <tr>\n",
              "      <td>cpd00034_e0</td>\n",
              "      <td>EX_cpd00034_e0</td>\n",
              "      <td>0.3333</td>\n",
              "      <td>0</td>\n",
              "      <td>0.00%</td>\n",
              "    </tr>\n",
              "    <tr>\n",
              "      <td>cpd00058_e0</td>\n",
              "      <td>EX_cpd00058_e0</td>\n",
              "      <td>0.3333</td>\n",
              "      <td>0</td>\n",
              "      <td>0.00%</td>\n",
              "    </tr>\n",
              "    <tr>\n",
              "      <td>cpd00063_e0</td>\n",
              "      <td>EX_cpd00063_e0</td>\n",
              "      <td>0.3333</td>\n",
              "      <td>0</td>\n",
              "      <td>0.00%</td>\n",
              "    </tr>\n",
              "    <tr>\n",
              "      <td>cpd00099_e0</td>\n",
              "      <td>EX_cpd00099_e0</td>\n",
              "      <td>0.3333</td>\n",
              "      <td>0</td>\n",
              "      <td>0.00%</td>\n",
              "    </tr>\n",
              "    <tr>\n",
              "      <td>cpd00205_e0</td>\n",
              "      <td>EX_cpd00205_e0</td>\n",
              "      <td>0.3333</td>\n",
              "      <td>0</td>\n",
              "      <td>0.00%</td>\n",
              "    </tr>\n",
              "    <tr>\n",
              "      <td>cpd00254_e0</td>\n",
              "      <td>EX_cpd00254_e0</td>\n",
              "      <td>0.3333</td>\n",
              "      <td>0</td>\n",
              "      <td>0.00%</td>\n",
              "    </tr>\n",
              "    <tr>\n",
              "      <td>cpd10515_e0</td>\n",
              "      <td>EX_cpd10515_e0</td>\n",
              "      <td>1</td>\n",
              "      <td>0</td>\n",
              "      <td>0.00%</td>\n",
              "    </tr>\n",
              "    <tr>\n",
              "      <td>cpd15560_e0</td>\n",
              "      <td>EX_cpd15560_e0</td>\n",
              "      <td>0.3333</td>\n",
              "      <td>49</td>\n",
              "      <td>100.00%</td>\n",
              "    </tr>\n",
              "    <tr>\n",
              "      <td>cpd17041_c0</td>\n",
              "      <td>rxn13782_c0</td>\n",
              "      <td>46.35</td>\n",
              "      <td>0</td>\n",
              "      <td>0.00%</td>\n",
              "    </tr>\n",
              "    <tr>\n",
              "      <td>cpd17042_c0</td>\n",
              "      <td>rxn13783_c0</td>\n",
              "      <td>46.35</td>\n",
              "      <td>0</td>\n",
              "      <td>0.00%</td>\n",
              "    </tr>\n",
              "    <tr>\n",
              "      <td>cpd17043_c0</td>\n",
              "      <td>rxn13784_c0</td>\n",
              "      <td>46.35</td>\n",
              "      <td>0</td>\n",
              "      <td>0.00%</td>\n",
              "    </tr>\n",
              "  </tbody>\n",
              "</table><h4>Secretion</h4><table border=\"1\" class=\"dataframe\">\n",
              "  <thead>\n",
              "    <tr style=\"text-align: right;\">\n",
              "      <th>Metabolite</th>\n",
              "      <th>Reaction</th>\n",
              "      <th>Flux</th>\n",
              "      <th>C-Number</th>\n",
              "      <th>C-Flux</th>\n",
              "    </tr>\n",
              "  </thead>\n",
              "  <tbody>\n",
              "    <tr>\n",
              "      <td>cpd00066_e0</td>\n",
              "      <td>EX_cpd00066_e0</td>\n",
              "      <td>-0.1763</td>\n",
              "      <td>9</td>\n",
              "      <td>16.27%</td>\n",
              "    </tr>\n",
              "    <tr>\n",
              "      <td>cpd00119_e0</td>\n",
              "      <td>EX_cpd00119_e0</td>\n",
              "      <td>-0.4286</td>\n",
              "      <td>6</td>\n",
              "      <td>26.38%</td>\n",
              "    </tr>\n",
              "    <tr>\n",
              "      <td>cpd00129_e0</td>\n",
              "      <td>EX_cpd00129_e0</td>\n",
              "      <td>-0.4646</td>\n",
              "      <td>5</td>\n",
              "      <td>23.83%</td>\n",
              "    </tr>\n",
              "    <tr>\n",
              "      <td>cpd00149_e0</td>\n",
              "      <td>EX_cpd00149_e0</td>\n",
              "      <td>-0.3333</td>\n",
              "      <td>0</td>\n",
              "      <td>0.00%</td>\n",
              "    </tr>\n",
              "    <tr>\n",
              "      <td>cpd00508_e0</td>\n",
              "      <td>EX_cpd00508_e0</td>\n",
              "      <td>-0.1025</td>\n",
              "      <td>6</td>\n",
              "      <td>6.31%</td>\n",
              "    </tr>\n",
              "    <tr>\n",
              "      <td>cpd01981_e0</td>\n",
              "      <td>EX_cpd01981_e0</td>\n",
              "      <td>-0.05295</td>\n",
              "      <td>6</td>\n",
              "      <td>3.26%</td>\n",
              "    </tr>\n",
              "    <tr>\n",
              "      <td>cpd11416_c0</td>\n",
              "      <td>SK_cpd11416_c0</td>\n",
              "      <td>-46.35</td>\n",
              "      <td>0</td>\n",
              "      <td>0.00%</td>\n",
              "    </tr>\n",
              "    <tr>\n",
              "      <td>cpd15378_c0</td>\n",
              "      <td>rxn30282_c0</td>\n",
              "      <td>-0.3333</td>\n",
              "      <td>7</td>\n",
              "      <td>23.94%</td>\n",
              "    </tr>\n",
              "  </tbody>\n",
              "</table>"
            ]
          },
          "metadata": {},
          "execution_count": 19
        }
      ],
      "source": [
        "gapfill_nit_medium.gapfilledModel.summary()"
      ]
    },
    {
      "cell_type": "markdown",
      "metadata": {
        "id": "5bYYy6p8cSAd"
      },
      "source": [
        "Relevant to note is that using a more minimal medium tends to lead to a more gapfilled reactions as the models have to synthesize more compounds themselves"
      ]
    },
    {
      "cell_type": "code",
      "execution_count": null,
      "metadata": {
        "id": "VYDLbzLCcSAe",
        "outputId": "2f0ac4b6-c1bf-40ee-dd0d-22302f20a8c7"
      },
      "outputs": [
        {
          "name": "stdout",
          "output_type": "stream",
          "text": [
            "Number of reactions added: 198\n"
          ]
        }
      ],
      "source": [
        "print(\"Number of reactions added:\", len(gapfill_nit_medium.added_reactions))"
      ]
    },
    {
      "cell_type": "markdown",
      "metadata": {
        "id": "D_B9V-zscSAe"
      },
      "source": [
        "### Batch gapfilling using the command line interface (CLI)\n",
        "\n",
        "Finally in the case where you have a lot of models you want to gapfill with the same medium you can use the CLI\n",
        "\n",
        "`python fasta2model_CLI.py -f DIR_FASTA -o output_folder`\n",
        "\n",
        "This command will create an output folder (-o) containing a subfolder with base ungapfilled models, a subfolder with gapfilled models, a log, and a tsv file telling you the number of added reactions.\n",
        "\n",
        "This CLI has limited functionality and assumes the same conditions for all gapfilling but you can change the standard gapfilling medium using the -e parameter.\n",
        "\n",
        "`python fasta2model_CLI.py -f DIR_FASTA -o DIR_OUTPUT' -e PATH_TO_MEDIUM_FILE`\n",
        "\n",
        "if you allready have base models you can use the -m parameter to provide a folder with base models to skip the base model building step.\n",
        "\n",
        "`python fasta2model_CLI.py -m DIR_MODELS -o DIR_OUTPUT`"
      ]
    },
    {
      "cell_type": "code",
      "execution_count": 20,
      "metadata": {
        "collapsed": true,
        "id": "BmCpcFg9cSAf",
        "outputId": "9b49d2f2-42ff-4e81-f11a-99778fd0497a",
        "colab": {
          "base_uri": "https://localhost:8080/"
        }
      },
      "outputs": [
        {
          "output_type": "stream",
          "name": "stdout",
          "text": [
            "# Creating output_folder for gapfilled models\n",
            "Set parameter WLSAccessID\n",
            "Set parameter WLSSecret\n",
            "Set parameter LicenseID to value 940603\n",
            "Academic license 940603 - for non-commercial use only - registered to da___@gmail.com\n",
            "WARNING: All log messages before absl::InitializeLog() is called are written to STDERR\n",
            "E0000 00:00:1741265521.533081    5908 cuda_dnn.cc:8310] Unable to register cuDNN factory: Attempting to register factory for plugin cuDNN when one has already been registered\n",
            "E0000 00:00:1741265521.550368    5908 cuda_blas.cc:1418] Unable to register cuBLAS factory: Attempting to register factory for plugin cuBLAS when one has already been registered\n",
            "WARNING: To enable the NN_Trainer script, you need to install tensorflow <https://www.tensorflow.org/install>\n",
            "The rest of dnngior features can be used without it.\n",
            "Gap-filling database =  ModelSEED\n",
            "Loading medium from: ./DNNGIOR/docs/biochemistry/Nitrogen-Nitrite_media.tsv\n",
            "#reactions not found in NN-keys:  7 / 648\n",
            "Warning for adding constraints: zero or small (< 1e-13) coefficients, ignored\n",
            "Flux through biomass reaction is 1.00000000\n",
            "Flux through biomass reaction is 1.00000000\n",
            "Warning for adding constraints: zero or small (< 1e-13) coefficients, ignored\n",
            "\n",
            "\n",
            " condition is currently:  76950 \n",
            "\n",
            "\n",
            "Warning for adding constraints: zero or small (< 1e-13) coefficients, ignored\n",
            "\n",
            "\n",
            " condition is currently:  38475 \n",
            "\n",
            "\n",
            "Warning for adding constraints: zero or small (< 1e-13) coefficients, ignored\n",
            "\n",
            "\n",
            " condition is currently:  19237 \n",
            "\n",
            "\n",
            "Warning for adding constraints: zero or small (< 1e-13) coefficients, ignored\n",
            "\n",
            "\n",
            " condition is currently:  9618 \n",
            "\n",
            "\n",
            "Warning for adding constraints: zero or small (< 1e-13) coefficients, ignored\n",
            "\n",
            "\n",
            " condition is currently:  4809 \n",
            "\n",
            "\n",
            "Warning for adding constraints: zero or small (< 1e-13) coefficients, ignored\n",
            "\n",
            "\n",
            " condition is currently:  2404 \n",
            "\n",
            "\n",
            "Warning for adding constraints: zero or small (< 1e-13) coefficients, ignored\n",
            "\n",
            "\n",
            " condition is currently:  1202 \n",
            "\n",
            "\n",
            "Warning for adding constraints: zero or small (< 1e-13) coefficients, ignored\n",
            "\n",
            "\n",
            " condition is currently:  601 \n",
            "\n",
            "\n",
            "Warning for adding constraints: zero or small (< 1e-13) coefficients, ignored\n",
            "\n",
            "\n",
            " condition is currently:  300 \n",
            "\n",
            "\n",
            "Warning for adding constraints: zero or small (< 1e-13) coefficients, ignored\n",
            "\n",
            "\n",
            " condition is currently:  150 \n",
            "\n",
            "\n",
            "Warning for adding constraints: zero or small (< 1e-13) coefficients, ignored\n",
            "\n",
            "\n",
            " condition is currently:  75 \n",
            "\n",
            "\n",
            "Warning for adding constraints: zero or small (< 1e-13) coefficients, ignored\n",
            "\n",
            "\n",
            " condition is currently:  37 \n",
            "\n",
            "\n",
            "Warning for adding constraints: zero or small (< 1e-13) coefficients, ignored\n",
            "\n",
            "\n",
            " condition is currently:  18 \n",
            "\n",
            "\n",
            "Warning for adding constraints: zero or small (< 1e-13) coefficients, ignored\n",
            "\n",
            "\n",
            " condition is currently:  9 \n",
            "\n",
            "\n",
            "Warning for adding constraints: zero or small (< 1e-13) coefficients, ignored\n",
            "\n",
            "\n",
            " condition is currently:  4 \n",
            "\n",
            "\n",
            "Warning for adding constraints: zero or small (< 1e-13) coefficients, ignored\n",
            "\n",
            "\n",
            " condition is currently:  2 \n",
            "\n",
            "\n",
            "Warning for adding constraints: zero or small (< 1e-13) coefficients, ignored\n",
            "\n",
            "\n",
            " condition is currently:  1 \n",
            "\n",
            "\n",
            "Objective value is 0.517733.\n",
            "Read LP format model from file /tmp/tmpupnys0jl.lp\n",
            "Reading time = 0.01 seconds\n",
            ": 892 rows, 1644 columns, 7866 nonzeros\n",
            "NN gapfilling added 174 new reactions\n",
            "The NN gapfilled model, comes with 822 reactions and 892 metabolites\n",
            "Gap-filling database =  ModelSEED\n",
            "Loading medium from: ./DNNGIOR/docs/biochemistry/Nitrogen-Nitrite_media.tsv\n",
            "#reactions not found in NN-keys:  6 / 913\n",
            "Warning for adding constraints: zero or small (< 1e-13) coefficients, ignored\n",
            "Flux through biomass reaction is 1.00000000\n",
            "Flux through biomass reaction is 1.00000000\n",
            "Warning for adding constraints: zero or small (< 1e-13) coefficients, ignored\n",
            "\n",
            "\n",
            " condition is currently:  76525 \n",
            "\n",
            "\n",
            "Warning for adding constraints: zero or small (< 1e-13) coefficients, ignored\n",
            "\n",
            "\n",
            " condition is currently:  38262 \n",
            "\n",
            "\n",
            "Warning for adding constraints: zero or small (< 1e-13) coefficients, ignored\n",
            "\n",
            "\n",
            " condition is currently:  19131 \n",
            "\n",
            "\n",
            "Warning for adding constraints: zero or small (< 1e-13) coefficients, ignored\n",
            "\n",
            "\n",
            " condition is currently:  9565 \n",
            "\n",
            "\n",
            "Warning for adding constraints: zero or small (< 1e-13) coefficients, ignored\n",
            "\n",
            "\n",
            " condition is currently:  4782 \n",
            "\n",
            "\n",
            "Warning for adding constraints: zero or small (< 1e-13) coefficients, ignored\n",
            "\n",
            "\n",
            " condition is currently:  2391 \n",
            "\n",
            "\n",
            "Warning for adding constraints: zero or small (< 1e-13) coefficients, ignored\n",
            "\n",
            "\n",
            " condition is currently:  1195 \n",
            "\n",
            "\n",
            "Warning for adding constraints: zero or small (< 1e-13) coefficients, ignored\n",
            "\n",
            "\n",
            " condition is currently:  597 \n",
            "\n",
            "\n",
            "Warning for adding constraints: zero or small (< 1e-13) coefficients, ignored\n",
            "\n",
            "\n",
            " condition is currently:  298 \n",
            "\n",
            "\n",
            "Warning for adding constraints: zero or small (< 1e-13) coefficients, ignored\n",
            "\n",
            "\n",
            " condition is currently:  149 \n",
            "\n",
            "\n",
            "Warning for adding constraints: zero or small (< 1e-13) coefficients, ignored\n",
            "\n",
            "\n",
            " condition is currently:  74 \n",
            "\n",
            "\n",
            "Warning for adding constraints: zero or small (< 1e-13) coefficients, ignored\n",
            "\n",
            "\n",
            " condition is currently:  37 \n",
            "\n",
            "\n",
            "Warning for adding constraints: zero or small (< 1e-13) coefficients, ignored\n",
            "\n",
            "\n",
            " condition is currently:  18 \n",
            "\n",
            "\n",
            "Warning for adding constraints: zero or small (< 1e-13) coefficients, ignored\n",
            "\n",
            "\n",
            " condition is currently:  9 \n",
            "\n",
            "\n",
            "Warning for adding constraints: zero or small (< 1e-13) coefficients, ignored\n",
            "\n",
            "\n",
            " condition is currently:  4 \n",
            "\n",
            "\n",
            "Warning for adding constraints: zero or small (< 1e-13) coefficients, ignored\n",
            "\n",
            "\n",
            " condition is currently:  2 \n",
            "\n",
            "\n",
            "Warning for adding constraints: zero or small (< 1e-13) coefficients, ignored\n",
            "\n",
            "\n",
            " condition is currently:  1 \n",
            "\n",
            "\n",
            "Objective value is 0.000000.\n",
            "Read LP format model from file /tmp/tmp6l3i60dd.lp\n",
            "Reading time = 0.01 seconds\n",
            ": 1037 rows, 2074 columns, 10042 nonzeros\n",
            "NN gapfilling added 124 new reactions\n",
            "The NN gapfilled model, comes with 1037 reactions and 1037 metabolites\n",
            "Gap-filling database =  ModelSEED\n",
            "Loading medium from: ./DNNGIOR/docs/biochemistry/Nitrogen-Nitrite_media.tsv\n",
            "#reactions not found in NN-keys:  6 / 777\n",
            "Warning for adding constraints: zero or small (< 1e-13) coefficients, ignored\n",
            "Flux through biomass reaction is 1.00000000\n",
            "Flux through biomass reaction is 1.00000000\n",
            "Warning for adding constraints: zero or small (< 1e-13) coefficients, ignored\n",
            "\n",
            "\n",
            " condition is currently:  76702 \n",
            "\n",
            "\n",
            "Warning for adding constraints: zero or small (< 1e-13) coefficients, ignored\n",
            "\n",
            "\n",
            " condition is currently:  38351 \n",
            "\n",
            "\n",
            "Warning for adding constraints: zero or small (< 1e-13) coefficients, ignored\n",
            "\n",
            "\n",
            " condition is currently:  19175 \n",
            "\n",
            "\n",
            "Warning for adding constraints: zero or small (< 1e-13) coefficients, ignored\n",
            "\n",
            "\n",
            " condition is currently:  9587 \n",
            "\n",
            "\n",
            "Warning for adding constraints: zero or small (< 1e-13) coefficients, ignored\n",
            "\n",
            "\n",
            " condition is currently:  4793 \n",
            "\n",
            "\n",
            "Warning for adding constraints: zero or small (< 1e-13) coefficients, ignored\n",
            "\n",
            "\n",
            " condition is currently:  2396 \n",
            "\n",
            "\n",
            "Warning for adding constraints: zero or small (< 1e-13) coefficients, ignored\n",
            "\n",
            "\n",
            " condition is currently:  1198 \n",
            "\n",
            "\n",
            "Warning for adding constraints: zero or small (< 1e-13) coefficients, ignored\n",
            "\n",
            "\n",
            " condition is currently:  599 \n",
            "\n",
            "\n",
            "Warning for adding constraints: zero or small (< 1e-13) coefficients, ignored\n",
            "\n",
            "Interrupt request received\n",
            "^C\n"
          ]
        }
      ],
      "source": [
        "!python DNNGIOR/dnngior/fasta2model_CLI.py -m one_per_phylum_models -o one_per_phylum_gapfilled -e DNNGIOR/docs/biochemistry/Nitrogen-Nitrite_media.tsv -sm .sbml"
      ]
    },
    {
      "cell_type": "markdown",
      "source": [
        "This will take a while so maybe we should skip this or create a subset or let them continue"
      ],
      "metadata": {
        "id": "c8kJuAA3hrld"
      }
    },
    {
      "cell_type": "markdown",
      "metadata": {
        "id": "IZWLxxrRcSAf"
      },
      "source": [
        "## For the interested: Customizing the candidate reaction scores\n",
        "\n",
        "\n"
      ]
    },
    {
      "cell_type": "markdown",
      "metadata": {
        "id": "Pnc-sPRgcSAf"
      },
      "source": [
        "\n",
        "### Changing the Neural network\n",
        "\n",
        "By default, dnngior uses its built-in neural network (NN) to predict which reactions should be added during gap filling. The gap-filler automatically assigns a cost of zero to reactions already present in the draft model, as well as to the exchange reactions defined in the media. For reactions not included in the NN-predicted reactome, a default high cost (set to 1) is applied, as these are considered less likely to occur.\n"
      ]
    },
    {
      "cell_type": "code",
      "execution_count": null,
      "metadata": {
        "collapsed": true,
        "id": "VOjiKCyXcSAg",
        "outputId": "12b90541-3fa8-4e55-f07a-2e1d94c35eb6"
      },
      "outputs": [
        {
          "name": "stdout",
          "output_type": "stream",
          "text": [
            "Gap-filling database =  BiGG\n"
          ]
        },
        {
          "name": "stderr",
          "output_type": "stream",
          "text": [
            "No objective coefficients in model. Unclear what should be optimized\n"
          ]
        },
        {
          "name": "stdout",
          "output_type": "stream",
          "text": [
            "#reactions not found in NN-keys:  1 / 530\n",
            "of which are exchanges:  0\n",
            "WARNING: reaction St in candidates but not in database, removing from candidates\n",
            "Flux through biomass reaction is 1.00000000\n",
            "Flux through biomass reaction is 1.00000000\n",
            "\n",
            "\n",
            " condition is currently:  54652 \n",
            "\n",
            "\n",
            "\n",
            "\n",
            " condition is currently:  27326 \n",
            "\n",
            "\n",
            "\n",
            "\n",
            " condition is currently:  13663 \n",
            "\n",
            "\n",
            "\n",
            "\n",
            " condition is currently:  6831 \n",
            "\n",
            "\n",
            "\n",
            "\n",
            " condition is currently:  3415 \n",
            "\n",
            "\n",
            "\n",
            "\n",
            " condition is currently:  1707 \n",
            "\n",
            "\n",
            "\n",
            "\n",
            " condition is currently:  853 \n",
            "\n",
            "\n",
            "\n",
            "\n",
            " condition is currently:  426 \n",
            "\n",
            "\n",
            "\n",
            "\n",
            " condition is currently:  213 \n",
            "\n",
            "\n",
            "\n",
            "\n",
            " condition is currently:  106 \n",
            "\n",
            "\n",
            "\n",
            "\n",
            " condition is currently:  53 \n",
            "\n",
            "\n",
            "\n",
            "\n",
            " condition is currently:  26 \n",
            "\n",
            "\n",
            "\n",
            "\n",
            " condition is currently:  13 \n",
            "\n",
            "\n",
            "\n",
            "\n",
            " condition is currently:  7 \n",
            "\n",
            "\n",
            "\n",
            "\n",
            " condition is currently:  3 \n",
            "\n",
            "\n",
            "\n",
            "\n",
            " condition is currently:  2 \n",
            "\n",
            "\n",
            "\n",
            "\n",
            " condition is currently:  1 \n",
            "\n",
            "\n",
            "Objective value is 0.019842.\n",
            "Read LP format model from file /tmp/tmp72ezq61j.lp\n",
            "Reading time = 0.00 seconds\n",
            ": 737 rows, 1338 columns, 6710 nonzeros\n",
            "skipping refinement, not currently supported for BiGG models\n",
            "NN gapfilling added 139 new reactions\n",
            "The NN gapfilled model, comes with 669 reactions and 737 metabolites\n"
          ]
        }
      ],
      "source": [
        "gapfill_Bigg = Gapfill('DNNGIOR/docs/models/bigg_example.xml', objectiveName='Growth', dbType='BiGG')"
      ]
    },
    {
      "cell_type": "markdown",
      "metadata": {
        "id": "83xq05DqcSAg"
      },
      "source": [
        "The second customization option is to change the neural network (NN) used during gap filling. We will train our own network in the next part of the workshop. For now we can use an example provided, we made a couple neural networks tailored to some of the top phyla in docs/NN/custom_networks/.\n",
        "\n",
        "To specify a custom NN, update the trainedNNPath parameter accordingly."
      ]
    },
    {
      "cell_type": "code",
      "execution_count": null,
      "metadata": {
        "id": "X_EgqJfycSAh"
      },
      "outputs": [],
      "source": [
        "dif_NN_gapfill = Gapfill(path_to_draft_model, trainedNNPath='DNNGIOR/docs/NN/custom_networks/Phylum_Actinobacteria.npz')"
      ]
    },
    {
      "cell_type": "markdown",
      "metadata": {
        "id": "arzhqO8ZcSAh"
      },
      "source": [
        "### Blacklisting reactions\n",
        "\n",
        "You might want to exclude specific reactions from the gap-filling database (e.g. they are unbalanced or you know cannot be present based on other data), this can be done using the blacklist argument:"
      ]
    },
    {
      "cell_type": "code",
      "execution_count": null,
      "metadata": {
        "id": "x8Wmu9x0cSAi"
      },
      "outputs": [],
      "source": [
        "blackList = ['rxn99999_c0']\n",
        "gapfill_with_blacklist = Gapfill(path_to_draft_model, black_list = blackList, objectiveName = 'bio1')"
      ]
    },
    {
      "cell_type": "markdown",
      "metadata": {
        "id": "IlWZ4ixbcSAi"
      },
      "source": [
        "Sometimes reactions are unavoidable (i.e. no solution can be found without them), but you want as few of them as possible. You could manually set the weights of these reactions (see below) but to make it easier you can set a grey list. By default these reactions get a cost of 1,000 but you can change this using punish_cost."
      ]
    },
    {
      "cell_type": "code",
      "execution_count": null,
      "metadata": {
        "id": "cdvOYMZ-cSAj"
      },
      "outputs": [],
      "source": [
        "greyList = ['rxn04070_c0','rxn05467_c0','rxn00543_c0']\n",
        "gapfill_with_greylist = Gapfill(path_to_draft_model, grey_list = greyList, punish_cost = 5000, objectiveName = 'bio1')"
      ]
    },
    {
      "cell_type": "markdown",
      "metadata": {
        "id": "iu2q3Z9zcSAt"
      },
      "source": [
        "### Custom scores\n",
        "\n",
        "The final option is to use fully custom scores. This is by far the most, you can make any changes to any reaction you want. To make these changes it is useful to set the gapfill parameter to False. This stops the gapfilling class from automatically continuing to the gapfilling step."
      ]
    },
    {
      "cell_type": "code",
      "execution_count": null,
      "metadata": {
        "id": "lAP11_-6cSAu",
        "outputId": "7593c5dc-62d1-49c1-8b00-913d1777e1fe"
      },
      "outputs": [
        {
          "name": "stderr",
          "output_type": "stream",
          "text": [
            "'' is not a valid SBML 'SId'.\n",
            "'' is not a valid SBML 'SId'.\n"
          ]
        },
        {
          "name": "stdout",
          "output_type": "stream",
          "text": [
            "Gap-filling database =  ModelSEED\n"
          ]
        },
        {
          "name": "stderr",
          "output_type": "stream",
          "text": [
            "No objective coefficients in model. Unclear what should be optimized\n"
          ]
        },
        {
          "name": "stdout",
          "output_type": "stream",
          "text": [
            "#reactions not found in NN-keys:  65 / 726\n",
            "of which are exchanges:  61\n"
          ]
        }
      ],
      "source": [
        "ungapfilled_model = Gapfill(draftModel = path_to_draft_model, gapfill=False)"
      ]
    },
    {
      "cell_type": "markdown",
      "metadata": {
        "id": "0SkiXYg8cSAu"
      },
      "source": [
        "Then you can change your candidates using the set_weights function"
      ]
    },
    {
      "cell_type": "code",
      "execution_count": null,
      "metadata": {
        "id": "Ne1huIxecSAu"
      },
      "outputs": [],
      "source": [
        "import json\n",
        "s_file = open(os.path.join('DNNGIOR', 'docs', 'NN','single_example.json'))\n",
        "scores = json.loads(s_file.read())\n",
        "s_file.close()\n",
        "\n",
        "ungapfilled_model.set_weights(scores)"
      ]
    },
    {
      "cell_type": "markdown",
      "metadata": {
        "id": "YrFaq-QacSAv"
      },
      "source": [
        "or manually set reactions directly"
      ]
    },
    {
      "cell_type": "code",
      "execution_count": null,
      "metadata": {
        "id": "un8IyfyRcSAv"
      },
      "outputs": [],
      "source": [
        "ungapfilled_model.weights['rnx0001'] = 0.4"
      ]
    },
    {
      "cell_type": "markdown",
      "metadata": {
        "id": "cLWh6H42cSAw"
      },
      "source": [
        "reloading your model will reset them back to the NN-predicted weights but there is also a function for this:"
      ]
    },
    {
      "cell_type": "code",
      "execution_count": null,
      "metadata": {
        "id": "8gYK3NvLcSAw",
        "outputId": "ad0ecbd9-0062-4b00-cc22-38aa714a4329"
      },
      "outputs": [
        {
          "name": "stdout",
          "output_type": "stream",
          "text": [
            "#reactions not found in NN-keys:  65 / 726\n",
            "of which are exchanges:  61\n"
          ]
        }
      ],
      "source": [
        "ungapfilled_model.reset_weights()"
      ]
    },
    {
      "cell_type": "markdown",
      "metadata": {
        "id": "JciCUTPacSAx"
      },
      "source": [
        "Once you are ready to continue the gapfilling, you can use the class function gapfill() to resume the gap-filling process"
      ]
    },
    {
      "cell_type": "code",
      "execution_count": null,
      "metadata": {
        "id": "x5HN1LxtcSAx",
        "outputId": "af422d49-054a-4121-e3dc-59e3c5b55d96"
      },
      "outputs": [
        {
          "name": "stdout",
          "output_type": "stream",
          "text": [
            "Warning for adding constraints: zero or small (< 1e-13) coefficients, ignored\n",
            "Flux through biomass reaction is 1.00000000\n",
            "Flux through biomass reaction is 1.00000000\n",
            "Warning for adding constraints: zero or small (< 1e-13) coefficients, ignored\n",
            "\n",
            "\n",
            " condition is currently:  79817 \n",
            "\n",
            "\n",
            "Warning for adding constraints: zero or small (< 1e-13) coefficients, ignored\n",
            "\n",
            "\n",
            " condition is currently:  39908 \n",
            "\n",
            "\n",
            "Warning for adding constraints: zero or small (< 1e-13) coefficients, ignored\n",
            "\n",
            "\n",
            " condition is currently:  19954 \n",
            "\n",
            "\n",
            "Warning for adding constraints: zero or small (< 1e-13) coefficients, ignored\n",
            "\n",
            "\n",
            " condition is currently:  9977 \n",
            "\n",
            "\n",
            "Warning for adding constraints: zero or small (< 1e-13) coefficients, ignored\n",
            "\n",
            "\n",
            " condition is currently:  4988 \n",
            "\n",
            "\n",
            "Warning for adding constraints: zero or small (< 1e-13) coefficients, ignored\n",
            "\n",
            "\n",
            " condition is currently:  2494 \n",
            "\n",
            "\n",
            "Warning for adding constraints: zero or small (< 1e-13) coefficients, ignored\n",
            "\n",
            "\n",
            " condition is currently:  1247 \n",
            "\n",
            "\n",
            "Warning for adding constraints: zero or small (< 1e-13) coefficients, ignored\n",
            "\n",
            "\n",
            " condition is currently:  623 \n",
            "\n",
            "\n",
            "Warning for adding constraints: zero or small (< 1e-13) coefficients, ignored\n",
            "\n",
            "\n",
            " condition is currently:  311 \n",
            "\n",
            "\n",
            "Warning for adding constraints: zero or small (< 1e-13) coefficients, ignored\n",
            "\n",
            "\n",
            " condition is currently:  155 \n",
            "\n",
            "\n",
            "Warning for adding constraints: zero or small (< 1e-13) coefficients, ignored\n",
            "\n",
            "\n",
            " condition is currently:  77 \n",
            "\n",
            "\n",
            "Warning for adding constraints: zero or small (< 1e-13) coefficients, ignored\n",
            "\n",
            "\n",
            " condition is currently:  38 \n",
            "\n",
            "\n",
            "Warning for adding constraints: zero or small (< 1e-13) coefficients, ignored\n",
            "\n",
            "\n",
            " condition is currently:  19 \n",
            "\n",
            "\n",
            "Warning for adding constraints: zero or small (< 1e-13) coefficients, ignored\n",
            "\n",
            "\n",
            " condition is currently:  9 \n",
            "\n",
            "\n",
            "Warning for adding constraints: zero or small (< 1e-13) coefficients, ignored\n",
            "\n",
            "\n",
            " condition is currently:  4 \n",
            "\n",
            "\n",
            "Warning for adding constraints: zero or small (< 1e-13) coefficients, ignored\n",
            "\n",
            "\n",
            " condition is currently:  2 \n",
            "\n",
            "\n",
            "Warning for adding constraints: zero or small (< 1e-13) coefficients, ignored\n",
            "\n",
            "\n",
            " condition is currently:  1 \n",
            "\n",
            "\n",
            "Objective value is 0.392904.\n",
            "Read LP format model from file /tmp/tmpqpqfmmna.lp\n",
            "Reading time = 0.01 seconds\n",
            ": 801 rows, 1662 columns, 7428 nonzeros\n",
            "NN gapfilling added 105 new reactions\n",
            "The NN gapfilled model, comes with 831 reactions and 801 metabolites\n"
          ]
        },
        {
          "data": {
            "text/html": [
              "\n",
              "        <table>\n",
              "            <tr>\n",
              "                <td><strong>Name</strong></td>\n",
              "                <td>_gapfilled</td>\n",
              "            </tr><tr>\n",
              "                <td><strong>Memory address</strong></td>\n",
              "                <td>7feb32abd330</td>\n",
              "            </tr><tr>\n",
              "                <td><strong>Number of metabolites</strong></td>\n",
              "                <td>801</td>\n",
              "            </tr><tr>\n",
              "                <td><strong>Number of reactions</strong></td>\n",
              "                <td>831</td>\n",
              "            </tr><tr>\n",
              "                <td><strong>Number of genes</strong></td>\n",
              "                <td>529</td>\n",
              "            </tr><tr>\n",
              "                <td><strong>Number of groups</strong></td>\n",
              "                <td>0</td>\n",
              "            </tr><tr>\n",
              "                <td><strong>Objective expression</strong></td>\n",
              "                <td>1.0*bio1 - 1.0*bio1_reverse_b18f7</td>\n",
              "            </tr><tr>\n",
              "                <td><strong>Compartments</strong></td>\n",
              "                <td>c0, e0</td>\n",
              "            </tr>\n",
              "          </table>"
            ],
            "text/plain": [
              "<Model _gapfilled at 0x7feb32abd330>"
            ]
          },
          "execution_count": 106,
          "metadata": {},
          "output_type": "execute_result"
        }
      ],
      "source": [
        "ungapfilled_model.gapfill()"
      ]
    }
  ],
  "metadata": {
    "colab": {
      "provenance": [],
      "include_colab_link": true
    },
    "kernelspec": {
      "display_name": "tfcob",
      "language": "python",
      "name": "tfcob"
    },
    "language_info": {
      "codemirror_mode": {
        "name": "ipython",
        "version": 3
      },
      "file_extension": ".py",
      "mimetype": "text/x-python",
      "name": "python",
      "nbconvert_exporter": "python",
      "pygments_lexer": "ipython3",
      "version": "3.10.14"
    }
  },
  "nbformat": 4,
  "nbformat_minor": 0
}