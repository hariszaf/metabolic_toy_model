{
 "cells": [
  {
   "cell_type": "markdown",
   "metadata": {
    "colab_type": "text",
    "id": "view-in-github"
   },
   "source": [
    "<a href=\"https://colab.research.google.com/github/hariszaf/metabolic_toy_model/blob/main/Antony2025/gapfillingGSMMs.ipynb\" target=\"_parent\"><img src=\"https://colab.research.google.com/assets/colab-badge.svg\" alt=\"Open In Colab\"/></a>"
   ]
  },
  {
   "cell_type": "markdown",
   "metadata": {
    "id": "u2wfZmrxxAaJ"
   },
   "source": [
    "# **Gapfilling Genome-Scale Metabolic Models with DNNGIOR**"
   ]
  },
  {
   "cell_type": "markdown",
   "metadata": {},
   "source": [
    "### Gapfilling a model with a complete medium"
   ]
  },
  {
   "cell_type": "markdown",
   "metadata": {},
   "source": [
    "Loading depencies"
   ]
  },
  {
   "cell_type": "code",
   "execution_count": 35,
   "metadata": {
    "id": "-Ajq7ymow_oo"
   },
   "outputs": [],
   "source": [
    "from cobra.io import read_sbml_model\n",
    "from DNNGIOR.dnngior.gapfill_class import *\n",
    "from DNNGIOR.dnngior.variables import *\n",
    "from DNNGIOR.dnngior.NN_Predictor import NN\n",
    "import pandas as pd"
   ]
  },
  {
   "cell_type": "markdown",
   "metadata": {},
   "source": [
    "Let's get the Bifidobacterium model we have been working with last time"
   ]
  },
  {
   "cell_type": "code",
   "execution_count": 66,
   "metadata": {},
   "outputs": [
    {
     "name": "stderr",
     "output_type": "stream",
     "text": [
      "'' is not a valid SBML 'SId'.\n"
     ]
    },
    {
     "data": {
      "text/html": [
       "<h3>Objective</h3><p>1.0 bio1 = 0.0</p><h4>Uptake</h4><table border=\"1\" class=\"dataframe\">\n",
       "  <thead>\n",
       "    <tr style=\"text-align: right;\">\n",
       "      <th>Metabolite</th>\n",
       "      <th>Reaction</th>\n",
       "      <th>Flux</th>\n",
       "      <th>C-Number</th>\n",
       "      <th>C-Flux</th>\n",
       "    </tr>\n",
       "  </thead>\n",
       "  <tbody>\n",
       "  </tbody>\n",
       "</table><h4>Secretion</h4><table border=\"1\" class=\"dataframe\">\n",
       "  <thead>\n",
       "    <tr style=\"text-align: right;\">\n",
       "      <th>Metabolite</th>\n",
       "      <th>Reaction</th>\n",
       "      <th>Flux</th>\n",
       "      <th>C-Number</th>\n",
       "      <th>C-Flux</th>\n",
       "    </tr>\n",
       "  </thead>\n",
       "  <tbody>\n",
       "  </tbody>\n",
       "</table>"
      ],
      "text/plain": [
       "<cobra.summary.model_summary.ModelSummary at 0x7febfa6641f0>"
      ]
     },
     "execution_count": 66,
     "metadata": {},
     "output_type": "execute_result"
    }
   ],
   "source": [
    "path_to_draft_model = \"Bifidobacterium adolescentis_atcc_15703.sbml\"\n",
    "draft_model = read_sbml_model(path_to_draft_model)\n",
    "draft_model.summary()"
   ]
  },
  {
   "cell_type": "markdown",
   "metadata": {},
   "source": [
    "If we want to gapfill on a complete medium and with the default NN, its actually quite simple. We can use the gapfill class of DNNGIOR giving the path to our draft model"
   ]
  },
  {
   "cell_type": "code",
   "execution_count": null,
   "metadata": {},
   "outputs": [],
   "source": [
    "gapfill_complete_medium = Gapfill(draftModel = path_to_draft_model, objectiveName = 'bio1')\n",
    "gf_model = gapfill_complete_medium.gapfilledModel"
   ]
  },
  {
   "cell_type": "code",
   "execution_count": 68,
   "metadata": {},
   "outputs": [
    {
     "data": {
      "text/html": [
       "<h3>Objective</h3><p>1.0 bio1 = 61.18601834040337</p><h4>Uptake</h4><table border=\"1\" class=\"dataframe\">\n",
       "  <thead>\n",
       "    <tr style=\"text-align: right;\">\n",
       "      <th>Metabolite</th>\n",
       "      <th>Reaction</th>\n",
       "      <th>Flux</th>\n",
       "      <th>C-Number</th>\n",
       "      <th>C-Flux</th>\n",
       "    </tr>\n",
       "  </thead>\n",
       "  <tbody>\n",
       "    <tr>\n",
       "      <td>cpd00028_e0</td>\n",
       "      <td>EX_cpd00028_e0</td>\n",
       "      <td>0.44</td>\n",
       "      <td>34</td>\n",
       "      <td>0.07%</td>\n",
       "    </tr>\n",
       "    <tr>\n",
       "      <td>cpd00030_e0</td>\n",
       "      <td>EX_cpd00030_e0</td>\n",
       "      <td>0.44</td>\n",
       "      <td>0</td>\n",
       "      <td>0.00%</td>\n",
       "    </tr>\n",
       "    <tr>\n",
       "      <td>cpd00034_e0</td>\n",
       "      <td>EX_cpd00034_e0</td>\n",
       "      <td>0.44</td>\n",
       "      <td>0</td>\n",
       "      <td>0.00%</td>\n",
       "    </tr>\n",
       "    <tr>\n",
       "      <td>cpd00051_e0</td>\n",
       "      <td>EX_cpd00051_e0</td>\n",
       "      <td>11.82</td>\n",
       "      <td>6</td>\n",
       "      <td>0.34%</td>\n",
       "    </tr>\n",
       "    <tr>\n",
       "      <td>cpd00053_e0</td>\n",
       "      <td>EX_cpd00053_e0</td>\n",
       "      <td>339.1</td>\n",
       "      <td>5</td>\n",
       "      <td>8.17%</td>\n",
       "    </tr>\n",
       "    <tr>\n",
       "      <td>cpd00058_e0</td>\n",
       "      <td>EX_cpd00058_e0</td>\n",
       "      <td>0.44</td>\n",
       "      <td>0</td>\n",
       "      <td>0.00%</td>\n",
       "    </tr>\n",
       "    <tr>\n",
       "      <td>cpd00060_e0</td>\n",
       "      <td>EX_cpd00060_e0</td>\n",
       "      <td>7.164</td>\n",
       "      <td>5</td>\n",
       "      <td>0.17%</td>\n",
       "    </tr>\n",
       "    <tr>\n",
       "      <td>cpd00063_e0</td>\n",
       "      <td>EX_cpd00063_e0</td>\n",
       "      <td>0.44</td>\n",
       "      <td>0</td>\n",
       "      <td>0.00%</td>\n",
       "    </tr>\n",
       "    <tr>\n",
       "      <td>cpd00065_e0</td>\n",
       "      <td>EX_cpd00065_e0</td>\n",
       "      <td>3.33</td>\n",
       "      <td>11</td>\n",
       "      <td>0.18%</td>\n",
       "    </tr>\n",
       "    <tr>\n",
       "      <td>cpd00066_e0</td>\n",
       "      <td>EX_cpd00066_e0</td>\n",
       "      <td>10.77</td>\n",
       "      <td>9</td>\n",
       "      <td>0.47%</td>\n",
       "    </tr>\n",
       "    <tr>\n",
       "      <td>cpd00067_e0</td>\n",
       "      <td>EX_cpd00067_e0</td>\n",
       "      <td>60.92</td>\n",
       "      <td>0</td>\n",
       "      <td>0.00%</td>\n",
       "    </tr>\n",
       "    <tr>\n",
       "      <td>cpd00069_e0</td>\n",
       "      <td>EX_cpd00069_e0</td>\n",
       "      <td>6.785</td>\n",
       "      <td>9</td>\n",
       "      <td>0.29%</td>\n",
       "    </tr>\n",
       "    <tr>\n",
       "      <td>cpd00082_e0</td>\n",
       "      <td>EX_cpd00082_e0</td>\n",
       "      <td>998.5</td>\n",
       "      <td>6</td>\n",
       "      <td>28.85%</td>\n",
       "    </tr>\n",
       "    <tr>\n",
       "      <td>cpd00099_e0</td>\n",
       "      <td>EX_cpd00099_e0</td>\n",
       "      <td>0.44</td>\n",
       "      <td>0</td>\n",
       "      <td>0.00%</td>\n",
       "    </tr>\n",
       "    <tr>\n",
       "      <td>cpd00104_e0</td>\n",
       "      <td>EX_cpd00104_e0</td>\n",
       "      <td>0.44</td>\n",
       "      <td>10</td>\n",
       "      <td>0.02%</td>\n",
       "    </tr>\n",
       "    <tr>\n",
       "      <td>cpd00107_e0</td>\n",
       "      <td>EX_cpd00107_e0</td>\n",
       "      <td>21.23</td>\n",
       "      <td>6</td>\n",
       "      <td>0.61%</td>\n",
       "    </tr>\n",
       "    <tr>\n",
       "      <td>cpd00156_e0</td>\n",
       "      <td>EX_cpd00156_e0</td>\n",
       "      <td>18.8</td>\n",
       "      <td>5</td>\n",
       "      <td>0.45%</td>\n",
       "    </tr>\n",
       "    <tr>\n",
       "      <td>cpd00166_e0</td>\n",
       "      <td>EX_cpd00166_e0</td>\n",
       "      <td>0.44</td>\n",
       "      <td>72</td>\n",
       "      <td>0.15%</td>\n",
       "    </tr>\n",
       "    <tr>\n",
       "      <td>cpd00205_e0</td>\n",
       "      <td>EX_cpd00205_e0</td>\n",
       "      <td>0.44</td>\n",
       "      <td>0</td>\n",
       "      <td>0.00%</td>\n",
       "    </tr>\n",
       "    <tr>\n",
       "      <td>cpd00220_e0</td>\n",
       "      <td>EX_cpd00220_e0</td>\n",
       "      <td>0.88</td>\n",
       "      <td>17</td>\n",
       "      <td>0.07%</td>\n",
       "    </tr>\n",
       "    <tr>\n",
       "      <td>cpd00254_e0</td>\n",
       "      <td>EX_cpd00254_e0</td>\n",
       "      <td>0.44</td>\n",
       "      <td>0</td>\n",
       "      <td>0.00%</td>\n",
       "    </tr>\n",
       "    <tr>\n",
       "      <td>cpd00264_e0</td>\n",
       "      <td>EX_cpd00264_e0</td>\n",
       "      <td>0.44</td>\n",
       "      <td>7</td>\n",
       "      <td>0.01%</td>\n",
       "    </tr>\n",
       "    <tr>\n",
       "      <td>cpd00276_e0</td>\n",
       "      <td>EX_cpd00276_e0</td>\n",
       "      <td>1000</td>\n",
       "      <td>6</td>\n",
       "      <td>28.89%</td>\n",
       "    </tr>\n",
       "    <tr>\n",
       "      <td>cpd00305_e0</td>\n",
       "      <td>EX_cpd00305_e0</td>\n",
       "      <td>0.44</td>\n",
       "      <td>12</td>\n",
       "      <td>0.03%</td>\n",
       "    </tr>\n",
       "    <tr>\n",
       "      <td>cpd00322_e0</td>\n",
       "      <td>EX_cpd00322_e0</td>\n",
       "      <td>16.52</td>\n",
       "      <td>6</td>\n",
       "      <td>0.48%</td>\n",
       "    </tr>\n",
       "    <tr>\n",
       "      <td>cpd01017_e0</td>\n",
       "      <td>EX_cpd01017_e0</td>\n",
       "      <td>3.61</td>\n",
       "      <td>5</td>\n",
       "      <td>0.09%</td>\n",
       "    </tr>\n",
       "    <tr>\n",
       "      <td>cpd01329_e0</td>\n",
       "      <td>EX_cpd01329_e0</td>\n",
       "      <td>166.9</td>\n",
       "      <td>36</td>\n",
       "      <td>28.92%</td>\n",
       "    </tr>\n",
       "    <tr>\n",
       "      <td>cpd02229_e0</td>\n",
       "      <td>EX_cpd02229_e0</td>\n",
       "      <td>0.1893</td>\n",
       "      <td>55</td>\n",
       "      <td>0.05%</td>\n",
       "    </tr>\n",
       "    <tr>\n",
       "      <td>cpd10515_e0</td>\n",
       "      <td>EX_cpd10515_e0</td>\n",
       "      <td>0.88</td>\n",
       "      <td>0</td>\n",
       "      <td>0.00%</td>\n",
       "    </tr>\n",
       "    <tr>\n",
       "      <td>cpd10516_e0</td>\n",
       "      <td>EX_cpd10516_e0</td>\n",
       "      <td>0.44</td>\n",
       "      <td>0</td>\n",
       "      <td>0.00%</td>\n",
       "    </tr>\n",
       "    <tr>\n",
       "      <td>cpd11217_e0</td>\n",
       "      <td>EX_cpd11217_e0</td>\n",
       "      <td>0.16</td>\n",
       "      <td>32</td>\n",
       "      <td>0.02%</td>\n",
       "    </tr>\n",
       "    <tr>\n",
       "      <td>cpd11606_e0</td>\n",
       "      <td>EX_cpd11606_e0</td>\n",
       "      <td>0.6504</td>\n",
       "      <td>46</td>\n",
       "      <td>0.14%</td>\n",
       "    </tr>\n",
       "    <tr>\n",
       "      <td>cpd15311_e0</td>\n",
       "      <td>EX_cpd15311_e0</td>\n",
       "      <td>0.7572</td>\n",
       "      <td>39</td>\n",
       "      <td>0.14%</td>\n",
       "    </tr>\n",
       "    <tr>\n",
       "      <td>cpd15511_e0</td>\n",
       "      <td>EX_cpd15511_e0</td>\n",
       "      <td>0.09465</td>\n",
       "      <td>80</td>\n",
       "      <td>0.04%</td>\n",
       "    </tr>\n",
       "    <tr>\n",
       "      <td>cpd15533_e0</td>\n",
       "      <td>EX_cpd15533_e0</td>\n",
       "      <td>1.535</td>\n",
       "      <td>41</td>\n",
       "      <td>0.30%</td>\n",
       "    </tr>\n",
       "    <tr>\n",
       "      <td>cpd15540_e0</td>\n",
       "      <td>EX_cpd15540_e0</td>\n",
       "      <td>4.604</td>\n",
       "      <td>42</td>\n",
       "      <td>0.93%</td>\n",
       "    </tr>\n",
       "    <tr>\n",
       "      <td>cpd15560_e0</td>\n",
       "      <td>EX_cpd15560_e0</td>\n",
       "      <td>0.44</td>\n",
       "      <td>49</td>\n",
       "      <td>0.10%</td>\n",
       "    </tr>\n",
       "    <tr>\n",
       "      <td>cpd17041_c0</td>\n",
       "      <td>rxn13782_c0</td>\n",
       "      <td>61.19</td>\n",
       "      <td>0</td>\n",
       "      <td>0.00%</td>\n",
       "    </tr>\n",
       "    <tr>\n",
       "      <td>cpd17042_c0</td>\n",
       "      <td>rxn13783_c0</td>\n",
       "      <td>61.19</td>\n",
       "      <td>0</td>\n",
       "      <td>0.00%</td>\n",
       "    </tr>\n",
       "    <tr>\n",
       "      <td>cpd17043_c0</td>\n",
       "      <td>rxn13784_c0</td>\n",
       "      <td>61.19</td>\n",
       "      <td>0</td>\n",
       "      <td>0.00%</td>\n",
       "    </tr>\n",
       "  </tbody>\n",
       "</table><h4>Secretion</h4><table border=\"1\" class=\"dataframe\">\n",
       "  <thead>\n",
       "    <tr style=\"text-align: right;\">\n",
       "      <th>Metabolite</th>\n",
       "      <th>Reaction</th>\n",
       "      <th>Flux</th>\n",
       "      <th>C-Number</th>\n",
       "      <th>C-Flux</th>\n",
       "    </tr>\n",
       "  </thead>\n",
       "  <tbody>\n",
       "    <tr>\n",
       "      <td>cpd00001_e0</td>\n",
       "      <td>EX_cpd00001_e0</td>\n",
       "      <td>-1000</td>\n",
       "      <td>0</td>\n",
       "      <td>0.00%</td>\n",
       "    </tr>\n",
       "    <tr>\n",
       "      <td>cpd00007_e0</td>\n",
       "      <td>EX_cpd00007_e0</td>\n",
       "      <td>-0.11</td>\n",
       "      <td>0</td>\n",
       "      <td>0.00%</td>\n",
       "    </tr>\n",
       "    <tr>\n",
       "      <td>cpd00011_e0</td>\n",
       "      <td>EX_cpd00011_e0</td>\n",
       "      <td>-790.9</td>\n",
       "      <td>1</td>\n",
       "      <td>4.05%</td>\n",
       "    </tr>\n",
       "    <tr>\n",
       "      <td>cpd00013_e0</td>\n",
       "      <td>EX_cpd00013_e0</td>\n",
       "      <td>-211.3</td>\n",
       "      <td>0</td>\n",
       "      <td>0.00%</td>\n",
       "    </tr>\n",
       "    <tr>\n",
       "      <td>cpd00027_e0</td>\n",
       "      <td>EX_cpd00027_e0</td>\n",
       "      <td>-1000</td>\n",
       "      <td>6</td>\n",
       "      <td>30.76%</td>\n",
       "    </tr>\n",
       "    <tr>\n",
       "      <td>cpd00100_e0</td>\n",
       "      <td>EX_cpd00100_e0</td>\n",
       "      <td>-1000</td>\n",
       "      <td>3</td>\n",
       "      <td>15.38%</td>\n",
       "    </tr>\n",
       "    <tr>\n",
       "      <td>cpd00122_e0</td>\n",
       "      <td>EX_cpd00122_e0</td>\n",
       "      <td>-975.2</td>\n",
       "      <td>8</td>\n",
       "      <td>39.99%</td>\n",
       "    </tr>\n",
       "    <tr>\n",
       "      <td>cpd00129_e0</td>\n",
       "      <td>EX_cpd00129_e0</td>\n",
       "      <td>-299.6</td>\n",
       "      <td>5</td>\n",
       "      <td>7.68%</td>\n",
       "    </tr>\n",
       "    <tr>\n",
       "      <td>cpd00175_e0</td>\n",
       "      <td>EX_cpd00175_e0</td>\n",
       "      <td>-23.26</td>\n",
       "      <td>17</td>\n",
       "      <td>2.03%</td>\n",
       "    </tr>\n",
       "    <tr>\n",
       "      <td>cpd03422_e0</td>\n",
       "      <td>EX_cpd03422_e0</td>\n",
       "      <td>-0.44</td>\n",
       "      <td>48</td>\n",
       "      <td>0.11%</td>\n",
       "    </tr>\n",
       "    <tr>\n",
       "      <td>cpd11416_c0</td>\n",
       "      <td>SK_cpd11416_c0</td>\n",
       "      <td>-61.19</td>\n",
       "      <td>0</td>\n",
       "      <td>0.00%</td>\n",
       "    </tr>\n",
       "  </tbody>\n",
       "</table>"
      ],
      "text/plain": [
       "<cobra.summary.model_summary.ModelSummary at 0x7feb978879a0>"
      ]
     },
     "execution_count": 68,
     "metadata": {},
     "output_type": "execute_result"
    }
   ],
   "source": [
    "gf_model.summary()"
   ]
  },
  {
   "cell_type": "code",
   "execution_count": 116,
   "metadata": {},
   "outputs": [
    {
     "name": "stdout",
     "output_type": "stream",
     "text": [
      "Number of reactions added: 81\n"
     ]
    }
   ],
   "source": [
    "print(\"Number of reactions added:\", len(gapfill_complete_medium.added_reactions))"
   ]
  },
  {
   "cell_type": "markdown",
   "metadata": {},
   "source": [
    "In principle this means we are done, let get a beer :)\n",
    "\n",
    "But maybe you still want to learn something about how DNNGIOR works and what else we can do."
   ]
  },
  {
   "cell_type": "markdown",
   "metadata": {},
   "source": [
    "### How does DNNGIOR work\n",
    "\n",
    "DNNGIOR gapfilling takes two steps: \n",
    "1. Make a prediction based on the reactions in the draft model\n",
    "2. Use these predictions to find weigh the solutions of the linear programming algorythm\n",
    "\n",
    "Lets have a look at these predictions, we can load in the neural network:"
   ]
  },
  {
   "cell_type": "code",
   "execution_count": 58,
   "metadata": {},
   "outputs": [],
   "source": [
    "NN_MSEED = NN(path=TRAINED_NN_MSEED)"
   ]
  },
  {
   "cell_type": "markdown",
   "metadata": {},
   "source": [
    "and make a prediction for our model"
   ]
  },
  {
   "cell_type": "code",
   "execution_count": 63,
   "metadata": {},
   "outputs": [
    {
     "name": "stdout",
     "output_type": "stream",
     "text": [
      "#reactions not found in NN-keys:  65 / 726\n",
      "of which are exchanges:  61\n"
     ]
    }
   ],
   "source": [
    "prediction = NN_MSEED.predict(draft_model)"
   ]
  },
  {
   "cell_type": "markdown",
   "metadata": {},
   "source": [
    "This will give us a prediction for what reactions should be present in the gapfilled model. "
   ]
  },
  {
   "cell_type": "code",
   "execution_count": null,
   "metadata": {},
   "outputs": [
    {
     "data": {
      "text/plain": [
       "<Axes: ylabel='Frequency'>"
      ]
     },
     "execution_count": 64,
     "metadata": {},
     "output_type": "execute_result"
    },
    {
     "data": {
      "image/png": "[encoded data removed]",
      "text/plain": [
       "<Figure size 640x480 with 1 Axes>"
      ]
     },
     "metadata": {},
     "output_type": "display_data"
    }
   ],
   "source": [
    "pd.Series(prediction).plot.hist(bins=100, alpha=0.5, color='r', label='MSEED')"
   ]
  },
  {
   "cell_type": "markdown",
   "metadata": {},
   "source": [
    "These are part of the microbial reactome (all the reactions that were present), as the network cannot make predictions for reactions it has never seen it will not give a prediction for those. All other reactions will get the default cost which is normally set to 1.0 but can be changed if you want to prioritize reactions from the reactome:"
   ]
  },
  {
   "cell_type": "code",
   "execution_count": null,
   "metadata": {},
   "outputs": [
    {
     "name": "stderr",
     "output_type": "stream",
     "text": [
      "'' is not a valid SBML 'SId'.\n",
      "'' is not a valid SBML 'SId'.\n"
     ]
    },
    {
     "name": "stdout",
     "output_type": "stream",
     "text": [
      "Gap-filling database =  ModelSEED\n"
     ]
    },
    {
     "name": "stderr",
     "output_type": "stream",
     "text": [
      "No objective coefficients in model. Unclear what should be optimized\n"
     ]
    },
    {
     "name": "stdout",
     "output_type": "stream",
     "text": [
      "#reactions not found in NN-keys:  65 / 726\n",
      "of which are exchanges:  61\n"
     ]
    }
   ],
   "source": [
    "gapfill_higher_def_cost = Gapfill(draftModel = path_to_draft_model, objectiveName = 'bio1', default_cost=10, gapfill=False)\n"
   ]
  },
  {
   "cell_type": "code",
   "execution_count": null,
   "metadata": {},
   "outputs": [
    {
     "data": {
      "text/plain": [
       "<Axes: ylabel='Frequency'>"
      ]
     },
     "execution_count": 131,
     "metadata": {},
     "output_type": "execute_result"
    },
    {
     "data": {
      "image/png": "[encoded data removed]",
      "text/plain": [
       "<Figure size 640x480 with 1 Axes>"
      ]
     },
     "metadata": {},
     "output_type": "display_data"
    }
   ],
   "source": [
    "w = gapfill_higher_def_cost.weights\n",
    "pd.Series(w).plot.hist(bins=100, label='Higher default cost', logy=True)"
   ]
  },
  {
   "cell_type": "code",
   "execution_count": 133,
   "metadata": {},
   "outputs": [
    {
     "name": "stdout",
     "output_type": "stream",
     "text": [
      "Warning for adding constraints: zero or small (< 1e-13) coefficients, ignored\n",
      "Flux through biomass reaction is 1.00000000\n",
      "Flux through biomass reaction is 1.00000000\n",
      "Warning for adding constraints: zero or small (< 1e-13) coefficients, ignored\n",
      "\n",
      "\n",
      " condition is currently:  79156 \n",
      "\n",
      "\n",
      "Warning for adding constraints: zero or small (< 1e-13) coefficients, ignored\n",
      "\n",
      "\n",
      " condition is currently:  39578 \n",
      "\n",
      "\n",
      "Warning for adding constraints: zero or small (< 1e-13) coefficients, ignored\n",
      "\n",
      "\n",
      " condition is currently:  19789 \n",
      "\n",
      "\n",
      "Warning for adding constraints: zero or small (< 1e-13) coefficients, ignored\n",
      "\n",
      "\n",
      " condition is currently:  9894 \n",
      "\n",
      "\n",
      "Warning for adding constraints: zero or small (< 1e-13) coefficients, ignored\n",
      "\n",
      "\n",
      " condition is currently:  4947 \n",
      "\n",
      "\n",
      "Warning for adding constraints: zero or small (< 1e-13) coefficients, ignored\n",
      "\n",
      "\n",
      " condition is currently:  2473 \n",
      "\n",
      "\n",
      "Warning for adding constraints: zero or small (< 1e-13) coefficients, ignored\n",
      "\n",
      "\n",
      " condition is currently:  1236 \n",
      "\n",
      "\n",
      "Warning for adding constraints: zero or small (< 1e-13) coefficients, ignored\n",
      "\n",
      "\n",
      " condition is currently:  618 \n",
      "\n",
      "\n",
      "Warning for adding constraints: zero or small (< 1e-13) coefficients, ignored\n",
      "\n",
      "\n",
      " condition is currently:  309 \n",
      "\n",
      "\n",
      "Warning for adding constraints: zero or small (< 1e-13) coefficients, ignored\n",
      "\n",
      "\n",
      " condition is currently:  154 \n",
      "\n",
      "\n",
      "Warning for adding constraints: zero or small (< 1e-13) coefficients, ignored\n",
      "\n",
      "\n",
      " condition is currently:  77 \n",
      "\n",
      "\n",
      "Warning for adding constraints: zero or small (< 1e-13) coefficients, ignored\n",
      "\n",
      "\n",
      " condition is currently:  38 \n",
      "\n",
      "\n",
      "Warning for adding constraints: zero or small (< 1e-13) coefficients, ignored\n",
      "\n",
      "\n",
      " condition is currently:  19 \n",
      "\n",
      "\n",
      "Warning for adding constraints: zero or small (< 1e-13) coefficients, ignored\n",
      "\n",
      "\n",
      " condition is currently:  9 \n",
      "\n",
      "\n",
      "Warning for adding constraints: zero or small (< 1e-13) coefficients, ignored\n",
      "\n",
      "\n",
      " condition is currently:  5 \n",
      "\n",
      "\n",
      "Warning for adding constraints: zero or small (< 1e-13) coefficients, ignored\n",
      "\n",
      "\n",
      " condition is currently:  2 \n",
      "\n",
      "\n",
      "Warning for adding constraints: zero or small (< 1e-13) coefficients, ignored\n",
      "\n",
      "\n",
      " condition is currently:  1 \n",
      "\n",
      "\n",
      "Objective value is 0.020721.\n",
      "Read LP format model from file /tmp/tmp_kjdouno.lp\n",
      "Reading time = 0.00 seconds\n",
      ": 784 rows, 1614 columns, 7198 nonzeros\n",
      "NN gapfilling added 81 new reactions\n",
      "The NN gapfilled model, comes with 807 reactions and 784 metabolites\n",
      "Number of reactions added: 81\n"
     ]
    }
   ],
   "source": [
    "gapfill_higher_def_cost.gapfill()\n",
    "print(\"Number of reactions added:\", len(gapfill_higher_def_cost.added_reactions))"
   ]
  },
  {
   "cell_type": "markdown",
   "metadata": {},
   "source": [
    "## Gapfilling with a different medium\n",
    "\n",
    "Often organisms dont grow in a complete medium, you can provide the gapfiller with a medium file"
   ]
  },
  {
   "cell_type": "code",
   "execution_count": null,
   "metadata": {},
   "outputs": [],
   "source": [
    "medium_file_path = 'DNNGIOR/docs/biochemistry/Nitrogen-Nitrite_media.tsv'"
   ]
  },
  {
   "cell_type": "code",
   "execution_count": null,
   "metadata": {},
   "outputs": [
    {
     "data": {
      "text/html": [
       "<div>\n",
       "<style scoped>\n",
       "    .dataframe tbody tr th:only-of-type {\n",
       "        vertical-align: middle;\n",
       "    }\n",
       "\n",
       "    .dataframe tbody tr th {\n",
       "        vertical-align: top;\n",
       "    }\n",
       "\n",
       "    .dataframe thead th {\n",
       "        text-align: right;\n",
       "    }\n",
       "</style>\n",
       "<table border=\"1\" class=\"dataframe\">\n",
       "  <thead>\n",
       "    <tr style=\"text-align: right;\">\n",
       "      <th></th>\n",
       "      <th>id</th>\n",
       "      <th>name</th>\n",
       "      <th>concentration</th>\n",
       "      <th>minflux</th>\n",
       "      <th>maxflux</th>\n",
       "    </tr>\n",
       "  </thead>\n",
       "  <tbody>\n",
       "    <tr>\n",
       "      <th>0</th>\n",
       "      <td>cpd00027</td>\n",
       "      <td>D-Glucose</td>\n",
       "      <td>0.001</td>\n",
       "      <td>-100</td>\n",
       "      <td>5</td>\n",
       "    </tr>\n",
       "    <tr>\n",
       "      <th>1</th>\n",
       "      <td>cpd00075</td>\n",
       "      <td>Nitrite</td>\n",
       "      <td>0.001</td>\n",
       "      <td>-100</td>\n",
       "      <td>5</td>\n",
       "    </tr>\n",
       "    <tr>\n",
       "      <th>2</th>\n",
       "      <td>cpd00009</td>\n",
       "      <td>Phosphate</td>\n",
       "      <td>0.001</td>\n",
       "      <td>-100</td>\n",
       "      <td>5</td>\n",
       "    </tr>\n",
       "    <tr>\n",
       "      <th>3</th>\n",
       "      <td>cpd00048</td>\n",
       "      <td>Sulfate</td>\n",
       "      <td>0.001</td>\n",
       "      <td>-100</td>\n",
       "      <td>5</td>\n",
       "    </tr>\n",
       "    <tr>\n",
       "      <th>4</th>\n",
       "      <td>cpd00063</td>\n",
       "      <td>Ca2+</td>\n",
       "      <td>0.001</td>\n",
       "      <td>-100</td>\n",
       "      <td>100</td>\n",
       "    </tr>\n",
       "    <tr>\n",
       "      <th>5</th>\n",
       "      <td>cpd00011</td>\n",
       "      <td>CO2</td>\n",
       "      <td>0.001</td>\n",
       "      <td>-100</td>\n",
       "      <td>0</td>\n",
       "    </tr>\n",
       "    <tr>\n",
       "      <th>6</th>\n",
       "      <td>cpd10516</td>\n",
       "      <td>fe3</td>\n",
       "      <td>0.001</td>\n",
       "      <td>-100</td>\n",
       "      <td>100</td>\n",
       "    </tr>\n",
       "    <tr>\n",
       "      <th>7</th>\n",
       "      <td>cpd00067</td>\n",
       "      <td>H+</td>\n",
       "      <td>0.001</td>\n",
       "      <td>-100</td>\n",
       "      <td>100</td>\n",
       "    </tr>\n",
       "    <tr>\n",
       "      <th>8</th>\n",
       "      <td>cpd00001</td>\n",
       "      <td>H2O</td>\n",
       "      <td>0.001</td>\n",
       "      <td>-100</td>\n",
       "      <td>100</td>\n",
       "    </tr>\n",
       "    <tr>\n",
       "      <th>9</th>\n",
       "      <td>cpd00205</td>\n",
       "      <td>K+</td>\n",
       "      <td>0.001</td>\n",
       "      <td>-100</td>\n",
       "      <td>100</td>\n",
       "    </tr>\n",
       "    <tr>\n",
       "      <th>10</th>\n",
       "      <td>cpd00254</td>\n",
       "      <td>Mg</td>\n",
       "      <td>0.001</td>\n",
       "      <td>-100</td>\n",
       "      <td>100</td>\n",
       "    </tr>\n",
       "    <tr>\n",
       "      <th>11</th>\n",
       "      <td>cpd00971</td>\n",
       "      <td>Na+</td>\n",
       "      <td>0.001</td>\n",
       "      <td>-100</td>\n",
       "      <td>100</td>\n",
       "    </tr>\n",
       "    <tr>\n",
       "      <th>12</th>\n",
       "      <td>cpd00007</td>\n",
       "      <td>O2</td>\n",
       "      <td>0.001</td>\n",
       "      <td>-100</td>\n",
       "      <td>100</td>\n",
       "    </tr>\n",
       "    <tr>\n",
       "      <th>13</th>\n",
       "      <td>cpd00099</td>\n",
       "      <td>Cl-</td>\n",
       "      <td>0.001</td>\n",
       "      <td>-100</td>\n",
       "      <td>100</td>\n",
       "    </tr>\n",
       "    <tr>\n",
       "      <th>14</th>\n",
       "      <td>cpd00058</td>\n",
       "      <td>Cu2+</td>\n",
       "      <td>0.001</td>\n",
       "      <td>-100</td>\n",
       "      <td>100</td>\n",
       "    </tr>\n",
       "    <tr>\n",
       "      <th>15</th>\n",
       "      <td>cpd00149</td>\n",
       "      <td>Co2+</td>\n",
       "      <td>0.001</td>\n",
       "      <td>-100</td>\n",
       "      <td>100</td>\n",
       "    </tr>\n",
       "    <tr>\n",
       "      <th>16</th>\n",
       "      <td>cpd00030</td>\n",
       "      <td>Mn2+</td>\n",
       "      <td>0.001</td>\n",
       "      <td>-100</td>\n",
       "      <td>100</td>\n",
       "    </tr>\n",
       "    <tr>\n",
       "      <th>17</th>\n",
       "      <td>cpd00034</td>\n",
       "      <td>Zn2+</td>\n",
       "      <td>0.001</td>\n",
       "      <td>-100</td>\n",
       "      <td>100</td>\n",
       "    </tr>\n",
       "    <tr>\n",
       "      <th>18</th>\n",
       "      <td>cpd10515</td>\n",
       "      <td>Fe2+</td>\n",
       "      <td>0.001</td>\n",
       "      <td>-100</td>\n",
       "      <td>100</td>\n",
       "    </tr>\n",
       "    <tr>\n",
       "      <th>19</th>\n",
       "      <td>cpd15432</td>\n",
       "      <td>LipidA</td>\n",
       "      <td>0.001</td>\n",
       "      <td>-100</td>\n",
       "      <td>100</td>\n",
       "    </tr>\n",
       "    <tr>\n",
       "      <th>20</th>\n",
       "      <td>cpd15560</td>\n",
       "      <td>Ubiquinone-8</td>\n",
       "      <td>0.001</td>\n",
       "      <td>-100</td>\n",
       "      <td>100</td>\n",
       "    </tr>\n",
       "  </tbody>\n",
       "</table>\n",
       "</div>"
      ],
      "text/plain": [
       "          id          name  concentration  minflux  maxflux\n",
       "0   cpd00027     D-Glucose          0.001     -100        5\n",
       "1   cpd00075       Nitrite          0.001     -100        5\n",
       "2   cpd00009     Phosphate          0.001     -100        5\n",
       "3   cpd00048       Sulfate          0.001     -100        5\n",
       "4   cpd00063          Ca2+          0.001     -100      100\n",
       "5   cpd00011           CO2          0.001     -100        0\n",
       "6   cpd10516           fe3          0.001     -100      100\n",
       "7   cpd00067            H+          0.001     -100      100\n",
       "8   cpd00001           H2O          0.001     -100      100\n",
       "9   cpd00205            K+          0.001     -100      100\n",
       "10  cpd00254            Mg          0.001     -100      100\n",
       "11  cpd00971           Na+          0.001     -100      100\n",
       "12  cpd00007            O2          0.001     -100      100\n",
       "13  cpd00099           Cl-          0.001     -100      100\n",
       "14  cpd00058          Cu2+          0.001     -100      100\n",
       "15  cpd00149          Co2+          0.001     -100      100\n",
       "16  cpd00030          Mn2+          0.001     -100      100\n",
       "17  cpd00034          Zn2+          0.001     -100      100\n",
       "18  cpd10515          Fe2+          0.001     -100      100\n",
       "19  cpd15432        LipidA          0.001     -100      100\n",
       "20  cpd15560  Ubiquinone-8          0.001     -100      100"
      ]
     },
     "execution_count": 110,
     "metadata": {},
     "output_type": "execute_result"
    }
   ],
   "source": [
    "pd.read_csv(medium_file_path, sep='\\t')"
   ]
  },
  {
   "cell_type": "code",
   "execution_count": 111,
   "metadata": {},
   "outputs": [
    {
     "name": "stderr",
     "output_type": "stream",
     "text": [
      "'' is not a valid SBML 'SId'.\n",
      "'' is not a valid SBML 'SId'.\n"
     ]
    },
    {
     "name": "stdout",
     "output_type": "stream",
     "text": [
      "Gap-filling database =  ModelSEED\n"
     ]
    },
    {
     "name": "stderr",
     "output_type": "stream",
     "text": [
      "No objective coefficients in model. Unclear what should be optimized\n"
     ]
    },
    {
     "name": "stdout",
     "output_type": "stream",
     "text": [
      "Loading medium from: DNNGIOR/docs/biochemistry/Nitrogen-Nitrite_media.tsv\n",
      "#reactions not found in NN-keys:  4 / 665\n",
      "of which are exchanges:  0\n",
      "Warning for adding constraints: zero or small (< 1e-13) coefficients, ignored\n",
      "Flux through biomass reaction is 1.00000000\n",
      "Flux through biomass reaction is 1.00000000\n",
      "Warning for adding constraints: zero or small (< 1e-13) coefficients, ignored\n",
      "\n",
      "\n",
      " condition is currently:  76914 \n",
      "\n",
      "\n",
      "Warning for adding constraints: zero or small (< 1e-13) coefficients, ignored\n",
      "\n",
      "\n",
      " condition is currently:  38457 \n",
      "\n",
      "\n",
      "Warning for adding constraints: zero or small (< 1e-13) coefficients, ignored\n",
      "\n",
      "\n",
      " condition is currently:  19228 \n",
      "\n",
      "\n",
      "Warning for adding constraints: zero or small (< 1e-13) coefficients, ignored\n",
      "\n",
      "\n",
      " condition is currently:  9614 \n",
      "\n",
      "\n",
      "Warning for adding constraints: zero or small (< 1e-13) coefficients, ignored\n",
      "\n",
      "\n",
      " condition is currently:  4807 \n",
      "\n",
      "\n",
      "Warning for adding constraints: zero or small (< 1e-13) coefficients, ignored\n",
      "\n",
      "\n",
      " condition is currently:  2403 \n",
      "\n",
      "\n",
      "Warning for adding constraints: zero or small (< 1e-13) coefficients, ignored\n",
      "\n",
      "\n",
      " condition is currently:  1201 \n",
      "\n",
      "\n",
      "Warning for adding constraints: zero or small (< 1e-13) coefficients, ignored\n",
      "\n",
      "\n",
      " condition is currently:  600 \n",
      "\n",
      "\n",
      "Warning for adding constraints: zero or small (< 1e-13) coefficients, ignored\n",
      "\n",
      "\n",
      " condition is currently:  300 \n",
      "\n",
      "\n",
      "Warning for adding constraints: zero or small (< 1e-13) coefficients, ignored\n",
      "\n",
      "\n",
      " condition is currently:  150 \n",
      "\n",
      "\n",
      "Warning for adding constraints: zero or small (< 1e-13) coefficients, ignored\n",
      "\n",
      "\n",
      " condition is currently:  75 \n",
      "\n",
      "\n",
      "Warning for adding constraints: zero or small (< 1e-13) coefficients, ignored\n",
      "\n",
      "\n",
      " condition is currently:  37 \n",
      "\n",
      "\n",
      "Warning for adding constraints: zero or small (< 1e-13) coefficients, ignored\n",
      "\n",
      "\n",
      " condition is currently:  18 \n",
      "\n",
      "\n",
      "Warning for adding constraints: zero or small (< 1e-13) coefficients, ignored\n",
      "\n",
      "\n",
      " condition is currently:  9 \n",
      "\n",
      "\n",
      "Warning for adding constraints: zero or small (< 1e-13) coefficients, ignored\n",
      "\n",
      "\n",
      " condition is currently:  4 \n",
      "\n",
      "\n",
      "Warning for adding constraints: zero or small (< 1e-13) coefficients, ignored\n",
      "\n",
      "\n",
      " condition is currently:  2 \n",
      "\n",
      "\n",
      "Warning for adding constraints: zero or small (< 1e-13) coefficients, ignored\n",
      "\n",
      "\n",
      " condition is currently:  1 \n",
      "\n",
      "\n",
      "Objective value is 0.344953.\n",
      "Read LP format model from file /tmp/tmp2516bjna.lp\n",
      "Reading time = 0.01 seconds\n",
      ": 861 rows, 1726 columns, 8386 nonzeros\n",
      "NN gapfilling added 198 new reactions\n",
      "The NN gapfilled model, comes with 863 reactions and 861 metabolites\n"
     ]
    }
   ],
   "source": [
    "gapfill_nit_medium = Gapfill(draftModel = path_to_draft_model, objectiveName = 'bio1', medium_file = medium_file_path)"
   ]
  },
  {
   "cell_type": "code",
   "execution_count": 112,
   "metadata": {},
   "outputs": [
    {
     "data": {
      "text/html": [
       "<h3>Objective</h3><p>1.0 bio1 = 46.35275895999998</p><h4>Uptake</h4><table border=\"1\" class=\"dataframe\">\n",
       "  <thead>\n",
       "    <tr style=\"text-align: right;\">\n",
       "      <th>Metabolite</th>\n",
       "      <th>Reaction</th>\n",
       "      <th>Flux</th>\n",
       "      <th>C-Number</th>\n",
       "      <th>C-Flux</th>\n",
       "    </tr>\n",
       "  </thead>\n",
       "  <tbody>\n",
       "    <tr>\n",
       "      <td>cpd00030_e0</td>\n",
       "      <td>EX_cpd00030_e0</td>\n",
       "      <td>0.3333</td>\n",
       "      <td>0</td>\n",
       "      <td>0.00%</td>\n",
       "    </tr>\n",
       "    <tr>\n",
       "      <td>cpd00034_e0</td>\n",
       "      <td>EX_cpd00034_e0</td>\n",
       "      <td>0.3333</td>\n",
       "      <td>0</td>\n",
       "      <td>0.00%</td>\n",
       "    </tr>\n",
       "    <tr>\n",
       "      <td>cpd00058_e0</td>\n",
       "      <td>EX_cpd00058_e0</td>\n",
       "      <td>0.3333</td>\n",
       "      <td>0</td>\n",
       "      <td>0.00%</td>\n",
       "    </tr>\n",
       "    <tr>\n",
       "      <td>cpd00063_e0</td>\n",
       "      <td>EX_cpd00063_e0</td>\n",
       "      <td>0.3333</td>\n",
       "      <td>0</td>\n",
       "      <td>0.00%</td>\n",
       "    </tr>\n",
       "    <tr>\n",
       "      <td>cpd00099_e0</td>\n",
       "      <td>EX_cpd00099_e0</td>\n",
       "      <td>0.3333</td>\n",
       "      <td>0</td>\n",
       "      <td>0.00%</td>\n",
       "    </tr>\n",
       "    <tr>\n",
       "      <td>cpd00205_e0</td>\n",
       "      <td>EX_cpd00205_e0</td>\n",
       "      <td>0.3333</td>\n",
       "      <td>0</td>\n",
       "      <td>0.00%</td>\n",
       "    </tr>\n",
       "    <tr>\n",
       "      <td>cpd00254_e0</td>\n",
       "      <td>EX_cpd00254_e0</td>\n",
       "      <td>0.3333</td>\n",
       "      <td>0</td>\n",
       "      <td>0.00%</td>\n",
       "    </tr>\n",
       "    <tr>\n",
       "      <td>cpd10515_e0</td>\n",
       "      <td>EX_cpd10515_e0</td>\n",
       "      <td>1</td>\n",
       "      <td>0</td>\n",
       "      <td>0.00%</td>\n",
       "    </tr>\n",
       "    <tr>\n",
       "      <td>cpd15560_e0</td>\n",
       "      <td>EX_cpd15560_e0</td>\n",
       "      <td>0.3333</td>\n",
       "      <td>49</td>\n",
       "      <td>100.00%</td>\n",
       "    </tr>\n",
       "    <tr>\n",
       "      <td>cpd17041_c0</td>\n",
       "      <td>rxn13782_c0</td>\n",
       "      <td>46.35</td>\n",
       "      <td>0</td>\n",
       "      <td>0.00%</td>\n",
       "    </tr>\n",
       "    <tr>\n",
       "      <td>cpd17042_c0</td>\n",
       "      <td>rxn13783_c0</td>\n",
       "      <td>46.35</td>\n",
       "      <td>0</td>\n",
       "      <td>0.00%</td>\n",
       "    </tr>\n",
       "    <tr>\n",
       "      <td>cpd17043_c0</td>\n",
       "      <td>rxn13784_c0</td>\n",
       "      <td>46.35</td>\n",
       "      <td>0</td>\n",
       "      <td>0.00%</td>\n",
       "    </tr>\n",
       "  </tbody>\n",
       "</table><h4>Secretion</h4><table border=\"1\" class=\"dataframe\">\n",
       "  <thead>\n",
       "    <tr style=\"text-align: right;\">\n",
       "      <th>Metabolite</th>\n",
       "      <th>Reaction</th>\n",
       "      <th>Flux</th>\n",
       "      <th>C-Number</th>\n",
       "      <th>C-Flux</th>\n",
       "    </tr>\n",
       "  </thead>\n",
       "  <tbody>\n",
       "    <tr>\n",
       "      <td>cpd00066_e0</td>\n",
       "      <td>EX_cpd00066_e0</td>\n",
       "      <td>-0.1763</td>\n",
       "      <td>9</td>\n",
       "      <td>16.27%</td>\n",
       "    </tr>\n",
       "    <tr>\n",
       "      <td>cpd00119_e0</td>\n",
       "      <td>EX_cpd00119_e0</td>\n",
       "      <td>-0.4286</td>\n",
       "      <td>6</td>\n",
       "      <td>26.38%</td>\n",
       "    </tr>\n",
       "    <tr>\n",
       "      <td>cpd00129_e0</td>\n",
       "      <td>EX_cpd00129_e0</td>\n",
       "      <td>-0.4646</td>\n",
       "      <td>5</td>\n",
       "      <td>23.83%</td>\n",
       "    </tr>\n",
       "    <tr>\n",
       "      <td>cpd00149_e0</td>\n",
       "      <td>EX_cpd00149_e0</td>\n",
       "      <td>-0.3333</td>\n",
       "      <td>0</td>\n",
       "      <td>0.00%</td>\n",
       "    </tr>\n",
       "    <tr>\n",
       "      <td>cpd00508_e0</td>\n",
       "      <td>EX_cpd00508_e0</td>\n",
       "      <td>-0.1025</td>\n",
       "      <td>6</td>\n",
       "      <td>6.31%</td>\n",
       "    </tr>\n",
       "    <tr>\n",
       "      <td>cpd01981_e0</td>\n",
       "      <td>EX_cpd01981_e0</td>\n",
       "      <td>-0.05295</td>\n",
       "      <td>6</td>\n",
       "      <td>3.26%</td>\n",
       "    </tr>\n",
       "    <tr>\n",
       "      <td>cpd11416_c0</td>\n",
       "      <td>SK_cpd11416_c0</td>\n",
       "      <td>-46.35</td>\n",
       "      <td>0</td>\n",
       "      <td>0.00%</td>\n",
       "    </tr>\n",
       "    <tr>\n",
       "      <td>cpd15378_c0</td>\n",
       "      <td>rxn30282_c0</td>\n",
       "      <td>-0.3333</td>\n",
       "      <td>7</td>\n",
       "      <td>23.94%</td>\n",
       "    </tr>\n",
       "  </tbody>\n",
       "</table>"
      ],
      "text/plain": [
       "<cobra.summary.model_summary.ModelSummary at 0x7fead5727460>"
      ]
     },
     "execution_count": 112,
     "metadata": {},
     "output_type": "execute_result"
    }
   ],
   "source": [
    "gapfill_nit_medium.gapfilledModel.summary()"
   ]
  },
  {
   "cell_type": "markdown",
   "metadata": {},
   "source": [
    "Relevant to note is that using a more minimal medium tends to lead to a more gapfilled reactions as the models have to synthesize more compounds themselves"
   ]
  },
  {
   "cell_type": "code",
   "execution_count": 135,
   "metadata": {},
   "outputs": [
    {
     "name": "stdout",
     "output_type": "stream",
     "text": [
      "Number of reactions added: 198\n"
     ]
    }
   ],
   "source": [
    "print(\"Number of reactions added:\", len(gapfill_nit_medium.added_reactions))"
   ]
  },
  {
   "cell_type": "markdown",
   "metadata": {},
   "source": [
    "### Batch gapfilling using the command line interface (CLI)\n",
    "\n",
    "Finally in the case where you have a lot of models you want to gapfill with the same medium you can use the CLI\n",
    "\n",
    "`python fasta2model_CLI.py -f DIR_FASTA -o output_folder`\n",
    "\n",
    "This command will create an output folder (-o) containing a subfolder with base ungapfilled models, a subfolder with gapfilled models, a log, and a tsv file telling you the number of added reactions.\n",
    "\n",
    "This CLI has limited functionality and assumes the same conditions for all gapfilling but you can change the standard gapfilling medium using the -e parameter. \n",
    "\n",
    "`python fasta2model_CLI.py -f DIR_FASTA -o DIR_OUTPUT' -e PATH_TO_MEDIUM_FILE`\n",
    "\n",
    "if you allready have base models you can use the -m parameter to provide a folder with base models to skip the base model building step.\n",
    "\n",
    "`python fasta2model_CLI.py -m DIR_MODELS -o DIR_OUTPUT`"
   ]
  },
  {
   "cell_type": "code",
   "execution_count": 113,
   "metadata": {},
   "outputs": [
    {
     "name": "stdout",
     "output_type": "stream",
     "text": [
      "# WARNING: gapfilled models folder allready exists (./one_per_phylum_gapfilled/gapfilled_models)\n",
      "Traceback (most recent call last):\n",
      "  File \"/home/meine/Documents/git/antony/Antony2025/DNNGIOR/dnngior/fasta2model_CLI.py\", line 343, in <module>\n",
      "    main()\n",
      "  File \"/home/meine/Documents/git/antony/Antony2025/DNNGIOR/dnngior/fasta2model_CLI.py\", line 336, in main\n",
      "    gapfill_model_wrapper(args)\n",
      "  File \"/home/meine/Documents/git/antony/Antony2025/DNNGIOR/dnngior/fasta2model_CLI.py\", line 202, in gapfill_model_wrapper\n",
      "    from DNNGIOR.dnngior.gapfill_class import Gapfill\n",
      "ModuleNotFoundError: No module named 'DNNGIOR'\n"
     ]
    }
   ],
   "source": [
    "!python DNNGIOR/dnngior/fasta2model_CLI.py -m one_per_phylum_models -o one_per_phylum_gapfilled -e DNNGIOR/docs/biochemistry/Nitrogen-Nitrite_media.tsv -sm .sbml"
   ]
  },
  {
   "cell_type": "markdown",
   "metadata": {},
   "source": [
    "## For the interested: Customizing the candidate reaction scores\n",
    "\n",
    "\n"
   ]
  },
  {
   "cell_type": "markdown",
   "metadata": {},
   "source": [
    "\n",
    "### Changing the Neural network\n",
    "\n",
    "By default, dnngior uses its built-in neural network (NN) to predict which reactions should be added during gap filling. The gap-filler automatically assigns a cost of zero to reactions already present in the draft model, as well as to the exchange reactions defined in the media. For reactions not included in the NN-predicted reactome, a default high cost (set to 1) is applied, as these are considered less likely to occur.\n"
   ]
  },
  {
   "cell_type": "code",
   "execution_count": null,
   "metadata": {},
   "outputs": [
    {
     "name": "stdout",
     "output_type": "stream",
     "text": [
      "Gap-filling database =  BiGG\n"
     ]
    },
    {
     "name": "stderr",
     "output_type": "stream",
     "text": [
      "No objective coefficients in model. Unclear what should be optimized\n"
     ]
    },
    {
     "name": "stdout",
     "output_type": "stream",
     "text": [
      "#reactions not found in NN-keys:  1 / 530\n",
      "of which are exchanges:  0\n",
      "WARNING: reaction St in candidates but not in database, removing from candidates\n",
      "Flux through biomass reaction is 1.00000000\n",
      "Flux through biomass reaction is 1.00000000\n",
      "\n",
      "\n",
      " condition is currently:  54652 \n",
      "\n",
      "\n",
      "\n",
      "\n",
      " condition is currently:  27326 \n",
      "\n",
      "\n",
      "\n",
      "\n",
      " condition is currently:  13663 \n",
      "\n",
      "\n",
      "\n",
      "\n",
      " condition is currently:  6831 \n",
      "\n",
      "\n",
      "\n",
      "\n",
      " condition is currently:  3415 \n",
      "\n",
      "\n",
      "\n",
      "\n",
      " condition is currently:  1707 \n",
      "\n",
      "\n",
      "\n",
      "\n",
      " condition is currently:  853 \n",
      "\n",
      "\n",
      "\n",
      "\n",
      " condition is currently:  426 \n",
      "\n",
      "\n",
      "\n",
      "\n",
      " condition is currently:  213 \n",
      "\n",
      "\n",
      "\n",
      "\n",
      " condition is currently:  106 \n",
      "\n",
      "\n",
      "\n",
      "\n",
      " condition is currently:  53 \n",
      "\n",
      "\n",
      "\n",
      "\n",
      " condition is currently:  26 \n",
      "\n",
      "\n",
      "\n",
      "\n",
      " condition is currently:  13 \n",
      "\n",
      "\n",
      "\n",
      "\n",
      " condition is currently:  7 \n",
      "\n",
      "\n",
      "\n",
      "\n",
      " condition is currently:  3 \n",
      "\n",
      "\n",
      "\n",
      "\n",
      " condition is currently:  2 \n",
      "\n",
      "\n",
      "\n",
      "\n",
      " condition is currently:  1 \n",
      "\n",
      "\n",
      "Objective value is 0.019842.\n",
      "Read LP format model from file /tmp/tmp72ezq61j.lp\n",
      "Reading time = 0.00 seconds\n",
      ": 737 rows, 1338 columns, 6710 nonzeros\n",
      "skipping refinement, not currently supported for BiGG models\n",
      "NN gapfilling added 139 new reactions\n",
      "The NN gapfilled model, comes with 669 reactions and 737 metabolites\n"
     ]
    }
   ],
   "source": [
    "gapfill_Bigg = Gapfill('DNNGIOR/docs/models/bigg_example.xml', objectiveName='Growth', dbType='BiGG')"
   ]
  },
  {
   "cell_type": "markdown",
   "metadata": {},
   "source": [
    "The second customization option is to change the neural network (NN) used during gap filling. We will train our own network in the next part of the workshop. For now we use an altenative we provided, we made a couple neural networks tailored to some of the top phyla in docs/NN/custom_networks/. \n",
    "\n",
    "To specify a custom NN, update the trainedNNPath parameter accordingly."
   ]
  },
  {
   "cell_type": "code",
   "execution_count": null,
   "metadata": {},
   "outputs": [
    {
     "name": "stderr",
     "output_type": "stream",
     "text": [
      "'' is not a valid SBML 'SId'.\n"
     ]
    },
    {
     "name": "stderr",
     "output_type": "stream",
     "text": [
      "'' is not a valid SBML 'SId'.\n"
     ]
    },
    {
     "name": "stdout",
     "output_type": "stream",
     "text": [
      "Gap-filling database =  ModelSEED\n"
     ]
    },
    {
     "name": "stderr",
     "output_type": "stream",
     "text": [
      "No objective coefficients in model. Unclear what should be optimized\n"
     ]
    },
    {
     "name": "stdout",
     "output_type": "stream",
     "text": [
      "#reactions not found in NN-keys:  64 / 726\n",
      "of which are exchanges:  61\n",
      "Warning for adding constraints: zero or small (< 1e-13) coefficients, ignored\n",
      "Flux through biomass reaction is 1.00000000\n",
      "Flux through biomass reaction is 1.00000000\n",
      "Warning for adding constraints: zero or small (< 1e-13) coefficients, ignored\n",
      "\n",
      "\n",
      " condition is currently:  79156 \n",
      "\n",
      "\n",
      "Warning for adding constraints: zero or small (< 1e-13) coefficients, ignored\n",
      "\n",
      "\n",
      " condition is currently:  39578 \n",
      "\n",
      "\n",
      "Warning for adding constraints: zero or small (< 1e-13) coefficients, ignored\n",
      "\n",
      "\n",
      " condition is currently:  19789 \n",
      "\n",
      "\n",
      "Warning for adding constraints: zero or small (< 1e-13) coefficients, ignored\n",
      "\n",
      "\n",
      " condition is currently:  9894 \n",
      "\n",
      "\n",
      "Warning for adding constraints: zero or small (< 1e-13) coefficients, ignored\n",
      "\n",
      "\n",
      " condition is currently:  4947 \n",
      "\n",
      "\n",
      "Warning for adding constraints: zero or small (< 1e-13) coefficients, ignored\n",
      "\n",
      "\n",
      " condition is currently:  2473 \n",
      "\n",
      "\n",
      "Warning for adding constraints: zero or small (< 1e-13) coefficients, ignored\n",
      "\n",
      "\n",
      " condition is currently:  1236 \n",
      "\n",
      "\n",
      "Warning for adding constraints: zero or small (< 1e-13) coefficients, ignored\n",
      "\n",
      "\n",
      " condition is currently:  618 \n",
      "\n",
      "\n",
      "Warning for adding constraints: zero or small (< 1e-13) coefficients, ignored\n",
      "\n",
      "\n",
      " condition is currently:  309 \n",
      "\n",
      "\n",
      "Warning for adding constraints: zero or small (< 1e-13) coefficients, ignored\n",
      "\n",
      "\n",
      " condition is currently:  154 \n",
      "\n",
      "\n",
      "Warning for adding constraints: zero or small (< 1e-13) coefficients, ignored\n",
      "\n",
      "\n",
      " condition is currently:  77 \n",
      "\n",
      "\n",
      "Warning for adding constraints: zero or small (< 1e-13) coefficients, ignored\n",
      "\n",
      "\n",
      " condition is currently:  38 \n",
      "\n",
      "\n",
      "Warning for adding constraints: zero or small (< 1e-13) coefficients, ignored\n",
      "\n",
      "\n",
      " condition is currently:  19 \n",
      "\n",
      "\n",
      "Warning for adding constraints: zero or small (< 1e-13) coefficients, ignored\n",
      "\n",
      "\n",
      " condition is currently:  9 \n",
      "\n",
      "\n",
      "Warning for adding constraints: zero or small (< 1e-13) coefficients, ignored\n",
      "\n",
      "\n",
      " condition is currently:  4 \n",
      "\n",
      "\n",
      "Warning for adding constraints: zero or small (< 1e-13) coefficients, ignored\n",
      "\n",
      "\n",
      " condition is currently:  2 \n",
      "\n",
      "\n",
      "Warning for adding constraints: zero or small (< 1e-13) coefficients, ignored\n",
      "\n",
      "\n",
      " condition is currently:  1 \n",
      "\n",
      "\n",
      "Objective value is 0.021020.\n",
      "Read LP format model from file /tmp/tmp46id444x.lp\n",
      "Reading time = 0.00 seconds\n",
      ": 786 rows, 1612 columns, 7136 nonzeros\n",
      "NN gapfilling added 80 new reactions\n",
      "The NN gapfilled model, comes with 806 reactions and 786 metabolites\n"
     ]
    },
    {
     "data": {
      "text/plain": [
       "<DNNGIOR.dnngior.gapfill_class.Gapfill at 0x7fed013b9060>"
      ]
     },
     "execution_count": 108,
     "metadata": {},
     "output_type": "execute_result"
    }
   ],
   "source": [
    "dif_NN_gapfill = Gapfill(path_to_draft_model, trainedNNPath='DNNGIOR/docs/NN/custom_networks/Phylum_Actinobacteria.npz')"
   ]
  },
  {
   "cell_type": "markdown",
   "metadata": {},
   "source": [
    "### Blacklisting reactions\n",
    "\n",
    "You might want to exclude specific reactions from the gap-filling database (e.g. they are unbalanced or you know cannot be present based on other data), this can be done using the blacklist argument:"
   ]
  },
  {
   "cell_type": "code",
   "execution_count": null,
   "metadata": {},
   "outputs": [],
   "source": [
    "blackList = ['rxn99999_c0']\n",
    "gapfill_with_blacklist = Gapfill(path_to_draft_model, black_list = blackList, objectiveName = 'bio1')"
   ]
  },
  {
   "cell_type": "markdown",
   "metadata": {},
   "source": [
    "Sometimes reactions are unavoidable (i.e. no solution can be found without them), but you want as few of them as possible. You could manually set the weights of these reactions (see below) but to make it easier you can set a grey list. By default these reactions get a cost of 1,000 but you can change this using punish_cost."
   ]
  },
  {
   "cell_type": "code",
   "execution_count": null,
   "metadata": {},
   "outputs": [],
   "source": [
    "greyList = ['rxn04070_c0','rxn05467_c0','rxn00543_c0']\n",
    "gapfill_with_greylist = Gapfill(path_to_draft_model, grey_list = greyList, punish_cost = 5000, objectiveName = 'bio1')"
   ]
  },
  {
   "cell_type": "markdown",
   "metadata": {},
   "source": [
    "### Custom scores\n",
    "\n",
    "The final option is to use fully custom scores. This is by far the most, you can make any changes to any reaction you want. To make these changes it is useful to set the gapfill parameter to False. This stops the gapfilling class from automatically continuing to the gapfilling step."
   ]
  },
  {
   "cell_type": "code",
   "execution_count": 102,
   "metadata": {},
   "outputs": [
    {
     "name": "stderr",
     "output_type": "stream",
     "text": [
      "'' is not a valid SBML 'SId'.\n",
      "'' is not a valid SBML 'SId'.\n"
     ]
    },
    {
     "name": "stdout",
     "output_type": "stream",
     "text": [
      "Gap-filling database =  ModelSEED\n"
     ]
    },
    {
     "name": "stderr",
     "output_type": "stream",
     "text": [
      "No objective coefficients in model. Unclear what should be optimized\n"
     ]
    },
    {
     "name": "stdout",
     "output_type": "stream",
     "text": [
      "#reactions not found in NN-keys:  65 / 726\n",
      "of which are exchanges:  61\n"
     ]
    }
   ],
   "source": [
    "ungapfilled_model = Gapfill(draftModel = path_to_draft_model, gapfill=False)"
   ]
  },
  {
   "cell_type": "markdown",
   "metadata": {},
   "source": [
    "Then you can change your candidates using the set_weights function"
   ]
  },
  {
   "cell_type": "code",
   "execution_count": 103,
   "metadata": {},
   "outputs": [],
   "source": [
    "import json\n",
    "s_file = open(os.path.join('DNNGIOR', 'docs', 'NN','single_example.json'))\n",
    "scores = json.loads(s_file.read())\n",
    "s_file.close()\n",
    "\n",
    "ungapfilled_model.set_weights(scores)"
   ]
  },
  {
   "cell_type": "markdown",
   "metadata": {},
   "source": [
    "or manually set reactions directly"
   ]
  },
  {
   "cell_type": "code",
   "execution_count": 104,
   "metadata": {},
   "outputs": [],
   "source": [
    "ungapfilled_model.weights['rnx0001'] = 0.4"
   ]
  },
  {
   "cell_type": "markdown",
   "metadata": {},
   "source": [
    "reloading your model will reset them back to the NN-predicted weights but there is also a function for this:"
   ]
  },
  {
   "cell_type": "code",
   "execution_count": 105,
   "metadata": {},
   "outputs": [
    {
     "name": "stdout",
     "output_type": "stream",
     "text": [
      "#reactions not found in NN-keys:  65 / 726\n",
      "of which are exchanges:  61\n"
     ]
    }
   ],
   "source": [
    "ungapfilled_model.reset_weights()"
   ]
  },
  {
   "cell_type": "markdown",
   "metadata": {},
   "source": [
    "Once you are ready to continue the gapfilling, you can use the class function gapfill() to resume the gap-filling process"
   ]
  },
  {
   "cell_type": "code",
   "execution_count": 106,
   "metadata": {},
   "outputs": [
    {
     "name": "stdout",
     "output_type": "stream",
     "text": [
      "Warning for adding constraints: zero or small (< 1e-13) coefficients, ignored\n",
      "Flux through biomass reaction is 1.00000000\n",
      "Flux through biomass reaction is 1.00000000\n",
      "Warning for adding constraints: zero or small (< 1e-13) coefficients, ignored\n",
      "\n",
      "\n",
      " condition is currently:  79817 \n",
      "\n",
      "\n",
      "Warning for adding constraints: zero or small (< 1e-13) coefficients, ignored\n",
      "\n",
      "\n",
      " condition is currently:  39908 \n",
      "\n",
      "\n",
      "Warning for adding constraints: zero or small (< 1e-13) coefficients, ignored\n",
      "\n",
      "\n",
      " condition is currently:  19954 \n",
      "\n",
      "\n",
      "Warning for adding constraints: zero or small (< 1e-13) coefficients, ignored\n",
      "\n",
      "\n",
      " condition is currently:  9977 \n",
      "\n",
      "\n",
      "Warning for adding constraints: zero or small (< 1e-13) coefficients, ignored\n",
      "\n",
      "\n",
      " condition is currently:  4988 \n",
      "\n",
      "\n",
      "Warning for adding constraints: zero or small (< 1e-13) coefficients, ignored\n",
      "\n",
      "\n",
      " condition is currently:  2494 \n",
      "\n",
      "\n",
      "Warning for adding constraints: zero or small (< 1e-13) coefficients, ignored\n",
      "\n",
      "\n",
      " condition is currently:  1247 \n",
      "\n",
      "\n",
      "Warning for adding constraints: zero or small (< 1e-13) coefficients, ignored\n",
      "\n",
      "\n",
      " condition is currently:  623 \n",
      "\n",
      "\n",
      "Warning for adding constraints: zero or small (< 1e-13) coefficients, ignored\n",
      "\n",
      "\n",
      " condition is currently:  311 \n",
      "\n",
      "\n",
      "Warning for adding constraints: zero or small (< 1e-13) coefficients, ignored\n",
      "\n",
      "\n",
      " condition is currently:  155 \n",
      "\n",
      "\n",
      "Warning for adding constraints: zero or small (< 1e-13) coefficients, ignored\n",
      "\n",
      "\n",
      " condition is currently:  77 \n",
      "\n",
      "\n",
      "Warning for adding constraints: zero or small (< 1e-13) coefficients, ignored\n",
      "\n",
      "\n",
      " condition is currently:  38 \n",
      "\n",
      "\n",
      "Warning for adding constraints: zero or small (< 1e-13) coefficients, ignored\n",
      "\n",
      "\n",
      " condition is currently:  19 \n",
      "\n",
      "\n",
      "Warning for adding constraints: zero or small (< 1e-13) coefficients, ignored\n",
      "\n",
      "\n",
      " condition is currently:  9 \n",
      "\n",
      "\n",
      "Warning for adding constraints: zero or small (< 1e-13) coefficients, ignored\n",
      "\n",
      "\n",
      " condition is currently:  4 \n",
      "\n",
      "\n",
      "Warning for adding constraints: zero or small (< 1e-13) coefficients, ignored\n",
      "\n",
      "\n",
      " condition is currently:  2 \n",
      "\n",
      "\n",
      "Warning for adding constraints: zero or small (< 1e-13) coefficients, ignored\n",
      "\n",
      "\n",
      " condition is currently:  1 \n",
      "\n",
      "\n",
      "Objective value is 0.392904.\n",
      "Read LP format model from file /tmp/tmpqpqfmmna.lp\n",
      "Reading time = 0.01 seconds\n",
      ": 801 rows, 1662 columns, 7428 nonzeros\n",
      "NN gapfilling added 105 new reactions\n",
      "The NN gapfilled model, comes with 831 reactions and 801 metabolites\n"
     ]
    },
    {
     "data": {
      "text/html": [
       "\n",
       "        <table>\n",
       "            <tr>\n",
       "                <td><strong>Name</strong></td>\n",
       "                <td>_gapfilled</td>\n",
       "            </tr><tr>\n",
       "                <td><strong>Memory address</strong></td>\n",
       "                <td>7feb32abd330</td>\n",
       "            </tr><tr>\n",
       "                <td><strong>Number of metabolites</strong></td>\n",
       "                <td>801</td>\n",
       "            </tr><tr>\n",
       "                <td><strong>Number of reactions</strong></td>\n",
       "                <td>831</td>\n",
       "            </tr><tr>\n",
       "                <td><strong>Number of genes</strong></td>\n",
       "                <td>529</td>\n",
       "            </tr><tr>\n",
       "                <td><strong>Number of groups</strong></td>\n",
       "                <td>0</td>\n",
       "            </tr><tr>\n",
       "                <td><strong>Objective expression</strong></td>\n",
       "                <td>1.0*bio1 - 1.0*bio1_reverse_b18f7</td>\n",
       "            </tr><tr>\n",
       "                <td><strong>Compartments</strong></td>\n",
       "                <td>c0, e0</td>\n",
       "            </tr>\n",
       "          </table>"
      ],
      "text/plain": [
       "<Model _gapfilled at 0x7feb32abd330>"
      ]
     },
     "execution_count": 106,
     "metadata": {},
     "output_type": "execute_result"
    }
   ],
   "source": [
    "ungapfilled_model.gapfill()"
   ]
  }
 ],
 "metadata": {
  "colab": {
   "authorship_tag": "ABX9TyMRx8EBTApfgWy7c3UVwZms",
   "include_colab_link": true,
   "provenance": []
  },
  "kernelspec": {
   "display_name": "tfcob",
   "language": "python",
   "name": "tfcob"
  },
  "language_info": {
   "codemirror_mode": {
    "name": "ipython",
    "version": 3
   },
   "file_extension": ".py",
   "mimetype": "text/x-python",
   "name": "python",
   "nbconvert_exporter": "python",
   "pygments_lexer": "ipython3",
   "version": "3.10.14"
  }
 },
 "nbformat": 4,
 "nbformat_minor": 0
}
