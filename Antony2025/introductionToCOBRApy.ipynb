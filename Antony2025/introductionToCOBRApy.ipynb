{
  "cells": [
    {
      "cell_type": "markdown",
      "metadata": {
        "id": "view-in-github",
        "colab_type": "text"
      },
      "source": [
        "<a href=\"https://colab.research.google.com/github/hariszaf/metabolic_toy_model/blob/main/Antony2025/introductionToCOBRApy.ipynb\" target=\"_parent\"><img src=\"https://colab.research.google.com/assets/colab-badge.svg\" alt=\"Open In Colab\"/></a>"
      ]
    },
    {
      "cell_type": "markdown",
      "metadata": {
        "id": "P355t1tnn_yX"
      },
      "source": [
        "# **Introduction to COBRApy**"
      ]
    },
    {
      "cell_type": "markdown",
      "metadata": {
        "id": "csF3Tnc9iA5K"
      },
      "source": [
        "### **Prepare your environment**"
      ]
    },
    {
      "cell_type": "markdown",
      "metadata": {
        "id": "7jtdb7mziA5K"
      },
      "source": [
        "To run this note, you need COBRApy and gurobi. [See the notebook on preparing your environment for a more detailed explanation](preparingYourEnvironment.ipynb)"
      ]
    },
    {
      "cell_type": "code",
      "execution_count": 1,
      "metadata": {
        "cellView": "form",
        "colab": {
          "base_uri": "https://localhost:8080/"
        },
        "id": "AzK10bvGiA5K",
        "outputId": "6c4d6944-8aae-42de-c59c-a94b826b75c4"
      },
      "outputs": [
        {
          "output_type": "stream",
          "name": "stdout",
          "text": [
            "License file created at /content/licenses/gurobi.lic\n"
          ]
        }
      ],
      "source": [
        "# @title\n",
        "import os\n",
        "def create_gurobi_license():\n",
        "    license_content = (\n",
        "        \"# Gurobi WLS license file\\n\"\n",
        "        \"# Your credentials are private and should not be shared or copied to public repositories.\\n\"\n",
        "        \"# Visit https://license.gurobi.com/manager/doc/overview for more information.\\n\"\n",
        "        \"WLSACCESSID=1fedf73b-9471-4da8-bdc7-2aaacf2e30f3\\n\"\n",
        "        \"WLSSECRET=3bc7d209-a4ec-4195-98be-4b254f181512\\n\"\n",
        "        \"LICENSEID=940603\"\n",
        "    )\n",
        "    with open(\"/content/licenses/gurobi.lic\", \"w\") as f:\n",
        "        f.write(license_content)\n",
        "    print(\"License file created at /content/licenses/gurobi.lic\")\n",
        "\n",
        "\n",
        "\n",
        "# Create directory for the license\n",
        "os.makedirs(\"/content/licenses\", exist_ok=True)\n",
        "\n",
        "# Generate the license file\n",
        "create_gurobi_license()\n",
        "\n",
        "#add to path\n",
        "os.environ['GRB_LICENSE_FILE'] = '/content/licenses/gurobi.lic'"
      ]
    },
    {
      "cell_type": "code",
      "execution_count": 2,
      "metadata": {
        "cellView": "form",
        "colab": {
          "base_uri": "https://localhost:8080/"
        },
        "collapsed": true,
        "id": "KMQtPlJviA5L",
        "outputId": "e61a058b-8565-4cca-8e1a-b8f0cf586aa3"
      },
      "outputs": [
        {
          "output_type": "stream",
          "name": "stdout",
          "text": [
            "Collecting gurobipy\n",
            "  Downloading gurobipy-12.0.1-cp311-cp311-manylinux2014_x86_64.manylinux_2_17_x86_64.whl.metadata (16 kB)\n",
            "Downloading gurobipy-12.0.1-cp311-cp311-manylinux2014_x86_64.manylinux_2_17_x86_64.whl (14.4 MB)\n",
            "\u001b[2K   \u001b[90m━━━━━━━━━━━━━━━━━━━━━━━━━━━━━━━━━━━━━━━━\u001b[0m \u001b[32m14.4/14.4 MB\u001b[0m \u001b[31m32.7 MB/s\u001b[0m eta \u001b[36m0:00:00\u001b[0m\n",
            "\u001b[?25hInstalling collected packages: gurobipy\n",
            "Successfully installed gurobipy-12.0.1\n",
            "Collecting cobra\n",
            "  Downloading cobra-0.29.1-py2.py3-none-any.whl.metadata (9.3 kB)\n",
            "Collecting appdirs~=1.4 (from cobra)\n",
            "  Downloading appdirs-1.4.4-py2.py3-none-any.whl.metadata (9.0 kB)\n",
            "Collecting depinfo~=2.2 (from cobra)\n",
            "  Downloading depinfo-2.2.0-py3-none-any.whl.metadata (3.8 kB)\n",
            "Collecting diskcache~=5.0 (from cobra)\n",
            "  Downloading diskcache-5.6.3-py3-none-any.whl.metadata (20 kB)\n",
            "Requirement already satisfied: future in /usr/local/lib/python3.11/dist-packages (from cobra) (1.0.0)\n",
            "Requirement already satisfied: httpx~=0.24 in /usr/local/lib/python3.11/dist-packages (from cobra) (0.28.1)\n",
            "Requirement already satisfied: importlib-resources in /usr/local/lib/python3.11/dist-packages (from cobra) (6.5.2)\n",
            "Requirement already satisfied: numpy>=1.13 in /usr/local/lib/python3.11/dist-packages (from cobra) (1.26.4)\n",
            "Collecting optlang~=1.8 (from cobra)\n",
            "  Downloading optlang-1.8.3-py2.py3-none-any.whl.metadata (8.2 kB)\n",
            "Requirement already satisfied: pandas<3.0,>=1.0 in /usr/local/lib/python3.11/dist-packages (from cobra) (2.2.2)\n",
            "Requirement already satisfied: pydantic>=1.6 in /usr/local/lib/python3.11/dist-packages (from cobra) (2.10.6)\n",
            "Collecting python-libsbml~=5.19 (from cobra)\n",
            "  Downloading python_libsbml-5.20.4-cp311-cp311-manylinux_2_17_x86_64.manylinux2014_x86_64.whl.metadata (532 bytes)\n",
            "Requirement already satisfied: rich>=8.0 in /usr/local/lib/python3.11/dist-packages (from cobra) (13.9.4)\n",
            "Collecting ruamel.yaml~=0.16 (from cobra)\n",
            "  Downloading ruamel.yaml-0.18.10-py3-none-any.whl.metadata (23 kB)\n",
            "Collecting swiglpk (from cobra)\n",
            "  Downloading swiglpk-5.0.12-cp311-cp311-manylinux_2_17_x86_64.manylinux2014_x86_64.whl.metadata (5.5 kB)\n",
            "Requirement already satisfied: anyio in /usr/local/lib/python3.11/dist-packages (from httpx~=0.24->cobra) (3.7.1)\n",
            "Requirement already satisfied: certifi in /usr/local/lib/python3.11/dist-packages (from httpx~=0.24->cobra) (2025.1.31)\n",
            "Requirement already satisfied: httpcore==1.* in /usr/local/lib/python3.11/dist-packages (from httpx~=0.24->cobra) (1.0.7)\n",
            "Requirement already satisfied: idna in /usr/local/lib/python3.11/dist-packages (from httpx~=0.24->cobra) (3.10)\n",
            "Requirement already satisfied: h11<0.15,>=0.13 in /usr/local/lib/python3.11/dist-packages (from httpcore==1.*->httpx~=0.24->cobra) (0.14.0)\n",
            "Requirement already satisfied: sympy>=1.12.0 in /usr/local/lib/python3.11/dist-packages (from optlang~=1.8->cobra) (1.13.1)\n",
            "Requirement already satisfied: python-dateutil>=2.8.2 in /usr/local/lib/python3.11/dist-packages (from pandas<3.0,>=1.0->cobra) (2.8.2)\n",
            "Requirement already satisfied: pytz>=2020.1 in /usr/local/lib/python3.11/dist-packages (from pandas<3.0,>=1.0->cobra) (2025.1)\n",
            "Requirement already satisfied: tzdata>=2022.7 in /usr/local/lib/python3.11/dist-packages (from pandas<3.0,>=1.0->cobra) (2025.1)\n",
            "Requirement already satisfied: annotated-types>=0.6.0 in /usr/local/lib/python3.11/dist-packages (from pydantic>=1.6->cobra) (0.7.0)\n",
            "Requirement already satisfied: pydantic-core==2.27.2 in /usr/local/lib/python3.11/dist-packages (from pydantic>=1.6->cobra) (2.27.2)\n",
            "Requirement already satisfied: typing-extensions>=4.12.2 in /usr/local/lib/python3.11/dist-packages (from pydantic>=1.6->cobra) (4.12.2)\n",
            "Requirement already satisfied: markdown-it-py>=2.2.0 in /usr/local/lib/python3.11/dist-packages (from rich>=8.0->cobra) (3.0.0)\n",
            "Requirement already satisfied: pygments<3.0.0,>=2.13.0 in /usr/local/lib/python3.11/dist-packages (from rich>=8.0->cobra) (2.18.0)\n",
            "Collecting ruamel.yaml.clib>=0.2.7 (from ruamel.yaml~=0.16->cobra)\n",
            "  Downloading ruamel.yaml.clib-0.2.12-cp311-cp311-manylinux_2_17_x86_64.manylinux2014_x86_64.whl.metadata (2.7 kB)\n",
            "Requirement already satisfied: mdurl~=0.1 in /usr/local/lib/python3.11/dist-packages (from markdown-it-py>=2.2.0->rich>=8.0->cobra) (0.1.2)\n",
            "Requirement already satisfied: six>=1.5 in /usr/local/lib/python3.11/dist-packages (from python-dateutil>=2.8.2->pandas<3.0,>=1.0->cobra) (1.17.0)\n",
            "Requirement already satisfied: mpmath<1.4,>=1.1.0 in /usr/local/lib/python3.11/dist-packages (from sympy>=1.12.0->optlang~=1.8->cobra) (1.3.0)\n",
            "Requirement already satisfied: sniffio>=1.1 in /usr/local/lib/python3.11/dist-packages (from anyio->httpx~=0.24->cobra) (1.3.1)\n",
            "Downloading cobra-0.29.1-py2.py3-none-any.whl (1.2 MB)\n",
            "\u001b[2K   \u001b[90m━━━━━━━━━━━━━━━━━━━━━━━━━━━━━━━━━━━━━━━━\u001b[0m \u001b[32m1.2/1.2 MB\u001b[0m \u001b[31m17.4 MB/s\u001b[0m eta \u001b[36m0:00:00\u001b[0m\n",
            "\u001b[?25hDownloading appdirs-1.4.4-py2.py3-none-any.whl (9.6 kB)\n",
            "Downloading depinfo-2.2.0-py3-none-any.whl (24 kB)\n",
            "Downloading diskcache-5.6.3-py3-none-any.whl (45 kB)\n",
            "\u001b[2K   \u001b[90m━━━━━━━━━━━━━━━━━━━━━━━━━━━━━━━━━━━━━━━━\u001b[0m \u001b[32m45.5/45.5 kB\u001b[0m \u001b[31m5.5 MB/s\u001b[0m eta \u001b[36m0:00:00\u001b[0m\n",
            "\u001b[?25hDownloading optlang-1.8.3-py2.py3-none-any.whl (141 kB)\n",
            "\u001b[2K   \u001b[90m━━━━━━━━━━━━━━━━━━━━━━━━━━━━━━━━━━━━━━━━\u001b[0m \u001b[32m141.8/141.8 kB\u001b[0m \u001b[31m18.7 MB/s\u001b[0m eta \u001b[36m0:00:00\u001b[0m\n",
            "\u001b[?25hDownloading python_libsbml-5.20.4-cp311-cp311-manylinux_2_17_x86_64.manylinux2014_x86_64.whl (8.0 MB)\n",
            "\u001b[2K   \u001b[90m━━━━━━━━━━━━━━━━━━━━━━━━━━━━━━━━━━━━━━━━\u001b[0m \u001b[32m8.0/8.0 MB\u001b[0m \u001b[31m38.6 MB/s\u001b[0m eta \u001b[36m0:00:00\u001b[0m\n",
            "\u001b[?25hDownloading ruamel.yaml-0.18.10-py3-none-any.whl (117 kB)\n",
            "\u001b[2K   \u001b[90m━━━━━━━━━━━━━━━━━━━━━━━━━━━━━━━━━━━━━━━━\u001b[0m \u001b[32m117.7/117.7 kB\u001b[0m \u001b[31m12.7 MB/s\u001b[0m eta \u001b[36m0:00:00\u001b[0m\n",
            "\u001b[?25hDownloading swiglpk-5.0.12-cp311-cp311-manylinux_2_17_x86_64.manylinux2014_x86_64.whl (2.3 MB)\n",
            "\u001b[2K   \u001b[90m━━━━━━━━━━━━━━━━━━━━━━━━━━━━━━━━━━━━━━━━\u001b[0m \u001b[32m2.3/2.3 MB\u001b[0m \u001b[31m72.9 MB/s\u001b[0m eta \u001b[36m0:00:00\u001b[0m\n",
            "\u001b[?25hDownloading ruamel.yaml.clib-0.2.12-cp311-cp311-manylinux_2_17_x86_64.manylinux2014_x86_64.whl (739 kB)\n",
            "\u001b[2K   \u001b[90m━━━━━━━━━━━━━━━━━━━━━━━━━━━━━━━━━━━━━━━━\u001b[0m \u001b[32m739.1/739.1 kB\u001b[0m \u001b[31m48.0 MB/s\u001b[0m eta \u001b[36m0:00:00\u001b[0m\n",
            "\u001b[?25hInstalling collected packages: swiglpk, python-libsbml, appdirs, ruamel.yaml.clib, diskcache, depinfo, ruamel.yaml, optlang, cobra\n",
            "Successfully installed appdirs-1.4.4 cobra-0.29.1 depinfo-2.2.0 diskcache-5.6.3 optlang-1.8.3 python-libsbml-5.20.4 ruamel.yaml-0.18.10 ruamel.yaml.clib-0.2.12 swiglpk-5.0.12\n"
          ]
        }
      ],
      "source": [
        "# @title\n",
        "!pip install gurobipy\n",
        "!pip install cobra"
      ]
    },
    {
      "cell_type": "code",
      "execution_count": 3,
      "metadata": {
        "cellView": "form",
        "colab": {
          "base_uri": "https://localhost:8080/"
        },
        "id": "1yaVJuEJiA5M",
        "outputId": "d17ed684-a5be-40ec-81a9-d81f3fccdbca"
      },
      "outputs": [
        {
          "output_type": "stream",
          "name": "stdout",
          "text": [
            "Set parameter WLSAccessID\n",
            "Set parameter WLSSecret\n",
            "Set parameter LicenseID to value 940603\n",
            "Academic license 940603 - for non-commercial use only - registered to da___@gmail.com\n",
            "Gurobi is working! 😀\n",
            "flux balance analysis solution is 0.8739215069684305\n",
            "COBRApy is working 😀\n"
          ]
        }
      ],
      "source": [
        "# @title\n",
        "import gurobipy\n",
        "from gurobipy import Model\n",
        "model = Model(\"test\")\n",
        "print(\"Gurobi is working!\", \"\\U0001F600\")\n",
        "\n",
        "#install COBRApy\n",
        "import cobra\n",
        "from cobra.io import load_model\n",
        "model = load_model(\"textbook\")\n",
        "solution = model.optimize()\n",
        "print(f\"flux balance analysis solution is {solution.objective_value}\")\n",
        "print(\"COBRApy is working\", \"\\U0001F600\")"
      ]
    },
    {
      "cell_type": "markdown",
      "metadata": {
        "id": "zCUCqizoiA5M"
      },
      "source": [
        "### **Illustration with three gut species**"
      ]
    },
    {
      "cell_type": "markdown",
      "metadata": {
        "id": "uVYKOH4wiA5M"
      },
      "source": [
        "![gutSpecies](https://github.com/hariszaf/metabolic_toy_model/blob/main/Antony2025/images/multistabilityPaper.png?raw=1)"
      ]
    },
    {
      "cell_type": "markdown",
      "metadata": {
        "id": "t_fi8V8niA5M"
      },
      "source": [
        "### **Bonus quest**"
      ]
    },
    {
      "cell_type": "markdown",
      "metadata": {
        "id": "tCLr49y-iA5M"
      },
      "source": [
        "1) Get the three toy models"
      ]
    },
    {
      "cell_type": "code",
      "execution_count": null,
      "metadata": {
        "id": "c5e0opqPiA5M"
      },
      "outputs": [],
      "source": []
    },
    {
      "cell_type": "code",
      "execution_count": null,
      "metadata": {
        "id": "geArOc4HiA5M"
      },
      "outputs": [],
      "source": [
        "# @title\n",
        "sugar_fermenter = cobra.io.read_sbml_model(\"files/models/sugar_fermenter_toy_model.xml\")\n",
        "butyrate_producer = cobra.io.read_sbml_model(\"files/models/butyrate_producer_toy_model.xml\")\n",
        "acetogen = cobra.io.read_sbml_model(\"files/models/acetogen_toy_model.xml\")"
      ]
    },
    {
      "cell_type": "markdown",
      "metadata": {
        "id": "WVbAKcRBiA5N"
      },
      "source": [
        "2) Find their exchange reactions"
      ]
    },
    {
      "cell_type": "code",
      "execution_count": null,
      "metadata": {
        "id": "ctY4VV2KiA5N"
      },
      "outputs": [],
      "source": []
    },
    {
      "cell_type": "code",
      "execution_count": null,
      "metadata": {
        "cellView": "form",
        "id": "7qbejZmQiA5N"
      },
      "outputs": [],
      "source": [
        "# @title\n",
        "\n",
        "def findExchanges(model):\n",
        "    for reaction in model.reactions:\n",
        "        if 'EX_' in reaction.id: #alternatively use i in model.exchanges\n",
        "            reac_string = reaction.build_reaction_string(use_metabolite_names =True)\n",
        "\n",
        "            print(f\"{reaction.id}\\t{reac_string}\")\n",
        "\n",
        "\n",
        "print(\"Sugar fermenter:\")\n",
        "findExchanges(sugar_fermenter)\n",
        "\n",
        "print(\"\\nButyrate producer:\")\n",
        "findExchanges(butyrate_producer)\n",
        "\n",
        "print(\"\\nAcetogen:\")\n",
        "findExchanges(acetogen)"
      ]
    },
    {
      "cell_type": "markdown",
      "metadata": {
        "id": "xrjtCLjRiA5N"
      },
      "source": [
        "3) Make a medium based on their exchange reactions like a python dictionary\n",
        "\n",
        "[exchange_reaction] : -10\n",
        "\n",
        "the `-10` is an arbitrary number representing the maximum amount of the compound that the strain can import from the enviroment."
      ]
    },
    {
      "cell_type": "code",
      "execution_count": null,
      "metadata": {
        "id": "_DuWyTbIiA5N"
      },
      "outputs": [],
      "source": []
    },
    {
      "cell_type": "code",
      "execution_count": null,
      "metadata": {
        "cellView": "form",
        "id": "GMotFJ34iA5N"
      },
      "outputs": [],
      "source": [
        "# @title\n",
        "def makeMediumFromModels(modelList):\n",
        "    medium = {}\n",
        "\n",
        "    for model in modelList:\n",
        "        for reaction in model.exchanges:\n",
        "            medium[reaction.id] = -10\n",
        "\n",
        "    return medium\n",
        "\n",
        "medium = makeMediumFromModels([sugar_fermenter, butyrate_producer, acetogen])\n",
        "print(medium)"
      ]
    },
    {
      "cell_type": "markdown",
      "metadata": {
        "id": "dr8-xn2kiA5N"
      },
      "source": [
        "4) Make a function to generate a random medium for these exchange reactions\n",
        "\n",
        "[exchange_reaction] : random lower limit"
      ]
    },
    {
      "cell_type": "code",
      "execution_count": null,
      "metadata": {
        "id": "xhHyA10-iA5N"
      },
      "outputs": [],
      "source": []
    },
    {
      "cell_type": "code",
      "execution_count": null,
      "metadata": {
        "cellView": "form",
        "id": "bKSQjnmCiA5N"
      },
      "outputs": [],
      "source": [
        "# @title\n",
        "import numpy as np\n",
        "\n",
        "def makeRandomMedium(medium_dict):\n",
        "    return {reaction: -1*np.random.uniform() for reaction in medium_dict}\n",
        "\n",
        "\n",
        "\n",
        "med1 = makeRandomMedium(medium)\n",
        "med2 = makeRandomMedium(medium)\n",
        "med3 = makeRandomMedium(medium)\n",
        "\n",
        "print(f\"{med1}\\n\\n{med2}\\n\\n{med3}\")"
      ]
    },
    {
      "cell_type": "markdown",
      "metadata": {
        "id": "ZoXtNl7piA5N"
      },
      "source": [
        "5) Make a function to apply a medium to a model\n",
        "\n",
        "```python\n",
        "def applyMedium(model, medium_dict):\n",
        "    #return the growth rate of the model in this medium\n",
        "\n",
        "```"
      ]
    },
    {
      "cell_type": "code",
      "execution_count": null,
      "metadata": {
        "id": "1dF9aFB8iA5N"
      },
      "outputs": [],
      "source": []
    },
    {
      "cell_type": "code",
      "execution_count": null,
      "metadata": {
        "cellView": "form",
        "id": "X2h1UG9JiA5N"
      },
      "outputs": [],
      "source": [
        "# @title\n",
        "def applyMedium(model, medium_dict):\n",
        "    for reaction in medium_dict:\n",
        "        if model.reactions.has_id(reaction):\n",
        "            model.reactions.get_by_id(reaction).lower_limit = medium_dict[reaction]\n",
        "\n",
        "    solution = model.optimize()\n",
        "    return solution.objective_value\n",
        "\n",
        "print(f\"sugar fermenter: {applyMedium(sugar_fermenter, med1)}\")\n",
        "print(f\"\\nbutyrate producer: {applyMedium(butyrate_producer, med1)}\")\n",
        "print(f\"\\nacetogen: {applyMedium(acetogen, med1)}\")\n"
      ]
    },
    {
      "cell_type": "markdown",
      "metadata": {
        "id": "9SYxdo-QiA5N"
      },
      "source": [
        "6) Apply 1000 random medias to each model and store their growth rates, visualize with an histogram"
      ]
    },
    {
      "cell_type": "code",
      "execution_count": null,
      "metadata": {
        "id": "NySwERBbiA5N"
      },
      "outputs": [],
      "source": []
    },
    {
      "cell_type": "code",
      "execution_count": null,
      "metadata": {
        "id": "UfFBQqF5cZWa",
        "cellView": "form"
      },
      "outputs": [],
      "source": [
        "# @title\n",
        "sf = np.zeros(1000)\n",
        "bp = np.zeros(1000)\n",
        "ac = np.zeros(1000)\n",
        "\n",
        "for i in range(1000):\n",
        "    medium = makeRandomMedium(medium)\n",
        "    sf[i] = applyMedium(sugar_fermenter, medium)\n",
        "    bp[i] = applyMedium(butyrate_producer, medium)\n",
        "    ac[i] = applyMedium(acetogen, medium)\n",
        "\n",
        "import matplotlib.pyplot as plt\n",
        "\n",
        "plt.hist(sf, 25, density=True, color = 'red')\n",
        "plt.show()\n",
        "plt.hist(bp, 25,  density=True, color = 'blue')\n",
        "plt.show()\n",
        "plt.hist(ac, 25,  density=True, color = 'orange')\n",
        "plt.show()"
      ]
    }
  ],
  "metadata": {
    "colab": {
      "provenance": [],
      "include_colab_link": true
    },
    "kernelspec": {
      "display_name": "Python 3",
      "name": "python3"
    },
    "language_info": {
      "name": "python"
    }
  },
  "nbformat": 4,
  "nbformat_minor": 0
}