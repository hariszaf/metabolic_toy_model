{
  "cells": [
    {
      "cell_type": "markdown",
      "metadata": {
        "colab_type": "text",
        "id": "view-in-github"
      },
      "source": [
        "<a href=\"https://colab.research.google.com/github/hariszaf/metabolic_toy_model/blob/main/Antony2025/introductionToCOBRApy.ipynb\" target=\"_parent\"><img src=\"https://colab.research.google.com/assets/colab-badge.svg\" alt=\"Open In Colab\"/></a>"
      ]
    },
    {
      "cell_type": "markdown",
      "metadata": {
        "id": "P355t1tnn_yX"
      },
      "source": [
        "# **Introduction to COBRApy**"
      ]
    },
    {
      "cell_type": "markdown",
      "metadata": {},
      "source": [
        "### **Prepare your environment**"
      ]
    },
    {
      "cell_type": "markdown",
      "metadata": {},
      "source": [
        "To run this note, you need COBRApy and gurobi. [See the notebook on preparing your environment for a more detailed explanation](preparingYourEnvironment.ipynb)"
      ]
    },
    {
      "cell_type": "code",
      "execution_count": null,
      "metadata": {},
      "outputs": [],
      "source": [
        "import os\n",
        "def create_gurobi_license():\n",
        "    license_content = (\n",
        "        \"# Gurobi WLS license file\\n\"\n",
        "        \"# Your credentials are private and should not be shared or copied to public repositories.\\n\"\n",
        "        \"# Visit https://license.gurobi.com/manager/doc/overview for more information.\\n\"\n",
        "        \"WLSACCESSID=1fedf73b-9471-4da8-bdc7-2aaacf2e30f3\\n\"\n",
        "        \"WLSSECRET=3bc7d209-a4ec-4195-98be-4b254f181512\\n\"\n",
        "        \"LICENSEID=940603\"\n",
        "    )\n",
        "    with open(\"/content/licenses/gurobi.lic\", \"w\") as f:\n",
        "        f.write(license_content)\n",
        "    print(\"License file created at /content/licenses/gurobi.lic\")\n",
        "\n",
        "\n",
        "\n",
        "# Create directory for the license\n",
        "os.makedirs(\"/content/licenses\", exist_ok=True)\n",
        "\n",
        "# Generate the license file\n",
        "create_gurobi_license()\n",
        "\n",
        "#add to path\n",
        "os.environ['GRB_LICENSE_FILE'] = '/content/licenses/gurobi.lic'"
      ]
    },
    {
      "cell_type": "code",
      "execution_count": null,
      "metadata": {},
      "outputs": [],
      "source": [
        "# @title\n",
        "!pip install gurobipy\n",
        "!pip install cobra"
      ]
    },
    {
      "cell_type": "code",
      "execution_count": null,
      "metadata": {},
      "outputs": [],
      "source": [
        "import gurobipy\n",
        "from gurobipy import Model\n",
        "model = Model(\"test\")\n",
        "print(\"Gurobi is working!\", \"\\U0001F600\")\n",
        "\n",
        "#install COBRApy\n",
        "import cobra\n",
        "from cobra.io import load_model\n",
        "model = load_model(\"textbook\")\n",
        "solution = model.optimize()\n",
        "print(f\"flux balance analysis solution is {solution.objective_value}\")\n",
        "print(\"COBRApy is working\", \"\\U0001F600\")"
      ]
    },
    {
      "cell_type": "markdown",
      "metadata": {},
      "source": [
        "### **Illustration with three gut species**"
      ]
    },
    {
      "cell_type": "markdown",
      "metadata": {},
      "source": [
        "![gutSpecies](images/multistabilityPaper.png)"
      ]
    },
    {
      "cell_type": "markdown",
      "metadata": {},
      "source": [
        "### **Bonus quest**"
      ]
    },
    {
      "cell_type": "markdown",
      "metadata": {},
      "source": [
        "1) Get the three toy models"
      ]
    },
    {
      "cell_type": "code",
      "execution_count": null,
      "metadata": {},
      "outputs": [],
      "source": []
    },
    {
      "cell_type": "code",
      "execution_count": null,
      "metadata": {},
      "outputs": [],
      "source": [
        "sugar_fermenter = cobra.io.read_sbml_model(\"files/models/sugar_fermenter.xml\")\n",
        "butyrate_producer = cobra.io.read_sbml_model(\"files/models/butyrate_producer_toy_model.xml\")\n",
        "acetogen = cobra.io.read_sbml_model(\"files/models/acetogen_toy_model.xml\")"
      ]
    },
    {
      "cell_type": "markdown",
      "metadata": {},
      "source": [
        "2) Find their exchange reactions"
      ]
    },
    {
      "cell_type": "code",
      "execution_count": null,
      "metadata": {},
      "outputs": [],
      "source": []
    },
    {
      "cell_type": "code",
      "execution_count": null,
      "metadata": {},
      "outputs": [],
      "source": [
        "\n",
        "def findExchanges(model):\n",
        "    for reaction in model.reactions:\n",
        "        if 'EX_' in reaction.id: #alternatively use i in model.exchanges\n",
        "            reac_string = reaction.build_reaction_string(use_metabolite_names =True)\n",
        "            \n",
        "            print(f\"{reaction.id}\\t{reac_string}\")\n",
        "\n",
        "\n",
        "print(\"Sugar fermenter:\")\n",
        "findExchanges(sugar_fermenter)\n",
        "\n",
        "print(\"\\nButyrate producer:\")\n",
        "findExchanges(butyrate_producer)\n",
        "\n",
        "print(\"\\nAcetogen:\")\n",
        "findExchanges(acetogen)"
      ]
    },
    {
      "cell_type": "markdown",
      "metadata": {},
      "source": [
        "3) Make a medium based on their exchange reactions like a python dictionary\n",
        "\n",
        "[exchange_reaction] : -10\n",
        "\n",
        "the `-10` is an arbitrary number representing the maximum amount of the compound that the strain can import from the enviroment."
      ]
    },
    {
      "cell_type": "code",
      "execution_count": null,
      "metadata": {},
      "outputs": [],
      "source": []
    },
    {
      "cell_type": "code",
      "execution_count": null,
      "metadata": {},
      "outputs": [],
      "source": [
        "def makeMediumFromModels(modelList):\n",
        "    medium = {}\n",
        "    \n",
        "    for model in modelList:\n",
        "        for reaction in model.exchanges:\n",
        "            medium[reaction.id] = -10\n",
        "    \n",
        "    return medium\n",
        "\n",
        "medium = makeMediumFromModels([sugar_fermenter, butyrate_producer, acetogen])\n",
        "print(medium)"
      ]
    },
    {
      "cell_type": "markdown",
      "metadata": {},
      "source": [
        "4) Make a function to generate a random medium for these exchange reactions\n",
        "\n",
        "[exchange_reaction] : random lower limit"
      ]
    },
    {
      "cell_type": "code",
      "execution_count": null,
      "metadata": {},
      "outputs": [],
      "source": []
    },
    {
      "cell_type": "code",
      "execution_count": null,
      "metadata": {},
      "outputs": [],
      "source": [
        "import numpy as np\n",
        "\n",
        "def makeRandomMedium(medium_dict):\n",
        "    return {reaction: -1*np.random.uniform() for reaction in medium_dict}\n",
        "\n",
        "\n",
        "\n",
        "med1 = makeRandomMedium(medium)\n",
        "med2 = makeRandomMedium(medium)\n",
        "med3 = makeRandomMedium(medium)\n",
        "\n",
        "print(f\"{med1}\\n\\n{med2}\\n\\n{med3}\")"
      ]
    },
    {
      "cell_type": "markdown",
      "metadata": {},
      "source": [
        "5) Make a function to apply a medium to a model \n",
        "\n",
        "```python\n",
        "def applyMedium(model, medium_dict):\n",
        "    #return the growth rate of the model in this medium\n",
        "\n",
        "```"
      ]
    },
    {
      "cell_type": "code",
      "execution_count": null,
      "metadata": {},
      "outputs": [],
      "source": []
    },
    {
      "cell_type": "code",
      "execution_count": null,
      "metadata": {},
      "outputs": [],
      "source": [
        "def applyMedium(model, medium_dict):\n",
        "    for reaction in medium_dict:\n",
        "        if model.reactions.has_id(reaction):\n",
        "            model.reactions.get_by_id(reaction).lower_limit = medium_dict[reaction]\n",
        "    \n",
        "    solution = model.optimize()\n",
        "    return solution.objective_value\n",
        "\n",
        "print(f\"sugar fermenter: {applyMedium(sugar_fermenter, med1)}\")\n",
        "print(f\"\\nbutyrate producer: {applyMedium(butyrate_producer, med1)}\")\n",
        "print(f\"\\nacetogen: {applyMedium(acetogen, med1)}\")\n"
      ]
    },
    {
      "cell_type": "markdown",
      "metadata": {},
      "source": [
        "6) Apply 1000 random medias to each model and store their growth rates, visualize with an histogram"
      ]
    },
    {
      "cell_type": "code",
      "execution_count": null,
      "metadata": {},
      "outputs": [],
      "source": []
    },
    {
      "cell_type": "markdown",
      "metadata": {},
      "source": [
        "sf = np.zeros(1000)\n",
        "bp = np.zeros(1000)\n",
        "ac = np.zeros(1000)\n",
        "\n",
        "for i in range(1000):\n",
        "    medium = makeRandomMedium(medium)\n",
        "    sf[i] = applyMedium(sugar_fermenter, medium)\n",
        "    bp[i] = applyMedium(butyrate_producer, medium)\n",
        "    ac[i] = applyMedium(acetogen, medium)\n",
        "    \n",
        "import matplotlib.pyplot as plt\n",
        "\n",
        "plt.hist(sf, 25, density=True, color = 'red')\n",
        "plt.show()\n",
        "plt.hist(bp, 25,  density=True, color = 'blue')\n",
        "plt.show()\n",
        "plt.hist(ac, 25,  density=True, color = 'orange')\n",
        "plt.show()"
      ]
    },
    {
      "cell_type": "code",
      "execution_count": null,
      "metadata": {
        "id": "UfFBQqF5cZWa"
      },
      "outputs": [],
      "source": []
    }
  ],
  "metadata": {
    "colab": {
      "authorship_tag": "ABX9TyN/NbB1Vax1pcJplvQHLbk6",
      "include_colab_link": true,
      "provenance": []
    },
    "kernelspec": {
      "display_name": "Python 3",
      "name": "python3"
    },
    "language_info": {
      "name": "python"
    }
  },
  "nbformat": 4,
  "nbformat_minor": 0
}
