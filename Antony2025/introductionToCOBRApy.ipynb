{
  "cells": [
    {
      "cell_type": "markdown",
      "metadata": {
        "colab_type": "text",
        "id": "view-in-github"
      },
      "source": [
        "<a href=\"https://colab.research.google.com/github/hariszaf/metabolic_toy_model/blob/main/Antony2025/introductionToCOBRApy.ipynb\" target=\"_parent\"><img src=\"https://colab.research.google.com/assets/colab-badge.svg\" alt=\"Open In Colab\"/></a>"
      ]
    },
    {
      "cell_type": "markdown",
      "metadata": {
        "id": "P355t1tnn_yX"
      },
      "source": [
        "# **Introduction to COBRApy**"
      ]
    },
    {
      "cell_type": "markdown",
      "metadata": {},
      "source": [
        "## "
      ]
    },
    {
      "cell_type": "markdown",
      "metadata": {},
      "source": [
        "<!-- TODO (Haris Zafeiropoulos, 2025-03-11): \n",
        "Daniel to add the intro part with the biorender fig.\n",
        "-->"
      ]
    },
    {
      "cell_type": "code",
      "execution_count": null,
      "metadata": {},
      "outputs": [],
      "source": []
    },
    {
      "cell_type": "markdown",
      "metadata": {},
      "source": [
        "We will first use three toy models for three human gut species that occupy important ecological niches in the gut and are known to metabolically interact with one another as in the following diagram:"
      ]
    },
    {
      "cell_type": "markdown",
      "metadata": {},
      "source": [
        "![species schema](../files/figs/species_schema.png)"
      ]
    },
    {
      "cell_type": "markdown",
      "metadata": {},
      "source": [
        "These ecological niches are based on the metabolism of the following three species:"
      ]
    },
    {
      "cell_type": "markdown",
      "metadata": {},
      "source": [
        "![test](../files/figs/primeferm_but_acet.png)"
      ]
    },
    {
      "cell_type": "code",
      "execution_count": null,
      "metadata": {},
      "outputs": [],
      "source": []
    },
    {
      "cell_type": "code",
      "execution_count": null,
      "metadata": {},
      "outputs": [],
      "source": []
    },
    {
      "cell_type": "markdown",
      "metadata": {},
      "source": [
        "## Building a metabolic toy model "
      ]
    },
    {
      "cell_type": "markdown",
      "metadata": {},
      "source": [
        "### The openCOBRA project"
      ]
    },
    {
      "cell_type": "markdown",
      "metadata": {},
      "source": [
        "First, load all the necessary libraries for this section. "
      ]
    },
    {
      "cell_type": "code",
      "execution_count": 5,
      "metadata": {
        "id": "UfFBQqF5cZWa"
      },
      "outputs": [],
      "source": [
        "import pandas as pd\n",
        "import cobra"
      ]
    },
    {
      "cell_type": "markdown",
      "metadata": {},
      "source": [
        "We will now consider a set of core-metabolism related reactions to build a toy-model, meaning a model that is not representing the actual metabolism of a living species,\n",
        "but it will be an easy way for us to \"jam\" a little :sunglasses: "
      ]
    },
    {
      "cell_type": "markdown",
      "metadata": {},
      "source": [
        "After this section, you will (have to) be able to:\n",
        "\n",
        "* parse the metabolites of a `cobra` model \n",
        "* parse the reactions of a `cobra` model \n",
        "* view and edit the medium of a `cobra` model \n",
        "* reach the objective function of the model and get its optimal solution -- we will discuss further this part and its background on [tomorrow's afternoon session](./computationalMethods.ipynb)"
      ]
    },
    {
      "cell_type": "markdown",
      "metadata": {},
      "source": [
        "But before anything further, **what is `cobra`**? :thinking: \\U+1F914"
      ]
    },
    {
      "cell_type": "markdown",
      "metadata": {},
      "source": [
        "[openCOBRA](https://opencobra.github.io) is an open-source, community-developed code base for COnstraint-Based Reconstruction and Analysis.\n",
        "\n",
        "Its name is also indicative of our workshop's program: \n",
        "\n",
        "* **Reconstruction:** \n",
        "  \n",
        "  how can we represent a species' metabolism in terms of a programming object? How can we link a reaction to its metabolites and to the genes that code for their corresponding enzymes?  \n",
        "  Such questions and more will be covered in this session. Its application on the genome-scale will be shown in the [exact following session](./reconstructingDraftGSMMs.ipynb).\n",
        "\n",
        "* **Cosntraint-based Analysis**:\n",
        "\n",
        "  The definition of constraints and the various types of analyses for metabolic models will be discussed during [tomorrow's afternoon session](./computationalMethods.ipynb). \n",
        "  During this last session, we will explore how COBRA methods are actually applied throughout the workshop sessions.\n"
      ]
    },
    {
      "cell_type": "markdown",
      "metadata": {},
      "source": [
        "The openCOBRA project supports COBRA methods across several programming languages. For this workshop, we will be using COBRApy, although it's important to note that the project began with MATLAB, and many analyses and routines are still only available in the COBRA Toolbox. However, the Python interface of COBRA offers a more accessible approach for capturing the complexity of integrated biological networks and provides an integration framework for multiomics data in systems biology.\n",
        "\n",
        "For more on COBRApy you may study its corresponding [publication](https://bmcsystbiol.biomedcentral.com/articles/10.1186/1752-0509-7-74).\n",
        "\n",
        "What you will need for sure though for this workshop and for your future metabolic modeling adventures in Python is cobra's [documentation page](https://bmcsystbiol.biomedcentral.com/articles/10.1186/1752-0509-7-74)."
      ]
    },
    {
      "cell_type": "markdown",
      "metadata": {},
      "source": [
        "### Building a metabolic toy-model"
      ]
    },
    {
      "cell_type": "markdown",
      "metadata": {},
      "source": [
        "In the [`BT_metabolicReactions.txt`](files/BT_metabolicReactions.txt) we have brought together a set of reactions to highlight *Bacteroides thetaiotaomicron*'s (BT) nature as a primary fermenter."
      ]
    },
    {
      "cell_type": "code",
      "execution_count": 28,
      "metadata": {},
      "outputs": [
        {
          "data": {
            "text/html": [
              "<div>\n",
              "<style scoped>\n",
              "    .dataframe tbody tr th:only-of-type {\n",
              "        vertical-align: middle;\n",
              "    }\n",
              "\n",
              "    .dataframe tbody tr th {\n",
              "        vertical-align: top;\n",
              "    }\n",
              "\n",
              "    .dataframe thead th {\n",
              "        text-align: right;\n",
              "    }\n",
              "</style>\n",
              "<table border=\"1\" class=\"dataframe\">\n",
              "  <thead>\n",
              "    <tr style=\"text-align: right;\">\n",
              "      <th></th>\n",
              "      <th>ID (BIGG)</th>\n",
              "      <th>ID (SEED)</th>\n",
              "      <th>name</th>\n",
              "      <th>Reaction</th>\n",
              "      <th>exchange</th>\n",
              "      <th>SEED link</th>\n",
              "      <th>Notes</th>\n",
              "    </tr>\n",
              "  </thead>\n",
              "  <tbody>\n",
              "    <tr>\n",
              "      <th>0</th>\n",
              "      <td>GLCt2r</td>\n",
              "      <td>rxn05573</td>\n",
              "      <td>D-glucose transport in via proton symport</td>\n",
              "      <td>D-Glucose[1] + H+[1] &lt;=&gt; D-Glucose + H+</td>\n",
              "      <td>D-Glucose[1]</td>\n",
              "      <td>https://modelseed.org/biochem/reactions/rxn05573</td>\n",
              "      <td>NaN</td>\n",
              "    </tr>\n",
              "    <tr>\n",
              "      <th>1</th>\n",
              "      <td>HEX1</td>\n",
              "      <td>rxn00216</td>\n",
              "      <td>ATP:D-glucose 6-phosphotransferase</td>\n",
              "      <td>ATP + D-Glucose =&gt; ADP + H+ + D-glucose-6-phos...</td>\n",
              "      <td>NaN</td>\n",
              "      <td>https://modelseed.org/biochem/reactions/rxn00216</td>\n",
              "      <td>NaN</td>\n",
              "    </tr>\n",
              "    <tr>\n",
              "      <th>2</th>\n",
              "      <td>PGI</td>\n",
              "      <td>rxn00558</td>\n",
              "      <td>D-glucose-6-phosphate aldose-ketose-isomerase</td>\n",
              "      <td>D-glucose-6-phosphate &lt;=&gt; D-fructose-6-phosphate</td>\n",
              "      <td>NaN</td>\n",
              "      <td>https://modelseed.org/biochem/reactions/rxn00558</td>\n",
              "      <td>NaN</td>\n",
              "    </tr>\n",
              "    <tr>\n",
              "      <th>3</th>\n",
              "      <td>PFK</td>\n",
              "      <td>rxn00545</td>\n",
              "      <td>ATP:D-fructose-6-phosphate 1-phosphotransferase</td>\n",
              "      <td>ATP + D-fructose-6-phosphate =&gt; ADP + H+ + D-f...</td>\n",
              "      <td>NaN</td>\n",
              "      <td>https://modelseed.org/biochem/reactions/rxn00545</td>\n",
              "      <td>NaN</td>\n",
              "    </tr>\n",
              "    <tr>\n",
              "      <th>4</th>\n",
              "      <td>FBA</td>\n",
              "      <td>rxn00786</td>\n",
              "      <td>D-fructose-1,6-bisphosphate D-glyceraldehyde-3...</td>\n",
              "      <td>D-fructose-1,6-bisphosphate &lt;=&gt; Glycerone-phos...</td>\n",
              "      <td>NaN</td>\n",
              "      <td>https://modelseed.org/biochem/reactions/rxn00786</td>\n",
              "      <td>NaN</td>\n",
              "    </tr>\n",
              "  </tbody>\n",
              "</table>\n",
              "</div>"
            ],
            "text/plain": [
              "  ID (BIGG) ID (SEED)                                               name  \\\n",
              "0    GLCt2r  rxn05573          D-glucose transport in via proton symport   \n",
              "1      HEX1  rxn00216                 ATP:D-glucose 6-phosphotransferase   \n",
              "2       PGI  rxn00558      D-glucose-6-phosphate aldose-ketose-isomerase   \n",
              "3       PFK  rxn00545    ATP:D-fructose-6-phosphate 1-phosphotransferase   \n",
              "4       FBA  rxn00786  D-fructose-1,6-bisphosphate D-glyceraldehyde-3...   \n",
              "\n",
              "                                            Reaction      exchange  \\\n",
              "0            D-Glucose[1] + H+[1] <=> D-Glucose + H+  D-Glucose[1]   \n",
              "1  ATP + D-Glucose => ADP + H+ + D-glucose-6-phos...           NaN   \n",
              "2   D-glucose-6-phosphate <=> D-fructose-6-phosphate           NaN   \n",
              "3  ATP + D-fructose-6-phosphate => ADP + H+ + D-f...           NaN   \n",
              "4  D-fructose-1,6-bisphosphate <=> Glycerone-phos...           NaN   \n",
              "\n",
              "                                          SEED link Notes  \n",
              "0  https://modelseed.org/biochem/reactions/rxn05573   NaN  \n",
              "1  https://modelseed.org/biochem/reactions/rxn00216   NaN  \n",
              "2  https://modelseed.org/biochem/reactions/rxn00558   NaN  \n",
              "3  https://modelseed.org/biochem/reactions/rxn00545   NaN  \n",
              "4  https://modelseed.org/biochem/reactions/rxn00786   NaN  "
            ]
          },
          "execution_count": 28,
          "metadata": {},
          "output_type": "execute_result"
        }
      ],
      "source": [
        "genome_reactions = pd.read_csv(\"files/BT_metabolicReactions.txt\", sep=\"\\t\") \n",
        "genome_reactions.head()"
      ]
    },
    {
      "cell_type": "markdown",
      "metadata": {},
      "source": [
        "As shown above, this file has seven columns from which \n",
        "* **BIGG id**\n",
        "\n",
        "    [BiGG Models](http://bigg.ucsd.edu) is a knowledgebase of genome-scale metabolic network reconstructions that integrates metabolic models building a set of standardized identifiers called BiGG IDs.\n",
        "\n",
        "\n",
        "\n",
        "* **SEED id**\n",
        "\n",
        "    [ModelSEED](https://modelseed.org) is a resource for the reconstruction, exploration, comparison, and analysis of metabolic models.\n",
        "    ModelSEED brings its own namespace for metabolites (`cpd_` prefix) and reactions (`rxn_` prefix). \n",
        "    You may [browse on ModelSEED](https://modelseed.org/biochem/reactions) even without being a user, yet by making an account you are able to reconstruct draft models on the fly. \n",
        "    Moreover, ModelSEED is integrated with [KBase](https://www.kbase.us),\n",
        "    a community-driven research platform for systems biology that provides open science tools, data, and computing resources. \n",
        "\n",
        "* **Reaction**\n",
        "\n",
        "    In this column, we can see three important things:\n",
        "    - products and the reactants participating the reaction\n",
        "    - the stoichiometry \n",
        "    - the **reversibility** of the reaction\n",
        "\n",
        "The rest of the columns are much easier to get now: under the **name** column, there's the name of the reaction according to ModelSEED ontology, the **reaction** column provides the stoichiometry of it and its *reversibility*, while the **exchange** column shows which metabolite is being exchange between the cell itself (cytosol) and its environment. \n",
        "Last, **SEED link** points to the ModelSEED record of the reaction, and **Notes** gives some extra information on what or why we have added a reaction on this set.\n"
      ]
    },
    {
      "cell_type": "markdown",
      "metadata": {},
      "source": [
        "In total, this file contains 23 reactions:"
      ]
    },
    {
      "cell_type": "code",
      "execution_count": 27,
      "metadata": {},
      "outputs": [
        {
          "data": {
            "text/plain": [
              "(23, 7)"
            ]
          },
          "execution_count": 27,
          "metadata": {},
          "output_type": "execute_result"
        }
      ],
      "source": [
        "genome_reactions.shape"
      ]
    },
    {
      "cell_type": "markdown",
      "metadata": {},
      "source": [
        "which will be the basis for the toy model. \n",
        "The reconstruction process for this toy-model is out-of-scope of this workshop, but in case you are interested you may have a look at the corresponding [build_bt_model.py](../scripts/build_bt_model.py).\n",
        "\n",
        "This script's output is a [Systems Biology Markup Language (SBML)](https://sbml.org) file. \n",
        "As mention in SBML's page, SBML is a **software data format for describing models** in biology. \n",
        "You can think of it as a structure way to denote certain entities like metabolites, reactions, genes and their relationships.\n",
        "\n",
        "> **Hint!** \n",
        "> SBML is **not** tool-dependent or analysis-specific; rather, it serves as a standardized interface for building models that can be used across different system platforms and operating systems. Software and tools for metabolic model analysis typically rely on SBML as the primary format for receiving input, i.e., the metabolic model."
      ]
    },
    {
      "cell_type": "markdown",
      "metadata": {},
      "source": [
        "Let us now have a look on the SBML toy-model we built for BT!"
      ]
    },
    {
      "cell_type": "markdown",
      "metadata": {},
      "source": [
        "### Model's basic parts "
      ]
    },
    {
      "cell_type": "markdown",
      "metadata": {},
      "source": [
        "Let us have a look on its content."
      ]
    },
    {
      "cell_type": "code",
      "execution_count": 2,
      "metadata": {},
      "outputs": [
        {
          "name": "stdout",
          "output_type": "stream",
          "text": [
            "<?xml version=\"1.0\" encoding=\"UTF-8\"?>\n",
            "<sbml xmlns=\"http://www.sbml.org/sbml/level3/version1/core\" xmlns:fbc=\"http://www.sbml.org/sbml/level3/version1/fbc/version2\" sboTerm=\"SBO:0000624\" level=\"3\" version=\"1\" fbc:required=\"false\">\n",
            "  <model metaid=\"meta_sugar_fermenter\" id=\"sugar_fermenter\" fbc:strict=\"true\">\n",
            "    <listOfUnitDefinitions>\n",
            "      <unitDefinition id=\"mmol_per_gDW_per_hr\">\n",
            "        <listOfUnits>\n",
            "          <unit kind=\"mole\" exponent=\"1\" scale=\"-3\" multiplier=\"1\"/>\n",
            "          <unit kind=\"gram\" exponent=\"-1\" scale=\"0\" multiplier=\"1\"/>\n",
            "          <unit kind=\"second\" exponent=\"-1\" scale=\"0\" multiplier=\"3600\"/>\n",
            "        </listOfUnits>\n",
            "      </unitDefinition>\n",
            "    </listOfUnitDefinitions>\n",
            "    <listOfCompartments>\n",
            "      <compartment id=\"e\" constant=\"true\"/>\n",
            "      <compartment id=\"c\" constant=\"true\"/>\n",
            "    </listOfCompartments>\n",
            "    <listOfSpecies>\n",
            "      <species id=\"M_cpd00027_e\" name=\"D-Glucose\" compartment=\"e\" hasOnlySubstanceUnits=\"false\" boundaryCondition=\"false\" constant=\"false\" fbc:chemicalFormula=\"C6H12O6\"/>\n",
            "      <species id=\"M_cpd00067_e\" name=\"H+\" compartment=\"e\" hasOnlySubstanceUnits=\"false\" boundaryCondition=\"false\" constant=\"false\" fbc:chemicalFormula=\"H\"/>\n",
            "      <species id=\"M_cpd00027_c\" name=\"D-Glucose\" compartment=\"c\" hasOnlySubstanceUnits=\"false\" boundaryCondition=\"false\" constant=\"false\" fbc:chemicalFormula=\"C6H12O6\"/>\n"
          ]
        }
      ],
      "source": [
        "%%bash\n",
        "head -20 ../files/models/sugar_fermenter_toy_model.xml"
      ]
    },
    {
      "cell_type": "markdown",
      "metadata": {},
      "source": [
        "Most likely, it does not look that helpful, especially if you think that a genome-scale model would come up with thousands of metabolites and reactions!\n",
        "\n",
        "And this is the first instance where `cobra` comes to our rescue!\n",
        "\n",
        "We will use `cobra` to *load* the model in an easily accessible way."
      ]
    },
    {
      "cell_type": "code",
      "execution_count": 6,
      "metadata": {},
      "outputs": [
        {
          "name": "stdout",
          "output_type": "stream",
          "text": [
            "Set parameter Username\n",
            "Set parameter LicenseID to value 2634947\n",
            "Academic license - for non-commercial use only - expires 2026-03-11\n"
          ]
        },
        {
          "data": {
            "text/html": [
              "\n",
              "        <table>\n",
              "            <tr>\n",
              "                <td><strong>Name</strong></td>\n",
              "                <td>sugar_fermenter</td>\n",
              "            </tr><tr>\n",
              "                <td><strong>Memory address</strong></td>\n",
              "                <td>7b993333cfd0</td>\n",
              "            </tr><tr>\n",
              "                <td><strong>Number of metabolites</strong></td>\n",
              "                <td>37</td>\n",
              "            </tr><tr>\n",
              "                <td><strong>Number of reactions</strong></td>\n",
              "                <td>33</td>\n",
              "            </tr><tr>\n",
              "                <td><strong>Number of genes</strong></td>\n",
              "                <td>0</td>\n",
              "            </tr><tr>\n",
              "                <td><strong>Number of groups</strong></td>\n",
              "                <td>0</td>\n",
              "            </tr><tr>\n",
              "                <td><strong>Objective expression</strong></td>\n",
              "                <td>1.0*biomass - 1.0*biomass_reverse_01e59</td>\n",
              "            </tr><tr>\n",
              "                <td><strong>Compartments</strong></td>\n",
              "                <td>e, c</td>\n",
              "            </tr>\n",
              "          </table>"
            ],
            "text/plain": [
              "<Model sugar_fermenter at 0x7b993333cfd0>"
            ]
          },
          "execution_count": 6,
          "metadata": {},
          "output_type": "execute_result"
        }
      ],
      "source": [
        "# NOTE (Haris Zafeiropoulos, 2025-03-11): we get model from main folder, not the Antony\n",
        "bt_model = cobra.io.read_sbml_model(\"../files/models/sugar_fermenter_toy_model.xml\")\n",
        "bt_model"
      ]
    },
    {
      "cell_type": "markdown",
      "metadata": {},
      "source": [
        "The keen-eyed read will notice that the number of reactions (33) is not like the one in the `.txt` file (23).\n",
        "\n",
        "With an easy check, we can seed that the last three reactions from the `.txt` are not part of our model, meaning that a total of 13 reactions that are part of our model, they are not in the `.txt` file:\n",
        "`RNF`, `biomass` and `rxn05654`.\n",
        "\n",
        "So, what's those added reactions ? \n",
        "\n"
      ]
    },
    {
      "cell_type": "markdown",
      "metadata": {},
      "source": [
        "So, as you can see from this summary of your model, it includes a couple of metabolites "
      ]
    },
    {
      "cell_type": "code",
      "execution_count": 37,
      "metadata": {},
      "outputs": [
        {
          "data": {
            "text/html": [
              "<div>\n",
              "<style scoped>\n",
              "    .dataframe tbody tr th:only-of-type {\n",
              "        vertical-align: middle;\n",
              "    }\n",
              "\n",
              "    .dataframe tbody tr th {\n",
              "        vertical-align: top;\n",
              "    }\n",
              "\n",
              "    .dataframe thead th {\n",
              "        text-align: right;\n",
              "    }\n",
              "</style>\n",
              "<table border=\"1\" class=\"dataframe\">\n",
              "  <thead>\n",
              "    <tr style=\"text-align: right;\">\n",
              "      <th></th>\n",
              "      <th>ID (BIGG)</th>\n",
              "      <th>ID (SEED)</th>\n",
              "      <th>name</th>\n",
              "      <th>Reaction</th>\n",
              "      <th>exchange</th>\n",
              "      <th>SEED link</th>\n",
              "      <th>Notes</th>\n",
              "    </tr>\n",
              "  </thead>\n",
              "  <tbody>\n",
              "    <tr>\n",
              "      <th>20</th>\n",
              "      <td>RNF</td>\n",
              "      <td>NaN</td>\n",
              "      <td>Ferredoxin:NAD oxidoreductase ( 2 protons tras...</td>\n",
              "      <td>(3)H+ + NAD + (2) Reduced-ferredoxins &lt;=&gt; NADH...</td>\n",
              "      <td>NaN</td>\n",
              "      <td>http://bigg.ucsd.edu/universal/reactions/RNF</td>\n",
              "      <td>not in found in mSEED</td>\n",
              "    </tr>\n",
              "    <tr>\n",
              "      <th>21</th>\n",
              "      <td>biomass</td>\n",
              "      <td>NaN</td>\n",
              "      <td>mock objective</td>\n",
              "      <td>(2) Acetyl-CoA + (3) ATP + (2) NADH + (2) H+ =...</td>\n",
              "      <td>NaN</td>\n",
              "      <td>NaN</td>\n",
              "      <td>NaN</td>\n",
              "    </tr>\n",
              "    <tr>\n",
              "      <th>22</th>\n",
              "      <td>NaN</td>\n",
              "      <td>rxn05654</td>\n",
              "      <td>Transport of succinate, extracellular</td>\n",
              "      <td>Succinate + H+[1] &lt;=&gt; Succinate + H+</td>\n",
              "      <td>Succinate</td>\n",
              "      <td>https://modelseed.org/biochem/reactions/rxn05654</td>\n",
              "      <td>NaN</td>\n",
              "    </tr>\n",
              "  </tbody>\n",
              "</table>\n",
              "</div>"
            ],
            "text/plain": [
              "   ID (BIGG)   ID (SEED)                                               name  \\\n",
              "20       RNF         NaN  Ferredoxin:NAD oxidoreductase ( 2 protons tras...   \n",
              "21   biomass         NaN                                     mock objective   \n",
              "22       NaN  rxn05654                Transport of succinate, extracellular   \n",
              "\n",
              "                                             Reaction   exchange  \\\n",
              "20  (3)H+ + NAD + (2) Reduced-ferredoxins <=> NADH...        NaN   \n",
              "21  (2) Acetyl-CoA + (3) ATP + (2) NADH + (2) H+ =...        NaN   \n",
              "22               Succinate + H+[1] <=> Succinate + H+  Succinate   \n",
              "\n",
              "                                           SEED link                  Notes  \n",
              "20      http://bigg.ucsd.edu/universal/reactions/RNF  not in found in mSEED  \n",
              "21                                               NaN                    NaN  \n",
              "22  https://modelseed.org/biochem/reactions/rxn05654                    NaN  "
            ]
          },
          "execution_count": 37,
          "metadata": {},
          "output_type": "execute_result"
        }
      ],
      "source": [
        "genome_reactions.tail(3)"
      ]
    },
    {
      "cell_type": "markdown",
      "metadata": {},
      "source": [
        "#### Reaction types"
      ]
    },
    {
      "cell_type": "markdown",
      "metadata": {},
      "source": [
        "So now, we have a model with several metabolites and reactions, which take place in both the cytosol (`c`) and out of the cell (`e`).\n",
        "\n",
        "\n",
        "\n",
        "Also, there is an ***objective function***! \n",
        "\n",
        "Let's check on this!\n"
      ]
    },
    {
      "cell_type": "code",
      "execution_count": null,
      "metadata": {},
      "outputs": [],
      "source": [
        "bt_model.reactions.biomass"
      ]
    },
    {
      "cell_type": "markdown",
      "metadata": {},
      "source": [
        "> **The extra mile**\n",
        "> \n",
        "> This step had a little cheat on our side, since there was no reason to already know which reaction is being used\n",
        "> as the objective function. \n",
        "> And even if we would notice from the name that has something to do with the biomass, we do not know the actual id of the reaction.\n",
        "> In an actual GEM, to make sure which is the reaction used as the objective function of the model, you would have to check the coefficients of each reaction in the objective function vector\n",
        "> \n",
        "> ```obj_index = [r.objective_coefficient for r in model.reactions].index(True)```\n",
        "> "
      ]
    },
    {
      "cell_type": "code",
      "execution_count": 8,
      "metadata": {},
      "outputs": [
        {
          "data": {
            "text/plain": [
              "'biomass'"
            ]
          },
          "execution_count": 8,
          "metadata": {},
          "output_type": "execute_result"
        }
      ],
      "source": [
        "# Getting the reaction id of the objective function in an actual case \n",
        "obj_index = [r.objective_coefficient for r in bt_model.reactions].index(True)\n",
        "bt_model.reactions[obj_index].id"
      ]
    },
    {
      "cell_type": "markdown",
      "metadata": {},
      "source": [
        "So, what is interesting besides the stoichiometry of the biomass reaction, indicating what compounds are required for biomass to be produced, and also what compounds are being produced, is that there is a **lower** and an **upper bound** in the `Reaction` object.\n",
        "\n",
        "These values are **essential** for the model as they are those implying its constraints. \n",
        "\n",
        "For the biomass function you can see that there is a lower bound of 0 indicating that the model cannot have a negative flux for biomass, i.e. consume biomass, while the upper bound can be considered free, since it gets an extreme high value."
      ]
    },
    {
      "cell_type": "markdown",
      "metadata": {},
      "source": [
        "The total list of the **exchange** reactions present in a model, reaction objects for the metabolites that could **potentially be exchanged** (in or out), are available by running:"
      ]
    },
    {
      "cell_type": "code",
      "execution_count": null,
      "metadata": {},
      "outputs": [],
      "source": [
        "bt_model.exchanges"
      ]
    },
    {
      "cell_type": "markdown",
      "metadata": {},
      "source": [
        "*Exchange* reactions are a type of **boundary reactions**.\n",
        "There are three different types of pre-defined **boundary reactions**. \n",
        "All of them are **unbalanced pseudo reactions**, that means they fulfill a function for modeling by **adding to or removing metabolites** from the model system but are **not based on real biolog**y. These reaction types include:\n",
        "\n",
        "* **exchange:** reversible reactions that add to or remove an extracellular metabolite from the extracellular compartment \n",
        "* **demand:** irreversible reaction that each consumes an intracellular metabolite. \n",
        "* **sink** is similar to an exchange but specifically for intracellular metabolites, i.e., a reversible reaction that adds or removes an intracellular metabolite."
      ]
    },
    {
      "cell_type": "markdown",
      "metadata": {},
      "source": [
        "Likewise, we can get the **sink** reactions:"
      ]
    },
    {
      "cell_type": "code",
      "execution_count": null,
      "metadata": {},
      "outputs": [],
      "source": [
        "bt_model.sinks"
      ]
    },
    {
      "cell_type": "markdown",
      "metadata": {},
      "source": [
        "While, we can also get all the boundary reactions together"
      ]
    },
    {
      "cell_type": "code",
      "execution_count": null,
      "metadata": {},
      "outputs": [],
      "source": [
        "bt_model.boundary"
      ]
    },
    {
      "cell_type": "markdown",
      "metadata": {},
      "source": [
        "> Task! \n",
        ">\n",
        "> Could you find whether other reactions except of the exchange ones are part of the boundary reactions of your model ? \n",
        ">\n",
        "> Is there any reaction type that is missing from your boundary reactions?"
      ]
    },
    {
      "cell_type": "markdown",
      "metadata": {},
      "source": [
        "#### *In silico* environment of your species"
      ]
    },
    {
      "cell_type": "markdown",
      "metadata": {},
      "source": [
        "However, only if a metabolite is available in the `medium` of the model can be actually used. \n",
        "`medium` contains the information about the concentration of metabolites that are available to the model from the external compartment (media metabolites).\n"
      ]
    },
    {
      "cell_type": "code",
      "execution_count": null,
      "metadata": {},
      "outputs": [],
      "source": [
        "bt_model.medium"
      ]
    },
    {
      "cell_type": "markdown",
      "metadata": {},
      "source": [
        "For a human readable version of the same information, one may run:"
      ]
    },
    {
      "cell_type": "code",
      "execution_count": null,
      "metadata": {},
      "outputs": [],
      "source": [
        "for rxn in bt_model.medium:\n",
        "    cobra_rxn = bt_model.reactions.get_by_id(rxn)\n",
        "    cobra_met = cobra_rxn.metabolites\n",
        "    print(\"reaction string:\", cobra_rxn.build_reaction_string(), \"metabolites:\", [x.name for x in cobra_met])"
      ]
    },
    {
      "cell_type": "markdown",
      "metadata": {},
      "source": [
        "However, the medium in which your species would grow can be different from the one it brings with it by default.\n",
        "Yet, the way `cobra` builds the `medium` attribute, you cannot edit it directly."
      ]
    },
    {
      "cell_type": "code",
      "execution_count": 23,
      "metadata": {},
      "outputs": [
        {
          "name": "stdout",
          "output_type": "stream",
          "text": [
            "1000.0\n",
            "1000.0\n"
          ]
        }
      ],
      "source": [
        "print(bt_model.medium[\"EX_cpd00027_e\"])\n",
        "bt_model.medium[\"EX_cpd00027_e\"] = 10 \n",
        "print(bt_model.medium[\"EX_cpd00027_e\"])"
      ]
    },
    {
      "cell_type": "markdown",
      "metadata": {},
      "source": [
        "> :question: **Task!**\n",
        "> \n",
        "> How would you try to edit your medium ? \n",
        ">\n",
        "> Try to first edit the bound of an exchange reaction already part of the medium. \n",
        ">\n",
        "> Then, try to remove one and add another. :rocket:\n",
        "<!-- :hammer: -->"
      ]
    },
    {
      "cell_type": "markdown",
      "metadata": {},
      "source": [
        "#### Metabolites in `cobra`\n",
        "A list that contains an object for each metabolite in the model.\n",
        "\n",
        "There are different functions to retrieve the desired metabolite object from the model, according to some query criteria:\n",
        "\n",
        "`model.metabolites.get_by_id` , `model.metabolites.get_by_any`, `model.metabolites.has_id`\n",
        "\n",
        "The most important attributes of a metabolite object are:\n",
        "\n",
        "- id - allows one to access the model object.\n"
      ]
    },
    {
      "cell_type": "code",
      "execution_count": null,
      "metadata": {},
      "outputs": [],
      "source": [
        "water = bt_model.metabolites.cpd00001_c\n",
        "water"
      ]
    },
    {
      "cell_type": "markdown",
      "metadata": {},
      "source": [
        "if the database used contains ids that are not suitable as python variable names (such as the BIGG ids), the metabolite can be accessed with the `get_by_id` function of the `model.metabolites` object.\n"
      ]
    },
    {
      "cell_type": "code",
      "execution_count": null,
      "metadata": {},
      "outputs": [],
      "source": [
        "water = bt_model.metabolites.get_by_id('cpd00001_c') #same result as above\n",
        "water"
      ]
    },
    {
      "cell_type": "markdown",
      "metadata": {},
      "source": [
        "Some attributes of the `metabolite` object"
      ]
    },
    {
      "cell_type": "code",
      "execution_count": null,
      "metadata": {},
      "outputs": [],
      "source": [
        "#name\n",
        "print('name: ', water.name)\n",
        "\n",
        "#formula\n",
        "print('formula: ', water.formula)\n",
        "\n",
        "#elements\n",
        "print('elements: ', water.elements)\n",
        "\n",
        "#charge\n",
        "print('charge: ', water.charge)\n",
        "\n",
        "#compartment (The metabolite ids commonly have a '_c' or '_e' as a suffix, to indicate their compartments)\n",
        "print('compartment: ', water.compartment)\n",
        "\n",
        "#reactions (reaction objects where the metabolite is either a reactant or a product)\n",
        "print('reactions: ', water.reactions)"
      ]
    },
    {
      "cell_type": "markdown",
      "metadata": {},
      "source": [
        "#### Reactions in `cobra`\n",
        "Also an attribute of the model object. Consists of a list containing a reaction object for each of the model's reactions."
      ]
    },
    {
      "cell_type": "code",
      "execution_count": null,
      "metadata": {},
      "outputs": [],
      "source": [
        "#number of reactions in the model\n",
        "print(len(bt_model.reactions))"
      ]
    },
    {
      "cell_type": "code",
      "execution_count": null,
      "metadata": {},
      "outputs": [],
      "source": [
        "for r in bt_model.reactions:\n",
        "    print(r.id, r.build_reaction_string(use_metabolite_names=1))"
      ]
    },
    {
      "cell_type": "markdown",
      "metadata": {},
      "source": [
        "Similar to the metabolite objects, reaction objects may be accessed directly by their ids or with the special functions:\n",
        "\n",
        "\n",
        "`model.reactions.get_by_id` , `model.reactions.get_by_any`, `model.reactions.has_id`\n"
      ]
    },
    {
      "cell_type": "code",
      "execution_count": 15,
      "metadata": {},
      "outputs": [
        {
          "name": "stdout",
          "output_type": "stream",
          "text": [
            "rxn00225: cpd00002_c + cpd00029_e <-- cpd00008_c + cpd00196_c\n",
            "rxn00225: cpd00002_c + cpd00029_e <-- cpd00008_c + cpd00196_c\n"
          ]
        }
      ],
      "source": [
        "acetate_ptransferase = bt_model.reactions.rxn00225\n",
        "print(acetate_ptransferase)\n",
        "acetate_ptransferase = bt_model.reactions.get_by_id('rxn00225')\n",
        "print(acetate_ptransferase)"
      ]
    },
    {
      "cell_type": "markdown",
      "metadata": {},
      "source": [
        "Relevant attributes of the reaction object:"
      ]
    },
    {
      "cell_type": "code",
      "execution_count": 16,
      "metadata": {},
      "outputs": [
        {
          "name": "stdout",
          "output_type": "stream",
          "text": [
            "name: ATP:acetate phosphotransferase \n",
            "\n",
            "compartments:  {'e', 'c'} \n",
            "\n",
            "metabolites:  {<Metabolite cpd00002_c at 0x7ec21ac2d750>: -1.0, <Metabolite cpd00029_e at 0x7ec21acc7f10>: -1.0, <Metabolite cpd00008_c at 0x7ec21ac2d650>: 1.0, <Metabolite cpd00196_c at 0x7ec21ac4ddd0>: 1.0}\n",
            "['ATP', 'Acetate', 'ADP', 'Acetylphosphate'] \n",
            "\n",
            "reactants:  [<Metabolite cpd00002_c at 0x7ec21ac2d750>, <Metabolite cpd00029_e at 0x7ec21acc7f10>]\n",
            "['ATP', 'Acetate'] \n",
            "\n",
            "products:  [<Metabolite cpd00008_c at 0x7ec21ac2d650>, <Metabolite cpd00196_c at 0x7ec21ac4ddd0>]\n",
            "['ADP', 'Acetylphosphate'] \n",
            "\n",
            "reaction:  cpd00002_c + cpd00029_e <-- cpd00008_c + cpd00196_c \n",
            "\n",
            "cpd00002_c + cpd00029_e <-- cpd00008_c + cpd00196_c\n",
            "ATP + Acetate <-- ADP + Acetylphosphate\n"
          ]
        }
      ],
      "source": [
        "#name\n",
        "print('name:', acetate_ptransferase.name, '\\n')\n",
        "\n",
        "#compartments (while metabolites are present on a single compartments, reactions may occur across compartments)\n",
        "print('compartments: ', acetate_ptransferase.compartments, '\\n')\n",
        "\n",
        "#metabolites\n",
        "print('metabolites: ', acetate_ptransferase.metabolites)\n",
        "print([i.name for i in acetate_ptransferase.metabolites], '\\n')\n",
        "\n",
        "#reactants\n",
        "print('reactants: ', acetate_ptransferase.reactants)\n",
        "print([i.name for i in acetate_ptransferase.reactants], '\\n')\n",
        "\n",
        "#products\n",
        "print('products: ', acetate_ptransferase.products)\n",
        "print([i.name for i in acetate_ptransferase.products], '\\n')\n",
        "\n",
        "#reaction\n",
        "print('reaction: ', acetate_ptransferase.reaction, '\\n')\n",
        "\n",
        "#other ways to see the reaction\n",
        "print(acetate_ptransferase.build_reaction_string())\n",
        "\n",
        "print(acetate_ptransferase.build_reaction_string(use_metabolite_names=1))"
      ]
    },
    {
      "cell_type": "code",
      "execution_count": null,
      "metadata": {},
      "outputs": [],
      "source": [
        "#see the details of the metabolic reactions containing the metabolite\n",
        "for i in water.reactions:\n",
        "  print(i.id, '\\t', i.build_reaction_string(use_metabolite_names=True), '\\n')"
      ]
    },
    {
      "cell_type": "markdown",
      "metadata": {},
      "source": [
        "Notice that the `reaction.metabolites` object returns a python dictionary where the keys are the metabolite objects that participate in the reactions and the values are their stoichiometries. Reactants and products have, respectively, negative and positive values.\n",
        "\n",
        "Since this is a constraint-based model, reactions also have lower and upper bounds, which constraint the fluxes. Through these bounds we may cotrol the direction of the reaction."
      ]
    },
    {
      "cell_type": "code",
      "execution_count": 18,
      "metadata": {},
      "outputs": [
        {
          "name": "stdout",
          "output_type": "stream",
          "text": [
            "lower bound:  0 \n",
            "\n",
            "upper bound:  0.0 \n",
            "\n",
            "updated lower bound:  0 \n",
            "\n",
            "Default reaction:  ATP + Acetate --> ADP + Acetylphosphate \n",
            "\n",
            "Is my reaction reversible? False\n",
            "irreversible reaction:  ATP + Acetate --> ADP + Acetylphosphate\n"
          ]
        }
      ],
      "source": [
        "print('lower bound: ', acetate_ptransferase.lower_bound, '\\n')\n",
        "\n",
        "print('upper bound: ', acetate_ptransferase.upper_bound, '\\n')\n",
        "\n",
        "# Set the lower bound to zero\n",
        "acetate_ptransferase.lower_bound = 0\n",
        "print('updated lower bound: ', acetate_ptransferase.lower_bound, '\\n')\n",
        "\n",
        "print('Default reaction: ', acetate_ptransferase.build_reaction_string(use_metabolite_names=1), '\\n')\n",
        "\n",
        "print(\"Is my reaction reversible?\", acetate_ptransferase.reversibility)\n",
        "\n",
        "# Still, we can make it if we wish to\n",
        "print('irreversible reaction: ', acetate_ptransferase.build_reaction_string(use_metabolite_names=1))"
      ]
    },
    {
      "cell_type": "markdown",
      "metadata": {},
      "source": [
        "##### Types of reactions\n",
        "\n",
        "We can distinguish reactions based on the compartments of their metabolites\n",
        "\n",
        "\n",
        "- Internal\n",
        "\n",
        "Reactions that occur only in the cytosol. E.g.:"
      ]
    },
    {
      "cell_type": "code",
      "execution_count": null,
      "metadata": {},
      "outputs": [],
      "source": [
        "ldh = bt_model.reactions.rxn00499\n",
        "ldh"
      ]
    },
    {
      "cell_type": "markdown",
      "metadata": {},
      "source": [
        "- Transport\n",
        "\n",
        "Reactions that take extracellular metabolites and transport them into the cell (i.e. convert them into cytosol metabolites)"
      ]
    },
    {
      "cell_type": "code",
      "execution_count": null,
      "metadata": {},
      "outputs": [],
      "source": [
        "gluT = bt_model.reactions.rxn05573\n",
        "\n",
        "print(gluT.build_reaction_string(use_metabolite_names=True))\n",
        "print(gluT.build_reaction_string(use_metabolite_names=False))\n",
        "\n",
        "print(gluT.upper_bound)\n",
        "\n",
        "print(gluT.lower_bound)\n",
        "\n",
        "#Notice that 'cpd00027_e' is converted to 'cpd00027_c'."
      ]
    },
    {
      "cell_type": "markdown",
      "metadata": {},
      "source": [
        "- Exchange\n",
        "\n",
        "Reactions that make a metabolite available in the extracellular space. From the extracellular space it can be taken up by a transporter."
      ]
    },
    {
      "cell_type": "code",
      "execution_count": null,
      "metadata": {},
      "outputs": [],
      "source": [
        "print([i.id for i in bt_model.exchanges])\n",
        "\n",
        "gluExch = bt_model.reactions.EX_cpd00027_e\n",
        "\n",
        "print(gluExch.build_reaction_string(use_metabolite_names=1))\n",
        "\n",
        "print(gluExch.lower_bound)\n",
        "\n",
        "print(gluExch.upper_bound)\n",
        "\n",
        "# Notice that the inward flux is negative. If the flux is positive, it means the metabolite is getting secreted."
      ]
    },
    {
      "cell_type": "markdown",
      "metadata": {},
      "source": [
        "- Sink\n",
        "\n",
        "Reactions that eliminate a dead-end metabolite (i.e. a metabolite that is not consumed by any further reaction and is not secreted)"
      ]
    },
    {
      "cell_type": "code",
      "execution_count": null,
      "metadata": {},
      "outputs": [],
      "source": [
        "piSk = bt_model.reactions.piSink\n",
        "\n",
        "print(piSk.build_reaction_string(use_metabolite_names=1))\n",
        "\n",
        "print(piSk.lower_bound)\n",
        "\n",
        "print(piSk.upper_bound)"
      ]
    },
    {
      "cell_type": "markdown",
      "metadata": {},
      "source": [
        "- Objective\n",
        "\n",
        "Based on the `objective coefficient`, we can obtain the reaction that is 'maximized' (or minimized) by the model."
      ]
    },
    {
      "cell_type": "code",
      "execution_count": 7,
      "metadata": {},
      "outputs": [
        {
          "name": "stdout",
          "output_type": "stream",
          "text": [
            "biomass\n"
          ]
        }
      ],
      "source": [
        "for i in bt_model.reactions:\n",
        "    if i.objective_coefficient==1:\n",
        "        print(i.id)"
      ]
    },
    {
      "cell_type": "markdown",
      "metadata": {},
      "source": [
        "Let us know check what would change if our Bt model would not \"care\" for maximizing its growth, but its ATP production!\n",
        "ATP production is described in the rxn00148 ModelSEED reaction."
      ]
    },
    {
      "cell_type": "code",
      "execution_count": 18,
      "metadata": {},
      "outputs": [
        {
          "name": "stdout",
          "output_type": "stream",
          "text": [
            "cpd00002_c + cpd00020_c <=> cpd00008_c + cpd00061_c + cpd00067_c\n",
            "Pyruvate\n",
            "ATP\n",
            "ADP\n",
            "Phosphoenolpyruvate\n",
            "H+\n"
          ]
        }
      ],
      "source": [
        "print(bt_model.reactions.rxn00148.build_reaction_string())\n",
        "for met in bt_model.reactions.rxn00148.metabolites:\n",
        "    print(met.name)"
      ]
    },
    {
      "cell_type": "markdown",
      "metadata": {},
      "source": [
        "The key point here is to observe which compounds are considered as **reactants** and which as **products**!"
      ]
    },
    {
      "cell_type": "code",
      "execution_count": 13,
      "metadata": {},
      "outputs": [],
      "source": [
        "sol = bt_model.optimize()"
      ]
    },
    {
      "cell_type": "code",
      "execution_count": 16,
      "metadata": {},
      "outputs": [
        {
          "data": {
            "text/plain": [
              "np.float64(-740.7407407407408)"
            ]
          },
          "execution_count": 16,
          "metadata": {},
          "output_type": "execute_result"
        }
      ],
      "source": [
        "sol.fluxes.loc[\"rxn00148\"]"
      ]
    },
    {
      "cell_type": "code",
      "execution_count": null,
      "metadata": {},
      "outputs": [],
      "source": []
    },
    {
      "cell_type": "markdown",
      "metadata": {},
      "source": [
        "We need to change the objective function to the one for ATP production and then solve the linear program once again."
      ]
    },
    {
      "cell_type": "code",
      "execution_count": 25,
      "metadata": {},
      "outputs": [],
      "source": [
        "bt_model.objective = bt_model.reactions.rxn00148"
      ]
    },
    {
      "cell_type": "code",
      "execution_count": 26,
      "metadata": {},
      "outputs": [],
      "source": [
        "sol_atp = bt_model.optimize()"
      ]
    },
    {
      "cell_type": "code",
      "execution_count": 27,
      "metadata": {},
      "outputs": [],
      "source": [
        "bt_model.objective_direction = \"min\"\n",
        "sol_atp_min = bt_model.optimize()"
      ]
    },
    {
      "cell_type": "markdown",
      "metadata": {},
      "source": [
        "So, let use see now the optimal solution and the fluxes of the model for maximizing ATP production"
      ]
    },
    {
      "cell_type": "code",
      "execution_count": 24,
      "metadata": {},
      "outputs": [
        {
          "data": {
            "text/html": [
              "<strong><em>Optimal</em> solution with objective value -800.000</strong><br><div>\n",
              "<style scoped>\n",
              "    .dataframe tbody tr th:only-of-type {\n",
              "        vertical-align: middle;\n",
              "    }\n",
              "\n",
              "    .dataframe tbody tr th {\n",
              "        vertical-align: top;\n",
              "    }\n",
              "\n",
              "    .dataframe thead th {\n",
              "        text-align: right;\n",
              "    }\n",
              "</style>\n",
              "<table border=\"1\" class=\"dataframe\">\n",
              "  <thead>\n",
              "    <tr style=\"text-align: right;\">\n",
              "      <th></th>\n",
              "      <th>fluxes</th>\n",
              "      <th>reduced_costs</th>\n",
              "    </tr>\n",
              "  </thead>\n",
              "  <tbody>\n",
              "    <tr>\n",
              "      <th>rxn05573</th>\n",
              "      <td>400.0</td>\n",
              "      <td>0.000000e+00</td>\n",
              "    </tr>\n",
              "    <tr>\n",
              "      <th>rxn00216</th>\n",
              "      <td>400.0</td>\n",
              "      <td>-1.110223e-16</td>\n",
              "    </tr>\n",
              "    <tr>\n",
              "      <th>rxn00558</th>\n",
              "      <td>400.0</td>\n",
              "      <td>0.000000e+00</td>\n",
              "    </tr>\n",
              "    <tr>\n",
              "      <th>rxn00545</th>\n",
              "      <td>400.0</td>\n",
              "      <td>-2.220446e-16</td>\n",
              "    </tr>\n",
              "    <tr>\n",
              "      <th>rxn00786</th>\n",
              "      <td>400.0</td>\n",
              "      <td>0.000000e+00</td>\n",
              "    </tr>\n",
              "    <tr>\n",
              "      <th>...</th>\n",
              "      <td>...</td>\n",
              "      <td>...</td>\n",
              "    </tr>\n",
              "    <tr>\n",
              "      <th>piSink</th>\n",
              "      <td>-800.0</td>\n",
              "      <td>0.000000e+00</td>\n",
              "    </tr>\n",
              "    <tr>\n",
              "      <th>h2oSink</th>\n",
              "      <td>1000.0</td>\n",
              "      <td>-1.600000e+00</td>\n",
              "    </tr>\n",
              "    <tr>\n",
              "      <th>xSink</th>\n",
              "      <td>-200.0</td>\n",
              "      <td>0.000000e+00</td>\n",
              "    </tr>\n",
              "    <tr>\n",
              "      <th>nadSink</th>\n",
              "      <td>400.0</td>\n",
              "      <td>0.000000e+00</td>\n",
              "    </tr>\n",
              "    <tr>\n",
              "      <th>nadhSink</th>\n",
              "      <td>-400.0</td>\n",
              "      <td>0.000000e+00</td>\n",
              "    </tr>\n",
              "  </tbody>\n",
              "</table>\n",
              "<p>33 rows × 2 columns</p>\n",
              "</div>"
            ],
            "text/plain": [
              "<Solution -800.000 at 0x7b9930a7d4d0>"
            ]
          },
          "execution_count": 24,
          "metadata": {},
          "output_type": "execute_result"
        }
      ],
      "source": [
        "sol_atp_min"
      ]
    },
    {
      "cell_type": "markdown",
      "metadata": {},
      "source": []
    },
    {
      "cell_type": "markdown",
      "metadata": {},
      "source": [
        "> :question: **Task**\n",
        ">\n",
        "> Try to use the medium of *Bt* to *Ri* and optimize for growth? Does it grow? \n",
        "> \n",
        "> If not, could you suggest limiting factors?"
      ]
    },
    {
      "cell_type": "markdown",
      "metadata": {},
      "source": [
        "Now, let us have a quick overview of the different ways to analyze a metabolic model, where as first thing we'll investigate how this growth-check we did for the differenet media works! :tada:"
      ]
    }
  ],
  "metadata": {
    "colab": {
      "authorship_tag": "ABX9TyN/NbB1Vax1pcJplvQHLbk6",
      "include_colab_link": true,
      "provenance": []
    },
    "kernelspec": {
      "display_name": "Python 3",
      "name": "python3"
    },
    "language_info": {
      "codemirror_mode": {
        "name": "ipython",
        "version": 3
      },
      "file_extension": ".py",
      "mimetype": "text/x-python",
      "name": "python",
      "nbconvert_exporter": "python",
      "pygments_lexer": "ipython3",
      "version": "3.11.11"
    }
  },
  "nbformat": 4,
  "nbformat_minor": 0
}
