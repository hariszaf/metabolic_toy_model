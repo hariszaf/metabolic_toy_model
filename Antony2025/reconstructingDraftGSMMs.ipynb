{
  "cells": [
    {
      "cell_type": "markdown",
      "metadata": {
        "colab_type": "text",
        "id": "view-in-github"
      },
      "source": [
        "<a href=\"https://colab.research.google.com/github/hariszaf/metabolic_toy_model/blob/main/Antony2025/reconstructingDraftGSMMs.ipynb\" target=\"_parent\"><img src=\"https://colab.research.google.com/assets/colab-badge.svg\" alt=\"Open In Colab\"/></a>"
      ]
    },
    {
      "cell_type": "markdown",
      "metadata": {
        "id": "UCd6z3K2rZ12"
      },
      "source": [
        "# **Reconstructing Draft Genome-Scale Metabolic Models**"
      ]
    },
    {
      "cell_type": "markdown",
      "metadata": {
        "id": "bSFSyk2HnH6U"
      },
      "source": [
        "### **Basic setup**"
      ]
    },
    {
      "cell_type": "markdown",
      "metadata": {
        "id": "yKHoTgrSnsKX"
      },
      "source": [
        "Make sure you have enabled **Gurobi** and **COBRApy**. \n",
        "\n",
        "If you are on the codespace, you can always check the [`prep_env.ipynb`](../prep_env.ipynb) notebook.\n"
      ]
    },
    {
      "cell_type": "markdown",
      "metadata": {
        "id": "kJxKrgbQkV4H"
      },
      "source": [
        "### **Reconstructing Draft Genome-Scale Metabolic Models**"
      ]
    },
    {
      "cell_type": "markdown",
      "metadata": {
        "id": "cje8cDy2lSwu"
      },
      "source": [
        "Draft models are incomplete models containing only genome-based evidence.They are not capable of producing biomass.\n",
        "\n",
        "To reconstruct draft models, we will use the [ModelSEED](https://academic.oup.com/nar/article/49/D1/D575/5912569?login=true) pipeline.\n",
        "\n",
        "ModelSEED is a key resource for metabolic modeling, so [let's have a look on their web interface](https://modelseed.org/)!\n"
      ]
    },
    {
      "cell_type": "markdown",
      "metadata": {
        "id": "M76peH_4fyx-"
      },
      "source": [
        "### **Working with genomes**"
      ]
    },
    {
      "cell_type": "markdown",
      "metadata": {
        "id": "XF7iRm1NgTOu"
      },
      "source": [
        "To reconstruct models, we first need genome sequences. \n",
        "\n",
        "We can use the genomes from EMBL, [ENSEMBL Bacteria](https://bacteria.ensembl.org/index.html), or another public genomic database.\n",
        "\n",
        "[Here](https://ftp.ensemblgenomes.ebi.ac.uk/pub/bacteria/current/species_EnsemblBacteria.txt) is a list of all the ENSEMBL genomes available.\n",
        "With this list we can perform queries, such retrieve all the genomes from a given taxa.\n",
        "\n",
        "We also need a package to manipulate NCBI taxonomies: [taxoniq](https://github.com/taxoniq/taxoniq).\n"
      ]
    },
    {
      "cell_type": "markdown",
      "metadata": {
        "id": "7dsgIKYFjURy"
      },
      "source": [
        "### **Creating a genomes list**"
      ]
    },
    {
      "cell_type": "markdown",
      "metadata": {
        "id": "ihDiWTbsjcJ0"
      },
      "source": [
        "Before reconstructing models, let's perform the following tasks:\n",
        "\n",
        "\n",
        "1. Make a python dictionary mapping the ENSEMBL genomes to their taxonomies and their fasta file containing genome-enoded proteins.\n",
        "\n",
        "`genome : [{taxonomic ranks}, {webpage containing their peptide fasta}]`\n",
        "\n",
        "\n",
        "2. Use our list to find a genome that interests us. For example, we will use a *Bifidobacterium adolescentis* genome;\n",
        "\n",
        "\n",
        "3. Dowload all genomes belonging to a specific genus. \n",
        "\n",
        "\n",
        "4. Build a draft reconstruction for at least on of those."
      ]
    },
    {
      "cell_type": "markdown",
      "metadata": {
        "id": "Ei4QvjiGlYtc"
      },
      "source": [
        "#### **ENSEMBL Genome Dictionary:**"
      ]
    },
    {
      "cell_type": "markdown",
      "metadata": {
        "id": "ZZSL5qsClsGS"
      },
      "source": [
        "dowload the genome file"
      ]
    },
    {
      "cell_type": "code",
      "execution_count": null,
      "metadata": {
        "colab": {
          "base_uri": "https://localhost:8080/"
        },
        "collapsed": true,
        "id": "1rKqxk36lvQr",
        "outputId": "301b6a10-74d2-4613-d59a-cf33311475f3"
      },
      "outputs": [],
      "source": [
        "import urllib.request\n",
        "urllib.request.urlretrieve(\"https://ftp.ensemblgenomes.ebi.ac.uk/pub/bacteria/current/species_EnsemblBacteria.txt\", \"species_EnsemblBacteria.txt\")\n",
        "\n",
        "!ls -la"
      ]
    },
    {
      "cell_type": "code",
      "execution_count": null,
      "metadata": {},
      "outputs": [],
      "source": [
        "!head species_EnsemblBacteria.txt"
      ]
    },
    {
      "cell_type": "code",
      "execution_count": null,
      "metadata": {},
      "outputs": [],
      "source": [
        "!wc -l species_EnsemblBacteria.txt"
      ]
    },
    {
      "cell_type": "markdown",
      "metadata": {
        "id": "FTwd92I-mShZ"
      },
      "source": [
        "Let's build a function to generate the url we'll use to dowload out genome of preference."
      ]
    },
    {
      "cell_type": "code",
      "execution_count": null,
      "metadata": {
        "colab": {
          "base_uri": "https://localhost:8080/"
        },
        "collapsed": true,
        "id": "ukKrg0svlj0T",
        "outputId": "b9a35859-506a-4707-fa01-d550c4adcdd0"
      },
      "outputs": [],
      "source": [
        "import taxoniq\n",
        "import os"
      ]
    },
    {
      "cell_type": "code",
      "execution_count": null,
      "metadata": {},
      "outputs": [],
      "source": [
        "def get_protein_fasta_url(info):\n",
        "    \"\"\"\n",
        "    info: a line from the species_EnsemblBacteria.txt file\n",
        "    \"\"\"\n",
        "    base_url = \"https://ftp.ensemblgenomes.ebi.ac.uk/pub/bacteria/current/fasta/\"\n",
        "    species_prefix = info[13].split(\"_\")[1]\n",
        "    collection_path = f\"bacteria_{species_prefix}_collection/\"\n",
        "    species_dir = f\"{info[1]}/pep/\"\n",
        "\n",
        "    strain = info[4].replace(\" \", \"_\")\n",
        "    filename = f\"{info[1].capitalize()}.{strain}.pep.all.fa.gz\"\n",
        "\n",
        "    return f\"{base_url}{collection_path}{species_dir}{filename}\""
      ]
    },
    {
      "cell_type": "markdown",
      "metadata": {},
      "source": [
        "Let us now build the dictionary we mentioned with the url for each genome. "
      ]
    },
    {
      "cell_type": "code",
      "execution_count": null,
      "metadata": {},
      "outputs": [],
      "source": [
        "genomes = {}\n",
        "\n",
        "with open('species_EnsemblBacteria.txt') as f:\n",
        "    next(f)  # Skip header\n",
        "    for line in f:\n",
        "        fields = line.strip().split('\\t')\n",
        "        taxid = fields[3]\n",
        "        species_name = fields[1]\n",
        "        key = f\"{taxid}_{species_name}\"\n",
        "        \n",
        "        try:\n",
        "            taxonomy = taxoniq.Taxon(int(taxid))\n",
        "            lineage = {\n",
        "                rank.rank.name: rank.scientific_name\n",
        "                for rank in taxonomy.ranked_lineage\n",
        "            }\n",
        "            fasta_url = get_protein_fasta_url(fields)\n",
        "            genomes[key] = [lineage, fasta_url]\n",
        "\n",
        "        except KeyError:\n",
        "            continue  # Skip if taxid not found"
      ]
    },
    {
      "cell_type": "code",
      "execution_count": null,
      "metadata": {},
      "outputs": [],
      "source": [
        "species_name"
      ]
    },
    {
      "cell_type": "code",
      "execution_count": null,
      "metadata": {},
      "outputs": [],
      "source": [
        "lineage"
      ]
    },
    {
      "cell_type": "code",
      "execution_count": null,
      "metadata": {},
      "outputs": [],
      "source": [
        "taxonomy.ranked_lineage[0].rank.name"
      ]
    },
    {
      "cell_type": "markdown",
      "metadata": {},
      "source": [
        "Let's now have a look at the actual dictionary (`genomes`) we built. "
      ]
    },
    {
      "cell_type": "code",
      "execution_count": null,
      "metadata": {},
      "outputs": [],
      "source": [
        "list(genomes.keys())[:5]"
      ]
    },
    {
      "cell_type": "code",
      "execution_count": null,
      "metadata": {},
      "outputs": [],
      "source": [
        "genomes[\"123820__actinobacillus_rossii_gca_900444965\"]"
      ]
    },
    {
      "cell_type": "markdown",
      "metadata": {},
      "source": [
        "#### **Find a bacteria that you like!**"
      ]
    },
    {
      "cell_type": "markdown",
      "metadata": {},
      "source": [
        "Spend some time, not too much (😅) at the [ProTraits](http://protraits.irb.hr/) resource, to find something interesting to you! \n",
        "\n",
        "Bacteria can do almost anything and survive almost everywhere. \n",
        "\n",
        "Another super useful resource that you could have a look for species traits is [BacDive](https://bacdive.dsmz.de/)."
      ]
    },
    {
      "cell_type": "markdown",
      "metadata": {
        "id": "UBCMKMthnEN6"
      },
      "source": [
        "#### **Retrieve a genome**"
      ]
    },
    {
      "cell_type": "markdown",
      "metadata": {},
      "source": [
        "Replace *Bifidobacterium adolescentis* with the species of your interest and give the following chunk a go.\n",
        "This will tell you if there is any genome in ENSEMBLE ***including*** the taxon name you gave. "
      ]
    },
    {
      "cell_type": "code",
      "execution_count": null,
      "metadata": {
        "colab": {
          "base_uri": "https://localhost:8080/"
        },
        "collapsed": true,
        "id": "3LhNnxjnnL3_",
        "outputId": "b3fc148f-8dcb-4220-895f-b17715bad3b0"
      },
      "outputs": [],
      "source": [
        "for genome in genomes:\n",
        "  if \"Bifidobacterium adolescentis\" in genomes[genome][0].values():\n",
        "    print(genome, f\" url: {genomes[genome][1]}\")"
      ]
    },
    {
      "cell_type": "markdown",
      "metadata": {
        "id": "b1NXwOZUnj0p"
      },
      "source": [
        "let's pick the first one in the list."
      ]
    },
    {
      "cell_type": "code",
      "execution_count": null,
      "metadata": {
        "colab": {
          "base_uri": "https://localhost:8080/"
        },
        "collapsed": true,
        "id": "AyqYkTwioI71",
        "outputId": "9854399d-7dd7-4c3b-d467-c30e1e37f21b"
      },
      "outputs": [],
      "source": [
        "import gzip\n",
        "import shutil\n",
        "\n",
        "url = \"https://ftp.ensemblgenomes.ebi.ac.uk/pub/bacteria/current/fasta/bacteria_100_collection/bifidobacterium_adolescentis_atcc_15703_gca_000010425/pep/Bifidobacterium_adolescentis_atcc_15703_gca_000010425.ASM1042v1.pep.all.fa.gz\"\n",
        "gz_id = \"Bifidobacterium adolescentis_atcc_15703.fa.gz\"\n",
        "fast_id = \"Bifidobacterium adolescentis_atcc_15703.fa\"\n",
        "\n",
        "urllib.request.urlretrieve(url, gz_id)\n",
        "with gzip.open(gz_id, 'rb') as f_in:\n",
        "    with open(fast_id, 'wb') as f_out:\n",
        "        shutil.copyfileobj(f_in, f_out)\n",
        "\n",
        "os.remove(gz_id)\n",
        "\n",
        "!ls -ltrh"
      ]
    },
    {
      "cell_type": "markdown",
      "metadata": {
        "id": "zs80OTm9sinY"
      },
      "source": [
        "### **Annotate Genome**"
      ]
    },
    {
      "cell_type": "markdown",
      "metadata": {
        "id": "UWtBeHE0s5EJ"
      },
      "source": [
        "Before building a draft model, we need to annotate the genome using RAST.\n",
        "\n",
        "Let's do this with our *Bifidobacterium adolescentis* genome."
      ]
    },
    {
      "cell_type": "code",
      "execution_count": null,
      "metadata": {
        "colab": {
          "base_uri": "https://localhost:8080/"
        },
        "collapsed": true,
        "id": "9qRtzdT7tRWG",
        "outputId": "95e51822-b2cd-4ac3-80ce-dc5cd4ca31d9"
      },
      "outputs": [],
      "source": [
        "import modelseedpy\n",
        "from modelseedpy.core.msgenome import MSGenome\n",
        "\n",
        "from modelseedpy.core.rast_client import RastClient\n",
        "\n",
        "\n",
        "genome_file = 'Bifidobacterium adolescentis_atcc_15703.fa'\n",
        "genome      = MSGenome.from_fasta(genome_file)\n",
        "\n",
        "rast = RastClient()\n",
        "rast.annotate_genome(genome)\n",
        "\n",
        "for i in genome.features:\n",
        "    print(i.description)"
      ]
    },
    {
      "cell_type": "markdown",
      "metadata": {
        "id": "q84fjm73uO-q"
      },
      "source": [
        "#### **Reconstruct Draft Model**\n",
        "\n"
      ]
    },
    {
      "cell_type": "markdown",
      "metadata": {
        "id": "gSZWOIChupAO"
      },
      "source": [
        "To reconstruct the draft genome-scale metabolic model we use the `build_metabolic_model` function of `ModelSEEDpy`. The input to the function is a RAST annotated genome."
      ]
    },
    {
      "cell_type": "code",
      "execution_count": null,
      "metadata": {
        "colab": {
          "base_uri": "https://localhost:8080/"
        },
        "collapsed": true,
        "id": "WZSWHRzqupIv",
        "outputId": "52183988-a76f-410d-fb34-14e0216e9644"
      },
      "outputs": [],
      "source": [
        "from modelseedpy import MSBuilder\n",
        "\n",
        "model_id = 'Bifidobacterium adolescentis_atcc_15703'\n",
        "\n",
        "base_model = MSBuilder.build_metabolic_model(\n",
        "    model_id = model_id,\n",
        "    genome   = genome,     # genome here is the one annotated in the previous chunk\n",
        "    index    = \"0\",\n",
        "    classic_biomass = True,\n",
        "    gapfill_model   = False,\n",
        "    gapfill_media   = None,\n",
        "    annotate_with_rast = True,\n",
        "    allow_all_non_grp_reactions = True\n",
        ")"
      ]
    },
    {
      "cell_type": "markdown",
      "metadata": {
        "id": "ZEN3JgPvvvbK"
      },
      "source": [
        "We can see the model is a draft and does not produce biomass."
      ]
    },
    {
      "cell_type": "code",
      "execution_count": null,
      "metadata": {
        "colab": {
          "base_uri": "https://localhost:8080/",
          "height": 566
        },
        "collapsed": true,
        "id": "bclsaT8bv06X",
        "outputId": "0f758573-8dca-4935-9d62-1c09487eadb9"
      },
      "outputs": [],
      "source": [
        "base_model.optimize()"
      ]
    },
    {
      "cell_type": "markdown",
      "metadata": {
        "id": "0xu2SmDhwJzn"
      },
      "source": [
        "We can save the draft reconstruction using the `cobra` model."
      ]
    },
    {
      "cell_type": "code",
      "execution_count": null,
      "metadata": {},
      "outputs": [],
      "source": [
        "import cobra"
      ]
    },
    {
      "cell_type": "markdown",
      "metadata": {},
      "source": [
        "We will discuss thoroughly the `cobra` library in the following section."
      ]
    },
    {
      "cell_type": "code",
      "execution_count": null,
      "metadata": {
        "colab": {
          "base_uri": "https://localhost:8080/"
        },
        "id": "ZPjpdnFS15FI",
        "outputId": "ae5029b0-f177-47fe-d565-0e04f276b9ec"
      },
      "outputs": [],
      "source": [
        "model_name = \"Bifidobacterium adolescentis_atcc_15703.sbml\"\n",
        "cobra.io.write_sbml_model(cobra_model = base_model, filename = model_name)\n",
        "\n",
        "!ls -la"
      ]
    },
    {
      "cell_type": "markdown",
      "metadata": {
        "id": "3_-LzOh_2THN"
      },
      "source": [
        "### **What if we don't have a protein fasta?**\n",
        "\n",
        "*-- not to be performed during the ws*"
      ]
    },
    {
      "cell_type": "markdown",
      "metadata": {
        "id": "ipTiowur2sGr"
      },
      "source": [
        "We can use [`Pyrodigal`](https://joss.theoj.org/papers/10.21105/joss.04296) to predict open reading frames and make a protein multifasta for our DNA sequence."
      ]
    },
    {
      "cell_type": "code",
      "execution_count": null,
      "metadata": {
        "colab": {
          "base_uri": "https://localhost:8080/"
        },
        "collapsed": true,
        "id": "bL3Cluum3eil",
        "outputId": "f89693a6-cd23-4c20-9cc0-b6f76ac56c8d"
      },
      "outputs": [],
      "source": [
        "!pip install pyrodigal\n",
        "!pip install biopython"
      ]
    },
    {
      "cell_type": "code",
      "execution_count": null,
      "metadata": {
        "colab": {
          "base_uri": "https://localhost:8080/"
        },
        "collapsed": true,
        "id": "Et5aB_Ld4Akw",
        "outputId": "9de02d83-c422-41a2-ca8c-c3cec3ee40fe"
      },
      "outputs": [],
      "source": [
        "url = 'https://www.ebi.ac.uk/ena/browser/api/fasta/OZ061323?download=true'\n",
        "\n",
        "download_path = 'OZ061323.fa'\n",
        "\n",
        "urllib.request.urlretrieve(url, download_path)\n",
        "\n",
        "!ls -la"
      ]
    },
    {
      "cell_type": "code",
      "execution_count": null,
      "metadata": {
        "colab": {
          "base_uri": "https://localhost:8080/"
        },
        "id": "-N0cQbtr5SId",
        "outputId": "1817902b-43a0-44be-cd7f-c283b3c48ea8"
      },
      "outputs": [],
      "source": [
        "from Bio import SeqIO\n",
        "import pyrodigal\n",
        "\n",
        "record = SeqIO.read(\"OZ061323.fa\", \"fasta\")\n",
        "dna_seq = str(record.seq)  # Convert the sequence to a plain string\n",
        "\n",
        "print(f\"sequence legth: {len(dna_seq)}\")\n",
        "\n",
        "gene_finder = pyrodigal.GeneFinder()\n",
        "\n",
        "gene_finder.train(dna_seq)\n",
        "\n",
        "genes = gene_finder.find_genes(dna_seq)\n",
        "\n",
        "with open(\"OZ061323.pep.faa\", \"w\") as f:\n",
        "    genes.write_translations(f, sequence_id=\"seqXYZ\")"
      ]
    },
    {
      "cell_type": "code",
      "execution_count": null,
      "metadata": {
        "colab": {
          "base_uri": "https://localhost:8080/"
        },
        "collapsed": true,
        "id": "fBr2Drrb6gX0",
        "outputId": "63d398fc-b77d-4092-e0a6-0082506a4f24"
      },
      "outputs": [],
      "source": [
        "!head OZ061323.pep.faa"
      ]
    },
    {
      "cell_type": "code",
      "execution_count": null,
      "metadata": {
        "id": "EX9L2YBK6sG6"
      },
      "outputs": [],
      "source": [
        "model_id = 'OZ061323'\n",
        "\n",
        "model = reconstruct_draft_model(model_id, 'OZ061323.pep.faa', 'OZ061323.sbml')"
      ]
    },
    {
      "cell_type": "code",
      "execution_count": null,
      "metadata": {
        "colab": {
          "base_uri": "https://localhost:8080/"
        },
        "collapsed": true,
        "id": "VaJo7eL07CNq",
        "outputId": "31b364c7-1c0b-4ac1-b552-06471f8a5f5e"
      },
      "outputs": [],
      "source": [
        "!ls -la"
      ]
    },
    {
      "cell_type": "code",
      "execution_count": null,
      "metadata": {
        "colab": {
          "base_uri": "https://localhost:8080/",
          "height": 440
        },
        "id": "xc9CM4-q7Fue",
        "outputId": "6f0cc752-afdd-434f-9b01-b24bc5e14db5"
      },
      "outputs": [],
      "source": [
        "model.optimize()"
      ]
    }
  ],
  "metadata": {
    "colab": {
      "include_colab_link": true,
      "provenance": []
    },
    "kernelspec": {
      "display_name": "met_model_ws",
      "language": "python",
      "name": "python3"
    },
    "language_info": {
      "codemirror_mode": {
        "name": "ipython",
        "version": 3
      },
      "file_extension": ".py",
      "mimetype": "text/x-python",
      "name": "python",
      "nbconvert_exporter": "python",
      "pygments_lexer": "ipython3",
      "version": "3.11.11"
    }
  },
  "nbformat": 4,
  "nbformat_minor": 0
}
