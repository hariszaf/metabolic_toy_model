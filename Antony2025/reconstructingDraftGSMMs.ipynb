{
  "nbformat": 4,
  "nbformat_minor": 0,
  "metadata": {
    "colab": {
      "provenance": [],
      "include_colab_link": true
    },
    "kernelspec": {
      "name": "python3",
      "display_name": "Python 3"
    },
    "language_info": {
      "name": "python"
    }
  },
  "cells": [
    {
      "cell_type": "markdown",
      "metadata": {
        "id": "view-in-github",
        "colab_type": "text"
      },
      "source": [
        "<a href=\"https://colab.research.google.com/github/hariszaf/metabolic_toy_model/blob/main/Antony2025/reconstructingDraftGSMMs.ipynb\" target=\"_parent\"><img src=\"https://colab.research.google.com/assets/colab-badge.svg\" alt=\"Open In Colab\"/></a>"
      ]
    },
    {
      "cell_type": "markdown",
      "source": [
        "# **Reconstructing Draft Genome-Scale Metabolic Models**"
      ],
      "metadata": {
        "id": "UCd6z3K2rZ12"
      }
    },
    {
      "cell_type": "markdown",
      "source": [
        "### **Basic setup**"
      ],
      "metadata": {
        "id": "bSFSyk2HnH6U"
      }
    },
    {
      "cell_type": "markdown",
      "source": [
        "Setup **Gurobi** and **COBRApy**. See the [setting up your environment](https://colab.research.google.com/github/hariszaf/metabolic_toy_model/blob/main/Antony2025/preparingYourEnvironment.ipynb)."
      ],
      "metadata": {
        "id": "yKHoTgrSnsKX"
      }
    },
    {
      "cell_type": "code",
      "source": [
        "# @title\n",
        "import os\n",
        "def create_gurobi_license():\n",
        "    license_content = (\n",
        "        \"# Gurobi WLS license file\\n\"\n",
        "        \"# Your credentials are private and should not be shared or copied to public repositories.\\n\"\n",
        "        \"# Visit https://license.gurobi.com/manager/doc/overview for more information.\\n\"\n",
        "        \"WLSACCESSID=1fedf73b-9471-4da8-bdc7-2aaacf2e30f3\\n\"\n",
        "        \"WLSSECRET=3bc7d209-a4ec-4195-98be-4b254f181512\\n\"\n",
        "        \"LICENSEID=940603\"\n",
        "    )\n",
        "    with open(\"/content/licenses/gurobi.lic\", \"w\") as f:\n",
        "        f.write(license_content)\n",
        "    print(\"License file created at /content/licenses/gurobi.lic\")\n",
        "\n",
        "\n",
        "\n",
        "# Create directory for the license\n",
        "os.makedirs(\"/content/licenses\", exist_ok=True)\n",
        "\n",
        "# Generate the license file\n",
        "create_gurobi_license()\n",
        "\n",
        "#add to path\n",
        "os.environ['GRB_LICENSE_FILE'] = '/content/licenses/gurobi.lic'"
      ],
      "metadata": {
        "colab": {
          "base_uri": "https://localhost:8080/"
        },
        "id": "JpSvtUZaqoxF",
        "outputId": "cf3eb8e7-e15b-4d0b-c990-744648cd01c8",
        "cellView": "form"
      },
      "execution_count": null,
      "outputs": [
        {
          "output_type": "stream",
          "name": "stdout",
          "text": [
            "License file created at /content/licenses/gurobi.lic\n"
          ]
        }
      ]
    },
    {
      "cell_type": "code",
      "source": [
        "# @title\n",
        "!pip install gurobipy\n",
        "!pip install cobra"
      ],
      "metadata": {
        "colab": {
          "base_uri": "https://localhost:8080/"
        },
        "id": "IiKM32dJqUcO",
        "outputId": "6ae76ff6-ed7b-462b-c0f2-8e0f5963cec6",
        "collapsed": true
      },
      "execution_count": null,
      "outputs": [
        {
          "output_type": "stream",
          "name": "stdout",
          "text": [
            "Collecting gurobipy\n",
            "  Downloading gurobipy-12.0.1-cp311-cp311-manylinux2014_x86_64.manylinux_2_17_x86_64.whl.metadata (16 kB)\n",
            "Downloading gurobipy-12.0.1-cp311-cp311-manylinux2014_x86_64.manylinux_2_17_x86_64.whl (14.4 MB)\n",
            "\u001b[2K   \u001b[90m━━━━━━━━━━━━━━━━━━━━━━━━━━━━━━━━━━━━━━━━\u001b[0m \u001b[32m14.4/14.4 MB\u001b[0m \u001b[31m29.9 MB/s\u001b[0m eta \u001b[36m0:00:00\u001b[0m\n",
            "\u001b[?25hInstalling collected packages: gurobipy\n",
            "Successfully installed gurobipy-12.0.1\n",
            "Collecting cobra\n",
            "  Downloading cobra-0.29.1-py2.py3-none-any.whl.metadata (9.3 kB)\n",
            "Collecting appdirs~=1.4 (from cobra)\n",
            "  Downloading appdirs-1.4.4-py2.py3-none-any.whl.metadata (9.0 kB)\n",
            "Collecting depinfo~=2.2 (from cobra)\n",
            "  Downloading depinfo-2.2.0-py3-none-any.whl.metadata (3.8 kB)\n",
            "Collecting diskcache~=5.0 (from cobra)\n",
            "  Downloading diskcache-5.6.3-py3-none-any.whl.metadata (20 kB)\n",
            "Requirement already satisfied: future in /usr/local/lib/python3.11/dist-packages (from cobra) (1.0.0)\n",
            "Requirement already satisfied: httpx~=0.24 in /usr/local/lib/python3.11/dist-packages (from cobra) (0.28.1)\n",
            "Requirement already satisfied: importlib-resources in /usr/local/lib/python3.11/dist-packages (from cobra) (6.5.2)\n",
            "Requirement already satisfied: numpy>=1.13 in /usr/local/lib/python3.11/dist-packages (from cobra) (1.26.4)\n",
            "Collecting optlang~=1.8 (from cobra)\n",
            "  Downloading optlang-1.8.3-py2.py3-none-any.whl.metadata (8.2 kB)\n",
            "Requirement already satisfied: pandas<3.0,>=1.0 in /usr/local/lib/python3.11/dist-packages (from cobra) (2.2.2)\n",
            "Requirement already satisfied: pydantic>=1.6 in /usr/local/lib/python3.11/dist-packages (from cobra) (2.10.6)\n",
            "Collecting python-libsbml~=5.19 (from cobra)\n",
            "  Downloading python_libsbml-5.20.4-cp311-cp311-manylinux_2_17_x86_64.manylinux2014_x86_64.whl.metadata (532 bytes)\n",
            "Requirement already satisfied: rich>=8.0 in /usr/local/lib/python3.11/dist-packages (from cobra) (13.9.4)\n",
            "Collecting ruamel.yaml~=0.16 (from cobra)\n",
            "  Downloading ruamel.yaml-0.18.10-py3-none-any.whl.metadata (23 kB)\n",
            "Collecting swiglpk (from cobra)\n",
            "  Downloading swiglpk-5.0.12-cp311-cp311-manylinux_2_17_x86_64.manylinux2014_x86_64.whl.metadata (5.5 kB)\n",
            "Requirement already satisfied: anyio in /usr/local/lib/python3.11/dist-packages (from httpx~=0.24->cobra) (3.7.1)\n",
            "Requirement already satisfied: certifi in /usr/local/lib/python3.11/dist-packages (from httpx~=0.24->cobra) (2025.1.31)\n",
            "Requirement already satisfied: httpcore==1.* in /usr/local/lib/python3.11/dist-packages (from httpx~=0.24->cobra) (1.0.7)\n",
            "Requirement already satisfied: idna in /usr/local/lib/python3.11/dist-packages (from httpx~=0.24->cobra) (3.10)\n",
            "Requirement already satisfied: h11<0.15,>=0.13 in /usr/local/lib/python3.11/dist-packages (from httpcore==1.*->httpx~=0.24->cobra) (0.14.0)\n",
            "Requirement already satisfied: sympy>=1.12.0 in /usr/local/lib/python3.11/dist-packages (from optlang~=1.8->cobra) (1.13.1)\n",
            "Requirement already satisfied: python-dateutil>=2.8.2 in /usr/local/lib/python3.11/dist-packages (from pandas<3.0,>=1.0->cobra) (2.8.2)\n",
            "Requirement already satisfied: pytz>=2020.1 in /usr/local/lib/python3.11/dist-packages (from pandas<3.0,>=1.0->cobra) (2025.1)\n",
            "Requirement already satisfied: tzdata>=2022.7 in /usr/local/lib/python3.11/dist-packages (from pandas<3.0,>=1.0->cobra) (2025.1)\n",
            "Requirement already satisfied: annotated-types>=0.6.0 in /usr/local/lib/python3.11/dist-packages (from pydantic>=1.6->cobra) (0.7.0)\n",
            "Requirement already satisfied: pydantic-core==2.27.2 in /usr/local/lib/python3.11/dist-packages (from pydantic>=1.6->cobra) (2.27.2)\n",
            "Requirement already satisfied: typing-extensions>=4.12.2 in /usr/local/lib/python3.11/dist-packages (from pydantic>=1.6->cobra) (4.12.2)\n",
            "Requirement already satisfied: markdown-it-py>=2.2.0 in /usr/local/lib/python3.11/dist-packages (from rich>=8.0->cobra) (3.0.0)\n",
            "Requirement already satisfied: pygments<3.0.0,>=2.13.0 in /usr/local/lib/python3.11/dist-packages (from rich>=8.0->cobra) (2.18.0)\n",
            "Collecting ruamel.yaml.clib>=0.2.7 (from ruamel.yaml~=0.16->cobra)\n",
            "  Downloading ruamel.yaml.clib-0.2.12-cp311-cp311-manylinux_2_17_x86_64.manylinux2014_x86_64.whl.metadata (2.7 kB)\n",
            "Requirement already satisfied: mdurl~=0.1 in /usr/local/lib/python3.11/dist-packages (from markdown-it-py>=2.2.0->rich>=8.0->cobra) (0.1.2)\n",
            "Requirement already satisfied: six>=1.5 in /usr/local/lib/python3.11/dist-packages (from python-dateutil>=2.8.2->pandas<3.0,>=1.0->cobra) (1.17.0)\n",
            "Requirement already satisfied: mpmath<1.4,>=1.1.0 in /usr/local/lib/python3.11/dist-packages (from sympy>=1.12.0->optlang~=1.8->cobra) (1.3.0)\n",
            "Requirement already satisfied: sniffio>=1.1 in /usr/local/lib/python3.11/dist-packages (from anyio->httpx~=0.24->cobra) (1.3.1)\n",
            "Downloading cobra-0.29.1-py2.py3-none-any.whl (1.2 MB)\n",
            "\u001b[2K   \u001b[90m━━━━━━━━━━━━━━━━━━━━━━━━━━━━━━━━━━━━━━━━\u001b[0m \u001b[32m1.2/1.2 MB\u001b[0m \u001b[31m18.1 MB/s\u001b[0m eta \u001b[36m0:00:00\u001b[0m\n",
            "\u001b[?25hDownloading appdirs-1.4.4-py2.py3-none-any.whl (9.6 kB)\n",
            "Downloading depinfo-2.2.0-py3-none-any.whl (24 kB)\n",
            "Downloading diskcache-5.6.3-py3-none-any.whl (45 kB)\n",
            "\u001b[2K   \u001b[90m━━━━━━━━━━━━━━━━━━━━━━━━━━━━━━━━━━━━━━━━\u001b[0m \u001b[32m45.5/45.5 kB\u001b[0m \u001b[31m2.3 MB/s\u001b[0m eta \u001b[36m0:00:00\u001b[0m\n",
            "\u001b[?25hDownloading optlang-1.8.3-py2.py3-none-any.whl (141 kB)\n",
            "\u001b[2K   \u001b[90m━━━━━━━━━━━━━━━━━━━━━━━━━━━━━━━━━━━━━━━━\u001b[0m \u001b[32m141.8/141.8 kB\u001b[0m \u001b[31m8.4 MB/s\u001b[0m eta \u001b[36m0:00:00\u001b[0m\n",
            "\u001b[?25hDownloading python_libsbml-5.20.4-cp311-cp311-manylinux_2_17_x86_64.manylinux2014_x86_64.whl (8.0 MB)\n",
            "\u001b[2K   \u001b[90m━━━━━━━━━━━━━━━━━━━━━━━━━━━━━━━━━━━━━━━━\u001b[0m \u001b[32m8.0/8.0 MB\u001b[0m \u001b[31m61.5 MB/s\u001b[0m eta \u001b[36m0:00:00\u001b[0m\n",
            "\u001b[?25hDownloading ruamel.yaml-0.18.10-py3-none-any.whl (117 kB)\n",
            "\u001b[2K   \u001b[90m━━━━━━━━━━━━━━━━━━━━━━━━━━━━━━━━━━━━━━━━\u001b[0m \u001b[32m117.7/117.7 kB\u001b[0m \u001b[31m7.4 MB/s\u001b[0m eta \u001b[36m0:00:00\u001b[0m\n",
            "\u001b[?25hDownloading swiglpk-5.0.12-cp311-cp311-manylinux_2_17_x86_64.manylinux2014_x86_64.whl (2.3 MB)\n",
            "\u001b[2K   \u001b[90m━━━━━━━━━━━━━━━━━━━━━━━━━━━━━━━━━━━━━━━━\u001b[0m \u001b[32m2.3/2.3 MB\u001b[0m \u001b[31m56.3 MB/s\u001b[0m eta \u001b[36m0:00:00\u001b[0m\n",
            "\u001b[?25hDownloading ruamel.yaml.clib-0.2.12-cp311-cp311-manylinux_2_17_x86_64.manylinux2014_x86_64.whl (739 kB)\n",
            "\u001b[2K   \u001b[90m━━━━━━━━━━━━━━━━━━━━━━━━━━━━━━━━━━━━━━━━\u001b[0m \u001b[32m739.1/739.1 kB\u001b[0m \u001b[31m31.0 MB/s\u001b[0m eta \u001b[36m0:00:00\u001b[0m\n",
            "\u001b[?25hInstalling collected packages: swiglpk, python-libsbml, appdirs, ruamel.yaml.clib, diskcache, depinfo, ruamel.yaml, optlang, cobra\n",
            "Successfully installed appdirs-1.4.4 cobra-0.29.1 depinfo-2.2.0 diskcache-5.6.3 optlang-1.8.3 python-libsbml-5.20.4 ruamel.yaml-0.18.10 ruamel.yaml.clib-0.2.12 swiglpk-5.0.12\n"
          ]
        }
      ]
    },
    {
      "cell_type": "code",
      "source": [
        "!git clone https://github.com/MGXlab/DNNGIOR.git\n",
        "!pip install --upgrade dnngior --no-deps"
      ],
      "metadata": {
        "colab": {
          "base_uri": "https://localhost:8080/"
        },
        "id": "6g3vq74ny03l",
        "outputId": "86968cc5-9b4d-4eff-f600-9581bc82e87f",
        "collapsed": true
      },
      "execution_count": null,
      "outputs": [
        {
          "output_type": "stream",
          "name": "stdout",
          "text": [
            "fatal: destination path 'DNNGIOR' already exists and is not an empty directory.\n",
            "Requirement already satisfied: dnngior in /usr/local/lib/python3.11/dist-packages (0.0.3)\n",
            "Collecting dnngior\n",
            "  Downloading dnngior-0.0.5-py3-none-any.whl.metadata (2.8 kB)\n",
            "Downloading dnngior-0.0.5-py3-none-any.whl (29.2 MB)\n",
            "\u001b[2K   \u001b[90m━━━━━━━━━━━━━━━━━━━━━━━━━━━━━━━━━━━━━━━━\u001b[0m \u001b[32m29.2/29.2 MB\u001b[0m \u001b[31m58.0 MB/s\u001b[0m eta \u001b[36m0:00:00\u001b[0m\n",
            "\u001b[?25hInstalling collected packages: dnngior\n",
            "  Attempting uninstall: dnngior\n",
            "    Found existing installation: dnngior 0.0.3\n",
            "    Uninstalling dnngior-0.0.3:\n",
            "      Successfully uninstalled dnngior-0.0.3\n",
            "Successfully installed dnngior-0.0.5\n"
          ]
        }
      ]
    },
    {
      "cell_type": "code",
      "source": [
        "# @title\n",
        "import gurobipy\n",
        "from gurobipy import Model\n",
        "model = Model(\"test\")\n",
        "print(\"Gurobi is working!\", \"\\U0001F600\")\n",
        "\n",
        "#install COBRApy\n",
        "import cobra\n",
        "from cobra.io import load_model\n",
        "model = load_model(\"textbook\")\n",
        "solution = model.optimize()\n",
        "print(f\"flux balance analysis solution is {solution.objective_value}\")\n",
        "print(\"COBRApy is working\", \"\\U0001F600\")"
      ],
      "metadata": {
        "colab": {
          "base_uri": "https://localhost:8080/"
        },
        "id": "2i0L4zPmnGjb",
        "outputId": "f9eb2599-23c1-46b3-fa50-30aca863888f",
        "collapsed": true
      },
      "execution_count": null,
      "outputs": [
        {
          "output_type": "stream",
          "name": "stdout",
          "text": [
            "Restricted license - for non-production use only - expires 2026-11-23\n",
            "Gurobi is working! 😀\n",
            "flux balance analysis solution is 0.8739215069684305\n",
            "COBRApy is working 😀\n"
          ]
        }
      ]
    },
    {
      "cell_type": "markdown",
      "source": [
        "### **Reconstructing Draft Genome-Scale Metabolic Models**"
      ],
      "metadata": {
        "id": "kJxKrgbQkV4H"
      }
    },
    {
      "cell_type": "markdown",
      "source": [
        "Draft models are incomplete models containing only genome-based evidence.They are not capable of producing biomass.\n",
        "\n",
        "To reconstruct draft models, we will use the [ModelSEED](https://academic.oup.com/nar/article/49/D1/D575/5912569?login=true) pipeline.\n",
        "\n",
        "[see the web interface](https://modelseed.org/)\n"
      ],
      "metadata": {
        "id": "cje8cDy2lSwu"
      }
    },
    {
      "cell_type": "markdown",
      "source": [
        "### **Installing ModelSEED**"
      ],
      "metadata": {
        "id": "aXgMmfRBuWVz"
      }
    },
    {
      "cell_type": "markdown",
      "source": [
        "If working on your own machine, remember\n",
        "\n",
        "1) Activate our conda environment:\n",
        "\n",
        "```bash\n",
        "conda activate gsmmWorkshop\n",
        "```"
      ],
      "metadata": {
        "id": "cvP4NCxkuemy"
      }
    },
    {
      "cell_type": "markdown",
      "source": [
        "### **Clone the ModelSEEDpy repository**"
      ],
      "metadata": {
        "id": "JiPv2n8Hey4p"
      }
    },
    {
      "cell_type": "code",
      "source": [
        "!git clone https://github.com/ModelSEED/ModelSEEDpy"
      ],
      "metadata": {
        "colab": {
          "base_uri": "https://localhost:8080/"
        },
        "id": "U_6bIUntkGQ5",
        "outputId": "37cffe42-ee08-494b-8fe7-0ea76b5e2778"
      },
      "execution_count": null,
      "outputs": [
        {
          "output_type": "stream",
          "name": "stdout",
          "text": [
            "Cloning into 'ModelSEEDpy'...\n",
            "remote: Enumerating objects: 4227, done.\u001b[K\n",
            "remote: Counting objects: 100% (1354/1354), done.\u001b[K\n",
            "remote: Compressing objects: 100% (263/263), done.\u001b[K\n",
            "remote: Total 4227 (delta 1188), reused 1100 (delta 1091), pack-reused 2873 (from 2)\u001b[K\n",
            "Receiving objects: 100% (4227/4227), 8.44 MiB | 4.73 MiB/s, done.\n",
            "Resolving deltas: 100% (2969/2969), done.\n",
            "Updating files: 100% (248/248), done.\n"
          ]
        }
      ]
    },
    {
      "cell_type": "markdown",
      "source": [
        "### **Install it**"
      ],
      "metadata": {
        "id": "UuNP5Gkte7nG"
      }
    },
    {
      "cell_type": "code",
      "source": [
        "!pip install ModelSEEDpy/."
      ],
      "metadata": {
        "colab": {
          "base_uri": "https://localhost:8080/"
        },
        "id": "fgzbUOemkPtu",
        "outputId": "cfeff65f-e181-4db9-c66b-3e6a5d0106b3",
        "collapsed": true
      },
      "execution_count": null,
      "outputs": [
        {
          "output_type": "stream",
          "name": "stdout",
          "text": [
            "Processing ./ModelSEEDpy\n",
            "  Installing build dependencies ... \u001b[?25l\u001b[?25hdone\n",
            "  Getting requirements to build wheel ... \u001b[?25l\u001b[?25hdone\n",
            "  Preparing metadata (pyproject.toml) ... \u001b[?25l\u001b[?25hdone\n",
            "Requirement already satisfied: networkx>=2.4 in /usr/local/lib/python3.11/dist-packages (from ModelSEEDpy==0.4.0) (3.4.2)\n",
            "Requirement already satisfied: cobra>=0.29.0 in /usr/local/lib/python3.11/dist-packages (from ModelSEEDpy==0.4.0) (0.29.1)\n",
            "Requirement already satisfied: pandas>=2.2.2 in /usr/local/lib/python3.11/dist-packages (from ModelSEEDpy==0.4.0) (2.2.2)\n",
            "Collecting scikit-learn==1.2.0 (from ModelSEEDpy==0.4.0)\n",
            "  Downloading scikit_learn-1.2.0-cp311-cp311-manylinux_2_17_x86_64.manylinux2014_x86_64.whl.metadata (11 kB)\n",
            "Requirement already satisfied: scipy>=1.5.4 in /usr/local/lib/python3.11/dist-packages (from ModelSEEDpy==0.4.0) (1.13.1)\n",
            "Collecting chemicals>=1.0.13 (from ModelSEEDpy==0.4.0)\n",
            "  Downloading chemicals-1.3.2-py3-none-any.whl.metadata (12 kB)\n",
            "Collecting chemw>=0.3.2 (from ModelSEEDpy==0.4.0)\n",
            "  Downloading ChemW-0.3.5.tar.gz (467 kB)\n",
            "\u001b[2K     \u001b[90m━━━━━━━━━━━━━━━━━━━━━━━━━━━━━━━━━━━━━━━━\u001b[0m \u001b[32m467.6/467.6 kB\u001b[0m \u001b[31m8.3 MB/s\u001b[0m eta \u001b[36m0:00:00\u001b[0m\n",
            "\u001b[?25h  Preparing metadata (setup.py) ... \u001b[?25l\u001b[?25hdone\n",
            "Requirement already satisfied: matplotlib>=3.0.0 in /usr/local/lib/python3.11/dist-packages (from ModelSEEDpy==0.4.0) (3.10.0)\n",
            "Requirement already satisfied: Jinja2>=3.1.4 in /usr/local/lib/python3.11/dist-packages (from ModelSEEDpy==0.4.0) (3.1.5)\n",
            "Requirement already satisfied: sympy>=1.12.0 in /usr/local/lib/python3.11/dist-packages (from ModelSEEDpy==0.4.0) (1.13.1)\n",
            "Requirement already satisfied: numpy>=1.17.3 in /usr/local/lib/python3.11/dist-packages (from scikit-learn==1.2.0->ModelSEEDpy==0.4.0) (1.26.4)\n",
            "Requirement already satisfied: joblib>=1.1.1 in /usr/local/lib/python3.11/dist-packages (from scikit-learn==1.2.0->ModelSEEDpy==0.4.0) (1.4.2)\n",
            "Requirement already satisfied: threadpoolctl>=2.0.0 in /usr/local/lib/python3.11/dist-packages (from scikit-learn==1.2.0->ModelSEEDpy==0.4.0) (3.5.0)\n",
            "Collecting fluids>=1.1.0 (from chemicals>=1.0.13->ModelSEEDpy==0.4.0)\n",
            "  Downloading fluids-1.1.0-py3-none-any.whl.metadata (7.2 kB)\n",
            "Collecting pubchempy (from chemw>=0.3.2->ModelSEEDpy==0.4.0)\n",
            "  Downloading PubChemPy-1.0.4.tar.gz (29 kB)\n",
            "  Preparing metadata (setup.py) ... \u001b[?25l\u001b[?25hdone\n",
            "Requirement already satisfied: requests in /usr/local/lib/python3.11/dist-packages (from chemw>=0.3.2->ModelSEEDpy==0.4.0) (2.32.3)\n",
            "Collecting sigfig (from chemw>=0.3.2->ModelSEEDpy==0.4.0)\n",
            "  Downloading sigfig-1.3.18-py3-none-any.whl.metadata (4.8 kB)\n",
            "Requirement already satisfied: appdirs~=1.4 in /usr/local/lib/python3.11/dist-packages (from cobra>=0.29.0->ModelSEEDpy==0.4.0) (1.4.4)\n",
            "Requirement already satisfied: depinfo~=2.2 in /usr/local/lib/python3.11/dist-packages (from cobra>=0.29.0->ModelSEEDpy==0.4.0) (2.2.0)\n",
            "Requirement already satisfied: diskcache~=5.0 in /usr/local/lib/python3.11/dist-packages (from cobra>=0.29.0->ModelSEEDpy==0.4.0) (5.6.3)\n",
            "Requirement already satisfied: future in /usr/local/lib/python3.11/dist-packages (from cobra>=0.29.0->ModelSEEDpy==0.4.0) (1.0.0)\n",
            "Requirement already satisfied: httpx~=0.24 in /usr/local/lib/python3.11/dist-packages (from cobra>=0.29.0->ModelSEEDpy==0.4.0) (0.28.1)\n",
            "Requirement already satisfied: importlib-resources in /usr/local/lib/python3.11/dist-packages (from cobra>=0.29.0->ModelSEEDpy==0.4.0) (6.5.2)\n",
            "Requirement already satisfied: optlang~=1.8 in /usr/local/lib/python3.11/dist-packages (from cobra>=0.29.0->ModelSEEDpy==0.4.0) (1.8.3)\n",
            "Requirement already satisfied: pydantic>=1.6 in /usr/local/lib/python3.11/dist-packages (from cobra>=0.29.0->ModelSEEDpy==0.4.0) (2.10.6)\n",
            "Requirement already satisfied: python-libsbml~=5.19 in /usr/local/lib/python3.11/dist-packages (from cobra>=0.29.0->ModelSEEDpy==0.4.0) (5.20.4)\n",
            "Requirement already satisfied: rich>=8.0 in /usr/local/lib/python3.11/dist-packages (from cobra>=0.29.0->ModelSEEDpy==0.4.0) (13.9.4)\n",
            "Requirement already satisfied: ruamel.yaml~=0.16 in /usr/local/lib/python3.11/dist-packages (from cobra>=0.29.0->ModelSEEDpy==0.4.0) (0.18.10)\n",
            "Requirement already satisfied: swiglpk in /usr/local/lib/python3.11/dist-packages (from cobra>=0.29.0->ModelSEEDpy==0.4.0) (5.0.12)\n",
            "Requirement already satisfied: MarkupSafe>=2.0 in /usr/local/lib/python3.11/dist-packages (from Jinja2>=3.1.4->ModelSEEDpy==0.4.0) (3.0.2)\n",
            "Requirement already satisfied: contourpy>=1.0.1 in /usr/local/lib/python3.11/dist-packages (from matplotlib>=3.0.0->ModelSEEDpy==0.4.0) (1.3.1)\n",
            "Requirement already satisfied: cycler>=0.10 in /usr/local/lib/python3.11/dist-packages (from matplotlib>=3.0.0->ModelSEEDpy==0.4.0) (0.12.1)\n",
            "Requirement already satisfied: fonttools>=4.22.0 in /usr/local/lib/python3.11/dist-packages (from matplotlib>=3.0.0->ModelSEEDpy==0.4.0) (4.56.0)\n",
            "Requirement already satisfied: kiwisolver>=1.3.1 in /usr/local/lib/python3.11/dist-packages (from matplotlib>=3.0.0->ModelSEEDpy==0.4.0) (1.4.8)\n",
            "Requirement already satisfied: packaging>=20.0 in /usr/local/lib/python3.11/dist-packages (from matplotlib>=3.0.0->ModelSEEDpy==0.4.0) (24.2)\n",
            "Requirement already satisfied: pillow>=8 in /usr/local/lib/python3.11/dist-packages (from matplotlib>=3.0.0->ModelSEEDpy==0.4.0) (11.1.0)\n",
            "Requirement already satisfied: pyparsing>=2.3.1 in /usr/local/lib/python3.11/dist-packages (from matplotlib>=3.0.0->ModelSEEDpy==0.4.0) (3.2.1)\n",
            "Requirement already satisfied: python-dateutil>=2.7 in /usr/local/lib/python3.11/dist-packages (from matplotlib>=3.0.0->ModelSEEDpy==0.4.0) (2.8.2)\n",
            "Requirement already satisfied: pytz>=2020.1 in /usr/local/lib/python3.11/dist-packages (from pandas>=2.2.2->ModelSEEDpy==0.4.0) (2025.1)\n",
            "Requirement already satisfied: tzdata>=2022.7 in /usr/local/lib/python3.11/dist-packages (from pandas>=2.2.2->ModelSEEDpy==0.4.0) (2025.1)\n",
            "Requirement already satisfied: mpmath<1.4,>=1.1.0 in /usr/local/lib/python3.11/dist-packages (from sympy>=1.12.0->ModelSEEDpy==0.4.0) (1.3.0)\n",
            "Requirement already satisfied: anyio in /usr/local/lib/python3.11/dist-packages (from httpx~=0.24->cobra>=0.29.0->ModelSEEDpy==0.4.0) (3.7.1)\n",
            "Requirement already satisfied: certifi in /usr/local/lib/python3.11/dist-packages (from httpx~=0.24->cobra>=0.29.0->ModelSEEDpy==0.4.0) (2025.1.31)\n",
            "Requirement already satisfied: httpcore==1.* in /usr/local/lib/python3.11/dist-packages (from httpx~=0.24->cobra>=0.29.0->ModelSEEDpy==0.4.0) (1.0.7)\n",
            "Requirement already satisfied: idna in /usr/local/lib/python3.11/dist-packages (from httpx~=0.24->cobra>=0.29.0->ModelSEEDpy==0.4.0) (3.10)\n",
            "Requirement already satisfied: h11<0.15,>=0.13 in /usr/local/lib/python3.11/dist-packages (from httpcore==1.*->httpx~=0.24->cobra>=0.29.0->ModelSEEDpy==0.4.0) (0.14.0)\n",
            "Requirement already satisfied: annotated-types>=0.6.0 in /usr/local/lib/python3.11/dist-packages (from pydantic>=1.6->cobra>=0.29.0->ModelSEEDpy==0.4.0) (0.7.0)\n",
            "Requirement already satisfied: pydantic-core==2.27.2 in /usr/local/lib/python3.11/dist-packages (from pydantic>=1.6->cobra>=0.29.0->ModelSEEDpy==0.4.0) (2.27.2)\n",
            "Requirement already satisfied: typing-extensions>=4.12.2 in /usr/local/lib/python3.11/dist-packages (from pydantic>=1.6->cobra>=0.29.0->ModelSEEDpy==0.4.0) (4.12.2)\n",
            "Requirement already satisfied: six>=1.5 in /usr/local/lib/python3.11/dist-packages (from python-dateutil>=2.7->matplotlib>=3.0.0->ModelSEEDpy==0.4.0) (1.17.0)\n",
            "Requirement already satisfied: markdown-it-py>=2.2.0 in /usr/local/lib/python3.11/dist-packages (from rich>=8.0->cobra>=0.29.0->ModelSEEDpy==0.4.0) (3.0.0)\n",
            "Requirement already satisfied: pygments<3.0.0,>=2.13.0 in /usr/local/lib/python3.11/dist-packages (from rich>=8.0->cobra>=0.29.0->ModelSEEDpy==0.4.0) (2.18.0)\n",
            "Requirement already satisfied: ruamel.yaml.clib>=0.2.7 in /usr/local/lib/python3.11/dist-packages (from ruamel.yaml~=0.16->cobra>=0.29.0->ModelSEEDpy==0.4.0) (0.2.12)\n",
            "Requirement already satisfied: charset-normalizer<4,>=2 in /usr/local/lib/python3.11/dist-packages (from requests->chemw>=0.3.2->ModelSEEDpy==0.4.0) (3.4.1)\n",
            "Requirement already satisfied: urllib3<3,>=1.21.1 in /usr/local/lib/python3.11/dist-packages (from requests->chemw>=0.3.2->ModelSEEDpy==0.4.0) (2.3.0)\n",
            "Requirement already satisfied: sortedcontainers<3.0.0,>=2.4.0 in /usr/local/lib/python3.11/dist-packages (from sigfig->chemw>=0.3.2->ModelSEEDpy==0.4.0) (2.4.0)\n",
            "Requirement already satisfied: mdurl~=0.1 in /usr/local/lib/python3.11/dist-packages (from markdown-it-py>=2.2.0->rich>=8.0->cobra>=0.29.0->ModelSEEDpy==0.4.0) (0.1.2)\n",
            "Requirement already satisfied: sniffio>=1.1 in /usr/local/lib/python3.11/dist-packages (from anyio->httpx~=0.24->cobra>=0.29.0->ModelSEEDpy==0.4.0) (1.3.1)\n",
            "Downloading scikit_learn-1.2.0-cp311-cp311-manylinux_2_17_x86_64.manylinux2014_x86_64.whl (9.5 MB)\n",
            "\u001b[2K   \u001b[90m━━━━━━━━━━━━━━━━━━━━━━━━━━━━━━━━━━━━━━━━\u001b[0m \u001b[32m9.5/9.5 MB\u001b[0m \u001b[31m88.5 MB/s\u001b[0m eta \u001b[36m0:00:00\u001b[0m\n",
            "\u001b[?25hDownloading chemicals-1.3.2-py3-none-any.whl (26.0 MB)\n",
            "\u001b[2K   \u001b[90m━━━━━━━━━━━━━━━━━━━━━━━━━━━━━━━━━━━━━━━━\u001b[0m \u001b[32m26.0/26.0 MB\u001b[0m \u001b[31m59.8 MB/s\u001b[0m eta \u001b[36m0:00:00\u001b[0m\n",
            "\u001b[?25hDownloading fluids-1.1.0-py3-none-any.whl (627 kB)\n",
            "\u001b[2K   \u001b[90m━━━━━━━━━━━━━━━━━━━━━━━━━━━━━━━━━━━━━━━━\u001b[0m \u001b[32m627.5/627.5 kB\u001b[0m \u001b[31m29.8 MB/s\u001b[0m eta \u001b[36m0:00:00\u001b[0m\n",
            "\u001b[?25hDownloading sigfig-1.3.18-py3-none-any.whl (10 kB)\n",
            "Building wheels for collected packages: ModelSEEDpy, chemw, pubchempy\n",
            "  Building wheel for ModelSEEDpy (pyproject.toml) ... \u001b[?25l\u001b[?25hdone\n",
            "  Created wheel for ModelSEEDpy: filename=modelseedpy-0.4.0-py3-none-any.whl size=175143 sha256=e4c741f4c27a6eba27462af27b9338c9ea648e1cf6521c8b2857bd653b87c3e3\n",
            "  Stored in directory: /tmp/pip-ephem-wheel-cache-5m63anik/wheels/55/a7/fb/a8cad4dc4bbbd40cfb4f4bfce106a58a0b3db07c9501dd91c0\n",
            "  Building wheel for chemw (setup.py) ... \u001b[?25l\u001b[?25hdone\n",
            "  Created wheel for chemw: filename=ChemW-0.3.5-py3-none-any.whl size=480096 sha256=8efaf71a65708f273022b6762ff9b2e89ac82768fc0d01e26311051c96b3083e\n",
            "  Stored in directory: /root/.cache/pip/wheels/bf/ab/52/90a06eff7d43377b19bfda55243ac0bbabaa088d4cddd8efcc\n",
            "  Building wheel for pubchempy (setup.py) ... \u001b[?25l\u001b[?25hdone\n",
            "  Created wheel for pubchempy: filename=PubChemPy-1.0.4-py3-none-any.whl size=13819 sha256=fed98f567356bed1c92a1d9218cb8829f4d398a3297ec1901b64fffcbd42edde\n",
            "  Stored in directory: /root/.cache/pip/wheels/8b/e3/6c/3385b2db08b0985a87f5b117f98d0cb61a3ae3ca3bcbbd8307\n",
            "Successfully built ModelSEEDpy chemw pubchempy\n",
            "Installing collected packages: pubchempy, sigfig, scikit-learn, fluids, chemicals, chemw, ModelSEEDpy\n",
            "  Attempting uninstall: scikit-learn\n",
            "    Found existing installation: scikit-learn 1.6.1\n",
            "    Uninstalling scikit-learn-1.6.1:\n",
            "      Successfully uninstalled scikit-learn-1.6.1\n",
            "\u001b[31mERROR: pip's dependency resolver does not currently take into account all the packages that are installed. This behaviour is the source of the following dependency conflicts.\n",
            "mlxtend 0.23.4 requires scikit-learn>=1.3.1, but you have scikit-learn 1.2.0 which is incompatible.\n",
            "imbalanced-learn 0.13.0 requires scikit-learn<2,>=1.3.2, but you have scikit-learn 1.2.0 which is incompatible.\u001b[0m\u001b[31m\n",
            "\u001b[0mSuccessfully installed ModelSEEDpy-0.4.0 chemicals-1.3.2 chemw-0.3.5 fluids-1.1.0 pubchempy-1.0.4 scikit-learn-1.2.0 sigfig-1.3.18\n"
          ]
        }
      ]
    },
    {
      "cell_type": "markdown",
      "source": [
        "### **Working with genomes**"
      ],
      "metadata": {
        "id": "M76peH_4fyx-"
      }
    },
    {
      "cell_type": "markdown",
      "source": [
        "To reconstruct models, we first need genome sequences. We can use the genomes from EMBL, [ENSEMBL Bacteria](https://bacteria.ensembl.org/index.html), or another public genomic database.\n",
        "\n",
        "[Here](https://ftp.ensemblgenomes.ebi.ac.uk/pub/bacteria/current/species_EnsemblBacteria.txt) is a list of all the genomes available.\n",
        "\n",
        "With this list we can perform queries, such retrieve all the genomes from a given taxa.\n",
        "\n",
        "We also need a package to manipulate NCBI taxonomies: [taxoniq](https://github.com/taxoniq/taxoniq).\n"
      ],
      "metadata": {
        "id": "XF7iRm1NgTOu"
      }
    },
    {
      "cell_type": "markdown",
      "source": [
        "### **Parsing taxonomies**"
      ],
      "metadata": {
        "id": "S4hDdVuxhz1Q"
      }
    },
    {
      "cell_type": "code",
      "source": [
        "!pip install taxoniq"
      ],
      "metadata": {
        "colab": {
          "base_uri": "https://localhost:8080/"
        },
        "collapsed": true,
        "id": "BhNUOkBM7OX_",
        "outputId": "ed2141b4-2389-4eeb-f253-7577e63e45dc"
      },
      "execution_count": null,
      "outputs": [
        {
          "output_type": "stream",
          "name": "stdout",
          "text": [
            "Collecting taxoniq\n",
            "  Downloading taxoniq-1.0.3-py3-none-any.whl.metadata (13 kB)\n",
            "Requirement already satisfied: marisa-trie>=1.1.0 in /usr/local/lib/python3.11/dist-packages (from taxoniq) (1.2.1)\n",
            "Requirement already satisfied: zstandard>=0.21.0 in /usr/local/lib/python3.11/dist-packages (from taxoniq) (0.23.0)\n",
            "Requirement already satisfied: urllib3>=1.26.5 in /usr/local/lib/python3.11/dist-packages (from taxoniq) (2.3.0)\n",
            "Collecting ncbi-taxon-db>=2024.9.07 (from taxoniq)\n",
            "  Downloading ncbi_taxon_db-2024.9.7-py3-none-any.whl.metadata (874 bytes)\n",
            "Requirement already satisfied: setuptools in /usr/local/lib/python3.11/dist-packages (from marisa-trie>=1.1.0->taxoniq) (75.1.0)\n",
            "Collecting ncbi-refseq-accession-db==2024.9.07 (from ncbi-taxon-db>=2024.9.07->taxoniq)\n",
            "  Downloading ncbi_refseq_accession_db-2024.9.7-py3-none-any.whl.metadata (738 bytes)\n",
            "Collecting ncbi-refseq-accession-lengths==2024.9.07 (from ncbi-taxon-db>=2024.9.07->taxoniq)\n",
            "  Downloading ncbi_refseq_accession_lengths-2024.9.7-py3-none-any.whl.metadata (743 bytes)\n",
            "Collecting ncbi-refseq-accession-offsets==2024.9.07 (from ncbi-taxon-db>=2024.9.07->taxoniq)\n",
            "  Downloading ncbi_refseq_accession_offsets-2024.9.7-py3-none-any.whl.metadata (743 bytes)\n",
            "Downloading taxoniq-1.0.3-py3-none-any.whl (32 kB)\n",
            "Downloading ncbi_taxon_db-2024.9.7-py3-none-any.whl (89.5 MB)\n",
            "\u001b[2K   \u001b[90m━━━━━━━━━━━━━━━━━━━━━━━━━━━━━━━━━━━━━━━━\u001b[0m \u001b[32m89.5/89.5 MB\u001b[0m \u001b[31m8.6 MB/s\u001b[0m eta \u001b[36m0:00:00\u001b[0m\n",
            "\u001b[?25hDownloading ncbi_refseq_accession_db-2024.9.7-py3-none-any.whl (2.3 MB)\n",
            "\u001b[2K   \u001b[90m━━━━━━━━━━━━━━━━━━━━━━━━━━━━━━━━━━━━━━━━\u001b[0m \u001b[32m2.3/2.3 MB\u001b[0m \u001b[31m63.0 MB/s\u001b[0m eta \u001b[36m0:00:00\u001b[0m\n",
            "\u001b[?25hDownloading ncbi_refseq_accession_lengths-2024.9.7-py3-none-any.whl (36.8 MB)\n",
            "\u001b[2K   \u001b[90m━━━━━━━━━━━━━━━━━━━━━━━━━━━━━━━━━━━━━━━━\u001b[0m \u001b[32m36.8/36.8 MB\u001b[0m \u001b[31m41.6 MB/s\u001b[0m eta \u001b[36m0:00:00\u001b[0m\n",
            "\u001b[?25hDownloading ncbi_refseq_accession_offsets-2024.9.7-py3-none-any.whl (116.2 MB)\n",
            "\u001b[2K   \u001b[90m━━━━━━━━━━━━━━━━━━━━━━━━━━━━━━━━━━━━━━━━\u001b[0m \u001b[32m116.2/116.2 MB\u001b[0m \u001b[31m7.4 MB/s\u001b[0m eta \u001b[36m0:00:00\u001b[0m\n",
            "\u001b[?25hInstalling collected packages: ncbi-refseq-accession-offsets, ncbi-refseq-accession-lengths, ncbi-refseq-accession-db, ncbi-taxon-db, taxoniq\n",
            "Successfully installed ncbi-refseq-accession-db-2024.9.7 ncbi-refseq-accession-lengths-2024.9.7 ncbi-refseq-accession-offsets-2024.9.7 ncbi-taxon-db-2024.9.7 taxoniq-1.0.3\n"
          ]
        }
      ]
    },
    {
      "cell_type": "markdown",
      "source": [
        "### **Creating a genomes list**"
      ],
      "metadata": {
        "id": "7dsgIKYFjURy"
      }
    },
    {
      "cell_type": "markdown",
      "source": [
        "Before reconstructing models, let's perform the following tasks:\n",
        "\n",
        "\n",
        "1. Make a python dictionary mapping the ENSEMBL genomes to their taxonomies and their fasta file containing genome-enoded proteins.\n",
        "\n",
        "[genome] = [{taxonomic ranks}, {webpage containing their peptide fasta}]\n",
        "\n",
        "\n",
        "2. Use our list to find a genome that interests us. For example, we will use a *Bifidobacterium adolescentis* genome;\n",
        "\n",
        "\n",
        "3. Dowload all genomes belonging to a specific genus. For example, we will use all *Shewanella* genomes;\n",
        "\n",
        "\n",
        "4. Get one representative genome per phylum."
      ],
      "metadata": {
        "id": "ihDiWTbsjcJ0"
      }
    },
    {
      "cell_type": "markdown",
      "source": [
        "#### **ENSEMBL Genome Dictionary:**"
      ],
      "metadata": {
        "id": "Ei4QvjiGlYtc"
      }
    },
    {
      "cell_type": "markdown",
      "source": [
        "dowload the genome file"
      ],
      "metadata": {
        "id": "ZZSL5qsClsGS"
      }
    },
    {
      "cell_type": "code",
      "source": [
        "import urllib.request\n",
        "urllib.request.urlretrieve(\"https://ftp.ensemblgenomes.ebi.ac.uk/pub/bacteria/current/species_EnsemblBacteria.txt\", \"species_EnsemblBacteria.txt\")\n",
        "\n",
        "!ls -la"
      ],
      "metadata": {
        "id": "1rKqxk36lvQr"
      },
      "execution_count": null,
      "outputs": []
    },
    {
      "cell_type": "markdown",
      "source": [
        "make a function to generate the dowload url"
      ],
      "metadata": {
        "id": "FTwd92I-mShZ"
      }
    },
    {
      "cell_type": "code",
      "source": [
        "import taxoniq\n",
        "import os\n",
        "\n",
        "\n",
        "\n",
        "def getProteinFast(l):\n",
        "    p1 = \"https://ftp.ensemblgenomes.ebi.ac.uk/pub/bacteria/current/fasta/\"\n",
        "    p2 = \"bacteria\" + \"_\" + l[13].split(\"_\")[1] + \"_\" + \"collection\" + \"/\"\n",
        "    p3 = l[1] + \"/pep/\"\n",
        "    st = l[4]\n",
        "    while \" \" in st:\n",
        "        st = st.replace(\" \", \"_\")\n",
        "    p4 = l[1][0].upper() + l[1][1:] + \".\" + st + \".pep.all.fa.gz\"\n",
        "\n",
        "    return p1 + p2 + p3 + p4\n",
        "\n",
        "genomes = {}\n",
        "with open('species_EnsemblBacteria.txt') as f:\n",
        "    f.readline()\n",
        "    for line in f:\n",
        "        a = line.strip().split('\\t')\n",
        "        try:\n",
        "            taxonomy = taxoniq.Taxon(int(a[3]))\n",
        "            genomes[a[3] + \"_\" + a[1]] = [{rank.rank.name: rank.scientific_name for rank in taxonomy.ranked_lineage}, getProteinFast(a)]\n",
        "\n",
        "        except KeyError:\n",
        "            pass\n",
        "\n",
        "genomes"
      ],
      "metadata": {
        "id": "ukKrg0svlj0T"
      },
      "execution_count": null,
      "outputs": []
    },
    {
      "cell_type": "markdown",
      "source": [
        "#### **Retrieve a genome**"
      ],
      "metadata": {
        "id": "UBCMKMthnEN6"
      }
    },
    {
      "cell_type": "code",
      "source": [
        "for genome in genomes:\n",
        "  if \"Bifidobacterium adolescentis\" in genomes[genome][0].values():\n",
        "    print(genome, f\" url: {genomes[genome][1]}\")"
      ],
      "metadata": {
        "id": "3LhNnxjnnL3_"
      },
      "execution_count": null,
      "outputs": []
    },
    {
      "cell_type": "markdown",
      "source": [
        "let's pick the first one in the list."
      ],
      "metadata": {
        "id": "b1NXwOZUnj0p"
      }
    },
    {
      "cell_type": "code",
      "source": [
        "import gzip\n",
        "import shutil\n",
        "\n",
        "url = \"https://ftp.ensemblgenomes.ebi.ac.uk/pub/bacteria/current/fasta/bacteria_100_collection/bifidobacterium_adolescentis_atcc_15703_gca_000010425/pep/Bifidobacterium_adolescentis_atcc_15703_gca_000010425.ASM1042v1.pep.all.fa.gz\"\n",
        "gz_id = \"Bifidobacterium adolescentis_atcc_15703.fa.gz\"\n",
        "fast_id = \"Bifidobacterium adolescentis_atcc_15703.fa\"\n",
        "\n",
        "urllib.request.urlretrieve(url, gz_id)\n",
        "with gzip.open(gz_id, 'rb') as f_in:\n",
        "    with open(fast_id, 'wb') as f_out:\n",
        "        shutil.copyfileobj(f_in, f_out)\n",
        "\n",
        "os.remove(gz_id)\n",
        "!ls -la"
      ],
      "metadata": {
        "id": "AyqYkTwioI71"
      },
      "execution_count": null,
      "outputs": []
    },
    {
      "cell_type": "markdown",
      "source": [
        "#### **Download all Shewanella genomes**"
      ],
      "metadata": {
        "id": "_CVx2r-YpVoO"
      }
    },
    {
      "cell_type": "code",
      "source": [
        "!mkdir shewanella_genomes\n",
        "#get all Shewanella genomes\n",
        "root = 'shewanella_genomes'\n",
        "for genome in genomes:\n",
        "    if \"shewanella\" in genome:\n",
        "        url = genomes[genome][1]\n",
        "        download_path = os.path.join(root, genome + \".fa.gz\")\n",
        "        extracted_path = os.path.join(root, genome + \".fa\")\n",
        "\n",
        "        urllib.request.urlretrieve(url, download_path)\n",
        "\n",
        "        with gzip.open(download_path, 'rb') as f_in:\n",
        "            with open(extracted_path, 'wb') as f_out:\n",
        "                shutil.copyfileobj(f_in, f_out)\n",
        "        print(f\"Extracted file saved as {extracted_path}\")\n",
        "        os.remove(download_path)"
      ],
      "metadata": {
        "id": "BPaciUktpnkM"
      },
      "execution_count": null,
      "outputs": []
    },
    {
      "cell_type": "code",
      "source": [
        "!ls shewanella_genomes -la"
      ],
      "metadata": {
        "id": "x1uGOCWSqQrP"
      },
      "execution_count": null,
      "outputs": []
    },
    {
      "cell_type": "markdown",
      "source": [
        "#### **Get one genome per Phylum**"
      ],
      "metadata": {
        "id": "8bpjGbnnqynW"
      }
    },
    {
      "cell_type": "code",
      "source": [
        "!mkdir one_per_phylum\n",
        "\n",
        "phyla = {}\n",
        "\n",
        "for genome in genomes:\n",
        "    if 'phylum' in genomes[genome][0]:#has an annotated phylum\n",
        "        if genomes[genome][0]['phylum'] not in phyla:\n",
        "            phyla[genomes[genome][0]['phylum']] = genomes[genome][1]\n",
        "\n",
        "\n",
        "root = 'one_per_phylum'\n",
        "for genome in phyla:\n",
        "    url = phyla[genome]\n",
        "    download_path = os.path.join(root, genome + \".fa.gz\")\n",
        "    extracted_path = os.path.join(root, genome + \".fa\")\n",
        "\n",
        "    urllib.request.urlretrieve(url, download_path)\n",
        "\n",
        "    with gzip.open(download_path, 'rb') as f_in:\n",
        "        with open(extracted_path, 'wb') as f_out:\n",
        "            shutil.copyfileobj(f_in, f_out)\n",
        "    print(f\"Extracted file saved as {extracted_path}\")\n",
        "    os.remove(download_path)"
      ],
      "metadata": {
        "id": "VaZfFTLtq-Xb"
      },
      "execution_count": null,
      "outputs": []
    },
    {
      "cell_type": "code",
      "source": [
        "!ls one_per_phylum -la"
      ],
      "metadata": {
        "colab": {
          "base_uri": "https://localhost:8080/"
        },
        "id": "w7VIYNXfrqTW",
        "outputId": "28401f14-b6fa-4c0e-ac0f-798b080b28f6"
      },
      "execution_count": null,
      "outputs": [
        {
          "output_type": "stream",
          "name": "stdout",
          "text": [
            "ls: cannot access 'one_per_phylum': No such file or directory\n"
          ]
        }
      ]
    },
    {
      "cell_type": "markdown",
      "source": [
        "### **Annotate Genome**"
      ],
      "metadata": {
        "id": "zs80OTm9sinY"
      }
    },
    {
      "cell_type": "markdown",
      "source": [
        "Before building a draft model, we need to annotate the genome using RAST.\n",
        "\n",
        "Let's do this with our *Bifidobacterium adolescentis* genome."
      ],
      "metadata": {
        "id": "UWtBeHE0s5EJ"
      }
    },
    {
      "cell_type": "code",
      "source": [
        "import modelseedpy\n",
        "from modelseedpy.core.msgenome import MSGenome\n",
        "\n",
        "from modelseedpy.core.rast_client import RastClient\n",
        "rast = RastClient()\n",
        "\n",
        "\n",
        "\n",
        "genome_file = 'Bifidobacterium adolescentis_atcc_15703.fa'\n",
        "\n",
        "\n",
        "\n",
        "genome = MSGenome.from_fasta(genome_file)\n",
        "\n",
        "rast.annotate_genome(genome)\n",
        "\n",
        "for i in genome.features:\n",
        "    print(i.description)"
      ],
      "metadata": {
        "id": "9qRtzdT7tRWG"
      },
      "execution_count": null,
      "outputs": []
    },
    {
      "cell_type": "markdown",
      "source": [
        "#### **Reconstruct Draft Model**\n",
        "\n"
      ],
      "metadata": {
        "id": "q84fjm73uO-q"
      }
    },
    {
      "cell_type": "markdown",
      "source": [
        "To reconstruct the draft genome-scale metabolic model we use the `build_metabolic_model` function of `ModelSEEDpy`. The input to the function is a RAST annotated genome."
      ],
      "metadata": {
        "id": "gSZWOIChupAO"
      }
    },
    {
      "cell_type": "code",
      "source": [
        "from modelseedpy import MSBuilder\n",
        "\n",
        "model_id = 'Bifidobacterium adolescentis_atcc_15703'\n",
        "\n",
        "base_model = MSBuilder.build_metabolic_model(model_id = model_id,\n",
        "                                             genome   = genome,\n",
        "                                             index    = \"0\",\n",
        "                                             classic_biomass = True,\n",
        "                                             gapfill_model   = False,\n",
        "                                             gapfill_media   = None,\n",
        "                                             annotate_with_rast = True,\n",
        "                                             allow_all_non_grp_reactions = True\n",
        "                                            )"
      ],
      "metadata": {
        "colab": {
          "base_uri": "https://localhost:8080/"
        },
        "id": "WZSWHRzqupIv",
        "outputId": "e4d4c573-8c8a-4966-ff0a-eb8a5e882d31"
      },
      "execution_count": null,
      "outputs": [
        {
          "output_type": "stream",
          "name": "stderr",
          "text": [
            "WARNING:modelseedpy.helpers:mkdir: /usr/local/lib/python3.11/dist-packages/modelseedpy//data/ml\n",
            "WARNING:modelseedpy.helpers:downloading data file to: /usr/local/lib/python3.11/dist-packages/modelseedpy//data/ml/knn_ACNP_RAST_filter_01_17_2023.pickle\n",
            "WARNING:modelseedpy.helpers:downloading data file to: /usr/local/lib/python3.11/dist-packages/modelseedpy//data/ml/knn_ACNP_RAST_filter_01_17_2023_features.json\n",
            "WARNING:modelseedpy.helpers:mkdir: /usr/local/lib/python3.11/dist-packages/modelseedpy//data/templates\n",
            "WARNING:modelseedpy.helpers:downloading data file to: /usr/local/lib/python3.11/dist-packages/modelseedpy//data/templates/template_gram_pos.json\n"
          ]
        }
      ]
    },
    {
      "cell_type": "markdown",
      "source": [
        "We can see the model is a draft and does not produce biomass."
      ],
      "metadata": {
        "id": "ZEN3JgPvvvbK"
      }
    },
    {
      "cell_type": "code",
      "source": [
        "base_model.optimize()"
      ],
      "metadata": {
        "id": "bclsaT8bv06X"
      },
      "execution_count": null,
      "outputs": []
    },
    {
      "cell_type": "markdown",
      "source": [
        "We save the draft model"
      ],
      "metadata": {
        "id": "0xu2SmDhwJzn"
      }
    },
    {
      "cell_type": "code",
      "source": [
        "model_name = \"Bifidobacterium adolescentis_atcc_15703.sbml\"\n",
        "cobra.io.write_sbml_model(cobra_model = base_model, filename = model_name)\n",
        "\n",
        "!ls -la"
      ],
      "metadata": {
        "id": "ZPjpdnFS15FI"
      },
      "execution_count": null,
      "outputs": []
    },
    {
      "cell_type": "markdown",
      "source": [
        "### **Batch reconstruction**"
      ],
      "metadata": {
        "id": "eC2Zk7Fxxhme"
      }
    },
    {
      "cell_type": "markdown",
      "source": [
        "Let's reconstruct one draft model per phylum. First we make a function to reconstruct dract models."
      ],
      "metadata": {
        "id": "O2WQ4oXpxvh0"
      }
    },
    {
      "cell_type": "code",
      "source": [
        "def reconstruct_draft_model(model_id, input_protein_fasta, output_model_sbml):\n",
        "    genome = MSGenome.from_fasta(input_protein_fasta, split = ' ')\n",
        "    rast.annotate_genome(genome)\n",
        "\n",
        "    base_model = MSBuilder.build_metabolic_model(model_id = model_id,\n",
        "                                             genome   = genome,\n",
        "                                             index    = \"0\",\n",
        "                                             classic_biomass = True,\n",
        "                                             gapfill_model   = False,\n",
        "                                             gapfill_media   = None,\n",
        "                                             annotate_with_rast = True,\n",
        "                                             allow_all_non_grp_reactions = True\n",
        "                                            )\n",
        "\n",
        "    cobra.io.write_sbml_model(cobra_model = base_model, filename = output_model_sbml)\n",
        "\n",
        "    return base_model\n"
      ],
      "metadata": {
        "id": "s6EGaJlkyJlB"
      },
      "execution_count": null,
      "outputs": []
    },
    {
      "cell_type": "markdown",
      "source": [
        "Now lets run the function for all the genomes in the `one_per_phylum` folder and write the outputs to the folde `one_per_phylum_models`."
      ],
      "metadata": {
        "id": "ZuBFiTeayXZq"
      }
    },
    {
      "cell_type": "code",
      "source": [
        "!mkdir shewanella_models\n",
        "\n",
        "rast = RastClient()\n",
        "\n",
        "root = \"one_per_phylum\"\n",
        "genomes = os.listdir(root)\n",
        "\n",
        "\n",
        "for name in genomes:\n",
        "    if \".fa\" in name:\n",
        "        model_id = name.replace(\".fa\", \"\")\n",
        "        model = reconstruct_draft_model(model_id, os.path.join('one_per_phylum', name), os.path.join('one_per_phylum_models', model_id + \".sbml\"))\n",
        "        print(f\"Reconstructed {model_id}\")\n",
        "\n"
      ],
      "metadata": {
        "id": "VXYk4acIy64n"
      },
      "execution_count": null,
      "outputs": []
    },
    {
      "cell_type": "code",
      "source": [
        "!ls shewanella_models -la"
      ],
      "metadata": {
        "id": "VzbJsionz2UK"
      },
      "execution_count": null,
      "outputs": []
    },
    {
      "cell_type": "markdown",
      "source": [
        "### **What if we don't have a protein fasta?**"
      ],
      "metadata": {
        "id": "3_-LzOh_2THN"
      }
    },
    {
      "cell_type": "markdown",
      "source": [
        "We can use [`Pyrodigal`](https://joss.theoj.org/papers/10.21105/joss.04296) to predict open reading frames and make a protein multifasta for our DNA sequence."
      ],
      "metadata": {
        "id": "ipTiowur2sGr"
      }
    },
    {
      "cell_type": "code",
      "source": [
        "!pip install pyrodigal\n",
        "!pip install biopython"
      ],
      "metadata": {
        "colab": {
          "base_uri": "https://localhost:8080/"
        },
        "id": "bL3Cluum3eil",
        "outputId": "7ea52a80-d9f5-4347-8376-99e9acb5bf34"
      },
      "execution_count": null,
      "outputs": [
        {
          "output_type": "stream",
          "name": "stdout",
          "text": [
            "Requirement already satisfied: pyrodigal in /usr/local/lib/python3.11/dist-packages (3.6.3)\n",
            "Requirement already satisfied: archspec~=0.2.0 in /usr/local/lib/python3.11/dist-packages (from pyrodigal) (0.2.5)\n",
            "Collecting biopython\n",
            "  Downloading biopython-1.85-cp311-cp311-manylinux_2_17_x86_64.manylinux2014_x86_64.whl.metadata (13 kB)\n",
            "Requirement already satisfied: numpy in /usr/local/lib/python3.11/dist-packages (from biopython) (1.26.4)\n",
            "Downloading biopython-1.85-cp311-cp311-manylinux_2_17_x86_64.manylinux2014_x86_64.whl (3.3 MB)\n",
            "\u001b[2K   \u001b[90m━━━━━━━━━━━━━━━━━━━━━━━━━━━━━━━━━━━━━━━━\u001b[0m \u001b[32m3.3/3.3 MB\u001b[0m \u001b[31m39.8 MB/s\u001b[0m eta \u001b[36m0:00:00\u001b[0m\n",
            "\u001b[?25hInstalling collected packages: biopython\n",
            "Successfully installed biopython-1.85\n"
          ]
        },
        {
          "output_type": "stream",
          "name": "stderr",
          "text": [
            "/usr/local/lib/python3.11/dist-packages/google/colab/_pip.py:86: ResourceWarning: unclosed file <_io.TextIOWrapper name='/usr/local/lib/python3.11/dist-packages/biopython-1.85.dist-info/top_level.txt' mode='r' encoding='UTF-8'>\n",
            "  for line in open(toplevel):\n",
            "ResourceWarning: Enable tracemalloc to get the object allocation traceback\n"
          ]
        }
      ]
    },
    {
      "cell_type": "code",
      "source": [
        "url = 'https://www.ebi.ac.uk/ena/browser/api/fasta/OZ061323?download=true'\n",
        "\n",
        "download_path = 'OZ061323.fa'\n",
        "\n",
        "urllib.request.urlretrieve(url, download_path)\n",
        "\n",
        "!ls -la"
      ],
      "metadata": {
        "colab": {
          "base_uri": "https://localhost:8080/"
        },
        "id": "Et5aB_Ld4Akw",
        "outputId": "fa875b39-638a-448d-c299-eaf7c85d3094"
      },
      "execution_count": null,
      "outputs": [
        {
          "output_type": "stream",
          "name": "stdout",
          "text": [
            "total 11224\n",
            "drwxr-xr-x  1 root root    4096 Feb 24 16:58  .\n",
            "drwxr-xr-x  1 root root    4096 Feb 24 12:26  ..\n",
            "-rw-r--r--  1 root root 1011415 Feb 24 15:46 'Bifidobacterium adolescentis_atcc_15703.fa'\n",
            "-rw-r--r--  1 root root 1871507 Feb 24 16:19 'Bifidobacterium adolescentis_atcc_15703.sbml'\n",
            "drwxr-xr-x  4 root root    4096 Feb 20 14:24  .config\n",
            "drwxr-xr-x  8 root root    4096 Feb 24 14:59  DNNGIOR\n",
            "drwxr-xr-x  2 root root    4096 Feb 24 14:58  licenses\n",
            "drwxr-xr-x 10 root root    4096 Feb 24 15:04  ModelSEEDpy\n",
            "drwxr-xr-x  2 root root    4096 Feb 24 16:01  one_per_phylum\n",
            "drwxr-xr-x  2 root root    4096 Feb 24 16:51  one_per_phylum_models\n",
            "-rw-r--r--  1 root root 2097404 Feb 24 17:00  OZ061323.fa\n",
            "drwxr-xr-x  1 root root    4096 Feb 20 14:24  sample_data\n",
            "drwxr-xr-x  2 root root    4096 Feb 24 15:54  shewanella_genomes\n",
            "-rw-r--r--  1 root root 6465180 Feb 24 15:34  species_EnsemblBacteria.txt\n"
          ]
        }
      ]
    },
    {
      "cell_type": "code",
      "source": [
        "from Bio import SeqIO\n",
        "import pyrodigal\n",
        "\n",
        "record = SeqIO.read(\"OZ061323.fa\", \"fasta\")\n",
        "dna_seq = str(record.seq)  # Convert the sequence to a plain string\n",
        "\n",
        "print(f\"sequence legth: {len(dna_seq)}\")\n",
        "\n",
        "gene_finder = pyrodigal.GeneFinder()\n",
        "\n",
        "gene_finder.train(dna_seq)\n",
        "\n",
        "genes = gene_finder.find_genes(dna_seq)\n",
        "\n",
        "with open(\"OZ061323.pep.faa\", \"w\") as f:\n",
        "    genes.write_translations(f, sequence_id=\"seqXYZ\")"
      ],
      "metadata": {
        "colab": {
          "base_uri": "https://localhost:8080/"
        },
        "id": "-N0cQbtr5SId",
        "outputId": "47133393-eae9-413a-fcfc-099d847e8490"
      },
      "execution_count": null,
      "outputs": [
        {
          "output_type": "stream",
          "name": "stdout",
          "text": [
            "sequence legth: 2062891\n"
          ]
        }
      ]
    },
    {
      "cell_type": "code",
      "source": [
        "!head OZ061323.pep.faa"
      ],
      "metadata": {
        "colab": {
          "base_uri": "https://localhost:8080/"
        },
        "id": "fBr2Drrb6gX0",
        "outputId": "ea042551-796d-4da5-e434-801fd209d36b"
      },
      "execution_count": null,
      "outputs": [
        {
          "output_type": "stream",
          "name": "stdout",
          "text": [
            ">seqXYZ_1 # 1 # 1347 # 1 # ID=1_1;partial=10;start_type=Edge;rbs_motif=None;rbs_spacer=None;gc_cont=0.422\n",
            "MPDLQELWNYLREEFQNDLTPVGFNAWIKTAKPLAFRANEILIEVPSPLHKEYWESNLAT\n",
            "KVVEGAYEFAEIELTPIFLLPTEAEQLQAEKPAEERSLTKAETPTFLRETHLNSKYTFDT\n",
            "FVTGKGNQMAHAAALVVSEEPGVLYNPLFLYGGVGLGKTHLMQAIGHQLLLSKPDTNVKY\n",
            "VTSEAFANDFINSIQTKNQEKFRQEYRNVDLLLVDDIQFFADKEGTQEEFFHTFNDLYND\n",
            "KKQIVLTSDRLPNEIPKLQERLVSRFKWGLSVDITPPDLETRIAILRNKADTERLEIPED\n",
            "TLSYIAGQIDSNVRELEGSLVRVQAYATMQNAEITTSLAADALKGLKLNGKSSQLSIAKI\n",
            "QSVVAKYYSLSITDLKGRKRVKEIVLPRQIAMYLAREMTDSSLPKIGQEFGGKDHTTVMH\n",
            "AHERISQALTSDQNLKDAILDLKNTLKG*\n",
            ">seqXYZ_2 # 1530 # 2669 # 1 # ID=1_2;partial=00;start_type=ATG;rbs_motif=GGAGG;rbs_spacer=5-10bp;gc_cont=0.396\n"
          ]
        }
      ]
    },
    {
      "cell_type": "code",
      "source": [
        "model_id = 'OZ061323'\n",
        "\n",
        "model = reconstruct_draft_model(model_id, 'OZ061323.pep.faa', 'OZ061323.sbml')"
      ],
      "metadata": {
        "id": "EX9L2YBK6sG6"
      },
      "execution_count": null,
      "outputs": []
    },
    {
      "cell_type": "code",
      "source": [
        "ls -la"
      ],
      "metadata": {
        "colab": {
          "base_uri": "https://localhost:8080/"
        },
        "id": "VaJo7eL07CNq",
        "outputId": "8260107a-85c6-4fad-a422-42d99c32ed77"
      },
      "execution_count": null,
      "outputs": [
        {
          "output_type": "stream",
          "name": "stdout",
          "text": [
            "total 13584\n",
            "drwxr-xr-x  1 root root    4096 Feb 24 17:05  \u001b[0m\u001b[01;34m.\u001b[0m/\n",
            "drwxr-xr-x  1 root root    4096 Feb 24 12:26  \u001b[01;34m..\u001b[0m/\n",
            "-rw-r--r--  1 root root 1011415 Feb 24 15:46 'Bifidobacterium adolescentis_atcc_15703.fa'\n",
            "-rw-r--r--  1 root root 1871507 Feb 24 16:19 'Bifidobacterium adolescentis_atcc_15703.sbml'\n",
            "drwxr-xr-x  4 root root    4096 Feb 20 14:24  \u001b[01;34m.config\u001b[0m/\n",
            "drwxr-xr-x  8 root root    4096 Feb 24 14:59  \u001b[01;34mDNNGIOR\u001b[0m/\n",
            "drwxr-xr-x  2 root root    4096 Feb 24 14:58  \u001b[01;34mlicenses\u001b[0m/\n",
            "drwxr-xr-x 10 root root    4096 Feb 24 15:04  \u001b[01;34mModelSEEDpy\u001b[0m/\n",
            "drwxr-xr-x  2 root root    4096 Feb 24 16:01  \u001b[01;34mone_per_phylum\u001b[0m/\n",
            "drwxr-xr-x  2 root root    4096 Feb 24 16:51  \u001b[01;34mone_per_phylum_models\u001b[0m/\n",
            "-rw-r--r--  1 root root 2097404 Feb 24 17:00  OZ061323.fa\n",
            "-rw-r--r--  1 root root  868702 Feb 24 17:03  OZ061323.pep.faa\n",
            "-rw-r--r--  1 root root 1540747 Feb 24 17:05  OZ061323.sbml\n",
            "drwxr-xr-x  1 root root    4096 Feb 20 14:24  \u001b[01;34msample_data\u001b[0m/\n",
            "drwxr-xr-x  2 root root    4096 Feb 24 15:54  \u001b[01;34mshewanella_genomes\u001b[0m/\n",
            "-rw-r--r--  1 root root 6465180 Feb 24 15:34  species_EnsemblBacteria.txt\n"
          ]
        }
      ]
    },
    {
      "cell_type": "code",
      "source": [
        "model.optimize()"
      ],
      "metadata": {
        "colab": {
          "base_uri": "https://localhost:8080/",
          "height": 440
        },
        "id": "xc9CM4-q7Fue",
        "outputId": "166b79c4-7f91-438e-cf08-d1a7bae42dc7"
      },
      "execution_count": null,
      "outputs": [
        {
          "output_type": "execute_result",
          "data": {
            "text/plain": [
              "<Solution 0.000 at 0x7a505eda5a10>"
            ],
            "text/html": [
              "<strong><em>Optimal</em> solution with objective value 0.000</strong><br><div>\n",
              "<style scoped>\n",
              "    .dataframe tbody tr th:only-of-type {\n",
              "        vertical-align: middle;\n",
              "    }\n",
              "\n",
              "    .dataframe tbody tr th {\n",
              "        vertical-align: top;\n",
              "    }\n",
              "\n",
              "    .dataframe thead th {\n",
              "        text-align: right;\n",
              "    }\n",
              "</style>\n",
              "<table border=\"1\" class=\"dataframe\">\n",
              "  <thead>\n",
              "    <tr style=\"text-align: right;\">\n",
              "      <th></th>\n",
              "      <th>fluxes</th>\n",
              "      <th>reduced_costs</th>\n",
              "    </tr>\n",
              "  </thead>\n",
              "  <tbody>\n",
              "    <tr>\n",
              "      <th>rxn00351_c0</th>\n",
              "      <td>0.0</td>\n",
              "      <td>0.0</td>\n",
              "    </tr>\n",
              "    <tr>\n",
              "      <th>rxn00836_c0</th>\n",
              "      <td>0.0</td>\n",
              "      <td>0.0</td>\n",
              "    </tr>\n",
              "    <tr>\n",
              "      <th>rxn10298_c0</th>\n",
              "      <td>0.0</td>\n",
              "      <td>-0.0</td>\n",
              "    </tr>\n",
              "    <tr>\n",
              "      <th>rxn00364_c0</th>\n",
              "      <td>0.0</td>\n",
              "      <td>-0.0</td>\n",
              "    </tr>\n",
              "    <tr>\n",
              "      <th>rxn03408_c0</th>\n",
              "      <td>0.0</td>\n",
              "      <td>-0.0</td>\n",
              "    </tr>\n",
              "    <tr>\n",
              "      <th>...</th>\n",
              "      <td>...</td>\n",
              "      <td>...</td>\n",
              "    </tr>\n",
              "    <tr>\n",
              "      <th>EX_cpd00011_e0</th>\n",
              "      <td>0.0</td>\n",
              "      <td>-0.0</td>\n",
              "    </tr>\n",
              "    <tr>\n",
              "      <th>EX_cpd03453_e0</th>\n",
              "      <td>0.0</td>\n",
              "      <td>-0.0</td>\n",
              "    </tr>\n",
              "    <tr>\n",
              "      <th>EX_cpd03726_e0</th>\n",
              "      <td>0.0</td>\n",
              "      <td>-0.0</td>\n",
              "    </tr>\n",
              "    <tr>\n",
              "      <th>bio1</th>\n",
              "      <td>0.0</td>\n",
              "      <td>0.0</td>\n",
              "    </tr>\n",
              "    <tr>\n",
              "      <th>SK_cpd11416_c0</th>\n",
              "      <td>0.0</td>\n",
              "      <td>0.0</td>\n",
              "    </tr>\n",
              "  </tbody>\n",
              "</table>\n",
              "<p>605 rows × 2 columns</p>\n",
              "</div>"
            ]
          },
          "metadata": {},
          "execution_count": 53
        }
      ]
    }
  ]
}