{
  "cells": [
    {
      "cell_type": "markdown",
      "metadata": {
        "colab_type": "text",
        "id": "view-in-github"
      },
      "source": [
        "<a href=\"https://colab.research.google.com/github/hariszaf/metabolic_toy_model/blob/main/Antony2025/reconstructingDraftGSMMs.ipynb\" target=\"_parent\"><img src=\"https://colab.research.google.com/assets/colab-badge.svg\" alt=\"Open In Colab\"/></a>"
      ]
    },
    {
      "cell_type": "markdown",
      "metadata": {
        "id": "UCd6z3K2rZ12"
      },
      "source": [
        "# **Reconstructing Draft Genome-Scale Metabolic Models**"
      ]
    },
    {
      "cell_type": "markdown",
      "metadata": {
        "id": "bSFSyk2HnH6U"
      },
      "source": [
        "### **Basic setup**"
      ]
    },
    {
      "cell_type": "markdown",
      "metadata": {
        "id": "yKHoTgrSnsKX"
      },
      "source": [
        "Setup **Gurobi** and **COBRApy**. See the [setting up your environment](https://colab.research.google.com/github/hariszaf/metabolic_toy_model/blob/main/Antony2025/preparingYourEnvironment.ipynb)."
      ]
    },
    {
      "cell_type": "markdown",
      "metadata": {
        "id": "kJxKrgbQkV4H"
      },
      "source": [
        "### **Reconstructing Draft Genome-Scale Metabolic Models**"
      ]
    },
    {
      "cell_type": "markdown",
      "metadata": {
        "id": "cje8cDy2lSwu"
      },
      "source": [
        "Draft models are incomplete models containing only genome-based evidence.They are not capable of producing biomass.\n",
        "\n",
        "To reconstruct draft models, we will use the [ModelSEED](https://academic.oup.com/nar/article/49/D1/D575/5912569?login=true) pipeline.\n",
        "\n",
        "[see the web interface](https://modelseed.org/)\n"
      ]
    },
    {
      "cell_type": "markdown",
      "metadata": {
        "id": "aXgMmfRBuWVz"
      },
      "source": [
        "### **Installing ModelSEED**"
      ]
    },
    {
      "cell_type": "markdown",
      "metadata": {
        "id": "cvP4NCxkuemy"
      },
      "source": [
        "If working on your own machine, remember\n",
        "\n",
        "1) Activate our conda environment:\n",
        "\n",
        "```bash\n",
        "conda activate gsmmWorkshop\n",
        "```"
      ]
    },
    {
      "cell_type": "markdown",
      "metadata": {
        "id": "JiPv2n8Hey4p"
      },
      "source": [
        "### **Clone the ModelSEEDpy repository**"
      ]
    },
    {
      "cell_type": "code",
      "execution_count": null,
      "metadata": {
        "colab": {
          "base_uri": "https://localhost:8080/"
        },
        "id": "U_6bIUntkGQ5",
        "outputId": "8b3c7f09-31bc-43a4-a870-ceaee0b50667"
      },
      "outputs": [],
      "source": [
        "!git clone https://github.com/ModelSEED/ModelSEEDpy"
      ]
    },
    {
      "cell_type": "markdown",
      "metadata": {
        "id": "UuNP5Gkte7nG"
      },
      "source": [
        "### **Install it**"
      ]
    },
    {
      "cell_type": "code",
      "execution_count": null,
      "metadata": {
        "colab": {
          "base_uri": "https://localhost:8080/"
        },
        "collapsed": true,
        "id": "fgzbUOemkPtu",
        "outputId": "558d703b-d868-4003-bac4-85d5dc2547c5"
      },
      "outputs": [],
      "source": [
        "!pip install ModelSEEDpy/."
      ]
    },
    {
      "cell_type": "markdown",
      "metadata": {
        "id": "M76peH_4fyx-"
      },
      "source": [
        "### **Working with genomes**"
      ]
    },
    {
      "cell_type": "markdown",
      "metadata": {
        "id": "XF7iRm1NgTOu"
      },
      "source": [
        "To reconstruct models, we first need genome sequences. We can use the genomes from EMBL, [ENSEMBL Bacteria](https://bacteria.ensembl.org/index.html), or another public genomic database.\n",
        "\n",
        "[Here](https://ftp.ensemblgenomes.ebi.ac.uk/pub/bacteria/current/species_EnsemblBacteria.txt) is a list of all the genomes available.\n",
        "\n",
        "With this list we can perform queries, such retrieve all the genomes from a given taxa.\n",
        "\n",
        "We also need a package to manipulate NCBI taxonomies: [taxoniq](https://github.com/taxoniq/taxoniq).\n"
      ]
    },
    {
      "cell_type": "markdown",
      "metadata": {
        "id": "S4hDdVuxhz1Q"
      },
      "source": [
        "### **Parsing taxonomies**"
      ]
    },
    {
      "cell_type": "code",
      "execution_count": null,
      "metadata": {
        "colab": {
          "base_uri": "https://localhost:8080/"
        },
        "collapsed": true,
        "id": "BhNUOkBM7OX_",
        "outputId": "657db025-dde9-4ded-bc8f-bee2f43f1ca3"
      },
      "outputs": [],
      "source": [
        "!pip install taxoniq"
      ]
    },
    {
      "cell_type": "markdown",
      "metadata": {
        "id": "7dsgIKYFjURy"
      },
      "source": [
        "### **Creating a genomes list**"
      ]
    },
    {
      "cell_type": "markdown",
      "metadata": {
        "id": "ihDiWTbsjcJ0"
      },
      "source": [
        "Before reconstructing models, let's perform the following tasks:\n",
        "\n",
        "\n",
        "1. Make a python dictionary mapping the ENSEMBL genomes to their taxonomies and their fasta file containing genome-enoded proteins.\n",
        "\n",
        "[genome] = [{taxonomic ranks}, {webpage containing their peptide fasta}]\n",
        "\n",
        "\n",
        "2. Use our list to find a genome that interests us. For example, we will use a *Bifidobacterium adolescentis* genome;\n",
        "\n",
        "\n",
        "3. Dowload all genomes belonging to a specific genus. For example, we will use all *Shewanella* genomes;\n",
        "\n",
        "\n",
        "4. Get one representative genome per phylum."
      ]
    },
    {
      "cell_type": "markdown",
      "metadata": {
        "id": "Ei4QvjiGlYtc"
      },
      "source": [
        "#### **ENSEMBL Genome Dictionary:**"
      ]
    },
    {
      "cell_type": "markdown",
      "metadata": {
        "id": "ZZSL5qsClsGS"
      },
      "source": [
        "dowload the genome file"
      ]
    },
    {
      "cell_type": "code",
      "execution_count": null,
      "metadata": {
        "colab": {
          "base_uri": "https://localhost:8080/"
        },
        "collapsed": true,
        "id": "1rKqxk36lvQr",
        "outputId": "301b6a10-74d2-4613-d59a-cf33311475f3"
      },
      "outputs": [],
      "source": [
        "import urllib.request\n",
        "urllib.request.urlretrieve(\"https://ftp.ensemblgenomes.ebi.ac.uk/pub/bacteria/current/species_EnsemblBacteria.txt\", \"species_EnsemblBacteria.txt\")\n",
        "\n",
        "!ls -la"
      ]
    },
    {
      "cell_type": "markdown",
      "metadata": {
        "id": "FTwd92I-mShZ"
      },
      "source": [
        "make a function to generate the dowload url"
      ]
    },
    {
      "cell_type": "code",
      "execution_count": null,
      "metadata": {
        "colab": {
          "base_uri": "https://localhost:8080/"
        },
        "collapsed": true,
        "id": "ukKrg0svlj0T",
        "outputId": "b9a35859-506a-4707-fa01-d550c4adcdd0"
      },
      "outputs": [],
      "source": [
        "import taxoniq\n",
        "import os\n",
        "\n",
        "\n",
        "\n",
        "def getProteinFast(l):\n",
        "    p1 = \"https://ftp.ensemblgenomes.ebi.ac.uk/pub/bacteria/current/fasta/\"\n",
        "    p2 = \"bacteria\" + \"_\" + l[13].split(\"_\")[1] + \"_\" + \"collection\" + \"/\"\n",
        "    p3 = l[1] + \"/pep/\"\n",
        "    st = l[4]\n",
        "    while \" \" in st:\n",
        "        st = st.replace(\" \", \"_\")\n",
        "    p4 = l[1][0].upper() + l[1][1:] + \".\" + st + \".pep.all.fa.gz\"\n",
        "\n",
        "    return p1 + p2 + p3 + p4\n",
        "\n",
        "genomes = {}\n",
        "with open('species_EnsemblBacteria.txt') as f:\n",
        "    f.readline()\n",
        "    for line in f:\n",
        "        a = line.strip().split('\\t')\n",
        "        try:\n",
        "            taxonomy = taxoniq.Taxon(int(a[3]))\n",
        "            genomes[a[3] + \"_\" + a[1]] = [{rank.rank.name: rank.scientific_name for rank in taxonomy.ranked_lineage}, getProteinFast(a)]\n",
        "\n",
        "        except KeyError:\n",
        "            pass\n",
        "\n",
        "genomes"
      ]
    },
    {
      "cell_type": "markdown",
      "metadata": {
        "id": "UBCMKMthnEN6"
      },
      "source": [
        "#### **Retrieve a genome**"
      ]
    },
    {
      "cell_type": "code",
      "execution_count": null,
      "metadata": {
        "colab": {
          "base_uri": "https://localhost:8080/"
        },
        "collapsed": true,
        "id": "3LhNnxjnnL3_",
        "outputId": "b3fc148f-8dcb-4220-895f-b17715bad3b0"
      },
      "outputs": [],
      "source": [
        "for genome in genomes:\n",
        "  if \"Bifidobacterium adolescentis\" in genomes[genome][0].values():\n",
        "    print(genome, f\" url: {genomes[genome][1]}\")"
      ]
    },
    {
      "cell_type": "markdown",
      "metadata": {
        "id": "b1NXwOZUnj0p"
      },
      "source": [
        "let's pick the first one in the list."
      ]
    },
    {
      "cell_type": "code",
      "execution_count": null,
      "metadata": {
        "colab": {
          "base_uri": "https://localhost:8080/"
        },
        "collapsed": true,
        "id": "AyqYkTwioI71",
        "outputId": "9854399d-7dd7-4c3b-d467-c30e1e37f21b"
      },
      "outputs": [],
      "source": [
        "import gzip\n",
        "import shutil\n",
        "\n",
        "url = \"https://ftp.ensemblgenomes.ebi.ac.uk/pub/bacteria/current/fasta/bacteria_100_collection/bifidobacterium_adolescentis_atcc_15703_gca_000010425/pep/Bifidobacterium_adolescentis_atcc_15703_gca_000010425.ASM1042v1.pep.all.fa.gz\"\n",
        "gz_id = \"Bifidobacterium adolescentis_atcc_15703.fa.gz\"\n",
        "fast_id = \"Bifidobacterium adolescentis_atcc_15703.fa\"\n",
        "\n",
        "urllib.request.urlretrieve(url, gz_id)\n",
        "with gzip.open(gz_id, 'rb') as f_in:\n",
        "    with open(fast_id, 'wb') as f_out:\n",
        "        shutil.copyfileobj(f_in, f_out)\n",
        "\n",
        "os.remove(gz_id)\n",
        "!ls -la"
      ]
    },
    {
      "cell_type": "markdown",
      "metadata": {
        "id": "_CVx2r-YpVoO"
      },
      "source": [
        "#### **Download all Shewanella genomes**"
      ]
    },
    {
      "cell_type": "code",
      "execution_count": null,
      "metadata": {
        "colab": {
          "base_uri": "https://localhost:8080/"
        },
        "collapsed": true,
        "id": "BPaciUktpnkM",
        "outputId": "8f1f9054-2885-439a-9af6-47b409d08511"
      },
      "outputs": [],
      "source": [
        "!mkdir shewanella_genomes\n",
        "#get all Shewanella genomes\n",
        "root = 'shewanella_genomes'\n",
        "for genome in genomes:\n",
        "    if \"shewanella\" in genome:\n",
        "        url = genomes[genome][1]\n",
        "        download_path = os.path.join(root, genome + \".fa.gz\")\n",
        "        extracted_path = os.path.join(root, genome + \".fa\")\n",
        "\n",
        "        urllib.request.urlretrieve(url, download_path)\n",
        "\n",
        "        with gzip.open(download_path, 'rb') as f_in:\n",
        "            with open(extracted_path, 'wb') as f_out:\n",
        "                shutil.copyfileobj(f_in, f_out)\n",
        "        print(f\"Extracted file saved as {extracted_path}\")\n",
        "        os.remove(download_path)"
      ]
    },
    {
      "cell_type": "code",
      "execution_count": null,
      "metadata": {
        "colab": {
          "base_uri": "https://localhost:8080/"
        },
        "collapsed": true,
        "id": "x1uGOCWSqQrP",
        "outputId": "832a58af-12a0-49d0-81a3-bee4f4e3d35a"
      },
      "outputs": [],
      "source": [
        "!ls shewanella_genomes -la"
      ]
    },
    {
      "cell_type": "markdown",
      "metadata": {
        "id": "8bpjGbnnqynW"
      },
      "source": [
        "#### **Get one genome per Phylum**"
      ]
    },
    {
      "cell_type": "code",
      "execution_count": null,
      "metadata": {
        "colab": {
          "base_uri": "https://localhost:8080/"
        },
        "collapsed": true,
        "id": "VaZfFTLtq-Xb",
        "outputId": "3c9c0e37-c444-4444-b156-e4f41af6b7a8"
      },
      "outputs": [],
      "source": [
        "!mkdir one_per_phylum\n",
        "\n",
        "phyla = {}\n",
        "\n",
        "for genome in genomes:\n",
        "    if 'phylum' in genomes[genome][0]:#has an annotated phylum\n",
        "        if genomes[genome][0]['phylum'] not in phyla:\n",
        "            phyla[genomes[genome][0]['phylum']] = genomes[genome][1]\n",
        "\n",
        "\n",
        "root = 'one_per_phylum'\n",
        "for genome in phyla:\n",
        "    url = phyla[genome]\n",
        "    download_path = os.path.join(root, genome + \".fa.gz\")\n",
        "    extracted_path = os.path.join(root, genome + \".fa\")\n",
        "\n",
        "    urllib.request.urlretrieve(url, download_path)\n",
        "\n",
        "    with gzip.open(download_path, 'rb') as f_in:\n",
        "        with open(extracted_path, 'wb') as f_out:\n",
        "            shutil.copyfileobj(f_in, f_out)\n",
        "    print(f\"Extracted file saved as {extracted_path}\")\n",
        "    os.remove(download_path)"
      ]
    },
    {
      "cell_type": "code",
      "execution_count": null,
      "metadata": {
        "colab": {
          "base_uri": "https://localhost:8080/"
        },
        "collapsed": true,
        "id": "w7VIYNXfrqTW",
        "outputId": "67f31ea6-2b69-486b-8989-419b94d1012d"
      },
      "outputs": [],
      "source": [
        "!ls one_per_phylum -la"
      ]
    },
    {
      "cell_type": "markdown",
      "metadata": {
        "id": "zs80OTm9sinY"
      },
      "source": [
        "### **Annotate Genome**"
      ]
    },
    {
      "cell_type": "markdown",
      "metadata": {
        "id": "UWtBeHE0s5EJ"
      },
      "source": [
        "Before building a draft model, we need to annotate the genome using RAST.\n",
        "\n",
        "Let's do this with our *Bifidobacterium adolescentis* genome."
      ]
    },
    {
      "cell_type": "code",
      "execution_count": null,
      "metadata": {
        "colab": {
          "base_uri": "https://localhost:8080/"
        },
        "collapsed": true,
        "id": "9qRtzdT7tRWG",
        "outputId": "95e51822-b2cd-4ac3-80ce-dc5cd4ca31d9"
      },
      "outputs": [],
      "source": [
        "import modelseedpy\n",
        "from modelseedpy.core.msgenome import MSGenome\n",
        "\n",
        "from modelseedpy.core.rast_client import RastClient\n",
        "rast = RastClient()\n",
        "\n",
        "\n",
        "\n",
        "genome_file = 'Bifidobacterium adolescentis_atcc_15703.fa'\n",
        "\n",
        "\n",
        "\n",
        "genome = MSGenome.from_fasta(genome_file)\n",
        "\n",
        "rast.annotate_genome(genome)\n",
        "\n",
        "for i in genome.features:\n",
        "    print(i.description)"
      ]
    },
    {
      "cell_type": "markdown",
      "metadata": {
        "id": "q84fjm73uO-q"
      },
      "source": [
        "#### **Reconstruct Draft Model**\n",
        "\n"
      ]
    },
    {
      "cell_type": "markdown",
      "metadata": {
        "id": "gSZWOIChupAO"
      },
      "source": [
        "To reconstruct the draft genome-scale metabolic model we use the `build_metabolic_model` function of `ModelSEEDpy`. The input to the function is a RAST annotated genome."
      ]
    },
    {
      "cell_type": "code",
      "execution_count": null,
      "metadata": {
        "colab": {
          "base_uri": "https://localhost:8080/"
        },
        "collapsed": true,
        "id": "WZSWHRzqupIv",
        "outputId": "52183988-a76f-410d-fb34-14e0216e9644"
      },
      "outputs": [],
      "source": [
        "from modelseedpy import MSBuilder\n",
        "\n",
        "model_id = 'Bifidobacterium adolescentis_atcc_15703'\n",
        "\n",
        "base_model = MSBuilder.build_metabolic_model(model_id = model_id,\n",
        "                                             genome   = genome,\n",
        "                                             index    = \"0\",\n",
        "                                             classic_biomass = True,\n",
        "                                             gapfill_model   = False,\n",
        "                                             gapfill_media   = None,\n",
        "                                             annotate_with_rast = True,\n",
        "                                             allow_all_non_grp_reactions = True\n",
        "                                            )"
      ]
    },
    {
      "cell_type": "markdown",
      "metadata": {
        "id": "ZEN3JgPvvvbK"
      },
      "source": [
        "We can see the model is a draft and does not produce biomass."
      ]
    },
    {
      "cell_type": "code",
      "execution_count": null,
      "metadata": {
        "colab": {
          "base_uri": "https://localhost:8080/",
          "height": 566
        },
        "collapsed": true,
        "id": "bclsaT8bv06X",
        "outputId": "0f758573-8dca-4935-9d62-1c09487eadb9"
      },
      "outputs": [],
      "source": [
        "base_model.optimize()"
      ]
    },
    {
      "cell_type": "markdown",
      "metadata": {
        "id": "0xu2SmDhwJzn"
      },
      "source": [
        "We save the draft model"
      ]
    },
    {
      "cell_type": "code",
      "execution_count": null,
      "metadata": {
        "colab": {
          "base_uri": "https://localhost:8080/"
        },
        "id": "ZPjpdnFS15FI",
        "outputId": "ae5029b0-f177-47fe-d565-0e04f276b9ec"
      },
      "outputs": [],
      "source": [
        "model_name = \"Bifidobacterium adolescentis_atcc_15703.sbml\"\n",
        "cobra.io.write_sbml_model(cobra_model = base_model, filename = model_name)\n",
        "\n",
        "!ls -la"
      ]
    },
    {
      "cell_type": "markdown",
      "metadata": {
        "id": "eC2Zk7Fxxhme"
      },
      "source": [
        "### **Batch reconstruction**"
      ]
    },
    {
      "cell_type": "markdown",
      "metadata": {
        "id": "O2WQ4oXpxvh0"
      },
      "source": [
        "Let's reconstruct one draft model per phylum. First we make a function to reconstruct dract models."
      ]
    },
    {
      "cell_type": "code",
      "execution_count": null,
      "metadata": {
        "id": "s6EGaJlkyJlB"
      },
      "outputs": [],
      "source": [
        "def reconstruct_draft_model(model_id, input_protein_fasta, output_model_sbml):\n",
        "    genome = MSGenome.from_fasta(input_protein_fasta, split = ' ')\n",
        "    rast.annotate_genome(genome)\n",
        "\n",
        "    base_model = MSBuilder.build_metabolic_model(model_id = model_id,\n",
        "                                             genome   = genome,\n",
        "                                             index    = \"0\",\n",
        "                                             classic_biomass = True,\n",
        "                                             gapfill_model   = False,\n",
        "                                             gapfill_media   = None,\n",
        "                                             annotate_with_rast = True,\n",
        "                                             allow_all_non_grp_reactions = True\n",
        "                                            )\n",
        "\n",
        "    cobra.io.write_sbml_model(cobra_model = base_model, filename = output_model_sbml)\n",
        "\n",
        "    return base_model\n"
      ]
    },
    {
      "cell_type": "markdown",
      "metadata": {
        "id": "ZuBFiTeayXZq"
      },
      "source": [
        "Now lets run the function for all the genomes in the `one_per_phylum` folder and write the outputs to the folde `one_per_phylum_models`.\n",
        "\n",
        "We are only going to reconstruct three models to avoid overloading the RAST server."
      ]
    },
    {
      "cell_type": "code",
      "execution_count": null,
      "metadata": {
        "colab": {
          "base_uri": "https://localhost:8080/"
        },
        "collapsed": true,
        "id": "VXYk4acIy64n",
        "outputId": "aefc5d48-0cef-4342-858f-ed40bf4277db"
      },
      "outputs": [],
      "source": [
        "!mkdir one_per_phylum_models\n",
        "\n",
        "rast = RastClient()\n",
        "\n",
        "root = \"one_per_phylum\"\n",
        "genomes = os.listdir(root)[0:3]\n",
        "\n",
        "\n",
        "for name in genomes:\n",
        "    if \".fa\" in name:\n",
        "        model_id = name.replace(\".fa\", \"\")\n",
        "        model = reconstruct_draft_model(model_id, os.path.join('one_per_phylum', name), os.path.join('one_per_phylum_models', model_id + \".sbml\"))\n",
        "        print(f\"Reconstructed {model_id}\")\n",
        "\n"
      ]
    },
    {
      "cell_type": "code",
      "execution_count": null,
      "metadata": {
        "colab": {
          "base_uri": "https://localhost:8080/"
        },
        "collapsed": true,
        "id": "VzbJsionz2UK",
        "outputId": "ca45d503-55df-4e53-963c-e9843a7d4182"
      },
      "outputs": [],
      "source": [
        "!ls one_per_phylum_models -la"
      ]
    },
    {
      "cell_type": "markdown",
      "metadata": {
        "id": "3_-LzOh_2THN"
      },
      "source": [
        "### **What if we don't have a protein fasta?**"
      ]
    },
    {
      "cell_type": "markdown",
      "metadata": {
        "id": "ipTiowur2sGr"
      },
      "source": [
        "We can use [`Pyrodigal`](https://joss.theoj.org/papers/10.21105/joss.04296) to predict open reading frames and make a protein multifasta for our DNA sequence."
      ]
    },
    {
      "cell_type": "code",
      "execution_count": null,
      "metadata": {
        "colab": {
          "base_uri": "https://localhost:8080/"
        },
        "collapsed": true,
        "id": "bL3Cluum3eil",
        "outputId": "f89693a6-cd23-4c20-9cc0-b6f76ac56c8d"
      },
      "outputs": [],
      "source": [
        "!pip install pyrodigal\n",
        "!pip install biopython"
      ]
    },
    {
      "cell_type": "code",
      "execution_count": null,
      "metadata": {
        "colab": {
          "base_uri": "https://localhost:8080/"
        },
        "collapsed": true,
        "id": "Et5aB_Ld4Akw",
        "outputId": "9de02d83-c422-41a2-ca8c-c3cec3ee40fe"
      },
      "outputs": [],
      "source": [
        "url = 'https://www.ebi.ac.uk/ena/browser/api/fasta/OZ061323?download=true'\n",
        "\n",
        "download_path = 'OZ061323.fa'\n",
        "\n",
        "urllib.request.urlretrieve(url, download_path)\n",
        "\n",
        "!ls -la"
      ]
    },
    {
      "cell_type": "code",
      "execution_count": null,
      "metadata": {
        "colab": {
          "base_uri": "https://localhost:8080/"
        },
        "id": "-N0cQbtr5SId",
        "outputId": "1817902b-43a0-44be-cd7f-c283b3c48ea8"
      },
      "outputs": [],
      "source": [
        "from Bio import SeqIO\n",
        "import pyrodigal\n",
        "\n",
        "record = SeqIO.read(\"OZ061323.fa\", \"fasta\")\n",
        "dna_seq = str(record.seq)  # Convert the sequence to a plain string\n",
        "\n",
        "print(f\"sequence legth: {len(dna_seq)}\")\n",
        "\n",
        "gene_finder = pyrodigal.GeneFinder()\n",
        "\n",
        "gene_finder.train(dna_seq)\n",
        "\n",
        "genes = gene_finder.find_genes(dna_seq)\n",
        "\n",
        "with open(\"OZ061323.pep.faa\", \"w\") as f:\n",
        "    genes.write_translations(f, sequence_id=\"seqXYZ\")"
      ]
    },
    {
      "cell_type": "code",
      "execution_count": null,
      "metadata": {
        "colab": {
          "base_uri": "https://localhost:8080/"
        },
        "collapsed": true,
        "id": "fBr2Drrb6gX0",
        "outputId": "63d398fc-b77d-4092-e0a6-0082506a4f24"
      },
      "outputs": [],
      "source": [
        "!head OZ061323.pep.faa"
      ]
    },
    {
      "cell_type": "code",
      "execution_count": null,
      "metadata": {
        "id": "EX9L2YBK6sG6"
      },
      "outputs": [],
      "source": [
        "model_id = 'OZ061323'\n",
        "\n",
        "model = reconstruct_draft_model(model_id, 'OZ061323.pep.faa', 'OZ061323.sbml')"
      ]
    },
    {
      "cell_type": "code",
      "execution_count": null,
      "metadata": {
        "colab": {
          "base_uri": "https://localhost:8080/"
        },
        "collapsed": true,
        "id": "VaJo7eL07CNq",
        "outputId": "31b364c7-1c0b-4ac1-b552-06471f8a5f5e"
      },
      "outputs": [],
      "source": [
        "ls -la"
      ]
    },
    {
      "cell_type": "code",
      "execution_count": null,
      "metadata": {
        "colab": {
          "base_uri": "https://localhost:8080/",
          "height": 440
        },
        "id": "xc9CM4-q7Fue",
        "outputId": "6f0cc752-afdd-434f-9b01-b24bc5e14db5"
      },
      "outputs": [],
      "source": [
        "model.optimize()"
      ]
    },
    {
      "cell_type": "markdown",
      "metadata": {
        "id": "c-Lf38Av0MAz"
      },
      "source": [
        "#### **Bonus quest: Homework**"
      ]
    },
    {
      "cell_type": "markdown",
      "metadata": {
        "id": "o5TIP7op0ZAB"
      },
      "source": [
        "**Build a pan-genome model**\n",
        "\n",
        "1) Build a draft model for all the *Shewanella* genomes that we dowloaded;\n",
        "\n",
        "2) Make a new model by joining all the reactions that occur at least once in a *Shewanella* genome."
      ]
    },
    {
      "cell_type": "code",
      "execution_count": null,
      "metadata": {
        "id": "EUWcZZeW1RMh"
      },
      "outputs": [],
      "source": []
    }
  ],
  "metadata": {
    "colab": {
      "include_colab_link": true,
      "provenance": []
    },
    "kernelspec": {
      "display_name": "Python 3",
      "name": "python3"
    },
    "language_info": {
      "name": "python"
    }
  },
  "nbformat": 4,
  "nbformat_minor": 0
}
