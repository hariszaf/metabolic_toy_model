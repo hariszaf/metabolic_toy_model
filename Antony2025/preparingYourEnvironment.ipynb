{
  "cells": [
    {
      "cell_type": "markdown",
      "metadata": {
        "colab_type": "text",
        "id": "view-in-github"
      },
      "source": [
        "<a href=\"https://colab.research.google.com/github/hariszaf/metabolic_toy_model/blob/main/Antony2025/preparingYourEnvironment.ipynb\" target=\"_parent\"><img src=\"https://colab.research.google.com/assets/colab-badge.svg\" alt=\"Open In Colab\"/></a>"
      ]
    },
    {
      "cell_type": "markdown",
      "metadata": {
        "id": "wwnSfmyjAwM_"
      },
      "source": [
        "# **Metabolic Models Applied to Microbiomes**"
      ]
    },
    {
      "cell_type": "markdown",
      "metadata": {
        "id": "CYDlMmDJA9Ef"
      },
      "source": [
        "## **Preparing for the workshop**"
      ]
    },
    {
      "cell_type": "markdown",
      "metadata": {},
      "source": [
        "Choose whether you prefer to work on codespace or on your local environment. \n",
        "\n",
        "* `codespace`: easier to work during the workshop, everyone will have the exact same environment; Gurobi Web License (WLS), you can use it up to 1 month, then you have to renew it.\n",
        "* `local`: control is now on your hands, academic `gurobi` license, i.e. you do it once and  you can use it up to 1 year"
      ]
    },
    {
      "cell_type": "markdown",
      "metadata": {},
      "source": [
        "> All commands on the notebooks starting with a `!` are bash commands and you can also run them from your terminal, as long as you are in the correct directory."
      ]
    },
    {
      "cell_type": "markdown",
      "metadata": {
        "id": "zHIeoK6DBQSm"
      },
      "source": [
        "### **Creating a Conda environment**"
      ]
    },
    {
      "cell_type": "markdown",
      "metadata": {
        "id": "azafmdjEBbGl"
      },
      "source": [
        "Here, I assume you have Miniconda or Anaconda installed in your machine. If you don't, follow [this tutorial](https://eduand-alvarez.medium.com/setting-up-anaconda-on-your-windows-pc-6e39800c1afb\n",
        ").\n"
      ]
    },
    {
      "cell_type": "markdown",
      "metadata": {},
      "source": [
        "1. First create a Conda environment called **`met_model_ws`**:"
      ]
    },
    {
      "cell_type": "code",
      "execution_count": null,
      "metadata": {},
      "outputs": [],
      "source": [
        "!conda create -n met_model_ws -y python=3.11.11"
      ]
    },
    {
      "cell_type": "markdown",
      "metadata": {},
      "source": [
        "2) Activate your environment\n"
      ]
    },
    {
      "cell_type": "code",
      "execution_count": null,
      "metadata": {},
      "outputs": [],
      "source": [
        "!conda activate met_model_ws"
      ]
    },
    {
      "cell_type": "markdown",
      "metadata": {},
      "source": [
        "### Get a Gurobi license -- do we need this ?? "
      ]
    },
    {
      "cell_type": "markdown",
      "metadata": {},
      "source": [
        "A **Genome-scale metabolic model** is essentially a set of linear inequalities, which require [linear programming](https://gatiaher.github.io/projects/intuition-for-linear-programming/) to **solve**.\n",
        "\n",
        "\n",
        "[Guroby](https://www.gurobi.com/) is a commersial linear solver that is free for academic usage.\n",
        "\n",
        "You can generate a free academic license by following the steps in the [**Academic**](https://www.gurobi.com/academia/academic-program-and-licenses/) tab while connected to the internet of an academic institution.\n",
        "\n",
        "Here we are sharing a license that will be deactivated a few days after the workshop. Make sure to obtain your own license to be a able to work with the course content in the long term."
      ]
    },
    {
      "cell_type": "markdown",
      "metadata": {},
      "source": [
        "#### Gurobi on GitHub Codespace"
      ]
    },
    {
      "cell_type": "markdown",
      "metadata": {},
      "source": [
        "Type of license: Gurobi Web License (WLS)"
      ]
    },
    {
      "cell_type": "code",
      "execution_count": 6,
      "metadata": {},
      "outputs": [
        {
          "name": "stdout",
          "output_type": "stream",
          "text": [
            "\n"
          ]
        }
      ],
      "source": [
        "import os\n",
        "# Create directory for the license\n",
        "os.makedirs(\"licenses\", exist_ok=True)\n",
        "\n",
        "# Function to make sure you can use Gurobi on Colab\n",
        "def create_gurobi_license(WLSACCESSID, WLSSECRET, LICENSEID):\n",
        "    license_content = (\n",
        "        \"# Gurobi WLS license file\\n\"\n",
        "        \"# Your credentials are private and should not be shared or copied to public repositories.\\n\"\n",
        "        \"# Visit https://license.gurobi.com/manager/doc/overview for more information.\\n\"\n",
        "        f\"WLSACCESSID={WLSACCESSID}\\n\"\n",
        "        f\"WLSSECRET={WLSSECRET}\\n\"\n",
        "        f\"LICENSEID={LICENSEID}\"\n",
        "    )\n",
        "    with open(\"licenses/gurobi.lic\", \"w\") as f:\n",
        "        f.write(license_content)\n",
        "    print(\"License file created at licenses/gurobi.lic\")\n"
      ]
    },
    {
      "cell_type": "markdown",
      "metadata": {},
      "source": [
        "> :red_circle: Fill in  `WLSACCESSID`, `WLSSECRET`, `LICENSEID`, with your credentials."
      ]
    },
    {
      "cell_type": "code",
      "execution_count": null,
      "metadata": {},
      "outputs": [],
      "source": [
        "WLSACCESSID = \"\"\n",
        "WLSSECRET   = \"\"\n",
        "LICENSEID   = \"\""
      ]
    },
    {
      "cell_type": "code",
      "execution_count": null,
      "metadata": {},
      "outputs": [],
      "source": [
        "create_gurobi_license(WLSACCESSID, WLSSECRET, LICENSEID)"
      ]
    },
    {
      "cell_type": "markdown",
      "metadata": {},
      "source": [
        "To make sure Gurobi is now available and up-and-running with your Python, let us build an empty `gurobi.Model` instance."
      ]
    },
    {
      "cell_type": "code",
      "execution_count": null,
      "metadata": {},
      "outputs": [],
      "source": [
        "import gurobipy as gbp\n",
        "\n",
        "model = gbp.Model(\"test\")\n",
        "print(\"Gurobi is working!\", \"\\U0001F600\")"
      ]
    },
    {
      "cell_type": "markdown",
      "metadata": {},
      "source": [
        "**Remember!**\n",
        "\n",
        "On codespace, you need to run this in the beginning of each notebook/script you are about to use:\n",
        "\n",
        "```\n",
        "os.environ['GRB_LICENSE_FILE'] = 'licenses/gurobi.lic'\n",
        "```"
      ]
    },
    {
      "cell_type": "markdown",
      "metadata": {},
      "source": [
        "#### Gurobi localhost"
      ]
    },
    {
      "cell_type": "markdown",
      "metadata": {},
      "source": [
        "Instead of geting the WLS, go for an academic license. \n",
        "Make sure your `PATH` can *see* your `gurobi.lic` file.\n",
        "\n",
        "Like in the codespace case, make sure you have Gurobi up-and-running on your Python by building an empty model."
      ]
    },
    {
      "cell_type": "code",
      "execution_count": 8,
      "metadata": {},
      "outputs": [
        {
          "name": "stdout",
          "output_type": "stream",
          "text": [
            "Gurobi is working! 😀\n"
          ]
        }
      ],
      "source": [
        "import gurobipy as gbp\n",
        "\n",
        "model = gbp.Model(\"test\")\n",
        "print(\"Gurobi is working!\", \"\\U0001F600\")"
      ]
    },
    {
      "cell_type": "markdown",
      "metadata": {},
      "source": [
        "## Dependencies"
      ]
    },
    {
      "cell_type": "markdown",
      "metadata": {},
      "source": [
        "Once codespace is set, install requirements:"
      ]
    },
    {
      "cell_type": "code",
      "execution_count": null,
      "metadata": {},
      "outputs": [],
      "source": [
        "!pip install -r requirements.txt"
      ]
    },
    {
      "cell_type": "markdown",
      "metadata": {
        "id": "oJPbvtDIDXu9"
      },
      "source": []
    },
    {
      "cell_type": "code",
      "execution_count": null,
      "metadata": {
        "id": "hef8Oj2_DibV"
      },
      "outputs": [],
      "source": [
        "\n"
      ]
    },
    {
      "cell_type": "markdown",
      "metadata": {
        "id": "5AH8WzMupVIO"
      },
      "source": [
        "## **Install COBRApy and make sure it works**\n",
        "\n"
      ]
    },
    {
      "cell_type": "markdown",
      "metadata": {
        "id": "ketdz0TxEqar"
      },
      "source": [
        "[**COBRApy**](https://opencobra.github.io/cobrapy/) will be our main interface with metabolic models (also called **constraint based models**). We will use it heavily in the Workshop when working with metabolic models and **Python**.\n",
        "\n",
        "<span style=\"color:red;\">Again, don't use **conda** install.</span>\n",
        "\n",
        "```bash\n",
        "pip install cobra\n",
        "```\n",
        "\n",
        "write the script `test_cobra.py` and run it.\n",
        "\n",
        "\n",
        "```python\n",
        "import os\n",
        "#set the gurobi license\n",
        "os.environ['GRB_LICENSE_FILE'] = 'content/licenses/gurobi.lic'\n",
        "\n",
        "import cobra\n",
        "from cobra.io import load_model\n",
        "\n",
        "model = load_model(\"textbook\")\n",
        "\n",
        "solution = model.optimize()\n",
        "\n",
        "print(f\"flux balance analysis solution is {solution.objective_value}\")\n",
        "\n",
        "print(\"COBRApy is working\", \"\\U0001F600\")\n",
        "\n",
        "```\n"
      ]
    },
    {
      "cell_type": "markdown",
      "metadata": {
        "id": "Q6EB6wtAoFcL"
      },
      "source": [
        "```bash\n",
        "Set parameter WLSAccessID\n",
        "Set parameter WLSSecret\n",
        "Set parameter LicenseID to value 940603\n",
        "Academic license 940603 - for non-commercial use only - registered to da___@gmail.com\n",
        "flux balance analysis solution is 0.8739215069684301\n",
        "COBRApy is working 😀\n",
        "Warning: environment still referenced so free is deferred (Continue to use WLS)\n",
        "```"
      ]
    },
    {
      "cell_type": "markdown",
      "metadata": {
        "id": "vWqH5Z8Kd2ZT"
      },
      "source": [
        "### **Replicate in the Notebook**\n",
        "\n"
      ]
    },
    {
      "cell_type": "markdown",
      "metadata": {
        "id": "kLURBJJoFrPx"
      },
      "source": [
        "### Install **COBRApy**"
      ]
    },
    {
      "cell_type": "code",
      "execution_count": null,
      "metadata": {
        "colab": {
          "base_uri": "https://localhost:8080/"
        },
        "id": "R6Z_2WTBmOII",
        "outputId": "bd9bc00c-d267-4e8b-f2b7-0677e4aec836"
      },
      "outputs": [],
      "source": [
        "#install COBRApy\n",
        "!pip install cobra"
      ]
    },
    {
      "cell_type": "markdown",
      "metadata": {
        "id": "ciOG-uoReDqF"
      },
      "source": [
        "#### **Run the test_cobra script**\n"
      ]
    },
    {
      "cell_type": "markdown",
      "metadata": {
        "id": "tLwJAlcGF8sP"
      },
      "source": [
        "The environment variables set above are preserverd in the Notebook."
      ]
    },
    {
      "cell_type": "code",
      "execution_count": 6,
      "metadata": {
        "colab": {
          "base_uri": "https://localhost:8080/"
        },
        "id": "xnKr-EgBN6Eq",
        "outputId": "c5865620-caff-4126-f08b-1cfa32be3bc0"
      },
      "outputs": [
        {
          "name": "stdout",
          "output_type": "stream",
          "text": [
            "flux balance analysis solution is 0.8739215069684305\n",
            "COBRApy is working 😀\n"
          ]
        }
      ],
      "source": [
        "import cobra\n",
        "from cobra.io import load_model\n",
        "\n",
        "model = load_model(\"textbook\")\n",
        "\n",
        "solution = model.optimize()\n",
        "\n",
        "print(f\"flux balance analysis solution is {solution.objective_value}\")\n",
        "\n",
        "print(\"COBRApy is working\", \"\\U0001F600\")"
      ]
    },
    {
      "cell_type": "markdown",
      "metadata": {
        "id": "4TwbSOMIfeXa"
      },
      "source": [
        "Make sure the solver being used is **Gurobi**"
      ]
    },
    {
      "cell_type": "code",
      "execution_count": 7,
      "metadata": {
        "colab": {
          "base_uri": "https://localhost:8080/"
        },
        "id": "WdgjvFcRft8Y",
        "outputId": "df77ab78-9af0-4344-d7d0-73df13152bb5"
      },
      "outputs": [
        {
          "data": {
            "text/plain": [
              "<optlang.gurobi_interface.Model at 0x7876fe58e890>"
            ]
          },
          "execution_count": 7,
          "metadata": {},
          "output_type": "execute_result"
        }
      ],
      "source": [
        "model.solver"
      ]
    },
    {
      "cell_type": "markdown",
      "metadata": {
        "id": "kjHmU6YrfwfN"
      },
      "source": [
        "### **Install DNNGIOR and make sure it works**"
      ]
    },
    {
      "cell_type": "markdown",
      "metadata": {
        "id": "-JMURie7PQnR"
      },
      "source": [
        "[DNNGIOR](https://www.cell.com/iscience/fulltext/S2589-0042(24)02574-4?uuid=uuid%3A5aee8e08-a32d-474f-a439-50399333f7d4) will be used to gapfill our models.\n",
        "\n",
        "Due to some current incompatabilities in the package requirements the `pip install` is broken.\n",
        "\n",
        "For now:\n",
        "\n"
      ]
    },
    {
      "cell_type": "markdown",
      "metadata": {
        "id": "pnrRsgluasVe"
      },
      "source": [
        "1) Clone the Github repo:\n",
        "\n",
        "```bash\n",
        "git clone https://github.com/MGXlab/DNNGIOR.git\n",
        "```\n",
        "\n",
        "2) cd into the repo\n",
        "\n",
        "```bash\n",
        "cd DNNGIOR\n",
        "```\n",
        "\n",
        "3) install the package with a broken dependency\n",
        "\n",
        "```bash\n",
        "pip install python-libsbml==5.20.0\n",
        "```\n",
        "4) install DNNGIOR without dependencies\n",
        "\n",
        "```bash\n",
        "pip install . --no-deps\n",
        "```\n",
        "\n",
        "5) install the other dependencies\n",
        "\n",
        "```bash\n",
        "pip install -r <(pip show dnngior | grep Requires | cut -d ' ' -f2- | tr ', ' '\\n' | grep -v 'python-libsbml')\n",
        "```"
      ]
    },
    {
      "cell_type": "markdown",
      "metadata": {
        "id": "OqZZHJyWb8gG"
      },
      "source": [
        "### **Test DNNGIOR**"
      ]
    },
    {
      "cell_type": "markdown",
      "metadata": {
        "id": "gUrJ07bccCzS"
      },
      "source": [
        "Write the script `test_dnngior.py` and run it. There will be an oportunity to understand what the script is doing during the workshop. For now, just copy, paste, save, and run.\n",
        "\n",
        "```python\n",
        "import os, sys\n",
        "# set the gurobi license\n",
        "os.environ['GRB_LICENSE_FILE'] = 'content/licenses/gurobi.lic'\n",
        "\n",
        "import cobra\n",
        "\n",
        "import dnngior\n",
        "\n",
        "# set to the location of the DNNGIOR repository\n",
        "models_path = \"DNNGIOR/docs/models\"\n",
        "path_to_blautia_model = os.path.join(models_path, \"bh_ungapfilled_model.sbml\")\n",
        "\n",
        "draft_reconstruction = cobra.io.read_sbml_model(path_to_blautia_model)\n",
        "\n",
        "print(f\"The solution of the draft reconstruction is:\\n\\n{draft_reconstruction.optimize()}\",  \"\\U0001F63F\", \"\\n\")\n",
        "\n",
        "gapfill = dnngior.Gapfill(draftModel = path_to_blautia_model,\n",
        "                                          medium = None,\n",
        "                                          objectiveName = 'bio1')\n",
        "\n",
        "print(\"Number of reactions added:\", len(gapfill.added_reactions))\n",
        "print(\"~~\")\n",
        "for reaction in gapfill.added_reactions:\n",
        "    print(f\"Name: {gapfill.gapfilledModel.reactions.get_by_id(reaction).name}\", \"\\n\", f\"Equation: {gapfill.gapfilledModel.reactions.get_by_id(reaction).build_reaction_string(use_metabolite_names=True)}\")\n",
        "\n",
        "\n",
        "gf_model = gapfill.gapfilledModel.copy()\n",
        "\n",
        "print(f\"The solution of the gapfilled reconstruction is:\\n\\n{gf_model.optimize()}\",  \"\\U0001F63A\", \"\\n\")\n",
        "```"
      ]
    },
    {
      "cell_type": "markdown",
      "metadata": {
        "id": "HO-UDD2nkJ2f"
      },
      "source": [
        "In the long output it prints look for:\n",
        "\n",
        "The solution of the gapfilled reconstruction is:\n",
        "\n",
        "<Solution 154.228 at 0x189db678b10> 😺\n",
        "\n",
        "DNNGIOR is working and you just gapfilled a model."
      ]
    },
    {
      "cell_type": "markdown",
      "metadata": {
        "id": "w_614MQSkwnc"
      },
      "source": [
        "# **Replicate in the Notebook**"
      ]
    },
    {
      "cell_type": "markdown",
      "metadata": {
        "id": "X0q9LWcPk_jU"
      },
      "source": [
        "### **clone the repo**"
      ]
    },
    {
      "cell_type": "code",
      "execution_count": 8,
      "metadata": {
        "colab": {
          "base_uri": "https://localhost:8080/"
        },
        "id": "-XBIF8HHI6WB",
        "outputId": "9efb0ad0-d566-49d4-8a3c-291a1e82009c"
      },
      "outputs": [
        {
          "name": "stdout",
          "output_type": "stream",
          "text": [
            "Cloning into 'DNNGIOR'...\n",
            "remote: Enumerating objects: 1309, done.\u001b[K\n",
            "remote: Counting objects: 100% (167/167), done.\u001b[K\n",
            "remote: Compressing objects: 100% (40/40), done.\u001b[K\n",
            "remote: Total 1309 (delta 136), reused 138 (delta 127), pack-reused 1142 (from 1)\u001b[K\n",
            "Receiving objects: 100% (1309/1309), 200.64 MiB | 20.87 MiB/s, done.\n",
            "Resolving deltas: 100% (658/658), done.\n",
            "Updating files: 100% (160/160), done.\n",
            "/content/DNNGIOR\n"
          ]
        }
      ],
      "source": [
        "!git clone https://github.com/MGXlab/DNNGIOR.git\n",
        "%cd DNNGIOR"
      ]
    },
    {
      "cell_type": "markdown",
      "metadata": {
        "id": "U80lwqUVlMbk"
      },
      "source": [
        "### **Account for the broken dependecy** ☹"
      ]
    },
    {
      "cell_type": "code",
      "execution_count": null,
      "metadata": {
        "colab": {
          "base_uri": "https://localhost:8080/"
        },
        "id": "VyAQq1e5Kkd-",
        "outputId": "1b5e4388-c072-4af7-a049-9c9897508a4b"
      },
      "outputs": [],
      "source": [
        "#!pip install python-libsbml==5.20.0\n",
        "!pip install . --no-deps\n",
        "!pip install -r <(pip show dnngior | grep Requires | cut -d ' ' -f2- | tr ', ' '\\n' | grep -v 'python-libsbml')"
      ]
    },
    {
      "cell_type": "markdown",
      "metadata": {
        "id": "PomYOJKsltW1"
      },
      "source": [
        "### **Test it**"
      ]
    },
    {
      "cell_type": "code",
      "execution_count": null,
      "metadata": {
        "colab": {
          "base_uri": "https://localhost:8080/"
        },
        "id": "gFwZbU1TKIUa",
        "outputId": "779a3661-4cb6-43b5-d85d-a96be59c2a24"
      },
      "outputs": [],
      "source": [
        "import dnngior\n",
        "models_path = \"/content/DNNGIOR/docs/models\"\n",
        "path_to_blautia_model = os.path.join(models_path, \"bh_ungapfilled_model.sbml\")\n",
        "\n",
        "draft_reconstruction = cobra.io.read_sbml_model(path_to_blautia_model)\n",
        "\n",
        "print(f\"The solution of the draft reconstruction is:\\n\\n{draft_reconstruction.optimize()}\",  \"\\U0001F63F\", \"\\n\")\n",
        "\n",
        "gapfill = dnngior.Gapfill(draftModel = path_to_blautia_model,\n",
        "                                          medium = None,\n",
        "                                          objectiveName = 'bio1')\n",
        "\n",
        "print(\"Number of reactions added:\", len(gapfill.added_reactions))\n",
        "print(\"~~\")\n",
        "for reaction in gapfill.added_reactions:\n",
        "    print(f\"Name: {gapfill.gapfilledModel.reactions.get_by_id(reaction).name}\", \"\\n\", f\"Equation: {gapfill.gapfilledModel.reactions.get_by_id(reaction).build_reaction_string(use_metabolite_names=True)}\")\n",
        "\n",
        "\n",
        "gf_model = gapfill.gapfilledModel.copy()\n",
        "\n",
        "print(f\"The solution of the gapfilled reconstruction is:\\n\\n{gf_model.optimize()}\",  \"\\U0001F63A\", \"\\n\")"
      ]
    },
    {
      "cell_type": "markdown",
      "metadata": {
        "id": "EqmLSVwVmChQ"
      },
      "source": [
        "**Congratulations! You are all set for the workshop**"
      ]
    }
  ],
  "metadata": {
    "colab": {
      "authorship_tag": "ABX9TyMow5z/mekV2cUjEnUkTSgZ",
      "include_colab_link": true,
      "provenance": []
    },
    "kernelspec": {
      "display_name": "Python 3",
      "name": "python3"
    },
    "language_info": {
      "codemirror_mode": {
        "name": "ipython",
        "version": 3
      },
      "file_extension": ".py",
      "mimetype": "text/x-python",
      "name": "python",
      "nbconvert_exporter": "python",
      "pygments_lexer": "ipython3",
      "version": "3.11.11"
    }
  },
  "nbformat": 4,
  "nbformat_minor": 0
}
