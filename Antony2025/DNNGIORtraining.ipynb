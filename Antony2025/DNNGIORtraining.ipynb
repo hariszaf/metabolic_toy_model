{
  "cells": [
    {
      "cell_type": "markdown",
      "metadata": {
        "id": "view-in-github",
        "colab_type": "text"
      },
      "source": [
        "<a href=\"https://colab.research.google.com/github/hariszaf/metabolic_toy_model/blob/main/Antony2025/DNNGIORtraining.ipynb\" target=\"_parent\"><img src=\"https://colab.research.google.com/assets/colab-badge.svg\" alt=\"Open In Colab\"/></a>"
      ]
    },
    {
      "cell_type": "markdown",
      "metadata": {
        "id": "T8LbxwOozGpm"
      },
      "source": [
        "# **Use DNNGIOR On Your Own Training Set**"
      ]
    },
    {
      "cell_type": "markdown",
      "metadata": {
        "id": "ENxQLuszRO-G"
      },
      "source": [
        "Installing Tensorflow"
      ]
    },
    {
      "cell_type": "code",
      "source": [
        "!pip install tensorflow==2.15.1"
      ],
      "metadata": {
        "id": "Qnkd-lBAencb",
        "outputId": "e93c2e73-751d-49b3-e741-11555cf9f48b",
        "colab": {
          "base_uri": "https://localhost:8080/"
        }
      },
      "execution_count": null,
      "outputs": [
        {
          "output_type": "stream",
          "name": "stdout",
          "text": [
            "Collecting tensorflow==2.15.1\n",
            "  Downloading tensorflow-2.15.1-cp311-cp311-manylinux_2_17_x86_64.manylinux2014_x86_64.whl.metadata (4.2 kB)\n",
            "Requirement already satisfied: absl-py>=1.0.0 in /usr/local/lib/python3.11/dist-packages (from tensorflow==2.15.1) (1.4.0)\n",
            "Requirement already satisfied: astunparse>=1.6.0 in /usr/local/lib/python3.11/dist-packages (from tensorflow==2.15.1) (1.6.3)\n",
            "Requirement already satisfied: flatbuffers>=23.5.26 in /usr/local/lib/python3.11/dist-packages (from tensorflow==2.15.1) (25.2.10)\n",
            "Requirement already satisfied: gast!=0.5.0,!=0.5.1,!=0.5.2,>=0.2.1 in /usr/local/lib/python3.11/dist-packages (from tensorflow==2.15.1) (0.6.0)\n",
            "Requirement already satisfied: google-pasta>=0.1.1 in /usr/local/lib/python3.11/dist-packages (from tensorflow==2.15.1) (0.2.0)\n",
            "Requirement already satisfied: h5py>=2.9.0 in /usr/local/lib/python3.11/dist-packages (from tensorflow==2.15.1) (3.12.1)\n",
            "Requirement already satisfied: libclang>=13.0.0 in /usr/local/lib/python3.11/dist-packages (from tensorflow==2.15.1) (18.1.1)\n",
            "Collecting ml-dtypes~=0.3.1 (from tensorflow==2.15.1)\n",
            "  Downloading ml_dtypes-0.3.2-cp311-cp311-manylinux_2_17_x86_64.manylinux2014_x86_64.whl.metadata (20 kB)\n",
            "Requirement already satisfied: numpy<2.0.0,>=1.23.5 in /usr/local/lib/python3.11/dist-packages (from tensorflow==2.15.1) (1.26.4)\n",
            "Requirement already satisfied: opt-einsum>=2.3.2 in /usr/local/lib/python3.11/dist-packages (from tensorflow==2.15.1) (3.4.0)\n",
            "Requirement already satisfied: packaging in /usr/local/lib/python3.11/dist-packages (from tensorflow==2.15.1) (24.2)\n",
            "Requirement already satisfied: protobuf!=4.21.0,!=4.21.1,!=4.21.2,!=4.21.3,!=4.21.4,!=4.21.5,<5.0.0dev,>=3.20.3 in /usr/local/lib/python3.11/dist-packages (from tensorflow==2.15.1) (4.25.6)\n",
            "Requirement already satisfied: setuptools in /usr/local/lib/python3.11/dist-packages (from tensorflow==2.15.1) (75.1.0)\n",
            "Requirement already satisfied: six>=1.12.0 in /usr/local/lib/python3.11/dist-packages (from tensorflow==2.15.1) (1.17.0)\n",
            "Requirement already satisfied: termcolor>=1.1.0 in /usr/local/lib/python3.11/dist-packages (from tensorflow==2.15.1) (2.5.0)\n",
            "Requirement already satisfied: typing-extensions>=3.6.6 in /usr/local/lib/python3.11/dist-packages (from tensorflow==2.15.1) (4.12.2)\n",
            "Collecting wrapt<1.15,>=1.11.0 (from tensorflow==2.15.1)\n",
            "  Downloading wrapt-1.14.1-cp311-cp311-manylinux_2_5_x86_64.manylinux1_x86_64.manylinux_2_17_x86_64.manylinux2014_x86_64.whl.metadata (6.7 kB)\n",
            "Requirement already satisfied: tensorflow-io-gcs-filesystem>=0.23.1 in /usr/local/lib/python3.11/dist-packages (from tensorflow==2.15.1) (0.37.1)\n",
            "Requirement already satisfied: grpcio<2.0,>=1.24.3 in /usr/local/lib/python3.11/dist-packages (from tensorflow==2.15.1) (1.70.0)\n",
            "Collecting tensorboard<2.16,>=2.15 (from tensorflow==2.15.1)\n",
            "  Downloading tensorboard-2.15.2-py3-none-any.whl.metadata (1.7 kB)\n",
            "Collecting tensorflow-estimator<2.16,>=2.15.0 (from tensorflow==2.15.1)\n",
            "  Downloading tensorflow_estimator-2.15.0-py2.py3-none-any.whl.metadata (1.3 kB)\n",
            "Collecting keras<2.16,>=2.15.0 (from tensorflow==2.15.1)\n",
            "  Downloading keras-2.15.0-py3-none-any.whl.metadata (2.4 kB)\n",
            "Requirement already satisfied: wheel<1.0,>=0.23.0 in /usr/local/lib/python3.11/dist-packages (from astunparse>=1.6.0->tensorflow==2.15.1) (0.45.1)\n",
            "Requirement already satisfied: google-auth<3,>=1.6.3 in /usr/local/lib/python3.11/dist-packages (from tensorboard<2.16,>=2.15->tensorflow==2.15.1) (2.38.0)\n",
            "Requirement already satisfied: google-auth-oauthlib<2,>=0.5 in /usr/local/lib/python3.11/dist-packages (from tensorboard<2.16,>=2.15->tensorflow==2.15.1) (1.2.1)\n",
            "Requirement already satisfied: markdown>=2.6.8 in /usr/local/lib/python3.11/dist-packages (from tensorboard<2.16,>=2.15->tensorflow==2.15.1) (3.7)\n",
            "Requirement already satisfied: requests<3,>=2.21.0 in /usr/local/lib/python3.11/dist-packages (from tensorboard<2.16,>=2.15->tensorflow==2.15.1) (2.32.3)\n",
            "Requirement already satisfied: tensorboard-data-server<0.8.0,>=0.7.0 in /usr/local/lib/python3.11/dist-packages (from tensorboard<2.16,>=2.15->tensorflow==2.15.1) (0.7.2)\n",
            "Requirement already satisfied: werkzeug>=1.0.1 in /usr/local/lib/python3.11/dist-packages (from tensorboard<2.16,>=2.15->tensorflow==2.15.1) (3.1.3)\n",
            "Requirement already satisfied: cachetools<6.0,>=2.0.0 in /usr/local/lib/python3.11/dist-packages (from google-auth<3,>=1.6.3->tensorboard<2.16,>=2.15->tensorflow==2.15.1) (5.5.2)\n",
            "Requirement already satisfied: pyasn1-modules>=0.2.1 in /usr/local/lib/python3.11/dist-packages (from google-auth<3,>=1.6.3->tensorboard<2.16,>=2.15->tensorflow==2.15.1) (0.4.1)\n",
            "Requirement already satisfied: rsa<5,>=3.1.4 in /usr/local/lib/python3.11/dist-packages (from google-auth<3,>=1.6.3->tensorboard<2.16,>=2.15->tensorflow==2.15.1) (4.9)\n",
            "Requirement already satisfied: requests-oauthlib>=0.7.0 in /usr/local/lib/python3.11/dist-packages (from google-auth-oauthlib<2,>=0.5->tensorboard<2.16,>=2.15->tensorflow==2.15.1) (2.0.0)\n",
            "Requirement already satisfied: charset-normalizer<4,>=2 in /usr/local/lib/python3.11/dist-packages (from requests<3,>=2.21.0->tensorboard<2.16,>=2.15->tensorflow==2.15.1) (3.4.1)\n",
            "Requirement already satisfied: idna<4,>=2.5 in /usr/local/lib/python3.11/dist-packages (from requests<3,>=2.21.0->tensorboard<2.16,>=2.15->tensorflow==2.15.1) (3.10)\n",
            "Requirement already satisfied: urllib3<3,>=1.21.1 in /usr/local/lib/python3.11/dist-packages (from requests<3,>=2.21.0->tensorboard<2.16,>=2.15->tensorflow==2.15.1) (2.3.0)\n",
            "Requirement already satisfied: certifi>=2017.4.17 in /usr/local/lib/python3.11/dist-packages (from requests<3,>=2.21.0->tensorboard<2.16,>=2.15->tensorflow==2.15.1) (2025.1.31)\n",
            "Requirement already satisfied: MarkupSafe>=2.1.1 in /usr/local/lib/python3.11/dist-packages (from werkzeug>=1.0.1->tensorboard<2.16,>=2.15->tensorflow==2.15.1) (3.0.2)\n",
            "Requirement already satisfied: pyasn1<0.7.0,>=0.4.6 in /usr/local/lib/python3.11/dist-packages (from pyasn1-modules>=0.2.1->google-auth<3,>=1.6.3->tensorboard<2.16,>=2.15->tensorflow==2.15.1) (0.6.1)\n",
            "Requirement already satisfied: oauthlib>=3.0.0 in /usr/local/lib/python3.11/dist-packages (from requests-oauthlib>=0.7.0->google-auth-oauthlib<2,>=0.5->tensorboard<2.16,>=2.15->tensorflow==2.15.1) (3.2.2)\n",
            "Downloading tensorflow-2.15.1-cp311-cp311-manylinux_2_17_x86_64.manylinux2014_x86_64.whl (475.3 MB)\n",
            "\u001b[2K   \u001b[90m━━━━━━━━━━━━━━━━━━━━━━━━━━━━━━━━━━━━━━━━\u001b[0m \u001b[32m475.3/475.3 MB\u001b[0m \u001b[31m3.4 MB/s\u001b[0m eta \u001b[36m0:00:00\u001b[0m\n",
            "\u001b[?25hDownloading keras-2.15.0-py3-none-any.whl (1.7 MB)\n",
            "\u001b[2K   \u001b[90m━━━━━━━━━━━━━━━━━━━━━━━━━━━━━━━━━━━━━━━━\u001b[0m \u001b[32m1.7/1.7 MB\u001b[0m \u001b[31m58.3 MB/s\u001b[0m eta \u001b[36m0:00:00\u001b[0m\n",
            "\u001b[?25hDownloading ml_dtypes-0.3.2-cp311-cp311-manylinux_2_17_x86_64.manylinux2014_x86_64.whl (2.2 MB)\n",
            "\u001b[2K   \u001b[90m━━━━━━━━━━━━━━━━━━━━━━━━━━━━━━━━━━━━━━━━\u001b[0m \u001b[32m2.2/2.2 MB\u001b[0m \u001b[31m68.3 MB/s\u001b[0m eta \u001b[36m0:00:00\u001b[0m\n",
            "\u001b[?25hDownloading tensorboard-2.15.2-py3-none-any.whl (5.5 MB)\n",
            "\u001b[2K   \u001b[90m━━━━━━━━━━━━━━━━━━━━━━━━━━━━━━━━━━━━━━━━\u001b[0m \u001b[32m5.5/5.5 MB\u001b[0m \u001b[31m87.1 MB/s\u001b[0m eta \u001b[36m0:00:00\u001b[0m\n",
            "\u001b[?25hDownloading tensorflow_estimator-2.15.0-py2.py3-none-any.whl (441 kB)\n",
            "\u001b[2K   \u001b[90m━━━━━━━━━━━━━━━━━━━━━━━━━━━━━━━━━━━━━━━━\u001b[0m \u001b[32m442.0/442.0 kB\u001b[0m \u001b[31m27.6 MB/s\u001b[0m eta \u001b[36m0:00:00\u001b[0m\n",
            "\u001b[?25hDownloading wrapt-1.14.1-cp311-cp311-manylinux_2_5_x86_64.manylinux1_x86_64.manylinux_2_17_x86_64.manylinux2014_x86_64.whl (78 kB)\n",
            "\u001b[2K   \u001b[90m━━━━━━━━━━━━━━━━━━━━━━━━━━━━━━━━━━━━━━━━\u001b[0m \u001b[32m78.4/78.4 kB\u001b[0m \u001b[31m5.4 MB/s\u001b[0m eta \u001b[36m0:00:00\u001b[0m\n",
            "\u001b[?25hInstalling collected packages: wrapt, tensorflow-estimator, ml-dtypes, keras, tensorboard, tensorflow\n",
            "  Attempting uninstall: wrapt\n",
            "    Found existing installation: wrapt 1.17.2\n",
            "    Uninstalling wrapt-1.17.2:\n",
            "      Successfully uninstalled wrapt-1.17.2\n",
            "  Attempting uninstall: ml-dtypes\n",
            "    Found existing installation: ml-dtypes 0.4.1\n",
            "    Uninstalling ml-dtypes-0.4.1:\n",
            "      Successfully uninstalled ml-dtypes-0.4.1\n",
            "  Attempting uninstall: keras\n",
            "    Found existing installation: keras 3.8.0\n",
            "    Uninstalling keras-3.8.0:\n",
            "      Successfully uninstalled keras-3.8.0\n",
            "  Attempting uninstall: tensorboard\n",
            "    Found existing installation: tensorboard 2.18.0\n",
            "    Uninstalling tensorboard-2.18.0:\n",
            "      Successfully uninstalled tensorboard-2.18.0\n",
            "  Attempting uninstall: tensorflow\n",
            "    Found existing installation: tensorflow 2.18.0\n",
            "    Uninstalling tensorflow-2.18.0:\n",
            "      Successfully uninstalled tensorflow-2.18.0\n",
            "\u001b[31mERROR: pip's dependency resolver does not currently take into account all the packages that are installed. This behaviour is the source of the following dependency conflicts.\n",
            "tf-keras 2.18.0 requires tensorflow<2.19,>=2.18, but you have tensorflow 2.15.1 which is incompatible.\n",
            "tensorflow-text 2.18.1 requires tensorflow<2.19,>=2.18.0, but you have tensorflow 2.15.1 which is incompatible.\u001b[0m\u001b[31m\n",
            "\u001b[0mSuccessfully installed keras-2.15.0 ml-dtypes-0.3.2 tensorboard-2.15.2 tensorflow-2.15.1 tensorflow-estimator-2.15.0 wrapt-1.14.1\n"
          ]
        }
      ]
    },
    {
      "cell_type": "code",
      "source": [
        "from google.colab import drive\n",
        "drive.mount('/content/drive')"
      ],
      "metadata": {
        "id": "p85zkeBCSSqU",
        "outputId": "0055955a-a355-4425-a154-eb87f2abe741",
        "colab": {
          "base_uri": "https://localhost:8080/"
        }
      },
      "execution_count": 2,
      "outputs": [
        {
          "output_type": "stream",
          "name": "stdout",
          "text": [
            "Mounted at /content/drive\n"
          ]
        }
      ]
    },
    {
      "cell_type": "code",
      "source": [
        "cd /content/drive/MyDrive/Antony/"
      ],
      "metadata": {
        "id": "9DFf-UOtgjyp",
        "outputId": "e9ee3a4c-8e20-40ce-940c-9cb731859d98",
        "colab": {
          "base_uri": "https://localhost:8080/"
        }
      },
      "execution_count": null,
      "outputs": [
        {
          "output_type": "stream",
          "name": "stdout",
          "text": [
            "/content/drive/MyDrive/Antony\n"
          ]
        }
      ]
    },
    {
      "cell_type": "code",
      "execution_count": null,
      "metadata": {
        "id": "S9mWE7fWRO-I",
        "outputId": "7df2a194-f976-44f3-dcc7-fdd12f58d427",
        "colab": {
          "base_uri": "https://localhost:8080/"
        }
      },
      "outputs": [
        {
          "output_type": "stream",
          "name": "stdout",
          "text": [
            "Collecting cobra\n",
            "  Downloading cobra-0.29.1-py2.py3-none-any.whl.metadata (9.3 kB)\n",
            "Collecting appdirs~=1.4 (from cobra)\n",
            "  Downloading appdirs-1.4.4-py2.py3-none-any.whl.metadata (9.0 kB)\n",
            "Collecting depinfo~=2.2 (from cobra)\n",
            "  Downloading depinfo-2.2.0-py3-none-any.whl.metadata (3.8 kB)\n",
            "Collecting diskcache~=5.0 (from cobra)\n",
            "  Downloading diskcache-5.6.3-py3-none-any.whl.metadata (20 kB)\n",
            "Requirement already satisfied: future in /usr/local/lib/python3.11/dist-packages (from cobra) (1.0.0)\n",
            "Requirement already satisfied: httpx~=0.24 in /usr/local/lib/python3.11/dist-packages (from cobra) (0.28.1)\n",
            "Requirement already satisfied: importlib-resources in /usr/local/lib/python3.11/dist-packages (from cobra) (6.5.2)\n",
            "Requirement already satisfied: numpy>=1.13 in /usr/local/lib/python3.11/dist-packages (from cobra) (1.26.4)\n",
            "Collecting optlang~=1.8 (from cobra)\n",
            "  Downloading optlang-1.8.3-py2.py3-none-any.whl.metadata (8.2 kB)\n",
            "Requirement already satisfied: pandas<3.0,>=1.0 in /usr/local/lib/python3.11/dist-packages (from cobra) (2.2.2)\n",
            "Requirement already satisfied: pydantic>=1.6 in /usr/local/lib/python3.11/dist-packages (from cobra) (2.10.6)\n",
            "Collecting python-libsbml~=5.19 (from cobra)\n",
            "  Downloading python_libsbml-5.20.4-cp311-cp311-manylinux_2_17_x86_64.manylinux2014_x86_64.whl.metadata (532 bytes)\n",
            "Requirement already satisfied: rich>=8.0 in /usr/local/lib/python3.11/dist-packages (from cobra) (13.9.4)\n",
            "Collecting ruamel.yaml~=0.16 (from cobra)\n",
            "  Downloading ruamel.yaml-0.18.10-py3-none-any.whl.metadata (23 kB)\n",
            "Collecting swiglpk (from cobra)\n",
            "  Downloading swiglpk-5.0.12-cp311-cp311-manylinux_2_17_x86_64.manylinux2014_x86_64.whl.metadata (5.5 kB)\n",
            "Requirement already satisfied: anyio in /usr/local/lib/python3.11/dist-packages (from httpx~=0.24->cobra) (3.7.1)\n",
            "Requirement already satisfied: certifi in /usr/local/lib/python3.11/dist-packages (from httpx~=0.24->cobra) (2025.1.31)\n",
            "Requirement already satisfied: httpcore==1.* in /usr/local/lib/python3.11/dist-packages (from httpx~=0.24->cobra) (1.0.7)\n",
            "Requirement already satisfied: idna in /usr/local/lib/python3.11/dist-packages (from httpx~=0.24->cobra) (3.10)\n",
            "Requirement already satisfied: h11<0.15,>=0.13 in /usr/local/lib/python3.11/dist-packages (from httpcore==1.*->httpx~=0.24->cobra) (0.14.0)\n",
            "Requirement already satisfied: sympy>=1.12.0 in /usr/local/lib/python3.11/dist-packages (from optlang~=1.8->cobra) (1.13.1)\n",
            "Requirement already satisfied: python-dateutil>=2.8.2 in /usr/local/lib/python3.11/dist-packages (from pandas<3.0,>=1.0->cobra) (2.8.2)\n",
            "Requirement already satisfied: pytz>=2020.1 in /usr/local/lib/python3.11/dist-packages (from pandas<3.0,>=1.0->cobra) (2025.1)\n",
            "Requirement already satisfied: tzdata>=2022.7 in /usr/local/lib/python3.11/dist-packages (from pandas<3.0,>=1.0->cobra) (2025.1)\n",
            "Requirement already satisfied: annotated-types>=0.6.0 in /usr/local/lib/python3.11/dist-packages (from pydantic>=1.6->cobra) (0.7.0)\n",
            "Requirement already satisfied: pydantic-core==2.27.2 in /usr/local/lib/python3.11/dist-packages (from pydantic>=1.6->cobra) (2.27.2)\n",
            "Requirement already satisfied: typing-extensions>=4.12.2 in /usr/local/lib/python3.11/dist-packages (from pydantic>=1.6->cobra) (4.12.2)\n",
            "Requirement already satisfied: markdown-it-py>=2.2.0 in /usr/local/lib/python3.11/dist-packages (from rich>=8.0->cobra) (3.0.0)\n",
            "Requirement already satisfied: pygments<3.0.0,>=2.13.0 in /usr/local/lib/python3.11/dist-packages (from rich>=8.0->cobra) (2.18.0)\n",
            "Collecting ruamel.yaml.clib>=0.2.7 (from ruamel.yaml~=0.16->cobra)\n",
            "  Downloading ruamel.yaml.clib-0.2.12-cp311-cp311-manylinux_2_17_x86_64.manylinux2014_x86_64.whl.metadata (2.7 kB)\n",
            "Requirement already satisfied: mdurl~=0.1 in /usr/local/lib/python3.11/dist-packages (from markdown-it-py>=2.2.0->rich>=8.0->cobra) (0.1.2)\n",
            "Requirement already satisfied: six>=1.5 in /usr/local/lib/python3.11/dist-packages (from python-dateutil>=2.8.2->pandas<3.0,>=1.0->cobra) (1.17.0)\n",
            "Requirement already satisfied: mpmath<1.4,>=1.1.0 in /usr/local/lib/python3.11/dist-packages (from sympy>=1.12.0->optlang~=1.8->cobra) (1.3.0)\n",
            "Requirement already satisfied: sniffio>=1.1 in /usr/local/lib/python3.11/dist-packages (from anyio->httpx~=0.24->cobra) (1.3.1)\n",
            "Downloading cobra-0.29.1-py2.py3-none-any.whl (1.2 MB)\n",
            "\u001b[2K   \u001b[90m━━━━━━━━━━━━━━━━━━━━━━━━━━━━━━━━━━━━━━━━\u001b[0m \u001b[32m1.2/1.2 MB\u001b[0m \u001b[31m44.4 MB/s\u001b[0m eta \u001b[36m0:00:00\u001b[0m\n",
            "\u001b[?25hDownloading appdirs-1.4.4-py2.py3-none-any.whl (9.6 kB)\n",
            "Downloading depinfo-2.2.0-py3-none-any.whl (24 kB)\n",
            "Downloading diskcache-5.6.3-py3-none-any.whl (45 kB)\n",
            "\u001b[2K   \u001b[90m━━━━━━━━━━━━━━━━━━━━━━━━━━━━━━━━━━━━━━━━\u001b[0m \u001b[32m45.5/45.5 kB\u001b[0m \u001b[31m3.7 MB/s\u001b[0m eta \u001b[36m0:00:00\u001b[0m\n",
            "\u001b[?25hDownloading optlang-1.8.3-py2.py3-none-any.whl (141 kB)\n",
            "\u001b[2K   \u001b[90m━━━━━━━━━━━━━━━━━━━━━━━━━━━━━━━━━━━━━━━━\u001b[0m \u001b[32m141.8/141.8 kB\u001b[0m \u001b[31m9.4 MB/s\u001b[0m eta \u001b[36m0:00:00\u001b[0m\n",
            "\u001b[?25hDownloading python_libsbml-5.20.4-cp311-cp311-manylinux_2_17_x86_64.manylinux2014_x86_64.whl (8.0 MB)\n",
            "\u001b[2K   \u001b[90m━━━━━━━━━━━━━━━━━━━━━━━━━━━━━━━━━━━━━━━━\u001b[0m \u001b[32m8.0/8.0 MB\u001b[0m \u001b[31m78.4 MB/s\u001b[0m eta \u001b[36m0:00:00\u001b[0m\n",
            "\u001b[?25hDownloading ruamel.yaml-0.18.10-py3-none-any.whl (117 kB)\n",
            "\u001b[2K   \u001b[90m━━━━━━━━━━━━━━━━━━━━━━━━━━━━━━━━━━━━━━━━\u001b[0m \u001b[32m117.7/117.7 kB\u001b[0m \u001b[31m8.8 MB/s\u001b[0m eta \u001b[36m0:00:00\u001b[0m\n",
            "\u001b[?25hDownloading swiglpk-5.0.12-cp311-cp311-manylinux_2_17_x86_64.manylinux2014_x86_64.whl (2.3 MB)\n",
            "\u001b[2K   \u001b[90m━━━━━━━━━━━━━━━━━━━━━━━━━━━━━━━━━━━━━━━━\u001b[0m \u001b[32m2.3/2.3 MB\u001b[0m \u001b[31m64.3 MB/s\u001b[0m eta \u001b[36m0:00:00\u001b[0m\n",
            "\u001b[?25hDownloading ruamel.yaml.clib-0.2.12-cp311-cp311-manylinux_2_17_x86_64.manylinux2014_x86_64.whl (739 kB)\n",
            "\u001b[2K   \u001b[90m━━━━━━━━━━━━━━━━━━━━━━━━━━━━━━━━━━━━━━━━\u001b[0m \u001b[32m739.1/739.1 kB\u001b[0m \u001b[31m35.4 MB/s\u001b[0m eta \u001b[36m0:00:00\u001b[0m\n",
            "\u001b[?25hInstalling collected packages: swiglpk, python-libsbml, appdirs, ruamel.yaml.clib, diskcache, depinfo, ruamel.yaml, optlang, cobra\n",
            "Successfully installed appdirs-1.4.4 cobra-0.29.1 depinfo-2.2.0 diskcache-5.6.3 optlang-1.8.3 python-libsbml-5.20.4 ruamel.yaml-0.18.10 ruamel.yaml.clib-0.2.12 swiglpk-5.0.12\n",
            "Collecting dnngior\n",
            "  Downloading dnngior-0.0.5-py3-none-any.whl.metadata (2.8 kB)\n",
            "Downloading dnngior-0.0.5-py3-none-any.whl (29.2 MB)\n",
            "\u001b[2K   \u001b[90m━━━━━━━━━━━━━━━━━━━━━━━━━━━━━━━━━━━━━━━━\u001b[0m \u001b[32m29.2/29.2 MB\u001b[0m \u001b[31m59.7 MB/s\u001b[0m eta \u001b[36m0:00:00\u001b[0m\n",
            "\u001b[?25hInstalling collected packages: dnngior\n",
            "Successfully installed dnngior-0.0.5\n",
            "Collecting gurobipy\n",
            "  Downloading gurobipy-12.0.1-cp311-cp311-manylinux2014_x86_64.manylinux_2_17_x86_64.whl.metadata (16 kB)\n",
            "Downloading gurobipy-12.0.1-cp311-cp311-manylinux2014_x86_64.manylinux_2_17_x86_64.whl (14.4 MB)\n",
            "\u001b[2K   \u001b[90m━━━━━━━━━━━━━━━━━━━━━━━━━━━━━━━━━━━━━━━━\u001b[0m \u001b[32m14.4/14.4 MB\u001b[0m \u001b[31m72.0 MB/s\u001b[0m eta \u001b[36m0:00:00\u001b[0m\n",
            "\u001b[?25hInstalling collected packages: gurobipy\n",
            "\u001b[31mERROR: pip's dependency resolver does not currently take into account all the packages that are installed. This behaviour is the source of the following dependency conflicts.\n",
            "dnngior 0.0.5 requires cobra<=0.23.0, but you have cobra 0.29.1 which is incompatible.\n",
            "dnngior 0.0.5 requires gurobipy<11.0.0,>=10.0.1, but you have gurobipy 12.0.1 which is incompatible.\u001b[0m\u001b[31m\n",
            "\u001b[0mSuccessfully installed gurobipy-12.0.1\n"
          ]
        }
      ],
      "source": [
        "!pip install cobra\n",
        "!pip install dnngior --no-deps\n",
        "!pip install gurobipy"
      ]
    },
    {
      "cell_type": "markdown",
      "metadata": {
        "id": "cxlLifb0RO-J"
      },
      "source": [
        "Load dependecies"
      ]
    },
    {
      "cell_type": "code",
      "execution_count": null,
      "metadata": {
        "id": "sNT_SUqwRO-J",
        "outputId": "a419f5db-9057-495e-e27c-3bf829efc07d",
        "colab": {
          "base_uri": "https://localhost:8080/"
        }
      },
      "outputs": [
        {
          "output_type": "stream",
          "name": "stdout",
          "text": [
            "Restricted license - for non-production use only - expires 2026-11-23\n",
            "WARNING: To enable the NN_Trainer script, you need to install tensorflow <https://www.tensorflow.org/install>\n",
            "The rest of dnngior features can be used without it.\n"
          ]
        }
      ],
      "source": [
        "import numpy as np\n",
        "import pandas as pd\n",
        "import os\n",
        "import sys\n",
        "from pathlib import Path\n",
        "from dnngior import NN_Trainer\n",
        "from dnngior import NN_Predictor\n",
        "from dnngior import Gapfill\n",
        "import tensorflow as tf\n",
        "\n",
        "from cobra.io import read_sbml_model"
      ]
    },
    {
      "cell_type": "markdown",
      "metadata": {
        "id": "tXPz08uLRO-K"
      },
      "source": [
        "### Generating reaction presence dataframe\n",
        "\n",
        "By default DNNGIOR uses a neural network trained on a best-per-species dataset, that has learned the coocurences of reactions encoded by the genomes. If we want to train our own network we need to prepare our own training data we need to take a set genomes and determine the reactions present. The easiest way for this is to take the draft models of our genomes and generate a binary array encoding which models contain which reactions.\n",
        "\n",
        "We need a list of all possible reactions found in our training data, which will serve as the rows in our dataset. There are actually several ways to do this, below is the way we did it. As loading the models take relatively long, we will also keep track of the reactions in model_reaction_dic.\n",
        "\n",
        "For this tutorial, we will use the reaction class from dnngior but you can use any module to load metabolic models or extract the reaction sets in another way."
      ]
    },
    {
      "cell_type": "code",
      "source": [
        "#path to training models\n",
        "model_path =  '/content/drive/MyDrive/Antony/one_per_phylum_models'\n",
        "\n",
        "#list of model-ids of draft-models\n",
        "paths  = os.listdir(model_path)[:5]\n",
        "model_ids = []\n",
        "for filename in paths:\n",
        "    model_ids.append(filename[:-5])\n",
        "\n",
        "\n",
        "model_reaction_dic = {}\n",
        "rxn = []\n",
        "for file_path, model_id in zip(paths,model_ids):\n",
        "    print(model_id)\n",
        "    model = read_sbml(os.path.join(model_path, file_path))\n",
        "    rs = set(model.reactions.list_attr('id'))\n",
        "    model_reaction_dic[model_id]=rs\n",
        "\n",
        "    #generate a list of all possible reactions\n",
        "    for i in list(rs):\n",
        "         if i not in rxn and not i.startswith('EX_'):\n",
        "             rxn.append(i)"
      ],
      "metadata": {
        "id": "X1y8QYx2l0Tw",
        "outputId": "68215b3d-ff66-450f-cb07-8e398fe31272",
        "colab": {
          "base_uri": "https://localhost:8080/",
          "height": 385
        }
      },
      "execution_count": 1,
      "outputs": [
        {
          "output_type": "error",
          "ename": "ModuleNotFoundError",
          "evalue": "No module named 'dnngior'",
          "traceback": [
            "\u001b[0;31m---------------------------------------------------------------------------\u001b[0m",
            "\u001b[0;31mModuleNotFoundError\u001b[0m                       Traceback (most recent call last)",
            "\u001b[0;32m<ipython-input-1-93f0cde4b53f>\u001b[0m in \u001b[0;36m<cell line: 0>\u001b[0;34m()\u001b[0m\n\u001b[0;32m----> 1\u001b[0;31m \u001b[0;32mfrom\u001b[0m \u001b[0mdnngior\u001b[0m\u001b[0;34m.\u001b[0m\u001b[0mreaction_class\u001b[0m \u001b[0;32mimport\u001b[0m \u001b[0mReaction\u001b[0m \u001b[0;32mas\u001b[0m \u001b[0mrc\u001b[0m\u001b[0;34m\u001b[0m\u001b[0;34m\u001b[0m\u001b[0m\n\u001b[0m\u001b[1;32m      2\u001b[0m \u001b[0;31m#path to training models\u001b[0m\u001b[0;34m\u001b[0m\u001b[0;34m\u001b[0m\u001b[0m\n\u001b[1;32m      3\u001b[0m \u001b[0mmodel_path\u001b[0m \u001b[0;34m=\u001b[0m  \u001b[0;34m'/content/drive/MyDrive/Antony/one_per_phylum_models'\u001b[0m\u001b[0;34m\u001b[0m\u001b[0;34m\u001b[0m\u001b[0m\n\u001b[1;32m      4\u001b[0m \u001b[0;34m\u001b[0m\u001b[0m\n\u001b[1;32m      5\u001b[0m \u001b[0;31m#list of model-ids of draft-models\u001b[0m\u001b[0;34m\u001b[0m\u001b[0;34m\u001b[0m\u001b[0m\n",
            "\u001b[0;31mModuleNotFoundError\u001b[0m: No module named 'dnngior'",
            "",
            "\u001b[0;31m---------------------------------------------------------------------------\u001b[0;32m\nNOTE: If your import is failing due to a missing package, you can\nmanually install dependencies using either !pip or !apt.\n\nTo view examples of installing some common dependencies, click the\n\"Open Examples\" button below.\n\u001b[0;31m---------------------------------------------------------------------------\u001b[0m\n"
          ],
          "errorDetails": {
            "actions": [
              {
                "action": "open_url",
                "actionText": "Open Examples",
                "url": "/notebooks/snippets/importing_libraries.ipynb"
              }
            ]
          }
        }
      ]
    },
    {
      "cell_type": "markdown",
      "source": [
        "We can then determine for every draft training models which of these reactions are present and create a binary list of reactions presences. We will end up with a binary array with as rows the different reactions and as columns all models in the training dataset."
      ],
      "metadata": {
        "id": "46r2lZAPmAYe"
      }
    },
    {
      "cell_type": "code",
      "source": [
        "#output path training data\n",
        "output_path = 'one_per_phylum_training_data.csv'\n",
        "\n",
        "reaction_df=pd.DataFrame(index=rxn, columns=model_ids)\n",
        "\n",
        "for key, value in model_reaction_dic.items():\n",
        "    a = []\n",
        "    for i in rxn:\n",
        "        if i in value:\n",
        "            a.append(1)\n",
        "        else:\n",
        "            a.append(0)\n",
        "    reaction_df[key]=a\n",
        "\n",
        "#saving to pandas file\n",
        "reaction_df.to_csv(output_path)"
      ],
      "metadata": {
        "id": "UCkM7IyjmDmL"
      },
      "execution_count": null,
      "outputs": []
    },
    {
      "cell_type": "markdown",
      "source": [
        "We can have a look at the distribution of reaction set sizes to see if the extraction was succesful."
      ],
      "metadata": {
        "id": "lIvsS5iSmoWX"
      }
    },
    {
      "cell_type": "code",
      "execution_count": null,
      "metadata": {
        "id": "y-jk3N1fRO-M",
        "outputId": "2f029ea9-1aae-40c4-a767-0b3282a8e452",
        "colab": {
          "base_uri": "https://localhost:8080/",
          "height": 447
        }
      },
      "outputs": [
        {
          "output_type": "execute_result",
          "data": {
            "text/plain": [
              "<Axes: >"
            ]
          },
          "metadata": {},
          "execution_count": 19
        },
        {
          "output_type": "display_data",
          "data": {
            "text/plain": [
              "<Figure size 640x480 with 1 Axes>"
            ],
            "image/png": "[encoded data removed]"
          },
          "metadata": {}
        }
      ],
      "source": [
        "reaction_df.sum().hist()"
      ]
    },
    {
      "cell_type": "markdown",
      "metadata": {
        "id": "TQde0hb4RO-O"
      },
      "source": [
        "### Training the Neural Network\n",
        "\n",
        "Now that we have prepared the training data, we can start training the network. During training the network will generate the feature by randomly deleting reactions from the input data and then try to predict the missing reactions.\n",
        "\n",
        "We do this using the train function of the `NN_Trainer` class. This function will return a object of the predictor class (`NN_predictor`) containing the network, the reaction keys and modeltype. If a `output_path` is provided, it will also save it as a npz file.\n"
      ]
    },
    {
      "cell_type": "code",
      "execution_count": null,
      "metadata": {
        "id": "kzp48PRVRO-O",
        "outputId": "26289c3b-0f97-4f48-9b0e-b08504e7c3d1",
        "colab": {
          "base_uri": "https://localhost:8080/"
        }
      },
      "outputs": [
        {
          "output_type": "stream",
          "name": "stdout",
          "text": [
            "Num GPUs Available:  0\n",
            "# WARNING: overwriting savefile\n",
            "using data as labels\n",
            "dataset created\n",
            "training on data with shape: (3060, 1996) with 1482342.0 reactions\n",
            "Model: \"sequential_1\"\n",
            "_________________________________________________________________\n",
            " Layer (type)                Output Shape              Param #   \n",
            "=================================================================\n",
            " dense_2 (Dense)             (None, 256)               511232    \n",
            "                                                                 \n",
            " dropout_1 (Dropout)         (None, 256)               0         \n",
            "                                                                 \n",
            " dense_3 (Dense)             (None, 1996)              512972    \n",
            "                                                                 \n",
            "=================================================================\n",
            "Total params: 1024204 (3.91 MB)\n",
            "Trainable params: 1024204 (3.91 MB)\n",
            "Non-trainable params: 0 (0.00 Byte)\n",
            "_________________________________________________________________\n",
            "Train on 3060 samples\n",
            "Epoch 1/10\n",
            "3060/3060 [==============================] - 2s 564us/sample - loss: 0.0520 - auc_1: 0.9307 - precision_1: 0.8889 - recall_1: 0.6091\n",
            "Epoch 2/10\n",
            "3060/3060 [==============================] - 1s 483us/sample - loss: 0.0239 - auc_1: 0.9816 - precision_1: 0.9681 - recall_1: 0.8034\n",
            "Epoch 3/10\n",
            "3060/3060 [==============================] - 1s 471us/sample - loss: 0.0136 - auc_1: 0.9919 - precision_1: 0.9859 - recall_1: 0.8839\n",
            "Epoch 4/10\n",
            "3060/3060 [==============================] - 2s 707us/sample - loss: 0.0092 - auc_1: 0.9951 - precision_1: 0.9911 - recall_1: 0.9218\n",
            "Epoch 5/10\n",
            "3060/3060 [==============================] - 3s 828us/sample - loss: 0.0069 - auc_1: 0.9965 - precision_1: 0.9931 - recall_1: 0.9405\n",
            "Epoch 6/10\n",
            "3060/3060 [==============================] - 2s 615us/sample - loss: 0.0058 - auc_1: 0.9971 - precision_1: 0.9940 - recall_1: 0.9504\n",
            "Epoch 7/10\n",
            "3060/3060 [==============================] - 1s 475us/sample - loss: 0.0050 - auc_1: 0.9975 - precision_1: 0.9944 - recall_1: 0.9573\n",
            "Epoch 8/10\n",
            "3060/3060 [==============================] - 1s 470us/sample - loss: 0.0043 - auc_1: 0.9977 - precision_1: 0.9952 - recall_1: 0.9624\n",
            "Epoch 9/10\n",
            "3060/3060 [==============================] - 1s 466us/sample - loss: 0.0040 - auc_1: 0.9979 - precision_1: 0.9954 - recall_1: 0.9658\n",
            "Epoch 10/10\n",
            "3060/3060 [==============================] - 1s 470us/sample - loss: 0.0037 - auc_1: 0.9980 - precision_1: 0.9958 - recall_1: 0.9682\n",
            "The weights of the first layer of the network: \n",
            "[[-0.06829648  0.04375128 -0.03346235 ... -0.00661684 -0.02103541\n",
            "  -0.02557212]\n",
            " [-0.03525531  0.04218789  0.01420416 ...  0.01325926  0.00249997\n",
            "   0.00729934]\n",
            " [-0.05368639 -0.09232002  0.16895215 ... -0.06319416 -0.00947254\n",
            "   0.16111772]\n",
            " ...\n",
            " [ 0.03905268  0.29900113 -0.08736543 ... -0.00280436 -0.04137046\n",
            "   0.03531711]\n",
            " [-0.00877096  0.26522198 -0.06339759 ...  0.00865662 -0.01670673\n",
            "  -0.05179264]\n",
            " [-0.07678968  0.32937986 -0.137558   ... -0.05067843 -0.03022084\n",
            "   0.01211714]]\n",
            "The rxn_keys: \n",
            "['rxn05406_c0' 'rxn02895_c0' 'rxn42709_c0' ... 'rxn10415_c0' 'rxn09069_c0'\n",
            " 'rxn01883_c0']\n",
            "The Modeltype: ModelSEED\n"
          ]
        }
      ],
      "source": [
        "#Load in a our training sample\n",
        "training_data_path = 'one_per_phylum_training_data.csv'\n",
        "training_data = pd.read_csv(training_data_path, index_col=0)\n",
        "\n",
        "#set save path\n",
        "save_path = 'NN_phylum.npz'\n",
        "\n",
        "#Train the network\n",
        "NN_example = NN_Trainer.train(data=training_data, modeltype='ModelSEED',output_path=save_path)\n",
        "\n",
        "print(\"The weights of the first layer of the network: \\n{}\".format(NN_example.network[0][0]))\n",
        "print(\"The rxn_keys: \\n{}\".format(NN_example.rxn_keys.values))\n",
        "print(\"The Modeltype: {}\".format(NN_example.modeltype))"
      ]
    },
    {
      "cell_type": "markdown",
      "metadata": {
        "id": "ThBNDvT9RO-P"
      },
      "source": [
        " By default the network in the NN_predictor is not a full tensorflow object but rather an array of the weights and biases of the different layers. It can still be used to make predictions while being less memory intensive by using matrix multiplication:\n",
        "\n",
        "        a = input\n",
        "        for layer in self.network:\n",
        "            a = a.clip(0)\n",
        "            a = ((a @ layer[0]) + layer[1])\n",
        "        prediction =  1 / (1 + np.exp(-a))#sigmoid(a)\n",
        "        \n",
        "Which is build into the NN_Predictor class."
      ]
    },
    {
      "cell_type": "markdown",
      "source": [
        "### Making predictions\n",
        "\n",
        "As expected we can now use the network to make predictions and to guide gapfilling. We can have the gapfiller use the new network to gapfill models using the `trainedNNPath` argument from the gapfill class"
      ],
      "metadata": {
        "id": "ogXUGoRIq6mK"
      }
    },
    {
      "cell_type": "code",
      "execution_count": null,
      "metadata": {
        "id": "PdDyXp8pRO-S",
        "outputId": "f760e547-8eeb-4ddf-e889-b202a6194f44",
        "colab": {
          "base_uri": "https://localhost:8080/",
          "height": 465
        }
      },
      "outputs": [
        {
          "output_type": "stream",
          "name": "stdout",
          "text": [
            "#reactions not found in NN-keys:  65 / 726\n"
          ]
        },
        {
          "output_type": "execute_result",
          "data": {
            "text/plain": [
              "<Axes: >"
            ]
          },
          "metadata": {},
          "execution_count": 17
        },
        {
          "output_type": "display_data",
          "data": {
            "text/plain": [
              "<Figure size 640x480 with 1 Axes>"
            ],
            "image/png": "[encoded data removed]"
          },
          "metadata": {}
        }
      ],
      "source": [
        "path_to_draft_model = '/content/drive/MyDrive/Antony/Bifidobacterium adolescentis_atcc_15703.sbml'\n",
        "draft_model = read_sbml_model(path_to_draft_model)\n",
        "p = NN_example.predict(draft_model)\n",
        "pd.Series(p).hist()\n",
        "#gapfill_model_custom_nn = Gapfill(draftModel = path_to_draft_model, objectiveName = 'bio1', trainedNNPath='NN_phylum.npz')\n"
      ]
    },
    {
      "cell_type": "markdown",
      "metadata": {
        "id": "ro8nhzIQRO-S"
      },
      "source": [
        "### For the interested: Changing feature generation parameters\n",
        "\n",
        "Basically you now know how to train networks but there are many additional changes you want to make during training.\n",
        "\n",
        "During training the `generate_feature` function will automatically generate the training dataset. You can change several parameters for the generation of the feature:\n",
        "\n",
        "1. You can change the number of times each training model is used (nuplo, default=30).\n",
        "2. You can change the range of deletion percentages (min_for and max_for, default = 0.05 and 0.3), which will be removed in equal sized steps based on the number of replicates.\n",
        "3. You can weigh the deletion of certain reactions (del_p, default=None).\n",
        "4. You can also add false reactions (min_con and max_con) during training and change wthe weights of addition (con_p)*\n",
        "\n",
        "*Note: we do not currently use this and it will not work with the masking of input reactions as the mask does not differentiate between contamination and real reactions.\n",
        "\n",
        "In the following example we set nuplo to 300 instead of 30, and we vary deletion between 0.2 and 0.5.\n",
        "\n",
        "`custom_feature = NN_Trainer.generate_feature(training_data, nuplo=300, min_con=0, max_con=0, min_for = 0.2, max_for = 0.5, del_p = None, con_p = None)`\n",
        "\n",
        "For convenience you can give the parameters to the train function and they will be passed on, so there is not that much reason to generate the feature manually.\n"
      ]
    },
    {
      "cell_type": "code",
      "execution_count": null,
      "metadata": {
        "id": "SQD2m0eGRO-T",
        "outputId": "f0496e63-cd41-4c61-ae87-ada5eee3fe81",
        "colab": {
          "base_uri": "https://localhost:8080/"
        }
      },
      "outputs": [
        {
          "output_type": "stream",
          "name": "stdout",
          "text": [
            "Num GPUs Available:  0\n",
            "using data as labels\n",
            "dataset created\n",
            "training on data with shape: (30600, 1996) with 11701038.0 reactions\n",
            "Model: \"sequential_4\"\n",
            "_________________________________________________________________\n",
            " Layer (type)                Output Shape              Param #   \n",
            "=================================================================\n",
            " dense_8 (Dense)             (None, 256)               511232    \n",
            "                                                                 \n",
            " dropout_4 (Dropout)         (None, 256)               0         \n",
            "                                                                 \n",
            " dense_9 (Dense)             (None, 1996)              512972    \n",
            "                                                                 \n",
            "=================================================================\n",
            "Total params: 1024204 (3.91 MB)\n",
            "Trainable params: 1024204 (3.91 MB)\n",
            "Non-trainable params: 0 (0.00 Byte)\n",
            "_________________________________________________________________\n",
            "Train on 30600 samples\n",
            "Epoch 1/10\n",
            "30600/30600 [==============================] - 20s 669us/sample - loss: 0.0160 - auc_4: 0.9977 - precision_4: 0.9726 - recall_4: 0.9544\n",
            "Epoch 2/10\n",
            "30600/30600 [==============================] - 19s 637us/sample - loss: 0.0031 - auc_4: 0.9999 - precision_4: 0.9956 - recall_4: 0.9953\n",
            "Epoch 3/10\n",
            "30600/30600 [==============================] - 18s 592us/sample - loss: 0.0023 - auc_4: 1.0000 - precision_4: 0.9967 - recall_4: 0.9965\n",
            "Epoch 4/10\n",
            "30600/30600 [==============================] - 24s 800us/sample - loss: 0.0021 - auc_4: 1.0000 - precision_4: 0.9970 - recall_4: 0.9969\n",
            "Epoch 5/10\n",
            "30600/30600 [==============================] - 22s 729us/sample - loss: 0.0018 - auc_4: 1.0000 - precision_4: 0.9973 - recall_4: 0.9973\n",
            "Epoch 6/10\n",
            "30600/30600 [==============================] - 21s 699us/sample - loss: 0.0017 - auc_4: 1.0000 - precision_4: 0.9974 - recall_4: 0.9974\n",
            "Epoch 7/10\n",
            "30600/30600 [==============================] - 19s 606us/sample - loss: 0.0016 - auc_4: 1.0000 - precision_4: 0.9976 - recall_4: 0.9975\n",
            "Epoch 8/10\n",
            "30600/30600 [==============================] - 24s 778us/sample - loss: 0.0016 - auc_4: 1.0000 - precision_4: 0.9977 - recall_4: 0.9976\n",
            "Epoch 9/10\n",
            "30600/30600 [==============================] - 24s 780us/sample - loss: 0.0015 - auc_4: 1.0000 - precision_4: 0.9977 - recall_4: 0.9977\n",
            "Epoch 10/10\n",
            "30600/30600 [==============================] - 20s 656us/sample - loss: 0.0014 - auc_4: 1.0000 - precision_4: 0.9978 - recall_4: 0.9978\n"
          ]
        }
      ],
      "source": [
        "network = NN_Trainer.train(data=training_data, nuplo=300, min_for=0.2, max_for=0.5, modeltype='ModelSEED',save=False)"
      ]
    },
    {
      "cell_type": "markdown",
      "metadata": {
        "id": "439rcoTzRO-T"
      },
      "source": [
        "By default the network will asume that your input (the data without deletions) should be what the network tries to predict. Alternatively, you can provide labels (the full set of reactions) for the network to try and predict. The following is a slightly convoluted way to have the network only predict missing reactions and have it predict reactions already present as 0."
      ]
    },
    {
      "cell_type": "code",
      "execution_count": null,
      "metadata": {
        "id": "K6aoxzeIRO-U",
        "outputId": "7888b84b-60ea-4792-d022-9af80d2e99f2",
        "colab": {
          "base_uri": "https://localhost:8080/"
        }
      },
      "outputs": [
        {
          "output_type": "stream",
          "name": "stdout",
          "text": [
            "Num GPUs Available:  0\n",
            "using user provided labels\n",
            "dataset created\n",
            "training on data with shape: (59880, 3060) with 41452482.0 reactions\n",
            "Model: \"sequential_5\"\n",
            "_________________________________________________________________\n",
            " Layer (type)                Output Shape              Param #   \n",
            "=================================================================\n",
            " dense_10 (Dense)            (None, 256)               783616    \n",
            "                                                                 \n",
            " dropout_5 (Dropout)         (None, 256)               0         \n",
            "                                                                 \n",
            " dense_11 (Dense)            (None, 3060)              786420    \n",
            "                                                                 \n",
            "=================================================================\n",
            "Total params: 1570036 (5.99 MB)\n",
            "Trainable params: 1570036 (5.99 MB)\n",
            "Non-trainable params: 0 (0.00 Byte)\n",
            "_________________________________________________________________\n",
            "Train on 59880 samples\n",
            "Epoch 1/10\n",
            "59880/59880 [==============================] - 49s 826us/sample - loss: 0.0207 - auc_5: 0.8844 - precision_5: 0.7582 - recall_5: 0.9997\n",
            "Epoch 2/10\n",
            "59880/59880 [==============================] - 51s 849us/sample - loss: 0.0177 - auc_5: 0.9204 - precision_5: 0.7599 - recall_5: 0.9999\n",
            "Epoch 3/10\n",
            "59880/59880 [==============================] - 61s 1ms/sample - loss: 0.0173 - auc_5: 0.9264 - precision_5: 0.7609 - recall_5: 0.9998\n",
            "Epoch 4/10\n",
            "59880/59880 [==============================] - 57s 960us/sample - loss: 0.0171 - auc_5: 0.9297 - precision_5: 0.7616 - recall_5: 0.9998\n",
            "Epoch 5/10\n",
            "59880/59880 [==============================] - 72s 1ms/sample - loss: 0.0170 - auc_5: 0.9316 - precision_5: 0.7622 - recall_5: 0.9998\n",
            "Epoch 6/10\n",
            "45568/59880 [=====================>........] - ETA: 12s - loss: 0.0167 - auc_5: 0.9332 - precision_5: 0.7639 - recall_5: 0.9998"
          ]
        }
      ],
      "source": [
        "manual_feature = NN_Trainer.generate_feature(training_data.T, nuplo=30, min_con=0, max_con=0, min_for = 0.05, max_for = 0.3, del_p = None, con_p = None)\n",
        "manual_training_data = pd.DataFrame(columns = training_data.index, data=manual_feature)\n",
        "manual_labels = 1 - manual_feature\n",
        "\n",
        "network = NN_Trainer.train(data=manual_training_data, rxn_keys=training_data.index, labels=manual_labels, maskI=False, min_for=0.0, max_for=0.0, modeltype='ModelSEED',save=False)"
      ]
    },
    {
      "cell_type": "markdown",
      "metadata": {
        "id": "LKx7GkUuRO-U"
      },
      "source": [
        "Finally, you can rely on the default parameters to define the network which we optimised for our usecase, but for optimal perfomance on different datasets, you might want to change the hyperparameters (dropout, batch size), the architecture (nnodes, nlayers) or bias of predicted classes (bias0). You can also disable the masking of input positions during loss calculation (maskI=False). You can also provide a validation split which will set apart a part of your input data during training and calculate scores after to validate your network."
      ]
    },
    {
      "cell_type": "code",
      "execution_count": null,
      "metadata": {
        "id": "pWE9ykRGRO-U"
      },
      "outputs": [],
      "source": [
        "network = NN_Trainer.train(data=training_data, dropout=0.2,b_size=42,nnodes = 420, nlayers=3, bias_0=0.42, maskI=False, validation_split=0.2, modeltype='ModelSEED',save=False)"
      ]
    },
    {
      "cell_type": "markdown",
      "metadata": {
        "id": "jNTwOnxfRO-V"
      },
      "source": [
        "### For the extra interested: Tensorflow object\n",
        "\n",
        "By default the function returns a class with the simplified network but you very well might want instead the full Tensorflow network. To do this you can set return_full_network = True, which will change the NN_predictor to contain a Tensorflow network instead, there modeltype and rxn keys work the same. If you want to save this different class you need to change the file extension to .h5.\n",
        "\n",
        "If you set return_history = True it will also return the history of training for optimisation purposes."
      ]
    },
    {
      "cell_type": "code",
      "execution_count": null,
      "metadata": {
        "id": "p0e0PPlaRO-V",
        "outputId": "4d2179a0-cf95-4a6d-f67e-054b09271b9e",
        "colab": {
          "base_uri": "https://localhost:8080/"
        }
      },
      "outputs": [
        {
          "output_type": "stream",
          "name": "stdout",
          "text": [
            "Num GPUs Available:  0\n",
            "using data as labels\n",
            "dataset created\n",
            "training on data with shape: (3060, 1996) with 1482342.0 reactions\n",
            "Model: \"sequential_2\"\n",
            "_________________________________________________________________\n",
            " Layer (type)                Output Shape              Param #   \n",
            "=================================================================\n",
            " dense_4 (Dense)             (None, 256)               511232    \n",
            "                                                                 \n",
            " dropout_2 (Dropout)         (None, 256)               0         \n",
            "                                                                 \n",
            " dense_5 (Dense)             (None, 1996)              512972    \n",
            "                                                                 \n",
            "=================================================================\n",
            "Total params: 1024204 (3.91 MB)\n",
            "Trainable params: 1024204 (3.91 MB)\n",
            "Non-trainable params: 0 (0.00 Byte)\n",
            "_________________________________________________________________\n",
            "Train on 3060 samples\n",
            "Epoch 1/10\n",
            "3060/3060 [==============================] - 2s 683us/sample - loss: 0.0517 - auc_2: 0.9311 - precision_2: 0.8898 - recall_2: 0.6106\n",
            "Epoch 2/10\n",
            "3060/3060 [==============================] - 2s 493us/sample - loss: 0.0229 - auc_2: 0.9826 - precision_2: 0.9707 - recall_2: 0.8096\n",
            "Epoch 3/10\n",
            "3060/3060 [==============================] - 2s 532us/sample - loss: 0.0126 - auc_2: 0.9926 - precision_2: 0.9879 - recall_2: 0.8927\n",
            "Epoch 4/10\n",
            "3060/3060 [==============================] - 1s 481us/sample - loss: 0.0084 - auc_2: 0.9955 - precision_2: 0.9922 - recall_2: 0.9279\n",
            "Epoch 5/10\n",
            "3060/3060 [==============================] - 1s 484us/sample - loss: 0.0064 - auc_2: 0.9966 - precision_2: 0.9938 - recall_2: 0.9447\n",
            "Epoch 6/10\n",
            "3060/3060 [==============================] - 1s 473us/sample - loss: 0.0052 - auc_2: 0.9972 - precision_2: 0.9947 - recall_2: 0.9547\n",
            "Epoch 7/10\n",
            "3060/3060 [==============================] - 2s 491us/sample - loss: 0.0045 - auc_2: 0.9975 - precision_2: 0.9950 - recall_2: 0.9603\n",
            "Epoch 8/10\n",
            "3060/3060 [==============================] - 3s 819us/sample - loss: 0.0040 - auc_2: 0.9977 - precision_2: 0.9954 - recall_2: 0.9645\n",
            "Epoch 9/10\n",
            "3060/3060 [==============================] - 3s 897us/sample - loss: 0.0034 - auc_2: 0.9979 - precision_2: 0.9963 - recall_2: 0.9687\n",
            "Epoch 10/10\n",
            "3060/3060 [==============================] - 1s 480us/sample - loss: 0.0033 - auc_2: 0.9980 - precision_2: 0.9962 - recall_2: 0.9709\n"
          ]
        },
        {
          "output_type": "stream",
          "name": "stderr",
          "text": [
            "/usr/local/lib/python3.11/dist-packages/keras/src/engine/training.py:3103: UserWarning: You are saving your model as an HDF5 file via `model.save()`. This file format is considered legacy. We recommend using instead the native Keras format, e.g. `model.save('my_model.keras')`.\n",
            "  saving_api.save_model(\n"
          ]
        }
      ],
      "source": [
        "save_path = os.path.join('NN_phylum.h5')\n",
        "\n",
        "NN_tensorflow, history = NN_Trainer.train(data=training_data, return_full_network=True, modeltype='ModelSEED', output_path=save_path, return_history=True)"
      ]
    },
    {
      "cell_type": "markdown",
      "metadata": {
        "id": "LQS12HxyRO-V"
      },
      "source": [
        "The main reason we dont use the full network is to save space and time, we can see that the tensorflow object is four times the size"
      ]
    },
    {
      "cell_type": "code",
      "execution_count": null,
      "metadata": {
        "id": "TPRXTLiYRO-W",
        "outputId": "2c9b9a91-566b-48d3-d457-cc31da49ff13"
      },
      "outputs": [
        {
          "name": "stdout",
          "output_type": "stream",
          "text": [
            "-rw-r--r-- 1 meine binf  16M Feb 28 16:52 NN_phylum.h5\n",
            "-rw-r--r-- 1 meine binf 4.0M Feb 28 16:44 NN_phylum.npz\n"
          ]
        }
      ],
      "source": [
        "!ls NN_phylum* -lh"
      ]
    },
    {
      "cell_type": "code",
      "execution_count": null,
      "metadata": {
        "id": "g7MbfnoyRO-W",
        "outputId": "2196f3d2-dfc8-4e82-b6e5-f6ea6492b709"
      },
      "outputs": [
        {
          "name": "stdout",
          "output_type": "stream",
          "text": [
            "[[9.8170334e-01 1.7333871e-01 6.5492481e-01 ... 3.6391240e-10\n",
            "  6.9073259e-08 1.6098149e-09]\n",
            " [9.9994546e-01 9.1655158e-02 9.6405721e-01 ... 4.3539622e-08\n",
            "  8.1443136e-07 1.3167903e-07]\n",
            " [1.8228114e-02 1.0808345e-03 8.2123652e-02 ... 5.4656033e-07\n",
            "  3.4918975e-07 5.8884945e-07]]\n",
            "Index(['rxn00141_c0', 'rxn08127_c0', 'rxn05466_c0', 'rxn10309_c0',\n",
            "       'rxn24607_c0', 'rxn04791_c0', 'rxn00293_c0', 'rxn00214_c0',\n",
            "       'rxn00187_c0', 'rxn01859_c0',\n",
            "       ...\n",
            "       'rxn05598_c0', 'rxn00015_c0', 'rxn05107_c0', 'rxn00639_c0',\n",
            "       'rxn00971_c0', 'rxn02296_c0', 'rxn00914_c0', 'rxn02944_c0',\n",
            "       'rxn00835_c0', 'rxn00291_c0'],\n",
            "      dtype='object', length=2002)\n",
            "ModelSEED\n",
            "Model: \"sequential_2\"\n",
            "_________________________________________________________________\n",
            " Layer (type)                Output Shape              Param #   \n",
            "=================================================================\n",
            " dense_4 (Dense)             (None, 256)               512768    \n",
            "                                                                 \n",
            " dropout_2 (Dropout)         (None, 256)               0         \n",
            "                                                                 \n",
            " dense_5 (Dense)             (None, 2002)              514514    \n",
            "                                                                 \n",
            "=================================================================\n",
            "Total params: 1,027,282\n",
            "Trainable params: 1,027,282\n",
            "Non-trainable params: 0\n",
            "_________________________________________________________________\n",
            "The summary of the network: \n",
            "None\n",
            "The bias of the first layer network: \n",
            "[ 0.01815793  0.07064313  0.05013622  0.0684651   0.05475084 -0.02588391\n",
            " -0.0275814   0.04190694 -0.02769571 -0.02762688 -0.02635499 -0.02503002\n",
            "  0.01557586 -0.02753398 -0.02763558 -0.02720711  0.0720401  -0.02764473\n",
            "  0.0484386  -0.02745521  0.00122085 -0.02773472  0.01987625 -0.02771166\n",
            "  0.08970906  0.05609338 -0.02766819  0.14008512 -0.02061248  0.20968236\n",
            "  0.0114533  -0.02760136 -0.02672062 -0.02717972  0.05188096 -0.02759032\n",
            " -0.02509985  0.0611853  -0.02741561  0.09187377 -0.02707962 -0.02101226\n",
            " -0.02722905 -0.02772735 -0.02255156 -0.02742963 -0.02702946 -0.02766225\n",
            "  0.08030191 -0.02743077 -0.0277493  -0.02405969 -0.02769066 -0.02768515\n",
            " -0.02731078  0.04896857 -0.02710942 -0.02449331  0.00463613 -0.02757422\n",
            "  0.05928008 -0.02774119 -0.02728453 -0.02773724 -0.0181783   0.07467397\n",
            " -0.0276805  -0.02775479 -0.02769752  0.03513107 -0.02763444  0.04215331\n",
            " -0.02758268 -0.02757109 -0.0277497  -0.02529255 -0.02234014  0.03619839\n",
            " -0.02775817  0.05407421 -0.02656789  0.07127354 -0.02761707 -0.02759793\n",
            " -0.02741589  0.09867167  0.0206307  -0.02764733 -0.02743972  0.10410691\n",
            " -0.02769961  0.01175681  0.05664679 -0.02774352 -0.027285   -0.02650042\n",
            " -0.02772    -0.02768146  0.01416069  0.0003269   0.2089854  -0.02769738\n",
            "  0.10825889 -0.02727845 -0.02761945 -0.02760483 -0.02759963 -0.02500705\n",
            " -0.02424257 -0.02775548 -0.02754399  0.08642625  0.04488741  0.05651483\n",
            "  0.06539203 -0.02772972 -0.02328401 -0.02761088  0.06837971 -0.0211354\n",
            " -0.02448053  0.0746548  -0.02754759  0.15684602  0.0561916   0.01412471\n",
            "  0.07509394 -0.02113652 -0.00524547 -0.01815161 -0.01515496  0.17951587\n",
            " -0.02739236  0.03109415 -0.02773037 -0.02758298  0.12685421  0.05064853\n",
            " -0.02775525  0.08129103 -0.0277288  -0.0275981   0.08690105  0.00253893\n",
            " -0.02773451 -0.02733897  0.07042055 -0.02769986 -0.02435977 -0.02759727\n",
            "  0.06605249 -0.02612045  0.03245089  0.00486574  0.07147846  0.05644086\n",
            "  0.06195621 -0.02739822  0.06761666  0.0313305  -0.0272698  -0.02541217\n",
            "  0.05597181 -0.02768168 -0.02745924 -0.02759151 -0.0272334  -0.02748483\n",
            "  0.01737102 -0.00396035 -0.02778265  0.04838235 -0.02777427 -0.02704953\n",
            "  0.0565589  -0.02693327  0.0523646  -0.02773025  0.08048529  0.11788913\n",
            " -0.0253279  -0.02776913 -0.02742963  0.01040109 -0.02734583 -0.02468633\n",
            "  0.21488304 -0.02575675 -0.02741969  0.05239348  0.03013225 -0.02772364\n",
            "  0.02412434 -0.02097926  0.03534316 -0.02723782 -0.02726413  0.12454862\n",
            " -0.027139    0.08285782  0.06854878  0.08205146 -0.02706153  0.00883721\n",
            "  0.07865615 -0.02772075 -0.0226369   0.07273981 -0.02180496 -0.02014586\n",
            "  0.11154136  0.01468198 -0.02622008  0.07041153 -0.02775304 -0.02746767\n",
            "  0.00179211  0.03244711 -0.02716338 -0.02760849  0.04756847  0.0053173\n",
            " -0.01457355 -0.02756876 -0.02456407 -0.02774116  0.08513859 -0.02770806\n",
            " -0.02748912 -0.00603256 -0.02765691 -0.02768124 -0.02258214  0.00045547\n",
            "  0.05321338 -0.02771157  0.16806895  0.04337243 -0.0275207   0.00471526\n",
            " -0.02763104 -0.02779677  0.03675345  0.06686364  0.04698974  0.01984029\n",
            "  0.20377177  0.02466098 -0.02770625 -0.02729419 -0.02778757 -0.02782026\n",
            " -0.02361488 -0.02764548  0.03999533 -0.02488942]\n",
            "The rxn_keys: \n",
            "Index(['rxn00141_c0', 'rxn08127_c0', 'rxn05466_c0', 'rxn10309_c0',\n",
            "       'rxn24607_c0', 'rxn04791_c0', 'rxn00293_c0', 'rxn00214_c0',\n",
            "       'rxn00187_c0', 'rxn01859_c0',\n",
            "       ...\n",
            "       'rxn05598_c0', 'rxn00015_c0', 'rxn05107_c0', 'rxn00639_c0',\n",
            "       'rxn00971_c0', 'rxn02296_c0', 'rxn00914_c0', 'rxn02944_c0',\n",
            "       'rxn00835_c0', 'rxn00291_c0'],\n",
            "      dtype='object', length=2002)\n",
            "The Modeltype: ModelSEED\n"
          ]
        }
      ],
      "source": [
        "print(NN_tensorflow.network.predict(test_input.T))\n",
        "print(NN_tensorflow.rxn_keys)\n",
        "print(NN_tensorflow.modeltype)\n",
        "\n",
        "print(\"The summary of the network: \\n{}\".format(NN_tensorflow.network.summary()))\n",
        "print(\"The bias of the first layer network: \\n{}\".format(NN_example.network[0][1]))\n",
        "print(\"The rxn_keys: \\n{}\".format(NN_tensorflow.rxn_keys))\n",
        "print(\"The Modeltype: {}\".format(NN_example.modeltype))"
      ]
    },
    {
      "cell_type": "markdown",
      "metadata": {
        "id": "np4CVcuRRO-X"
      },
      "source": [
        "If you want to use the modelseed trained network to predict reactions you need to provide it with a binary array of reactions, its not as convenient so I would only use the tensorflow object when you want to do more advanced tinkering."
      ]
    },
    {
      "cell_type": "code",
      "execution_count": null,
      "metadata": {
        "id": "RRC4A-JORO-X",
        "outputId": "d8490f7a-5d27-42f0-bcad-6c31eba54c62"
      },
      "outputs": [
        {
          "name": "stdout",
          "output_type": "stream",
          "text": [
            "Prediction: \n",
            "[[0.982 0.173 0.655 ... 0.    0.    0.   ]\n",
            " [1.    0.092 0.964 ... 0.    0.    0.   ]\n",
            " [0.018 0.001 0.082 ... 0.    0.    0.   ]]\n"
          ]
        }
      ],
      "source": [
        "test_input = training_data.iloc[:,:3].values\n",
        "p = NN_tensorflow.network.predict(test_input.T)\n",
        "print(\"Prediction: \\n{}\".format(np.round(p,3)))"
      ]
    },
    {
      "cell_type": "markdown",
      "metadata": {
        "id": "DX8JSySuRO-X"
      },
      "source": [
        "With the history you can do whatever you want, for example plot the loss function over the epochs."
      ]
    },
    {
      "cell_type": "code",
      "execution_count": null,
      "metadata": {
        "id": "-YHIgjvVRO-Y",
        "outputId": "87d5164c-2a28-4fa3-abd1-2d627b19e064"
      },
      "outputs": [
        {
          "data": {
            "text/plain": [
              "[<matplotlib.lines.Line2D at 0x7a735a32fd30>]"
            ]
          },
          "execution_count": 15,
          "metadata": {},
          "output_type": "execute_result"
        },
        {
          "data": {
            "image/png": "[encoded data removed]",
            "text/plain": [
              "<Figure size 640x480 with 1 Axes>"
            ]
          },
          "metadata": {},
          "output_type": "display_data"
        }
      ],
      "source": [
        "import matplotlib.pyplot as plt\n",
        "plt.plot(history.history['loss'])"
      ]
    }
  ],
  "metadata": {
    "colab": {
      "provenance": [],
      "include_colab_link": true
    },
    "kernelspec": {
      "display_name": "Python 3",
      "name": "python3"
    },
    "language_info": {
      "name": "python"
    }
  },
  "nbformat": 4,
  "nbformat_minor": 0
}