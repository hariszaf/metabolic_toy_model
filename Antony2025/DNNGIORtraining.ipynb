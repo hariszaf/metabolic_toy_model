{
  "cells": [
    {
      "cell_type": "markdown",
      "metadata": {
        "id": "view-in-github",
        "colab_type": "text"
      },
      "source": [
        "<a href=\"https://colab.research.google.com/github/hariszaf/metabolic_toy_model/blob/main/Antony2025/DNNGIORtraining.ipynb\" target=\"_parent\"><img src=\"https://colab.research.google.com/assets/colab-badge.svg\" alt=\"Open In Colab\"/></a>"
      ]
    },
    {
      "cell_type": "markdown",
      "metadata": {
        "id": "T8LbxwOozGpm"
      },
      "source": [
        "# **Use DNNGIOR On Your Own Training Set**"
      ]
    },
    {
      "cell_type": "markdown",
      "source": [
        "## Google Collab part"
      ],
      "metadata": {
        "id": "zfYBcGfpaMjl"
      }
    },
    {
      "cell_type": "code",
      "source": [
        "# @title Install dependencies\n",
        "!pip install tensorflow==2.15.1\n",
        "!pip install cobra\n",
        "!pip install dnngior --no-deps\n",
        "!pip install gurobipy"
      ],
      "metadata": {
        "id": "Qnkd-lBAencb",
        "cellView": "form"
      },
      "execution_count": null,
      "outputs": []
    },
    {
      "cell_type": "code",
      "source": [
        "# @title general dependencies\n",
        "import numpy as np\n",
        "import pandas as pd\n",
        "import os\n",
        "import sys\n",
        "from pathlib import Path\n",
        "import tensorflow as tf"
      ],
      "metadata": {
        "cellView": "form",
        "id": "owLVcRsdSfAo"
      },
      "execution_count": 2,
      "outputs": []
    },
    {
      "cell_type": "markdown",
      "metadata": {
        "id": "cxlLifb0RO-J"
      },
      "source": [
        "For this workshop we are going to use the NN_Trainer, NN_Predictor and Gapfill classes of DNNGIOR as well as the read_sbml_model from cobra"
      ]
    },
    {
      "cell_type": "code",
      "source": [
        "!git clone https://github.com/hariszaf/metabolic_toy_model.git"
      ],
      "metadata": {
        "id": "z4fFYZ2SUFzF",
        "outputId": "80c371af-6772-420f-e55a-26955fd242bb",
        "colab": {
          "base_uri": "https://localhost:8080/"
        }
      },
      "execution_count": 11,
      "outputs": [
        {
          "output_type": "stream",
          "name": "stdout",
          "text": [
            "Drive already mounted at /content/drive/; to attempt to forcibly remount, call drive.mount(\"/content/drive/\", force_remount=True).\n"
          ]
        }
      ]
    },
    {
      "cell_type": "code",
      "execution_count": 5,
      "metadata": {
        "id": "sNT_SUqwRO-J",
        "outputId": "b1c0ada7-fcef-46d0-af4f-3cf160230aae",
        "colab": {
          "base_uri": "https://localhost:8080/"
        }
      },
      "outputs": [
        {
          "output_type": "stream",
          "name": "stdout",
          "text": [
            "Restricted license - for non-production use only - expires 2026-11-23\n",
            "WARNING: To enable the NN_Trainer script, you need to install tensorflow <https://www.tensorflow.org/install>\n",
            "The rest of dnngior features can be used without it.\n"
          ]
        }
      ],
      "source": [
        "from dnngior import NN_Trainer\n",
        "from dnngior import NN_Predictor\n",
        "from dnngior import Gapfill\n",
        "from cobra.io import read_sbml_model"
      ]
    },
    {
      "cell_type": "markdown",
      "metadata": {
        "id": "tXPz08uLRO-K"
      },
      "source": [
        "## Generating reaction presence dataframe\n",
        "\n",
        "By default DNNGIOR uses a neural network trained on a best-per-species dataset, that has learned the coocurences of reactions encoded by the genomes. If we want to train our own network we need to prepare our own training data we need to take a set genomes and determine the reactions present. The easiest way for this is to take the draft models of our genomes and generate a binary array encoding which models contain which reactions.\n",
        "\n",
        "[fig](/figs/training.png)\n",
        "\n",
        "We need a list of all possible reactions found in our training data, which will serve as the rows in our dataset. We can then go through the models and set a 1 when a reaction is present in that model and 0 when its not. As loading the models will take relatively long, I would advice to keep track of the reactions for every model in a dictionary for the first loop where we are determining the reactome of our training data."
      ]
    },
    {
      "cell_type": "code",
      "source": [
        "#path to training models\n",
        "model_path =  '/content/drive/MyDrive/Antony/one_per_phylum_models'\n",
        "\n",
        "#list of model-ids of draft-models\n",
        "paths  = os.listdir(model_path)[:3]\n",
        "model_ids = []\n",
        "for filename in paths:\n",
        "    model_ids.append(filename[:-5])\n",
        "\n",
        "\n",
        "model_reaction_dic = {}\n",
        "rxn = []\n",
        "for file_path, model_id in zip(paths,model_ids):\n",
        "    print(model_id)\n",
        "    model = read_sbml_model(os.path.join(model_path, file_path))\n",
        "    rs = set(model.reactions.list_attr('id'))\n",
        "    model_reaction_dic[model_id]=rs\n",
        "\n",
        "    #generate a list of all possible reactions\n",
        "    for i in list(rs):\n",
        "         if i not in rxn and not i.startswith('EX_'):\n",
        "             rxn.append(i)"
      ],
      "metadata": {
        "id": "X1y8QYx2l0Tw"
      },
      "execution_count": null,
      "outputs": []
    },
    {
      "cell_type": "markdown",
      "source": [
        "We can then determine for every draft training models which of these reactions are present and create a binary list of reactions presences. We will end up with a binary array with as rows the different reactions and as columns all models in the training dataset."
      ],
      "metadata": {
        "id": "46r2lZAPmAYe"
      }
    },
    {
      "cell_type": "code",
      "source": [
        "#output path training data\n",
        "output_path = 'one_per_phylum_training_data_example.csv'\n",
        "\n",
        "reaction_df=pd.DataFrame(index=rxn, columns=model_ids)\n",
        "\n",
        "for key, value in model_reaction_dic.items():\n",
        "    a = []\n",
        "    for i in rxn:\n",
        "        if i in value:\n",
        "            a.append(1)\n",
        "        else:\n",
        "            a.append(0)\n",
        "    reaction_df[key]=a\n",
        "\n",
        "#saving to pandas file\n",
        "reaction_df.to_csv(output_path)"
      ],
      "metadata": {
        "id": "UCkM7IyjmDmL"
      },
      "execution_count": null,
      "outputs": []
    },
    {
      "cell_type": "markdown",
      "source": [
        "We can have a look at the distribution of reaction set sizes to see if the extraction was succesful."
      ],
      "metadata": {
        "id": "lIvsS5iSmoWX"
      }
    },
    {
      "cell_type": "code",
      "execution_count": null,
      "metadata": {
        "id": "y-jk3N1fRO-M",
        "outputId": "93494807-5fb2-4a26-c0e9-274f6b33af30",
        "colab": {
          "base_uri": "https://localhost:8080/",
          "height": 447
        }
      },
      "outputs": [
        {
          "output_type": "execute_result",
          "data": {
            "text/plain": [
              "<Axes: >"
            ]
          },
          "metadata": {},
          "execution_count": 10
        },
        {
          "output_type": "display_data",
          "data": {
            "text/plain": [
              "<Figure size 640x480 with 1 Axes>"
            ],
            "image/png": "[encoded data removed]"
          },
          "metadata": {}
        }
      ],
      "source": [
        "reaction_df.sum().hist()"
      ]
    },
    {
      "cell_type": "markdown",
      "source": [
        "### Challenge:\n",
        "\n",
        "Create a training dataset based on 10 Shewanella models"
      ],
      "metadata": {
        "id": "7FetNGRve3gI"
      }
    },
    {
      "cell_type": "code",
      "source": [
        "# @title Solution\n",
        "\n",
        "#path to training models\n",
        "model_path =  '/content/drive/MyDrive/Antony/shewanella_models'\n",
        "\n",
        "#list of model-ids of draft-models\n",
        "paths  = os.listdir(model_path)\n",
        "model_ids = []\n",
        "for filename in paths:\n",
        "    model_ids.append(filename[:-5])\n",
        "\n",
        "\n",
        "shewanella_model_reaction_dic = {}\n",
        "rxn = []\n",
        "for file_path, model_id in zip(paths,model_ids):\n",
        "    print(model_id)\n",
        "    model = read_sbml_model(os.path.join(model_path, file_path))\n",
        "    rs = set(model.reactions.list_attr('id'))\n",
        "    shewanella_model_reaction_dic[model_id]=rs\n",
        "\n",
        "    #generate a list of all possible reactions\n",
        "    for i in list(rs):\n",
        "         if i not in rxn and not i.startswith('EX_'):\n",
        "             rxn.append(i)\n",
        "\n",
        "#output path training data\n",
        "output_path = 'shewanella_training_data.csv'\n",
        "\n",
        "shewanella_reaction_df=pd.DataFrame(index=rxn, columns=model_ids)\n",
        "\n",
        "for key, value in shewanella_model_reaction_dic.items():\n",
        "    a = []\n",
        "    for i in rxn:\n",
        "        if i in value:\n",
        "            a.append(1)\n",
        "        else:\n",
        "            a.append(0)\n",
        "    shewanella_reaction_df[key]=a\n",
        "\n",
        "#saving to pandas file\n",
        "shewanella_reaction_df.to_csv(output_path)\n"
      ],
      "metadata": {
        "colab": {
          "base_uri": "https://localhost:8080/"
        },
        "id": "SY4E5EZLHDJU",
        "outputId": "0090cc68-57af-4f64-9fa5-c794655ca0fb"
      },
      "execution_count": 10,
      "outputs": [
        {
          "output_type": "stream",
          "name": "stdout",
          "text": [
            "1197174_alishewanella_aestuarii_b11_gca_000280055\n"
          ]
        },
        {
          "output_type": "stream",
          "name": "stderr",
          "text": [
            "ERROR:cobra.io.sbml:'' is not a valid SBML 'SId'.\n"
          ]
        },
        {
          "output_type": "stream",
          "name": "stdout",
          "text": [
            "1195246_alishewanella_agri_bl06_gca_000272005\n"
          ]
        },
        {
          "output_type": "stream",
          "name": "stderr",
          "text": [
            "ERROR:cobra.io.sbml:'' is not a valid SBML 'SId'.\n"
          ]
        },
        {
          "output_type": "stream",
          "name": "stdout",
          "text": [
            "1129374_alishewanella_jeotgali_kctc_22429_gca_000245735\n"
          ]
        },
        {
          "output_type": "stream",
          "name": "stderr",
          "text": [
            "ERROR:cobra.io.sbml:'' is not a valid SBML 'SId'.\n"
          ]
        },
        {
          "output_type": "stream",
          "name": "stdout",
          "text": [
            "1856684_alishewanella_sp_hh_zs_gca_001704375\n"
          ]
        },
        {
          "output_type": "stream",
          "name": "stderr",
          "text": [
            "ERROR:cobra.io.sbml:'' is not a valid SBML 'SId'.\n"
          ]
        },
        {
          "output_type": "stream",
          "name": "stdout",
          "text": [
            "1651088_alishewanella_sp_wh16_1_gca_001441695\n"
          ]
        },
        {
          "output_type": "stream",
          "name": "stderr",
          "text": [
            "ERROR:cobra.io.sbml:'' is not a valid SBML 'SId'.\n"
          ]
        },
        {
          "output_type": "stream",
          "name": "stdout",
          "text": [
            "2338552_parashewanella_curva_gca_003675895\n"
          ]
        },
        {
          "output_type": "stream",
          "name": "stderr",
          "text": [
            "ERROR:cobra.io.sbml:'' is not a valid SBML 'SId'.\n"
          ]
        },
        {
          "output_type": "stream",
          "name": "stdout",
          "text": [
            "342950_parashewanella_spongiae_gca_003676335\n"
          ]
        },
        {
          "output_type": "stream",
          "name": "stderr",
          "text": [
            "ERROR:cobra.io.sbml:'' is not a valid SBML 'SId'.\n"
          ]
        },
        {
          "output_type": "stream",
          "name": "stdout",
          "text": [
            "38313_shewanella_algae_gca_001870495\n"
          ]
        },
        {
          "output_type": "stream",
          "name": "stderr",
          "text": [
            "ERROR:cobra.io.sbml:'' is not a valid SBML 'SId'.\n"
          ]
        },
        {
          "output_type": "stream",
          "name": "stdout",
          "text": [
            "38313_shewanella_algae_gca_003721455\n"
          ]
        },
        {
          "output_type": "stream",
          "name": "stderr",
          "text": [
            "ERROR:cobra.io.sbml:'' is not a valid SBML 'SId'.\n"
          ]
        },
        {
          "output_type": "stream",
          "name": "stdout",
          "text": [
            "326297_shewanella_amazonensis_sb2b_gca_000015245\n"
          ]
        },
        {
          "output_type": "stream",
          "name": "stderr",
          "text": [
            "ERROR:cobra.io.sbml:'' is not a valid SBML 'SId'.\n"
          ]
        },
        {
          "output_type": "stream",
          "name": "stdout",
          "text": [
            "271099_shewanella_atlantica_gca_003966265\n"
          ]
        },
        {
          "output_type": "stream",
          "name": "stderr",
          "text": [
            "ERROR:cobra.io.sbml:'' is not a valid SBML 'SId'.\n"
          ]
        },
        {
          "output_type": "stream",
          "name": "stdout",
          "text": [
            "693974_shewanella_baltica_ba175_gca_000147735\n"
          ]
        },
        {
          "output_type": "stream",
          "name": "stderr",
          "text": [
            "ERROR:cobra.io.sbml:'' is not a valid SBML 'SId'.\n"
          ]
        },
        {
          "output_type": "stream",
          "name": "stdout",
          "text": [
            "62322_shewanella_baltica_gca_001620325\n"
          ]
        },
        {
          "output_type": "stream",
          "name": "stderr",
          "text": [
            "ERROR:cobra.io.sbml:'' is not a valid SBML 'SId'.\n"
          ]
        },
        {
          "output_type": "stream",
          "name": "stdout",
          "text": [
            "62322_shewanella_baltica_gca_900456975\n"
          ]
        },
        {
          "output_type": "stream",
          "name": "stderr",
          "text": [
            "ERROR:cobra.io.sbml:'' is not a valid SBML 'SId'.\n"
          ]
        },
        {
          "output_type": "stream",
          "name": "stdout",
          "text": [
            "325240_shewanella_baltica_os155_gca_000015845\n"
          ]
        },
        {
          "output_type": "stream",
          "name": "stderr",
          "text": [
            "ERROR:cobra.io.sbml:'' is not a valid SBML 'SId'.\n"
          ]
        },
        {
          "output_type": "stream",
          "name": "stdout",
          "text": [
            "399599_shewanella_baltica_os195_gca_000018765\n"
          ]
        },
        {
          "output_type": "stream",
          "name": "stderr",
          "text": [
            "ERROR:cobra.io.sbml:'' is not a valid SBML 'SId'.\n"
          ]
        },
        {
          "output_type": "stream",
          "name": "stdout",
          "text": [
            "407976_shewanella_baltica_os223_gca_000021665\n"
          ]
        },
        {
          "output_type": "stream",
          "name": "stderr",
          "text": [
            "ERROR:cobra.io.sbml:'' is not a valid SBML 'SId'.\n"
          ]
        },
        {
          "output_type": "stream",
          "name": "stdout",
          "text": [
            "43661_shewanella_benthica_gca_900476435\n"
          ]
        },
        {
          "output_type": "stream",
          "name": "stderr",
          "text": [
            "ERROR:cobra.io.sbml:'' is not a valid SBML 'SId'.\n"
          ]
        },
        {
          "output_type": "stream",
          "name": "stdout",
          "text": [
            "2018305_shewanella_bicestrii_gca_002216875\n"
          ]
        },
        {
          "output_type": "stream",
          "name": "stderr",
          "text": [
            "ERROR:cobra.io.sbml:'' is not a valid SBML 'SId'.\n"
          ]
        },
        {
          "output_type": "stream",
          "name": "stdout",
          "text": [
            "271096_shewanella_canadensis_gca_003966225\n"
          ]
        },
        {
          "output_type": "stream",
          "name": "stderr",
          "text": [
            "ERROR:cobra.io.sbml:'' is not a valid SBML 'SId'.\n"
          ]
        },
        {
          "output_type": "stream",
          "name": "stdout",
          "text": [
            "558541_shewanella_chilikensis_gca_003217175\n"
          ]
        },
        {
          "output_type": "stream",
          "name": "stderr",
          "text": [
            "ERROR:cobra.io.sbml:'' is not a valid SBML 'SId'.\n"
          ]
        },
        {
          "output_type": "stream",
          "name": "stdout",
          "text": [
            "23_shewanella_colwelliana_gca_001735525\n"
          ]
        },
        {
          "output_type": "stream",
          "name": "stderr",
          "text": [
            "ERROR:cobra.io.sbml:'' is not a valid SBML 'SId'.\n"
          ]
        },
        {
          "output_type": "stream",
          "name": "stdout",
          "text": [
            "1353536_shewanella_decolorationis_s12_gca_000485795\n"
          ]
        },
        {
          "output_type": "stream",
          "name": "stderr",
          "text": [
            "ERROR:cobra.io.sbml:'' is not a valid SBML 'SId'.\n"
          ]
        },
        {
          "output_type": "stream",
          "name": "stdout",
          "text": [
            "318161_shewanella_denitrificans_os217_gca_000013765\n"
          ]
        },
        {
          "output_type": "stream",
          "name": "stderr",
          "text": [
            "ERROR:cobra.io.sbml:'' is not a valid SBML 'SId'.\n"
          ]
        },
        {
          "output_type": "stream",
          "name": "stdout",
          "text": [
            "552357_shewanella_fodinae_gca_004342405\n"
          ]
        },
        {
          "output_type": "stream",
          "name": "stderr",
          "text": [
            "ERROR:cobra.io.sbml:'' is not a valid SBML 'SId'.\n"
          ]
        },
        {
          "output_type": "stream",
          "name": "stdout",
          "text": [
            "56812_shewanella_frigidimarina_gca_001529365\n"
          ]
        },
        {
          "output_type": "stream",
          "name": "stderr",
          "text": [
            "ERROR:cobra.io.sbml:'' is not a valid SBML 'SId'.\n"
          ]
        },
        {
          "output_type": "stream",
          "name": "stdout",
          "text": [
            "318167_shewanella_frigidimarina_ncimb_400_gca_000014705\n"
          ]
        },
        {
          "output_type": "stream",
          "name": "stderr",
          "text": [
            "ERROR:cobra.io.sbml:'' is not a valid SBML 'SId'.\n"
          ]
        },
        {
          "output_type": "stream",
          "name": "stdout",
          "text": [
            "458817_shewanella_halifaxensis_haw_eb4_gca_000019185\n"
          ]
        },
        {
          "output_type": "stream",
          "name": "stderr",
          "text": [
            "ERROR:cobra.io.sbml:'' is not a valid SBML 'SId'.\n"
          ]
        },
        {
          "output_type": "stream",
          "name": "stdout",
          "text": [
            "1965282_shewanella_khirikhana_gca_003957745\n"
          ]
        },
        {
          "output_type": "stream",
          "name": "stderr",
          "text": [
            "ERROR:cobra.io.sbml:'' is not a valid SBML 'SId'.\n"
          ]
        },
        {
          "output_type": "stream",
          "name": "stdout",
          "text": [
            "150120_shewanella_livingstonensis_gca_003855395\n"
          ]
        },
        {
          "output_type": "stream",
          "name": "stderr",
          "text": [
            "ERROR:cobra.io.sbml:'' is not a valid SBML 'SId'.\n"
          ]
        },
        {
          "output_type": "stream",
          "name": "stdout",
          "text": [
            "323850_shewanella_loihica_pv_4_gca_000016065\n"
          ]
        },
        {
          "output_type": "stream",
          "name": "stderr",
          "text": [
            "ERROR:cobra.io.sbml:'' is not a valid SBML 'SId'.\n"
          ]
        },
        {
          "output_type": "stream",
          "name": "stdout",
          "text": [
            "1515746_shewanella_mangrovi_gca_000753795\n"
          ]
        },
        {
          "output_type": "stream",
          "name": "stderr",
          "text": [
            "ERROR:cobra.io.sbml:'' is not a valid SBML 'SId'.\n"
          ]
        },
        {
          "output_type": "stream",
          "name": "stdout",
          "text": [
            "260364_shewanella_marisflavi_gca_002215585\n"
          ]
        },
        {
          "output_type": "stream",
          "name": "stderr",
          "text": [
            "ERROR:cobra.io.sbml:'' is not a valid SBML 'SId'.\n"
          ]
        },
        {
          "output_type": "stream",
          "name": "stdout",
          "text": [
            "2520507_shewanella_maritima_gca_004295345\n"
          ]
        },
        {
          "output_type": "stream",
          "name": "stderr",
          "text": [
            "ERROR:cobra.io.sbml:'' is not a valid SBML 'SId'.\n"
          ]
        },
        {
          "output_type": "stream",
          "name": "stdout",
          "text": [
            "365591_shewanella_morhuae_gca_900156405\n"
          ]
        },
        {
          "output_type": "stream",
          "name": "stderr",
          "text": [
            "ERROR:cobra.io.sbml:'' is not a valid SBML 'SId'.\n"
          ]
        },
        {
          "output_type": "stream",
          "name": "stdout",
          "text": [
            "70863_shewanella_oneidensis_gca_003241225\n"
          ]
        },
        {
          "output_type": "stream",
          "name": "stderr",
          "text": [
            "ERROR:cobra.io.sbml:'' is not a valid SBML 'SId'.\n"
          ]
        },
        {
          "output_type": "stream",
          "name": "stdout",
          "text": [
            "398579_shewanella_pealeana_atcc_700345_gca_000018285\n"
          ]
        },
        {
          "output_type": "stream",
          "name": "stderr",
          "text": [
            "ERROR:cobra.io.sbml:'' is not a valid SBML 'SId'.\n"
          ]
        },
        {
          "output_type": "stream",
          "name": "stdout",
          "text": [
            "225849_shewanella_piezotolerans_wp3_gca_000014885\n"
          ]
        },
        {
          "output_type": "stream",
          "name": "stderr",
          "text": [
            "ERROR:cobra.io.sbml:'' is not a valid SBML 'SId'.\n"
          ]
        },
        {
          "output_type": "stream",
          "name": "stdout",
          "text": [
            "2487742_shewanella_psychromarinicola_gca_003797165\n"
          ]
        },
        {
          "output_type": "stream",
          "name": "stderr",
          "text": [
            "ERROR:cobra.io.sbml:'' is not a valid SBML 'SId'.\n"
          ]
        },
        {
          "output_type": "stream",
          "name": "stdout",
          "text": [
            "225848_shewanella_psychrophila_gca_002005305\n"
          ]
        },
        {
          "output_type": "stream",
          "name": "stderr",
          "text": [
            "ERROR:cobra.io.sbml:'' is not a valid SBML 'SId'.\n"
          ]
        },
        {
          "output_type": "stream",
          "name": "stdout",
          "text": [
            "399804_shewanella_putrefaciens_200_gca_000169215\n"
          ]
        },
        {
          "output_type": "stream",
          "name": "stderr",
          "text": [
            "ERROR:cobra.io.sbml:'' is not a valid SBML 'SId'.\n"
          ]
        },
        {
          "output_type": "stream",
          "name": "stdout",
          "text": [
            "319224_shewanella_putrefaciens_cn_32_gca_000016585\n"
          ]
        },
        {
          "output_type": "stream",
          "name": "stderr",
          "text": [
            "ERROR:cobra.io.sbml:'' is not a valid SBML 'SId'.\n"
          ]
        },
        {
          "output_type": "stream",
          "name": "stdout",
          "text": [
            "24_shewanella_putrefaciens_gca_002157365\n"
          ]
        },
        {
          "output_type": "stream",
          "name": "stderr",
          "text": [
            "ERROR:cobra.io.sbml:'' is not a valid SBML 'SId'.\n"
          ]
        },
        {
          "output_type": "stream",
          "name": "stdout",
          "text": [
            "24_shewanella_putrefaciens_gca_003315425\n"
          ]
        },
        {
          "output_type": "stream",
          "name": "stderr",
          "text": [
            "ERROR:cobra.io.sbml:'' is not a valid SBML 'SId'.\n"
          ]
        },
        {
          "output_type": "stream",
          "name": "stdout",
          "text": [
            "24_shewanella_putrefaciens_gca_900457045\n"
          ]
        },
        {
          "output_type": "stream",
          "name": "stderr",
          "text": [
            "ERROR:cobra.io.sbml:'' is not a valid SBML 'SId'.\n"
          ]
        },
        {
          "output_type": "stream",
          "name": "stdout",
          "text": [
            "24_shewanella_putrefaciens_gca_900457125\n"
          ]
        },
        {
          "output_type": "stream",
          "name": "stderr",
          "text": [
            "ERROR:cobra.io.sbml:'' is not a valid SBML 'SId'.\n"
          ]
        },
        {
          "output_type": "stream",
          "name": "stdout",
          "text": [
            "24_shewanella_putrefaciens_gca_900636665\n"
          ]
        },
        {
          "output_type": "stream",
          "name": "stderr",
          "text": [
            "ERROR:cobra.io.sbml:'' is not a valid SBML 'SId'.\n"
          ]
        },
        {
          "output_type": "stream",
          "name": "stdout",
          "text": [
            "24_shewanella_putrefaciens_gca_900636855\n"
          ]
        },
        {
          "output_type": "stream",
          "name": "stderr",
          "text": [
            "ERROR:cobra.io.sbml:'' is not a valid SBML 'SId'.\n"
          ]
        },
        {
          "output_type": "stream",
          "name": "stdout",
          "text": [
            "425104_shewanella_sediminis_haw_eb3_gca_000018025\n"
          ]
        },
        {
          "output_type": "stream",
          "name": "stderr",
          "text": [
            "ERROR:cobra.io.sbml:'' is not a valid SBML 'SId'.\n"
          ]
        },
        {
          "output_type": "stream",
          "name": "stdout",
          "text": [
            "1880834_shewanella_sp_10n_286_48_b5_gca_002874355\n"
          ]
        },
        {
          "output_type": "stream",
          "name": "stderr",
          "text": [
            "ERROR:cobra.io.sbml:'' is not a valid SBML 'SId'.\n"
          ]
        },
        {
          "output_type": "stream",
          "name": "stdout",
          "text": [
            "1880836_shewanella_sp_10n_286_51_b7_gca_002873615\n"
          ]
        },
        {
          "output_type": "stream",
          "name": "stderr",
          "text": [
            "ERROR:cobra.io.sbml:'' is not a valid SBML 'SId'.\n"
          ]
        },
        {
          "output_type": "stream",
          "name": "stdout",
          "text": [
            "2058330_shewanella_sp_ald9_gca_002836315\n"
          ]
        },
        {
          "output_type": "stream",
          "name": "stderr",
          "text": [
            "ERROR:cobra.io.sbml:'' is not a valid SBML 'SId'.\n"
          ]
        },
        {
          "output_type": "stream",
          "name": "stdout",
          "text": [
            "94122_shewanella_sp_ana_3_gca_000203935\n"
          ]
        },
        {
          "output_type": "stream",
          "name": "stderr",
          "text": [
            "ERROR:cobra.io.sbml:'' is not a valid SBML 'SId'.\n"
          ]
        },
        {
          "output_type": "stream",
          "name": "stdout",
          "text": [
            "1975537_shewanella_sp_cg12_big_fil_rev_8_21_14_0_65_47_15_gca_002783505\n"
          ]
        },
        {
          "output_type": "stream",
          "name": "stderr",
          "text": [
            "ERROR:cobra.io.sbml:'' is not a valid SBML 'SId'.\n"
          ]
        },
        {
          "output_type": "stream",
          "name": "stdout",
          "text": [
            "1975535_shewanella_sp_cg_4_10_14_3_um_filter_42_91_gca_002783895\n"
          ]
        },
        {
          "output_type": "stream",
          "name": "stderr",
          "text": [
            "ERROR:cobra.io.sbml:'' is not a valid SBML 'SId'.\n"
          ]
        },
        {
          "output_type": "stream",
          "name": "stdout",
          "text": [
            "1521167_shewanella_sp_cp20_gca_000832025\n"
          ]
        },
        {
          "output_type": "stream",
          "name": "stderr",
          "text": [
            "ERROR:cobra.io.sbml:'' is not a valid SBML 'SId'.\n"
          ]
        },
        {
          "output_type": "stream",
          "name": "stdout",
          "text": [
            "1930557_shewanella_sp_fdaargos_354_gca_002209245\n"
          ]
        },
        {
          "output_type": "stream",
          "name": "stderr",
          "text": [
            "ERROR:cobra.io.sbml:'' is not a valid SBML 'SId'.\n"
          ]
        },
        {
          "output_type": "stream",
          "name": "stdout",
          "text": [
            "2058316_shewanella_sp_gutdb_meldb_gca_002836075\n"
          ]
        },
        {
          "output_type": "stream",
          "name": "stderr",
          "text": [
            "ERROR:cobra.io.sbml:'' is not a valid SBML 'SId'.\n"
          ]
        },
        {
          "output_type": "stream",
          "name": "stdout",
          "text": [
            "327275_shewanella_sp_hn_41_gca_000217915\n"
          ]
        },
        {
          "output_type": "stream",
          "name": "stderr",
          "text": [
            "ERROR:cobra.io.sbml:'' is not a valid SBML 'SId'.\n"
          ]
        },
        {
          "output_type": "stream",
          "name": "stdout",
          "text": [
            "60481_shewanella_sp_mr_7_gca_000014665\n"
          ]
        },
        {
          "output_type": "stream",
          "name": "stderr",
          "text": [
            "ERROR:cobra.io.sbml:'' is not a valid SBML 'SId'.\n"
          ]
        },
        {
          "output_type": "stream",
          "name": "stdout",
          "text": [
            "2054186_shewanella_sp_opt22_gca_004168585\n"
          ]
        },
        {
          "output_type": "stream",
          "name": "stderr",
          "text": [
            "ERROR:cobra.io.sbml:'' is not a valid SBML 'SId'.\n"
          ]
        },
        {
          "output_type": "stream",
          "name": "stdout",
          "text": [
            "1723761_shewanella_sp_p1_14_1_gca_001401775\n"
          ]
        },
        {
          "output_type": "stream",
          "name": "stderr",
          "text": [
            "ERROR:cobra.io.sbml:'' is not a valid SBML 'SId'.\n"
          ]
        },
        {
          "output_type": "stream",
          "name": "stdout",
          "text": [
            "2059264_shewanella_sp_pdp11_gca_002838165\n"
          ]
        },
        {
          "output_type": "stream",
          "name": "stderr",
          "text": [
            "ERROR:cobra.io.sbml:'' is not a valid SBML 'SId'.\n"
          ]
        },
        {
          "output_type": "stream",
          "name": "stdout",
          "text": [
            "2029986_shewanella_sp_we21_gca_002966515\n"
          ]
        },
        {
          "output_type": "stream",
          "name": "stderr",
          "text": [
            "ERROR:cobra.io.sbml:'' is not a valid SBML 'SId'.\n"
          ]
        },
        {
          "output_type": "stream",
          "name": "stdout",
          "text": [
            "637905_shewanella_violacea_dss12_gca_000091325\n"
          ]
        },
        {
          "output_type": "stream",
          "name": "stderr",
          "text": [
            "ERROR:cobra.io.sbml:'' is not a valid SBML 'SId'.\n"
          ]
        },
        {
          "output_type": "stream",
          "name": "stdout",
          "text": [
            "392500_shewanella_woodyi_atcc_51908_gca_000019525\n"
          ]
        },
        {
          "output_type": "stream",
          "name": "stderr",
          "text": [
            "ERROR:cobra.io.sbml:'' is not a valid SBML 'SId'.\n"
          ]
        },
        {
          "output_type": "stream",
          "name": "stdout",
          "text": [
            "332186_shewanella_xiamenensis_gca_001723195\n"
          ]
        },
        {
          "output_type": "stream",
          "name": "stderr",
          "text": [
            "ERROR:cobra.io.sbml:'' is not a valid SBML 'SId'.\n"
          ]
        }
      ]
    },
    {
      "cell_type": "markdown",
      "metadata": {
        "id": "TQde0hb4RO-O"
      },
      "source": [
        "## Training the Neural Network\n",
        "\n",
        "Now that we have prepared the training data, we can start training the network. During training the network will generate the feature by randomly deleting reactions from the input data and then try to predict the missing reactions.\n",
        "\n",
        "We do this using the train function of the `NN_Trainer` class. This function will return a object of the predictor class (`NN_predictor`) containing the network, the reaction keys and modeltype. If a `output_path` is provided, it will also save it as a npz file.\n"
      ]
    },
    {
      "cell_type": "code",
      "execution_count": null,
      "metadata": {
        "id": "kzp48PRVRO-O"
      },
      "outputs": [],
      "source": [
        "#Load in a our training sample\n",
        "training_data_path = '/files/one_per_phylum_training_data.csv'\n",
        "training_data = pd.read_csv(training_data_path, index_col=0)\n",
        "\n",
        "#set save path\n",
        "save_path = '/files/NN_phylum.npz'\n",
        "\n",
        "#Train the network\n",
        "NN_example = NN_Trainer.train(data=training_data, modeltype='ModelSEED',output_path=save_path)\n",
        "\n",
        "print(\"The weights of the first layer of the network: \\n{}\".format(NN_example.network[0][0]))\n",
        "print(\"The rxn_keys: \\n{}\".format(NN_example.rxn_keys.values))\n",
        "print(\"The Modeltype: {}\".format(NN_example.modeltype))"
      ]
    },
    {
      "cell_type": "markdown",
      "metadata": {
        "id": "ThBNDvT9RO-P"
      },
      "source": [
        " By default the network in the NN_predictor is not a full tensorflow object but rather an array of the weights and biases of the different layers. It can still be used to make predictions while being less memory intensive by using matrix multiplication:\n",
        "\n",
        "        a = input\n",
        "        for layer in self.network:\n",
        "            a = a.clip(0)\n",
        "            a = ((a @ layer[0]) + layer[1])\n",
        "        prediction =  1 / (1 + np.exp(-a))#sigmoid(a)\n",
        "        \n",
        "Which is build into the NN_Predictor class."
      ]
    },
    {
      "cell_type": "markdown",
      "source": [
        "### Challenge:\n",
        "Train a neural network specialised for the Shawanella genus.\n",
        "\n",
        " (Note: I have provided a full training dataset of all Shawanella models as `shewanella_training_dataset.csv`)"
      ],
      "metadata": {
        "id": "2lXw0LJ3_qdX"
      }
    },
    {
      "cell_type": "code",
      "source": [
        "# @title Solution\n",
        "#Load in a our training sample\n",
        "shewanella_training_data_path = 'one_per_phylum_training_data.csv'\n",
        "shewanella_training_data = pd.read_csv(training_data_path, index_col=0)\n",
        "\n",
        "#set save path\n",
        "save_path = 'NN_shewanella.npz'\n",
        "\n",
        "#Train the network\n",
        "NN_shewanella = NN_Trainer.train(data=shewanella_training_data, modeltype='ModelSEED',output_path=save_path)"
      ],
      "metadata": {
        "cellView": "form",
        "id": "3Iasf2mWGZYR"
      },
      "execution_count": null,
      "outputs": []
    },
    {
      "cell_type": "markdown",
      "source": [
        "## Making predictions\n",
        "\n",
        "As expected we can now use the network to make predictions directly using the predict funciton or have the gapfiller use the new network to gapfill models using the `trainedNNPath` argument from the gapfill class"
      ],
      "metadata": {
        "id": "ogXUGoRIq6mK"
      }
    },
    {
      "cell_type": "code",
      "execution_count": null,
      "metadata": {
        "id": "PdDyXp8pRO-S",
        "outputId": "f760e547-8eeb-4ddf-e889-b202a6194f44",
        "colab": {
          "base_uri": "https://localhost:8080/",
          "height": 465
        }
      },
      "outputs": [
        {
          "output_type": "stream",
          "name": "stdout",
          "text": [
            "#reactions not found in NN-keys:  65 / 726\n"
          ]
        },
        {
          "output_type": "execute_result",
          "data": {
            "text/plain": [
              "<Axes: >"
            ]
          },
          "metadata": {},
          "execution_count": 17
        },
        {
          "output_type": "display_data",
          "data": {
            "text/plain": [
              "<Figure size 640x480 with 1 Axes>"
            ],
            "image/png": "[encoded data removed]"
          },
          "metadata": {}
        }
      ],
      "source": [
        "path_to_draft_model = '/files/models/Bifidobacterium adolescentis_atcc_15703.sbml'\n",
        "draft_model = read_sbml_model(path_to_draft_model)\n",
        "p = NN_example.predict(draft_model)\n",
        "pd.Series(p).hist()\n",
        "gapfill_model_custom_nn = Gapfill(draftModel = path_to_draft_model, objectiveName = 'bio1', trainedNNPath='../files/NN_phylum.npz')\n"
      ]
    },
    {
      "cell_type": "markdown",
      "source": [
        "### Challenge:\n",
        "\n",
        "Use your newly trained network to gapfill any of the Shawanella models."
      ],
      "metadata": {
        "id": "vs9g5wLDbdAW"
      }
    },
    {
      "cell_type": "code",
      "source": [
        "# @title Solution\n",
        "path_to_draft_model = '../files/models/shawanella_models/1129374_alishewanella_jeotgali_kctc_22429_gca_000245735.sbml'\n",
        "gapfill_model_shewanella = Gapfill(draftModel = path_to_draft_model, objectiveName = 'bio1', trainedNNPath='NN_shewanella.npz')\n"
      ],
      "metadata": {
        "id": "wxBnG-dMbaN9",
        "cellView": "form"
      },
      "execution_count": null,
      "outputs": []
    },
    {
      "cell_type": "markdown",
      "metadata": {
        "id": "ro8nhzIQRO-S"
      },
      "source": [
        "# For the interested: Changing feature generation parameters\n",
        "\n",
        "Basically you now know how to train networks but there are many additional changes you want to make during training.\n",
        "\n",
        "During training the `generate_feature` function will automatically generate the training dataset. You can change several parameters for the generation of the feature:\n",
        "\n",
        "1. You can change the number of times each training model is used (nuplo, default=30).\n",
        "2. You can change the range of deletion percentages (min_for and max_for, default = 0.05 and 0.3), which will be removed in equal sized steps based on the number of replicates.\n",
        "3. You can weigh the deletion of certain reactions (del_p, default=None).\n",
        "4. You can also add false reactions (min_con and max_con) during training and change the weights of addition (con_p)*\n",
        "\n",
        "*Note: we do not currently use this for dnngior as it would not work with the masking of input reactions as the mask does not differentiate between contamination and real reactions.\n",
        "\n",
        "In the following example we set nuplo to 300 instead of 30, and we vary deletion between 0.2 and 0.5.\n",
        "\n",
        "`custom_feature = NN_Trainer.generate_feature(training_data, nuplo=300, min_for = 0.2, max_for = 0.5)`\n",
        "\n",
        "For convenience you can give the parameters to the train function and they will be passed on.\n",
        "\n",
        "`network = NN_Trainer.train(data=training_data, nuplo=300, min_for=0.2, max_for=0.5, modeltype='ModelSEED',save=False)`"
      ]
    },
    {
      "cell_type": "markdown",
      "source": [
        "### Challenge\n",
        "\n",
        "Train a neural network where the deletions are weighed by the frequency of the reaction"
      ],
      "metadata": {
        "id": "fuYPGYu_cZL4"
      }
    },
    {
      "cell_type": "code",
      "source": [
        "# @title Solution\n",
        "frequency = training_data.sum(axis=1)\n",
        "NN_Trainer(training_data, del_p = frequency)"
      ],
      "metadata": {
        "cellView": "form",
        "id": "XNMNp-34FpGx"
      },
      "execution_count": null,
      "outputs": []
    },
    {
      "cell_type": "markdown",
      "source": [
        "# For the interested: Changing network parameters"
      ],
      "metadata": {
        "id": "auy5YVuNdjpQ"
      }
    },
    {
      "cell_type": "markdown",
      "metadata": {
        "id": "LKx7GkUuRO-U"
      },
      "source": [
        "Finally, you can rely on the default parameters to define the network which we optimised for our usecase, but for optimal perfomance on different datasets, you might want to change the hyperparameters (dropout, batch size), the architecture (nnodes, nlayers) or bias of predicted classes (bias0). You can also disable the masking of input positions during loss calculation (maskI=False).\n",
        "\n",
        "You can also provide a validation split which will set apart a part of your input data during training and calculate scores after to validate your network."
      ]
    },
    {
      "cell_type": "markdown",
      "source": [
        "###Challenge:\n",
        "\n",
        "Train a network that can predict contamination instead of omissions."
      ],
      "metadata": {
        "id": "KotDYkOaamzO"
      }
    },
    {
      "cell_type": "code",
      "source": [
        "# @title Solution\n",
        "network = NN_Trainer.train(data=training_data, maskI=False, min_con = 0.05, max_con=0.55, modeltype='ModelSEED',save=False)"
      ],
      "metadata": {
        "cellView": "form",
        "id": "90iWNlPkRrfI"
      },
      "execution_count": null,
      "outputs": []
    },
    {
      "cell_type": "markdown",
      "metadata": {
        "id": "jNTwOnxfRO-V"
      },
      "source": [
        "# For the extra interested: Tensorflow object\n",
        "\n",
        "By default the function returns a class with the simplified network but you very well might want instead the full Tensorflow network. To do this you can set return_full_network = True, which will change the NN_predictor to contain a Tensorflow network instead, there modeltype and rxn keys work the same. If you want to save this different class you need to change the file extension to .h5.\n",
        "\n",
        "If you set return_history = True it will also return the history of training for optimisation purposes."
      ]
    },
    {
      "cell_type": "code",
      "execution_count": null,
      "metadata": {
        "id": "p0e0PPlaRO-V"
      },
      "outputs": [],
      "source": [
        "save_path = os.path.join('files', 'NN_phylum.h5')\n",
        "NN_tensorflow, history = NN_Trainer.train(data=training_data, return_full_network=True, modeltype='ModelSEED', output_path=save_path, return_history=True)"
      ]
    },
    {
      "cell_type": "markdown",
      "metadata": {
        "id": "LQS12HxyRO-V"
      },
      "source": [
        "The main reason we dont use the full network is to save space and time, we can see that the tensorflow object is four times the size"
      ]
    },
    {
      "cell_type": "code",
      "execution_count": null,
      "metadata": {
        "id": "TPRXTLiYRO-W",
        "outputId": "2c9b9a91-566b-48d3-d457-cc31da49ff13"
      },
      "outputs": [
        {
          "name": "stdout",
          "output_type": "stream",
          "text": [
            "-rw-r--r-- 1 meine binf  16M Feb 28 16:52 NN_phylum.h5\n",
            "-rw-r--r-- 1 meine binf 4.0M Feb 28 16:44 NN_phylum.npz\n"
          ]
        }
      ],
      "source": [
        "!ls files/NN_phylum* -lh"
      ]
    },
    {
      "cell_type": "code",
      "execution_count": null,
      "metadata": {
        "id": "g7MbfnoyRO-W"
      },
      "outputs": [],
      "source": [
        "print(\"The summary of the network: \\n{}\".format(NN_tensorflow.network.summary()))\n",
        "print(\"The rxn_keys: \\n{}\".format(NN_tensorflow.rxn_keys))\n",
        "print(\"The Modeltype: {}\".format(NN_example.modeltype))"
      ]
    },
    {
      "cell_type": "markdown",
      "metadata": {
        "id": "DX8JSySuRO-X"
      },
      "source": [
        "With the history you can do whatever you want, for example plot the loss function over the epochs."
      ]
    },
    {
      "cell_type": "code",
      "execution_count": null,
      "metadata": {
        "id": "-YHIgjvVRO-Y",
        "outputId": "87d5164c-2a28-4fa3-abd1-2d627b19e064"
      },
      "outputs": [
        {
          "data": {
            "text/plain": [
              "[<matplotlib.lines.Line2D at 0x7a735a32fd30>]"
            ]
          },
          "execution_count": 15,
          "metadata": {},
          "output_type": "execute_result"
        },
        {
          "data": {
            "image/png": "[encoded data removed]",
            "text/plain": [
              "<Figure size 640x480 with 1 Axes>"
            ]
          },
          "metadata": {},
          "output_type": "display_data"
        }
      ],
      "source": [
        "import matplotlib.pyplot as plt\n",
        "plt.plot(history.history['loss'])"
      ]
    },
    {
      "cell_type": "markdown",
      "metadata": {
        "id": "439rcoTzRO-T"
      },
      "source": [
        "By default the network will asume that your input (the data without deletions) should be what the network tries to predict. Alternatively, you can provide labels (the full set of reactions) for the network to try and predict. The following is a slightly convoluted way to have the network only predict missing reactions and have it predict reactions already present as 0."
      ]
    },
    {
      "cell_type": "code",
      "source": [
        "manual_feature = NN_Trainer.generate_feature(training_data.T, nuplo=30, min_con=0, max_con=0, min_for = 0.05, max_for = 0.3, del_p = None, con_p = None)\n",
        "manual_training_data = pd.DataFrame(columns = training_data.index, data=manual_feature)\n",
        "manual_labels = 1 - manual_feature\n",
        "\n",
        "network = NN_Trainer.train(data=manual_training_data, rxn_keys=training_data.index, labels=manual_labels, maskI=False, min_for=0.0, max_for=0.0, modeltype='ModelSEED',save=False)"
      ],
      "metadata": {
        "id": "cVMSl-TOdg-s"
      },
      "execution_count": null,
      "outputs": []
    }
  ],
  "metadata": {
    "colab": {
      "provenance": [],
      "include_colab_link": true
    },
    "kernelspec": {
      "display_name": "Python 3",
      "name": "python3"
    },
    "language_info": {
      "name": "python"
    }
  },
  "nbformat": 4,
  "nbformat_minor": 0
}