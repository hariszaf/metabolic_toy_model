{
  "cells": [
    {
      "cell_type": "markdown",
      "metadata": {
        "id": "view-in-github",
        "colab_type": "text"
      },
      "source": [
        "<a href=\"https://colab.research.google.com/github/hariszaf/metabolic_toy_model/blob/main/Antony2025/DNNGIORtraining.ipynb\" target=\"_parent\"><img src=\"https://colab.research.google.com/assets/colab-badge.svg\" alt=\"Open In Colab\"/></a>"
      ]
    },
    {
      "cell_type": "markdown",
      "metadata": {
        "id": "T8LbxwOozGpm"
      },
      "source": [
        "# **Use DNNGIOR On Your Own Training Set**"
      ]
    },
    {
      "cell_type": "markdown",
      "metadata": {
        "id": "ENxQLuszRO-G"
      },
      "source": [
        "Installing Tensorflow"
      ]
    },
    {
      "cell_type": "code",
      "execution_count": null,
      "metadata": {
        "id": "yFdjDJOdRO-H"
      },
      "outputs": [],
      "source": [
        "# !pip install tensorflow==2.12"
      ]
    },
    {
      "cell_type": "code",
      "source": [
        "from google.colab import drive\n",
        "drive.mount('/content/drive')"
      ],
      "metadata": {
        "id": "p85zkeBCSSqU",
        "outputId": "cbfc5883-b794-49ca-e7da-5af928d833da",
        "colab": {
          "base_uri": "https://localhost:8080/"
        }
      },
      "execution_count": 11,
      "outputs": [
        {
          "output_type": "stream",
          "name": "stdout",
          "text": [
            "Mounted at /content/drive\n"
          ]
        }
      ]
    },
    {
      "cell_type": "code",
      "execution_count": 8,
      "metadata": {
        "id": "S9mWE7fWRO-I",
        "outputId": "e4eca1c7-c81f-4c3b-e957-49f3485fd0bd",
        "colab": {
          "base_uri": "https://localhost:8080/"
        }
      },
      "outputs": [
        {
          "output_type": "stream",
          "name": "stdout",
          "text": [
            "Requirement already satisfied: cobra==0.29 in /usr/local/lib/python3.11/dist-packages (0.29.0)\n",
            "Requirement already satisfied: appdirs~=1.4 in /usr/local/lib/python3.11/dist-packages (from cobra==0.29) (1.4.4)\n",
            "Requirement already satisfied: depinfo~=2.2 in /usr/local/lib/python3.11/dist-packages (from cobra==0.29) (2.2.0)\n",
            "Requirement already satisfied: diskcache~=5.0 in /usr/local/lib/python3.11/dist-packages (from cobra==0.29) (5.6.3)\n",
            "Requirement already satisfied: future in /usr/local/lib/python3.11/dist-packages (from cobra==0.29) (1.0.0)\n",
            "Requirement already satisfied: httpx~=0.24 in /usr/local/lib/python3.11/dist-packages (from cobra==0.29) (0.28.1)\n",
            "Requirement already satisfied: importlib-resources in /usr/local/lib/python3.11/dist-packages (from cobra==0.29) (6.5.2)\n",
            "Requirement already satisfied: numpy>=1.13 in /usr/local/lib/python3.11/dist-packages (from cobra==0.29) (1.26.4)\n",
            "Requirement already satisfied: optlang~=1.8 in /usr/local/lib/python3.11/dist-packages (from cobra==0.29) (1.8.3)\n",
            "Requirement already satisfied: pandas<3.0,>=1.0 in /usr/local/lib/python3.11/dist-packages (from cobra==0.29) (2.2.2)\n",
            "Requirement already satisfied: pydantic>=1.6 in /usr/local/lib/python3.11/dist-packages (from cobra==0.29) (2.10.6)\n",
            "Requirement already satisfied: python-libsbml~=5.19 in /usr/local/lib/python3.11/dist-packages (from cobra==0.29) (5.20.4)\n",
            "Requirement already satisfied: rich>=8.0 in /usr/local/lib/python3.11/dist-packages (from cobra==0.29) (13.9.4)\n",
            "Requirement already satisfied: ruamel.yaml~=0.16 in /usr/local/lib/python3.11/dist-packages (from cobra==0.29) (0.18.10)\n",
            "Requirement already satisfied: swiglpk in /usr/local/lib/python3.11/dist-packages (from cobra==0.29) (5.0.12)\n",
            "Requirement already satisfied: anyio in /usr/local/lib/python3.11/dist-packages (from httpx~=0.24->cobra==0.29) (3.7.1)\n",
            "Requirement already satisfied: certifi in /usr/local/lib/python3.11/dist-packages (from httpx~=0.24->cobra==0.29) (2025.1.31)\n",
            "Requirement already satisfied: httpcore==1.* in /usr/local/lib/python3.11/dist-packages (from httpx~=0.24->cobra==0.29) (1.0.7)\n",
            "Requirement already satisfied: idna in /usr/local/lib/python3.11/dist-packages (from httpx~=0.24->cobra==0.29) (3.10)\n",
            "Requirement already satisfied: h11<0.15,>=0.13 in /usr/local/lib/python3.11/dist-packages (from httpcore==1.*->httpx~=0.24->cobra==0.29) (0.14.0)\n",
            "Requirement already satisfied: sympy>=1.12.0 in /usr/local/lib/python3.11/dist-packages (from optlang~=1.8->cobra==0.29) (1.13.1)\n",
            "Requirement already satisfied: python-dateutil>=2.8.2 in /usr/local/lib/python3.11/dist-packages (from pandas<3.0,>=1.0->cobra==0.29) (2.8.2)\n",
            "Requirement already satisfied: pytz>=2020.1 in /usr/local/lib/python3.11/dist-packages (from pandas<3.0,>=1.0->cobra==0.29) (2025.1)\n",
            "Requirement already satisfied: tzdata>=2022.7 in /usr/local/lib/python3.11/dist-packages (from pandas<3.0,>=1.0->cobra==0.29) (2025.1)\n",
            "Requirement already satisfied: annotated-types>=0.6.0 in /usr/local/lib/python3.11/dist-packages (from pydantic>=1.6->cobra==0.29) (0.7.0)\n",
            "Requirement already satisfied: pydantic-core==2.27.2 in /usr/local/lib/python3.11/dist-packages (from pydantic>=1.6->cobra==0.29) (2.27.2)\n",
            "Requirement already satisfied: typing-extensions>=4.12.2 in /usr/local/lib/python3.11/dist-packages (from pydantic>=1.6->cobra==0.29) (4.12.2)\n",
            "Requirement already satisfied: markdown-it-py>=2.2.0 in /usr/local/lib/python3.11/dist-packages (from rich>=8.0->cobra==0.29) (3.0.0)\n",
            "Requirement already satisfied: pygments<3.0.0,>=2.13.0 in /usr/local/lib/python3.11/dist-packages (from rich>=8.0->cobra==0.29) (2.18.0)\n",
            "Requirement already satisfied: ruamel.yaml.clib>=0.2.7 in /usr/local/lib/python3.11/dist-packages (from ruamel.yaml~=0.16->cobra==0.29) (0.2.12)\n",
            "Requirement already satisfied: mdurl~=0.1 in /usr/local/lib/python3.11/dist-packages (from markdown-it-py>=2.2.0->rich>=8.0->cobra==0.29) (0.1.2)\n",
            "Requirement already satisfied: six>=1.5 in /usr/local/lib/python3.11/dist-packages (from python-dateutil>=2.8.2->pandas<3.0,>=1.0->cobra==0.29) (1.17.0)\n",
            "Requirement already satisfied: mpmath<1.4,>=1.1.0 in /usr/local/lib/python3.11/dist-packages (from sympy>=1.12.0->optlang~=1.8->cobra==0.29) (1.3.0)\n",
            "Requirement already satisfied: sniffio>=1.1 in /usr/local/lib/python3.11/dist-packages (from anyio->httpx~=0.24->cobra==0.29) (1.3.1)\n",
            "Requirement already satisfied: dnngior in /usr/local/lib/python3.11/dist-packages (0.0.5)\n",
            "Collecting gurobipy\n",
            "  Downloading gurobipy-12.0.1-cp311-cp311-manylinux2014_x86_64.manylinux_2_17_x86_64.whl.metadata (16 kB)\n",
            "Downloading gurobipy-12.0.1-cp311-cp311-manylinux2014_x86_64.manylinux_2_17_x86_64.whl (14.4 MB)\n",
            "\u001b[2K   \u001b[90m━━━━━━━━━━━━━━━━━━━━━━━━━━━━━━━━━━━━━━━━\u001b[0m \u001b[32m14.4/14.4 MB\u001b[0m \u001b[31m89.7 MB/s\u001b[0m eta \u001b[36m0:00:00\u001b[0m\n",
            "\u001b[?25hInstalling collected packages: gurobipy\n",
            "\u001b[31mERROR: pip's dependency resolver does not currently take into account all the packages that are installed. This behaviour is the source of the following dependency conflicts.\n",
            "dnngior 0.0.5 requires cobra<=0.23.0, but you have cobra 0.29.0 which is incompatible.\n",
            "dnngior 0.0.5 requires gurobipy<11.0.0,>=10.0.1, but you have gurobipy 12.0.1 which is incompatible.\u001b[0m\u001b[31m\n",
            "\u001b[0mSuccessfully installed gurobipy-12.0.1\n"
          ]
        }
      ],
      "source": [
        "!pip install cobra==0.29\n",
        "!pip install dnngior --no-deps\n",
        "!pip install gurobipy"
      ]
    },
    {
      "cell_type": "markdown",
      "metadata": {
        "id": "cxlLifb0RO-J"
      },
      "source": [
        "Load dependecies"
      ]
    },
    {
      "cell_type": "code",
      "execution_count": 9,
      "metadata": {
        "id": "sNT_SUqwRO-J",
        "outputId": "7475c7f0-1c57-44de-c144-b1ffd5f22c65",
        "colab": {
          "base_uri": "https://localhost:8080/"
        }
      },
      "outputs": [
        {
          "output_type": "stream",
          "name": "stdout",
          "text": [
            "WARNING: To enable the NN_Trainer script, you need to install tensorflow <https://www.tensorflow.org/install>\n",
            "The rest of dnngior features can be used without it.\n"
          ]
        }
      ],
      "source": [
        "import numpy as np\n",
        "import pandas as pd\n",
        "import os\n",
        "import sys\n",
        "from pathlib import Path\n",
        "from dnngior import NN_Trainer\n",
        "from dnngior import NN_Predictor\n",
        "from dnngior import Gapfill\n",
        "from dnngior.reaction_class import Reaction as rc\n",
        "import tensorflow as tf\n",
        "\n",
        "from cobra.io import read_sbml_model\n"
      ]
    },
    {
      "cell_type": "markdown",
      "metadata": {
        "id": "tXPz08uLRO-K"
      },
      "source": [
        "### Generating reaction presence dataframe\n",
        "\n",
        "The DNNGIOR neural network is trained on one-per-species draft models, learning the coocurences of reactions encoded by the genomes. If we want to  prepare our own training data we need to take a set of draft models and determine the reactions present. This means that we need to generate a binary array encoding which models have which reactions. We need a list of all possible reactions found in your training data, which will serve as the reaction keys, and the rows in our dataset. There are actually a lot of ways to do this, this is just what I did. As loading the models take relatively long, we will also keep track of the reactions in model_reaction_dic.\n",
        "\n",
        "Example:\n",
        "\n",
        "```\n",
        "model_reaction_dic = {}\n",
        "rxn = []\n",
        "for file_path, model_id in zip(paths,model_ids):\n",
        "    print(model_id)\n",
        "    model = rc(model = os.path.join(model_path, file_path))\n",
        "    rs = set(model.reactions)\n",
        "    model_reaction_dic[model_id]=rs\n",
        "    \n",
        "    #generate a list of all possible reactions\n",
        "    for i in list(rs):\n",
        "         if i not in rxn and not i.startswith('EX_'):\n",
        "             rxn.append(i)\n",
        "```\n",
        "\n",
        " We can then determine for every draft training models which of these reactions are present and create a binary list of reactions presences. We will end up with a binary array with as rows the different reactions and as columns all models in the training dataset.\n",
        "\n",
        " ```\n",
        "reaction_df=pd.DataFrame(index=rxn, columns=model_ids)\n",
        "\n",
        "for key, value in model_reaction_dic.items():\n",
        "    a = []\n",
        "    for i in rxn:\n",
        "        if i in value:\n",
        "            a.append(1)\n",
        "        else:\n",
        "            a.append(0)\n",
        "    reaction_df[key]=a\n",
        "\n",
        " ```\n",
        "\n",
        "For this tutorial, we will use the reaction class from dnngior but you can use any module to load metabolic models or extract the reaction sets in another way, the key is to end up with a binary array of reaction presences."
      ]
    },
    {
      "cell_type": "code",
      "execution_count": 14,
      "metadata": {
        "id": "_YEinX7IRO-L",
        "outputId": "9dbab615-f6fd-4082-e0d8-8b16319742d8",
        "colab": {
          "base_uri": "https://localhost:8080/"
        }
      },
      "outputs": [
        {
          "output_type": "stream",
          "name": "stdout",
          "text": [
            "Candidatus Cloacimonadota\n"
          ]
        },
        {
          "output_type": "stream",
          "name": "stderr",
          "text": [
            "ERROR:cobra.io.sbml:'' is not a valid SBML 'SId'.\n"
          ]
        },
        {
          "output_type": "stream",
          "name": "stdout",
          "text": [
            "Candidatus Rokuibacteriota\n"
          ]
        },
        {
          "output_type": "stream",
          "name": "stderr",
          "text": [
            "ERROR:cobra.io.sbml:'' is not a valid SBML 'SId'.\n"
          ]
        },
        {
          "output_type": "stream",
          "name": "stdout",
          "text": [
            "Nitrososphaerota\n",
            "Candidatus Magasanikiibacteriota\n"
          ]
        },
        {
          "output_type": "stream",
          "name": "stderr",
          "text": [
            "ERROR:cobra.io.sbml:'' is not a valid SBML 'SId'.\n"
          ]
        },
        {
          "output_type": "stream",
          "name": "stdout",
          "text": [
            "Candidatus Diapherotrites\n"
          ]
        },
        {
          "output_type": "stream",
          "name": "stderr",
          "text": [
            "ERROR:cobra.io.sbml:'' is not a valid SBML 'SId'.\n"
          ]
        },
        {
          "output_type": "stream",
          "name": "stdout",
          "text": [
            "Candidatus Uhrbacteria\n"
          ]
        },
        {
          "output_type": "stream",
          "name": "stderr",
          "text": [
            "ERROR:cobra.io.sbml:'' is not a valid SBML 'SId'.\n"
          ]
        },
        {
          "output_type": "stream",
          "name": "stdout",
          "text": [
            "Candidatus Odinarchaeota\n"
          ]
        },
        {
          "output_type": "stream",
          "name": "stderr",
          "text": [
            "ERROR:cobra.io.sbml:'' is not a valid SBML 'SId'.\n"
          ]
        },
        {
          "output_type": "stream",
          "name": "stdout",
          "text": [
            "Candidatus Hadarchaeota\n"
          ]
        },
        {
          "output_type": "stream",
          "name": "stderr",
          "text": [
            "ERROR:cobra.io.sbml:'' is not a valid SBML 'SId'.\n"
          ]
        },
        {
          "output_type": "stream",
          "name": "stdout",
          "text": [
            "Thermomicrobiota\n",
            "Lentisphaerota\n",
            "Candidatus Micrarchaeota\n"
          ]
        },
        {
          "output_type": "stream",
          "name": "stderr",
          "text": [
            "ERROR:cobra.io.sbml:'' is not a valid SBML 'SId'.\n"
          ]
        },
        {
          "output_type": "stream",
          "name": "stdout",
          "text": [
            "Candidatus Komeiliibacteriota\n"
          ]
        },
        {
          "output_type": "stream",
          "name": "stderr",
          "text": [
            "ERROR:cobra.io.sbml:'' is not a valid SBML 'SId'.\n"
          ]
        },
        {
          "output_type": "stream",
          "name": "stdout",
          "text": [
            "Candidatus Terryibacteriota\n"
          ]
        },
        {
          "output_type": "stream",
          "name": "stderr",
          "text": [
            "ERROR:cobra.io.sbml:'' is not a valid SBML 'SId'.\n"
          ]
        },
        {
          "output_type": "stream",
          "name": "stdout",
          "text": [
            "Candidatus Heimdallarchaeota\n"
          ]
        },
        {
          "output_type": "stream",
          "name": "stderr",
          "text": [
            "ERROR:cobra.io.sbml:'' is not a valid SBML 'SId'.\n"
          ]
        },
        {
          "output_type": "stream",
          "name": "stdout",
          "text": [
            "Candidatus Hinthialibacterota\n"
          ]
        },
        {
          "output_type": "stream",
          "name": "stderr",
          "text": [
            "ERROR:cobra.io.sbml:'' is not a valid SBML 'SId'.\n"
          ]
        },
        {
          "output_type": "stream",
          "name": "stdout",
          "text": [
            "Candidatus Rifleibacteriota\n"
          ]
        },
        {
          "output_type": "stream",
          "name": "stderr",
          "text": [
            "ERROR:cobra.io.sbml:'' is not a valid SBML 'SId'.\n"
          ]
        },
        {
          "output_type": "stream",
          "name": "stdout",
          "text": [
            "Candidatus Peregrinibacteria\n"
          ]
        },
        {
          "output_type": "stream",
          "name": "stderr",
          "text": [
            "ERROR:cobra.io.sbml:'' is not a valid SBML 'SId'.\n"
          ]
        },
        {
          "output_type": "stream",
          "name": "stdout",
          "text": [
            "Candidatus Bathyarchaeota\n"
          ]
        },
        {
          "output_type": "stream",
          "name": "stderr",
          "text": [
            "ERROR:cobra.io.sbml:'' is not a valid SBML 'SId'.\n"
          ]
        },
        {
          "output_type": "stream",
          "name": "stdout",
          "text": [
            "Candidatus Yanofskyibacteriota\n"
          ]
        },
        {
          "output_type": "stream",
          "name": "stderr",
          "text": [
            "ERROR:cobra.io.sbml:'' is not a valid SBML 'SId'.\n"
          ]
        },
        {
          "output_type": "stream",
          "name": "stdout",
          "text": [
            "Candidatus Neomarinimicrobiota\n"
          ]
        },
        {
          "output_type": "stream",
          "name": "stderr",
          "text": [
            "ERROR:cobra.io.sbml:'' is not a valid SBML 'SId'.\n"
          ]
        },
        {
          "output_type": "stream",
          "name": "stdout",
          "text": [
            "Euryarchaeota\n",
            "Candidatus Aenigmatarchaeota\n"
          ]
        },
        {
          "output_type": "stream",
          "name": "stderr",
          "text": [
            "ERROR:cobra.io.sbml:'' is not a valid SBML 'SId'.\n"
          ]
        },
        {
          "output_type": "stream",
          "name": "stdout",
          "text": [
            "Candidatus Altarchaeota\n"
          ]
        },
        {
          "output_type": "stream",
          "name": "stderr",
          "text": [
            "ERROR:cobra.io.sbml:'' is not a valid SBML 'SId'.\n"
          ]
        },
        {
          "output_type": "stream",
          "name": "stdout",
          "text": [
            "Candidatus Methanomethylicota\n"
          ]
        },
        {
          "output_type": "stream",
          "name": "stderr",
          "text": [
            "ERROR:cobra.io.sbml:'' is not a valid SBML 'SId'.\n"
          ]
        },
        {
          "output_type": "stream",
          "name": "stdout",
          "text": [
            "Candidatus Kerfeldiibacteriota\n"
          ]
        },
        {
          "output_type": "stream",
          "name": "stderr",
          "text": [
            "ERROR:cobra.io.sbml:'' is not a valid SBML 'SId'.\n"
          ]
        },
        {
          "output_type": "stream",
          "name": "stdout",
          "text": [
            "Atribacterota\n",
            "Candidatus Thorarchaeota\n"
          ]
        },
        {
          "output_type": "stream",
          "name": "stderr",
          "text": [
            "ERROR:cobra.io.sbml:'' is not a valid SBML 'SId'.\n"
          ]
        },
        {
          "output_type": "stream",
          "name": "stdout",
          "text": [
            "Candidatus Buchananiibacteriota\n"
          ]
        },
        {
          "output_type": "stream",
          "name": "stderr",
          "text": [
            "ERROR:cobra.io.sbml:'' is not a valid SBML 'SId'.\n"
          ]
        },
        {
          "output_type": "stream",
          "name": "stdout",
          "text": [
            "Nanoarchaeota\n",
            "Candidatus Woesearchaeota\n"
          ]
        },
        {
          "output_type": "stream",
          "name": "stderr",
          "text": [
            "ERROR:cobra.io.sbml:'' is not a valid SBML 'SId'.\n"
          ]
        },
        {
          "output_type": "stream",
          "name": "stdout",
          "text": [
            "Candidatus Saccharibacteria\n"
          ]
        },
        {
          "output_type": "stream",
          "name": "stderr",
          "text": [
            "ERROR:cobra.io.sbml:'' is not a valid SBML 'SId'.\n"
          ]
        },
        {
          "output_type": "stream",
          "name": "stdout",
          "text": [
            "Campylobacterota\n",
            "Candidatus Parvarchaeota\n"
          ]
        },
        {
          "output_type": "stream",
          "name": "stderr",
          "text": [
            "ERROR:cobra.io.sbml:'' is not a valid SBML 'SId'.\n"
          ]
        },
        {
          "output_type": "stream",
          "name": "stdout",
          "text": [
            "Nitrospirota\n",
            "Fusobacteriota\n"
          ]
        },
        {
          "output_type": "stream",
          "name": "stderr",
          "text": [
            "ERROR:cobra.io.sbml:'' is not a valid SBML 'SId'.\n"
          ]
        },
        {
          "output_type": "stream",
          "name": "stdout",
          "text": [
            "Candidatus Margulisiibacteriota\n",
            "Elusimicrobiota\n",
            "Coprothermobacterota\n",
            "Kiritimatiellota\n",
            "Gemmatimonadota\n",
            "Spirochaetota\n",
            "Candidatus Lindowiibacteriota\n"
          ]
        },
        {
          "output_type": "stream",
          "name": "stderr",
          "text": [
            "ERROR:cobra.io.sbml:'' is not a valid SBML 'SId'.\n"
          ]
        },
        {
          "output_type": "stream",
          "name": "stdout",
          "text": [
            "Fibrobacterota\n",
            "Abditibacteriota\n",
            "Balneolota\n",
            "Actinomycetota\n",
            "Candidatus Schekmaniibacteriota\n"
          ]
        },
        {
          "output_type": "stream",
          "name": "stderr",
          "text": [
            "ERROR:cobra.io.sbml:'' is not a valid SBML 'SId'.\n"
          ]
        },
        {
          "output_type": "stream",
          "name": "stdout",
          "text": [
            "Candidatus Methylomirabilota\n"
          ]
        },
        {
          "output_type": "stream",
          "name": "stderr",
          "text": [
            "ERROR:cobra.io.sbml:'' is not a valid SBML 'SId'.\n"
          ]
        },
        {
          "output_type": "stream",
          "name": "stdout",
          "text": [
            "Vulcanimicrobiota\n",
            "Chlamydiota\n",
            "Candidatus Dormiibacterota\n"
          ]
        },
        {
          "output_type": "stream",
          "name": "stderr",
          "text": [
            "ERROR:cobra.io.sbml:'' is not a valid SBML 'SId'.\n"
          ]
        },
        {
          "output_type": "stream",
          "name": "stdout",
          "text": [
            "Candidatus Eiseniibacteriota\n"
          ]
        },
        {
          "output_type": "stream",
          "name": "stderr",
          "text": [
            "ERROR:cobra.io.sbml:'' is not a valid SBML 'SId'.\n"
          ]
        },
        {
          "output_type": "stream",
          "name": "stdout",
          "text": [
            "Candidatus Omnitrophota\n"
          ]
        },
        {
          "output_type": "stream",
          "name": "stderr",
          "text": [
            "ERROR:cobra.io.sbml:'' is not a valid SBML 'SId'.\n"
          ]
        },
        {
          "output_type": "stream",
          "name": "stdout",
          "text": [
            "Candidatus Walliibacteriota\n"
          ]
        },
        {
          "output_type": "stream",
          "name": "stderr",
          "text": [
            "ERROR:cobra.io.sbml:'' is not a valid SBML 'SId'.\n"
          ]
        },
        {
          "output_type": "stream",
          "name": "stdout",
          "text": [
            "Calditrichota\n",
            "Dictyoglomota\n",
            "Pseudomonadota\n",
            "Candidatus Aminicenantota\n"
          ]
        },
        {
          "output_type": "stream",
          "name": "stderr",
          "text": [
            "ERROR:cobra.io.sbml:'' is not a valid SBML 'SId'.\n"
          ]
        },
        {
          "output_type": "stream",
          "name": "stdout",
          "text": [
            "Candidatus Latescibacterota\n"
          ]
        },
        {
          "output_type": "stream",
          "name": "stderr",
          "text": [
            "ERROR:cobra.io.sbml:'' is not a valid SBML 'SId'.\n"
          ]
        },
        {
          "output_type": "stream",
          "name": "stdout",
          "text": [
            "Candidatus Firestoneibacteriota\n"
          ]
        },
        {
          "output_type": "stream",
          "name": "stderr",
          "text": [
            "ERROR:cobra.io.sbml:'' is not a valid SBML 'SId'.\n"
          ]
        },
        {
          "output_type": "stream",
          "name": "stdout",
          "text": [
            "Deferribacterota\n",
            "Candidatus Kryptoniota\n"
          ]
        },
        {
          "output_type": "stream",
          "name": "stderr",
          "text": [
            "ERROR:cobra.io.sbml:'' is not a valid SBML 'SId'.\n"
          ]
        },
        {
          "output_type": "stream",
          "name": "stdout",
          "text": [
            "Bacillota\n",
            "Candidatus Bipolaricaulota\n"
          ]
        },
        {
          "output_type": "stream",
          "name": "stderr",
          "text": [
            "ERROR:cobra.io.sbml:'' is not a valid SBML 'SId'.\n"
          ]
        },
        {
          "output_type": "stream",
          "name": "stdout",
          "text": [
            "Chrysiogenota\n",
            "Candidatus Sumerlaeota\n"
          ]
        },
        {
          "output_type": "stream",
          "name": "stderr",
          "text": [
            "ERROR:cobra.io.sbml:'' is not a valid SBML 'SId'.\n"
          ]
        },
        {
          "output_type": "stream",
          "name": "stdout",
          "text": [
            "Candidatus Delongiibacteriota\n"
          ]
        },
        {
          "output_type": "stream",
          "name": "stderr",
          "text": [
            "ERROR:cobra.io.sbml:'' is not a valid SBML 'SId'.\n"
          ]
        },
        {
          "output_type": "stream",
          "name": "stdout",
          "text": [
            "Candidatus Tectimicrobiota\n"
          ]
        },
        {
          "output_type": "stream",
          "name": "stderr",
          "text": [
            "ERROR:cobra.io.sbml:'' is not a valid SBML 'SId'.\n"
          ]
        },
        {
          "output_type": "stream",
          "name": "stdout",
          "text": [
            "Candidatus Goldiibacteriota\n"
          ]
        },
        {
          "output_type": "stream",
          "name": "stderr",
          "text": [
            "ERROR:cobra.io.sbml:'' is not a valid SBML 'SId'.\n"
          ]
        },
        {
          "output_type": "stream",
          "name": "stdout",
          "text": [
            "Bacteroidota\n",
            "Rhodothermota\n",
            "Candidatus Thermoplasmatota\n"
          ]
        },
        {
          "output_type": "stream",
          "name": "stderr",
          "text": [
            "ERROR:cobra.io.sbml:'' is not a valid SBML 'SId'.\n"
          ]
        },
        {
          "output_type": "stream",
          "name": "stdout",
          "text": [
            "Cyanobacteriota\n",
            "Thermodesulfobacteriota\n",
            "Planctomycetota\n"
          ]
        }
      ],
      "source": [
        "#path to training models\n",
        "\n",
        "model_path =  '/content/drive/MyDrive/Antony/one_per_phylum_models'\n",
        "\n",
        "#output path training data\n",
        "\n",
        "output_path = 'One_per_phylum_training_data.csv'\n",
        "\n",
        "#list of model-ids of draft-models\n",
        "paths  = os.listdir(model_path)\n",
        "model_ids = []\n",
        "for filename in paths:\n",
        "    model_ids.append(filename[:-5])\n",
        "\n",
        "model_reaction_dic = {}\n",
        "rxn = []\n",
        "for file_path, model_id in zip(paths,model_ids):\n",
        "    print(model_id)\n",
        "    model = rc(model = os.path.join(model_path, file_path))\n",
        "    rs = set(model.reactions)\n",
        "    model_reaction_dic[model_id]=rs\n",
        "\n",
        "    #generate a list of all possible reactions\n",
        "    for i in list(rs):\n",
        "         if i not in rxn and i.startswith('rxn_'):\n",
        "             rxn.append(i)\n",
        "\n",
        "n_reactions = len(rxn)\n",
        "\n",
        "reaction_df=pd.DataFrame(index=rxn, columns=model_ids)\n",
        "for key, value in model_reaction_dic.items():\n",
        "    a = []\n",
        "    for i in rxn:\n",
        "        if i in value:\n",
        "            a.append(1)\n",
        "        else:\n",
        "            a.append(0)\n",
        "    reaction_df[key]=a\n",
        "\n",
        "#saving to pandas file\n",
        "reaction_df.to_csv(output_path)\n"
      ]
    },
    {
      "cell_type": "code",
      "execution_count": null,
      "metadata": {
        "id": "y-jk3N1fRO-M",
        "outputId": "41cefa71-46e6-4ff0-a52f-3bdfe2d8d5fa"
      },
      "outputs": [
        {
          "ename": "NameError",
          "evalue": "name 'reaction_df' is not defined",
          "output_type": "error",
          "traceback": [
            "\u001b[0;31m---------------------------------------------------------------------------\u001b[0m",
            "\u001b[0;31mNameError\u001b[0m                                 Traceback (most recent call last)",
            "Cell \u001b[0;32mIn[2], line 1\u001b[0m\n\u001b[0;32m----> 1\u001b[0m \u001b[43mreaction_df\u001b[49m\u001b[38;5;241m.\u001b[39mcolumns[reaction_df\u001b[38;5;241m.\u001b[39msum() \u001b[38;5;241m<\u001b[39m \u001b[38;5;241m200\u001b[39m]\n",
            "\u001b[0;31mNameError\u001b[0m: name 'reaction_df' is not defined"
          ]
        }
      ],
      "source": [
        "reaction_df.columns[reaction_df.sum() < 200]"
      ]
    },
    {
      "cell_type": "code",
      "execution_count": null,
      "metadata": {
        "id": "u8_8qL_2RO-N",
        "outputId": "4d7c4c33-bb52-484a-a538-fd99d88482b5"
      },
      "outputs": [
        {
          "data": {
            "text/plain": [
              "<Axes: ylabel='Frequency'>"
            ]
          },
          "execution_count": 10,
          "metadata": {},
          "output_type": "execute_result"
        },
        {
          "data": {
            "image/png": "[encoded data removed]",
            "text/plain": [
              "<Figure size 640x480 with 1 Axes>"
            ]
          },
          "metadata": {},
          "output_type": "display_data"
        },
        {
          "ename": "NameError",
          "evalue": "name 'reaction_df' is not defined",
          "output_type": "error",
          "traceback": [
            "\u001b[0;31m---------------------------------------------------------------------------\u001b[0m",
            "\u001b[0;31mNameError\u001b[0m                                 Traceback (most recent call last)",
            "Cell \u001b[0;32mIn[3], line 1\u001b[0m\n\u001b[0;32m----> 1\u001b[0m reaction_df\u001b[38;5;241m.\u001b[39msum()\u001b[38;5;241m.\u001b[39mplot\u001b[38;5;241m.\u001b[39mhist()\n",
            "\u001b[0;31mNameError\u001b[0m: name 'reaction_df' is not defined"
          ]
        }
      ],
      "source": [
        "reaction_df.sum().plot.hist()"
      ]
    },
    {
      "cell_type": "markdown",
      "metadata": {
        "id": "TQde0hb4RO-O"
      },
      "source": [
        "### Training the Neural Network\n",
        "\n",
        "Now that we have prepared the training data, we can start training the network. The easiest way to train the network requires providing a pandas dataframe where the index are the reaction keys and the columns the different training examples (see above). You could also provide a numpy array and the reaction keys as a separate list, but as we just created a dataframe we dont have to dot that. The function will return a NN_predictor object to be used immediately, but it will also save it at output_path.\n",
        "\n",
        "\n",
        "NOTE: `with tf.device(\"/cpu:0\"):` forces tensorflow to use you cpu to train, this can actually be faster if your GPU is not great or tensorflow is not setup properly, and the training is really fast anyway."
      ]
    },
    {
      "cell_type": "code",
      "execution_count": null,
      "metadata": {
        "id": "kzp48PRVRO-O",
        "outputId": "17b87565-b627-475a-bd22-6f9221308386"
      },
      "outputs": [
        {
          "name": "stdout",
          "output_type": "stream",
          "text": [
            "Num GPUs Available:  1\n",
            "# WARNING: overwriting savefile\n",
            "using data as labels\n",
            "dataset created\n",
            "training on data with shape: (3060, 2002) with 1493016.0 reactions\n",
            "Model: \"sequential\"\n",
            "_________________________________________________________________\n",
            " Layer (type)                Output Shape              Param #   \n",
            "=================================================================\n",
            " dense (Dense)               (None, 256)               512768    \n",
            "                                                                 \n",
            " dropout (Dropout)           (None, 256)               0         \n",
            "                                                                 \n",
            " dense_1 (Dense)             (None, 2002)              514514    \n",
            "                                                                 \n",
            "=================================================================\n",
            "Total params: 1,027,282\n",
            "Trainable params: 1,027,282\n",
            "Non-trainable params: 0\n",
            "_________________________________________________________________\n",
            "Train on 3060 samples\n"
          ]
        },
        {
          "name": "stderr",
          "output_type": "stream",
          "text": [
            "2025-02-28 17:14:33.191844: I tensorflow/core/platform/cpu_feature_guard.cc:193] This TensorFlow binary is optimized with oneAPI Deep Neural Network Library (oneDNN) to use the following CPU instructions in performance-critical operations:  SSE4.1 SSE4.2 AVX AVX2 FMA\n",
            "To enable them in other operations, rebuild TensorFlow with the appropriate compiler flags.\n",
            "2025-02-28 17:14:33.289937: I tensorflow/core/common_runtime/gpu/gpu_device.cc:1613] Created device /job:localhost/replica:0/task:0/device:GPU:0 with 212 MB memory:  -> device: 0, name: Quadro K620, pci bus id: 0000:03:00.0, compute capability: 5.0\n",
            "2025-02-28 17:14:33.306043: I tensorflow/compiler/mlir/mlir_graph_optimization_pass.cc:357] MLIR V1 optimization pass is not enabled\n",
            "2025-02-28 17:14:33.337534: W tensorflow/c/c_api.cc:291] Operation '{name:'false_negatives_1/Assign' id:111 op device:{requested: '/device:CPU:0', assigned: ''} def:{{{node false_negatives_1/Assign}} = AssignVariableOp[_has_manual_control_dependencies=true, dtype=DT_FLOAT, validate_shape=false, _device=\"/device:CPU:0\"](false_negatives_1, false_negatives_1/Initializer/zeros)}}' was changed by setting attribute after it was run by a session. This mutation will have no effect, and will trigger an error in the future. Either don't modify nodes after running them or create a new session.\n"
          ]
        },
        {
          "name": "stdout",
          "output_type": "stream",
          "text": [
            "Epoch 1/10\n",
            "3060/3060 [==============================] - 1s 192us/sample - loss: 0.0535 - auc: 0.9274 - precision: 0.8837 - recall: 0.5968\n",
            "Epoch 2/10\n",
            "3060/3060 [==============================] - 0s 139us/sample - loss: 0.0263 - auc: 0.9786 - precision: 0.9634 - recall: 0.7837\n",
            "Epoch 3/10\n",
            "3060/3060 [==============================] - 0s 132us/sample - loss: 0.0159 - auc: 0.9899 - precision: 0.9824 - recall: 0.8669\n",
            "Epoch 4/10\n",
            "3060/3060 [==============================] - 0s 131us/sample - loss: 0.0113 - auc: 0.9937 - precision: 0.9884 - recall: 0.9039\n",
            "Epoch 5/10\n",
            "3060/3060 [==============================] - 0s 131us/sample - loss: 0.0089 - auc: 0.9954 - precision: 0.9902 - recall: 0.9249\n",
            "Epoch 6/10\n",
            "3060/3060 [==============================] - 0s 133us/sample - loss: 0.0072 - auc: 0.9964 - precision: 0.9922 - recall: 0.9377\n",
            "Epoch 7/10\n",
            "3060/3060 [==============================] - 0s 129us/sample - loss: 0.0063 - auc: 0.9969 - precision: 0.9929 - recall: 0.9458\n",
            "Epoch 8/10\n",
            "3060/3060 [==============================] - 0s 128us/sample - loss: 0.0057 - auc: 0.9973 - precision: 0.9933 - recall: 0.9516\n",
            "Epoch 9/10\n",
            "3060/3060 [==============================] - 0s 131us/sample - loss: 0.0050 - auc: 0.9976 - precision: 0.9941 - recall: 0.9572\n",
            "Epoch 10/10\n",
            "3060/3060 [==============================] - 0s 130us/sample - loss: 0.0048 - auc: 0.9977 - precision: 0.9941 - recall: 0.9595\n"
          ]
        }
      ],
      "source": [
        "#Load in a our training sample\n",
        "training_data_path = 'One_per_phylum_training_data.csv'\n",
        "training_data = pd.read_csv(training_data_path, index_col=0)\n",
        "\n",
        "#set save path\n",
        "save_path = 'NN_phylum.npz'\n",
        "\n",
        "#Train the network\n",
        "with tf.device(\"/cpu:0\"):\n",
        "    NN_example = NN_Trainer.train(data=training_data, modeltype='ModelSEED',output_path=save_path)"
      ]
    },
    {
      "cell_type": "markdown",
      "metadata": {
        "id": "ThBNDvT9RO-P"
      },
      "source": [
        "The function will return a object of the predictor class (NN_predictor) containing the network, the reaction keys and modeltype. By default the network in this object is not a full tensorflow object but rather an array of the weights and biases of the different layers. It can still be used to make predictions while being less memory intensive by using matrix multiplication:\n",
        "\n",
        "        a = input\n",
        "        for layer in self.network:\n",
        "            a = a.clip(0)\n",
        "            a = ((a @ layer[0]) + layer[1])\n",
        "        prediction =  1 / (1 + np.exp(-a))#sigmoid(a)\n",
        "        \n",
        "Which is build into the NN_Predictor class"
      ]
    },
    {
      "cell_type": "code",
      "execution_count": null,
      "metadata": {
        "id": "eXBCOjgTRO-Q",
        "outputId": "271a65a9-f54b-44fc-ac0f-9c368e6a8eaa"
      },
      "outputs": [
        {
          "name": "stdout",
          "output_type": "stream",
          "text": [
            "The weights of the first layer network: \n",
            "[[-0.01538812  0.06981848  0.07034188 ... -0.03007424 -0.05005101\n",
            "  -0.02919381]\n",
            " [ 0.01873786  0.10625771 -0.11995255 ... -0.12428892  0.01169151\n",
            "  -0.05099649]\n",
            " [ 0.01056467 -0.06460291  0.1211727  ...  0.00564274 -0.01702626\n",
            "   0.04119035]\n",
            " ...\n",
            " [-0.00814654 -0.11140759 -0.05394734 ... -0.08475089 -0.04624046\n",
            "  -0.01779413]\n",
            " [-0.01060792 -0.06138526 -0.01875384 ... -0.07040724  0.03639756\n",
            "  -0.04084341]\n",
            " [ 0.04464658 -0.09518337 -0.02189406 ...  0.01760526  0.00968163\n",
            "   0.00976027]]\n",
            "The bias of the first layer network: \n",
            "[-2.77758129e-02 -9.03043151e-03  7.11603165e-02  4.55942973e-02\n",
            " -2.76750848e-02 -2.77391076e-02  8.81510079e-02  1.87260527e-02\n",
            " -2.74419636e-02 -2.76885573e-02  5.07233366e-02 -2.74157841e-02\n",
            " -2.72578262e-02 -2.34215017e-02 -2.77008265e-02 -2.73742601e-02\n",
            " -2.57713208e-03  3.45533453e-02 -2.64086388e-02 -2.62618233e-02\n",
            "  7.28613362e-02  5.18572517e-03  1.15458950e-01  3.10687367e-02\n",
            "  2.01750416e-02 -2.76776627e-02  1.20294737e-02  3.81789058e-02\n",
            "  6.03542179e-02 -2.58290768e-02 -2.71111261e-02 -2.77644452e-02\n",
            " -2.72280611e-02  5.01620285e-02  9.48035941e-02  2.44509131e-02\n",
            "  5.01494296e-02  2.39092223e-02  5.48786782e-02 -2.76501663e-02\n",
            " -2.75220927e-02 -2.77759414e-02  1.24580003e-01  5.26948497e-02\n",
            "  3.21600512e-02 -2.38638688e-02 -2.74714734e-02 -2.44801641e-02\n",
            " -2.29004938e-02  5.37898242e-02 -4.52418812e-03 -2.77249049e-02\n",
            " -2.07022559e-02 -2.76922863e-02  2.55715251e-01 -2.76407767e-02\n",
            "  6.33285865e-02 -2.62901932e-02 -2.06022356e-02 -1.68700088e-02\n",
            " -2.76447050e-02  4.22247574e-02 -3.94540764e-02 -2.71397382e-02\n",
            " -2.72216555e-02  4.68894430e-02  9.84373987e-02 -2.74300035e-02\n",
            "  1.95489116e-02  4.08999063e-02  8.27526301e-02 -3.14713269e-03\n",
            " -2.72395201e-02 -2.77634691e-02 -5.21550560e-03 -2.27078013e-02\n",
            " -2.77512837e-02  4.48231697e-02 -2.63900086e-02  2.88799293e-02\n",
            " -2.76289321e-02 -2.48540789e-02  1.82594791e-01  6.10899413e-03\n",
            " -2.73750629e-02  1.81038352e-03 -2.76931450e-02  1.20121360e-01\n",
            "  4.92892042e-02  4.62551340e-02  7.04453439e-02  2.04719212e-02\n",
            " -2.73621511e-02 -2.77348813e-02 -2.76795272e-02  8.52912515e-02\n",
            " -1.77752413e-02  3.68992239e-02 -2.75947023e-02  5.72459772e-04\n",
            "  1.87958553e-01  1.17139355e-03 -1.87526620e-03  1.93771999e-02\n",
            " -2.76465248e-02  6.98555261e-02 -2.77268291e-02  1.71554238e-02\n",
            "  2.72773486e-03 -2.74493527e-02  2.81348303e-02 -1.91320777e-02\n",
            "  8.99901986e-02 -2.70802174e-02  3.98668498e-02  3.05973049e-02\n",
            " -1.54919755e-02 -2.77379025e-02  1.90313496e-02  2.34363079e-01\n",
            "  9.51354131e-02  7.32374191e-02  9.17872414e-03 -7.88663607e-03\n",
            "  2.88663786e-02 -2.77256053e-02 -2.47539785e-02 -2.77226586e-02\n",
            "  4.38635722e-02  1.56412557e-01 -2.77595613e-02 -3.32299795e-04\n",
            " -2.77473759e-02 -2.49478947e-02 -2.73171701e-02 -2.74352524e-02\n",
            "  1.07441127e-01  1.09569393e-01  1.67410076e-02  1.82083901e-02\n",
            "  2.46112846e-04  6.77426830e-02 -2.24790350e-02 -1.93447508e-02\n",
            " -2.73777470e-02  3.10270563e-02 -2.75673177e-02 -2.42964458e-02\n",
            " -2.76069492e-02  7.22362027e-02 -2.72101574e-02 -2.77476162e-02\n",
            " -2.73065995e-02 -2.77149938e-02  7.01375604e-02 -2.74262428e-02\n",
            "  4.10653651e-02  7.02566728e-02 -2.74837259e-02 -2.11774372e-02\n",
            "  2.19403021e-02  1.05512738e-01  4.05413397e-02 -2.77380310e-02\n",
            " -2.71209888e-02 -2.74023823e-02 -1.49146384e-02  4.06622067e-02\n",
            " -2.77449172e-02  7.50971586e-02  8.95617232e-02 -2.75955554e-02\n",
            "  7.60766864e-02  4.16790023e-02  1.24282818e-02 -1.93393752e-02\n",
            " -1.88324582e-02 -2.65833978e-02  3.51223797e-02  1.14777666e-02\n",
            "  6.56024963e-02 -2.76095662e-02 -2.76715998e-02 -2.29352191e-02\n",
            " -2.29295213e-02 -2.49838773e-02 -2.77089030e-02  2.26355866e-02\n",
            " -2.45916545e-02 -2.75732931e-02  4.66308519e-02 -2.77930889e-02\n",
            "  3.99879478e-02  2.67857071e-02 -2.78003160e-02 -2.70944443e-02\n",
            "  6.36942824e-03 -2.39136536e-02  5.84924035e-02  1.02021143e-01\n",
            " -2.77837645e-02 -2.47443002e-02 -2.75674947e-02 -2.02736892e-02\n",
            " -2.76336316e-02 -2.77310964e-02  9.88184195e-03 -2.75580473e-02\n",
            " -2.77571939e-02 -2.76681539e-02  3.46759260e-02  1.08610258e-01\n",
            " -2.76326947e-02 -2.57398877e-02  9.82136130e-02  5.82915172e-03\n",
            " -2.75946185e-02  1.11112595e-01  1.18705302e-01  8.52572918e-02\n",
            " -2.77396087e-02 -2.73886733e-02 -2.74902936e-02  8.48446116e-02\n",
            " -2.57095229e-02 -2.58900132e-02 -2.73635108e-02  6.24031313e-02\n",
            "  8.37132633e-02 -1.27567053e-02 -2.78019104e-02 -2.70006619e-02\n",
            " -2.81482027e-03 -1.14699574e-02 -2.76634675e-02 -2.77058091e-02\n",
            "  4.41445485e-02  6.70030192e-02 -2.70935521e-02  8.44427347e-02\n",
            " -2.75624134e-02  1.33460509e-02 -2.68390998e-02 -2.76194848e-02\n",
            "  2.23476425e-01 -7.61423726e-03  4.65419330e-02  2.07942538e-03\n",
            " -2.77892780e-02  8.91759098e-02 -1.22155910e-02 -2.74756290e-02\n",
            " -2.74555199e-02  1.68609526e-02 -2.77110301e-02 -2.76757758e-02]\n",
            "The rxn_keys: \n",
            "['rxn00141_c0' 'rxn08127_c0' 'rxn05466_c0' ... 'rxn02944_c0' 'rxn00835_c0'\n",
            " 'rxn00291_c0']\n",
            "The Modeltype: ModelSEED\n"
          ]
        }
      ],
      "source": [
        "print(\"The weights of the first layer network: \\n{}\".format(NN_example.network[0][0]))\n",
        "print(\"The bias of the first layer network: \\n{}\".format(NN_example.network[0][1]))\n",
        "print(\"The rxn_keys: \\n{}\".format(NN_example.rxn_keys.values))\n",
        "print(\"The Modeltype: {}\".format(NN_example.modeltype))"
      ]
    },
    {
      "cell_type": "markdown",
      "metadata": {
        "id": "HBQT7HlWRO-Q"
      },
      "source": [
        "We can use the network to make predictions:"
      ]
    },
    {
      "cell_type": "code",
      "execution_count": null,
      "metadata": {
        "id": "73jMH-mCRO-R",
        "outputId": "04f5b15f-eb9a-4db9-f52c-aeec2019d7c0"
      },
      "outputs": [
        {
          "name": "stdout",
          "output_type": "stream",
          "text": [
            "Prediction: \n",
            "             Candidatus Methanomethylicota  Nitrospirota  Campylobacterota\n",
            "rxn00141_c0                          1.000         0.999             0.012\n",
            "rxn08127_c0                          0.740         0.014             0.023\n",
            "rxn05466_c0                          0.509         0.892             0.161\n",
            "rxn10309_c0                          0.978         0.996             0.910\n",
            "rxn24607_c0                          0.925         0.000             0.000\n",
            "...                                    ...           ...               ...\n",
            "rxn02296_c0                          0.000         0.000             0.001\n",
            "rxn00914_c0                          0.000         0.000             0.000\n",
            "rxn02944_c0                          0.000         0.000             0.000\n",
            "rxn00835_c0                          0.000         0.000             0.000\n",
            "rxn00291_c0                          0.000         0.000             0.000\n",
            "\n",
            "[2002 rows x 3 columns]\n"
          ]
        }
      ],
      "source": [
        "test_input = training_data.iloc[:,:3]\n",
        "p = NN_example.predict(test_input)\n",
        "print(\"Prediction: \\n{}\".format(np.round(p,3)))"
      ]
    },
    {
      "cell_type": "markdown",
      "metadata": {
        "id": "MpIMzxHORO-R"
      },
      "source": [
        "We can have the gapfiller use the new network to gapfill models using the `trainedNNPath` argument from the gapfill class"
      ]
    },
    {
      "cell_type": "code",
      "execution_count": null,
      "metadata": {
        "id": "PdDyXp8pRO-S",
        "outputId": "10b949ef-08b0-4f7e-9dfd-a79db3b6324b"
      },
      "outputs": [
        {
          "name": "stderr",
          "output_type": "stream",
          "text": [
            "'' is not a valid SBML 'SId'.\n",
            "'' is not a valid SBML 'SId'.\n",
            "'' is not a valid SBML 'SId'.\n"
          ]
        },
        {
          "name": "stdout",
          "output_type": "stream",
          "text": [
            "Gap-filling database =  ModelSEED\n"
          ]
        },
        {
          "name": "stderr",
          "output_type": "stream",
          "text": [
            "No objective coefficients in model. Unclear what should be optimized\n"
          ]
        },
        {
          "name": "stdout",
          "output_type": "stream",
          "text": [
            "#reactions not found in NN-keys:  62 / 726\n",
            "of which are exchanges:  61\n",
            "WARNING: reaction SK_cpd03091_c0 in candidates but not in database, removing from candidates\n",
            "WARNING: reaction SK_cpd02701_c0 in candidates but not in database, removing from candidates\n",
            "WARNING: reaction SK_cpd01042_c0 in candidates but not in database, removing from candidates\n",
            "Warning for adding constraints: zero or small (< 1e-13) coefficients, ignored\n",
            "Flux through biomass reaction is 1.00000000\n",
            "Flux through biomass reaction is 1.00000000\n",
            "Warning for adding constraints: zero or small (< 1e-13) coefficients, ignored\n",
            "\n",
            "\n",
            " condition is currently:  79156 \n",
            "\n",
            "\n",
            "Warning for adding constraints: zero or small (< 1e-13) coefficients, ignored\n",
            "\n",
            "\n",
            " condition is currently:  39578 \n",
            "\n",
            "\n",
            "Warning for adding constraints: zero or small (< 1e-13) coefficients, ignored\n",
            "\n",
            "\n",
            " condition is currently:  19789 \n",
            "\n",
            "\n",
            "Warning for adding constraints: zero or small (< 1e-13) coefficients, ignored\n",
            "\n",
            "\n",
            " condition is currently:  9894 \n",
            "\n",
            "\n",
            "Warning for adding constraints: zero or small (< 1e-13) coefficients, ignored\n",
            "\n",
            "\n",
            " condition is currently:  4947 \n",
            "\n",
            "\n",
            "Warning for adding constraints: zero or small (< 1e-13) coefficients, ignored\n",
            "\n",
            "\n",
            " condition is currently:  2473 \n",
            "\n",
            "\n",
            "Warning for adding constraints: zero or small (< 1e-13) coefficients, ignored\n",
            "\n",
            "\n",
            " condition is currently:  1236 \n",
            "\n",
            "\n",
            "Warning for adding constraints: zero or small (< 1e-13) coefficients, ignored\n",
            "\n",
            "\n",
            " condition is currently:  618 \n",
            "\n",
            "\n",
            "Warning for adding constraints: zero or small (< 1e-13) coefficients, ignored\n",
            "\n",
            "\n",
            " condition is currently:  309 \n",
            "\n",
            "\n",
            "Warning for adding constraints: zero or small (< 1e-13) coefficients, ignored\n",
            "\n",
            "\n",
            " condition is currently:  154 \n",
            "\n",
            "\n",
            "Warning for adding constraints: zero or small (< 1e-13) coefficients, ignored\n",
            "\n",
            "\n",
            " condition is currently:  77 \n",
            "\n",
            "\n",
            "Warning for adding constraints: zero or small (< 1e-13) coefficients, ignored\n",
            "\n",
            "\n",
            " condition is currently:  38 \n",
            "\n",
            "\n",
            "Warning for adding constraints: zero or small (< 1e-13) coefficients, ignored\n",
            "\n",
            "\n",
            " condition is currently:  19 \n",
            "\n",
            "\n",
            "Warning for adding constraints: zero or small (< 1e-13) coefficients, ignored\n",
            "\n",
            "\n",
            " condition is currently:  9 \n",
            "\n",
            "\n",
            "Warning for adding constraints: zero or small (< 1e-13) coefficients, ignored\n",
            "\n",
            "\n",
            " condition is currently:  4 \n",
            "\n",
            "\n",
            "Warning for adding constraints: zero or small (< 1e-13) coefficients, ignored\n",
            "\n",
            "\n",
            " condition is currently:  2 \n",
            "\n",
            "\n",
            "Warning for adding constraints: zero or small (< 1e-13) coefficients, ignored\n",
            "\n",
            "\n",
            " condition is currently:  1 \n",
            "\n",
            "\n",
            "Objective value is 0.085264.\n",
            "Read LP format model from file /tmp/tmpcypjh8wr.lp\n",
            "Reading time = 0.00 seconds\n",
            ": 778 rows, 1600 columns, 7062 nonzeros\n",
            "NN gapfilling added 74 new reactions\n",
            "The NN gapfilled model, comes with 800 reactions and 778 metabolites\n"
          ]
        }
      ],
      "source": [
        "path_to_draft_model = \"Bifidobacterium adolescentis_atcc_15703.sbml\"\n",
        "draft_model = read_sbml_model(path_to_draft_model)\n",
        "\n",
        "gapfill_complete_medium = Gapfill(draftModel = path_to_draft_model, objectiveName = 'bio1', dbType='ModelSEED', trainedNNPath='NN_phylum.npz')\n"
      ]
    },
    {
      "cell_type": "markdown",
      "metadata": {
        "id": "ro8nhzIQRO-S"
      },
      "source": [
        "### For the interested: Changing feature generation parameters\n",
        "\n",
        "Basically you now know how to train networks but there are many additional changes you want to make during training.\n",
        "\n",
        "During training the function will automatically generate the training dataset. You can change several parameters for the generation of the feature:\n",
        "\n",
        "1. You can change the number of times each training model is used (nuplo).\n",
        "2. You can change the range of deletion percentages (min_for to max_for) which will be removed in equal sized steps based on the number of replicates.\n",
        "3. You can weigh the deletion of certain reactions (del_p).\n",
        "4. You can add false reactions (min_con and max_con) in addition to removing during training*\n",
        "\n",
        "*Note: we do not currently use this and it will not work with the masking of input reactions as the mask does not differentiate between contamination and real reactions.\n",
        "\n",
        "In the following example we set nuplo to 300 instead of 30, and we vary deletion between 0.05 and 0.35. We also dont have to keep saving them, so we can set save=False."
      ]
    },
    {
      "cell_type": "code",
      "execution_count": null,
      "metadata": {
        "id": "SQD2m0eGRO-T",
        "outputId": "f44128a6-c868-4b87-e2af-1b90b761b6b8"
      },
      "outputs": [
        {
          "name": "stdout",
          "output_type": "stream",
          "text": [
            "Num GPUs Available:  1\n",
            "using data as labels\n",
            "dataset created\n",
            "training on data with shape: (30600, 2002) with 14526456.0 reactions\n",
            "Model: \"sequential_3\"\n",
            "_________________________________________________________________\n",
            " Layer (type)                Output Shape              Param #   \n",
            "=================================================================\n",
            " dense_6 (Dense)             (None, 256)               512768    \n",
            "                                                                 \n",
            " dropout_3 (Dropout)         (None, 256)               0         \n",
            "                                                                 \n",
            " dense_7 (Dense)             (None, 2002)              514514    \n",
            "                                                                 \n",
            "=================================================================\n",
            "Total params: 1,027,282\n",
            "Trainable params: 1,027,282\n",
            "Non-trainable params: 0\n",
            "_________________________________________________________________\n",
            "Train on 30600 samples\n"
          ]
        },
        {
          "name": "stderr",
          "output_type": "stream",
          "text": [
            "2025-02-28 16:48:00.918968: W tensorflow/c/c_api.cc:291] Operation '{name:'training_6/Adam/dense_7/bias/v/Assign' id:2525 op device:{requested: '/device:CPU:0', assigned: ''} def:{{{node training_6/Adam/dense_7/bias/v/Assign}} = AssignVariableOp[_has_manual_control_dependencies=true, dtype=DT_FLOAT, validate_shape=false, _device=\"/device:CPU:0\"](training_6/Adam/dense_7/bias/v, training_6/Adam/dense_7/bias/v/Initializer/zeros)}}' was changed by setting attribute after it was run by a session. This mutation will have no effect, and will trigger an error in the future. Either don't modify nodes after running them or create a new session.\n"
          ]
        },
        {
          "name": "stdout",
          "output_type": "stream",
          "text": [
            "Epoch 1/10\n",
            "30600/30600 [==============================] - 4s 144us/sample - loss: 0.0142 - auc_3: 0.9945 - precision_3: 0.9804 - recall_3: 0.9068\n",
            "Epoch 2/10\n",
            "30600/30600 [==============================] - 4s 134us/sample - loss: 0.0034 - auc_3: 0.9997 - precision_3: 0.9955 - recall_3: 0.9825\n",
            "Epoch 3/10\n",
            "30600/30600 [==============================] - 4s 147us/sample - loss: 0.0026 - auc_3: 0.9998 - precision_3: 0.9963 - recall_3: 0.9875\n",
            "Epoch 4/10\n",
            "30600/30600 [==============================] - 5s 149us/sample - loss: 0.0023 - auc_3: 0.9999 - precision_3: 0.9967 - recall_3: 0.9896\n",
            "Epoch 5/10\n",
            "30600/30600 [==============================] - 5s 153us/sample - loss: 0.0021 - auc_3: 0.9999 - precision_3: 0.9969 - recall_3: 0.9906\n",
            "Epoch 6/10\n",
            "30600/30600 [==============================] - 4s 139us/sample - loss: 0.0020 - auc_3: 0.9999 - precision_3: 0.9971 - recall_3: 0.9913\n",
            "Epoch 7/10\n",
            "30600/30600 [==============================] - 4s 139us/sample - loss: 0.0019 - auc_3: 0.9999 - precision_3: 0.9972 - recall_3: 0.9916\n",
            "Epoch 8/10\n",
            "30600/30600 [==============================] - 4s 137us/sample - loss: 0.0018 - auc_3: 0.9999 - precision_3: 0.9972 - recall_3: 0.9919\n",
            "Epoch 9/10\n",
            "30600/30600 [==============================] - 4s 137us/sample - loss: 0.0018 - auc_3: 0.9999 - precision_3: 0.9973 - recall_3: 0.9923\n",
            "Epoch 10/10\n",
            "30600/30600 [==============================] - 4s 138us/sample - loss: 0.0017 - auc_3: 0.9999 - precision_3: 0.9974 - recall_3: 0.9924\n"
          ]
        }
      ],
      "source": [
        "with tf.device(\"/cpu:0\"):\n",
        "    network = NN_Trainer.train(data=training_data, nuplo=300, min_for=0.05, max_for=0.35, modeltype='ModelSEED',save=False)"
      ]
    },
    {
      "cell_type": "markdown",
      "metadata": {
        "id": "439rcoTzRO-T"
      },
      "source": [
        "By default the network will asume that your input (the data without deletions) should be what the network tries to predict. Alternatively, you can provide labels (the full set of reactions) for the network to try and predict."
      ]
    },
    {
      "cell_type": "code",
      "execution_count": null,
      "metadata": {
        "id": "K6aoxzeIRO-U"
      },
      "outputs": [],
      "source": [
        "special_labels = training_data.copy()\n",
        "np.random.shuffle(np.asarray(special_labels))\n",
        "special_labels.shape\n",
        "with tf.device(\"/cpu:0\"):\n",
        "    network = NN_Trainer.train(data=training_data, labels=special_labels, modeltype='ModelSEED',save=False)"
      ]
    },
    {
      "cell_type": "markdown",
      "metadata": {
        "id": "LKx7GkUuRO-U"
      },
      "source": [
        "Finally, you can rely on the default parameters to define the network which we optimised for our usecase, but for optimal perfomance on different datasets, you might want to change the hyperparameters (dropout, batch size), the architecture (nnodes, nlayers) or bias of predicted classes (bias0). You can also disable the masking of input positions during loss calculation (maskI=False). You can also provide a validation split which will set apart a part of your input data during training and calculate scores after to validate your network."
      ]
    },
    {
      "cell_type": "code",
      "execution_count": null,
      "metadata": {
        "id": "pWE9ykRGRO-U"
      },
      "outputs": [],
      "source": [
        "with tf.device(\"/cpu:0\"):\n",
        "    network = NN_Trainer.train(data=training_data, dropout=0.2,b_size=42,nnodes = 420, nlayers=3, bias_0=0.42, maskI=False, validation_split=0.2, modeltype='ModelSEED',save=False)"
      ]
    },
    {
      "cell_type": "markdown",
      "metadata": {
        "id": "jNTwOnxfRO-V"
      },
      "source": [
        "### For the extra interested: Tensorflow object\n",
        "\n",
        "By default the function returns a class with the simplified network but you very well might want instead the full Tensorflow network. To do this you can set return_full_network = True, which will change the NN_predictor to contain a Tensorflow network instead, there modeltype and rxn keys work the same. If you want to save this different class you need to change the file extension to .h5.\n",
        "\n",
        "If you set return_history = True it will also return the history of training for optimisation purposes."
      ]
    },
    {
      "cell_type": "code",
      "execution_count": null,
      "metadata": {
        "id": "p0e0PPlaRO-V",
        "outputId": "2b53b3e6-4d64-4cfb-c236-f15dba10ddaf"
      },
      "outputs": [
        {
          "name": "stdout",
          "output_type": "stream",
          "text": [
            "Num GPUs Available:  1\n",
            "# WARNING: overwriting savefile\n",
            "using data as labels\n",
            "dataset created\n",
            "training on data with shape: (3060, 2002) with 1493016.0 reactions\n",
            "Model: \"sequential_2\"\n",
            "_________________________________________________________________\n",
            " Layer (type)                Output Shape              Param #   \n",
            "=================================================================\n",
            " dense_4 (Dense)             (None, 256)               512768    \n",
            "                                                                 \n",
            " dropout_2 (Dropout)         (None, 256)               0         \n",
            "                                                                 \n",
            " dense_5 (Dense)             (None, 2002)              514514    \n",
            "                                                                 \n",
            "=================================================================\n",
            "Total params: 1,027,282\n",
            "Trainable params: 1,027,282\n",
            "Non-trainable params: 0\n",
            "_________________________________________________________________\n",
            "Train on 3060 samples\n"
          ]
        },
        {
          "name": "stderr",
          "output_type": "stream",
          "text": [
            "2025-02-28 17:15:02.391534: W tensorflow/c/c_api.cc:291] Operation '{name:'training_4/Adam/dense_4/bias/m/Assign' id:1823 op device:{requested: '/device:CPU:0', assigned: ''} def:{{{node training_4/Adam/dense_4/bias/m/Assign}} = AssignVariableOp[_has_manual_control_dependencies=true, dtype=DT_FLOAT, validate_shape=false, _device=\"/device:CPU:0\"](training_4/Adam/dense_4/bias/m, training_4/Adam/dense_4/bias/m/Initializer/zeros)}}' was changed by setting attribute after it was run by a session. This mutation will have no effect, and will trigger an error in the future. Either don't modify nodes after running them or create a new session.\n"
          ]
        },
        {
          "name": "stdout",
          "output_type": "stream",
          "text": [
            "Epoch 1/10\n",
            "3060/3060 [==============================] - 1s 194us/sample - loss: 0.0542 - auc_2: 0.9253 - precision_2: 0.8826 - recall_2: 0.5919\n",
            "Epoch 2/10\n",
            "3060/3060 [==============================] - 0s 130us/sample - loss: 0.0271 - auc_2: 0.9780 - precision_2: 0.9611 - recall_2: 0.7778\n",
            "Epoch 3/10\n",
            "3060/3060 [==============================] - 0s 132us/sample - loss: 0.0162 - auc_2: 0.9896 - precision_2: 0.9815 - recall_2: 0.8659\n",
            "Epoch 4/10\n",
            "3060/3060 [==============================] - 0s 132us/sample - loss: 0.0116 - auc_2: 0.9933 - precision_2: 0.9871 - recall_2: 0.9026\n",
            "Epoch 5/10\n",
            "3060/3060 [==============================] - 0s 138us/sample - loss: 0.0092 - auc_2: 0.9949 - precision_2: 0.9897 - recall_2: 0.9223\n",
            "Epoch 6/10\n",
            "3060/3060 [==============================] - 0s 132us/sample - loss: 0.0076 - auc_2: 0.9959 - precision_2: 0.9916 - recall_2: 0.9347\n",
            "Epoch 7/10\n",
            "3060/3060 [==============================] - 0s 134us/sample - loss: 0.0067 - auc_2: 0.9965 - precision_2: 0.9919 - recall_2: 0.9429\n",
            "Epoch 8/10\n",
            "3060/3060 [==============================] - 0s 136us/sample - loss: 0.0056 - auc_2: 0.9970 - precision_2: 0.9938 - recall_2: 0.9504\n",
            "Epoch 9/10\n",
            "3060/3060 [==============================] - 0s 134us/sample - loss: 0.0052 - auc_2: 0.9973 - precision_2: 0.9939 - recall_2: 0.9544\n",
            "Epoch 10/10\n",
            "3060/3060 [==============================] - 0s 137us/sample - loss: 0.0049 - auc_2: 0.9975 - precision_2: 0.9939 - recall_2: 0.9580\n"
          ]
        }
      ],
      "source": [
        "save_path = os.path.join('NN_phylum.h5')\n",
        "with tf.device(\"/cpu:0\"):\n",
        "    NN_tensorflow, history = NN_Trainer.train(data=training_data, return_full_network=True, modeltype='ModelSEED', output_path=save_path, return_history=True)"
      ]
    },
    {
      "cell_type": "markdown",
      "metadata": {
        "id": "LQS12HxyRO-V"
      },
      "source": [
        "The main reason we dont use the full network is to save space and time, we can see that the tensorflow object is four times the size"
      ]
    },
    {
      "cell_type": "code",
      "execution_count": null,
      "metadata": {
        "id": "TPRXTLiYRO-W",
        "outputId": "2c9b9a91-566b-48d3-d457-cc31da49ff13"
      },
      "outputs": [
        {
          "name": "stdout",
          "output_type": "stream",
          "text": [
            "-rw-r--r-- 1 meine binf  16M Feb 28 16:52 NN_phylum.h5\n",
            "-rw-r--r-- 1 meine binf 4.0M Feb 28 16:44 NN_phylum.npz\n"
          ]
        }
      ],
      "source": [
        "!ls NN_phylum* -lh"
      ]
    },
    {
      "cell_type": "code",
      "execution_count": null,
      "metadata": {
        "id": "g7MbfnoyRO-W",
        "outputId": "2196f3d2-dfc8-4e82-b6e5-f6ea6492b709"
      },
      "outputs": [
        {
          "name": "stdout",
          "output_type": "stream",
          "text": [
            "[[9.8170334e-01 1.7333871e-01 6.5492481e-01 ... 3.6391240e-10\n",
            "  6.9073259e-08 1.6098149e-09]\n",
            " [9.9994546e-01 9.1655158e-02 9.6405721e-01 ... 4.3539622e-08\n",
            "  8.1443136e-07 1.3167903e-07]\n",
            " [1.8228114e-02 1.0808345e-03 8.2123652e-02 ... 5.4656033e-07\n",
            "  3.4918975e-07 5.8884945e-07]]\n",
            "Index(['rxn00141_c0', 'rxn08127_c0', 'rxn05466_c0', 'rxn10309_c0',\n",
            "       'rxn24607_c0', 'rxn04791_c0', 'rxn00293_c0', 'rxn00214_c0',\n",
            "       'rxn00187_c0', 'rxn01859_c0',\n",
            "       ...\n",
            "       'rxn05598_c0', 'rxn00015_c0', 'rxn05107_c0', 'rxn00639_c0',\n",
            "       'rxn00971_c0', 'rxn02296_c0', 'rxn00914_c0', 'rxn02944_c0',\n",
            "       'rxn00835_c0', 'rxn00291_c0'],\n",
            "      dtype='object', length=2002)\n",
            "ModelSEED\n",
            "Model: \"sequential_2\"\n",
            "_________________________________________________________________\n",
            " Layer (type)                Output Shape              Param #   \n",
            "=================================================================\n",
            " dense_4 (Dense)             (None, 256)               512768    \n",
            "                                                                 \n",
            " dropout_2 (Dropout)         (None, 256)               0         \n",
            "                                                                 \n",
            " dense_5 (Dense)             (None, 2002)              514514    \n",
            "                                                                 \n",
            "=================================================================\n",
            "Total params: 1,027,282\n",
            "Trainable params: 1,027,282\n",
            "Non-trainable params: 0\n",
            "_________________________________________________________________\n",
            "The summary of the network: \n",
            "None\n",
            "The bias of the first layer network: \n",
            "[ 0.01815793  0.07064313  0.05013622  0.0684651   0.05475084 -0.02588391\n",
            " -0.0275814   0.04190694 -0.02769571 -0.02762688 -0.02635499 -0.02503002\n",
            "  0.01557586 -0.02753398 -0.02763558 -0.02720711  0.0720401  -0.02764473\n",
            "  0.0484386  -0.02745521  0.00122085 -0.02773472  0.01987625 -0.02771166\n",
            "  0.08970906  0.05609338 -0.02766819  0.14008512 -0.02061248  0.20968236\n",
            "  0.0114533  -0.02760136 -0.02672062 -0.02717972  0.05188096 -0.02759032\n",
            " -0.02509985  0.0611853  -0.02741561  0.09187377 -0.02707962 -0.02101226\n",
            " -0.02722905 -0.02772735 -0.02255156 -0.02742963 -0.02702946 -0.02766225\n",
            "  0.08030191 -0.02743077 -0.0277493  -0.02405969 -0.02769066 -0.02768515\n",
            " -0.02731078  0.04896857 -0.02710942 -0.02449331  0.00463613 -0.02757422\n",
            "  0.05928008 -0.02774119 -0.02728453 -0.02773724 -0.0181783   0.07467397\n",
            " -0.0276805  -0.02775479 -0.02769752  0.03513107 -0.02763444  0.04215331\n",
            " -0.02758268 -0.02757109 -0.0277497  -0.02529255 -0.02234014  0.03619839\n",
            " -0.02775817  0.05407421 -0.02656789  0.07127354 -0.02761707 -0.02759793\n",
            " -0.02741589  0.09867167  0.0206307  -0.02764733 -0.02743972  0.10410691\n",
            " -0.02769961  0.01175681  0.05664679 -0.02774352 -0.027285   -0.02650042\n",
            " -0.02772    -0.02768146  0.01416069  0.0003269   0.2089854  -0.02769738\n",
            "  0.10825889 -0.02727845 -0.02761945 -0.02760483 -0.02759963 -0.02500705\n",
            " -0.02424257 -0.02775548 -0.02754399  0.08642625  0.04488741  0.05651483\n",
            "  0.06539203 -0.02772972 -0.02328401 -0.02761088  0.06837971 -0.0211354\n",
            " -0.02448053  0.0746548  -0.02754759  0.15684602  0.0561916   0.01412471\n",
            "  0.07509394 -0.02113652 -0.00524547 -0.01815161 -0.01515496  0.17951587\n",
            " -0.02739236  0.03109415 -0.02773037 -0.02758298  0.12685421  0.05064853\n",
            " -0.02775525  0.08129103 -0.0277288  -0.0275981   0.08690105  0.00253893\n",
            " -0.02773451 -0.02733897  0.07042055 -0.02769986 -0.02435977 -0.02759727\n",
            "  0.06605249 -0.02612045  0.03245089  0.00486574  0.07147846  0.05644086\n",
            "  0.06195621 -0.02739822  0.06761666  0.0313305  -0.0272698  -0.02541217\n",
            "  0.05597181 -0.02768168 -0.02745924 -0.02759151 -0.0272334  -0.02748483\n",
            "  0.01737102 -0.00396035 -0.02778265  0.04838235 -0.02777427 -0.02704953\n",
            "  0.0565589  -0.02693327  0.0523646  -0.02773025  0.08048529  0.11788913\n",
            " -0.0253279  -0.02776913 -0.02742963  0.01040109 -0.02734583 -0.02468633\n",
            "  0.21488304 -0.02575675 -0.02741969  0.05239348  0.03013225 -0.02772364\n",
            "  0.02412434 -0.02097926  0.03534316 -0.02723782 -0.02726413  0.12454862\n",
            " -0.027139    0.08285782  0.06854878  0.08205146 -0.02706153  0.00883721\n",
            "  0.07865615 -0.02772075 -0.0226369   0.07273981 -0.02180496 -0.02014586\n",
            "  0.11154136  0.01468198 -0.02622008  0.07041153 -0.02775304 -0.02746767\n",
            "  0.00179211  0.03244711 -0.02716338 -0.02760849  0.04756847  0.0053173\n",
            " -0.01457355 -0.02756876 -0.02456407 -0.02774116  0.08513859 -0.02770806\n",
            " -0.02748912 -0.00603256 -0.02765691 -0.02768124 -0.02258214  0.00045547\n",
            "  0.05321338 -0.02771157  0.16806895  0.04337243 -0.0275207   0.00471526\n",
            " -0.02763104 -0.02779677  0.03675345  0.06686364  0.04698974  0.01984029\n",
            "  0.20377177  0.02466098 -0.02770625 -0.02729419 -0.02778757 -0.02782026\n",
            " -0.02361488 -0.02764548  0.03999533 -0.02488942]\n",
            "The rxn_keys: \n",
            "Index(['rxn00141_c0', 'rxn08127_c0', 'rxn05466_c0', 'rxn10309_c0',\n",
            "       'rxn24607_c0', 'rxn04791_c0', 'rxn00293_c0', 'rxn00214_c0',\n",
            "       'rxn00187_c0', 'rxn01859_c0',\n",
            "       ...\n",
            "       'rxn05598_c0', 'rxn00015_c0', 'rxn05107_c0', 'rxn00639_c0',\n",
            "       'rxn00971_c0', 'rxn02296_c0', 'rxn00914_c0', 'rxn02944_c0',\n",
            "       'rxn00835_c0', 'rxn00291_c0'],\n",
            "      dtype='object', length=2002)\n",
            "The Modeltype: ModelSEED\n"
          ]
        }
      ],
      "source": [
        "print(NN_tensorflow.network.predict(test_input.T))\n",
        "print(NN_tensorflow.rxn_keys)\n",
        "print(NN_tensorflow.modeltype)\n",
        "\n",
        "print(\"The summary of the network: \\n{}\".format(NN_tensorflow.network.summary()))\n",
        "print(\"The bias of the first layer network: \\n{}\".format(NN_example.network[0][1]))\n",
        "print(\"The rxn_keys: \\n{}\".format(NN_tensorflow.rxn_keys))\n",
        "print(\"The Modeltype: {}\".format(NN_example.modeltype))"
      ]
    },
    {
      "cell_type": "markdown",
      "metadata": {
        "id": "np4CVcuRRO-X"
      },
      "source": [
        "If you want to use the trained network to predict reactions you need to provide it with a binary array of reactions"
      ]
    },
    {
      "cell_type": "code",
      "execution_count": null,
      "metadata": {
        "id": "RRC4A-JORO-X",
        "outputId": "d8490f7a-5d27-42f0-bcad-6c31eba54c62"
      },
      "outputs": [
        {
          "name": "stdout",
          "output_type": "stream",
          "text": [
            "Prediction: \n",
            "[[0.982 0.173 0.655 ... 0.    0.    0.   ]\n",
            " [1.    0.092 0.964 ... 0.    0.    0.   ]\n",
            " [0.018 0.001 0.082 ... 0.    0.    0.   ]]\n"
          ]
        }
      ],
      "source": [
        "test_input = training_data.iloc[:,:3].values\n",
        "p = NN_tensorflow.network.predict(test_input.T)\n",
        "print(\"Prediction: \\n{}\".format(np.round(p,3)))"
      ]
    },
    {
      "cell_type": "markdown",
      "metadata": {
        "id": "DX8JSySuRO-X"
      },
      "source": [
        "With the history you can do whatever you want, for example plot the loss function over the epochs."
      ]
    },
    {
      "cell_type": "code",
      "execution_count": null,
      "metadata": {
        "id": "-YHIgjvVRO-Y",
        "outputId": "87d5164c-2a28-4fa3-abd1-2d627b19e064"
      },
      "outputs": [
        {
          "data": {
            "text/plain": [
              "[<matplotlib.lines.Line2D at 0x7a735a32fd30>]"
            ]
          },
          "execution_count": 15,
          "metadata": {},
          "output_type": "execute_result"
        },
        {
          "data": {
            "image/png": "[encoded data removed]",
            "text/plain": [
              "<Figure size 640x480 with 1 Axes>"
            ]
          },
          "metadata": {},
          "output_type": "display_data"
        }
      ],
      "source": [
        "import matplotlib.pyplot as plt\n",
        "plt.plot(history.history['loss'])"
      ]
    }
  ],
  "metadata": {
    "colab": {
      "provenance": [],
      "include_colab_link": true
    },
    "kernelspec": {
      "display_name": "tfcob",
      "language": "python",
      "name": "tfcob"
    },
    "language_info": {
      "codemirror_mode": {
        "name": "ipython",
        "version": 3
      },
      "file_extension": ".py",
      "mimetype": "text/x-python",
      "name": "python",
      "nbconvert_exporter": "python",
      "pygments_lexer": "ipython3",
      "version": "3.10.14"
    }
  },
  "nbformat": 4,
  "nbformat_minor": 0
}